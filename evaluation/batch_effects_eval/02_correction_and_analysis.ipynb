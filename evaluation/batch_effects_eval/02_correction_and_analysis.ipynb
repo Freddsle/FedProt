{
 "cells": [
  {
   "cell_type": "code",
   "execution_count": 7,
   "metadata": {
    "vscode": {
     "languageId": "r"
    }
   },
   "outputs": [],
   "source": [
    "library(DEqMS)\n",
    "library(patchwork)\n",
    "library(tidyverse)\n",
    "\n",
    "source(\"../../evaluation_utils/evaluation/DE_analysis.R\")\n",
    "source(\"../../evaluation_utils/plots/DE_plots.R\")\n",
    "source(\"../../evaluation_utils/filtering/filtering_normalization.R\")\n",
    "source(\"../../evaluation_utils/plots/eda_plots.R\")"
   ]
  },
  {
   "cell_type": "markdown",
   "metadata": {},
   "source": [
    "# Bacterial"
   ]
  },
  {
   "cell_type": "code",
   "execution_count": 8,
   "metadata": {
    "vscode": {
     "languageId": "r"
    }
   },
   "outputs": [],
   "source": [
    "labs_list = c('lab_A', 'lab_B', 'lab_C', 'lab_D' , 'lab_E')\n",
    "dataset <- \"bacterial\"\n",
    "mode <- \"balanced\"\n",
    "\n",
    "path_to_reports = paste0('/home/yuliya/repos/cosybio/FedProt/data/bacterial_data/', mode, '/')\n",
    "out_path = paste0('/home/yuliya/repos/cosybio/FedProt/evaluation/batch_effects_eval/', dataset, '/')"
   ]
  },
  {
   "cell_type": "code",
   "execution_count": 9,
   "metadata": {
    "vscode": {
     "languageId": "r"
    }
   },
   "outputs": [
    {
     "name": "stderr",
     "output_type": "stream",
     "text": [
      "Warning message in dir.create(paste0(out_path, \"plots\"), recursive = TRUE):\n",
      "“'/home/yuliya/repos/cosybio/FedProt/evaluation/batch_effects_eval/bacterial/plots' already exists”\n",
      "Warning message in dir.create(paste0(out_path, \"results\"), recursive = TRUE):\n",
      "“'/home/yuliya/repos/cosybio/FedProt/evaluation/batch_effects_eval/bacterial/results' already exists”\n"
     ]
    },
    {
     "name": "stdout",
     "output_type": "stream",
     "text": [
      "\n",
      "\n",
      "Dataset:  bacterial \n",
      "\tNumber of proteins:  3059 \n",
      "\tNumber of samples:  118 \n",
      "Filtering by condition - two not-NA per condition\n",
      "\tBefore filtering: 3059 102 \n",
      "\tAfter filtering: 2831 102 \n",
      "Filtering out features that have NAs in all columns\n",
      "\tBefore filtering: 2831 102 \n",
      "\tAfter filtering: 2831 102 \n",
      "Rows after all filters: 2831 \n"
     ]
    },
    {
     "name": "stderr",
     "output_type": "stream",
     "text": [
      "Warning message:\n",
      "“Partial NA coefficients for 559 probe(s)”\n"
     ]
    }
   ],
   "source": [
    "central_intensities = NULL\n",
    "central_counts = NULL\n",
    "central_batch_info = NULL\n",
    "\n",
    "dir.create(paste0(out_path, 'plots'), recursive = TRUE)\n",
    "dir.create(paste0(out_path, 'results'), recursive = TRUE)\n",
    "\n",
    "\n",
    "for (name in labs_list) {\n",
    "    batch_info = read_tsv(paste0(path_to_reports, name, '/metadata_short.tsv'), show_col_types = FALSE)\n",
    "    intensities = read_tsv(paste0(path_to_reports, name, '/protein_groups_matrix.tsv'), show_col_types = FALSE)\n",
    "    counts = read_tsv(paste0(path_to_reports, name, '/protein_counts.tsv'), show_col_types = FALSE)\n",
    "\n",
    "    if(is.null(central_intensities)){\n",
    "        central_intensities = intensities\n",
    "        central_counts = counts\n",
    "        central_batch_info = batch_info\n",
    "    } else {\n",
    "        central_intensities = full_join(central_intensities, intensities, by = 'rowname')\n",
    "        central_counts = full_join(central_counts, counts, by = 'rowname')\n",
    "        central_batch_info = rbind(central_batch_info, batch_info)\n",
    "    }\n",
    "}\n",
    "central_batch_info <- central_batch_info %>%\n",
    "    mutate(lab = as.factor(lab), \n",
    "    condition = as.factor(condition))\n",
    "\n",
    "cat('\\n\\nDataset: ', dataset, \"\\n\")\n",
    "cat('\\tNumber of proteins: ', nrow(central_intensities), '\\n')\n",
    "cat('\\tNumber of samples: ', ncol(central_intensities)-1, '\\n')\n",
    "\n",
    "central_intensities <- central_intensities %>% column_to_rownames('rowname')\n",
    "central_counts <- central_counts %>% column_to_rownames('rowname')\n",
    "\n",
    "central_counts$count <- apply(central_counts, 1, min, na.rm = TRUE)\n",
    "central_counts <- central_counts %>% select(count) %>% as.data.frame()\n",
    "\n",
    "central_intensities <- central_intensities[, central_batch_info$file]\n",
    "central_intensities <- filter_by_condition(central_intensities, central_batch_info, \n",
    "    'file', c('Glu', 'Pyr'), 'condition', min_f=0.8)\n",
    "central_intensities <- filter_na_proteins(central_intensities, central_batch_info, \"file\")\n",
    "\n",
    "cat(\"Rows after all filters:\", nrow(central_intensities), \"\\n\")\n",
    "\n",
    "central_intensities <- log2(central_intensities + 1)\n",
    "\n",
    "# plot before\n",
    "plot_pca_before <- pca_plot(central_intensities, central_batch_info, \n",
    "    title=paste0(\"Bacterial data before correction\"), \n",
    "    quantitative_col_name='file', col_col='condition', shape_col='lab')\n",
    "\n",
    "# batch effects correction\n",
    "design <- model.matrix(~ condition, data = central_batch_info)\n",
    "pg_corrected <- removeBatchEffect(central_intensities, batch=central_batch_info$lab, design=design)\n",
    "\n",
    "plot_pca_after <- pca_plot(pg_corrected, central_batch_info, \n",
    "    title=paste0(\"Bacterial data after correction (removeBatchEffect)\"), \n",
    "    quantitative_col_name='file', col_col='condition', shape_col='lab')\n",
    "\n",
    "layout <- (plot_pca_before | plot_pca_after)\n",
    "ggsave(file = paste0(out_path, \"plots/PCA_plots.svg\"), plot = layout, width = 9.5, height = 6)\n",
    "\n",
    "# DE analysis\n",
    "design <- make_design(central_batch_info, 'condition')\n",
    "contrasts <- makeContrasts(Glu-Pyr, levels = colnames(design))\n",
    "de_results <- run_DE(pg_corrected, central_counts, design, contrasts)\n",
    "de_results <- de_results %>% rownames_to_column('Protein')\n",
    "write.table(\n",
    "    de_results, \n",
    "    file = paste0(out_path, 'results/central_corrected_res.tsv'), \n",
    "    sep = \"\\t\", quote = FALSE, row.names = FALSE\n",
    ")\n",
    "\n",
    "\n",
    "# # On uncorrected\n",
    "# # DE analysis\n",
    "# design <- make_design(central_batch_info, 'condition', \"lab\")\n",
    "# contrasts <- makeContrasts(Glu-Pyr, levels = colnames(design))\n",
    "# de_results <- run_DE(central_intensities, central_counts, design, contrasts)\n",
    "# de_results <- de_results %>% rownames_to_column('Protein')\n",
    "# write.table(\n",
    "#     de_results, \n",
    "#     file = paste0(out_path, 'results/central_res.tsv'), \n",
    "#     sep = \"\\t\", quote = FALSE, row.names = FALSE\n",
    "# )\n",
    "\n",
    "# plot volcano plot\n",
    "plot_result <- volcano_plot(\n",
    "    de_results, paste(dataset, \"central\", \", Glu/Pyr\"),\n",
    "    pval_threshold = 0.05, logfc_threshold = 0.5,\n",
    "    show_names = FALSE\n",
    ")\n",
    "ggsave(file = paste0(out_path, 'plots/central_volcano_plot.svg'), plot = plot_result, width = 8, height = 5)\n"
   ]
  },
  {
   "cell_type": "code",
   "execution_count": 10,
   "metadata": {
    "vscode": {
     "languageId": "r"
    }
   },
   "outputs": [],
   "source": [
    "system(\n",
    "    \"mkdir -p /home/yuliya/repos/cosybio/FedProt/evaluation/batch_effects_eval/bacterial/balanced/results\"\n",
    ")\n",
    "system(\n",
    "\"python /home/yuliya/repos/cosybio/FedProt/evaluation_utils/fedprot_prototype/fedprot_script.py /home/yuliya/repos/cosybio/FedProt/data/bacterial_data/ balanced lab_A,lab_B,lab_C,lab_D,lab_E /home/yuliya/repos/cosybio/FedProt/evaluation/batch_effects_eval/bacterial/\"\n",
    ")\n",
    "system(\n",
    "    \"cp /home/yuliya/repos/cosybio/FedProt/evaluation/batch_effects_eval/bacterial/balanced/results/* /home/yuliya/repos/cosybio/FedProt/evaluation/batch_effects_eval/bacterial/results/\"\n",
    ")\n",
    "system(\n",
    "    \"rm -rf /home/yuliya/repos/cosybio/FedProt/evaluation/batch_effects_eval/bacterial/balanced/\"\n",
    ")"
   ]
  },
  {
   "cell_type": "markdown",
   "metadata": {},
   "source": [
    "# TMT_data"
   ]
  },
  {
   "cell_type": "code",
   "execution_count": 11,
   "metadata": {
    "vscode": {
     "languageId": "r"
    }
   },
   "outputs": [],
   "source": [
    "labs_list = c('Center1', 'Center2', 'Center3')\n",
    "dataset <- \"TMT_data_SHARED\"\n",
    "mode <- \"01_smaller_lib_balanced_PG_MajorPG_SHARED\"\n",
    "\n",
    "path_to_reports = paste0('/home/yuliya/repos/cosybio/FedProt/data/TMT_data/', mode, '/')\n",
    "out_path = paste0('/home/yuliya/repos/cosybio/FedProt/evaluation/batch_effects_eval/', dataset, '/')"
   ]
  },
  {
   "cell_type": "code",
   "execution_count": 12,
   "metadata": {
    "vscode": {
     "languageId": "r"
    }
   },
   "outputs": [
    {
     "name": "stderr",
     "output_type": "stream",
     "text": [
      "Warning message in dir.create(paste0(out_path, \"plots\"), recursive = TRUE):\n",
      "“'/home/yuliya/repos/cosybio/FedProt/evaluation/batch_effects_eval/TMT_data_SHARED/plots' already exists”\n",
      "Warning message in dir.create(paste0(out_path, \"results\"), recursive = TRUE):\n",
      "“'/home/yuliya/repos/cosybio/FedProt/evaluation/batch_effects_eval/TMT_data_SHARED/results' already exists”\n"
     ]
    },
    {
     "name": "stdout",
     "output_type": "stream",
     "text": [
      "Number of samples:  59 \n",
      "\n",
      "\n",
      "Dataset:  TMT_data_SHARED \n",
      "\tNumber of proteins:  628 \n",
      "\tNumber of samples:  65 \n",
      "Rows after filtering 1 count: 583 \n",
      "Filtering out features that have NAs in all columns\n",
      "\tBefore filtering: 583 59 \n",
      "\tAfter filtering: 580 59 \n",
      "Filtering by condition - two not-NA per condition\n",
      "\tBefore filtering: 580 59 \n",
      "\tAfter filtering: 532 59 \n",
      "Rows after all filters: 532 \n",
      "IRS normalization for center:  Center1 \n",
      "Shape of the data:  532 20 \n",
      "Shape of intensities for pool  Pool1 : 532 10 \n",
      "Shape of intensities for pool  Pool2 : 532 10 \n",
      "IRS normalization for center:  Center2 \n",
      "Shape of the data:  532 19 \n",
      "Shape of intensities for pool  Pool3 : 532 9 \n",
      "Shape of intensities for pool  Pool5 : 532 10 \n",
      "IRS normalization for center:  Center3 \n",
      "Shape of the data:  532 20 \n",
      "Shape of intensities for pool  Pool4 : 532 10 \n",
      "Shape of intensities for pool  Pool6 : 532 10 \n",
      "Data after IRS normalization:  532 59  rows\n"
     ]
    },
    {
     "name": "stderr",
     "output_type": "stream",
     "text": [
      "Warning message:\n",
      "“Partial NA coefficients for 209 probe(s)”\n"
     ]
    },
    {
     "name": "stdout",
     "output_type": "stream",
     "text": [
      "Data after correction:  532 59  rows\n"
     ]
    }
   ],
   "source": [
    "dir.create(paste0(out_path, 'plots'), recursive = TRUE)\n",
    "dir.create(paste0(out_path, 'results'), recursive = TRUE)\n",
    "\n",
    "central_intensities = NULL\n",
    "central_counts = NULL\n",
    "\n",
    "central_batch_info = read_tsv(paste0(path_to_reports, 'metadata.tsv'), show_col_types = FALSE)\n",
    "central_batch_info <- central_batch_info[central_batch_info$Group != \"Common Reference\" & central_batch_info$Group != \"in_silico\", ]\n",
    "central_batch_info <- central_batch_info  %>%\n",
    "    filter(Group != \"Common Reference\") %>%\n",
    "    # rename Pool1 to Pool7 in the Pool column\n",
    "    # mutate(Pool = ifelse(Pool == \"Pool1\", \"Pool7\", Pool)) %>%\n",
    "    mutate(\n",
    "        file = Quantitative.column.name,\n",
    "        lab = as.factor(Center),\n",
    "        condition = factor(Group, levels = c('heathy', 'FSGS')),\n",
    "        Pool = as.factor(Pool)\n",
    "    )\n",
    "cat(\"Number of samples: \", nrow(central_batch_info), \"\\n\")\n",
    "\n",
    "for (name in labs_list) {\n",
    "    intensities = read_tsv(paste0(path_to_reports, name, '/pg_intensities.tsv'), show_col_types = FALSE)\n",
    "    counts = read_tsv(paste0(path_to_reports, name, '/pg_counts.tsv'), show_col_types = FALSE)\n",
    "\n",
    "    if(is.null(central_intensities)){\n",
    "        central_intensities = intensities\n",
    "        central_counts = counts\n",
    "    } else {\n",
    "        central_intensities = full_join(central_intensities, intensities, by = 'Majority.protein.IDs')\n",
    "        central_counts = full_join(central_counts, counts, by = 'Majority.protein.IDs')\n",
    "    }\n",
    "}\n",
    "\n",
    "cat('\\n\\nDataset: ', dataset, \"\\n\")\n",
    "cat('\\tNumber of proteins: ', nrow(central_intensities), '\\n')\n",
    "cat('\\tNumber of samples: ', ncol(central_intensities)-1, '\\n')\n",
    "\n",
    "# transform and order\n",
    "central_intensities <- central_intensities %>% column_to_rownames('Majority.protein.IDs')\n",
    "central_counts <- central_counts %>% column_to_rownames('Majority.protein.IDs')\n",
    "\n",
    "central_intensities <- central_intensities[, central_batch_info$file]\n",
    "\n",
    "# select minimal count across column for each protein (with na.rm = TRUE)\n",
    "central_counts$count <- apply(central_counts, 1, min, na.rm = TRUE)\n",
    "central_counts <- central_counts %>% select(count)\n",
    "# Filter - remove proteins with 1 count \n",
    "central_intensities <- central_intensities[rownames(central_intensities) %in% rownames(filter(central_counts, count > 1)), ]\n",
    "cat(\"Rows after filtering 1 count:\", nrow(central_intensities), \"\\n\")\n",
    "\n",
    "########################################################################################\n",
    "# filter by condition\n",
    "central_intensities <- filter_na_proteins(central_intensities, central_batch_info, \"file\")\n",
    "central_intensities <- filter_by_condition(central_intensities, central_batch_info, \n",
    "        'file', c('heathy', 'FSGS'), 'condition', min_f=0.8)\n",
    "\n",
    "cat(\"Rows after all filters:\", nrow(central_intensities), \"\\n\")\n",
    "\n",
    "# NORMALIZATION for plots\n",
    "# median normalization\n",
    "central_intensities <- medianNorm(central_intensities) %>% as.data.frame()\n",
    "central_intensities <- central_intensities[sort(rownames(central_intensities)), central_batch_info$file]\n",
    "\n",
    "# IRS normalization\n",
    "corrected_intensities <- NULL\n",
    "\n",
    "for(center in labs_list){\n",
    "    cat(\"IRS normalization for center: \", center, \"\\n\")\n",
    "    center_intensities <- central_intensities[, central_batch_info$lab == center]\n",
    "    center_batch_info <- central_batch_info[central_batch_info$lab == center, ]\n",
    "    cat(\"Shape of the data: \", dim(center_intensities), \"\\n\")\n",
    "\n",
    "    irs_res <- irsNorm_in_silico_single_center(\n",
    "        center_intensities, center_batch_info,\n",
    "        pool_col = \"Pool\",\n",
    "        column_name = \"file\",\n",
    "        center = name,\n",
    "        aggregation_method = \"average\",\n",
    "        add_refs = FALSE\n",
    "    )\n",
    "    # add to the central data\n",
    "    if(is.null(corrected_intensities)){\n",
    "        corrected_intensities = irs_res$corrected_data\n",
    "    } else {\n",
    "        corrected_intensities = cbind(corrected_intensities, irs_res$corrected_data)\n",
    "    }\n",
    "}\n",
    "\n",
    "cat(\"Data after IRS normalization: \", dim(corrected_intensities), \" rows\\n\")\n",
    "central_intensities <- corrected_intensities[, central_batch_info$file]\n",
    "central_intensities <- log2(central_intensities + 1)\n",
    "\n",
    "central_batch_info <- central_batch_info %>% mutate(\n",
    "    condition = factor(condition, levels = c('heathy', 'FSGS')),\n",
    "    Pool = as.factor(Pool)\n",
    "  )\n",
    "\n",
    "# plot before\n",
    "plot_pca_before <- pca_plot(central_intensities, central_batch_info, \n",
    "    title=paste0(\"Human plasma data before correction\"), \n",
    "    quantitative_col_name='file', col_col='condition', shape_col='Pool')\n",
    "\n",
    "# batch effects correction\n",
    "design <- model.matrix(~condition, data = central_batch_info)\n",
    "central_intensities <- central_intensities[, central_batch_info$file]\n",
    "pg_corrected <- removeBatchEffect(central_intensities, batch=central_batch_info$Pool, design=design) %>% as.data.frame()\n",
    "# pg_corrected <- removeBatchEffect(central_intensities, batch=central_batch_info$Pool) %>% as.data.frame()\n",
    "\n",
    "cat(\"Data after correction: \", dim(pg_corrected), \" rows\\n\")\n",
    "plot_pca_after <- pca_plot(pg_corrected, central_batch_info, \n",
    "    title=paste0(\"Human plasma data after (removeBatchEffect)\"), \n",
    "    quantitative_col_name='file', col_col='condition', shape_col='Pool')\n",
    "\n",
    "layout <- (plot_pca_before | plot_pca_after)\n",
    "ggsave(file = paste0(out_path, \"plots/PCA_plots.svg\"), plot = layout, width = 9.5, height = 6)\n",
    "\n",
    "\n",
    "# DE analysis\n",
    "design <- make_design(central_batch_info, 'condition')\n",
    "contrasts <- makeContrasts(heathy-FSGS, levels = colnames(design))\n",
    "de_results <- run_DE(pg_corrected, central_counts, design, contrasts)\n",
    "de_results <- de_results %>% rownames_to_column('Protein')\n",
    "write.table(\n",
    "    de_results, \n",
    "    file = paste0(out_path, 'results/central_corrected_res.tsv'), \n",
    "    sep = \"\\t\", quote = FALSE, row.names = FALSE\n",
    ")\n",
    "\n",
    "# # (central uncorrected)\n",
    "# # DE analysis\n",
    "# design <- make_design(central_batch_info, 'condition', \"Pool\")\n",
    "# contrasts <- makeContrasts(heathy-FSGS, levels = colnames(design))\n",
    "# de_results <- run_DE(central_intensities, central_counts, design, contrasts)\n",
    "# de_results <- de_results %>% rownames_to_column('Protein')\n",
    "# write.table(\n",
    "#     de_results, \n",
    "#     file = paste0(out_path, 'results/central_res.tsv'), \n",
    "#     sep = \"\\t\", quote = FALSE, row.names = FALSE\n",
    "# )\n",
    "   \n",
    "   \n",
    "\n",
    "# plot volcano plot\n",
    "plot_result <- volcano_plot(\n",
    "    de_results, paste(dataset, \"central\", \", healthy/FSGS\"),\n",
    "    pval_threshold = 0.05, logfc_threshold = 0.25,\n",
    "    show_names = FALSE\n",
    ")\n",
    "ggsave(file = paste0(out_path, 'plots/central_volcano_plot.svg'), plot = plot_result, width = 8.5, height = 5)\n"
   ]
  },
  {
   "cell_type": "code",
   "execution_count": 13,
   "metadata": {
    "vscode": {
     "languageId": "r"
    }
   },
   "outputs": [],
   "source": [
    "system(\n",
    "    \"mkdir -p /home/yuliya/repos/cosybio/FedProt/evaluation/batch_effects_eval/TMT_data_SHARED/01_smaller_lib_balanced_PG_MajorPG_SHARED/results\"\n",
    ")\n",
    "system(\n",
    "\"python /home/yuliya/repos/cosybio/FedProt/evaluation_utils/fedprot_prototype/fedprot_script.py /home/yuliya/repos/cosybio/FedProt/data/TMT_data/  01_smaller_lib_balanced_PG_MajorPG_SHARED Center1,Center2,Center3 /home/yuliya/repos/cosybio/FedProt/evaluation/batch_effects_eval/TMT_data_SHARED/\"\n",
    ")\n",
    "system(\n",
    "    \"cp /home/yuliya/repos/cosybio/FedProt/evaluation/batch_effects_eval/TMT_data_SHARED/01_smaller_lib_balanced_PG_MajorPG_SHARED/results/* /home/yuliya/repos/cosybio/FedProt/evaluation/batch_effects_eval/TMT_data_SHARED/results/\"\n",
    ")\n",
    "system(\n",
    "    \"rm -rf /home/yuliya/repos/cosybio/FedProt/evaluation/batch_effects_eval/TMT_data_SHARED/01_smaller_lib_balanced_PG_MajorPG_SHARED/\"\n",
    ")"
   ]
  },
  {
   "cell_type": "code",
   "execution_count": null,
   "metadata": {
    "vscode": {
     "languageId": "r"
    }
   },
   "outputs": [],
   "source": []
  }
 ],
 "metadata": {
  "kernelspec": {
   "display_name": "R",
   "language": "R",
   "name": "ir"
  },
  "language_info": {
   "codemirror_mode": "r",
   "file_extension": ".r",
   "mimetype": "text/x-r-source",
   "name": "R",
   "pygments_lexer": "r",
   "version": "4.2.0"
  }
 },
 "nbformat": 4,
 "nbformat_minor": 2
}
