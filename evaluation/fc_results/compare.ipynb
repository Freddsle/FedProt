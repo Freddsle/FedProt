{
 "cells": [
  {
   "cell_type": "markdown",
   "metadata": {},
   "source": [
    "# Run FeatureCloud"
   ]
  },
  {
   "cell_type": "code",
   "execution_count": 53,
   "metadata": {},
   "outputs": [
    {
     "name": "stderr",
     "output_type": "stream",
     "text": [
      "2024-08-11 14:16:37,464 - INFO - Controller stopped successfully.\n",
      "2024-08-11 14:16:37,465 - INFO - Starting the FeatureCloud controller with the data directory /home/yuliya/repos/cosybio/FedProt\n",
      "Downloading...: 3it [00:00, 12421.43it/s]\n",
      "2024-08-11 14:16:38,825 - INFO - Controller started successfully.\n",
      "2024-08-11 14:16:38,826 - INFO - Waiting 3s to ensure the controller is properly running...\n",
      "2024-08-11 14:16:41,827 - INFO - Controller started in 4 seconds.\n",
      "2024-08-11 14:16:41,828 - INFO - Starting experiment:\n",
      "Experiment(clients=['/home/yuliya/repos/cosybio/FedProt/data/bacterial_data/balanced/lab_A', '/home/yuliya/repos/cosybio/FedProt/data/bacterial_data/balanced/lab_B', '/home/yuliya/repos/cosybio/FedProt/data/bacterial_data/balanced/lab_C', '/home/yuliya/repos/cosybio/FedProt/data/bacterial_data/balanced/lab_D', '/home/yuliya/repos/cosybio/FedProt/data/bacterial_data/balanced/lab_E'])\n",
      "2024-08-11 14:17:06,270 - INFO - Test started successfully!\n",
      "2024-08-11 14:17:54,331 - INFO - Test finished successfully!\n",
      "2024-08-11 14:17:54,332 - INFO - Experiment finished successfully! Result files: ['results_test_1_client_0_fc_fedprot_941712513.zip', 'results_test_1_client_1_fc_fedprot_829567493.zip', 'results_test_1_client_2_fc_fedprot_431204114.zip', 'results_test_1_client_3_fc_fedprot_109861991.zip', 'results_test_1_client_4_fc_fedprot_682252290.zip']\n",
      "2024-08-11 14:18:04,333 - INFO - Starting postprocessing...\n",
      "2024-08-11 14:18:04,334 - INFO - Results will be saved in: /home/yuliya/repos/cosybio/FedProt/evaluation/fc_results\n",
      "2024-08-11 14:18:04,349 - INFO - Experiment finished in 1 min 22 sec.\n",
      "2024-08-11 14:18:04,350 - INFO - _______________¡SUCCESSFUL_EXPERIMENT!_______________\n",
      "2024-08-11 14:18:04,350 - INFO - Starting experiment:\n",
      "Experiment(clients=['/home/yuliya/repos/cosybio/FedProt/data/TMT_data/01_smaller_lib_balanced_PG_MajorPG/Center1', '/home/yuliya/repos/cosybio/FedProt/data/TMT_data/01_smaller_lib_balanced_PG_MajorPG/Center2', '/home/yuliya/repos/cosybio/FedProt/data/TMT_data/01_smaller_lib_balanced_PG_MajorPG/Center3'])\n",
      "2024-08-11 14:18:19,406 - INFO - Test started successfully!\n",
      "2024-08-11 14:19:07,063 - INFO - Test finished successfully!\n",
      "2024-08-11 14:19:07,064 - INFO - Experiment finished successfully! Result files: ['results_test_2_client_0_fc_fedprot_348060552.zip', 'results_test_2_client_1_fc_fedprot_241666909.zip', 'results_test_2_client_2_fc_fedprot_822510058.zip']\n",
      "2024-08-11 14:19:17,065 - INFO - Starting postprocessing...\n",
      "2024-08-11 14:19:17,066 - INFO - Results will be saved in: /home/yuliya/repos/cosybio/FedProt/evaluation/fc_results\n",
      "2024-08-11 14:19:17,072 - INFO - Experiment finished in 1 min 12 sec.\n",
      "2024-08-11 14:19:17,075 - INFO - _______________¡SUCCESSFUL_EXPERIMENT!_______________\n",
      "2024-08-11 14:19:17,076 - INFO - Starting experiment:\n",
      "Experiment(clients=['/home/yuliya/repos/cosybio/FedProt/data/simulated_data/balanced/lab1', '/home/yuliya/repos/cosybio/FedProt/data/simulated_data/balanced/lab2', '/home/yuliya/repos/cosybio/FedProt/data/simulated_data/balanced/lab3'])\n",
      "2024-08-11 14:19:33,133 - INFO - Test started successfully!\n",
      "2024-08-11 14:20:25,919 - INFO - Test finished successfully!\n",
      "2024-08-11 14:20:25,921 - INFO - Experiment finished successfully! Result files: ['results_test_3_client_0_fc_fedprot_611833107.zip', 'results_test_3_client_1_fc_fedprot_444220916.zip', 'results_test_3_client_2_fc_fedprot_532425093.zip']\n",
      "2024-08-11 14:20:35,921 - INFO - Starting postprocessing...\n",
      "2024-08-11 14:20:35,923 - INFO - Results will be saved in: /home/yuliya/repos/cosybio/FedProt/evaluation/fc_results\n",
      "2024-08-11 14:20:35,940 - INFO - Experiment finished in 1 min 18 sec.\n",
      "2024-08-11 14:20:35,941 - INFO - _______________¡SUCCESSFUL_EXPERIMENT!_______________\n",
      "2024-08-11 14:20:35,941 - INFO - Starting experiment:\n",
      "Experiment(clients=['/home/yuliya/repos/cosybio/FedProt/data/simulated_data/mild_imbalanced/lab1', '/home/yuliya/repos/cosybio/FedProt/data/simulated_data/mild_imbalanced/lab2', '/home/yuliya/repos/cosybio/FedProt/data/simulated_data/mild_imbalanced/lab3'])\n",
      "2024-08-11 14:20:50,937 - INFO - Test started successfully!\n",
      "2024-08-11 14:21:45,166 - INFO - Test finished successfully!\n",
      "2024-08-11 14:21:45,167 - INFO - Experiment finished successfully! Result files: ['results_test_4_client_0_fc_fedprot_889548916.zip', 'results_test_4_client_1_fc_fedprot_566627978.zip', 'results_test_4_client_2_fc_fedprot_323326851.zip']\n",
      "2024-08-11 14:21:55,168 - INFO - Starting postprocessing...\n",
      "2024-08-11 14:21:55,170 - INFO - Results will be saved in: /home/yuliya/repos/cosybio/FedProt/evaluation/fc_results\n",
      "2024-08-11 14:21:55,189 - INFO - Experiment finished in 1 min 19 sec.\n",
      "2024-08-11 14:21:55,190 - INFO - _______________¡SUCCESSFUL_EXPERIMENT!_______________\n",
      "2024-08-11 14:21:55,192 - INFO - Starting experiment:\n",
      "Experiment(clients=['/home/yuliya/repos/cosybio/FedProt/data/simulated_data/imbalanced/lab1', '/home/yuliya/repos/cosybio/FedProt/data/simulated_data/imbalanced/lab2', '/home/yuliya/repos/cosybio/FedProt/data/simulated_data/imbalanced/lab3'])\n",
      "2024-08-11 14:22:13,861 - INFO - Test started successfully!\n",
      "2024-08-11 14:23:07,800 - INFO - Test finished successfully!\n",
      "2024-08-11 14:23:07,801 - INFO - Experiment finished successfully! Result files: ['results_test_5_client_0_fc_fedprot_544373042.zip', 'results_test_5_client_1_fc_fedprot_441831186.zip', 'results_test_5_client_2_fc_fedprot_605736908.zip']\n",
      "2024-08-11 14:23:17,802 - INFO - Starting postprocessing...\n",
      "2024-08-11 14:23:17,803 - INFO - Results will be saved in: /home/yuliya/repos/cosybio/FedProt/evaluation/fc_results\n",
      "2024-08-11 14:23:17,823 - INFO - Experiment finished in 1 min 22 sec.\n",
      "2024-08-11 14:23:17,824 - INFO - _______________¡SUCCESSFUL_EXPERIMENT!_______________\n"
     ]
    }
   ],
   "source": [
    "%run ../../evaluation_utils/evaluation/run_fc_tests.py"
   ]
  },
  {
   "cell_type": "markdown",
   "metadata": {},
   "source": [
    "# Run central:"
   ]
  },
  {
   "cell_type": "markdown",
   "metadata": {},
   "source": [
    "WARNING: \n",
    "make sure to have the cohorts order in the same order as in the log of the run_fc_tests.py script  \n",
    "it is possible to check the order of the cohorts in the log file on the FC test logs, locally or on the https://featurecloud.ai/development/test/1.\n",
    "\n",
    "Clients in the header of logs - are alphabetically ordered, but for test id order is used.  \n",
    "\n",
    "Note: the first client (lab_A, lab1, Center1) is moved to the beginning of the list regardless of the order.  \n",
    "\n",
    "in most cases only order of bacterial dataset has to be changed."
   ]
  },
  {
   "cell_type": "code",
   "execution_count": 54,
   "metadata": {},
   "outputs": [
    {
     "name": "stderr",
     "output_type": "stream",
     "text": [
      "Loading required package: ggplot2\n",
      "Loading required package: matrixStats\n",
      "Loading required package: limma\n",
      "── Attaching core tidyverse packages ──────────────────────── tidyverse 2.0.0 ──\n",
      "✔ dplyr     1.1.4     ✔ readr     2.1.5\n",
      "✔ forcats   1.0.0     ✔ stringr   1.5.1\n",
      "✔ lubridate 1.9.3     ✔ tibble    3.2.1\n",
      "✔ purrr     1.0.2     ✔ tidyr     1.3.1\n",
      "── Conflicts ────────────────────────────────────────── tidyverse_conflicts() ──\n",
      "✖ dplyr::count()  masks matrixStats::count()\n",
      "✖ dplyr::filter() masks stats::filter()\n",
      "✖ dplyr::lag()    masks stats::lag()\n",
      "ℹ Use the conflicted package (<http://conflicted.r-lib.org/>) to force all conflicts to become errors\n",
      "\n",
      "Attaching package: ‘data.table’\n",
      "\n",
      "The following objects are masked from ‘package:lubridate’:\n",
      "\n",
      "    hour, isoweek, mday, minute, month, quarter, second, wday, week,\n",
      "    yday, year\n",
      "\n",
      "The following objects are masked from ‘package:dplyr’:\n",
      "\n",
      "    between, first, last\n",
      "\n",
      "The following object is masked from ‘package:purrr’:\n",
      "\n",
      "    transpose\n",
      "\n",
      "\n",
      "Attaching package: ‘foreach’\n",
      "\n",
      "The following objects are masked from ‘package:purrr’:\n",
      "\n",
      "    accumulate, when\n",
      "\n"
     ]
    },
    {
     "name": "stdout",
     "output_type": "stream",
     "text": [
      "Dataset:  lab_A \n",
      "\tNumber of proteins:  2549 \n",
      "\tNumber of samples:  24 \n",
      "\n",
      "Dataset:  lab_E \n",
      "\tNumber of proteins:  2644 \n",
      "\tNumber of samples:  48 \n",
      "\n",
      "Dataset:  lab_D \n",
      "\tNumber of proteins:  2889 \n",
      "\tNumber of samples:  72 \n",
      "\n",
      "Dataset:  lab_C \n",
      "\tNumber of proteins:  2990 \n",
      "\tNumber of samples:  95 \n",
      "\n",
      "Dataset:  lab_B \n",
      "\tNumber of proteins:  3059 \n",
      "\tNumber of samples:  118 \n",
      "\n",
      "Levels of condition:  Glu Pyr \n",
      "Levels of lab:  lab_A lab_E lab_D lab_C lab_B \n",
      "Filtering by condition - two not-NA per condition\n",
      "\tBefore filtering: 3059 102 \n",
      "\tAfter filtering: 2831 102 \n",
      "Filtering out features that have NAs in all columns\n",
      "\tBefore filtering: 2831 102 \n",
      "\tAfter filtering: 2831 102 \n",
      "Rows after all filters: 2831 \n"
     ]
    },
    {
     "name": "stderr",
     "output_type": "stream",
     "text": [
      "Warning message:\n",
      "Partial NA coefficients for 559 probe(s) \n"
     ]
    },
    {
     "name": "stdout",
     "output_type": "stream",
     "text": [
      "Number of samples:  59 \n",
      "Dataset:  Center3 \n",
      "\tNumber of proteins:  628 \n",
      "\tNumber of samples:  65 \n",
      "\n",
      "Rows after filtering 1 count: 583 \n",
      "Filtering out features that have NAs in all columns\n",
      "\tBefore filtering: 583 59 \n",
      "\tAfter filtering: 580 59 \n",
      "Filtering by condition - two not-NA per condition\n",
      "\tBefore filtering: 580 59 \n",
      "\tAfter filtering: 532 59 \n",
      "Rows after all filters: 532 \n",
      "IRS normalization for center:  Center1 \n",
      "Shape of the data:  532 20 \n",
      "Shape of intensities for pool  Pool1 : 532 10 \n",
      "Shape of intensities for pool  Pool2 : 532 10 \n",
      "IRS normalization for center:  Center2 \n",
      "Shape of the data:  532 19 \n",
      "Shape of intensities for pool  Pool3 : 532 9 \n",
      "Shape of intensities for pool  Pool5 : 532 10 \n",
      "IRS normalization for center:  Center3 \n",
      "Shape of the data:  532 20 \n",
      "Shape of intensities for pool  Pool4 : 532 10 \n",
      "Shape of intensities for pool  Pool6 : 532 10 \n",
      "Number of samples for analysis:  59 \n",
      "Number of proteins for analysis:  532 \n"
     ]
    },
    {
     "name": "stderr",
     "output_type": "stream",
     "text": [
      "Warning message:\n",
      "Partial NA coefficients for 209 probe(s) \n"
     ]
    },
    {
     "name": "stdout",
     "output_type": "stream",
     "text": [
      "Filtering out features that have NAs in all columns\n",
      "\tBefore filtering: 6000 600 \n",
      "\tAfter filtering: 6000 600 \n",
      "Filtering by condition - two not-NA per condition\n",
      "\tBefore filtering: 6000 600 \n",
      "\tAfter filtering: 6000 600 \n",
      "Count information is not available\n",
      "Using P.Value and adj.P.Val as sca.P.Value and sca.adj.pval\n",
      "Filtering out features that have NAs in all columns\n",
      "\tBefore filtering: 6000 600 \n",
      "\tAfter filtering: 6000 600 \n",
      "Filtering by condition - two not-NA per condition\n",
      "\tBefore filtering: 6000 600 \n",
      "\tAfter filtering: 6000 600 \n",
      "Count information is not available\n",
      "Using P.Value and adj.P.Val as sca.P.Value and sca.adj.pval\n",
      "Filtering out features that have NAs in all columns\n",
      "\tBefore filtering: 6000 600 \n",
      "\tAfter filtering: 6000 600 \n",
      "Filtering by condition - two not-NA per condition\n",
      "\tBefore filtering: 6000 600 \n",
      "\tAfter filtering: 6000 600 \n",
      "Count information is not available\n",
      "Using P.Value and adj.P.Val as sca.P.Value and sca.adj.pval\n"
     ]
    }
   ],
   "source": [
    "%%bash\n",
    "# run R script \n",
    "\n",
    "Rscript central_run.R \"lab_A,lab_E,lab_D,lab_C,lab_B\" \"Center1,Center2,Center3\" \"lab1,lab2,lab3\""
   ]
  },
  {
   "cell_type": "markdown",
   "metadata": {},
   "source": [
    "# Compare:"
   ]
  },
  {
   "cell_type": "code",
   "execution_count": 55,
   "metadata": {},
   "outputs": [],
   "source": [
    "import pandas as pd\n",
    "import numpy as np\n",
    "\n",
    "def read_tsv(file_path):\n",
    "    return pd.read_csv(file_path, sep='\\t', index_col=0)\n",
    "\n",
    "\n",
    "def align_dataframes(df1, df2):\n",
    "    # Align columns\n",
    "    common_columns = df1.columns.intersection(df2.columns)\n",
    "    df1 = df1[common_columns].sort_index().sort_index(axis=1)\n",
    "    df2 = df2[common_columns].sort_index().sort_index(axis=1)\n",
    "    \n",
    "    # Align rows\n",
    "    common_index = df1.index.intersection(df2.index)\n",
    "    df1 = df1.loc[common_index]\n",
    "    df2 = df2.loc[common_index]\n",
    "    \n",
    "    return df1, df2\n",
    "\n",
    "def compute_statistics(differences):\n",
    "    min_diff = np.min(differences)\n",
    "    mean_diff = np.mean(differences)\n",
    "    max_diff = np.max(differences)\n",
    "    return min_diff, mean_diff, max_diff"
   ]
  },
  {
   "cell_type": "code",
   "execution_count": 56,
   "metadata": {},
   "outputs": [],
   "source": [
    "def calculate_differences(file1, file2):\n",
    "    df1 = read_tsv(file1)\n",
    "    df2 = read_tsv(file2)\n",
    "        \n",
    "    # # we want to compare only logFC columns\n",
    "    # df1 = df1.filter(like='logFC')\n",
    "    # df2 = df2.filter(like='logFC')\n",
    "\n",
    "    # P.Value columns- if sca.adj.pval - compare only this column, if it does not exist, compare adj.P.Val\n",
    "    if 'sca.adj.pval' in df2.columns:\n",
    "        df1 = df1.filter(like='sca.adj.pval')\n",
    "        df2 = df2.filter(like='sca.adj.pval')\n",
    "        print('sca.adj.pval')\n",
    "    else:\n",
    "        df1 = df1.filter(like='adj.P.Val')\n",
    "        df2 = df2.filter(like='adj.P.Val')\n",
    "        print('adj.P.Val')\n",
    "                         \n",
    "    \n",
    "    if df1.shape != df2.shape:\n",
    "        print(f\"Shape of {file1}: {df1.shape}\")\n",
    "        print(f\"Shape of {file2}: {df2.shape}\")\n",
    "        raise ValueError(\"Files do not have the same dimensions after alignment.\")\n",
    "\n",
    "\n",
    "    aligned_df1, aligned_df2 = align_dataframes(df1, df2)\n",
    "    differences = np.abs(aligned_df1.values - aligned_df2.values)\n",
    "    return differences\n"
   ]
  },
  {
   "cell_type": "code",
   "execution_count": 57,
   "metadata": {},
   "outputs": [
    {
     "name": "stdout",
     "output_type": "stream",
     "text": [
      "sca.adj.pval\n",
      "sca.adj.pval\n",
      "adj.P.Val\n",
      "adj.P.Val\n",
      "adj.P.Val\n",
      "Results for DEP_bacterial_CENTRAL.tsv and DEP_bacterial_FEDERATED.tsv\n",
      "min     0.000000e+00\n",
      "mean    1.815409e-14\n",
      "max     8.625323e-13\n",
      "dtype: float64\n",
      "Results for DEP_TMT_CENTRAL.tsv and DEP_TMT_FEDERATED.tsv\n",
      "min     0.000000e+00\n",
      "mean    3.292986e-14\n",
      "max     5.742073e-13\n",
      "dtype: float64\n",
      "Results for DEP_simulBal_CENTRAL.tsv and DEP_simulBal_FEDERATED.tsv\n",
      "min     0.000000e+00\n",
      "mean    4.419973e-15\n",
      "max     6.461498e-14\n",
      "dtype: float64\n",
      "Results for DEP_simulMildImbal_CENTRAL.tsv and DEP_simulMildImbal_FEDERATED.tsv\n",
      "min     0.000000e+00\n",
      "mean    9.322888e-15\n",
      "max     8.482104e-14\n",
      "dtype: float64\n",
      "Results for DEP_simuImb_CENTRAL.tsv and DEP_simuImb_FEDERATED.tsv\n",
      "min     0.000000e+00\n",
      "mean    2.466595e-14\n",
      "max     4.886092e-13\n",
      "dtype: float64\n"
     ]
    }
   ],
   "source": [
    "file_pairs = [\n",
    "    (\"DEP_bacterial_CENTRAL.tsv\", \"DEP_bacterial_FEDERATED.tsv\"),\n",
    "    (\"DEP_TMT_CENTRAL.tsv\", \"DEP_TMT_FEDERATED.tsv\"),    \n",
    "    (\"DEP_simulBal_CENTRAL.tsv\", \"DEP_simulBal_FEDERATED.tsv\"),\n",
    "    (\"DEP_simulMildImbal_CENTRAL.tsv\", \"DEP_simulMildImbal_FEDERATED.tsv\"),\n",
    "    (\"DEP_simuImb_CENTRAL.tsv\", \"DEP_simuImb_FEDERATED.tsv\"),\n",
    "]\n",
    "\n",
    "results = {}\n",
    "for file1, file2 in file_pairs:\n",
    "    try:\n",
    "        differences = calculate_differences(file1, file2)\n",
    "        min_diff, mean_diff, max_diff = compute_statistics(differences)\n",
    "        results[(file1, file2)] = {\n",
    "            'min': min_diff,\n",
    "            'mean': mean_diff,\n",
    "            'max': max_diff\n",
    "        }\n",
    "    except Exception as e:\n",
    "        results[(file1, file2)] = str(e)\n",
    "\n",
    "for pair, stats in results.items():\n",
    "    # format the stats as a table\n",
    "    if isinstance(stats, dict):\n",
    "        stats = pd.Series(stats)\n",
    "    print(f\"Results for {pair[0]} and {pair[1]}\")\n",
    "    print(stats)"
   ]
  },
  {
   "cell_type": "code",
   "execution_count": null,
   "metadata": {},
   "outputs": [],
   "source": []
  },
  {
   "cell_type": "code",
   "execution_count": null,
   "metadata": {},
   "outputs": [],
   "source": []
  }
 ],
 "metadata": {
  "kernelspec": {
   "display_name": "fedprot",
   "language": "python",
   "name": "python3"
  },
  "language_info": {
   "codemirror_mode": {
    "name": "ipython",
    "version": 3
   },
   "file_extension": ".py",
   "mimetype": "text/x-python",
   "name": "python",
   "nbconvert_exporter": "python",
   "pygments_lexer": "ipython3",
   "version": "3.11.9"
  }
 },
 "nbformat": 4,
 "nbformat_minor": 2
}
