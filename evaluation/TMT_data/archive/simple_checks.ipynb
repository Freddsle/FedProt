{
 "cells": [
  {
   "cell_type": "code",
   "execution_count": 2,
   "metadata": {
    "vscode": {
     "languageId": "r"
    }
   },
   "outputs": [
    {
     "name": "stderr",
     "output_type": "stream",
     "text": [
      "Warning message:\n",
      "“package ‘tidyverse’ was built under R version 4.2.2”\n",
      "Warning message:\n",
      "“package ‘ggplot2’ was built under R version 4.2.3”\n",
      "Warning message:\n",
      "“package ‘tibble’ was built under R version 4.2.3”\n",
      "Warning message:\n",
      "“package ‘tidyr’ was built under R version 4.2.2”\n",
      "Warning message:\n",
      "“package ‘readr’ was built under R version 4.2.2”\n",
      "Warning message:\n",
      "“package ‘purrr’ was built under R version 4.2.3”\n",
      "Warning message:\n",
      "“package ‘dplyr’ was built under R version 4.2.3”\n",
      "Warning message:\n",
      "“package ‘stringr’ was built under R version 4.2.3”\n",
      "Warning message:\n",
      "“package ‘forcats’ was built under R version 4.2.2”\n",
      "Warning message:\n",
      "“package ‘lubridate’ was built under R version 4.2.2”\n",
      "── \u001b[1mAttaching core tidyverse packages\u001b[22m ──────────────────────── tidyverse 2.0.0 ──\n",
      "\u001b[32m✔\u001b[39m \u001b[34mdplyr    \u001b[39m 1.1.2     \u001b[32m✔\u001b[39m \u001b[34mreadr    \u001b[39m 2.1.4\n",
      "\u001b[32m✔\u001b[39m \u001b[34mforcats  \u001b[39m 1.0.0     \u001b[32m✔\u001b[39m \u001b[34mstringr  \u001b[39m 1.5.0\n",
      "\u001b[32m✔\u001b[39m \u001b[34mggplot2  \u001b[39m 3.4.2     \u001b[32m✔\u001b[39m \u001b[34mtibble   \u001b[39m 3.2.1\n",
      "\u001b[32m✔\u001b[39m \u001b[34mlubridate\u001b[39m 1.9.2     \u001b[32m✔\u001b[39m \u001b[34mtidyr    \u001b[39m 1.3.0\n",
      "\u001b[32m✔\u001b[39m \u001b[34mpurrr    \u001b[39m 1.0.1     \n",
      "── \u001b[1mConflicts\u001b[22m ────────────────────────────────────────── tidyverse_conflicts() ──\n",
      "\u001b[31m✖\u001b[39m \u001b[34mdplyr\u001b[39m::\u001b[32mfilter()\u001b[39m masks \u001b[34mstats\u001b[39m::filter()\n",
      "\u001b[31m✖\u001b[39m \u001b[34mdplyr\u001b[39m::\u001b[32mlag()\u001b[39m    masks \u001b[34mstats\u001b[39m::lag()\n",
      "\u001b[36mℹ\u001b[39m Use the conflicted package (\u001b[3m\u001b[34m<http://conflicted.r-lib.org/>\u001b[39m\u001b[23m) to force all conflicts to become errors\n",
      "Warning message:\n",
      "“package ‘cowplot’ was built under R version 4.2.3”\n",
      "\n",
      "Attaching package: ‘cowplot’\n",
      "\n",
      "\n",
      "The following object is masked from ‘package:lubridate’:\n",
      "\n",
      "    stamp\n",
      "\n",
      "\n",
      "Warning message:\n",
      "“package ‘UpSetR’ was built under R version 4.2.3”\n"
     ]
    }
   ],
   "source": [
    "library(tidyverse)\n",
    "library(cowplot)\n",
    "library(UpSetR)"
   ]
  },
  {
   "cell_type": "markdown",
   "metadata": {},
   "source": [
    "# Check if peptides lists in peptides and PG reports are the same"
   ]
  },
  {
   "cell_type": "code",
   "execution_count": 3,
   "metadata": {
    "vscode": {
     "languageId": "r"
    }
   },
   "outputs": [
    {
     "data": {
      "text/html": [
       "<table class=\"dataframe\">\n",
       "<caption>A data.frame: 3 × 6</caption>\n",
       "<thead>\n",
       "\t<tr><th></th><th scope=col>Quantitative.column.name</th><th scope=col>Pool</th><th scope=col>Reporter.ion</th><th scope=col>Patient</th><th scope=col>Group</th><th scope=col>Center</th></tr>\n",
       "\t<tr><th></th><th scope=col>&lt;chr&gt;</th><th scope=col>&lt;chr&gt;</th><th scope=col>&lt;chr&gt;</th><th scope=col>&lt;chr&gt;</th><th scope=col>&lt;chr&gt;</th><th scope=col>&lt;chr&gt;</th></tr>\n",
       "</thead>\n",
       "<tbody>\n",
       "\t<tr><th scope=row>Reporter.intensity.corrected.1.Pool1</th><td>P_1.RIC_1</td><td>Pool1</td><td>126 </td><td>Common Reference</td><td>Common Reference</td><td>Center1</td></tr>\n",
       "\t<tr><th scope=row>Reporter.intensity.corrected.2.Pool1</th><td>P_1.RIC_2</td><td>Pool1</td><td>127N</td><td>heathy1         </td><td>heathy          </td><td>Center1</td></tr>\n",
       "\t<tr><th scope=row>Reporter.intensity.corrected.3.Pool1</th><td>P_1.RIC_3</td><td>Pool1</td><td>127C</td><td>FSGS1           </td><td>FSGS            </td><td>Center1</td></tr>\n",
       "</tbody>\n",
       "</table>\n"
      ],
      "text/latex": [
       "A data.frame: 3 × 6\n",
       "\\begin{tabular}{r|llllll}\n",
       "  & Quantitative.column.name & Pool & Reporter.ion & Patient & Group & Center\\\\\n",
       "  & <chr> & <chr> & <chr> & <chr> & <chr> & <chr>\\\\\n",
       "\\hline\n",
       "\tReporter.intensity.corrected.1.Pool1 & P\\_1.RIC\\_1 & Pool1 & 126  & Common Reference & Common Reference & Center1\\\\\n",
       "\tReporter.intensity.corrected.2.Pool1 & P\\_1.RIC\\_2 & Pool1 & 127N & heathy1          & heathy           & Center1\\\\\n",
       "\tReporter.intensity.corrected.3.Pool1 & P\\_1.RIC\\_3 & Pool1 & 127C & FSGS1            & FSGS             & Center1\\\\\n",
       "\\end{tabular}\n"
      ],
      "text/markdown": [
       "\n",
       "A data.frame: 3 × 6\n",
       "\n",
       "| <!--/--> | Quantitative.column.name &lt;chr&gt; | Pool &lt;chr&gt; | Reporter.ion &lt;chr&gt; | Patient &lt;chr&gt; | Group &lt;chr&gt; | Center &lt;chr&gt; |\n",
       "|---|---|---|---|---|---|---|\n",
       "| Reporter.intensity.corrected.1.Pool1 | P_1.RIC_1 | Pool1 | 126  | Common Reference | Common Reference | Center1 |\n",
       "| Reporter.intensity.corrected.2.Pool1 | P_1.RIC_2 | Pool1 | 127N | heathy1          | heathy           | Center1 |\n",
       "| Reporter.intensity.corrected.3.Pool1 | P_1.RIC_3 | Pool1 | 127C | FSGS1            | FSGS             | Center1 |\n",
       "\n"
      ],
      "text/plain": [
       "                                     Quantitative.column.name Pool \n",
       "Reporter.intensity.corrected.1.Pool1 P_1.RIC_1                Pool1\n",
       "Reporter.intensity.corrected.2.Pool1 P_1.RIC_2                Pool1\n",
       "Reporter.intensity.corrected.3.Pool1 P_1.RIC_3                Pool1\n",
       "                                     Reporter.ion Patient         \n",
       "Reporter.intensity.corrected.1.Pool1 126          Common Reference\n",
       "Reporter.intensity.corrected.2.Pool1 127N         heathy1         \n",
       "Reporter.intensity.corrected.3.Pool1 127C         FSGS1           \n",
       "                                     Group            Center \n",
       "Reporter.intensity.corrected.1.Pool1 Common Reference Center1\n",
       "Reporter.intensity.corrected.2.Pool1 heathy           Center1\n",
       "Reporter.intensity.corrected.3.Pool1 FSGS             Center1"
      ]
     },
     "metadata": {},
     "output_type": "display_data"
    },
    {
     "data": {
      "text/html": [
       "<style>\n",
       ".list-inline {list-style: none; margin:0; padding: 0}\n",
       ".list-inline>li {display: inline-block}\n",
       ".list-inline>li:not(:last-child)::after {content: \"\\00b7\"; padding: 0 .5ex}\n",
       "</style>\n",
       "<ol class=list-inline><li>65</li><li>6</li></ol>\n"
      ],
      "text/latex": [
       "\\begin{enumerate*}\n",
       "\\item 65\n",
       "\\item 6\n",
       "\\end{enumerate*}\n"
      ],
      "text/markdown": [
       "1. 65\n",
       "2. 6\n",
       "\n",
       "\n"
      ],
      "text/plain": [
       "[1] 65  6"
      ]
     },
     "metadata": {},
     "output_type": "display_data"
    }
   ],
   "source": [
    "metadata <- read.table(\"/home/yuliya/repos/cosybio/FedProt/data/TMT_data/raw_MaxQuant_reports/Metadata_CosyBio.tsv\",\n",
    "                       header = TRUE, sep = \"\\t\", stringsAsFactors = FALSE)\n",
    "                       \n",
    "metadata <- metadata %>%\n",
    "            mutate(Quantitative.column.name = gsub(\" \", \".\", Quantitative.column.name))\n",
    "\n",
    "rownames(metadata) <- metadata$Quantitative.column.name\n",
    "metadata <- metadata %>%\n",
    "            mutate(Quantitative.column.name = gsub(\".Pool\", \".P_\", gsub(\"Reporter.intensity.corrected.\", \"RIC_\", Quantitative.column.name)))\n",
    "\n",
    "\n",
    "# remove the outlier\n",
    "metadata <- metadata %>%\n",
    "            filter(Quantitative.column.name != \"RIC_3.P_3\")\n",
    "\n",
    "\n",
    "# rename the columns - put the .P_[1-9]+ after dot before and the rest after (e.g. RIC_1.P_1 -> P_1.RIC_1)\n",
    "metadata <- metadata %>%\n",
    "            mutate(Quantitative.column.name = gsub(\"RIC_([0-9]+).P_([0-9]+)\", \"P_\\\\2.RIC_\\\\1\", Quantitative.column.name))\n",
    "\n",
    "\n",
    "\n",
    "head(metadata, 3)\n",
    "dim(metadata)"
   ]
  },
  {
   "cell_type": "code",
   "execution_count": 8,
   "metadata": {
    "vscode": {
     "languageId": "r"
    }
   },
   "outputs": [
    {
     "data": {
      "text/html": [
       "<style>\n",
       ".list-inline {list-style: none; margin:0; padding: 0}\n",
       ".list-inline>li {display: inline-block}\n",
       ".list-inline>li:not(:last-child)::after {content: \"\\00b7\"; padding: 0 .5ex}\n",
       "</style>\n",
       "<ol class=list-inline><li>768</li><li>288</li></ol>\n"
      ],
      "text/latex": [
       "\\begin{enumerate*}\n",
       "\\item 768\n",
       "\\item 288\n",
       "\\end{enumerate*}\n"
      ],
      "text/markdown": [
       "1. 768\n",
       "2. 288\n",
       "\n",
       "\n"
      ],
      "text/plain": [
       "[1] 768 288"
      ]
     },
     "metadata": {},
     "output_type": "display_data"
    },
    {
     "data": {
      "text/html": [
       "<style>\n",
       ".list-inline {list-style: none; margin:0; padding: 0}\n",
       ".list-inline>li {display: inline-block}\n",
       ".list-inline>li:not(:last-child)::after {content: \"\\00b7\"; padding: 0 .5ex}\n",
       "</style>\n",
       "<ol class=list-inline><li>768</li><li>67</li></ol>\n"
      ],
      "text/latex": [
       "\\begin{enumerate*}\n",
       "\\item 768\n",
       "\\item 67\n",
       "\\end{enumerate*}\n"
      ],
      "text/markdown": [
       "1. 768\n",
       "2. 67\n",
       "\n",
       "\n"
      ],
      "text/plain": [
       "[1] 768  67"
      ]
     },
     "metadata": {},
     "output_type": "display_data"
    },
    {
     "data": {
      "text/html": [
       "<table class=\"dataframe\">\n",
       "<caption>A data.frame: 2 × 67</caption>\n",
       "<thead>\n",
       "\t<tr><th></th><th scope=col>Majority.protein.IDs</th><th scope=col>Peptide.sequences</th><th scope=col>Reporter.intensity.corrected.1.Pool1</th><th scope=col>Reporter.intensity.corrected.2.Pool1</th><th scope=col>Reporter.intensity.corrected.3.Pool1</th><th scope=col>Reporter.intensity.corrected.4.Pool1</th><th scope=col>Reporter.intensity.corrected.5.Pool1</th><th scope=col>Reporter.intensity.corrected.6.Pool1</th><th scope=col>Reporter.intensity.corrected.7.Pool1</th><th scope=col>Reporter.intensity.corrected.8.Pool1</th><th scope=col>⋯</th><th scope=col>Reporter.intensity.corrected.2.Pool6</th><th scope=col>Reporter.intensity.corrected.3.Pool6</th><th scope=col>Reporter.intensity.corrected.4.Pool6</th><th scope=col>Reporter.intensity.corrected.5.Pool6</th><th scope=col>Reporter.intensity.corrected.6.Pool6</th><th scope=col>Reporter.intensity.corrected.7.Pool6</th><th scope=col>Reporter.intensity.corrected.8.Pool6</th><th scope=col>Reporter.intensity.corrected.9.Pool6</th><th scope=col>Reporter.intensity.corrected.10.Pool6</th><th scope=col>Reporter.intensity.corrected.11.Pool6</th></tr>\n",
       "\t<tr><th></th><th scope=col>&lt;chr&gt;</th><th scope=col>&lt;chr&gt;</th><th scope=col>&lt;dbl&gt;</th><th scope=col>&lt;dbl&gt;</th><th scope=col>&lt;dbl&gt;</th><th scope=col>&lt;dbl&gt;</th><th scope=col>&lt;dbl&gt;</th><th scope=col>&lt;dbl&gt;</th><th scope=col>&lt;dbl&gt;</th><th scope=col>&lt;dbl&gt;</th><th scope=col>⋯</th><th scope=col>&lt;dbl&gt;</th><th scope=col>&lt;dbl&gt;</th><th scope=col>&lt;dbl&gt;</th><th scope=col>&lt;dbl&gt;</th><th scope=col>&lt;dbl&gt;</th><th scope=col>&lt;dbl&gt;</th><th scope=col>&lt;dbl&gt;</th><th scope=col>&lt;dbl&gt;</th><th scope=col>&lt;dbl&gt;</th><th scope=col>&lt;dbl&gt;</th></tr>\n",
       "</thead>\n",
       "<tbody>\n",
       "\t<tr><th scope=row>1</th><td>Q9UBX1;A0A7I2V4A8;A0A7I2V411;A0A7I2V3X1;A0A7I2V2K3;H0YD65;A0A7I2V5Q1;A0A7I2V3M3;A0A7I2V5B9;A0A024R5G9;A0A7I2V5F8;A0A7I2YQB3;A0A7I2V3E7;A0A7I2V3L9;A0A7I2YQW3;H0YE42;A0A7I2YQH8;A0A7I2V313;A0A7I2V3V9</td><td>GTAQYGVTK;SDVPFWAIK                                                                                                                                                                                                                                                                                                                                                                                                           </td><td>     NA</td><td>     NA</td><td>     NA</td><td>    NA</td><td>     NA</td><td>    NA</td><td>     NA</td><td>    NA</td><td>⋯</td><td>    29912</td><td>   34282</td><td>   25089</td><td>   22957</td><td>   25641</td><td>   28272</td><td>   24008</td><td>    25484</td><td>   27244</td><td>   20172</td></tr>\n",
       "\t<tr><th scope=row>2</th><td>A0A024R6N5;A0A0G2JRN3                                                                                                                                                                               </td><td>AVLTIDEK;DTEEEDFHVDQATTVK;FLEDVKK;FLENEDR;FLENEDRR;FNKPFVFLMIEQNTK;GKWERPFEVK;GTEAAGAMFLEAIPMSIPPEVK;KLSSWVLLMK;KQINDYVEK;LGMFNIQHCK;LQHLENELTHDIITK;LSITGTYDLK;LSSWVLLMK;LVDKFLEDVK;LVDKFLEDVKK;LYHSEAFTVNFGDTEEAK;LYHSEAFTVNFGDTEEAKK;QINDYVEK;RLGMFNIQHCK;RSASLHLPK;SASLHLPK;SPLFMGK;SVLGQLGITK;TDTSHHDQDHPTFNK;TLNQPDSQLQLTTGNGLFLSEGLK;VFSNGADLSGVTEEAPLK;VFSNGADLSGVTEEAPLKLSK;VVNPTQK;WERPFEVK;WERPFEVKDTEEEDFHVDQATTVK</td><td>1473500</td><td>1115300</td><td>1125400</td><td>864250</td><td>1185900</td><td>930860</td><td>1215100</td><td>997710</td><td>⋯</td><td>105030000</td><td>15974000</td><td>36315000</td><td>18864000</td><td>24457000</td><td>18069000</td><td>27761000</td><td>196130000</td><td>17399000</td><td>16822000</td></tr>\n",
       "</tbody>\n",
       "</table>\n"
      ],
      "text/latex": [
       "A data.frame: 2 × 67\n",
       "\\begin{tabular}{r|lllllllllllllllllllll}\n",
       "  & Majority.protein.IDs & Peptide.sequences & Reporter.intensity.corrected.1.Pool1 & Reporter.intensity.corrected.2.Pool1 & Reporter.intensity.corrected.3.Pool1 & Reporter.intensity.corrected.4.Pool1 & Reporter.intensity.corrected.5.Pool1 & Reporter.intensity.corrected.6.Pool1 & Reporter.intensity.corrected.7.Pool1 & Reporter.intensity.corrected.8.Pool1 & ⋯ & Reporter.intensity.corrected.2.Pool6 & Reporter.intensity.corrected.3.Pool6 & Reporter.intensity.corrected.4.Pool6 & Reporter.intensity.corrected.5.Pool6 & Reporter.intensity.corrected.6.Pool6 & Reporter.intensity.corrected.7.Pool6 & Reporter.intensity.corrected.8.Pool6 & Reporter.intensity.corrected.9.Pool6 & Reporter.intensity.corrected.10.Pool6 & Reporter.intensity.corrected.11.Pool6\\\\\n",
       "  & <chr> & <chr> & <dbl> & <dbl> & <dbl> & <dbl> & <dbl> & <dbl> & <dbl> & <dbl> & ⋯ & <dbl> & <dbl> & <dbl> & <dbl> & <dbl> & <dbl> & <dbl> & <dbl> & <dbl> & <dbl>\\\\\n",
       "\\hline\n",
       "\t1 & Q9UBX1;A0A7I2V4A8;A0A7I2V411;A0A7I2V3X1;A0A7I2V2K3;H0YD65;A0A7I2V5Q1;A0A7I2V3M3;A0A7I2V5B9;A0A024R5G9;A0A7I2V5F8;A0A7I2YQB3;A0A7I2V3E7;A0A7I2V3L9;A0A7I2YQW3;H0YE42;A0A7I2YQH8;A0A7I2V313;A0A7I2V3V9 & GTAQYGVTK;SDVPFWAIK                                                                                                                                                                                                                                                                                                                                                                                                            &      NA &      NA &      NA &     NA &      NA &     NA &      NA &     NA & ⋯ &     29912 &    34282 &    25089 &    22957 &    25641 &    28272 &    24008 &     25484 &    27244 &    20172\\\\\n",
       "\t2 & A0A024R6N5;A0A0G2JRN3                                                                                                                                                                                & AVLTIDEK;DTEEEDFHVDQATTVK;FLEDVKK;FLENEDR;FLENEDRR;FNKPFVFLMIEQNTK;GKWERPFEVK;GTEAAGAMFLEAIPMSIPPEVK;KLSSWVLLMK;KQINDYVEK;LGMFNIQHCK;LQHLENELTHDIITK;LSITGTYDLK;LSSWVLLMK;LVDKFLEDVK;LVDKFLEDVKK;LYHSEAFTVNFGDTEEAK;LYHSEAFTVNFGDTEEAKK;QINDYVEK;RLGMFNIQHCK;RSASLHLPK;SASLHLPK;SPLFMGK;SVLGQLGITK;TDTSHHDQDHPTFNK;TLNQPDSQLQLTTGNGLFLSEGLK;VFSNGADLSGVTEEAPLK;VFSNGADLSGVTEEAPLKLSK;VVNPTQK;WERPFEVK;WERPFEVKDTEEEDFHVDQATTVK & 1473500 & 1115300 & 1125400 & 864250 & 1185900 & 930860 & 1215100 & 997710 & ⋯ & 105030000 & 15974000 & 36315000 & 18864000 & 24457000 & 18069000 & 27761000 & 196130000 & 17399000 & 16822000\\\\\n",
       "\\end{tabular}\n"
      ],
      "text/markdown": [
       "\n",
       "A data.frame: 2 × 67\n",
       "\n",
       "| <!--/--> | Majority.protein.IDs &lt;chr&gt; | Peptide.sequences &lt;chr&gt; | Reporter.intensity.corrected.1.Pool1 &lt;dbl&gt; | Reporter.intensity.corrected.2.Pool1 &lt;dbl&gt; | Reporter.intensity.corrected.3.Pool1 &lt;dbl&gt; | Reporter.intensity.corrected.4.Pool1 &lt;dbl&gt; | Reporter.intensity.corrected.5.Pool1 &lt;dbl&gt; | Reporter.intensity.corrected.6.Pool1 &lt;dbl&gt; | Reporter.intensity.corrected.7.Pool1 &lt;dbl&gt; | Reporter.intensity.corrected.8.Pool1 &lt;dbl&gt; | ⋯ ⋯ | Reporter.intensity.corrected.2.Pool6 &lt;dbl&gt; | Reporter.intensity.corrected.3.Pool6 &lt;dbl&gt; | Reporter.intensity.corrected.4.Pool6 &lt;dbl&gt; | Reporter.intensity.corrected.5.Pool6 &lt;dbl&gt; | Reporter.intensity.corrected.6.Pool6 &lt;dbl&gt; | Reporter.intensity.corrected.7.Pool6 &lt;dbl&gt; | Reporter.intensity.corrected.8.Pool6 &lt;dbl&gt; | Reporter.intensity.corrected.9.Pool6 &lt;dbl&gt; | Reporter.intensity.corrected.10.Pool6 &lt;dbl&gt; | Reporter.intensity.corrected.11.Pool6 &lt;dbl&gt; |\n",
       "|---|---|---|---|---|---|---|---|---|---|---|---|---|---|---|---|---|---|---|---|---|---|\n",
       "| 1 | Q9UBX1;A0A7I2V4A8;A0A7I2V411;A0A7I2V3X1;A0A7I2V2K3;H0YD65;A0A7I2V5Q1;A0A7I2V3M3;A0A7I2V5B9;A0A024R5G9;A0A7I2V5F8;A0A7I2YQB3;A0A7I2V3E7;A0A7I2V3L9;A0A7I2YQW3;H0YE42;A0A7I2YQH8;A0A7I2V313;A0A7I2V3V9 | GTAQYGVTK;SDVPFWAIK                                                                                                                                                                                                                                                                                                                                                                                                            |      NA |      NA |      NA |     NA |      NA |     NA |      NA |     NA | ⋯ |     29912 |    34282 |    25089 |    22957 |    25641 |    28272 |    24008 |     25484 |    27244 |    20172 |\n",
       "| 2 | A0A024R6N5;A0A0G2JRN3                                                                                                                                                                                | AVLTIDEK;DTEEEDFHVDQATTVK;FLEDVKK;FLENEDR;FLENEDRR;FNKPFVFLMIEQNTK;GKWERPFEVK;GTEAAGAMFLEAIPMSIPPEVK;KLSSWVLLMK;KQINDYVEK;LGMFNIQHCK;LQHLENELTHDIITK;LSITGTYDLK;LSSWVLLMK;LVDKFLEDVK;LVDKFLEDVKK;LYHSEAFTVNFGDTEEAK;LYHSEAFTVNFGDTEEAKK;QINDYVEK;RLGMFNIQHCK;RSASLHLPK;SASLHLPK;SPLFMGK;SVLGQLGITK;TDTSHHDQDHPTFNK;TLNQPDSQLQLTTGNGLFLSEGLK;VFSNGADLSGVTEEAPLK;VFSNGADLSGVTEEAPLKLSK;VVNPTQK;WERPFEVK;WERPFEVKDTEEEDFHVDQATTVK | 1473500 | 1115300 | 1125400 | 864250 | 1185900 | 930860 | 1215100 | 997710 | ⋯ | 105030000 | 15974000 | 36315000 | 18864000 | 24457000 | 18069000 | 27761000 | 196130000 | 17399000 | 16822000 |\n",
       "\n"
      ],
      "text/plain": [
       "  Majority.protein.IDs                                                                                                                                                                                \n",
       "1 Q9UBX1;A0A7I2V4A8;A0A7I2V411;A0A7I2V3X1;A0A7I2V2K3;H0YD65;A0A7I2V5Q1;A0A7I2V3M3;A0A7I2V5B9;A0A024R5G9;A0A7I2V5F8;A0A7I2YQB3;A0A7I2V3E7;A0A7I2V3L9;A0A7I2YQW3;H0YE42;A0A7I2YQH8;A0A7I2V313;A0A7I2V3V9\n",
       "2 A0A024R6N5;A0A0G2JRN3                                                                                                                                                                               \n",
       "  Peptide.sequences                                                                                                                                                                                                                                                                                                                                                                                                             \n",
       "1 GTAQYGVTK;SDVPFWAIK                                                                                                                                                                                                                                                                                                                                                                                                           \n",
       "2 AVLTIDEK;DTEEEDFHVDQATTVK;FLEDVKK;FLENEDR;FLENEDRR;FNKPFVFLMIEQNTK;GKWERPFEVK;GTEAAGAMFLEAIPMSIPPEVK;KLSSWVLLMK;KQINDYVEK;LGMFNIQHCK;LQHLENELTHDIITK;LSITGTYDLK;LSSWVLLMK;LVDKFLEDVK;LVDKFLEDVKK;LYHSEAFTVNFGDTEEAK;LYHSEAFTVNFGDTEEAKK;QINDYVEK;RLGMFNIQHCK;RSASLHLPK;SASLHLPK;SPLFMGK;SVLGQLGITK;TDTSHHDQDHPTFNK;TLNQPDSQLQLTTGNGLFLSEGLK;VFSNGADLSGVTEEAPLK;VFSNGADLSGVTEEAPLKLSK;VVNPTQK;WERPFEVK;WERPFEVKDTEEEDFHVDQATTVK\n",
       "  Reporter.intensity.corrected.1.Pool1 Reporter.intensity.corrected.2.Pool1\n",
       "1      NA                                   NA                             \n",
       "2 1473500                              1115300                             \n",
       "  Reporter.intensity.corrected.3.Pool1 Reporter.intensity.corrected.4.Pool1\n",
       "1      NA                                  NA                              \n",
       "2 1125400                              864250                              \n",
       "  Reporter.intensity.corrected.5.Pool1 Reporter.intensity.corrected.6.Pool1\n",
       "1      NA                                  NA                              \n",
       "2 1185900                              930860                              \n",
       "  Reporter.intensity.corrected.7.Pool1 Reporter.intensity.corrected.8.Pool1 ⋯\n",
       "1      NA                                  NA                               ⋯\n",
       "2 1215100                              997710                               ⋯\n",
       "  Reporter.intensity.corrected.2.Pool6 Reporter.intensity.corrected.3.Pool6\n",
       "1     29912                               34282                            \n",
       "2 105030000                            15974000                            \n",
       "  Reporter.intensity.corrected.4.Pool6 Reporter.intensity.corrected.5.Pool6\n",
       "1    25089                                22957                            \n",
       "2 36315000                             18864000                            \n",
       "  Reporter.intensity.corrected.6.Pool6 Reporter.intensity.corrected.7.Pool6\n",
       "1    25641                                28272                            \n",
       "2 24457000                             18069000                            \n",
       "  Reporter.intensity.corrected.8.Pool6 Reporter.intensity.corrected.9.Pool6\n",
       "1    24008                                 25484                           \n",
       "2 27761000                             196130000                           \n",
       "  Reporter.intensity.corrected.10.Pool6 Reporter.intensity.corrected.11.Pool6\n",
       "1    27244                                 20172                             \n",
       "2 17399000                              16822000                             "
      ]
     },
     "metadata": {},
     "output_type": "display_data"
    }
   ],
   "source": [
    "PG_report <- read.table(\n",
    "    \"/home/yuliya/repos/cosybio/FedProt/data/TMT_data/raw_MaxQuant_reports/Combined/proteinGroups.txt\",\n",
    "    header=T,\n",
    "    sep=\"\\t\",\n",
    "    stringsAsFactors = F)\n",
    "\n",
    "dim(PG_report)\n",
    "\n",
    "pg_intensities <- PG_report %>%\n",
    "    select(c(\"Majority.protein.IDs\", \"Peptide.sequences\", rownames(metadata)))\n",
    "pg_intensities[pg_intensities==0] <- NA\n",
    "dim(pg_intensities)\n",
    "head(pg_intensities, 2)"
   ]
  },
  {
   "cell_type": "code",
   "execution_count": 9,
   "metadata": {
    "vscode": {
     "languageId": "r"
    }
   },
   "outputs": [
    {
     "data": {
      "text/html": [
       "<style>\n",
       ".list-inline {list-style: none; margin:0; padding: 0}\n",
       ".list-inline>li {display: inline-block}\n",
       ".list-inline>li:not(:last-child)::after {content: \"\\00b7\"; padding: 0 .5ex}\n",
       "</style>\n",
       "<ol class=list-inline><li>8008</li><li>287</li></ol>\n"
      ],
      "text/latex": [
       "\\begin{enumerate*}\n",
       "\\item 8008\n",
       "\\item 287\n",
       "\\end{enumerate*}\n"
      ],
      "text/markdown": [
       "1. 8008\n",
       "2. 287\n",
       "\n",
       "\n"
      ],
      "text/plain": [
       "[1] 8008  287"
      ]
     },
     "metadata": {},
     "output_type": "display_data"
    },
    {
     "data": {
      "text/html": [
       "<style>\n",
       ".list-inline {list-style: none; margin:0; padding: 0}\n",
       ".list-inline>li {display: inline-block}\n",
       ".list-inline>li:not(:last-child)::after {content: \"\\00b7\"; padding: 0 .5ex}\n",
       "</style>\n",
       "<ol class=list-inline><li>8008</li><li>66</li></ol>\n"
      ],
      "text/latex": [
       "\\begin{enumerate*}\n",
       "\\item 8008\n",
       "\\item 66\n",
       "\\end{enumerate*}\n"
      ],
      "text/markdown": [
       "1. 8008\n",
       "2. 66\n",
       "\n",
       "\n"
      ],
      "text/plain": [
       "[1] 8008   66"
      ]
     },
     "metadata": {},
     "output_type": "display_data"
    },
    {
     "data": {
      "text/html": [
       "<table class=\"dataframe\">\n",
       "<caption>A data.frame: 1 × 66</caption>\n",
       "<thead>\n",
       "\t<tr><th></th><th scope=col>Sequence</th><th scope=col>Reporter.intensity.corrected.1.Pool1</th><th scope=col>Reporter.intensity.corrected.2.Pool1</th><th scope=col>Reporter.intensity.corrected.3.Pool1</th><th scope=col>Reporter.intensity.corrected.4.Pool1</th><th scope=col>Reporter.intensity.corrected.5.Pool1</th><th scope=col>Reporter.intensity.corrected.6.Pool1</th><th scope=col>Reporter.intensity.corrected.7.Pool1</th><th scope=col>Reporter.intensity.corrected.8.Pool1</th><th scope=col>Reporter.intensity.corrected.9.Pool1</th><th scope=col>⋯</th><th scope=col>Reporter.intensity.corrected.2.Pool6</th><th scope=col>Reporter.intensity.corrected.3.Pool6</th><th scope=col>Reporter.intensity.corrected.4.Pool6</th><th scope=col>Reporter.intensity.corrected.5.Pool6</th><th scope=col>Reporter.intensity.corrected.6.Pool6</th><th scope=col>Reporter.intensity.corrected.7.Pool6</th><th scope=col>Reporter.intensity.corrected.8.Pool6</th><th scope=col>Reporter.intensity.corrected.9.Pool6</th><th scope=col>Reporter.intensity.corrected.10.Pool6</th><th scope=col>Reporter.intensity.corrected.11.Pool6</th></tr>\n",
       "\t<tr><th></th><th scope=col>&lt;chr&gt;</th><th scope=col>&lt;dbl&gt;</th><th scope=col>&lt;dbl&gt;</th><th scope=col>&lt;dbl&gt;</th><th scope=col>&lt;dbl&gt;</th><th scope=col>&lt;dbl&gt;</th><th scope=col>&lt;dbl&gt;</th><th scope=col>&lt;dbl&gt;</th><th scope=col>&lt;dbl&gt;</th><th scope=col>&lt;dbl&gt;</th><th scope=col>⋯</th><th scope=col>&lt;dbl&gt;</th><th scope=col>&lt;dbl&gt;</th><th scope=col>&lt;dbl&gt;</th><th scope=col>&lt;dbl&gt;</th><th scope=col>&lt;dbl&gt;</th><th scope=col>&lt;dbl&gt;</th><th scope=col>&lt;dbl&gt;</th><th scope=col>&lt;dbl&gt;</th><th scope=col>&lt;dbl&gt;</th><th scope=col>&lt;dbl&gt;</th></tr>\n",
       "</thead>\n",
       "<tbody>\n",
       "\t<tr><th scope=row>1</th><td>AAAATGTIFTFR</td><td>9932.8</td><td>10121</td><td>10191</td><td>4770.3</td><td>8109.8</td><td>12217</td><td>12637</td><td>7853.4</td><td>12351</td><td>⋯</td><td>NA</td><td>NA</td><td>NA</td><td>NA</td><td>NA</td><td>NA</td><td>NA</td><td>NA</td><td>NA</td><td>NA</td></tr>\n",
       "</tbody>\n",
       "</table>\n"
      ],
      "text/latex": [
       "A data.frame: 1 × 66\n",
       "\\begin{tabular}{r|lllllllllllllllllllll}\n",
       "  & Sequence & Reporter.intensity.corrected.1.Pool1 & Reporter.intensity.corrected.2.Pool1 & Reporter.intensity.corrected.3.Pool1 & Reporter.intensity.corrected.4.Pool1 & Reporter.intensity.corrected.5.Pool1 & Reporter.intensity.corrected.6.Pool1 & Reporter.intensity.corrected.7.Pool1 & Reporter.intensity.corrected.8.Pool1 & Reporter.intensity.corrected.9.Pool1 & ⋯ & Reporter.intensity.corrected.2.Pool6 & Reporter.intensity.corrected.3.Pool6 & Reporter.intensity.corrected.4.Pool6 & Reporter.intensity.corrected.5.Pool6 & Reporter.intensity.corrected.6.Pool6 & Reporter.intensity.corrected.7.Pool6 & Reporter.intensity.corrected.8.Pool6 & Reporter.intensity.corrected.9.Pool6 & Reporter.intensity.corrected.10.Pool6 & Reporter.intensity.corrected.11.Pool6\\\\\n",
       "  & <chr> & <dbl> & <dbl> & <dbl> & <dbl> & <dbl> & <dbl> & <dbl> & <dbl> & <dbl> & ⋯ & <dbl> & <dbl> & <dbl> & <dbl> & <dbl> & <dbl> & <dbl> & <dbl> & <dbl> & <dbl>\\\\\n",
       "\\hline\n",
       "\t1 & AAAATGTIFTFR & 9932.8 & 10121 & 10191 & 4770.3 & 8109.8 & 12217 & 12637 & 7853.4 & 12351 & ⋯ & NA & NA & NA & NA & NA & NA & NA & NA & NA & NA\\\\\n",
       "\\end{tabular}\n"
      ],
      "text/markdown": [
       "\n",
       "A data.frame: 1 × 66\n",
       "\n",
       "| <!--/--> | Sequence &lt;chr&gt; | Reporter.intensity.corrected.1.Pool1 &lt;dbl&gt; | Reporter.intensity.corrected.2.Pool1 &lt;dbl&gt; | Reporter.intensity.corrected.3.Pool1 &lt;dbl&gt; | Reporter.intensity.corrected.4.Pool1 &lt;dbl&gt; | Reporter.intensity.corrected.5.Pool1 &lt;dbl&gt; | Reporter.intensity.corrected.6.Pool1 &lt;dbl&gt; | Reporter.intensity.corrected.7.Pool1 &lt;dbl&gt; | Reporter.intensity.corrected.8.Pool1 &lt;dbl&gt; | Reporter.intensity.corrected.9.Pool1 &lt;dbl&gt; | ⋯ ⋯ | Reporter.intensity.corrected.2.Pool6 &lt;dbl&gt; | Reporter.intensity.corrected.3.Pool6 &lt;dbl&gt; | Reporter.intensity.corrected.4.Pool6 &lt;dbl&gt; | Reporter.intensity.corrected.5.Pool6 &lt;dbl&gt; | Reporter.intensity.corrected.6.Pool6 &lt;dbl&gt; | Reporter.intensity.corrected.7.Pool6 &lt;dbl&gt; | Reporter.intensity.corrected.8.Pool6 &lt;dbl&gt; | Reporter.intensity.corrected.9.Pool6 &lt;dbl&gt; | Reporter.intensity.corrected.10.Pool6 &lt;dbl&gt; | Reporter.intensity.corrected.11.Pool6 &lt;dbl&gt; |\n",
       "|---|---|---|---|---|---|---|---|---|---|---|---|---|---|---|---|---|---|---|---|---|---|\n",
       "| 1 | AAAATGTIFTFR | 9932.8 | 10121 | 10191 | 4770.3 | 8109.8 | 12217 | 12637 | 7853.4 | 12351 | ⋯ | NA | NA | NA | NA | NA | NA | NA | NA | NA | NA |\n",
       "\n"
      ],
      "text/plain": [
       "  Sequence     Reporter.intensity.corrected.1.Pool1\n",
       "1 AAAATGTIFTFR 9932.8                              \n",
       "  Reporter.intensity.corrected.2.Pool1 Reporter.intensity.corrected.3.Pool1\n",
       "1 10121                                10191                               \n",
       "  Reporter.intensity.corrected.4.Pool1 Reporter.intensity.corrected.5.Pool1\n",
       "1 4770.3                               8109.8                              \n",
       "  Reporter.intensity.corrected.6.Pool1 Reporter.intensity.corrected.7.Pool1\n",
       "1 12217                                12637                               \n",
       "  Reporter.intensity.corrected.8.Pool1 Reporter.intensity.corrected.9.Pool1 ⋯\n",
       "1 7853.4                               12351                                ⋯\n",
       "  Reporter.intensity.corrected.2.Pool6 Reporter.intensity.corrected.3.Pool6\n",
       "1 NA                                   NA                                  \n",
       "  Reporter.intensity.corrected.4.Pool6 Reporter.intensity.corrected.5.Pool6\n",
       "1 NA                                   NA                                  \n",
       "  Reporter.intensity.corrected.6.Pool6 Reporter.intensity.corrected.7.Pool6\n",
       "1 NA                                   NA                                  \n",
       "  Reporter.intensity.corrected.8.Pool6 Reporter.intensity.corrected.9.Pool6\n",
       "1 NA                                   NA                                  \n",
       "  Reporter.intensity.corrected.10.Pool6 Reporter.intensity.corrected.11.Pool6\n",
       "1 NA                                    NA                                   "
      ]
     },
     "metadata": {},
     "output_type": "display_data"
    }
   ],
   "source": [
    "peptides_df <- read.table(\"/home/yuliya/repos/cosybio/FedProt/data/TMT_data/raw_MaxQuant_reports/Combined/peptides.txt\", \n",
    "    header=T,\n",
    "    sep=\"\\t\",\n",
    "    stringsAsFactors = F)\n",
    "dim(peptides_df)\n",
    "\n",
    "peptides_df <- peptides_df %>%\n",
    "    select(c(\"Sequence\", rownames(metadata)))\n",
    "\n",
    "peptides_df[peptides_df==0] <- NA\n",
    "\n",
    "dim(peptides_df)\n",
    "head(peptides_df, 1)"
   ]
  },
  {
   "cell_type": "markdown",
   "metadata": {},
   "source": [
    "### get sequences lists"
   ]
  },
  {
   "cell_type": "code",
   "execution_count": 10,
   "metadata": {
    "vscode": {
     "languageId": "r"
    }
   },
   "outputs": [
    {
     "data": {
      "text/html": [
       "8006"
      ],
      "text/latex": [
       "8006"
      ],
      "text/markdown": [
       "8006"
      ],
      "text/plain": [
       "[1] 8006"
      ]
     },
     "metadata": {},
     "output_type": "display_data"
    },
    {
     "data": {
      "text/html": [
       "8008"
      ],
      "text/latex": [
       "8008"
      ],
      "text/markdown": [
       "8008"
      ],
      "text/plain": [
       "[1] 8008"
      ]
     },
     "metadata": {},
     "output_type": "display_data"
    }
   ],
   "source": [
    "pep_from_pg <- unique(unlist(strsplit(pg_intensities$Peptide.sequences, \";\")))\n",
    "length(pep_from_pg)\n",
    "\n",
    "pep_from_pep <- unique(unlist(strsplit(peptides_df$Sequence, \";\")))\n",
    "length(pep_from_pep)"
   ]
  },
  {
   "cell_type": "code",
   "execution_count": 11,
   "metadata": {
    "vscode": {
     "languageId": "r"
    }
   },
   "outputs": [
    {
     "data": {
      "image/png": "[encoded data removed]",
      "text/plain": [
       "plot without title"
      ]
     },
     "metadata": {
      "image/png": {
       "height": 180,
       "width": 360
      }
     },
     "output_type": "display_data"
    }
   ],
   "source": [
    "all_elements_comb <- unique(c(pep_from_pg, pep_from_pep))\n",
    "\n",
    "data <- data.frame(element = all_elements_comb,\n",
    "                   PG_report = as.integer(all_elements_comb %in% pep_from_pg),\n",
    "                   peptides = as.integer(all_elements_comb %in% pep_from_pep))\n",
    "\n",
    "options(repr.plot.width=6, repr.plot.height=3)\n",
    "upset(data, sets = c(\"PG_report\", \"peptides\"), order.by = \"freq\",\n",
    "        # add title to the whole plot\n",
    "\n",
    "        main.bar.color = \"black\",\n",
    "        sets.bar.color = \"black\",\n",
    "        sets.x.label = \"Number of peptides (in combined run)\",\n",
    "        )"
   ]
  },
  {
   "cell_type": "code",
   "execution_count": 13,
   "metadata": {
    "vscode": {
     "languageId": "r"
    }
   },
   "outputs": [
    {
     "data": {
      "text/html": [],
      "text/latex": [],
      "text/markdown": [],
      "text/plain": [
       "character(0)"
      ]
     },
     "metadata": {},
     "output_type": "display_data"
    },
    {
     "data": {
      "text/html": [
       "<style>\n",
       ".list-inline {list-style: none; margin:0; padding: 0}\n",
       ".list-inline>li {display: inline-block}\n",
       ".list-inline>li:not(:last-child)::after {content: \"\\00b7\"; padding: 0 .5ex}\n",
       "</style>\n",
       "<ol class=list-inline><li>'ACGLVASNLNLKPGECLR'</li><li>'CDKEFMWALK'</li></ol>\n"
      ],
      "text/latex": [
       "\\begin{enumerate*}\n",
       "\\item 'ACGLVASNLNLKPGECLR'\n",
       "\\item 'CDKEFMWALK'\n",
       "\\end{enumerate*}\n"
      ],
      "text/markdown": [
       "1. 'ACGLVASNLNLKPGECLR'\n",
       "2. 'CDKEFMWALK'\n",
       "\n",
       "\n"
      ],
      "text/plain": [
       "[1] \"ACGLVASNLNLKPGECLR\" \"CDKEFMWALK\"        "
      ]
     },
     "metadata": {},
     "output_type": "display_data"
    }
   ],
   "source": [
    "# print different peptides\n",
    "sort(setdiff(pep_from_pg, pep_from_pep))\n",
    "sort(setdiff(pep_from_pep, pep_from_pg))"
   ]
  },
  {
   "cell_type": "code",
   "execution_count": 15,
   "metadata": {
    "vscode": {
     "languageId": "r"
    }
   },
   "outputs": [
    {
     "data": {
      "text/html": [
       "<table class=\"dataframe\">\n",
       "<caption>A data.frame: 2 × 66</caption>\n",
       "<thead>\n",
       "\t<tr><th></th><th scope=col>Sequence</th><th scope=col>Reporter.intensity.corrected.1.Pool1</th><th scope=col>Reporter.intensity.corrected.2.Pool1</th><th scope=col>Reporter.intensity.corrected.3.Pool1</th><th scope=col>Reporter.intensity.corrected.4.Pool1</th><th scope=col>Reporter.intensity.corrected.5.Pool1</th><th scope=col>Reporter.intensity.corrected.6.Pool1</th><th scope=col>Reporter.intensity.corrected.7.Pool1</th><th scope=col>Reporter.intensity.corrected.8.Pool1</th><th scope=col>Reporter.intensity.corrected.9.Pool1</th><th scope=col>⋯</th><th scope=col>Reporter.intensity.corrected.2.Pool6</th><th scope=col>Reporter.intensity.corrected.3.Pool6</th><th scope=col>Reporter.intensity.corrected.4.Pool6</th><th scope=col>Reporter.intensity.corrected.5.Pool6</th><th scope=col>Reporter.intensity.corrected.6.Pool6</th><th scope=col>Reporter.intensity.corrected.7.Pool6</th><th scope=col>Reporter.intensity.corrected.8.Pool6</th><th scope=col>Reporter.intensity.corrected.9.Pool6</th><th scope=col>Reporter.intensity.corrected.10.Pool6</th><th scope=col>Reporter.intensity.corrected.11.Pool6</th></tr>\n",
       "\t<tr><th></th><th scope=col>&lt;chr&gt;</th><th scope=col>&lt;dbl&gt;</th><th scope=col>&lt;dbl&gt;</th><th scope=col>&lt;dbl&gt;</th><th scope=col>&lt;dbl&gt;</th><th scope=col>&lt;dbl&gt;</th><th scope=col>&lt;dbl&gt;</th><th scope=col>&lt;dbl&gt;</th><th scope=col>&lt;dbl&gt;</th><th scope=col>&lt;dbl&gt;</th><th scope=col>⋯</th><th scope=col>&lt;dbl&gt;</th><th scope=col>&lt;dbl&gt;</th><th scope=col>&lt;dbl&gt;</th><th scope=col>&lt;dbl&gt;</th><th scope=col>&lt;dbl&gt;</th><th scope=col>&lt;dbl&gt;</th><th scope=col>&lt;dbl&gt;</th><th scope=col>&lt;dbl&gt;</th><th scope=col>&lt;dbl&gt;</th><th scope=col>&lt;dbl&gt;</th></tr>\n",
       "</thead>\n",
       "<tbody>\n",
       "\t<tr><th scope=row>68</th><td>ACGLVASNLNLKPGECLR</td><td>NA</td><td>NA</td><td>NA</td><td>NA</td><td>NA</td><td>NA</td><td>NA</td><td>NA</td><td>NA</td><td>⋯</td><td>NA</td><td>NA</td><td>NA</td><td>NA</td><td>NA</td><td>NA</td><td>NA</td><td>NA</td><td>NA</td><td>NA</td></tr>\n",
       "\t<tr><th scope=row>744</th><td>CDKEFMWALK        </td><td>NA</td><td>NA</td><td>NA</td><td>NA</td><td>NA</td><td>NA</td><td>NA</td><td>NA</td><td>NA</td><td>⋯</td><td>NA</td><td>NA</td><td>NA</td><td>NA</td><td>NA</td><td>NA</td><td>NA</td><td>NA</td><td>NA</td><td>NA</td></tr>\n",
       "</tbody>\n",
       "</table>\n"
      ],
      "text/latex": [
       "A data.frame: 2 × 66\n",
       "\\begin{tabular}{r|lllllllllllllllllllll}\n",
       "  & Sequence & Reporter.intensity.corrected.1.Pool1 & Reporter.intensity.corrected.2.Pool1 & Reporter.intensity.corrected.3.Pool1 & Reporter.intensity.corrected.4.Pool1 & Reporter.intensity.corrected.5.Pool1 & Reporter.intensity.corrected.6.Pool1 & Reporter.intensity.corrected.7.Pool1 & Reporter.intensity.corrected.8.Pool1 & Reporter.intensity.corrected.9.Pool1 & ⋯ & Reporter.intensity.corrected.2.Pool6 & Reporter.intensity.corrected.3.Pool6 & Reporter.intensity.corrected.4.Pool6 & Reporter.intensity.corrected.5.Pool6 & Reporter.intensity.corrected.6.Pool6 & Reporter.intensity.corrected.7.Pool6 & Reporter.intensity.corrected.8.Pool6 & Reporter.intensity.corrected.9.Pool6 & Reporter.intensity.corrected.10.Pool6 & Reporter.intensity.corrected.11.Pool6\\\\\n",
       "  & <chr> & <dbl> & <dbl> & <dbl> & <dbl> & <dbl> & <dbl> & <dbl> & <dbl> & <dbl> & ⋯ & <dbl> & <dbl> & <dbl> & <dbl> & <dbl> & <dbl> & <dbl> & <dbl> & <dbl> & <dbl>\\\\\n",
       "\\hline\n",
       "\t68 & ACGLVASNLNLKPGECLR & NA & NA & NA & NA & NA & NA & NA & NA & NA & ⋯ & NA & NA & NA & NA & NA & NA & NA & NA & NA & NA\\\\\n",
       "\t744 & CDKEFMWALK         & NA & NA & NA & NA & NA & NA & NA & NA & NA & ⋯ & NA & NA & NA & NA & NA & NA & NA & NA & NA & NA\\\\\n",
       "\\end{tabular}\n"
      ],
      "text/markdown": [
       "\n",
       "A data.frame: 2 × 66\n",
       "\n",
       "| <!--/--> | Sequence &lt;chr&gt; | Reporter.intensity.corrected.1.Pool1 &lt;dbl&gt; | Reporter.intensity.corrected.2.Pool1 &lt;dbl&gt; | Reporter.intensity.corrected.3.Pool1 &lt;dbl&gt; | Reporter.intensity.corrected.4.Pool1 &lt;dbl&gt; | Reporter.intensity.corrected.5.Pool1 &lt;dbl&gt; | Reporter.intensity.corrected.6.Pool1 &lt;dbl&gt; | Reporter.intensity.corrected.7.Pool1 &lt;dbl&gt; | Reporter.intensity.corrected.8.Pool1 &lt;dbl&gt; | Reporter.intensity.corrected.9.Pool1 &lt;dbl&gt; | ⋯ ⋯ | Reporter.intensity.corrected.2.Pool6 &lt;dbl&gt; | Reporter.intensity.corrected.3.Pool6 &lt;dbl&gt; | Reporter.intensity.corrected.4.Pool6 &lt;dbl&gt; | Reporter.intensity.corrected.5.Pool6 &lt;dbl&gt; | Reporter.intensity.corrected.6.Pool6 &lt;dbl&gt; | Reporter.intensity.corrected.7.Pool6 &lt;dbl&gt; | Reporter.intensity.corrected.8.Pool6 &lt;dbl&gt; | Reporter.intensity.corrected.9.Pool6 &lt;dbl&gt; | Reporter.intensity.corrected.10.Pool6 &lt;dbl&gt; | Reporter.intensity.corrected.11.Pool6 &lt;dbl&gt; |\n",
       "|---|---|---|---|---|---|---|---|---|---|---|---|---|---|---|---|---|---|---|---|---|---|\n",
       "| 68 | ACGLVASNLNLKPGECLR | NA | NA | NA | NA | NA | NA | NA | NA | NA | ⋯ | NA | NA | NA | NA | NA | NA | NA | NA | NA | NA |\n",
       "| 744 | CDKEFMWALK         | NA | NA | NA | NA | NA | NA | NA | NA | NA | ⋯ | NA | NA | NA | NA | NA | NA | NA | NA | NA | NA |\n",
       "\n"
      ],
      "text/plain": [
       "    Sequence           Reporter.intensity.corrected.1.Pool1\n",
       "68  ACGLVASNLNLKPGECLR NA                                  \n",
       "744 CDKEFMWALK         NA                                  \n",
       "    Reporter.intensity.corrected.2.Pool1 Reporter.intensity.corrected.3.Pool1\n",
       "68  NA                                   NA                                  \n",
       "744 NA                                   NA                                  \n",
       "    Reporter.intensity.corrected.4.Pool1 Reporter.intensity.corrected.5.Pool1\n",
       "68  NA                                   NA                                  \n",
       "744 NA                                   NA                                  \n",
       "    Reporter.intensity.corrected.6.Pool1 Reporter.intensity.corrected.7.Pool1\n",
       "68  NA                                   NA                                  \n",
       "744 NA                                   NA                                  \n",
       "    Reporter.intensity.corrected.8.Pool1 Reporter.intensity.corrected.9.Pool1 ⋯\n",
       "68  NA                                   NA                                   ⋯\n",
       "744 NA                                   NA                                   ⋯\n",
       "    Reporter.intensity.corrected.2.Pool6 Reporter.intensity.corrected.3.Pool6\n",
       "68  NA                                   NA                                  \n",
       "744 NA                                   NA                                  \n",
       "    Reporter.intensity.corrected.4.Pool6 Reporter.intensity.corrected.5.Pool6\n",
       "68  NA                                   NA                                  \n",
       "744 NA                                   NA                                  \n",
       "    Reporter.intensity.corrected.6.Pool6 Reporter.intensity.corrected.7.Pool6\n",
       "68  NA                                   NA                                  \n",
       "744 NA                                   NA                                  \n",
       "    Reporter.intensity.corrected.8.Pool6 Reporter.intensity.corrected.9.Pool6\n",
       "68  NA                                   NA                                  \n",
       "744 NA                                   NA                                  \n",
       "    Reporter.intensity.corrected.10.Pool6 Reporter.intensity.corrected.11.Pool6\n",
       "68  NA                                    NA                                   \n",
       "744 NA                                    NA                                   "
      ]
     },
     "metadata": {},
     "output_type": "display_data"
    }
   ],
   "source": [
    "peptides_df[peptides_df$Sequence %in% c('ACGLVASNLNLKPGECLR','CDKEFMWALK'),]"
   ]
  },
  {
   "cell_type": "code",
   "execution_count": null,
   "metadata": {
    "vscode": {
     "languageId": "r"
    }
   },
   "outputs": [],
   "source": []
  }
 ],
 "metadata": {
  "kernelspec": {
   "display_name": "R",
   "language": "R",
   "name": "ir"
  },
  "language_info": {
   "codemirror_mode": "r",
   "file_extension": ".r",
   "mimetype": "text/x-r-source",
   "name": "R",
   "pygments_lexer": "r",
   "version": "4.2.0"
  }
 },
 "nbformat": 4,
 "nbformat_minor": 2
}
