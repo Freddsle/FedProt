{
 "cells": [
  {
   "cell_type": "code",
   "execution_count": 198,
   "metadata": {
    "vscode": {
     "languageId": "r"
    }
   },
   "outputs": [],
   "source": [
    "library(tidyverse)\n",
    "library(cowplot)\n",
    "library(UpSetR)"
   ]
  },
  {
   "cell_type": "markdown",
   "metadata": {},
   "source": [
    "# NORM methods contains bugs!"
   ]
  },
  {
   "cell_type": "markdown",
   "metadata": {},
   "source": [
    "# Load and Filter"
   ]
  },
  {
   "cell_type": "code",
   "execution_count": 213,
   "metadata": {
    "vscode": {
     "languageId": "r"
    }
   },
   "outputs": [
    {
     "data": {
      "text/html": [
       "<table class=\"dataframe\">\n",
       "<caption>A data.frame: 3 × 6</caption>\n",
       "<thead>\n",
       "\t<tr><th></th><th scope=col>Quantitative.column.name</th><th scope=col>Pool</th><th scope=col>Reporter.ion</th><th scope=col>Patient</th><th scope=col>Group</th><th scope=col>Center</th></tr>\n",
       "\t<tr><th></th><th scope=col>&lt;chr&gt;</th><th scope=col>&lt;chr&gt;</th><th scope=col>&lt;chr&gt;</th><th scope=col>&lt;chr&gt;</th><th scope=col>&lt;chr&gt;</th><th scope=col>&lt;chr&gt;</th></tr>\n",
       "</thead>\n",
       "<tbody>\n",
       "\t<tr><th scope=row>Reporter.intensity.corrected.1.Pool1</th><td>P_1.RIC_1</td><td>Pool1</td><td>126 </td><td>Common Reference</td><td>Common Reference</td><td>Center1</td></tr>\n",
       "\t<tr><th scope=row>Reporter.intensity.corrected.2.Pool1</th><td>P_1.RIC_2</td><td>Pool1</td><td>127N</td><td>heathy1         </td><td>heathy          </td><td>Center1</td></tr>\n",
       "\t<tr><th scope=row>Reporter.intensity.corrected.3.Pool1</th><td>P_1.RIC_3</td><td>Pool1</td><td>127C</td><td>FSGS1           </td><td>FSGS            </td><td>Center1</td></tr>\n",
       "</tbody>\n",
       "</table>\n"
      ],
      "text/latex": [
       "A data.frame: 3 × 6\n",
       "\\begin{tabular}{r|llllll}\n",
       "  & Quantitative.column.name & Pool & Reporter.ion & Patient & Group & Center\\\\\n",
       "  & <chr> & <chr> & <chr> & <chr> & <chr> & <chr>\\\\\n",
       "\\hline\n",
       "\tReporter.intensity.corrected.1.Pool1 & P\\_1.RIC\\_1 & Pool1 & 126  & Common Reference & Common Reference & Center1\\\\\n",
       "\tReporter.intensity.corrected.2.Pool1 & P\\_1.RIC\\_2 & Pool1 & 127N & heathy1          & heathy           & Center1\\\\\n",
       "\tReporter.intensity.corrected.3.Pool1 & P\\_1.RIC\\_3 & Pool1 & 127C & FSGS1            & FSGS             & Center1\\\\\n",
       "\\end{tabular}\n"
      ],
      "text/markdown": [
       "\n",
       "A data.frame: 3 × 6\n",
       "\n",
       "| <!--/--> | Quantitative.column.name &lt;chr&gt; | Pool &lt;chr&gt; | Reporter.ion &lt;chr&gt; | Patient &lt;chr&gt; | Group &lt;chr&gt; | Center &lt;chr&gt; |\n",
       "|---|---|---|---|---|---|---|\n",
       "| Reporter.intensity.corrected.1.Pool1 | P_1.RIC_1 | Pool1 | 126  | Common Reference | Common Reference | Center1 |\n",
       "| Reporter.intensity.corrected.2.Pool1 | P_1.RIC_2 | Pool1 | 127N | heathy1          | heathy           | Center1 |\n",
       "| Reporter.intensity.corrected.3.Pool1 | P_1.RIC_3 | Pool1 | 127C | FSGS1            | FSGS             | Center1 |\n",
       "\n"
      ],
      "text/plain": [
       "                                     Quantitative.column.name Pool \n",
       "Reporter.intensity.corrected.1.Pool1 P_1.RIC_1                Pool1\n",
       "Reporter.intensity.corrected.2.Pool1 P_1.RIC_2                Pool1\n",
       "Reporter.intensity.corrected.3.Pool1 P_1.RIC_3                Pool1\n",
       "                                     Reporter.ion Patient         \n",
       "Reporter.intensity.corrected.1.Pool1 126          Common Reference\n",
       "Reporter.intensity.corrected.2.Pool1 127N         heathy1         \n",
       "Reporter.intensity.corrected.3.Pool1 127C         FSGS1           \n",
       "                                     Group            Center \n",
       "Reporter.intensity.corrected.1.Pool1 Common Reference Center1\n",
       "Reporter.intensity.corrected.2.Pool1 heathy           Center1\n",
       "Reporter.intensity.corrected.3.Pool1 FSGS             Center1"
      ]
     },
     "metadata": {},
     "output_type": "display_data"
    },
    {
     "data": {
      "text/html": [
       "<style>\n",
       ".list-inline {list-style: none; margin:0; padding: 0}\n",
       ".list-inline>li {display: inline-block}\n",
       ".list-inline>li:not(:last-child)::after {content: \"\\00b7\"; padding: 0 .5ex}\n",
       "</style>\n",
       "<ol class=list-inline><li>65</li><li>6</li></ol>\n"
      ],
      "text/latex": [
       "\\begin{enumerate*}\n",
       "\\item 65\n",
       "\\item 6\n",
       "\\end{enumerate*}\n"
      ],
      "text/markdown": [
       "1. 65\n",
       "2. 6\n",
       "\n",
       "\n"
      ],
      "text/plain": [
       "[1] 65  6"
      ]
     },
     "metadata": {},
     "output_type": "display_data"
    }
   ],
   "source": [
    "metadata <- read.table(\"/home/yuliya/repos/cosybio/FedProt/data/TMT_data/raw_MaxQuant_reports/Metadata_CosyBio.tsv\",\n",
    "                       header = TRUE, sep = \"\\t\", stringsAsFactors = FALSE)\n",
    "                       \n",
    "metadata <- metadata %>%\n",
    "            mutate(Quantitative.column.name = gsub(\" \", \".\", Quantitative.column.name))\n",
    "\n",
    "rownames(metadata) <- metadata$Quantitative.column.name\n",
    "metadata <- metadata %>%\n",
    "            mutate(Quantitative.column.name = gsub(\".Pool\", \".P_\", gsub(\"Reporter.intensity.corrected.\", \"RIC_\", Quantitative.column.name)))\n",
    "\n",
    "\n",
    "# remove the outlier\n",
    "metadata <- metadata %>%\n",
    "            filter(Quantitative.column.name != \"RIC_3.P_3\")\n",
    "\n",
    "\n",
    "# rename the columns - put the .P_[1-9]+ after dot before and the rest after (e.g. RIC_1.P_1 -> P_1.RIC_1)\n",
    "metadata <- metadata %>%\n",
    "            mutate(Quantitative.column.name = gsub(\"RIC_([0-9]+).P_([0-9]+)\", \"P_\\\\2.RIC_\\\\1\", Quantitative.column.name))\n",
    "\n",
    "\n",
    "\n",
    "head(metadata, 3)\n",
    "dim(metadata)"
   ]
  },
  {
   "cell_type": "code",
   "execution_count": 214,
   "metadata": {
    "vscode": {
     "languageId": "r"
    }
   },
   "outputs": [
    {
     "data": {
      "text/html": [
       "<style>\n",
       ".list-inline {list-style: none; margin:0; padding: 0}\n",
       ".list-inline>li {display: inline-block}\n",
       ".list-inline>li:not(:last-child)::after {content: \"\\00b7\"; padding: 0 .5ex}\n",
       "</style>\n",
       "<ol class=list-inline><li>768</li><li>288</li></ol>\n"
      ],
      "text/latex": [
       "\\begin{enumerate*}\n",
       "\\item 768\n",
       "\\item 288\n",
       "\\end{enumerate*}\n"
      ],
      "text/markdown": [
       "1. 768\n",
       "2. 288\n",
       "\n",
       "\n"
      ],
      "text/plain": [
       "[1] 768 288"
      ]
     },
     "metadata": {},
     "output_type": "display_data"
    }
   ],
   "source": [
    "PG_report <- read.table(\n",
    "    \"/home/yuliya/repos/cosybio/FedProt/data/TMT_data/raw_MaxQuant_reports/Combined/proteinGroups.txt\",\n",
    "    header=T,\n",
    "    sep=\"\\t\",\n",
    "    stringsAsFactors = F)\n",
    "\n",
    "dim(PG_report)"
   ]
  },
  {
   "cell_type": "code",
   "execution_count": 215,
   "metadata": {
    "vscode": {
     "languageId": "r"
    }
   },
   "outputs": [],
   "source": [
    "# # remove decoy matches and matches to contaminant\n",
    "# PG_report <- PG_report[!PG_report$Reverse==\"+\",]\n",
    "# PG_report <- PG_report[!PG_report$Potential.contaminant==\"+\",]\n",
    "# # # Only.identified.by.site - exclude proteins that were only identified by a modification site\n",
    "# PG_report <- PG_report[!PG_report$Only.identified.by.site==\"+\",]\n",
    "\n",
    "\n",
    "# dim(PG_report)"
   ]
  },
  {
   "cell_type": "markdown",
   "metadata": {},
   "source": [
    "#### intensities"
   ]
  },
  {
   "cell_type": "code",
   "execution_count": 216,
   "metadata": {
    "vscode": {
     "languageId": "r"
    }
   },
   "outputs": [
    {
     "data": {
      "text/html": [
       "<style>\n",
       ".list-inline {list-style: none; margin:0; padding: 0}\n",
       ".list-inline>li {display: inline-block}\n",
       ".list-inline>li:not(:last-child)::after {content: \"\\00b7\"; padding: 0 .5ex}\n",
       "</style>\n",
       "<ol class=list-inline><li>768</li><li>66</li></ol>\n"
      ],
      "text/latex": [
       "\\begin{enumerate*}\n",
       "\\item 768\n",
       "\\item 66\n",
       "\\end{enumerate*}\n"
      ],
      "text/markdown": [
       "1. 768\n",
       "2. 66\n",
       "\n",
       "\n"
      ],
      "text/plain": [
       "[1] 768  66"
      ]
     },
     "metadata": {},
     "output_type": "display_data"
    },
    {
     "data": {
      "text/html": [
       "23.694"
      ],
      "text/latex": [
       "23.694"
      ],
      "text/markdown": [
       "23.694"
      ],
      "text/plain": [
       "[1] 23.694"
      ]
     },
     "metadata": {},
     "output_type": "display_data"
    }
   ],
   "source": [
    "# take only the columns that we need\n",
    "pg_intensities <- PG_report %>%\n",
    "    select(c(\"Majority.protein.IDs\", \"Peptide.sequences\", rownames(metadata))) \n",
    "rownames(pg_intensities) <- pg_intensities$Majority.protein.IDs\n",
    "pg_intensities$Majority.protein.IDs <- NULL\n",
    "\n",
    "colnames(pg_intensities) <- c(\"Peptide.sequences\", metadata$Quantitative.column.name)\n",
    "dim(pg_intensities)\n",
    "\n",
    "pg_intensities[pg_intensities==0] <- NA\n",
    "\n",
    "# remove the rows with NA in all Quantitative columns\n",
    "pg_intensities <- pg_intensities[!apply(pg_intensities[,2:dim(pg_intensities)[2]], 1, function(x) all(is.na(x))),]\n",
    "\n",
    "\n",
    "\n",
    "# count the % of missing values\n",
    "round(sum(is.na(pg_intensities)) * 100 / (dim(pg_intensities)[1] * dim(pg_intensities)[2]), 3)\n"
   ]
  },
  {
   "cell_type": "code",
   "execution_count": 217,
   "metadata": {
    "vscode": {
     "languageId": "r"
    }
   },
   "outputs": [
    {
     "data": {
      "text/html": [
       "<table class=\"dataframe\">\n",
       "<caption>A data.frame: 3 × 66</caption>\n",
       "<thead>\n",
       "\t<tr><th></th><th scope=col>Peptide.sequences</th><th scope=col>P_1.RIC_1</th><th scope=col>P_1.RIC_2</th><th scope=col>P_1.RIC_3</th><th scope=col>P_1.RIC_4</th><th scope=col>P_1.RIC_5</th><th scope=col>P_1.RIC_6</th><th scope=col>P_1.RIC_7</th><th scope=col>P_1.RIC_8</th><th scope=col>P_1.RIC_9</th><th scope=col>⋯</th><th scope=col>P_6.RIC_2</th><th scope=col>P_6.RIC_3</th><th scope=col>P_6.RIC_4</th><th scope=col>P_6.RIC_5</th><th scope=col>P_6.RIC_6</th><th scope=col>P_6.RIC_7</th><th scope=col>P_6.RIC_8</th><th scope=col>P_6.RIC_9</th><th scope=col>P_6.RIC_10</th><th scope=col>P_6.RIC_11</th></tr>\n",
       "\t<tr><th></th><th scope=col>&lt;chr&gt;</th><th scope=col>&lt;dbl&gt;</th><th scope=col>&lt;dbl&gt;</th><th scope=col>&lt;dbl&gt;</th><th scope=col>&lt;dbl&gt;</th><th scope=col>&lt;dbl&gt;</th><th scope=col>&lt;dbl&gt;</th><th scope=col>&lt;dbl&gt;</th><th scope=col>&lt;dbl&gt;</th><th scope=col>&lt;dbl&gt;</th><th scope=col>⋯</th><th scope=col>&lt;dbl&gt;</th><th scope=col>&lt;dbl&gt;</th><th scope=col>&lt;dbl&gt;</th><th scope=col>&lt;dbl&gt;</th><th scope=col>&lt;dbl&gt;</th><th scope=col>&lt;dbl&gt;</th><th scope=col>&lt;dbl&gt;</th><th scope=col>&lt;dbl&gt;</th><th scope=col>&lt;dbl&gt;</th><th scope=col>&lt;dbl&gt;</th></tr>\n",
       "</thead>\n",
       "<tbody>\n",
       "\t<tr><th scope=row>Q9UBX1;A0A7I2V4A8;A0A7I2V411;A0A7I2V3X1;A0A7I2V2K3;H0YD65;A0A7I2V5Q1;A0A7I2V3M3;A0A7I2V5B9;A0A024R5G9;A0A7I2V5F8;A0A7I2YQB3;A0A7I2V3E7;A0A7I2V3L9;A0A7I2YQW3;H0YE42;A0A7I2YQH8;A0A7I2V313;A0A7I2V3V9</th><td>GTAQYGVTK;SDVPFWAIK                                                                                                                                                                                                                                                                                                                                                                                                           </td><td>     NA</td><td>     NA</td><td>     NA</td><td>    NA</td><td>     NA</td><td>    NA</td><td>     NA</td><td>    NA</td><td>     NA</td><td>⋯</td><td>    29912</td><td>   34282</td><td>   25089</td><td>   22957</td><td>   25641</td><td>   28272</td><td>   24008</td><td>    25484</td><td>   27244</td><td>   20172</td></tr>\n",
       "\t<tr><th scope=row>A0A024R6N5;A0A0G2JRN3</th><td>AVLTIDEK;DTEEEDFHVDQATTVK;FLEDVKK;FLENEDR;FLENEDRR;FNKPFVFLMIEQNTK;GKWERPFEVK;GTEAAGAMFLEAIPMSIPPEVK;KLSSWVLLMK;KQINDYVEK;LGMFNIQHCK;LQHLENELTHDIITK;LSITGTYDLK;LSSWVLLMK;LVDKFLEDVK;LVDKFLEDVKK;LYHSEAFTVNFGDTEEAK;LYHSEAFTVNFGDTEEAKK;QINDYVEK;RLGMFNIQHCK;RSASLHLPK;SASLHLPK;SPLFMGK;SVLGQLGITK;TDTSHHDQDHPTFNK;TLNQPDSQLQLTTGNGLFLSEGLK;VFSNGADLSGVTEEAPLK;VFSNGADLSGVTEEAPLKLSK;VVNPTQK;WERPFEVK;WERPFEVKDTEEEDFHVDQATTVK</td><td>1473500</td><td>1115300</td><td>1125400</td><td>864250</td><td>1185900</td><td>930860</td><td>1215100</td><td>997710</td><td>1242700</td><td>⋯</td><td>105030000</td><td>15974000</td><td>36315000</td><td>18864000</td><td>24457000</td><td>18069000</td><td>27761000</td><td>196130000</td><td>17399000</td><td>16822000</td></tr>\n",
       "\t<tr><th scope=row>A0A075B6H9</th><td>FSGSSSGAER;GDGIPDRFSGSSSGAER                                                                                                                                                                                                                                                                                                                                                                                                  </td><td>     NA</td><td>     NA</td><td>     NA</td><td>    NA</td><td>     NA</td><td>    NA</td><td>     NA</td><td>    NA</td><td>     NA</td><td>⋯</td><td>    40876</td><td>   50691</td><td>   58515</td><td>   32968</td><td>   38083</td><td>   37138</td><td>   35395</td><td>    51815</td><td>   52347</td><td>   35346</td></tr>\n",
       "</tbody>\n",
       "</table>\n"
      ],
      "text/latex": [
       "A data.frame: 3 × 66\n",
       "\\begin{tabular}{r|lllllllllllllllllllll}\n",
       "  & Peptide.sequences & P\\_1.RIC\\_1 & P\\_1.RIC\\_2 & P\\_1.RIC\\_3 & P\\_1.RIC\\_4 & P\\_1.RIC\\_5 & P\\_1.RIC\\_6 & P\\_1.RIC\\_7 & P\\_1.RIC\\_8 & P\\_1.RIC\\_9 & ⋯ & P\\_6.RIC\\_2 & P\\_6.RIC\\_3 & P\\_6.RIC\\_4 & P\\_6.RIC\\_5 & P\\_6.RIC\\_6 & P\\_6.RIC\\_7 & P\\_6.RIC\\_8 & P\\_6.RIC\\_9 & P\\_6.RIC\\_10 & P\\_6.RIC\\_11\\\\\n",
       "  & <chr> & <dbl> & <dbl> & <dbl> & <dbl> & <dbl> & <dbl> & <dbl> & <dbl> & <dbl> & ⋯ & <dbl> & <dbl> & <dbl> & <dbl> & <dbl> & <dbl> & <dbl> & <dbl> & <dbl> & <dbl>\\\\\n",
       "\\hline\n",
       "\tQ9UBX1;A0A7I2V4A8;A0A7I2V411;A0A7I2V3X1;A0A7I2V2K3;H0YD65;A0A7I2V5Q1;A0A7I2V3M3;A0A7I2V5B9;A0A024R5G9;A0A7I2V5F8;A0A7I2YQB3;A0A7I2V3E7;A0A7I2V3L9;A0A7I2YQW3;H0YE42;A0A7I2YQH8;A0A7I2V313;A0A7I2V3V9 & GTAQYGVTK;SDVPFWAIK                                                                                                                                                                                                                                                                                                                                                                                                            &      NA &      NA &      NA &     NA &      NA &     NA &      NA &     NA &      NA & ⋯ &     29912 &    34282 &    25089 &    22957 &    25641 &    28272 &    24008 &     25484 &    27244 &    20172\\\\\n",
       "\tA0A024R6N5;A0A0G2JRN3 & AVLTIDEK;DTEEEDFHVDQATTVK;FLEDVKK;FLENEDR;FLENEDRR;FNKPFVFLMIEQNTK;GKWERPFEVK;GTEAAGAMFLEAIPMSIPPEVK;KLSSWVLLMK;KQINDYVEK;LGMFNIQHCK;LQHLENELTHDIITK;LSITGTYDLK;LSSWVLLMK;LVDKFLEDVK;LVDKFLEDVKK;LYHSEAFTVNFGDTEEAK;LYHSEAFTVNFGDTEEAKK;QINDYVEK;RLGMFNIQHCK;RSASLHLPK;SASLHLPK;SPLFMGK;SVLGQLGITK;TDTSHHDQDHPTFNK;TLNQPDSQLQLTTGNGLFLSEGLK;VFSNGADLSGVTEEAPLK;VFSNGADLSGVTEEAPLKLSK;VVNPTQK;WERPFEVK;WERPFEVKDTEEEDFHVDQATTVK & 1473500 & 1115300 & 1125400 & 864250 & 1185900 & 930860 & 1215100 & 997710 & 1242700 & ⋯ & 105030000 & 15974000 & 36315000 & 18864000 & 24457000 & 18069000 & 27761000 & 196130000 & 17399000 & 16822000\\\\\n",
       "\tA0A075B6H9 & FSGSSSGAER;GDGIPDRFSGSSSGAER                                                                                                                                                                                                                                                                                                                                                                                                   &      NA &      NA &      NA &     NA &      NA &     NA &      NA &     NA &      NA & ⋯ &     40876 &    50691 &    58515 &    32968 &    38083 &    37138 &    35395 &     51815 &    52347 &    35346\\\\\n",
       "\\end{tabular}\n"
      ],
      "text/markdown": [
       "\n",
       "A data.frame: 3 × 66\n",
       "\n",
       "| <!--/--> | Peptide.sequences &lt;chr&gt; | P_1.RIC_1 &lt;dbl&gt; | P_1.RIC_2 &lt;dbl&gt; | P_1.RIC_3 &lt;dbl&gt; | P_1.RIC_4 &lt;dbl&gt; | P_1.RIC_5 &lt;dbl&gt; | P_1.RIC_6 &lt;dbl&gt; | P_1.RIC_7 &lt;dbl&gt; | P_1.RIC_8 &lt;dbl&gt; | P_1.RIC_9 &lt;dbl&gt; | ⋯ ⋯ | P_6.RIC_2 &lt;dbl&gt; | P_6.RIC_3 &lt;dbl&gt; | P_6.RIC_4 &lt;dbl&gt; | P_6.RIC_5 &lt;dbl&gt; | P_6.RIC_6 &lt;dbl&gt; | P_6.RIC_7 &lt;dbl&gt; | P_6.RIC_8 &lt;dbl&gt; | P_6.RIC_9 &lt;dbl&gt; | P_6.RIC_10 &lt;dbl&gt; | P_6.RIC_11 &lt;dbl&gt; |\n",
       "|---|---|---|---|---|---|---|---|---|---|---|---|---|---|---|---|---|---|---|---|---|---|\n",
       "| Q9UBX1;A0A7I2V4A8;A0A7I2V411;A0A7I2V3X1;A0A7I2V2K3;H0YD65;A0A7I2V5Q1;A0A7I2V3M3;A0A7I2V5B9;A0A024R5G9;A0A7I2V5F8;A0A7I2YQB3;A0A7I2V3E7;A0A7I2V3L9;A0A7I2YQW3;H0YE42;A0A7I2YQH8;A0A7I2V313;A0A7I2V3V9 | GTAQYGVTK;SDVPFWAIK                                                                                                                                                                                                                                                                                                                                                                                                            |      NA |      NA |      NA |     NA |      NA |     NA |      NA |     NA |      NA | ⋯ |     29912 |    34282 |    25089 |    22957 |    25641 |    28272 |    24008 |     25484 |    27244 |    20172 |\n",
       "| A0A024R6N5;A0A0G2JRN3 | AVLTIDEK;DTEEEDFHVDQATTVK;FLEDVKK;FLENEDR;FLENEDRR;FNKPFVFLMIEQNTK;GKWERPFEVK;GTEAAGAMFLEAIPMSIPPEVK;KLSSWVLLMK;KQINDYVEK;LGMFNIQHCK;LQHLENELTHDIITK;LSITGTYDLK;LSSWVLLMK;LVDKFLEDVK;LVDKFLEDVKK;LYHSEAFTVNFGDTEEAK;LYHSEAFTVNFGDTEEAKK;QINDYVEK;RLGMFNIQHCK;RSASLHLPK;SASLHLPK;SPLFMGK;SVLGQLGITK;TDTSHHDQDHPTFNK;TLNQPDSQLQLTTGNGLFLSEGLK;VFSNGADLSGVTEEAPLK;VFSNGADLSGVTEEAPLKLSK;VVNPTQK;WERPFEVK;WERPFEVKDTEEEDFHVDQATTVK | 1473500 | 1115300 | 1125400 | 864250 | 1185900 | 930860 | 1215100 | 997710 | 1242700 | ⋯ | 105030000 | 15974000 | 36315000 | 18864000 | 24457000 | 18069000 | 27761000 | 196130000 | 17399000 | 16822000 |\n",
       "| A0A075B6H9 | FSGSSSGAER;GDGIPDRFSGSSSGAER                                                                                                                                                                                                                                                                                                                                                                                                   |      NA |      NA |      NA |     NA |      NA |     NA |      NA |     NA |      NA | ⋯ |     40876 |    50691 |    58515 |    32968 |    38083 |    37138 |    35395 |     51815 |    52347 |    35346 |\n",
       "\n"
      ],
      "text/plain": [
       "                                                                                                                                                                                                     Peptide.sequences                                                                                                                                                                                                                                                                                                                                                                                                             \n",
       "Q9UBX1;A0A7I2V4A8;A0A7I2V411;A0A7I2V3X1;A0A7I2V2K3;H0YD65;A0A7I2V5Q1;A0A7I2V3M3;A0A7I2V5B9;A0A024R5G9;A0A7I2V5F8;A0A7I2YQB3;A0A7I2V3E7;A0A7I2V3L9;A0A7I2YQW3;H0YE42;A0A7I2YQH8;A0A7I2V313;A0A7I2V3V9 GTAQYGVTK;SDVPFWAIK                                                                                                                                                                                                                                                                                                                                                                                                           \n",
       "A0A024R6N5;A0A0G2JRN3                                                                                                                                                                                AVLTIDEK;DTEEEDFHVDQATTVK;FLEDVKK;FLENEDR;FLENEDRR;FNKPFVFLMIEQNTK;GKWERPFEVK;GTEAAGAMFLEAIPMSIPPEVK;KLSSWVLLMK;KQINDYVEK;LGMFNIQHCK;LQHLENELTHDIITK;LSITGTYDLK;LSSWVLLMK;LVDKFLEDVK;LVDKFLEDVKK;LYHSEAFTVNFGDTEEAK;LYHSEAFTVNFGDTEEAKK;QINDYVEK;RLGMFNIQHCK;RSASLHLPK;SASLHLPK;SPLFMGK;SVLGQLGITK;TDTSHHDQDHPTFNK;TLNQPDSQLQLTTGNGLFLSEGLK;VFSNGADLSGVTEEAPLK;VFSNGADLSGVTEEAPLKLSK;VVNPTQK;WERPFEVK;WERPFEVKDTEEEDFHVDQATTVK\n",
       "A0A075B6H9                                                                                                                                                                                           FSGSSSGAER;GDGIPDRFSGSSSGAER                                                                                                                                                                                                                                                                                                                                                                                                  \n",
       "                                                                                                                                                                                                     P_1.RIC_1\n",
       "Q9UBX1;A0A7I2V4A8;A0A7I2V411;A0A7I2V3X1;A0A7I2V2K3;H0YD65;A0A7I2V5Q1;A0A7I2V3M3;A0A7I2V5B9;A0A024R5G9;A0A7I2V5F8;A0A7I2YQB3;A0A7I2V3E7;A0A7I2V3L9;A0A7I2YQW3;H0YE42;A0A7I2YQH8;A0A7I2V313;A0A7I2V3V9      NA  \n",
       "A0A024R6N5;A0A0G2JRN3                                                                                                                                                                                1473500  \n",
       "A0A075B6H9                                                                                                                                                                                                NA  \n",
       "                                                                                                                                                                                                     P_1.RIC_2\n",
       "Q9UBX1;A0A7I2V4A8;A0A7I2V411;A0A7I2V3X1;A0A7I2V2K3;H0YD65;A0A7I2V5Q1;A0A7I2V3M3;A0A7I2V5B9;A0A024R5G9;A0A7I2V5F8;A0A7I2YQB3;A0A7I2V3E7;A0A7I2V3L9;A0A7I2YQW3;H0YE42;A0A7I2YQH8;A0A7I2V313;A0A7I2V3V9      NA  \n",
       "A0A024R6N5;A0A0G2JRN3                                                                                                                                                                                1115300  \n",
       "A0A075B6H9                                                                                                                                                                                                NA  \n",
       "                                                                                                                                                                                                     P_1.RIC_3\n",
       "Q9UBX1;A0A7I2V4A8;A0A7I2V411;A0A7I2V3X1;A0A7I2V2K3;H0YD65;A0A7I2V5Q1;A0A7I2V3M3;A0A7I2V5B9;A0A024R5G9;A0A7I2V5F8;A0A7I2YQB3;A0A7I2V3E7;A0A7I2V3L9;A0A7I2YQW3;H0YE42;A0A7I2YQH8;A0A7I2V313;A0A7I2V3V9      NA  \n",
       "A0A024R6N5;A0A0G2JRN3                                                                                                                                                                                1125400  \n",
       "A0A075B6H9                                                                                                                                                                                                NA  \n",
       "                                                                                                                                                                                                     P_1.RIC_4\n",
       "Q9UBX1;A0A7I2V4A8;A0A7I2V411;A0A7I2V3X1;A0A7I2V2K3;H0YD65;A0A7I2V5Q1;A0A7I2V3M3;A0A7I2V5B9;A0A024R5G9;A0A7I2V5F8;A0A7I2YQB3;A0A7I2V3E7;A0A7I2V3L9;A0A7I2YQW3;H0YE42;A0A7I2YQH8;A0A7I2V313;A0A7I2V3V9     NA   \n",
       "A0A024R6N5;A0A0G2JRN3                                                                                                                                                                                864250   \n",
       "A0A075B6H9                                                                                                                                                                                               NA   \n",
       "                                                                                                                                                                                                     P_1.RIC_5\n",
       "Q9UBX1;A0A7I2V4A8;A0A7I2V411;A0A7I2V3X1;A0A7I2V2K3;H0YD65;A0A7I2V5Q1;A0A7I2V3M3;A0A7I2V5B9;A0A024R5G9;A0A7I2V5F8;A0A7I2YQB3;A0A7I2V3E7;A0A7I2V3L9;A0A7I2YQW3;H0YE42;A0A7I2YQH8;A0A7I2V313;A0A7I2V3V9      NA  \n",
       "A0A024R6N5;A0A0G2JRN3                                                                                                                                                                                1185900  \n",
       "A0A075B6H9                                                                                                                                                                                                NA  \n",
       "                                                                                                                                                                                                     P_1.RIC_6\n",
       "Q9UBX1;A0A7I2V4A8;A0A7I2V411;A0A7I2V3X1;A0A7I2V2K3;H0YD65;A0A7I2V5Q1;A0A7I2V3M3;A0A7I2V5B9;A0A024R5G9;A0A7I2V5F8;A0A7I2YQB3;A0A7I2V3E7;A0A7I2V3L9;A0A7I2YQW3;H0YE42;A0A7I2YQH8;A0A7I2V313;A0A7I2V3V9     NA   \n",
       "A0A024R6N5;A0A0G2JRN3                                                                                                                                                                                930860   \n",
       "A0A075B6H9                                                                                                                                                                                               NA   \n",
       "                                                                                                                                                                                                     P_1.RIC_7\n",
       "Q9UBX1;A0A7I2V4A8;A0A7I2V411;A0A7I2V3X1;A0A7I2V2K3;H0YD65;A0A7I2V5Q1;A0A7I2V3M3;A0A7I2V5B9;A0A024R5G9;A0A7I2V5F8;A0A7I2YQB3;A0A7I2V3E7;A0A7I2V3L9;A0A7I2YQW3;H0YE42;A0A7I2YQH8;A0A7I2V313;A0A7I2V3V9      NA  \n",
       "A0A024R6N5;A0A0G2JRN3                                                                                                                                                                                1215100  \n",
       "A0A075B6H9                                                                                                                                                                                                NA  \n",
       "                                                                                                                                                                                                     P_1.RIC_8\n",
       "Q9UBX1;A0A7I2V4A8;A0A7I2V411;A0A7I2V3X1;A0A7I2V2K3;H0YD65;A0A7I2V5Q1;A0A7I2V3M3;A0A7I2V5B9;A0A024R5G9;A0A7I2V5F8;A0A7I2YQB3;A0A7I2V3E7;A0A7I2V3L9;A0A7I2YQW3;H0YE42;A0A7I2YQH8;A0A7I2V313;A0A7I2V3V9     NA   \n",
       "A0A024R6N5;A0A0G2JRN3                                                                                                                                                                                997710   \n",
       "A0A075B6H9                                                                                                                                                                                               NA   \n",
       "                                                                                                                                                                                                     P_1.RIC_9\n",
       "Q9UBX1;A0A7I2V4A8;A0A7I2V411;A0A7I2V3X1;A0A7I2V2K3;H0YD65;A0A7I2V5Q1;A0A7I2V3M3;A0A7I2V5B9;A0A024R5G9;A0A7I2V5F8;A0A7I2YQB3;A0A7I2V3E7;A0A7I2V3L9;A0A7I2YQW3;H0YE42;A0A7I2YQH8;A0A7I2V313;A0A7I2V3V9      NA  \n",
       "A0A024R6N5;A0A0G2JRN3                                                                                                                                                                                1242700  \n",
       "A0A075B6H9                                                                                                                                                                                                NA  \n",
       "                                                                                                                                                                                                     ⋯\n",
       "Q9UBX1;A0A7I2V4A8;A0A7I2V411;A0A7I2V3X1;A0A7I2V2K3;H0YD65;A0A7I2V5Q1;A0A7I2V3M3;A0A7I2V5B9;A0A024R5G9;A0A7I2V5F8;A0A7I2YQB3;A0A7I2V3E7;A0A7I2V3L9;A0A7I2YQW3;H0YE42;A0A7I2YQH8;A0A7I2V313;A0A7I2V3V9 ⋯\n",
       "A0A024R6N5;A0A0G2JRN3                                                                                                                                                                                ⋯\n",
       "A0A075B6H9                                                                                                                                                                                           ⋯\n",
       "                                                                                                                                                                                                     P_6.RIC_2\n",
       "Q9UBX1;A0A7I2V4A8;A0A7I2V411;A0A7I2V3X1;A0A7I2V2K3;H0YD65;A0A7I2V5Q1;A0A7I2V3M3;A0A7I2V5B9;A0A024R5G9;A0A7I2V5F8;A0A7I2YQB3;A0A7I2V3E7;A0A7I2V3L9;A0A7I2YQW3;H0YE42;A0A7I2YQH8;A0A7I2V313;A0A7I2V3V9     29912\n",
       "A0A024R6N5;A0A0G2JRN3                                                                                                                                                                                105030000\n",
       "A0A075B6H9                                                                                                                                                                                               40876\n",
       "                                                                                                                                                                                                     P_6.RIC_3\n",
       "Q9UBX1;A0A7I2V4A8;A0A7I2V411;A0A7I2V3X1;A0A7I2V2K3;H0YD65;A0A7I2V5Q1;A0A7I2V3M3;A0A7I2V5B9;A0A024R5G9;A0A7I2V5F8;A0A7I2YQB3;A0A7I2V3E7;A0A7I2V3L9;A0A7I2YQW3;H0YE42;A0A7I2YQH8;A0A7I2V313;A0A7I2V3V9    34282 \n",
       "A0A024R6N5;A0A0G2JRN3                                                                                                                                                                                15974000 \n",
       "A0A075B6H9                                                                                                                                                                                              50691 \n",
       "                                                                                                                                                                                                     P_6.RIC_4\n",
       "Q9UBX1;A0A7I2V4A8;A0A7I2V411;A0A7I2V3X1;A0A7I2V2K3;H0YD65;A0A7I2V5Q1;A0A7I2V3M3;A0A7I2V5B9;A0A024R5G9;A0A7I2V5F8;A0A7I2YQB3;A0A7I2V3E7;A0A7I2V3L9;A0A7I2YQW3;H0YE42;A0A7I2YQH8;A0A7I2V313;A0A7I2V3V9    25089 \n",
       "A0A024R6N5;A0A0G2JRN3                                                                                                                                                                                36315000 \n",
       "A0A075B6H9                                                                                                                                                                                              58515 \n",
       "                                                                                                                                                                                                     P_6.RIC_5\n",
       "Q9UBX1;A0A7I2V4A8;A0A7I2V411;A0A7I2V3X1;A0A7I2V2K3;H0YD65;A0A7I2V5Q1;A0A7I2V3M3;A0A7I2V5B9;A0A024R5G9;A0A7I2V5F8;A0A7I2YQB3;A0A7I2V3E7;A0A7I2V3L9;A0A7I2YQW3;H0YE42;A0A7I2YQH8;A0A7I2V313;A0A7I2V3V9    22957 \n",
       "A0A024R6N5;A0A0G2JRN3                                                                                                                                                                                18864000 \n",
       "A0A075B6H9                                                                                                                                                                                              32968 \n",
       "                                                                                                                                                                                                     P_6.RIC_6\n",
       "Q9UBX1;A0A7I2V4A8;A0A7I2V411;A0A7I2V3X1;A0A7I2V2K3;H0YD65;A0A7I2V5Q1;A0A7I2V3M3;A0A7I2V5B9;A0A024R5G9;A0A7I2V5F8;A0A7I2YQB3;A0A7I2V3E7;A0A7I2V3L9;A0A7I2YQW3;H0YE42;A0A7I2YQH8;A0A7I2V313;A0A7I2V3V9    25641 \n",
       "A0A024R6N5;A0A0G2JRN3                                                                                                                                                                                24457000 \n",
       "A0A075B6H9                                                                                                                                                                                              38083 \n",
       "                                                                                                                                                                                                     P_6.RIC_7\n",
       "Q9UBX1;A0A7I2V4A8;A0A7I2V411;A0A7I2V3X1;A0A7I2V2K3;H0YD65;A0A7I2V5Q1;A0A7I2V3M3;A0A7I2V5B9;A0A024R5G9;A0A7I2V5F8;A0A7I2YQB3;A0A7I2V3E7;A0A7I2V3L9;A0A7I2YQW3;H0YE42;A0A7I2YQH8;A0A7I2V313;A0A7I2V3V9    28272 \n",
       "A0A024R6N5;A0A0G2JRN3                                                                                                                                                                                18069000 \n",
       "A0A075B6H9                                                                                                                                                                                              37138 \n",
       "                                                                                                                                                                                                     P_6.RIC_8\n",
       "Q9UBX1;A0A7I2V4A8;A0A7I2V411;A0A7I2V3X1;A0A7I2V2K3;H0YD65;A0A7I2V5Q1;A0A7I2V3M3;A0A7I2V5B9;A0A024R5G9;A0A7I2V5F8;A0A7I2YQB3;A0A7I2V3E7;A0A7I2V3L9;A0A7I2YQW3;H0YE42;A0A7I2YQH8;A0A7I2V313;A0A7I2V3V9    24008 \n",
       "A0A024R6N5;A0A0G2JRN3                                                                                                                                                                                27761000 \n",
       "A0A075B6H9                                                                                                                                                                                              35395 \n",
       "                                                                                                                                                                                                     P_6.RIC_9\n",
       "Q9UBX1;A0A7I2V4A8;A0A7I2V411;A0A7I2V3X1;A0A7I2V2K3;H0YD65;A0A7I2V5Q1;A0A7I2V3M3;A0A7I2V5B9;A0A024R5G9;A0A7I2V5F8;A0A7I2YQB3;A0A7I2V3E7;A0A7I2V3L9;A0A7I2YQW3;H0YE42;A0A7I2YQH8;A0A7I2V313;A0A7I2V3V9     25484\n",
       "A0A024R6N5;A0A0G2JRN3                                                                                                                                                                                196130000\n",
       "A0A075B6H9                                                                                                                                                                                               51815\n",
       "                                                                                                                                                                                                     P_6.RIC_10\n",
       "Q9UBX1;A0A7I2V4A8;A0A7I2V411;A0A7I2V3X1;A0A7I2V2K3;H0YD65;A0A7I2V5Q1;A0A7I2V3M3;A0A7I2V5B9;A0A024R5G9;A0A7I2V5F8;A0A7I2YQB3;A0A7I2V3E7;A0A7I2V3L9;A0A7I2YQW3;H0YE42;A0A7I2YQH8;A0A7I2V313;A0A7I2V3V9    27244  \n",
       "A0A024R6N5;A0A0G2JRN3                                                                                                                                                                                17399000  \n",
       "A0A075B6H9                                                                                                                                                                                              52347  \n",
       "                                                                                                                                                                                                     P_6.RIC_11\n",
       "Q9UBX1;A0A7I2V4A8;A0A7I2V411;A0A7I2V3X1;A0A7I2V2K3;H0YD65;A0A7I2V5Q1;A0A7I2V3M3;A0A7I2V5B9;A0A024R5G9;A0A7I2V5F8;A0A7I2YQB3;A0A7I2V3E7;A0A7I2V3L9;A0A7I2YQW3;H0YE42;A0A7I2YQH8;A0A7I2V313;A0A7I2V3V9    20172  \n",
       "A0A024R6N5;A0A0G2JRN3                                                                                                                                                                                16822000  \n",
       "A0A075B6H9                                                                                                                                                                                              35346  "
      ]
     },
     "metadata": {},
     "output_type": "display_data"
    }
   ],
   "source": [
    "head(pg_intensities, 3)"
   ]
  },
  {
   "cell_type": "code",
   "execution_count": 221,
   "metadata": {
    "vscode": {
     "languageId": "r"
    }
   },
   "outputs": [
    {
     "data": {
      "text/html": [
       "<style>\n",
       ".list-inline {list-style: none; margin:0; padding: 0}\n",
       ".list-inline>li {display: inline-block}\n",
       ".list-inline>li:not(:last-child)::after {content: \"\\00b7\"; padding: 0 .5ex}\n",
       "</style>\n",
       "<ol class=list-inline><li>760</li><li>23</li></ol>\n"
      ],
      "text/latex": [
       "\\begin{enumerate*}\n",
       "\\item 760\n",
       "\\item 23\n",
       "\\end{enumerate*}\n"
      ],
      "text/markdown": [
       "1. 760\n",
       "2. 23\n",
       "\n",
       "\n"
      ],
      "text/plain": [
       "[1] 760  23"
      ]
     },
     "metadata": {},
     "output_type": "display_data"
    },
    {
     "data": {
      "text/html": [
       "<style>\n",
       ".list-inline {list-style: none; margin:0; padding: 0}\n",
       ".list-inline>li {display: inline-block}\n",
       ".list-inline>li:not(:last-child)::after {content: \"\\00b7\"; padding: 0 .5ex}\n",
       "</style>\n",
       "<ol class=list-inline><li>664</li><li>23</li></ol>\n"
      ],
      "text/latex": [
       "\\begin{enumerate*}\n",
       "\\item 664\n",
       "\\item 23\n",
       "\\end{enumerate*}\n"
      ],
      "text/markdown": [
       "1. 664\n",
       "2. 23\n",
       "\n",
       "\n"
      ],
      "text/plain": [
       "[1] 664  23"
      ]
     },
     "metadata": {},
     "output_type": "display_data"
    }
   ],
   "source": [
    "pg_intensities_center_one <- pg_intensities %>%\n",
    "    select(c(\"Peptide.sequences\", metadata[metadata$Center == 'Center1',]$Quantitative.column.name))\n",
    "dim(pg_intensities_center_one)\n",
    "pg_intensities_center_one <- pg_intensities_center_one %>%\n",
    "    # filter rows that have all values missing - at leat two values are present\n",
    "    filter(rowSums(is.na(.)) < (dim(.)[2] - 1))\n",
    "dim(pg_intensities_center_one)\n",
    "\n",
    "pg_intensities_center_two <- pg_intensities %>%\n",
    "    select(c(\"Peptide.sequences\", metadata[metadata$Center == 'Center2',]$Quantitative.column.name)) %>%\n",
    "    # filter rows that have all values missing\n",
    "    filter(rowSums(is.na(.)) < (dim(.)[2] - 1))\n",
    "\n",
    "pg_intensities_center_three <- pg_intensities %>%\n",
    "    select(c(\"Peptide.sequences\", metadata[metadata$Center == 'Center3',]$Quantitative.column.name)) %>%\n",
    "    # filter rows that have all values missing\n",
    "    filter(rowSums(is.na(.)) < (dim(.)[2] - 1))\n"
   ]
  },
  {
   "cell_type": "code",
   "execution_count": 222,
   "metadata": {
    "vscode": {
     "languageId": "r"
    }
   },
   "outputs": [
    {
     "data": {
      "text/html": [
       "7795"
      ],
      "text/latex": [
       "7795"
      ],
      "text/markdown": [
       "7795"
      ],
      "text/plain": [
       "[1] 7795"
      ]
     },
     "metadata": {},
     "output_type": "display_data"
    },
    {
     "data": {
      "text/html": [
       "7812"
      ],
      "text/latex": [
       "7812"
      ],
      "text/markdown": [
       "7812"
      ],
      "text/plain": [
       "[1] 7812"
      ]
     },
     "metadata": {},
     "output_type": "display_data"
    },
    {
     "data": {
      "text/html": [
       "7554"
      ],
      "text/latex": [
       "7554"
      ],
      "text/markdown": [
       "7554"
      ],
      "text/plain": [
       "[1] 7554"
      ]
     },
     "metadata": {},
     "output_type": "display_data"
    }
   ],
   "source": [
    "# pg_one <- unique(unlist(strsplit(rownames(pg_intensities_center_one), \";\")))\n",
    "# length(pg_one)\n",
    "\n",
    "# pg_two <- unique(unlist(strsplit(rownames(pg_intensities_center_two), \";\")))\n",
    "# length(pg_two)\n",
    "\n",
    "# pg_three <- unique(unlist(strsplit(rownames(pg_intensities_center_three), \";\")))\n",
    "# length(pg_three)\n",
    "\n",
    "# common_proteins <- intersect(pg_one, pg_two) %>% intersect(pg_three) \n",
    "# length(common_proteins)\n",
    "\n",
    "\n",
    "\n",
    "# pg_one <- unique(rownames(pg_intensities_center_one), \";\")\n",
    "# length(pg_one)\n",
    "\n",
    "# pg_two <- unique(rownames(pg_intensities_center_two), \";\")\n",
    "# length(pg_two)\n",
    "\n",
    "# pg_three <- unique(rownames(pg_intensities_center_three), \";\")\n",
    "# length(pg_three)\n",
    "\n",
    "# common_proteins <- intersect(pg_one, pg_two) %>% intersect(pg_three) \n",
    "# length(common_proteins)\n",
    "\n",
    "\n",
    "\n",
    "pg_one <- unique(unlist(strsplit(pg_intensities_center_one$Peptide.sequences, \";\")))\n",
    "length(pg_one)\n",
    "\n",
    "pg_two <- unique(unlist(strsplit(pg_intensities_center_two$Peptide.sequences, \";\")))\n",
    "length(pg_two)\n",
    "\n",
    "pg_three <- unique(unlist(strsplit(pg_intensities_center_three$Peptide.sequences, \";\")))\n",
    "length(pg_three)\n",
    "\n",
    "common_proteins <- intersect(pg_one, pg_two) %>% intersect(pg_three) "
   ]
  },
  {
   "cell_type": "code",
   "execution_count": 223,
   "metadata": {
    "vscode": {
     "languageId": "r"
    }
   },
   "outputs": [
    {
     "data": {
      "image/png": "[encoded data removed]",
      "text/plain": [
       "plot without title"
      ]
     },
     "metadata": {
      "image/png": {
       "height": 180,
       "width": 360
      }
     },
     "output_type": "display_data"
    }
   ],
   "source": [
    "all_elements <- unique(c(pg_one, pg_two, pg_three))\n",
    "\n",
    "data <- data.frame(element = all_elements,\n",
    "                   pg_one = as.integer(all_elements %in% pg_one),\n",
    "                   pg_two = as.integer(all_elements %in% pg_two),\n",
    "                   pg_three = as.integer(all_elements %in% pg_three))\n",
    "\n",
    "options(repr.plot.width=6, repr.plot.height=3)\n",
    "upset(data, sets = c(\"pg_one\", \"pg_two\", \"pg_three\"), order.by = \"freq\",\n",
    "        # add title to the whole plot\n",
    "\n",
    "        main.bar.color = \"black\",\n",
    "        sets.bar.color = \"black\",\n",
    "        sets.x.label = \"Number of Majority.protein.IDs (in combined run)\",\n",
    "        )"
   ]
  },
  {
   "cell_type": "code",
   "execution_count": 207,
   "metadata": {
    "vscode": {
     "languageId": "r"
    }
   },
   "outputs": [],
   "source": [
    "for(seq in all_elements) {\n",
    "  if(grepl(\"[^ARNDCEQGHILKMFPSTWYV]\", seq)) {\n",
    "    print(seq)\n",
    "  }\n",
    "}"
   ]
  },
  {
   "cell_type": "code",
   "execution_count": 208,
   "metadata": {
    "vscode": {
     "languageId": "r"
    }
   },
   "outputs": [
    {
     "data": {
      "image/png": "[encoded data removed]",
      "text/plain": [
       "plot without title"
      ]
     },
     "metadata": {
      "image/png": {
       "height": 180,
       "width": 360
      }
     },
     "output_type": "display_data"
    }
   ],
   "source": [
    "all_elements <- unique(c(pg_one, pg_two, pg_three))\n",
    "\n",
    "data <- data.frame(element = all_elements,\n",
    "                   pg_one = as.integer(all_elements %in% pg_one),\n",
    "                   pg_two = as.integer(all_elements %in% pg_two),\n",
    "                   pg_three = as.integer(all_elements %in% pg_three))\n",
    "\n",
    "options(repr.plot.width=6, repr.plot.height=3)\n",
    "upset(data, sets = c(\"pg_one\", \"pg_two\", \"pg_three\"), order.by = \"freq\",\n",
    "        # add title to the whole plot\n",
    "\n",
    "        main.bar.color = \"black\",\n",
    "        sets.bar.color = \"black\",\n",
    "        sets.x.label = \"Number of peptides (in combined run)\",\n",
    "        )"
   ]
  },
  {
   "cell_type": "code",
   "execution_count": null,
   "metadata": {
    "vscode": {
     "languageId": "r"
    }
   },
   "outputs": [],
   "source": []
  },
  {
   "cell_type": "code",
   "execution_count": 209,
   "metadata": {
    "vscode": {
     "languageId": "r"
    }
   },
   "outputs": [],
   "source": [
    "# pg_intensities %>% write.table(\"/home/yuliya/repos/cosybio/FedProt/data/TMT_data/balanced_data/pg_intensities_combined.tsv\",\n",
    "#                                sep = \"\\t\", quote = FALSE, row.names = TRUE)\n",
    "\n",
    "# rownames(metadata) <- metadata$Quantitative.column.name\n",
    "# metadata %>% write.table(\"/home/yuliya/repos/cosybio/FedProt/data/TMT_data/balanced_data/metadata_combined.tsv\",\n",
    "#                             sep = \"\\t\", quote = FALSE, row.names = FALSE)\n",
    "    "
   ]
  },
  {
   "cell_type": "markdown",
   "metadata": {},
   "source": [
    "#### Gene.names"
   ]
  },
  {
   "cell_type": "code",
   "execution_count": 210,
   "metadata": {
    "vscode": {
     "languageId": "r"
    }
   },
   "outputs": [
    {
     "data": {
      "text/html": [
       "<style>\n",
       ".list-inline {list-style: none; margin:0; padding: 0}\n",
       ".list-inline>li {display: inline-block}\n",
       ".list-inline>li:not(:last-child)::after {content: \"\\00b7\"; padding: 0 .5ex}\n",
       "</style>\n",
       "<ol class=list-inline><li>768</li><li>66</li></ol>\n"
      ],
      "text/latex": [
       "\\begin{enumerate*}\n",
       "\\item 768\n",
       "\\item 66\n",
       "\\end{enumerate*}\n"
      ],
      "text/markdown": [
       "1. 768\n",
       "2. 66\n",
       "\n",
       "\n"
      ],
      "text/plain": [
       "[1] 768  66"
      ]
     },
     "metadata": {},
     "output_type": "display_data"
    },
    {
     "data": {
      "text/html": [
       "24.473"
      ],
      "text/latex": [
       "24.473"
      ],
      "text/markdown": [
       "24.473"
      ],
      "text/plain": [
       "[1] 24.473"
      ]
     },
     "metadata": {},
     "output_type": "display_data"
    }
   ],
   "source": [
    "# take only the columns that we need\n",
    "pg_intensities <- PG_report %>%\n",
    "    select(c(\"Gene.names\", rownames(metadata))) \n",
    "colnames(pg_intensities) <- c(\"Gene.names\", metadata$Quantitative.column.name)\n",
    "dim(pg_intensities)\n",
    "\n",
    "\n",
    "# remove rows with all values are zeros\n",
    "pg_intensities[pg_intensities==0] <- NA\n",
    "# count the % of missing values\n",
    "round(sum(is.na(pg_intensities)) * 100 / (dim(pg_intensities)[1] * dim(pg_intensities)[2]), 3)\n"
   ]
  },
  {
   "cell_type": "code",
   "execution_count": 211,
   "metadata": {
    "vscode": {
     "languageId": "r"
    }
   },
   "outputs": [
    {
     "data": {
      "text/html": [
       "<style>\n",
       ".list-inline {list-style: none; margin:0; padding: 0}\n",
       ".list-inline>li {display: inline-block}\n",
       ".list-inline>li:not(:last-child)::after {content: \"\\00b7\"; padding: 0 .5ex}\n",
       "</style>\n",
       "<ol class=list-inline><li>768</li><li>23</li></ol>\n"
      ],
      "text/latex": [
       "\\begin{enumerate*}\n",
       "\\item 768\n",
       "\\item 23\n",
       "\\end{enumerate*}\n"
      ],
      "text/markdown": [
       "1. 768\n",
       "2. 23\n",
       "\n",
       "\n"
      ],
      "text/plain": [
       "[1] 768  23"
      ]
     },
     "metadata": {},
     "output_type": "display_data"
    },
    {
     "data": {
      "text/html": [
       "<style>\n",
       ".list-inline {list-style: none; margin:0; padding: 0}\n",
       ".list-inline>li {display: inline-block}\n",
       ".list-inline>li:not(:last-child)::after {content: \"\\00b7\"; padding: 0 .5ex}\n",
       "</style>\n",
       "<ol class=list-inline><li>664</li><li>23</li></ol>\n"
      ],
      "text/latex": [
       "\\begin{enumerate*}\n",
       "\\item 664\n",
       "\\item 23\n",
       "\\end{enumerate*}\n"
      ],
      "text/markdown": [
       "1. 664\n",
       "2. 23\n",
       "\n",
       "\n"
      ],
      "text/plain": [
       "[1] 664  23"
      ]
     },
     "metadata": {},
     "output_type": "display_data"
    }
   ],
   "source": [
    "pg_intensities_center_one <- pg_intensities %>%\n",
    "    select(c(\"Gene.names\", metadata[metadata$Center == 'Center1',]$Quantitative.column.name))\n",
    "dim(pg_intensities_center_one)\n",
    "pg_intensities_center_one <- pg_intensities_center_one %>%\n",
    "    # filter rows that have all values missing - at leat two values are present\n",
    "    filter(rowSums(is.na(.)) < (dim(.)[2] - 2))\n",
    "dim(pg_intensities_center_one)\n",
    "\n",
    "pg_intensities_center_two <- pg_intensities %>%\n",
    "    select(c(\"Gene.names\", metadata[metadata$Center == 'Center2',]$Quantitative.column.name)) %>%\n",
    "    # filter rows that have all values missing\n",
    "    filter(rowSums(is.na(.)) < (dim(.)[2] - 2))\n",
    "\n",
    "pg_intensities_center_three <- pg_intensities %>%\n",
    "    select(c(\"Gene.names\", metadata[metadata$Center == 'Center3',]$Quantitative.column.name)) %>%\n",
    "    # filter rows that have all values missing\n",
    "    filter(rowSums(is.na(.)) < (dim(.)[2] - 2))\n"
   ]
  },
  {
   "cell_type": "code",
   "execution_count": 212,
   "metadata": {
    "vscode": {
     "languageId": "r"
    }
   },
   "outputs": [
    {
     "data": {
      "image/png": "[encoded data removed]",
      "text/plain": [
       "plot without title"
      ]
     },
     "metadata": {
      "image/png": {
       "height": 180,
       "width": 360
      }
     },
     "output_type": "display_data"
    }
   ],
   "source": [
    "gene_one <- unique(unlist(strsplit(filter(pg_intensities_center_one, Gene.names != '')$Gene.names, \";\")))\n",
    "gene_two <- unique(unlist(strsplit(filter(pg_intensities_center_two, Gene.names != '')$Gene.names, \";\")))\n",
    "gene_three <- unique(unlist(strsplit(filter(pg_intensities_center_three, Gene.names != '')$Gene.names, \";\")))\n",
    "\n",
    "all_elements <- unique(c(gene_one, pg_two, pg_three))\n",
    "\n",
    "data <- data.frame(element = all_elements,\n",
    "                   pg_one = as.integer(all_elements %in% gene_one),\n",
    "                   pg_two = as.integer(all_elements %in% gene_two),\n",
    "                   pg_three = as.integer(all_elements %in% gene_three))\n",
    "\n",
    "options(repr.plot.width=6, repr.plot.height=3)\n",
    "upset(data, sets = c(\"pg_one\", \"pg_two\", \"pg_three\"), order.by = \"freq\",\n",
    "        # add title to the whole plot\n",
    "\n",
    "        main.bar.color = \"black\",\n",
    "        sets.bar.color = \"black\",\n",
    "        sets.x.label = \"Number of Gene names\",\n",
    "        )"
   ]
  },
  {
   "cell_type": "code",
   "execution_count": null,
   "metadata": {
    "vscode": {
     "languageId": "r"
    }
   },
   "outputs": [],
   "source": [
    "gene_one <- unique(filter(pg_intensities_center_one, Gene.names != '')$Gene.names)\n",
    "gene_two <- unique(filter(pg_intensities_center_two, Gene.names != '')$Gene.names)\n",
    "gene_three <- unique(filter(pg_intensities_center_three, Gene.names != '')$Gene.names)\n",
    "\n",
    "all_elements <- unique(c(gene_one, pg_two, pg_three))\n",
    "\n",
    "data <- data.frame(element = all_elements,\n",
    "                   pg_one = as.integer(all_elements %in% gene_one),\n",
    "                   pg_two = as.integer(all_elements %in% gene_two),\n",
    "                   pg_three = as.integer(all_elements %in% gene_three))\n",
    "\n",
    "options(repr.plot.width=6, repr.plot.height=3)\n",
    "upset(data, sets = c(\"pg_one\", \"pg_two\", \"pg_three\"), order.by = \"freq\",\n",
    "        # add title to the whole plot\n",
    "\n",
    "        main.bar.color = \"black\",\n",
    "        sets.bar.color = \"black\",\n",
    "        sets.x.label = \"Number of Gene names\",\n",
    "        )"
   ]
  },
  {
   "cell_type": "code",
   "execution_count": null,
   "metadata": {
    "vscode": {
     "languageId": "r"
    }
   },
   "outputs": [],
   "source": []
  },
  {
   "cell_type": "code",
   "execution_count": null,
   "metadata": {
    "vscode": {
     "languageId": "r"
    }
   },
   "outputs": [],
   "source": []
  },
  {
   "cell_type": "markdown",
   "metadata": {},
   "source": [
    "#### counts"
   ]
  },
  {
   "cell_type": "code",
   "execution_count": 9,
   "metadata": {
    "vscode": {
     "languageId": "r"
    }
   },
   "outputs": [
    {
     "data": {
      "text/html": [
       "<style>\n",
       ".list-inline {list-style: none; margin:0; padding: 0}\n",
       ".list-inline>li {display: inline-block}\n",
       ".list-inline>li:not(:last-child)::after {content: \"\\00b7\"; padding: 0 .5ex}\n",
       "</style>\n",
       "<ol class=list-inline><li>666</li><li>1</li></ol>\n"
      ],
      "text/latex": [
       "\\begin{enumerate*}\n",
       "\\item 666\n",
       "\\item 1\n",
       "\\end{enumerate*}\n"
      ],
      "text/markdown": [
       "1. 666\n",
       "2. 1\n",
       "\n",
       "\n"
      ],
      "text/plain": [
       "[1] 666   1"
      ]
     },
     "metadata": {},
     "output_type": "display_data"
    }
   ],
   "source": [
    "pg_counts <- PG_report %>%\n",
    "    select(c(\"Protein.IDs\", \"Razor...unique.peptides\")) \n",
    "rownames(pg_counts) <- pg_counts$Protein.IDs\n",
    "pg_counts$Protein.IDs <- NULL\n",
    "\n",
    "pg_counts <- pg_counts + 1\n",
    "\n",
    "dim(pg_counts)\n",
    "\n",
    "pg_counts %>% write.table(\"/home/yuliya/repos/cosybio/FedProt/data/TMT_data/balanced_data/pg_counts_combined.tsv\",\n",
    "                               sep = \"\\t\", quote = FALSE, row.names = TRUE)"
   ]
  },
  {
   "cell_type": "markdown",
   "metadata": {},
   "source": [
    "# EDA combined data"
   ]
  },
  {
   "cell_type": "markdown",
   "metadata": {},
   "source": [
    "## plots"
   ]
  },
  {
   "cell_type": "code",
   "execution_count": 10,
   "metadata": {
    "vscode": {
     "languageId": "r"
    }
   },
   "outputs": [],
   "source": [
    "pca_plot <- function(df, batch_info, title, path) {\n",
    "  pca <- prcomp(t(na.omit(df)))\n",
    "  pca_df <- pca$x %>%\n",
    "    as.data.frame() %>%\n",
    "    rownames_to_column(\"Quantitative.column.name\") %>% \n",
    "    left_join(batch_info,  by = \"Quantitative.column.name\") \n",
    "  var_expl <- pca$sdev^2 / sum(pca$sdev^2)\n",
    "  names(var_expl) <- paste0(\"PC\", 1:length(var_expl))\n",
    "\n",
    "  pca_plot <- pca_df %>%\n",
    "    ggplot(aes(PC1, PC2)) +\n",
    "    geom_point(aes(col=Group, shape=Center), size=3)  +\n",
    "    theme_classic() +\n",
    "    labs(title = title,\n",
    "         x = glue::glue(\"PC1 [{round(var_expl['PC1']*100, 2)}%]\"),\n",
    "         y = glue::glue(\"PC2 [{round(var_expl['PC2']*100, 2)}%]\"))\n",
    "\n",
    "   # Check if \"RIC_3.P_3\" exists in the pca_df dataframe\n",
    "  if(\"RIC_3.P_3\" %in% pca_df$Quantitative.column.name) {\n",
    "    pca_plot <- pca_plot +\n",
    "      geom_text(data = pca_df[pca_df$Quantitative.column.name == \"RIC_3.P_3\", ], aes(label = Quantitative.column.name), \n",
    "                vjust = 1, hjust = 0)\n",
    "  }\n",
    "  ggsave(path, pca_plot, width = 5, height = 5)\n",
    "  return(pca_plot)\n",
    "}\n",
    "\n",
    "\n",
    "# boxplot\n",
    "boxplot_pg <- function(protein_matrix, title, path) {\n",
    "  # Reshape data into long format\n",
    "  long_data <- tidyr::gather(protein_matrix, \n",
    "                             key = \"file\", value = \"Intensity\")\n",
    "  # Log tranformed scale\n",
    "  boxplot <- ggplot(long_data, aes(x = file, y = Intensity)) + \n",
    "    geom_boxplot() +\n",
    "    stat_summary(fun = mean, geom = \"point\", shape = 4, size = 3, color = \"red\") +\n",
    "    theme_bw() +\n",
    "    theme(axis.text.x = element_text(angle = 90, vjust = 0.5, hjust = 1)) +\n",
    "    # adjust fonsize for the x-axis\n",
    "    theme(axis.text.x = element_text(size = 8)) +\n",
    "    labs(title = title) \n",
    "\n",
    "  if(path == \"\") {\n",
    "    return(boxplot)\n",
    "  } else {\n",
    "      ggsave(path, boxplot)\n",
    "      return(boxplot)\n",
    "  }\n",
    "\n",
    "}\n",
    "\n",
    "\n",
    "heatmap_plot <- function(pg_matrix, batch_info, name, plot_name_prefix){\n",
    "    cor_matrix <- cor(na.omit(pg_matrix), use = \"pairwise.complete.obs\")\n",
    "    pheatmap::pheatmap(cor_matrix, \n",
    "                        annotation_col = select(batch_info, c(Group, Center)),\n",
    "                        treeheight_row = 0, treeheight_col = 0, \n",
    "                        main = paste0(name),\n",
    "                        fontsize = 8,\n",
    "                        width = 8, height = 7,\n",
    "                        filename = paste0(plot_name_prefix, \"_heatmap.png\"))\n",
    "}\n",
    "\n"
   ]
  },
  {
   "cell_type": "code",
   "execution_count": 11,
   "metadata": {
    "vscode": {
     "languageId": "r"
    }
   },
   "outputs": [],
   "source": [
    "plot_three_in_one <- function(pg_matrix, metadata, name, plot_name_prefix) {\n",
    "\n",
    "    pca <- pca_plot(pg_matrix, metadata, paste0(name, ' pca'), paste0(plot_name_prefix, '_pca.png'))\n",
    "    box <- boxplot_pg(pg_matrix, paste0(name, ' boxplot'), paste0(plot_name_prefix, '_boxplot.png'))\n",
    "    heatmap_plot(pg_matrix, metadata, name, plot_name_prefix)\n",
    "    \n",
    "    combined_plot <- plot_grid(pca, box, ncol = 1, align = \"v\")\n",
    "\n",
    "    # Save the combined plot\n",
    "    ggsave(paste0(plot_name_prefix, \"_combined_two.png\"), combined_plot, width = 8, height = 11)\n",
    "}"
   ]
  },
  {
   "cell_type": "markdown",
   "metadata": {},
   "source": [
    "## results"
   ]
  },
  {
   "cell_type": "code",
   "execution_count": 12,
   "metadata": {
    "vscode": {
     "languageId": "r"
    }
   },
   "outputs": [],
   "source": [
    "metadata <- metadata %>%\n",
    "    mutate(Group = as.factor(Group), Center = as.factor(Center), Reporter.ion = as.factor(Reporter.ion)) %>%\n",
    "    mutate(Quantitative.column.name = gsub(\" \", \".\", Quantitative.column.name))"
   ]
  },
  {
   "cell_type": "code",
   "execution_count": 13,
   "metadata": {
    "vscode": {
     "languageId": "r"
    }
   },
   "outputs": [
    {
     "name": "stderr",
     "output_type": "stream",
     "text": [
      "\u001b[1m\u001b[22mSaving 6.67 x 6.67 in image\n",
      "Warning message:\n",
      "“\u001b[1m\u001b[22mRemoved 9543 rows containing non-finite values (`stat_boxplot()`).”\n",
      "Warning message:\n",
      "“\u001b[1m\u001b[22mRemoved 9543 rows containing non-finite values (`stat_summary()`).”\n",
      "Warning message:\n",
      "“\u001b[1m\u001b[22mRemoved 9543 rows containing non-finite values (`stat_boxplot()`).”\n",
      "Warning message:\n",
      "“\u001b[1m\u001b[22mRemoved 9543 rows containing non-finite values (`stat_summary()`).”\n",
      "Warning message:\n",
      "“Graphs cannot be vertically aligned unless the axis parameter is set. Placing graphs unaligned.”\n"
     ]
    }
   ],
   "source": [
    "plot_three_in_one(log2(pg_intensities + 1),\n",
    "                  metadata,\n",
    "                  \"TMT-data, raw protein intensities, log2-transformed\",\n",
    "                  \"/home/yuliya/repos/cosybio/FedProt/data/TMT_data/balanced_data/combined_plots/01_pg_intensities_raw_log\")\n",
    "                  "
   ]
  },
  {
   "cell_type": "code",
   "execution_count": 14,
   "metadata": {
    "vscode": {
     "languageId": "r"
    }
   },
   "outputs": [
    {
     "data": {
      "text/html": [
       "<table class=\"dataframe\">\n",
       "<caption>A data.frame: 6 × 6</caption>\n",
       "<thead>\n",
       "\t<tr><th></th><th scope=col>Quantitative.column.name</th><th scope=col>Pool</th><th scope=col>Reporter.ion</th><th scope=col>Patient</th><th scope=col>Group</th><th scope=col>Center</th></tr>\n",
       "\t<tr><th></th><th scope=col>&lt;chr&gt;</th><th scope=col>&lt;chr&gt;</th><th scope=col>&lt;fct&gt;</th><th scope=col>&lt;chr&gt;</th><th scope=col>&lt;fct&gt;</th><th scope=col>&lt;fct&gt;</th></tr>\n",
       "</thead>\n",
       "<tbody>\n",
       "\t<tr><th scope=row>P_1.RIC_1</th><td>P_1.RIC_1</td><td>Pool1</td><td>126 </td><td>Common Reference</td><td>Common Reference</td><td>Center1</td></tr>\n",
       "\t<tr><th scope=row>P_1.RIC_2</th><td>P_1.RIC_2</td><td>Pool1</td><td>127N</td><td>heathy1         </td><td>heathy          </td><td>Center1</td></tr>\n",
       "\t<tr><th scope=row>P_1.RIC_3</th><td>P_1.RIC_3</td><td>Pool1</td><td>127C</td><td>FSGS1           </td><td>FSGS            </td><td>Center1</td></tr>\n",
       "\t<tr><th scope=row>P_1.RIC_4</th><td>P_1.RIC_4</td><td>Pool1</td><td>128N</td><td>heathy2         </td><td>heathy          </td><td>Center1</td></tr>\n",
       "\t<tr><th scope=row>P_1.RIC_5</th><td>P_1.RIC_5</td><td>Pool1</td><td>128C</td><td>FSGS2           </td><td>FSGS            </td><td>Center1</td></tr>\n",
       "\t<tr><th scope=row>P_1.RIC_6</th><td>P_1.RIC_6</td><td>Pool1</td><td>129N</td><td>heathy3         </td><td>heathy          </td><td>Center1</td></tr>\n",
       "</tbody>\n",
       "</table>\n"
      ],
      "text/latex": [
       "A data.frame: 6 × 6\n",
       "\\begin{tabular}{r|llllll}\n",
       "  & Quantitative.column.name & Pool & Reporter.ion & Patient & Group & Center\\\\\n",
       "  & <chr> & <chr> & <fct> & <chr> & <fct> & <fct>\\\\\n",
       "\\hline\n",
       "\tP\\_1.RIC\\_1 & P\\_1.RIC\\_1 & Pool1 & 126  & Common Reference & Common Reference & Center1\\\\\n",
       "\tP\\_1.RIC\\_2 & P\\_1.RIC\\_2 & Pool1 & 127N & heathy1          & heathy           & Center1\\\\\n",
       "\tP\\_1.RIC\\_3 & P\\_1.RIC\\_3 & Pool1 & 127C & FSGS1            & FSGS             & Center1\\\\\n",
       "\tP\\_1.RIC\\_4 & P\\_1.RIC\\_4 & Pool1 & 128N & heathy2          & heathy           & Center1\\\\\n",
       "\tP\\_1.RIC\\_5 & P\\_1.RIC\\_5 & Pool1 & 128C & FSGS2            & FSGS             & Center1\\\\\n",
       "\tP\\_1.RIC\\_6 & P\\_1.RIC\\_6 & Pool1 & 129N & heathy3          & heathy           & Center1\\\\\n",
       "\\end{tabular}\n"
      ],
      "text/markdown": [
       "\n",
       "A data.frame: 6 × 6\n",
       "\n",
       "| <!--/--> | Quantitative.column.name &lt;chr&gt; | Pool &lt;chr&gt; | Reporter.ion &lt;fct&gt; | Patient &lt;chr&gt; | Group &lt;fct&gt; | Center &lt;fct&gt; |\n",
       "|---|---|---|---|---|---|---|\n",
       "| P_1.RIC_1 | P_1.RIC_1 | Pool1 | 126  | Common Reference | Common Reference | Center1 |\n",
       "| P_1.RIC_2 | P_1.RIC_2 | Pool1 | 127N | heathy1          | heathy           | Center1 |\n",
       "| P_1.RIC_3 | P_1.RIC_3 | Pool1 | 127C | FSGS1            | FSGS             | Center1 |\n",
       "| P_1.RIC_4 | P_1.RIC_4 | Pool1 | 128N | heathy2          | heathy           | Center1 |\n",
       "| P_1.RIC_5 | P_1.RIC_5 | Pool1 | 128C | FSGS2            | FSGS             | Center1 |\n",
       "| P_1.RIC_6 | P_1.RIC_6 | Pool1 | 129N | heathy3          | heathy           | Center1 |\n",
       "\n"
      ],
      "text/plain": [
       "          Quantitative.column.name Pool  Reporter.ion Patient         \n",
       "P_1.RIC_1 P_1.RIC_1                Pool1 126          Common Reference\n",
       "P_1.RIC_2 P_1.RIC_2                Pool1 127N         heathy1         \n",
       "P_1.RIC_3 P_1.RIC_3                Pool1 127C         FSGS1           \n",
       "P_1.RIC_4 P_1.RIC_4                Pool1 128N         heathy2         \n",
       "P_1.RIC_5 P_1.RIC_5                Pool1 128C         FSGS2           \n",
       "P_1.RIC_6 P_1.RIC_6                Pool1 129N         heathy3         \n",
       "          Group            Center \n",
       "P_1.RIC_1 Common Reference Center1\n",
       "P_1.RIC_2 heathy           Center1\n",
       "P_1.RIC_3 FSGS             Center1\n",
       "P_1.RIC_4 heathy           Center1\n",
       "P_1.RIC_5 FSGS             Center1\n",
       "P_1.RIC_6 heathy           Center1"
      ]
     },
     "metadata": {},
     "output_type": "display_data"
    }
   ],
   "source": [
    "head(metadata)"
   ]
  },
  {
   "cell_type": "code",
   "execution_count": 15,
   "metadata": {
    "vscode": {
     "languageId": "r"
    }
   },
   "outputs": [
    {
     "name": "stderr",
     "output_type": "stream",
     "text": [
      "\u001b[1m\u001b[22m`summarise()` has grouped output by 'Center', 'Pool'. You can override using\n",
      "the `.groups` argument.\n",
      "\u001b[1m\u001b[22m`summarise()` has grouped output by 'Center'. You can override using the\n",
      "`.groups` argument.\n"
     ]
    },
    {
     "data": {
      "text/html": [
       "<table class=\"dataframe\">\n",
       "<caption>A grouped_df: 6 × 4</caption>\n",
       "<thead>\n",
       "\t<tr><th scope=col>Center</th><th scope=col>Pool</th><th scope=col>mean_sample_sum</th><th scope=col>mean_sample_mean</th></tr>\n",
       "\t<tr><th scope=col>&lt;fct&gt;</th><th scope=col>&lt;chr&gt;</th><th scope=col>&lt;dbl&gt;</th><th scope=col>&lt;dbl&gt;</th></tr>\n",
       "</thead>\n",
       "<tbody>\n",
       "\t<tr><td>Center1</td><td>Pool1</td><td> 160719146</td><td> 293819.3</td></tr>\n",
       "\t<tr><td>Center1</td><td>Pool2</td><td> 147686435</td><td> 287327.7</td></tr>\n",
       "\t<tr><td>Center2</td><td>Pool3</td><td> 418114201</td><td> 802820.2</td></tr>\n",
       "\t<tr><td>Center2</td><td>Pool5</td><td> 388265344</td><td> 679974.3</td></tr>\n",
       "\t<tr><td>Center3</td><td>Pool4</td><td>2025653562</td><td>4598472.4</td></tr>\n",
       "\t<tr><td>Center3</td><td>Pool6</td><td>2605146812</td><td>5354713.1</td></tr>\n",
       "</tbody>\n",
       "</table>\n"
      ],
      "text/latex": [
       "A grouped\\_df: 6 × 4\n",
       "\\begin{tabular}{llll}\n",
       " Center & Pool & mean\\_sample\\_sum & mean\\_sample\\_mean\\\\\n",
       " <fct> & <chr> & <dbl> & <dbl>\\\\\n",
       "\\hline\n",
       "\t Center1 & Pool1 &  160719146 &  293819.3\\\\\n",
       "\t Center1 & Pool2 &  147686435 &  287327.7\\\\\n",
       "\t Center2 & Pool3 &  418114201 &  802820.2\\\\\n",
       "\t Center2 & Pool5 &  388265344 &  679974.3\\\\\n",
       "\t Center3 & Pool4 & 2025653562 & 4598472.4\\\\\n",
       "\t Center3 & Pool6 & 2605146812 & 5354713.1\\\\\n",
       "\\end{tabular}\n"
      ],
      "text/markdown": [
       "\n",
       "A grouped_df: 6 × 4\n",
       "\n",
       "| Center &lt;fct&gt; | Pool &lt;chr&gt; | mean_sample_sum &lt;dbl&gt; | mean_sample_mean &lt;dbl&gt; |\n",
       "|---|---|---|---|\n",
       "| Center1 | Pool1 |  160719146 |  293819.3 |\n",
       "| Center1 | Pool2 |  147686435 |  287327.7 |\n",
       "| Center2 | Pool3 |  418114201 |  802820.2 |\n",
       "| Center2 | Pool5 |  388265344 |  679974.3 |\n",
       "| Center3 | Pool4 | 2025653562 | 4598472.4 |\n",
       "| Center3 | Pool6 | 2605146812 | 5354713.1 |\n",
       "\n"
      ],
      "text/plain": [
       "  Center  Pool  mean_sample_sum mean_sample_mean\n",
       "1 Center1 Pool1  160719146       293819.3       \n",
       "2 Center1 Pool2  147686435       287327.7       \n",
       "3 Center2 Pool3  418114201       802820.2       \n",
       "4 Center2 Pool5  388265344       679974.3       \n",
       "5 Center3 Pool4 2025653562      4598472.4       \n",
       "6 Center3 Pool6 2605146812      5354713.1       "
      ]
     },
     "metadata": {},
     "output_type": "display_data"
    }
   ],
   "source": [
    "# print(format(round(colSums(pg_intensities, na.rm = TRUE), digits = 0), big.mark = \",\"))\n",
    "\n",
    "# the same using tidyverse and summarize function\n",
    "pg_intensities %>%\n",
    "    # summarize(across(everything(), ~sum(., na.rm = TRUE))) %>%\n",
    "    pivot_longer(cols = everything(), \n",
    "                 names_to = \"Quantitative.column.name\", \n",
    "                 values_to = \"Value\") %>%\n",
    "    na.omit() %>%\n",
    "    left_join(select(metadata, c(Quantitative.column.name, Pool, Center)), by = 'Quantitative.column.name') %>%\n",
    "    group_by(Center, Pool, Quantitative.column.name) %>%\n",
    "    summarize(sum = sum(Value, na.rm = TRUE), mean = mean(Value, na.rm = TRUE)) %>%\n",
    "    group_by(Center, Pool) %>%\n",
    "    summarise(mean_sample_sum = mean(sum), mean_sample_mean = mean(mean))"
   ]
  },
  {
   "cell_type": "markdown",
   "metadata": {},
   "source": [
    "# Normalization"
   ]
  },
  {
   "cell_type": "markdown",
   "metadata": {},
   "source": [
    "### Methods\n",
    "\n",
    "!!!!!!!!!!!!!!!!!!!!! Contains bugs!"
   ]
  },
  {
   "cell_type": "code",
   "execution_count": 16,
   "metadata": {
    "vscode": {
     "languageId": "r"
    }
   },
   "outputs": [],
   "source": [
    "iRS_function <- function(df, metadata, sample_column = 'Quantitative.column.name',\n",
    "                         group_column = 'Group', reference_name = 'Common Reference',\n",
    "                         pool_column = 'Pool', batch_column = 'Center') {\n",
    "  \n",
    "  df <- df %>% rownames_to_column(\"Protein.IDs\")\n",
    "  \n",
    "  # Convert to long format while preserving the protein identifier\n",
    "  df_long <- pivot_longer(df, cols = -Protein.IDs, names_to = sample_column, values_to = \"Value\")\n",
    "  \n",
    "  # Merge long format data with metadata\n",
    "  df_long <- left_join(df_long, metadata, by = sample_column)\n",
    "  \n",
    "  # Isolate 'Common Reference' samples and ensure calculations are per protein within each center\n",
    "  common_refs <- df_long %>% \n",
    "    filter(!!sym(group_column) == reference_name) %>%\n",
    "    select(-!!sym(group_column), -!!sym(sample_column))\n",
    "  \n",
    "  # Compute the geometric mean of 'Common Reference' across all plexes for each protein within each center\n",
    "  common_geo_mean <- common_refs %>%\n",
    "    group_by(Protein.IDs, !!sym(batch_column)) %>%\n",
    "    # group_by(Protein.IDs) %>%\n",
    "    summarise(OverallGeoMean = exp(mean(log(Value), na.rm = TRUE)), .groups = 'drop')\n",
    "    # summarise(OverallGeoMean = exp(mean(log(Value))), .groups = 'drop')\n",
    "\n",
    "\n",
    "  # Calculate IRS factors for each 'Common Reference' in each plex, per protein, within each center\n",
    "  irs_factors <- common_refs %>%\n",
    "    left_join(common_geo_mean, by = c(\"Protein.IDs\", batch_column)) %>%\n",
    "    # left_join(common_geo_mean, by = c(\"Protein.IDs\")) %>%\n",
    "    group_by(!!sym(pool_column), Protein.IDs, !!sym(batch_column)) %>%\n",
    "    # group_by(!!sym(pool_column), Protein.IDs) %>%\n",
    "    summarise(IRSFactor = OverallGeoMean / mean(Value), .groups = 'drop')\n",
    "  \n",
    "  # Apply IRS scaling to all samples in each plex, per protein, within each center\n",
    "  df_scaled <- df_long %>%\n",
    "    left_join(irs_factors, by = c(pool_column, \"Protein.IDs\", batch_column)) %>%\n",
    "    # left_join(irs_factors, by = c(pool_column, \"Protein.IDs\")) %>%\n",
    "    mutate(ScaledValue = ifelse(is.na(IRSFactor), Value, Value * IRSFactor))\n",
    "  \n",
    "  # Pivot back to wide format if necessary, with proteins as rows and samples as columns\n",
    "  df_final <- pivot_wider(df_scaled, names_from = sample_column, values_from = ScaledValue, id_cols = \"Protein.IDs\") %>%\n",
    "    column_to_rownames(\"Protein.IDs\")\n",
    "  \n",
    "  return(df_final)\n",
    "}\n",
    "\n",
    "\n",
    "\n",
    "median_noramlization <- function(df, log_normalized = FALSE) {\n",
    "  if(!log_normalized) {\n",
    "    df <- log2(df + 1)\n",
    "  }\n",
    "  medians <- apply(df, 2, median, na.rm = TRUE)\n",
    "  normalized_df <- sweep(df, 2, medians, FUN=\"/\")\n",
    "  mean_of_medians <- mean(medians, na.rm=TRUE)\n",
    "  normalized_df <- as.data.frame(normalized_df * mean_of_medians)\n",
    "\n",
    "  return(normalized_df)\n",
    "}\n",
    "\n",
    "sample_load_norm <- function(data_raw, metadata){\n",
    "\n",
    "  # Ensure column names from data_raw match the Quantitative.column.name names in metadata\n",
    "  data_raw <- data_raw[, metadata$Quantitative.column.name]\n",
    "  \n",
    "  # Initialize an empty list to store split experiments\n",
    "  experiments_raw <- list()\n",
    "  \n",
    "  # Separate data_raw based on Pool information in metadata\n",
    "  unique_pools <- unique(metadata$Pool)\n",
    "  for (i in 1:length(unique_pools)) {\n",
    "    pool_samples <- metadata$Quantitative.column.name[metadata$Pool == unique_pools[i]]\n",
    "    experiments_raw[[i]] <- data_raw[, pool_samples, drop = FALSE]\n",
    "  }\n",
    "  \n",
    "  # Initialize an empty list for storing normalized data\n",
    "  experiments_sl <- list()\n",
    "  \n",
    "  # Calculate the target for normalization\n",
    "  target <- mean(unlist(sapply(experiments_raw, function(exp) colSums(exp, na.rm = TRUE))))\n",
    "  \n",
    "  # Normalize each experiment\n",
    "  for (i in 1:length(experiments_raw)) {\n",
    "    norm_facs <- target / colSums(experiments_raw[[i]], na.rm = TRUE)\n",
    "    experiments_sl[[i]] <- sweep(experiments_raw[[i]], 2, norm_facs, FUN = \"*\")\n",
    "  }\n",
    "  \n",
    "  # Combine normalized data from all experiments\n",
    "  data_sl <- do.call(cbind, experiments_sl)\n",
    "  \n",
    "  return(as.data.frame(data_sl))\n",
    "\n",
    "}"
   ]
  },
  {
   "cell_type": "markdown",
   "metadata": {},
   "source": [
    "### iRS - Median - BEC"
   ]
  },
  {
   "cell_type": "code",
   "execution_count": 17,
   "metadata": {
    "vscode": {
     "languageId": "r"
    }
   },
   "outputs": [
    {
     "name": "stderr",
     "output_type": "stream",
     "text": [
      "Warning message:\n",
      "“\u001b[1m\u001b[22mUsing an external vector in selections was deprecated in tidyselect 1.1.0.\n",
      "\u001b[36mℹ\u001b[39m Please use `all_of()` or `any_of()` instead.\n",
      "  # Was:\n",
      "  data %>% select(sample_column)\n",
      "\n",
      "  # Now:\n",
      "  data %>% select(all_of(sample_column))\n",
      "\n",
      "See <https://tidyselect.r-lib.org/reference/faq-external-vector.html>.”\n"
     ]
    },
    {
     "data": {
      "text/html": [
       "<style>\n",
       ".list-inline {list-style: none; margin:0; padding: 0}\n",
       ".list-inline>li {display: inline-block}\n",
       ".list-inline>li:not(:last-child)::after {content: \"\\00b7\"; padding: 0 .5ex}\n",
       "</style>\n",
       "<ol class=list-inline><li>660</li><li>65</li></ol>\n"
      ],
      "text/latex": [
       "\\begin{enumerate*}\n",
       "\\item 660\n",
       "\\item 65\n",
       "\\end{enumerate*}\n"
      ],
      "text/markdown": [
       "1. 660\n",
       "2. 65\n",
       "\n",
       "\n"
      ],
      "text/plain": [
       "[1] 660  65"
      ]
     },
     "metadata": {},
     "output_type": "display_data"
    },
    {
     "data": {
      "text/html": [
       "22.245"
      ],
      "text/latex": [
       "22.245"
      ],
      "text/markdown": [
       "22.245"
      ],
      "text/plain": [
       "[1] 22.245"
      ]
     },
     "metadata": {},
     "output_type": "display_data"
    },
    {
     "name": "stderr",
     "output_type": "stream",
     "text": [
      "\u001b[1m\u001b[22mSaving 6.67 x 6.67 in image\n",
      "Warning message:\n",
      "“\u001b[1m\u001b[22mRemoved 9543 rows containing non-finite values (`stat_boxplot()`).”\n",
      "Warning message:\n",
      "“\u001b[1m\u001b[22mRemoved 9543 rows containing non-finite values (`stat_summary()`).”\n",
      "Warning message:\n",
      "“\u001b[1m\u001b[22mRemoved 9543 rows containing non-finite values (`stat_boxplot()`).”\n",
      "Warning message:\n",
      "“\u001b[1m\u001b[22mRemoved 9543 rows containing non-finite values (`stat_summary()`).”\n",
      "Warning message:\n",
      "“Graphs cannot be vertically aligned unless the axis parameter is set. Placing graphs unaligned.”\n"
     ]
    }
   ],
   "source": [
    "intensities_scaled <- iRS_function(pg_intensities, metadata)\n",
    "\n",
    "dim(intensities_scaled)\n",
    "round(sum(is.na(intensities_scaled)) * 100 / (dim(intensities_scaled)[1] * dim(intensities_scaled)[2]), 3)\n",
    "\n",
    "plot_three_in_one(log2(intensities_scaled + 1),\n",
    "                  metadata,\n",
    "                  \"TMT, iRS-scaled protein intensities, log2-transformed\",\n",
    "                  \"/home/yuliya/repos/cosybio/FedProt/data/TMT_data/balanced_data/combined_plots/02_pg_intensities_scaled_log\")\n",
    "                  "
   ]
  },
  {
   "cell_type": "code",
   "execution_count": 18,
   "metadata": {
    "vscode": {
     "languageId": "r"
    }
   },
   "outputs": [
    {
     "name": "stderr",
     "output_type": "stream",
     "text": [
      "\u001b[1m\u001b[22m`summarise()` has grouped output by 'Center', 'Pool'. You can override using\n",
      "the `.groups` argument.\n"
     ]
    },
    {
     "name": "stderr",
     "output_type": "stream",
     "text": [
      "\u001b[1m\u001b[22m`summarise()` has grouped output by 'Center'. You can override using the\n",
      "`.groups` argument.\n"
     ]
    },
    {
     "data": {
      "text/html": [
       "<table class=\"dataframe\">\n",
       "<caption>A grouped_df: 6 × 4</caption>\n",
       "<thead>\n",
       "\t<tr><th scope=col>Center</th><th scope=col>Pool</th><th scope=col>mean_sample_sum</th><th scope=col>mean_sample_mean</th></tr>\n",
       "\t<tr><th scope=col>&lt;fct&gt;</th><th scope=col>&lt;chr&gt;</th><th scope=col>&lt;dbl&gt;</th><th scope=col>&lt;dbl&gt;</th></tr>\n",
       "</thead>\n",
       "<tbody>\n",
       "\t<tr><td>Center1</td><td>Pool1</td><td> 154202412</td><td> 281905.7</td></tr>\n",
       "\t<tr><td>Center1</td><td>Pool2</td><td> 154436630</td><td> 300460.4</td></tr>\n",
       "\t<tr><td>Center2</td><td>Pool3</td><td> 405178100</td><td> 777981.3</td></tr>\n",
       "\t<tr><td>Center2</td><td>Pool5</td><td> 401299412</td><td> 702801.1</td></tr>\n",
       "\t<tr><td>Center3</td><td>Pool4</td><td>2244488256</td><td>5095113.2</td></tr>\n",
       "\t<tr><td>Center3</td><td>Pool6</td><td>2357666715</td><td>4846036.1</td></tr>\n",
       "</tbody>\n",
       "</table>\n"
      ],
      "text/latex": [
       "A grouped\\_df: 6 × 4\n",
       "\\begin{tabular}{llll}\n",
       " Center & Pool & mean\\_sample\\_sum & mean\\_sample\\_mean\\\\\n",
       " <fct> & <chr> & <dbl> & <dbl>\\\\\n",
       "\\hline\n",
       "\t Center1 & Pool1 &  154202412 &  281905.7\\\\\n",
       "\t Center1 & Pool2 &  154436630 &  300460.4\\\\\n",
       "\t Center2 & Pool3 &  405178100 &  777981.3\\\\\n",
       "\t Center2 & Pool5 &  401299412 &  702801.1\\\\\n",
       "\t Center3 & Pool4 & 2244488256 & 5095113.2\\\\\n",
       "\t Center3 & Pool6 & 2357666715 & 4846036.1\\\\\n",
       "\\end{tabular}\n"
      ],
      "text/markdown": [
       "\n",
       "A grouped_df: 6 × 4\n",
       "\n",
       "| Center &lt;fct&gt; | Pool &lt;chr&gt; | mean_sample_sum &lt;dbl&gt; | mean_sample_mean &lt;dbl&gt; |\n",
       "|---|---|---|---|\n",
       "| Center1 | Pool1 |  154202412 |  281905.7 |\n",
       "| Center1 | Pool2 |  154436630 |  300460.4 |\n",
       "| Center2 | Pool3 |  405178100 |  777981.3 |\n",
       "| Center2 | Pool5 |  401299412 |  702801.1 |\n",
       "| Center3 | Pool4 | 2244488256 | 5095113.2 |\n",
       "| Center3 | Pool6 | 2357666715 | 4846036.1 |\n",
       "\n"
      ],
      "text/plain": [
       "  Center  Pool  mean_sample_sum mean_sample_mean\n",
       "1 Center1 Pool1  154202412       281905.7       \n",
       "2 Center1 Pool2  154436630       300460.4       \n",
       "3 Center2 Pool3  405178100       777981.3       \n",
       "4 Center2 Pool5  401299412       702801.1       \n",
       "5 Center3 Pool4 2244488256      5095113.2       \n",
       "6 Center3 Pool6 2357666715      4846036.1       "
      ]
     },
     "metadata": {},
     "output_type": "display_data"
    }
   ],
   "source": [
    "intensities_scaled %>%\n",
    "    # summarize(across(everything(), ~sum(., na.rm = TRUE))) %>%\n",
    "    pivot_longer(cols = everything(), \n",
    "                 names_to = \"Quantitative.column.name\", \n",
    "                 values_to = \"Value\") %>%\n",
    "    na.omit() %>%\n",
    "    left_join(select(metadata, c(Quantitative.column.name, Pool, Center)), by = 'Quantitative.column.name') %>%\n",
    "    group_by(Center, Pool, Quantitative.column.name) %>%\n",
    "    summarize(sum = sum(Value, na.rm = TRUE), mean = mean(Value, na.rm = TRUE)) %>%\n",
    "    group_by(Center, Pool) %>%\n",
    "    summarise(mean_sample_sum = mean(sum), mean_sample_mean = mean(mean))"
   ]
  },
  {
   "cell_type": "code",
   "execution_count": 19,
   "metadata": {
    "vscode": {
     "languageId": "r"
    }
   },
   "outputs": [
    {
     "data": {
      "text/html": [
       "<style>\n",
       ".list-inline {list-style: none; margin:0; padding: 0}\n",
       ".list-inline>li {display: inline-block}\n",
       ".list-inline>li:not(:last-child)::after {content: \"\\00b7\"; padding: 0 .5ex}\n",
       "</style>\n",
       "<ol class=list-inline><li>660</li><li>65</li></ol>\n"
      ],
      "text/latex": [
       "\\begin{enumerate*}\n",
       "\\item 660\n",
       "\\item 65\n",
       "\\end{enumerate*}\n"
      ],
      "text/markdown": [
       "1. 660\n",
       "2. 65\n",
       "\n",
       "\n"
      ],
      "text/plain": [
       "[1] 660  65"
      ]
     },
     "metadata": {},
     "output_type": "display_data"
    },
    {
     "data": {
      "text/html": [
       "22.245"
      ],
      "text/latex": [
       "22.245"
      ],
      "text/markdown": [
       "22.245"
      ],
      "text/plain": [
       "[1] 22.245"
      ]
     },
     "metadata": {},
     "output_type": "display_data"
    },
    {
     "name": "stderr",
     "output_type": "stream",
     "text": [
      "\u001b[1m\u001b[22mSaving 6.67 x 6.67 in image\n",
      "Warning message:\n",
      "“\u001b[1m\u001b[22mRemoved 9543 rows containing non-finite values (`stat_boxplot()`).”\n",
      "Warning message:\n",
      "“\u001b[1m\u001b[22mRemoved 9543 rows containing non-finite values (`stat_summary()`).”\n",
      "Warning message:\n",
      "“\u001b[1m\u001b[22mRemoved 9543 rows containing non-finite values (`stat_boxplot()`).”\n",
      "Warning message:\n",
      "“\u001b[1m\u001b[22mRemoved 9543 rows containing non-finite values (`stat_summary()`).”\n",
      "Warning message:\n",
      "“Graphs cannot be vertically aligned unless the axis parameter is set. Placing graphs unaligned.”\n"
     ]
    }
   ],
   "source": [
    "intensities_scaled_norm <- median_noramlization(intensities_scaled, log_normalized = FALSE)\n",
    "\n",
    "dim(intensities_scaled_norm)\n",
    "round(sum(is.na(intensities_scaled_norm)) * 100 / (dim(intensities_scaled_norm)[1] * dim(intensities_scaled_norm)[2]), 3)\n",
    "\n",
    "plot_three_in_one(intensities_scaled_norm,\n",
    "                  metadata,\n",
    "                  \"TMT, iRScaled, Median norm intensities, log2-transformed\",\n",
    "                  \"/home/yuliya/repos/cosybio/FedProt/data/TMT_data/balanced_data/combined_plots/03_pg_intensities_scaled_norm_log\")"
   ]
  },
  {
   "cell_type": "code",
   "execution_count": 20,
   "metadata": {
    "vscode": {
     "languageId": "r"
    }
   },
   "outputs": [
    {
     "name": "stderr",
     "output_type": "stream",
     "text": [
      "\u001b[1m\u001b[22m`summarise()` has grouped output by 'Center', 'Pool'. You can override using\n",
      "the `.groups` argument.\n"
     ]
    },
    {
     "name": "stderr",
     "output_type": "stream",
     "text": [
      "\u001b[1m\u001b[22m`summarise()` has grouped output by 'Center'. You can override using the\n",
      "`.groups` argument.\n"
     ]
    },
    {
     "data": {
      "text/html": [
       "<table class=\"dataframe\">\n",
       "<caption>A grouped_df: 6 × 4</caption>\n",
       "<thead>\n",
       "\t<tr><th scope=col>Center</th><th scope=col>Pool</th><th scope=col>mean_sample_sum</th><th scope=col>mean_sample_mean</th></tr>\n",
       "\t<tr><th scope=col>&lt;fct&gt;</th><th scope=col>&lt;chr&gt;</th><th scope=col>&lt;dbl&gt;</th><th scope=col>&lt;dbl&gt;</th></tr>\n",
       "</thead>\n",
       "<tbody>\n",
       "\t<tr><td>Center1</td><td>Pool1</td><td>9137.713</td><td>16.70514</td></tr>\n",
       "\t<tr><td>Center1</td><td>Pool2</td><td>8538.524</td><td>16.61191</td></tr>\n",
       "\t<tr><td>Center2</td><td>Pool3</td><td>8649.508</td><td>16.60812</td></tr>\n",
       "\t<tr><td>Center2</td><td>Pool5</td><td>9474.561</td><td>16.59293</td></tr>\n",
       "\t<tr><td>Center3</td><td>Pool4</td><td>7394.563</td><td>16.78857</td></tr>\n",
       "\t<tr><td>Center3</td><td>Pool6</td><td>8222.081</td><td>16.89890</td></tr>\n",
       "</tbody>\n",
       "</table>\n"
      ],
      "text/latex": [
       "A grouped\\_df: 6 × 4\n",
       "\\begin{tabular}{llll}\n",
       " Center & Pool & mean\\_sample\\_sum & mean\\_sample\\_mean\\\\\n",
       " <fct> & <chr> & <dbl> & <dbl>\\\\\n",
       "\\hline\n",
       "\t Center1 & Pool1 & 9137.713 & 16.70514\\\\\n",
       "\t Center1 & Pool2 & 8538.524 & 16.61191\\\\\n",
       "\t Center2 & Pool3 & 8649.508 & 16.60812\\\\\n",
       "\t Center2 & Pool5 & 9474.561 & 16.59293\\\\\n",
       "\t Center3 & Pool4 & 7394.563 & 16.78857\\\\\n",
       "\t Center3 & Pool6 & 8222.081 & 16.89890\\\\\n",
       "\\end{tabular}\n"
      ],
      "text/markdown": [
       "\n",
       "A grouped_df: 6 × 4\n",
       "\n",
       "| Center &lt;fct&gt; | Pool &lt;chr&gt; | mean_sample_sum &lt;dbl&gt; | mean_sample_mean &lt;dbl&gt; |\n",
       "|---|---|---|---|\n",
       "| Center1 | Pool1 | 9137.713 | 16.70514 |\n",
       "| Center1 | Pool2 | 8538.524 | 16.61191 |\n",
       "| Center2 | Pool3 | 8649.508 | 16.60812 |\n",
       "| Center2 | Pool5 | 9474.561 | 16.59293 |\n",
       "| Center3 | Pool4 | 7394.563 | 16.78857 |\n",
       "| Center3 | Pool6 | 8222.081 | 16.89890 |\n",
       "\n"
      ],
      "text/plain": [
       "  Center  Pool  mean_sample_sum mean_sample_mean\n",
       "1 Center1 Pool1 9137.713        16.70514        \n",
       "2 Center1 Pool2 8538.524        16.61191        \n",
       "3 Center2 Pool3 8649.508        16.60812        \n",
       "4 Center2 Pool5 9474.561        16.59293        \n",
       "5 Center3 Pool4 7394.563        16.78857        \n",
       "6 Center3 Pool6 8222.081        16.89890        "
      ]
     },
     "metadata": {},
     "output_type": "display_data"
    }
   ],
   "source": [
    "intensities_scaled_norm %>%\n",
    "    # summarize(across(everything(), ~sum(., na.rm = TRUE))) %>%\n",
    "    pivot_longer(cols = everything(), \n",
    "                 names_to = \"Quantitative.column.name\", \n",
    "                 values_to = \"Value\") %>%\n",
    "    na.omit() %>%\n",
    "    left_join(select(metadata, c(Quantitative.column.name, Pool, Center)), by = 'Quantitative.column.name') %>%\n",
    "    group_by(Center, Pool, Quantitative.column.name) %>%\n",
    "    summarize(sum = sum(Value, na.rm = TRUE), mean = mean(Value, na.rm = TRUE)) %>%\n",
    "    group_by(Center, Pool) %>%\n",
    "    summarise(mean_sample_sum = mean(sum), mean_sample_mean = mean(mean))"
   ]
  },
  {
   "cell_type": "code",
   "execution_count": 21,
   "metadata": {
    "vscode": {
     "languageId": "r"
    }
   },
   "outputs": [
    {
     "name": "stderr",
     "output_type": "stream",
     "text": [
      "Warning message:\n",
      "“Partial NA coefficients for 296 probe(s)”\n"
     ]
    },
    {
     "data": {
      "text/html": [
       "<style>\n",
       ".list-inline {list-style: none; margin:0; padding: 0}\n",
       ".list-inline>li {display: inline-block}\n",
       ".list-inline>li:not(:last-child)::after {content: \"\\00b7\"; padding: 0 .5ex}\n",
       "</style>\n",
       "<ol class=list-inline><li>660</li><li>65</li></ol>\n"
      ],
      "text/latex": [
       "\\begin{enumerate*}\n",
       "\\item 660\n",
       "\\item 65\n",
       "\\end{enumerate*}\n"
      ],
      "text/markdown": [
       "1. 660\n",
       "2. 65\n",
       "\n",
       "\n"
      ],
      "text/plain": [
       "[1] 660  65"
      ]
     },
     "metadata": {},
     "output_type": "display_data"
    },
    {
     "data": {
      "text/html": [
       "22.245"
      ],
      "text/latex": [
       "22.245"
      ],
      "text/markdown": [
       "22.245"
      ],
      "text/plain": [
       "[1] 22.245"
      ]
     },
     "metadata": {},
     "output_type": "display_data"
    },
    {
     "name": "stderr",
     "output_type": "stream",
     "text": [
      "\u001b[1m\u001b[22mSaving 6.67 x 6.67 in image\n",
      "Warning message:\n",
      "“\u001b[1m\u001b[22mRemoved 9543 rows containing non-finite values (`stat_boxplot()`).”\n",
      "Warning message:\n",
      "“\u001b[1m\u001b[22mRemoved 9543 rows containing non-finite values (`stat_summary()`).”\n"
     ]
    }
   ],
   "source": [
    "# bacth effects correction\n",
    "\n",
    "design <- model.matrix(~0 + metadata$Group)\n",
    "corrected_sl_irs <- limma::removeBatchEffect(intensities_scaled_norm, \n",
    "    batch2 = metadata$Pool, \n",
    "    design = design)\n",
    "\n",
    "\n",
    "\n",
    "dim(corrected_sl_irs)\n",
    "round(sum(is.na(corrected_sl_irs)) * 100 / (dim(corrected_sl_irs)[1] * dim(corrected_sl_irs)[2]), 3)\n",
    "\n",
    "plot_three_in_one(as.data.frame(corrected_sl_irs),\n",
    "                  metadata,\n",
    "                  \"TMT, iRScaled, Median norm, BEC intensities, log2-transformed\",\n",
    "                  \"/home/yuliya/repos/cosybio/FedProt/data/TMT_data/balanced_data/combined_plots/04_pg_intensities_scaled_norm_log_BEC\")"
   ]
  },
  {
   "cell_type": "code",
   "execution_count": null,
   "metadata": {
    "vscode": {
     "languageId": "r"
    }
   },
   "outputs": [
    {
     "data": {
      "image/png": "[encoded data removed]",
      "text/plain": [
       "plot without title"
      ]
     },
     "metadata": {
      "image/png": {
       "height": 420,
       "width": 420
      }
     },
     "output_type": "display_data"
    }
   ],
   "source": [
    "\n",
    "  pca <- prcomp(t(na.omit(corrected_sl_irs)))\n",
    "  pca_df <- pca$x %>%\n",
    "    as.data.frame() %>%\n",
    "    rownames_to_column(\"Quantitative.column.name\") %>% \n",
    "    left_join(metadata,  by = \"Quantitative.column.name\") \n",
    "  var_expl <- pca$sdev^2 / sum(pca$sdev^2)\n",
    "  names(var_expl) <- paste0(\"PC\", 1:length(var_expl))\n",
    "\n",
    "  pca_df %>%\n",
    "    ggplot(aes(PC1, PC2)) +\n",
    "    geom_point(aes(col=Group, shape=Center), size=3)  +\n",
    "    theme_classic() +\n",
    "    labs(title = \"TMT, iRScaled, Median norm, BEC intensities, log2-transformed\")\n",
    "  "
   ]
  },
  {
   "cell_type": "markdown",
   "metadata": {},
   "source": [
    "### SL - iRS - BEC"
   ]
  },
  {
   "cell_type": "code",
   "execution_count": null,
   "metadata": {
    "vscode": {
     "languageId": "r"
    }
   },
   "outputs": [
    {
     "data": {
      "text/html": [
       "<style>\n",
       ".list-inline {list-style: none; margin:0; padding: 0}\n",
       ".list-inline>li {display: inline-block}\n",
       ".list-inline>li:not(:last-child)::after {content: \"\\00b7\"; padding: 0 .5ex}\n",
       "</style>\n",
       "<ol class=list-inline><li>660</li><li>65</li></ol>\n"
      ],
      "text/latex": [
       "\\begin{enumerate*}\n",
       "\\item 660\n",
       "\\item 65\n",
       "\\end{enumerate*}\n"
      ],
      "text/markdown": [
       "1. 660\n",
       "2. 65\n",
       "\n",
       "\n"
      ],
      "text/plain": [
       "[1] 660  65"
      ]
     },
     "metadata": {},
     "output_type": "display_data"
    },
    {
     "data": {
      "text/html": [
       "22.245"
      ],
      "text/latex": [
       "22.245"
      ],
      "text/markdown": [
       "22.245"
      ],
      "text/plain": [
       "[1] 22.245"
      ]
     },
     "metadata": {},
     "output_type": "display_data"
    },
    {
     "name": "stderr",
     "output_type": "stream",
     "text": [
      "\u001b[1m\u001b[22mSaving 6.67 x 6.67 in image\n",
      "Warning message:\n",
      "“\u001b[1m\u001b[22mRemoved 9543 rows containing non-finite values (`stat_boxplot()`).”\n",
      "Warning message:\n",
      "“\u001b[1m\u001b[22mRemoved 9543 rows containing non-finite values (`stat_summary()`).”\n",
      "Warning message:\n",
      "“\u001b[1m\u001b[22mRemoved 9543 rows containing non-finite values (`stat_boxplot()`).”\n",
      "Warning message:\n",
      "“\u001b[1m\u001b[22mRemoved 9543 rows containing non-finite values (`stat_summary()`).”\n",
      "Warning message:\n",
      "“Graphs cannot be vertically aligned unless the axis parameter is set. Placing graphs unaligned.”\n"
     ]
    }
   ],
   "source": [
    "intensities_sl <- sample_load_norm(pg_intensities, metadata)\n",
    "\n",
    "dim(intensities_sl)\n",
    "round(sum(is.na(intensities_sl)) * 100 / (dim(intensities_sl)[1] * dim(intensities_sl)[2]), 3)\n",
    "\n",
    "plot_three_in_one(log2(intensities_scaled + 1),\n",
    "                  metadata,\n",
    "                  \"TMT, SL-norm protein intensities, log2-transformed\",\n",
    "                  \"/home/yuliya/repos/cosybio/FedProt/data/TMT_data/balanced_data/combined_plots/02_pg_intensities_scaled_log\")\n",
    "                  "
   ]
  },
  {
   "cell_type": "code",
   "execution_count": null,
   "metadata": {
    "vscode": {
     "languageId": "r"
    }
   },
   "outputs": [
    {
     "name": "stderr",
     "output_type": "stream",
     "text": [
      "\u001b[1m\u001b[22m`summarise()` has grouped output by 'Center', 'Pool'. You can override using\n",
      "the `.groups` argument.\n",
      "\u001b[1m\u001b[22m`summarise()` has grouped output by 'Center'. You can override using the\n",
      "`.groups` argument.\n"
     ]
    },
    {
     "data": {
      "text/html": [
       "<table class=\"dataframe\">\n",
       "<caption>A grouped_df: 6 × 4</caption>\n",
       "<thead>\n",
       "\t<tr><th scope=col>Center</th><th scope=col>Pool</th><th scope=col>mean_sample_sum</th><th scope=col>mean_sample_mean</th></tr>\n",
       "\t<tr><th scope=col>&lt;fct&gt;</th><th scope=col>&lt;chr&gt;</th><th scope=col>&lt;dbl&gt;</th><th scope=col>&lt;dbl&gt;</th></tr>\n",
       "</thead>\n",
       "<tbody>\n",
       "\t<tr><td>Center1</td><td>Pool1</td><td>965897328</td><td>1765809</td></tr>\n",
       "\t<tr><td>Center1</td><td>Pool2</td><td>965897328</td><td>1879178</td></tr>\n",
       "\t<tr><td>Center2</td><td>Pool3</td><td>965897328</td><td>1854643</td></tr>\n",
       "\t<tr><td>Center2</td><td>Pool5</td><td>965897328</td><td>1691589</td></tr>\n",
       "\t<tr><td>Center3</td><td>Pool4</td><td>965897328</td><td>2192969</td></tr>\n",
       "\t<tr><td>Center3</td><td>Pool6</td><td>965897328</td><td>1985228</td></tr>\n",
       "</tbody>\n",
       "</table>\n"
      ],
      "text/latex": [
       "A grouped\\_df: 6 × 4\n",
       "\\begin{tabular}{llll}\n",
       " Center & Pool & mean\\_sample\\_sum & mean\\_sample\\_mean\\\\\n",
       " <fct> & <chr> & <dbl> & <dbl>\\\\\n",
       "\\hline\n",
       "\t Center1 & Pool1 & 965897328 & 1765809\\\\\n",
       "\t Center1 & Pool2 & 965897328 & 1879178\\\\\n",
       "\t Center2 & Pool3 & 965897328 & 1854643\\\\\n",
       "\t Center2 & Pool5 & 965897328 & 1691589\\\\\n",
       "\t Center3 & Pool4 & 965897328 & 2192969\\\\\n",
       "\t Center3 & Pool6 & 965897328 & 1985228\\\\\n",
       "\\end{tabular}\n"
      ],
      "text/markdown": [
       "\n",
       "A grouped_df: 6 × 4\n",
       "\n",
       "| Center &lt;fct&gt; | Pool &lt;chr&gt; | mean_sample_sum &lt;dbl&gt; | mean_sample_mean &lt;dbl&gt; |\n",
       "|---|---|---|---|\n",
       "| Center1 | Pool1 | 965897328 | 1765809 |\n",
       "| Center1 | Pool2 | 965897328 | 1879178 |\n",
       "| Center2 | Pool3 | 965897328 | 1854643 |\n",
       "| Center2 | Pool5 | 965897328 | 1691589 |\n",
       "| Center3 | Pool4 | 965897328 | 2192969 |\n",
       "| Center3 | Pool6 | 965897328 | 1985228 |\n",
       "\n"
      ],
      "text/plain": [
       "  Center  Pool  mean_sample_sum mean_sample_mean\n",
       "1 Center1 Pool1 965897328       1765809         \n",
       "2 Center1 Pool2 965897328       1879178         \n",
       "3 Center2 Pool3 965897328       1854643         \n",
       "4 Center2 Pool5 965897328       1691589         \n",
       "5 Center3 Pool4 965897328       2192969         \n",
       "6 Center3 Pool6 965897328       1985228         "
      ]
     },
     "metadata": {},
     "output_type": "display_data"
    }
   ],
   "source": [
    "intensities_sl %>%\n",
    "    # summarize(across(everything(), ~sum(., na.rm = TRUE))) %>%\n",
    "    pivot_longer(cols = everything(), \n",
    "                 names_to = \"Quantitative.column.name\", \n",
    "                 values_to = \"Value\") %>%\n",
    "    na.omit() %>%\n",
    "    left_join(select(metadata, c(Quantitative.column.name, Pool, Center)), by = 'Quantitative.column.name') %>%\n",
    "    group_by(Center, Pool, Quantitative.column.name) %>%\n",
    "    summarize(sum = sum(Value, na.rm = TRUE), mean = mean(Value, na.rm = TRUE)) %>%\n",
    "    group_by(Center, Pool) %>%\n",
    "    summarise(mean_sample_sum = mean(sum), mean_sample_mean = mean(mean))"
   ]
  },
  {
   "cell_type": "code",
   "execution_count": null,
   "metadata": {
    "vscode": {
     "languageId": "r"
    }
   },
   "outputs": [
    {
     "data": {
      "text/html": [
       "<style>\n",
       ".list-inline {list-style: none; margin:0; padding: 0}\n",
       ".list-inline>li {display: inline-block}\n",
       ".list-inline>li:not(:last-child)::after {content: \"\\00b7\"; padding: 0 .5ex}\n",
       "</style>\n",
       "<ol class=list-inline><li>660</li><li>65</li></ol>\n"
      ],
      "text/latex": [
       "\\begin{enumerate*}\n",
       "\\item 660\n",
       "\\item 65\n",
       "\\end{enumerate*}\n"
      ],
      "text/markdown": [
       "1. 660\n",
       "2. 65\n",
       "\n",
       "\n"
      ],
      "text/plain": [
       "[1] 660  65"
      ]
     },
     "metadata": {},
     "output_type": "display_data"
    },
    {
     "data": {
      "text/html": [
       "22.245"
      ],
      "text/latex": [
       "22.245"
      ],
      "text/markdown": [
       "22.245"
      ],
      "text/plain": [
       "[1] 22.245"
      ]
     },
     "metadata": {},
     "output_type": "display_data"
    },
    {
     "name": "stderr",
     "output_type": "stream",
     "text": [
      "\u001b[1m\u001b[22mSaving 6.67 x 6.67 in image\n",
      "Warning message:\n",
      "“\u001b[1m\u001b[22mRemoved 9543 rows containing non-finite values (`stat_boxplot()`).”\n",
      "Warning message:\n",
      "“\u001b[1m\u001b[22mRemoved 9543 rows containing non-finite values (`stat_summary()`).”\n",
      "Warning message:\n",
      "“\u001b[1m\u001b[22mRemoved 9543 rows containing non-finite values (`stat_boxplot()`).”\n",
      "Warning message:\n",
      "“\u001b[1m\u001b[22mRemoved 9543 rows containing non-finite values (`stat_summary()`).”\n",
      "Warning message:\n",
      "“Graphs cannot be vertically aligned unless the axis parameter is set. Placing graphs unaligned.”\n"
     ]
    }
   ],
   "source": [
    "intensities_scaled <- iRS_function(intensities_sl, metadata)\n",
    "\n",
    "dim(intensities_scaled)\n",
    "round(sum(is.na(intensities_scaled)) * 100 / (dim(intensities_scaled)[1] * dim(intensities_scaled)[2]), 3)\n",
    "\n",
    "plot_three_in_one(log2(intensities_scaled + 1),\n",
    "                  metadata,\n",
    "                  \"TMT, SL, iRS-scaled protein intensities, log2-transformed\",\n",
    "                  \"/home/yuliya/repos/cosybio/FedProt/data/TMT_data/balanced_data/combined_plots/03_pg_intensities_SL_scaled_log\")\n",
    "                  "
   ]
  },
  {
   "cell_type": "code",
   "execution_count": null,
   "metadata": {
    "vscode": {
     "languageId": "r"
    }
   },
   "outputs": [
    {
     "name": "stderr",
     "output_type": "stream",
     "text": [
      "\u001b[1m\u001b[22m`summarise()` has grouped output by 'Center', 'Pool'. You can override using\n",
      "the `.groups` argument.\n",
      "\u001b[1m\u001b[22m`summarise()` has grouped output by 'Center'. You can override using the\n",
      "`.groups` argument.\n"
     ]
    },
    {
     "data": {
      "text/html": [
       "<table class=\"dataframe\">\n",
       "<caption>A grouped_df: 6 × 4</caption>\n",
       "<thead>\n",
       "\t<tr><th scope=col>Center</th><th scope=col>Pool</th><th scope=col>mean_sample_sum</th><th scope=col>mean_sample_mean</th></tr>\n",
       "\t<tr><th scope=col>&lt;fct&gt;</th><th scope=col>&lt;chr&gt;</th><th scope=col>&lt;dbl&gt;</th><th scope=col>&lt;dbl&gt;</th></tr>\n",
       "</thead>\n",
       "<tbody>\n",
       "\t<tr><td>Center1</td><td>Pool1</td><td>967948245</td><td>1769558</td></tr>\n",
       "\t<tr><td>Center1</td><td>Pool2</td><td>966982277</td><td>1881288</td></tr>\n",
       "\t<tr><td>Center2</td><td>Pool3</td><td>968599906</td><td>1859831</td></tr>\n",
       "\t<tr><td>Center2</td><td>Pool5</td><td>965190890</td><td>1690352</td></tr>\n",
       "\t<tr><td>Center3</td><td>Pool4</td><td>963626122</td><td>2187756</td></tr>\n",
       "\t<tr><td>Center3</td><td>Pool6</td><td>969858563</td><td>1993371</td></tr>\n",
       "</tbody>\n",
       "</table>\n"
      ],
      "text/latex": [
       "A grouped\\_df: 6 × 4\n",
       "\\begin{tabular}{llll}\n",
       " Center & Pool & mean\\_sample\\_sum & mean\\_sample\\_mean\\\\\n",
       " <fct> & <chr> & <dbl> & <dbl>\\\\\n",
       "\\hline\n",
       "\t Center1 & Pool1 & 967948245 & 1769558\\\\\n",
       "\t Center1 & Pool2 & 966982277 & 1881288\\\\\n",
       "\t Center2 & Pool3 & 968599906 & 1859831\\\\\n",
       "\t Center2 & Pool5 & 965190890 & 1690352\\\\\n",
       "\t Center3 & Pool4 & 963626122 & 2187756\\\\\n",
       "\t Center3 & Pool6 & 969858563 & 1993371\\\\\n",
       "\\end{tabular}\n"
      ],
      "text/markdown": [
       "\n",
       "A grouped_df: 6 × 4\n",
       "\n",
       "| Center &lt;fct&gt; | Pool &lt;chr&gt; | mean_sample_sum &lt;dbl&gt; | mean_sample_mean &lt;dbl&gt; |\n",
       "|---|---|---|---|\n",
       "| Center1 | Pool1 | 967948245 | 1769558 |\n",
       "| Center1 | Pool2 | 966982277 | 1881288 |\n",
       "| Center2 | Pool3 | 968599906 | 1859831 |\n",
       "| Center2 | Pool5 | 965190890 | 1690352 |\n",
       "| Center3 | Pool4 | 963626122 | 2187756 |\n",
       "| Center3 | Pool6 | 969858563 | 1993371 |\n",
       "\n"
      ],
      "text/plain": [
       "  Center  Pool  mean_sample_sum mean_sample_mean\n",
       "1 Center1 Pool1 967948245       1769558         \n",
       "2 Center1 Pool2 966982277       1881288         \n",
       "3 Center2 Pool3 968599906       1859831         \n",
       "4 Center2 Pool5 965190890       1690352         \n",
       "5 Center3 Pool4 963626122       2187756         \n",
       "6 Center3 Pool6 969858563       1993371         "
      ]
     },
     "metadata": {},
     "output_type": "display_data"
    }
   ],
   "source": [
    "intensities_scaled %>%\n",
    "    # summarize(across(everything(), ~sum(., na.rm = TRUE))) %>%\n",
    "    pivot_longer(cols = everything(), \n",
    "                 names_to = \"Quantitative.column.name\", \n",
    "                 values_to = \"Value\") %>%\n",
    "    na.omit() %>%\n",
    "    left_join(select(metadata, c(Quantitative.column.name, Pool, Center)), by = 'Quantitative.column.name') %>%\n",
    "    group_by(Center, Pool, Quantitative.column.name) %>%\n",
    "    summarize(sum = sum(Value, na.rm = TRUE), mean = mean(Value, na.rm = TRUE)) %>%\n",
    "    group_by(Center, Pool) %>%\n",
    "    summarise(mean_sample_sum = mean(sum), mean_sample_mean = mean(mean))"
   ]
  },
  {
   "cell_type": "code",
   "execution_count": null,
   "metadata": {
    "vscode": {
     "languageId": "r"
    }
   },
   "outputs": [
    {
     "name": "stderr",
     "output_type": "stream",
     "text": [
      "Warning message:\n",
      "“Partial NA coefficients for 296 probe(s)”\n"
     ]
    },
    {
     "data": {
      "text/html": [
       "<style>\n",
       ".list-inline {list-style: none; margin:0; padding: 0}\n",
       ".list-inline>li {display: inline-block}\n",
       ".list-inline>li:not(:last-child)::after {content: \"\\00b7\"; padding: 0 .5ex}\n",
       "</style>\n",
       "<ol class=list-inline><li>660</li><li>65</li></ol>\n"
      ],
      "text/latex": [
       "\\begin{enumerate*}\n",
       "\\item 660\n",
       "\\item 65\n",
       "\\end{enumerate*}\n"
      ],
      "text/markdown": [
       "1. 660\n",
       "2. 65\n",
       "\n",
       "\n"
      ],
      "text/plain": [
       "[1] 660  65"
      ]
     },
     "metadata": {},
     "output_type": "display_data"
    },
    {
     "data": {
      "text/html": [
       "22.245"
      ],
      "text/latex": [
       "22.245"
      ],
      "text/markdown": [
       "22.245"
      ],
      "text/plain": [
       "[1] 22.245"
      ]
     },
     "metadata": {},
     "output_type": "display_data"
    },
    {
     "name": "stderr",
     "output_type": "stream",
     "text": [
      "\u001b[1m\u001b[22mSaving 6.67 x 6.67 in image\n",
      "Warning message:\n",
      "“\u001b[1m\u001b[22mRemoved 9543 rows containing non-finite values (`stat_boxplot()`).”\n",
      "Warning message:\n",
      "“\u001b[1m\u001b[22mRemoved 9543 rows containing non-finite values (`stat_summary()`).”\n",
      "Warning message:\n",
      "“\u001b[1m\u001b[22mRemoved 9543 rows containing non-finite values (`stat_boxplot()`).”\n",
      "Warning message:\n",
      "“\u001b[1m\u001b[22mRemoved 9543 rows containing non-finite values (`stat_summary()`).”\n",
      "Warning message:\n",
      "“Graphs cannot be vertically aligned unless the axis parameter is set. Placing graphs unaligned.”\n"
     ]
    }
   ],
   "source": [
    "# bacth effects correction\n",
    "\n",
    "design <- model.matrix(~0 + metadata$Group)\n",
    "corrected_sl_irs <- limma::removeBatchEffect(log2(intensities_scaled + 1), \n",
    "    batch2 = metadata$Pool, \n",
    "    design = design)\n",
    "\n",
    "\n",
    "\n",
    "dim(corrected_sl_irs)\n",
    "round(sum(is.na(corrected_sl_irs)) * 100 / (dim(corrected_sl_irs)[1] * dim(corrected_sl_irs)[2]), 3)\n",
    "\n",
    "plot_three_in_one(as.data.frame(corrected_sl_irs),\n",
    "                  metadata,\n",
    "                  \"TMT, SL, iRScaled, BEC intensities, log2-transformed\",\n",
    "                  \"/home/yuliya/repos/cosybio/FedProt/data/TMT_data/balanced_data/combined_plots/04_pg_intensities_SL_scaled_log_BEC\")"
   ]
  },
  {
   "cell_type": "code",
   "execution_count": null,
   "metadata": {
    "vscode": {
     "languageId": "r"
    }
   },
   "outputs": [
    {
     "data": {
      "image/png": "[encoded data removed]",
      "text/plain": [
       "plot without title"
      ]
     },
     "metadata": {
      "image/png": {
       "height": 420,
       "width": 420
      }
     },
     "output_type": "display_data"
    }
   ],
   "source": [
    "\n",
    "  pca <- prcomp(t(na.omit(corrected_sl_irs)))\n",
    "  pca_df <- pca$x %>%\n",
    "    as.data.frame() %>%\n",
    "    rownames_to_column(\"Quantitative.column.name\") %>% \n",
    "    left_join(metadata,  by = \"Quantitative.column.name\") \n",
    "  var_expl <- pca$sdev^2 / sum(pca$sdev^2)\n",
    "  names(var_expl) <- paste0(\"PC\", 1:length(var_expl))\n",
    "\n",
    "  pca_df %>%\n",
    "    ggplot(aes(PC1, PC2)) +\n",
    "    geom_point(aes(col=Group, shape=Center), size=3)  +\n",
    "    theme_classic() +\n",
    "    labs(title = \"TMT, SL, iRScaled, BEC intensities, log2-transformed\")\n",
    "  "
   ]
  },
  {
   "cell_type": "code",
   "execution_count": null,
   "metadata": {
    "vscode": {
     "languageId": "r"
    }
   },
   "outputs": [],
   "source": []
  },
  {
   "cell_type": "code",
   "execution_count": null,
   "metadata": {
    "vscode": {
     "languageId": "r"
    }
   },
   "outputs": [],
   "source": []
  },
  {
   "cell_type": "code",
   "execution_count": null,
   "metadata": {
    "vscode": {
     "languageId": "r"
    }
   },
   "outputs": [],
   "source": []
  },
  {
   "cell_type": "code",
   "execution_count": null,
   "metadata": {
    "vscode": {
     "languageId": "r"
    }
   },
   "outputs": [],
   "source": []
  },
  {
   "cell_type": "code",
   "execution_count": null,
   "metadata": {
    "vscode": {
     "languageId": "r"
    }
   },
   "outputs": [],
   "source": []
  },
  {
   "cell_type": "markdown",
   "metadata": {},
   "source": [
    "# Peptides"
   ]
  },
  {
   "cell_type": "code",
   "execution_count": 224,
   "metadata": {
    "vscode": {
     "languageId": "r"
    }
   },
   "outputs": [
    {
     "data": {
      "text/html": [
       "<table class=\"dataframe\">\n",
       "<caption>A data.frame: 3 × 6</caption>\n",
       "<thead>\n",
       "\t<tr><th></th><th scope=col>Quantitative.column.name</th><th scope=col>Pool</th><th scope=col>Reporter.ion</th><th scope=col>Patient</th><th scope=col>Group</th><th scope=col>Center</th></tr>\n",
       "\t<tr><th></th><th scope=col>&lt;chr&gt;</th><th scope=col>&lt;chr&gt;</th><th scope=col>&lt;chr&gt;</th><th scope=col>&lt;chr&gt;</th><th scope=col>&lt;chr&gt;</th><th scope=col>&lt;chr&gt;</th></tr>\n",
       "</thead>\n",
       "<tbody>\n",
       "\t<tr><th scope=row>Reporter.intensity.corrected.1.Pool1</th><td>P_1.RIC_1</td><td>Pool1</td><td>126 </td><td>Common Reference</td><td>Common Reference</td><td>Center1</td></tr>\n",
       "\t<tr><th scope=row>Reporter.intensity.corrected.2.Pool1</th><td>P_1.RIC_2</td><td>Pool1</td><td>127N</td><td>heathy1         </td><td>heathy          </td><td>Center1</td></tr>\n",
       "\t<tr><th scope=row>Reporter.intensity.corrected.3.Pool1</th><td>P_1.RIC_3</td><td>Pool1</td><td>127C</td><td>FSGS1           </td><td>FSGS            </td><td>Center1</td></tr>\n",
       "</tbody>\n",
       "</table>\n"
      ],
      "text/latex": [
       "A data.frame: 3 × 6\n",
       "\\begin{tabular}{r|llllll}\n",
       "  & Quantitative.column.name & Pool & Reporter.ion & Patient & Group & Center\\\\\n",
       "  & <chr> & <chr> & <chr> & <chr> & <chr> & <chr>\\\\\n",
       "\\hline\n",
       "\tReporter.intensity.corrected.1.Pool1 & P\\_1.RIC\\_1 & Pool1 & 126  & Common Reference & Common Reference & Center1\\\\\n",
       "\tReporter.intensity.corrected.2.Pool1 & P\\_1.RIC\\_2 & Pool1 & 127N & heathy1          & heathy           & Center1\\\\\n",
       "\tReporter.intensity.corrected.3.Pool1 & P\\_1.RIC\\_3 & Pool1 & 127C & FSGS1            & FSGS             & Center1\\\\\n",
       "\\end{tabular}\n"
      ],
      "text/markdown": [
       "\n",
       "A data.frame: 3 × 6\n",
       "\n",
       "| <!--/--> | Quantitative.column.name &lt;chr&gt; | Pool &lt;chr&gt; | Reporter.ion &lt;chr&gt; | Patient &lt;chr&gt; | Group &lt;chr&gt; | Center &lt;chr&gt; |\n",
       "|---|---|---|---|---|---|---|\n",
       "| Reporter.intensity.corrected.1.Pool1 | P_1.RIC_1 | Pool1 | 126  | Common Reference | Common Reference | Center1 |\n",
       "| Reporter.intensity.corrected.2.Pool1 | P_1.RIC_2 | Pool1 | 127N | heathy1          | heathy           | Center1 |\n",
       "| Reporter.intensity.corrected.3.Pool1 | P_1.RIC_3 | Pool1 | 127C | FSGS1            | FSGS             | Center1 |\n",
       "\n"
      ],
      "text/plain": [
       "                                     Quantitative.column.name Pool \n",
       "Reporter.intensity.corrected.1.Pool1 P_1.RIC_1                Pool1\n",
       "Reporter.intensity.corrected.2.Pool1 P_1.RIC_2                Pool1\n",
       "Reporter.intensity.corrected.3.Pool1 P_1.RIC_3                Pool1\n",
       "                                     Reporter.ion Patient         \n",
       "Reporter.intensity.corrected.1.Pool1 126          Common Reference\n",
       "Reporter.intensity.corrected.2.Pool1 127N         heathy1         \n",
       "Reporter.intensity.corrected.3.Pool1 127C         FSGS1           \n",
       "                                     Group            Center \n",
       "Reporter.intensity.corrected.1.Pool1 Common Reference Center1\n",
       "Reporter.intensity.corrected.2.Pool1 heathy           Center1\n",
       "Reporter.intensity.corrected.3.Pool1 FSGS             Center1"
      ]
     },
     "metadata": {},
     "output_type": "display_data"
    },
    {
     "data": {
      "text/html": [
       "<style>\n",
       ".list-inline {list-style: none; margin:0; padding: 0}\n",
       ".list-inline>li {display: inline-block}\n",
       ".list-inline>li:not(:last-child)::after {content: \"\\00b7\"; padding: 0 .5ex}\n",
       "</style>\n",
       "<ol class=list-inline><li>65</li><li>6</li></ol>\n"
      ],
      "text/latex": [
       "\\begin{enumerate*}\n",
       "\\item 65\n",
       "\\item 6\n",
       "\\end{enumerate*}\n"
      ],
      "text/markdown": [
       "1. 65\n",
       "2. 6\n",
       "\n",
       "\n"
      ],
      "text/plain": [
       "[1] 65  6"
      ]
     },
     "metadata": {},
     "output_type": "display_data"
    }
   ],
   "source": [
    "metadata <- read.table(\"/home/yuliya/repos/cosybio/FedProt/data/TMT_data/raw_MaxQuant_reports/Metadata_CosyBio.tsv\",\n",
    "                       header = TRUE, sep = \"\\t\", stringsAsFactors = FALSE)\n",
    "                       \n",
    "metadata <- metadata %>%\n",
    "            mutate(Quantitative.column.name = gsub(\" \", \".\", Quantitative.column.name))\n",
    "\n",
    "rownames(metadata) <- metadata$Quantitative.column.name\n",
    "metadata <- metadata %>%\n",
    "            mutate(Quantitative.column.name = gsub(\".Pool\", \".P_\", gsub(\"Reporter.intensity.corrected.\", \"RIC_\", Quantitative.column.name)))\n",
    "\n",
    "\n",
    "# remove the outlier\n",
    "metadata <- metadata %>%\n",
    "            filter(Quantitative.column.name != \"RIC_3.P_3\")\n",
    "\n",
    "\n",
    "# rename the columns - put the .P_[1-9]+ after dot before and the rest after (e.g. RIC_1.P_1 -> P_1.RIC_1)\n",
    "metadata <- metadata %>%\n",
    "            mutate(Quantitative.column.name = gsub(\"RIC_([0-9]+).P_([0-9]+)\", \"P_\\\\2.RIC_\\\\1\", Quantitative.column.name))\n",
    "\n",
    "\n",
    "head(metadata, 3)\n",
    "dim(metadata)"
   ]
  },
  {
   "cell_type": "code",
   "execution_count": 225,
   "metadata": {
    "vscode": {
     "languageId": "r"
    }
   },
   "outputs": [],
   "source": [
    "preprocess_mxout <- function(path, center_metadata){\n",
    "    PG_report <- read.table(\n",
    "        path,\n",
    "        header=T,\n",
    "        sep=\"\\t\",\n",
    "        stringsAsFactors = F)\n",
    "    \n",
    "    # # remove decoy matches and matches to contaminant\n",
    "    # PG_report <- PG_report[!PG_report$Reverse==\"+\",]\n",
    "    # PG_report <- PG_report[!PG_report$Potential.contaminant==\"+\",]\n",
    "    # # if the PG_report$Only.identified.by.site is not all NA and contains \"+\" values - remove this rows\n",
    "    # if(!all(is.na(PG_report$Only.identified.by.site))) {\n",
    "    #     # # Only.identified.by.site - exclude proteins that were only identified by a modification site\n",
    "    #     PG_report <- PG_report[!PG_report$Only.identified.by.site==\"+\",]\n",
    "    # }\n",
    "\n",
    "    # take only the columns that we need\n",
    "    pg_intensities <- PG_report %>%\n",
    "        select(c(\"Sequence\", rownames(center_metadata)))\n",
    "\n",
    "    print(length(pg_intensities$Sequence))\n",
    "\n",
    "    # counts\n",
    "    # pg_counts <- PG_report %>%\n",
    "    #     select(c(\"Majority.protein.IDs\", \"Razor...unique.peptides\")) \n",
    "    # rownames(pg_counts) <- pg_counts$Majority.protein.IDs\n",
    "    # pg_counts$Majority.protein.IDs <- NULL\n",
    "    # pg_counts <- pg_counts + 1\n",
    "    # return(list(pg_intensities, pg_counts))\n",
    "    return(pg_intensities)\n",
    "}"
   ]
  },
  {
   "cell_type": "code",
   "execution_count": 226,
   "metadata": {
    "vscode": {
     "languageId": "r"
    }
   },
   "outputs": [
    {
     "name": "stdout",
     "output_type": "stream",
     "text": [
      "[1] 8008\n"
     ]
    },
    {
     "data": {
      "text/html": [
       "<style>\n",
       ".list-inline {list-style: none; margin:0; padding: 0}\n",
       ".list-inline>li {display: inline-block}\n",
       ".list-inline>li:not(:last-child)::after {content: \"\\00b7\"; padding: 0 .5ex}\n",
       "</style>\n",
       "<ol class=list-inline><li>8008</li><li>66</li></ol>\n"
      ],
      "text/latex": [
       "\\begin{enumerate*}\n",
       "\\item 8008\n",
       "\\item 66\n",
       "\\end{enumerate*}\n"
      ],
      "text/markdown": [
       "1. 8008\n",
       "2. 66\n",
       "\n",
       "\n"
      ],
      "text/plain": [
       "[1] 8008   66"
      ]
     },
     "metadata": {},
     "output_type": "display_data"
    },
    {
     "data": {
      "text/html": [
       "<table class=\"dataframe\">\n",
       "<caption>A data.frame: 3 × 66</caption>\n",
       "<thead>\n",
       "\t<tr><th></th><th scope=col>Sequence</th><th scope=col>P_1.RIC_1</th><th scope=col>P_1.RIC_2</th><th scope=col>P_1.RIC_3</th><th scope=col>P_1.RIC_4</th><th scope=col>P_1.RIC_5</th><th scope=col>P_1.RIC_6</th><th scope=col>P_1.RIC_7</th><th scope=col>P_1.RIC_8</th><th scope=col>P_1.RIC_9</th><th scope=col>⋯</th><th scope=col>P_6.RIC_2</th><th scope=col>P_6.RIC_3</th><th scope=col>P_6.RIC_4</th><th scope=col>P_6.RIC_5</th><th scope=col>P_6.RIC_6</th><th scope=col>P_6.RIC_7</th><th scope=col>P_6.RIC_8</th><th scope=col>P_6.RIC_9</th><th scope=col>P_6.RIC_10</th><th scope=col>P_6.RIC_11</th></tr>\n",
       "\t<tr><th></th><th scope=col>&lt;chr&gt;</th><th scope=col>&lt;dbl&gt;</th><th scope=col>&lt;dbl&gt;</th><th scope=col>&lt;dbl&gt;</th><th scope=col>&lt;dbl&gt;</th><th scope=col>&lt;dbl&gt;</th><th scope=col>&lt;dbl&gt;</th><th scope=col>&lt;dbl&gt;</th><th scope=col>&lt;dbl&gt;</th><th scope=col>&lt;dbl&gt;</th><th scope=col>⋯</th><th scope=col>&lt;dbl&gt;</th><th scope=col>&lt;dbl&gt;</th><th scope=col>&lt;dbl&gt;</th><th scope=col>&lt;dbl&gt;</th><th scope=col>&lt;dbl&gt;</th><th scope=col>&lt;dbl&gt;</th><th scope=col>&lt;dbl&gt;</th><th scope=col>&lt;dbl&gt;</th><th scope=col>&lt;dbl&gt;</th><th scope=col>&lt;dbl&gt;</th></tr>\n",
       "</thead>\n",
       "<tbody>\n",
       "\t<tr><th scope=row>1</th><td>AAAATGTIFTFR</td><td> 9932.8</td><td>10121</td><td>10191</td><td> 4770.3</td><td> 8109.8</td><td>12217.0</td><td>12637.0</td><td> 7853.4</td><td>12351</td><td>⋯</td><td>    0</td><td>    0</td><td>    0</td><td>    0</td><td>    0</td><td>    0</td><td>    0</td><td>    0</td><td>    0</td><td>    0</td></tr>\n",
       "\t<tr><th scope=row>2</th><td>AAAEVAGQFVIK</td><td>10290.0</td><td>12784</td><td>10758</td><td>11639.0</td><td>28589.0</td><td> 8405.1</td><td> 9419.1</td><td>11465.0</td><td>12787</td><td>⋯</td><td>47269</td><td>35796</td><td>42466</td><td>38417</td><td>31251</td><td>73083</td><td>39171</td><td>36858</td><td>35040</td><td>34171</td></tr>\n",
       "\t<tr><th scope=row>3</th><td>AAALAHLDR   </td><td>    0.0</td><td>    0</td><td>    0</td><td>    0.0</td><td>    0.0</td><td>    0.0</td><td>    0.0</td><td>    0.0</td><td>    0</td><td>⋯</td><td>    0</td><td>    0</td><td>    0</td><td>    0</td><td>    0</td><td>    0</td><td>    0</td><td>    0</td><td>    0</td><td>    0</td></tr>\n",
       "</tbody>\n",
       "</table>\n"
      ],
      "text/latex": [
       "A data.frame: 3 × 66\n",
       "\\begin{tabular}{r|lllllllllllllllllllll}\n",
       "  & Sequence & P\\_1.RIC\\_1 & P\\_1.RIC\\_2 & P\\_1.RIC\\_3 & P\\_1.RIC\\_4 & P\\_1.RIC\\_5 & P\\_1.RIC\\_6 & P\\_1.RIC\\_7 & P\\_1.RIC\\_8 & P\\_1.RIC\\_9 & ⋯ & P\\_6.RIC\\_2 & P\\_6.RIC\\_3 & P\\_6.RIC\\_4 & P\\_6.RIC\\_5 & P\\_6.RIC\\_6 & P\\_6.RIC\\_7 & P\\_6.RIC\\_8 & P\\_6.RIC\\_9 & P\\_6.RIC\\_10 & P\\_6.RIC\\_11\\\\\n",
       "  & <chr> & <dbl> & <dbl> & <dbl> & <dbl> & <dbl> & <dbl> & <dbl> & <dbl> & <dbl> & ⋯ & <dbl> & <dbl> & <dbl> & <dbl> & <dbl> & <dbl> & <dbl> & <dbl> & <dbl> & <dbl>\\\\\n",
       "\\hline\n",
       "\t1 & AAAATGTIFTFR &  9932.8 & 10121 & 10191 &  4770.3 &  8109.8 & 12217.0 & 12637.0 &  7853.4 & 12351 & ⋯ &     0 &     0 &     0 &     0 &     0 &     0 &     0 &     0 &     0 &     0\\\\\n",
       "\t2 & AAAEVAGQFVIK & 10290.0 & 12784 & 10758 & 11639.0 & 28589.0 &  8405.1 &  9419.1 & 11465.0 & 12787 & ⋯ & 47269 & 35796 & 42466 & 38417 & 31251 & 73083 & 39171 & 36858 & 35040 & 34171\\\\\n",
       "\t3 & AAALAHLDR    &     0.0 &     0 &     0 &     0.0 &     0.0 &     0.0 &     0.0 &     0.0 &     0 & ⋯ &     0 &     0 &     0 &     0 &     0 &     0 &     0 &     0 &     0 &     0\\\\\n",
       "\\end{tabular}\n"
      ],
      "text/markdown": [
       "\n",
       "A data.frame: 3 × 66\n",
       "\n",
       "| <!--/--> | Sequence &lt;chr&gt; | P_1.RIC_1 &lt;dbl&gt; | P_1.RIC_2 &lt;dbl&gt; | P_1.RIC_3 &lt;dbl&gt; | P_1.RIC_4 &lt;dbl&gt; | P_1.RIC_5 &lt;dbl&gt; | P_1.RIC_6 &lt;dbl&gt; | P_1.RIC_7 &lt;dbl&gt; | P_1.RIC_8 &lt;dbl&gt; | P_1.RIC_9 &lt;dbl&gt; | ⋯ ⋯ | P_6.RIC_2 &lt;dbl&gt; | P_6.RIC_3 &lt;dbl&gt; | P_6.RIC_4 &lt;dbl&gt; | P_6.RIC_5 &lt;dbl&gt; | P_6.RIC_6 &lt;dbl&gt; | P_6.RIC_7 &lt;dbl&gt; | P_6.RIC_8 &lt;dbl&gt; | P_6.RIC_9 &lt;dbl&gt; | P_6.RIC_10 &lt;dbl&gt; | P_6.RIC_11 &lt;dbl&gt; |\n",
       "|---|---|---|---|---|---|---|---|---|---|---|---|---|---|---|---|---|---|---|---|---|---|\n",
       "| 1 | AAAATGTIFTFR |  9932.8 | 10121 | 10191 |  4770.3 |  8109.8 | 12217.0 | 12637.0 |  7853.4 | 12351 | ⋯ |     0 |     0 |     0 |     0 |     0 |     0 |     0 |     0 |     0 |     0 |\n",
       "| 2 | AAAEVAGQFVIK | 10290.0 | 12784 | 10758 | 11639.0 | 28589.0 |  8405.1 |  9419.1 | 11465.0 | 12787 | ⋯ | 47269 | 35796 | 42466 | 38417 | 31251 | 73083 | 39171 | 36858 | 35040 | 34171 |\n",
       "| 3 | AAALAHLDR    |     0.0 |     0 |     0 |     0.0 |     0.0 |     0.0 |     0.0 |     0.0 |     0 | ⋯ |     0 |     0 |     0 |     0 |     0 |     0 |     0 |     0 |     0 |     0 |\n",
       "\n"
      ],
      "text/plain": [
       "  Sequence     P_1.RIC_1 P_1.RIC_2 P_1.RIC_3 P_1.RIC_4 P_1.RIC_5 P_1.RIC_6\n",
       "1 AAAATGTIFTFR  9932.8   10121     10191      4770.3    8109.8   12217.0  \n",
       "2 AAAEVAGQFVIK 10290.0   12784     10758     11639.0   28589.0    8405.1  \n",
       "3 AAALAHLDR        0.0       0         0         0.0       0.0       0.0  \n",
       "  P_1.RIC_7 P_1.RIC_8 P_1.RIC_9 ⋯ P_6.RIC_2 P_6.RIC_3 P_6.RIC_4 P_6.RIC_5\n",
       "1 12637.0    7853.4   12351     ⋯     0         0         0         0    \n",
       "2  9419.1   11465.0   12787     ⋯ 47269     35796     42466     38417    \n",
       "3     0.0       0.0       0     ⋯     0         0         0         0    \n",
       "  P_6.RIC_6 P_6.RIC_7 P_6.RIC_8 P_6.RIC_9 P_6.RIC_10 P_6.RIC_11\n",
       "1     0         0         0         0         0          0     \n",
       "2 31251     73083     39171     36858     35040      34171     \n",
       "3     0         0         0         0         0          0     "
      ]
     },
     "metadata": {},
     "output_type": "display_data"
    }
   ],
   "source": [
    "peptides_df <- preprocess_mxout(\"/home/yuliya/repos/cosybio/FedProt/data/TMT_data/raw_MaxQuant_reports/Combined/peptides.txt\", metadata)\n",
    "peptides_df <- peptides_df[, c(\"Sequence\", rownames(metadata))]\n",
    "colnames(peptides_df) <- c(\"Sequence\", metadata$Quantitative.column.name)\n",
    "dim(peptides_df)\n",
    "head(peptides_df, 3)"
   ]
  },
  {
   "cell_type": "code",
   "execution_count": 227,
   "metadata": {
    "vscode": {
     "languageId": "r"
    }
   },
   "outputs": [
    {
     "data": {
      "text/html": [
       "36.101"
      ],
      "text/latex": [
       "36.101"
      ],
      "text/markdown": [
       "36.101"
      ],
      "text/plain": [
       "[1] 36.101"
      ]
     },
     "metadata": {},
     "output_type": "display_data"
    }
   ],
   "source": [
    "# take only the columns that we need\n",
    "rownames(peptides_df) <- peptides_df$Sequence\n",
    "peptides_df$Sequence <- NULL\n",
    "\n",
    "\n",
    "peptides_df[peptides_df==0] <- NA\n",
    "# count the % of missing values\n",
    "round(sum(is.na(peptides_df)) * 100 / (dim(peptides_df)[1] * dim(peptides_df)[2]), 3)\n"
   ]
  },
  {
   "cell_type": "code",
   "execution_count": 228,
   "metadata": {
    "vscode": {
     "languageId": "r"
    }
   },
   "outputs": [
    {
     "data": {
      "text/html": [
       "<style>\n",
       ".list-inline {list-style: none; margin:0; padding: 0}\n",
       ".list-inline>li {display: inline-block}\n",
       ".list-inline>li:not(:last-child)::after {content: \"\\00b7\"; padding: 0 .5ex}\n",
       "</style>\n",
       "<ol class=list-inline><li>8008</li><li>22</li></ol>\n"
      ],
      "text/latex": [
       "\\begin{enumerate*}\n",
       "\\item 8008\n",
       "\\item 22\n",
       "\\end{enumerate*}\n"
      ],
      "text/markdown": [
       "1. 8008\n",
       "2. 22\n",
       "\n",
       "\n"
      ],
      "text/plain": [
       "[1] 8008   22"
      ]
     },
     "metadata": {},
     "output_type": "display_data"
    },
    {
     "data": {
      "text/html": [
       "<style>\n",
       ".list-inline {list-style: none; margin:0; padding: 0}\n",
       ".list-inline>li {display: inline-block}\n",
       ".list-inline>li:not(:last-child)::after {content: \"\\00b7\"; padding: 0 .5ex}\n",
       "</style>\n",
       "<ol class=list-inline><li>5801</li><li>22</li></ol>\n"
      ],
      "text/latex": [
       "\\begin{enumerate*}\n",
       "\\item 5801\n",
       "\\item 22\n",
       "\\end{enumerate*}\n"
      ],
      "text/markdown": [
       "1. 5801\n",
       "2. 22\n",
       "\n",
       "\n"
      ],
      "text/plain": [
       "[1] 5801   22"
      ]
     },
     "metadata": {},
     "output_type": "display_data"
    }
   ],
   "source": [
    "pg_intensities_center_one <- peptides_df %>%\n",
    "    select(metadata[metadata$Center == 'Center1',]$Quantitative.column.name)\n",
    "dim(pg_intensities_center_one)\n",
    "pg_intensities_center_one <- pg_intensities_center_one %>%\n",
    "    # filter rows that have all values missing - at leat two values are present\n",
    "    filter(rowSums(is.na(.)) < (dim(.)[2] - 1))\n",
    "dim(pg_intensities_center_one)\n",
    "\n",
    "pg_intensities_center_two <- peptides_df %>%\n",
    "    select(metadata[metadata$Center == 'Center2',]$Quantitative.column.name) %>%\n",
    "    # filter rows that have all values missing\n",
    "    filter(rowSums(is.na(.)) < (dim(.)[2] - 1))\n",
    "\n",
    "pg_intensities_center_three <- peptides_df %>%\n",
    "    select(metadata[metadata$Center == 'Center3',]$Quantitative.column.name) %>%\n",
    "    # filter rows that have all values missing\n",
    "    filter(rowSums(is.na(.)) < (dim(.)[2] - 1))\n"
   ]
  },
  {
   "cell_type": "code",
   "execution_count": 229,
   "metadata": {
    "vscode": {
     "languageId": "r"
    }
   },
   "outputs": [
    {
     "data": {
      "text/html": [
       "5801"
      ],
      "text/latex": [
       "5801"
      ],
      "text/markdown": [
       "5801"
      ],
      "text/plain": [
       "[1] 5801"
      ]
     },
     "metadata": {},
     "output_type": "display_data"
    },
    {
     "data": {
      "text/html": [
       "6230"
      ],
      "text/latex": [
       "6230"
      ],
      "text/markdown": [
       "6230"
      ],
      "text/plain": [
       "[1] 6230"
      ]
     },
     "metadata": {},
     "output_type": "display_data"
    },
    {
     "data": {
      "text/html": [
       "5263"
      ],
      "text/latex": [
       "5263"
      ],
      "text/markdown": [
       "5263"
      ],
      "text/plain": [
       "[1] 5263"
      ]
     },
     "metadata": {},
     "output_type": "display_data"
    },
    {
     "data": {
      "text/html": [
       "4128"
      ],
      "text/latex": [
       "4128"
      ],
      "text/markdown": [
       "4128"
      ],
      "text/plain": [
       "[1] 4128"
      ]
     },
     "metadata": {},
     "output_type": "display_data"
    }
   ],
   "source": [
    "pg_one <- unique(unlist(strsplit(rownames(pg_intensities_center_one), \";\")))\n",
    "length(pg_one)\n",
    "\n",
    "pg_two <- unique(unlist(strsplit(rownames(pg_intensities_center_two), \";\")))\n",
    "length(pg_two)\n",
    "\n",
    "pg_three <- unique(unlist(strsplit(rownames(pg_intensities_center_three), \";\")))\n",
    "length(pg_three)\n",
    "\n",
    "common_proteins <- intersect(pg_one, pg_two) %>% intersect(pg_three) \n",
    "length(common_proteins)"
   ]
  },
  {
   "cell_type": "code",
   "execution_count": 230,
   "metadata": {
    "vscode": {
     "languageId": "r"
    }
   },
   "outputs": [
    {
     "data": {
      "image/png": "[encoded data removed]",
      "text/plain": [
       "plot without title"
      ]
     },
     "metadata": {
      "image/png": {
       "height": 180,
       "width": 360
      }
     },
     "output_type": "display_data"
    }
   ],
   "source": [
    "all_elements_pep <- unique(c(pg_one, pg_two, pg_three))\n",
    "\n",
    "data <- data.frame(element = all_elements_pep,\n",
    "                   pg_one = as.integer(all_elements_pep %in% pg_one),\n",
    "                   pg_two = as.integer(all_elements_pep %in% pg_two),\n",
    "                   pg_three = as.integer(all_elements_pep %in% pg_three))\n",
    "\n",
    "options(repr.plot.width=6, repr.plot.height=3)\n",
    "upset(data, sets = c(\"pg_one\", \"pg_two\", \"pg_three\"), order.by = \"freq\",\n",
    "        # add title to the whole plot\n",
    "\n",
    "        main.bar.color = \"black\",\n",
    "        sets.bar.color = \"black\",\n",
    "        sets.x.label = \"Number of peptides (in combined run)\",\n",
    "        )"
   ]
  },
  {
   "cell_type": "code",
   "execution_count": 231,
   "metadata": {
    "vscode": {
     "languageId": "r"
    }
   },
   "outputs": [],
   "source": [
    "for(seq in all_elements) {\n",
    "  if(grepl(\"[^ARNDCEQGHILKMFPSTWYV]\", seq)) {\n",
    "    print(seq)\n",
    "  }\n",
    "}"
   ]
  },
  {
   "cell_type": "code",
   "execution_count": 232,
   "metadata": {
    "vscode": {
     "languageId": "r"
    }
   },
   "outputs": [
    {
     "data": {
      "text/html": [
       "7564"
      ],
      "text/latex": [
       "7564"
      ],
      "text/markdown": [
       "7564"
      ],
      "text/plain": [
       "[1] 7564"
      ]
     },
     "metadata": {},
     "output_type": "display_data"
    },
    {
     "data": {
      "text/html": [
       "7997"
      ],
      "text/latex": [
       "7997"
      ],
      "text/markdown": [
       "7997"
      ],
      "text/plain": [
       "[1] 7997"
      ]
     },
     "metadata": {},
     "output_type": "display_data"
    }
   ],
   "source": [
    "length(all_elements_pep)\n",
    "length(all_elements)"
   ]
  },
  {
   "cell_type": "code",
   "execution_count": 233,
   "metadata": {
    "vscode": {
     "languageId": "r"
    }
   },
   "outputs": [
    {
     "data": {
      "image/png": "[encoded data removed]",
      "text/plain": [
       "plot without title"
      ]
     },
     "metadata": {
      "image/png": {
       "height": 180,
       "width": 360
      }
     },
     "output_type": "display_data"
    }
   ],
   "source": [
    "all_elements_comb <- unique(c(all_elements_pep, all_elements))\n",
    "\n",
    "data <- data.frame(element = all_elements_comb,\n",
    "                   PG_report = as.integer(all_elements_comb %in% all_elements),\n",
    "                   peptides = as.integer(all_elements_comb %in% all_elements_pep))\n",
    "\n",
    "options(repr.plot.width=6, repr.plot.height=3)\n",
    "upset(data, sets = c(\"PG_report\", \"peptides\"), order.by = \"freq\",\n",
    "        # add title to the whole plot\n",
    "\n",
    "        main.bar.color = \"black\",\n",
    "        sets.bar.color = \"black\",\n",
    "        sets.x.label = \"Number of peptides (in combined run)\",\n",
    "        )"
   ]
  },
  {
   "cell_type": "code",
   "execution_count": 234,
   "metadata": {
    "vscode": {
     "languageId": "r"
    }
   },
   "outputs": [
    {
     "data": {
      "text/html": [],
      "text/latex": [],
      "text/markdown": [],
      "text/plain": [
       "character(0)"
      ]
     },
     "metadata": {},
     "output_type": "display_data"
    }
   ],
   "source": [
    "# print different peptides\n",
    "setdiff(all_elements_pep, all_elements)"
   ]
  },
  {
   "cell_type": "code",
   "execution_count": 235,
   "metadata": {
    "vscode": {
     "languageId": "r"
    }
   },
   "outputs": [
    {
     "data": {
      "text/html": [
       "<style>\n",
       ".list-inline {list-style: none; margin:0; padding: 0}\n",
       ".list-inline>li {display: inline-block}\n",
       ".list-inline>li:not(:last-child)::after {content: \"\\00b7\"; padding: 0 .5ex}\n",
       "</style>\n",
       "<ol class=list-inline><li>'AAFNSGK'</li><li>'AAMEPIVISAK'</li><li>'AAQGLLACGVAQGALR'</li><li>'AAYCACR'</li><li>'AEECYYDENVAR'</li><li>'AEMLDHAVLLQVIK'</li><li>'AETGDTVLK'</li><li>'AEVSELK'</li><li>'AGLGEEFEK'</li><li>'AGTPYTVTLHGEVR'</li><li>'AHIPPLGLK'</li><li>'AHSDGGDGVVSQVK'</li><li>'AHTDVGPGPESSPVLVR'</li><li>'AICDHVR'</li><li>'AIFSVGPVSPSR'</li><li>'AILQGAK'</li><li>'AINEKLGQYASPTAK'</li><li>'AIQDGTIVLMGTYDDGATK'</li><li>'ALAPEYAK'</li><li>'ALELEQERK'</li><li>'ALGLVPQAHPGFLTAWPADR'</li><li>'ALGQNPTNAEVLK'</li><li>'ANHASSVPR'</li><li>'APLPLGHIK'</li><li>'APLTKPLK'</li><li>'APTAQVESFR'</li><li>'AQPENIPAK'</li><li>'ARFEELNADLFR'</li><li>'ARGPDSNVLLLR'</li><li>'ASASDGSSFVVAR'</li><li>'ASCCCSLGK'</li><li>'ASCKVPVKK'</li><li>'ASFPIITVTAAHSGTYR'</li><li>'ASGPPVSELITK'</li><li>'ASGSPEPAISWFR'</li><li>'ASIHEAWTDGK'</li><li>'ASLEGNLAETENR'</li><li>'ASLHGGEPTTIIR'</li><li>'ASQSVSSSYLAWYQQK'</li><li>'ASQSVSSYLAWYQQK'</li><li>'ASSVVVSGTPIR'</li><li>'ASTSTTIRSHSSSR'</li><li>'ASVDSGSSEEQGGSSR'</li><li>'ATEDEGSEQK'</li><li>'AVACTFAR'</li><li>'AVASFLRR'</li><li>'AVPTGDASK'</li><li>'AVTDEEPFLIFANR'</li><li>'AVYEAVLR'</li><li>'CAPGYTGDR'</li><li>'CCITAAPYR'</li><li>'CDMEVSCPDGYTCCR'</li><li>'CDSSPDSAEDVR'</li><li>'CEFDINECK'</li><li>'CFQETIGSQCGK'</li><li>'CPDEPAPR'</li><li>'CPTCPDACTFK'</li><li>'CSCSSSSGLTCQAAGCPPGR'</li><li>'CVPGEVEK'</li><li>'CVPNSNER'</li><li>'CYDGYTLR'</li><li>'DAFCVFEQNQGLPLR'</li><li>'DANISQPETTKEGLR'</li><li>'DASIGTK'</li><li>'DATVACWELGCGK'</li><li>'DCGEEMQNGAGASR'</li><li>'DCVGPEVEK'</li><li>'DDQNPHSSNICNISCDK'</li><li>'DFMIQGGDFTR'</li><li>'DFVNASSK'</li><li>'DGIIVLK'</li><li>'DGLAFNALIHR'</li><li>'DIEAQLQHAGLR'</li><li>'DKVQYECATGYYTAGGK'</li><li>'DLKPAIVK'</li><li>'DLLQTVEDQYK'</li><li>'DLMVLNDVYR'</li><li>'DMICAGEKEGGK'</li><li>'DNVDDPTGNFR'</li><li>'DPPEPGSPR'</li><li>'DPSLGAQFR'</li><li>'DQCEDIDECQHR'</li><li>'DQITCISK'</li><li>'DQPGYSR'</li><li>'DRMYQMDIQQELQR'</li><li>'DSNRPSGIPER'</li><li>'DTIVFKCQK'</li><li>'DVDNALR'</li><li>'DVGGQLQR'</li><li>'DVHEGQPLLNVK'</li><li>'DVLDGHLR'</li><li>'EAAEGLR'</li><li>'EAEAASIK'</li><li>'EAGAGGLAIAVEGPSK'</li><li>'EDAGEYECHASNSQGQASASAK'</li><li>'EEEEETNR'</li><li>'EEFPFALGVQTLPQTCDEPK'</li><li>'EGAVLAK'</li><li>'EGLDLQVLEDSGR'</li><li>'EGSIWNHQPCFLK'</li><li>'EIGELYLPKFSISR'</li><li>'EIIDLVLDR'</li><li>'EIIKPAEK'</li><li>'EITENLMATGDLDQDGR'</li><li>'EIVNSLKK'</li><li>'EKGEIQNILQK'</li><li>'EKLTALTK'</li><li>'EKLTALTKK'</li><li>'ELAAQTIKK'</li><li>'ELAEDGYSGVEVR'</li><li>'ELGCGGPQQPDPAAGR'</li><li>'ELISNASDALDK'</li><li>'ELLKDLSK'</li><li>'ELTPQVVSAAR'</li><li>'EMEMRQLQR'</li><li>'ENDPVHGADGK'</li><li>'ENFYQNWK'</li><li>'EQLTPLIKK'</li><li>'ERVGEYSLYIGR'</li><li>'ETAEAYLGK'</li><li>'ETDIEDSDDIPEDTTYKK'</li><li>'ETMVTSTTEPSR'</li><li>'ETTLSYYK'</li><li>'EVDECSRPNR'</li><li>'EVPCYVFDEELRK'</li><li>'EVPLLQSLWLAHNEIR'</li><li>'EVQVFEITENSAK'</li><li>'FAAGSVVSFK'</li><li>'FFVAPFPEVFGK'</li><li>'FIQSQDYQCSALMGGR'</li><li>'FLDMLIKK'</li><li>'FLDQNLQK'</li><li>'FLDTGVVQSDR'</li><li>'FQGEWGTICDDGWDSYDAAVACK'</li><li>'FTCACPDQFKGK'</li><li>'FVLVQENRPTLTDIVELR'</li><li>'GADLSLR'</li><li>'GADYSLR'</li><li>'GAQTQTEEEMTR'</li><li>'GDFSSANNRDNTYNR'</li><li>'GDVTAQIALQPALK'</li><li>'GEIFFFKDR'</li><li>'GENFEVGSK'</li><li>'GEPSIPSNR'</li><li>'GEWPWQVTLHTTSPTQR'</li><li>'GFFDPNTEENLTYLQLK'</li><li>'GFSANSAR'</li><li>'GGKIEVQLK'</li><li>'GGSGGGGGGSSGGRGSGGGSSGGSIGGR'</li><li>'GILAADESVGTMGNR'</li><li>'GIPLLVVK'</li><li>'GKITDLIK'</li><li>'GLAFTDVDVDSIK'</li><li>'GLDFEAK'</li><li>'GLFDEYGSK'</li><li>'GLQPTLTNPGECRPNFTCACR'</li><li>'GLSAEPGWQAK'</li><li>'GLVLSGVLHK'</li><li>'GPCGWTGGSCPQR'</li><li>'GPDTENMEEVGR'</li><li>'GQDHCGIESEVVAGIPR'</li><li>'GSACQECQDPNR'</li><li>'GSFDISCDKDNK'</li><li>'GSVTFNGK'</li><li>'GTQNPSQDQGNSPSGK'</li><li>'GVAEQQQQQGCGDPEVMQK'</li><li>'GVFVLNKK'</li><li>'GVQCTDSR'</li><li>'GVQPVSCPAN'</li><li>'GVVDSEDLPLNISR'</li><li>'GYVIIKPLVWV'</li><li>'HEVININLK'</li><li>'HGATVLTALGGILK'</li><li>'HGSGESSAPLR'</li><li>'HGSGSGQSSSYGPYR'</li><li>'HLLGPDYTETLYSPR'</li><li>'HMWPGDIK'</li><li>'HPEALPGPISK'</li><li>'HPTWPQK'</li><li>'HSASQEGQDTIR'</li><li>'HSIEVPIPR'</li><li>'HSYTASYDIYDLNK'</li><li>'HVFGQPAK'</li><li>'HVYGELDVQIQR'</li><li>'ICMDEDGNEK'</li><li>'IDGSGNFQVLLSDR'</li><li>'IESSSPTVVEGQTLDLNCVVAR'</li><li>'IGDLHPQIVNLLK'</li><li>'IGFGQCAGK'</li><li>'IGSYQDEEGQLECK'</li><li>'IHLISTQSAIPYALR'</li><li>'IHYLDTTTLIEPAPR'</li><li>'IKFEMEQNLR'</li><li>'IKGVISIPR'</li><li>'IKSSFVAPLEK'</li><li>'ILQQIPDHPK'</li><li>'INPLALKESVK'</li><li>'IQTQLQR'</li><li>'IQVKDSAQNSVIIVDK'</li><li>'IQVVVLSASDASPPPVK'</li><li>⋯</li><li>'LAGLEEALQK'</li><li>'LANDIEATAVR'</li><li>'LAPGGHVGR'</li><li>'LAYVWNNDIYVK'</li><li>'LCLHCSVDQEGK'</li><li>'LCQIPVHGASVPK'</li><li>'LEATINELV'</li><li>'LELHVDGPPPR'</li><li>'LENCNYAVELGK'</li><li>'LEVWHDQR'</li><li>'LFPLPGR'</li><li>'LFVGGAPPEFQPSPLR'</li><li>'LGDVYVNDAFGTAHR'</li><li>'LGESCINTVGSFR'</li><li>'LGHGVNNAAGQVGK'</li><li>'LGIKPSINYYQVADFK'</li><li>'LHGLSGR'</li><li>'LHIVQVVCK'</li><li>'LILQNHILK'</li><li>'LKELTLEDLK'</li><li>'LKGPLLNK'</li><li>'LKSELLK'</li><li>'LLAGDHPIDLLLR'</li><li>'LLDELAGK'</li><li>'LLISSLSESPASVSILSQADNTSK'</li><li>'LLLHLQGER'</li><li>'LLSDFPVVPTATR'</li><li>'LLVLITGGK'</li><li>'LNHQLEGLAFQMK'</li><li>'LNLEAINYMAADGDFK'</li><li>'LNLVATPLFLK'</li><li>'LPATEKPVLLSK'</li><li>'LPSGSDHVMLK'</li><li>'LPVAPLRK'</li><li>'LPYTIITTPPLK'</li><li>'LQATVQELQK'</li><li>'LQELHLSSNGLESLSPEFLR'</li><li>'LQFAYLENFK'</li><li>'LSVEALNSLTGEFK'</li><li>'LTALTKK'</li><li>'LTLDIQNKK'</li><li>'LTLTPWVGLRK'</li><li>'LTQVVEQER'</li><li>'LTVGLTRR'</li><li>'LVDKFLEDVK'</li><li>'LVGFIDDAVKK'</li><li>'LVQAFQFTDK'</li><li>'LVQLLVK'</li><li>'LYDIDVAK'</li><li>'LYGPDVGQPR'</li><li>'MDSNELTFIPR'</li><li>'MEGDSVLLEVDGEEVLR'</li><li>'MELQEIQLK'</li><li>'MNDTVTIR'</li><li>'MNLYGFHGGQR'</li><li>'MNSLSEANTK'</li><li>'MSAEINEIIR'</li><li>'MSGDLSSNVTVSVTSSTISSNVASK'</li><li>'MSGECAPNVSVSVSTSHTTISGGGSR'</li><li>'MSLPDVDLDLK'</li><li>'MVNDAEK'</li><li>'MYDAQQQQVGTNK'</li><li>'NLHSEISGK'</li><li>'NLQTVNVDEN'</li><li>'NLSDVATK'</li><li>'NPELNPCSVNAQCIEER'</li><li>'NSQWICSNEECPGECLVTGQSHFK'</li><li>'NVAFVIDISGSMAGRK'</li><li>'NVLSLTNK'</li><li>'NVPLPVIAELPPK'</li><li>'PEMFENPLYGSLSSFPK'</li><li>'PHADELK'</li><li>'PNLSYIIGK'</li><li>'PVPGHVTVSICR'</li><li>'QAAVCQVK'</li><li>'QAVQELVSLYYEEAR'</li><li>'QDDGGAPILEYIVK'</li><li>'QEMSKDLEEVK'</li><li>'QFVYLESDYSK'</li><li>'QGALELIKK'</li><li>'QLCLWDEDPYPG'</li><li>'QLFDQVVK'</li><li>'QLGCPTAVTAIGR'</li><li>'QLVLKAPDK'</li><li>'QNLEPLFEQYINNLR'</li><li>'QPGSTVHGR'</li><li>'QSGLYFIKPLK'</li><li>'QTVAVGVIK'</li><li>'QVHQQEEQPR'</li><li>'RALANSLACQGK'</li><li>'RASDNLVK'</li><li>'RCSCAPGYK'</li><li>'RDFTFDLYR'</li><li>'RLGVYELLLK'</li><li>'RNAVPITPTLNR'</li><li>'RQGALELIKK'</li><li>'RQLEEAEEEAQR'</li><li>'RYDLSALVR'</li><li>'SAEELDEEVEYDMDEEDYIWLDIMNERR'</li><li>'SCDSLNNRCEGSSVQTR'</li><li>'SCGPPPQLSNGEVK'</li><li>'SDDEVDDPAVELK'</li><li>'SDVPFWAIK'</li><li>'SEVSQVK'</li><li>'SFTIKPVGFK'</li><li>'SGAEAQTPEDSPNR'</li><li>'SGSAPQSPGASIR'</li><li>'SGVSLAALKK'</li><li>'SGYLLPDTK'</li><li>'SIDGAYTIRK'</li><li>'SIQFVDWCPTGFK'</li><li>'SKEQLTPLIK'</li><li>'SKTELTPILK'</li><li>'SLGKAVIEPGK'</li><li>'SLGPALLLLQK'</li><li>'SPWCDVFDIDDAK'</li><li>'SRPSQVLDSPFPTGSAFGFSLR'</li><li>'SSGFGQHESR'</li><li>'SSLIILK'</li><li>'SSLSVPYVIVPLK'</li><li>'SSSGILSMVFYTDSAIAK'</li><li>'SSSPELSEMLEYDR'</li><li>'STQDTVIALDALSAYWIASHTTEER'</li><li>'STTTGHLIYK'</li><li>'TATMLCAASGNPDPEITWFK'</li><li>'TCGLCGNYNGNQGDDFLTPSGLAEPR'</li><li>'TCNPVYEK'</li><li>'TDEDVPSGPPRK'</li><li>'TDEGTYR'</li><li>'TENELHGEK'</li><li>'TFVNITPAEVGVLVGKDR'</li><li>'TGLKEFLK'</li><li>'TIAPALVSK'</li><li>'TKEVIQEWNLTNIK'</li><li>'TKIPAVFK'</li><li>'TLIYSTNTR'</li><li>'TLLPVSKPEIR'</li><li>'TLLSNLEEAKK'</li><li>'TLNNQFASFIDK'</li><li>'TLQELKK'</li><li>'TPSGLYLGTCER'</li><li>'TSFPEDTVITYK'</li><li>'TSFTSVSR'</li><li>'TTEYYPNGGLTR'</li><li>'TWPHFTATVK'</li><li>'VAALIQK'</li><li>'VADEAEK'</li><li>'VALTEDRLPR'</li><li>'VAQDQLR'</li><li>'VCQCDSNGDCTDVDR'</li><li>'VEADIPGHGQEVLIR'</li><li>'VELACGK'</li><li>'VEWEERR'</li><li>'VFAILENKK'</li><li>'VFLQNLLSVSQAR'</li><li>'VGELCAGK'</li><li>'VGLEHLR'</li><li>'VLAKPTPK'</li><li>'VLEDRPLSDK'</li><li>'VLEKDSVTLK'</li><li>'VLNCQGK'</li><li>'VLNYVDWIKK'</li><li>'VLPTHDASK'</li><li>'VLSALQAVQGLLVAQGR'</li><li>'VLVLDTDYKK'</li><li>'VMPNIEK'</li><li>'VMSLEAERK'</li><li>'VNHFVPEAGSR'</li><li>'VNQIGSVTESLQACK'</li><li>'VNWIGCQGSEPHFR'</li><li>'VPVQEELCGLASK'</li><li>'VQVVAGKK'</li><li>'VTGCPPFDEHK'</li><li>'VTGDHVDLTTCPLAAGAQQEK'</li><li>'VTGVVLFR'</li><li>'VTSEDLK'</li><li>'VTSVVTGFNNLPDR'</li><li>'VTVLFAGQHIAK'</li><li>'VTVPGNYYQLMCGLCGNYNGDPK'</li><li>'VVAPTISSPVCQEQLVEAGR'</li><li>'VVFVFGPDKK'</li><li>'VVLGDQDLKK'</li><li>'VYDYYETDESVVAEYIAPCSTDTEHGNV'</li><li>'WENLECVQK'</li><li>'WIDNPTVDDR'</li><li>'WVSESQIMSVAFK'</li><li>'WVWAPSFPACK'</li><li>'YAISMAR'</li><li>'YAPISGGDHAEVDVPK'</li><li>'YCQLENAHLVVINSWEEQK'</li><li>'YECVATNSAGTR'</li><li>'YELNTETVK'</li><li>'YFWTGLSDIQTK'</li><li>'YHFPSLFFR'</li><li>'YKATLLDIYK'</li><li>'YKPTPIPIK'</li><li>'YLAEVAAGDDK'</li><li>'YLCSVCNAK'</li><li>'YTNWAADEPK'</li><li>'YVPQLLKEEK'</li></ol>\n"
      ],
      "text/latex": [
       "\\begin{enumerate*}\n",
       "\\item 'AAFNSGK'\n",
       "\\item 'AAMEPIVISAK'\n",
       "\\item 'AAQGLLACGVAQGALR'\n",
       "\\item 'AAYCACR'\n",
       "\\item 'AEECYYDENVAR'\n",
       "\\item 'AEMLDHAVLLQVIK'\n",
       "\\item 'AETGDTVLK'\n",
       "\\item 'AEVSELK'\n",
       "\\item 'AGLGEEFEK'\n",
       "\\item 'AGTPYTVTLHGEVR'\n",
       "\\item 'AHIPPLGLK'\n",
       "\\item 'AHSDGGDGVVSQVK'\n",
       "\\item 'AHTDVGPGPESSPVLVR'\n",
       "\\item 'AICDHVR'\n",
       "\\item 'AIFSVGPVSPSR'\n",
       "\\item 'AILQGAK'\n",
       "\\item 'AINEKLGQYASPTAK'\n",
       "\\item 'AIQDGTIVLMGTYDDGATK'\n",
       "\\item 'ALAPEYAK'\n",
       "\\item 'ALELEQERK'\n",
       "\\item 'ALGLVPQAHPGFLTAWPADR'\n",
       "\\item 'ALGQNPTNAEVLK'\n",
       "\\item 'ANHASSVPR'\n",
       "\\item 'APLPLGHIK'\n",
       "\\item 'APLTKPLK'\n",
       "\\item 'APTAQVESFR'\n",
       "\\item 'AQPENIPAK'\n",
       "\\item 'ARFEELNADLFR'\n",
       "\\item 'ARGPDSNVLLLR'\n",
       "\\item 'ASASDGSSFVVAR'\n",
       "\\item 'ASCCCSLGK'\n",
       "\\item 'ASCKVPVKK'\n",
       "\\item 'ASFPIITVTAAHSGTYR'\n",
       "\\item 'ASGPPVSELITK'\n",
       "\\item 'ASGSPEPAISWFR'\n",
       "\\item 'ASIHEAWTDGK'\n",
       "\\item 'ASLEGNLAETENR'\n",
       "\\item 'ASLHGGEPTTIIR'\n",
       "\\item 'ASQSVSSSYLAWYQQK'\n",
       "\\item 'ASQSVSSYLAWYQQK'\n",
       "\\item 'ASSVVVSGTPIR'\n",
       "\\item 'ASTSTTIRSHSSSR'\n",
       "\\item 'ASVDSGSSEEQGGSSR'\n",
       "\\item 'ATEDEGSEQK'\n",
       "\\item 'AVACTFAR'\n",
       "\\item 'AVASFLRR'\n",
       "\\item 'AVPTGDASK'\n",
       "\\item 'AVTDEEPFLIFANR'\n",
       "\\item 'AVYEAVLR'\n",
       "\\item 'CAPGYTGDR'\n",
       "\\item 'CCITAAPYR'\n",
       "\\item 'CDMEVSCPDGYTCCR'\n",
       "\\item 'CDSSPDSAEDVR'\n",
       "\\item 'CEFDINECK'\n",
       "\\item 'CFQETIGSQCGK'\n",
       "\\item 'CPDEPAPR'\n",
       "\\item 'CPTCPDACTFK'\n",
       "\\item 'CSCSSSSGLTCQAAGCPPGR'\n",
       "\\item 'CVPGEVEK'\n",
       "\\item 'CVPNSNER'\n",
       "\\item 'CYDGYTLR'\n",
       "\\item 'DAFCVFEQNQGLPLR'\n",
       "\\item 'DANISQPETTKEGLR'\n",
       "\\item 'DASIGTK'\n",
       "\\item 'DATVACWELGCGK'\n",
       "\\item 'DCGEEMQNGAGASR'\n",
       "\\item 'DCVGPEVEK'\n",
       "\\item 'DDQNPHSSNICNISCDK'\n",
       "\\item 'DFMIQGGDFTR'\n",
       "\\item 'DFVNASSK'\n",
       "\\item 'DGIIVLK'\n",
       "\\item 'DGLAFNALIHR'\n",
       "\\item 'DIEAQLQHAGLR'\n",
       "\\item 'DKVQYECATGYYTAGGK'\n",
       "\\item 'DLKPAIVK'\n",
       "\\item 'DLLQTVEDQYK'\n",
       "\\item 'DLMVLNDVYR'\n",
       "\\item 'DMICAGEKEGGK'\n",
       "\\item 'DNVDDPTGNFR'\n",
       "\\item 'DPPEPGSPR'\n",
       "\\item 'DPSLGAQFR'\n",
       "\\item 'DQCEDIDECQHR'\n",
       "\\item 'DQITCISK'\n",
       "\\item 'DQPGYSR'\n",
       "\\item 'DRMYQMDIQQELQR'\n",
       "\\item 'DSNRPSGIPER'\n",
       "\\item 'DTIVFKCQK'\n",
       "\\item 'DVDNALR'\n",
       "\\item 'DVGGQLQR'\n",
       "\\item 'DVHEGQPLLNVK'\n",
       "\\item 'DVLDGHLR'\n",
       "\\item 'EAAEGLR'\n",
       "\\item 'EAEAASIK'\n",
       "\\item 'EAGAGGLAIAVEGPSK'\n",
       "\\item 'EDAGEYECHASNSQGQASASAK'\n",
       "\\item 'EEEEETNR'\n",
       "\\item 'EEFPFALGVQTLPQTCDEPK'\n",
       "\\item 'EGAVLAK'\n",
       "\\item 'EGLDLQVLEDSGR'\n",
       "\\item 'EGSIWNHQPCFLK'\n",
       "\\item 'EIGELYLPKFSISR'\n",
       "\\item 'EIIDLVLDR'\n",
       "\\item 'EIIKPAEK'\n",
       "\\item 'EITENLMATGDLDQDGR'\n",
       "\\item 'EIVNSLKK'\n",
       "\\item 'EKGEIQNILQK'\n",
       "\\item 'EKLTALTK'\n",
       "\\item 'EKLTALTKK'\n",
       "\\item 'ELAAQTIKK'\n",
       "\\item 'ELAEDGYSGVEVR'\n",
       "\\item 'ELGCGGPQQPDPAAGR'\n",
       "\\item 'ELISNASDALDK'\n",
       "\\item 'ELLKDLSK'\n",
       "\\item 'ELTPQVVSAAR'\n",
       "\\item 'EMEMRQLQR'\n",
       "\\item 'ENDPVHGADGK'\n",
       "\\item 'ENFYQNWK'\n",
       "\\item 'EQLTPLIKK'\n",
       "\\item 'ERVGEYSLYIGR'\n",
       "\\item 'ETAEAYLGK'\n",
       "\\item 'ETDIEDSDDIPEDTTYKK'\n",
       "\\item 'ETMVTSTTEPSR'\n",
       "\\item 'ETTLSYYK'\n",
       "\\item 'EVDECSRPNR'\n",
       "\\item 'EVPCYVFDEELRK'\n",
       "\\item 'EVPLLQSLWLAHNEIR'\n",
       "\\item 'EVQVFEITENSAK'\n",
       "\\item 'FAAGSVVSFK'\n",
       "\\item 'FFVAPFPEVFGK'\n",
       "\\item 'FIQSQDYQCSALMGGR'\n",
       "\\item 'FLDMLIKK'\n",
       "\\item 'FLDQNLQK'\n",
       "\\item 'FLDTGVVQSDR'\n",
       "\\item 'FQGEWGTICDDGWDSYDAAVACK'\n",
       "\\item 'FTCACPDQFKGK'\n",
       "\\item 'FVLVQENRPTLTDIVELR'\n",
       "\\item 'GADLSLR'\n",
       "\\item 'GADYSLR'\n",
       "\\item 'GAQTQTEEEMTR'\n",
       "\\item 'GDFSSANNRDNTYNR'\n",
       "\\item 'GDVTAQIALQPALK'\n",
       "\\item 'GEIFFFKDR'\n",
       "\\item 'GENFEVGSK'\n",
       "\\item 'GEPSIPSNR'\n",
       "\\item 'GEWPWQVTLHTTSPTQR'\n",
       "\\item 'GFFDPNTEENLTYLQLK'\n",
       "\\item 'GFSANSAR'\n",
       "\\item 'GGKIEVQLK'\n",
       "\\item 'GGSGGGGGGSSGGRGSGGGSSGGSIGGR'\n",
       "\\item 'GILAADESVGTMGNR'\n",
       "\\item 'GIPLLVVK'\n",
       "\\item 'GKITDLIK'\n",
       "\\item 'GLAFTDVDVDSIK'\n",
       "\\item 'GLDFEAK'\n",
       "\\item 'GLFDEYGSK'\n",
       "\\item 'GLQPTLTNPGECRPNFTCACR'\n",
       "\\item 'GLSAEPGWQAK'\n",
       "\\item 'GLVLSGVLHK'\n",
       "\\item 'GPCGWTGGSCPQR'\n",
       "\\item 'GPDTENMEEVGR'\n",
       "\\item 'GQDHCGIESEVVAGIPR'\n",
       "\\item 'GSACQECQDPNR'\n",
       "\\item 'GSFDISCDKDNK'\n",
       "\\item 'GSVTFNGK'\n",
       "\\item 'GTQNPSQDQGNSPSGK'\n",
       "\\item 'GVAEQQQQQGCGDPEVMQK'\n",
       "\\item 'GVFVLNKK'\n",
       "\\item 'GVQCTDSR'\n",
       "\\item 'GVQPVSCPAN'\n",
       "\\item 'GVVDSEDLPLNISR'\n",
       "\\item 'GYVIIKPLVWV'\n",
       "\\item 'HEVININLK'\n",
       "\\item 'HGATVLTALGGILK'\n",
       "\\item 'HGSGESSAPLR'\n",
       "\\item 'HGSGSGQSSSYGPYR'\n",
       "\\item 'HLLGPDYTETLYSPR'\n",
       "\\item 'HMWPGDIK'\n",
       "\\item 'HPEALPGPISK'\n",
       "\\item 'HPTWPQK'\n",
       "\\item 'HSASQEGQDTIR'\n",
       "\\item 'HSIEVPIPR'\n",
       "\\item 'HSYTASYDIYDLNK'\n",
       "\\item 'HVFGQPAK'\n",
       "\\item 'HVYGELDVQIQR'\n",
       "\\item 'ICMDEDGNEK'\n",
       "\\item 'IDGSGNFQVLLSDR'\n",
       "\\item 'IESSSPTVVEGQTLDLNCVVAR'\n",
       "\\item 'IGDLHPQIVNLLK'\n",
       "\\item 'IGFGQCAGK'\n",
       "\\item 'IGSYQDEEGQLECK'\n",
       "\\item 'IHLISTQSAIPYALR'\n",
       "\\item 'IHYLDTTTLIEPAPR'\n",
       "\\item 'IKFEMEQNLR'\n",
       "\\item 'IKGVISIPR'\n",
       "\\item 'IKSSFVAPLEK'\n",
       "\\item 'ILQQIPDHPK'\n",
       "\\item 'INPLALKESVK'\n",
       "\\item 'IQTQLQR'\n",
       "\\item 'IQVKDSAQNSVIIVDK'\n",
       "\\item 'IQVVVLSASDASPPPVK'\n",
       "\\item ⋯\n",
       "\\item 'LAGLEEALQK'\n",
       "\\item 'LANDIEATAVR'\n",
       "\\item 'LAPGGHVGR'\n",
       "\\item 'LAYVWNNDIYVK'\n",
       "\\item 'LCLHCSVDQEGK'\n",
       "\\item 'LCQIPVHGASVPK'\n",
       "\\item 'LEATINELV'\n",
       "\\item 'LELHVDGPPPR'\n",
       "\\item 'LENCNYAVELGK'\n",
       "\\item 'LEVWHDQR'\n",
       "\\item 'LFPLPGR'\n",
       "\\item 'LFVGGAPPEFQPSPLR'\n",
       "\\item 'LGDVYVNDAFGTAHR'\n",
       "\\item 'LGESCINTVGSFR'\n",
       "\\item 'LGHGVNNAAGQVGK'\n",
       "\\item 'LGIKPSINYYQVADFK'\n",
       "\\item 'LHGLSGR'\n",
       "\\item 'LHIVQVVCK'\n",
       "\\item 'LILQNHILK'\n",
       "\\item 'LKELTLEDLK'\n",
       "\\item 'LKGPLLNK'\n",
       "\\item 'LKSELLK'\n",
       "\\item 'LLAGDHPIDLLLR'\n",
       "\\item 'LLDELAGK'\n",
       "\\item 'LLISSLSESPASVSILSQADNTSK'\n",
       "\\item 'LLLHLQGER'\n",
       "\\item 'LLSDFPVVPTATR'\n",
       "\\item 'LLVLITGGK'\n",
       "\\item 'LNHQLEGLAFQMK'\n",
       "\\item 'LNLEAINYMAADGDFK'\n",
       "\\item 'LNLVATPLFLK'\n",
       "\\item 'LPATEKPVLLSK'\n",
       "\\item 'LPSGSDHVMLK'\n",
       "\\item 'LPVAPLRK'\n",
       "\\item 'LPYTIITTPPLK'\n",
       "\\item 'LQATVQELQK'\n",
       "\\item 'LQELHLSSNGLESLSPEFLR'\n",
       "\\item 'LQFAYLENFK'\n",
       "\\item 'LSVEALNSLTGEFK'\n",
       "\\item 'LTALTKK'\n",
       "\\item 'LTLDIQNKK'\n",
       "\\item 'LTLTPWVGLRK'\n",
       "\\item 'LTQVVEQER'\n",
       "\\item 'LTVGLTRR'\n",
       "\\item 'LVDKFLEDVK'\n",
       "\\item 'LVGFIDDAVKK'\n",
       "\\item 'LVQAFQFTDK'\n",
       "\\item 'LVQLLVK'\n",
       "\\item 'LYDIDVAK'\n",
       "\\item 'LYGPDVGQPR'\n",
       "\\item 'MDSNELTFIPR'\n",
       "\\item 'MEGDSVLLEVDGEEVLR'\n",
       "\\item 'MELQEIQLK'\n",
       "\\item 'MNDTVTIR'\n",
       "\\item 'MNLYGFHGGQR'\n",
       "\\item 'MNSLSEANTK'\n",
       "\\item 'MSAEINEIIR'\n",
       "\\item 'MSGDLSSNVTVSVTSSTISSNVASK'\n",
       "\\item 'MSGECAPNVSVSVSTSHTTISGGGSR'\n",
       "\\item 'MSLPDVDLDLK'\n",
       "\\item 'MVNDAEK'\n",
       "\\item 'MYDAQQQQVGTNK'\n",
       "\\item 'NLHSEISGK'\n",
       "\\item 'NLQTVNVDEN'\n",
       "\\item 'NLSDVATK'\n",
       "\\item 'NPELNPCSVNAQCIEER'\n",
       "\\item 'NSQWICSNEECPGECLVTGQSHFK'\n",
       "\\item 'NVAFVIDISGSMAGRK'\n",
       "\\item 'NVLSLTNK'\n",
       "\\item 'NVPLPVIAELPPK'\n",
       "\\item 'PEMFENPLYGSLSSFPK'\n",
       "\\item 'PHADELK'\n",
       "\\item 'PNLSYIIGK'\n",
       "\\item 'PVPGHVTVSICR'\n",
       "\\item 'QAAVCQVK'\n",
       "\\item 'QAVQELVSLYYEEAR'\n",
       "\\item 'QDDGGAPILEYIVK'\n",
       "\\item 'QEMSKDLEEVK'\n",
       "\\item 'QFVYLESDYSK'\n",
       "\\item 'QGALELIKK'\n",
       "\\item 'QLCLWDEDPYPG'\n",
       "\\item 'QLFDQVVK'\n",
       "\\item 'QLGCPTAVTAIGR'\n",
       "\\item 'QLVLKAPDK'\n",
       "\\item 'QNLEPLFEQYINNLR'\n",
       "\\item 'QPGSTVHGR'\n",
       "\\item 'QSGLYFIKPLK'\n",
       "\\item 'QTVAVGVIK'\n",
       "\\item 'QVHQQEEQPR'\n",
       "\\item 'RALANSLACQGK'\n",
       "\\item 'RASDNLVK'\n",
       "\\item 'RCSCAPGYK'\n",
       "\\item 'RDFTFDLYR'\n",
       "\\item 'RLGVYELLLK'\n",
       "\\item 'RNAVPITPTLNR'\n",
       "\\item 'RQGALELIKK'\n",
       "\\item 'RQLEEAEEEAQR'\n",
       "\\item 'RYDLSALVR'\n",
       "\\item 'SAEELDEEVEYDMDEEDYIWLDIMNERR'\n",
       "\\item 'SCDSLNNRCEGSSVQTR'\n",
       "\\item 'SCGPPPQLSNGEVK'\n",
       "\\item 'SDDEVDDPAVELK'\n",
       "\\item 'SDVPFWAIK'\n",
       "\\item 'SEVSQVK'\n",
       "\\item 'SFTIKPVGFK'\n",
       "\\item 'SGAEAQTPEDSPNR'\n",
       "\\item 'SGSAPQSPGASIR'\n",
       "\\item 'SGVSLAALKK'\n",
       "\\item 'SGYLLPDTK'\n",
       "\\item 'SIDGAYTIRK'\n",
       "\\item 'SIQFVDWCPTGFK'\n",
       "\\item 'SKEQLTPLIK'\n",
       "\\item 'SKTELTPILK'\n",
       "\\item 'SLGKAVIEPGK'\n",
       "\\item 'SLGPALLLLQK'\n",
       "\\item 'SPWCDVFDIDDAK'\n",
       "\\item 'SRPSQVLDSPFPTGSAFGFSLR'\n",
       "\\item 'SSGFGQHESR'\n",
       "\\item 'SSLIILK'\n",
       "\\item 'SSLSVPYVIVPLK'\n",
       "\\item 'SSSGILSMVFYTDSAIAK'\n",
       "\\item 'SSSPELSEMLEYDR'\n",
       "\\item 'STQDTVIALDALSAYWIASHTTEER'\n",
       "\\item 'STTTGHLIYK'\n",
       "\\item 'TATMLCAASGNPDPEITWFK'\n",
       "\\item 'TCGLCGNYNGNQGDDFLTPSGLAEPR'\n",
       "\\item 'TCNPVYEK'\n",
       "\\item 'TDEDVPSGPPRK'\n",
       "\\item 'TDEGTYR'\n",
       "\\item 'TENELHGEK'\n",
       "\\item 'TFVNITPAEVGVLVGKDR'\n",
       "\\item 'TGLKEFLK'\n",
       "\\item 'TIAPALVSK'\n",
       "\\item 'TKEVIQEWNLTNIK'\n",
       "\\item 'TKIPAVFK'\n",
       "\\item 'TLIYSTNTR'\n",
       "\\item 'TLLPVSKPEIR'\n",
       "\\item 'TLLSNLEEAKK'\n",
       "\\item 'TLNNQFASFIDK'\n",
       "\\item 'TLQELKK'\n",
       "\\item 'TPSGLYLGTCER'\n",
       "\\item 'TSFPEDTVITYK'\n",
       "\\item 'TSFTSVSR'\n",
       "\\item 'TTEYYPNGGLTR'\n",
       "\\item 'TWPHFTATVK'\n",
       "\\item 'VAALIQK'\n",
       "\\item 'VADEAEK'\n",
       "\\item 'VALTEDRLPR'\n",
       "\\item 'VAQDQLR'\n",
       "\\item 'VCQCDSNGDCTDVDR'\n",
       "\\item 'VEADIPGHGQEVLIR'\n",
       "\\item 'VELACGK'\n",
       "\\item 'VEWEERR'\n",
       "\\item 'VFAILENKK'\n",
       "\\item 'VFLQNLLSVSQAR'\n",
       "\\item 'VGELCAGK'\n",
       "\\item 'VGLEHLR'\n",
       "\\item 'VLAKPTPK'\n",
       "\\item 'VLEDRPLSDK'\n",
       "\\item 'VLEKDSVTLK'\n",
       "\\item 'VLNCQGK'\n",
       "\\item 'VLNYVDWIKK'\n",
       "\\item 'VLPTHDASK'\n",
       "\\item 'VLSALQAVQGLLVAQGR'\n",
       "\\item 'VLVLDTDYKK'\n",
       "\\item 'VMPNIEK'\n",
       "\\item 'VMSLEAERK'\n",
       "\\item 'VNHFVPEAGSR'\n",
       "\\item 'VNQIGSVTESLQACK'\n",
       "\\item 'VNWIGCQGSEPHFR'\n",
       "\\item 'VPVQEELCGLASK'\n",
       "\\item 'VQVVAGKK'\n",
       "\\item 'VTGCPPFDEHK'\n",
       "\\item 'VTGDHVDLTTCPLAAGAQQEK'\n",
       "\\item 'VTGVVLFR'\n",
       "\\item 'VTSEDLK'\n",
       "\\item 'VTSVVTGFNNLPDR'\n",
       "\\item 'VTVLFAGQHIAK'\n",
       "\\item 'VTVPGNYYQLMCGLCGNYNGDPK'\n",
       "\\item 'VVAPTISSPVCQEQLVEAGR'\n",
       "\\item 'VVFVFGPDKK'\n",
       "\\item 'VVLGDQDLKK'\n",
       "\\item 'VYDYYETDESVVAEYIAPCSTDTEHGNV'\n",
       "\\item 'WENLECVQK'\n",
       "\\item 'WIDNPTVDDR'\n",
       "\\item 'WVSESQIMSVAFK'\n",
       "\\item 'WVWAPSFPACK'\n",
       "\\item 'YAISMAR'\n",
       "\\item 'YAPISGGDHAEVDVPK'\n",
       "\\item 'YCQLENAHLVVINSWEEQK'\n",
       "\\item 'YECVATNSAGTR'\n",
       "\\item 'YELNTETVK'\n",
       "\\item 'YFWTGLSDIQTK'\n",
       "\\item 'YHFPSLFFR'\n",
       "\\item 'YKATLLDIYK'\n",
       "\\item 'YKPTPIPIK'\n",
       "\\item 'YLAEVAAGDDK'\n",
       "\\item 'YLCSVCNAK'\n",
       "\\item 'YTNWAADEPK'\n",
       "\\item 'YVPQLLKEEK'\n",
       "\\end{enumerate*}\n"
      ],
      "text/markdown": [
       "1. 'AAFNSGK'\n",
       "2. 'AAMEPIVISAK'\n",
       "3. 'AAQGLLACGVAQGALR'\n",
       "4. 'AAYCACR'\n",
       "5. 'AEECYYDENVAR'\n",
       "6. 'AEMLDHAVLLQVIK'\n",
       "7. 'AETGDTVLK'\n",
       "8. 'AEVSELK'\n",
       "9. 'AGLGEEFEK'\n",
       "10. 'AGTPYTVTLHGEVR'\n",
       "11. 'AHIPPLGLK'\n",
       "12. 'AHSDGGDGVVSQVK'\n",
       "13. 'AHTDVGPGPESSPVLVR'\n",
       "14. 'AICDHVR'\n",
       "15. 'AIFSVGPVSPSR'\n",
       "16. 'AILQGAK'\n",
       "17. 'AINEKLGQYASPTAK'\n",
       "18. 'AIQDGTIVLMGTYDDGATK'\n",
       "19. 'ALAPEYAK'\n",
       "20. 'ALELEQERK'\n",
       "21. 'ALGLVPQAHPGFLTAWPADR'\n",
       "22. 'ALGQNPTNAEVLK'\n",
       "23. 'ANHASSVPR'\n",
       "24. 'APLPLGHIK'\n",
       "25. 'APLTKPLK'\n",
       "26. 'APTAQVESFR'\n",
       "27. 'AQPENIPAK'\n",
       "28. 'ARFEELNADLFR'\n",
       "29. 'ARGPDSNVLLLR'\n",
       "30. 'ASASDGSSFVVAR'\n",
       "31. 'ASCCCSLGK'\n",
       "32. 'ASCKVPVKK'\n",
       "33. 'ASFPIITVTAAHSGTYR'\n",
       "34. 'ASGPPVSELITK'\n",
       "35. 'ASGSPEPAISWFR'\n",
       "36. 'ASIHEAWTDGK'\n",
       "37. 'ASLEGNLAETENR'\n",
       "38. 'ASLHGGEPTTIIR'\n",
       "39. 'ASQSVSSSYLAWYQQK'\n",
       "40. 'ASQSVSSYLAWYQQK'\n",
       "41. 'ASSVVVSGTPIR'\n",
       "42. 'ASTSTTIRSHSSSR'\n",
       "43. 'ASVDSGSSEEQGGSSR'\n",
       "44. 'ATEDEGSEQK'\n",
       "45. 'AVACTFAR'\n",
       "46. 'AVASFLRR'\n",
       "47. 'AVPTGDASK'\n",
       "48. 'AVTDEEPFLIFANR'\n",
       "49. 'AVYEAVLR'\n",
       "50. 'CAPGYTGDR'\n",
       "51. 'CCITAAPYR'\n",
       "52. 'CDMEVSCPDGYTCCR'\n",
       "53. 'CDSSPDSAEDVR'\n",
       "54. 'CEFDINECK'\n",
       "55. 'CFQETIGSQCGK'\n",
       "56. 'CPDEPAPR'\n",
       "57. 'CPTCPDACTFK'\n",
       "58. 'CSCSSSSGLTCQAAGCPPGR'\n",
       "59. 'CVPGEVEK'\n",
       "60. 'CVPNSNER'\n",
       "61. 'CYDGYTLR'\n",
       "62. 'DAFCVFEQNQGLPLR'\n",
       "63. 'DANISQPETTKEGLR'\n",
       "64. 'DASIGTK'\n",
       "65. 'DATVACWELGCGK'\n",
       "66. 'DCGEEMQNGAGASR'\n",
       "67. 'DCVGPEVEK'\n",
       "68. 'DDQNPHSSNICNISCDK'\n",
       "69. 'DFMIQGGDFTR'\n",
       "70. 'DFVNASSK'\n",
       "71. 'DGIIVLK'\n",
       "72. 'DGLAFNALIHR'\n",
       "73. 'DIEAQLQHAGLR'\n",
       "74. 'DKVQYECATGYYTAGGK'\n",
       "75. 'DLKPAIVK'\n",
       "76. 'DLLQTVEDQYK'\n",
       "77. 'DLMVLNDVYR'\n",
       "78. 'DMICAGEKEGGK'\n",
       "79. 'DNVDDPTGNFR'\n",
       "80. 'DPPEPGSPR'\n",
       "81. 'DPSLGAQFR'\n",
       "82. 'DQCEDIDECQHR'\n",
       "83. 'DQITCISK'\n",
       "84. 'DQPGYSR'\n",
       "85. 'DRMYQMDIQQELQR'\n",
       "86. 'DSNRPSGIPER'\n",
       "87. 'DTIVFKCQK'\n",
       "88. 'DVDNALR'\n",
       "89. 'DVGGQLQR'\n",
       "90. 'DVHEGQPLLNVK'\n",
       "91. 'DVLDGHLR'\n",
       "92. 'EAAEGLR'\n",
       "93. 'EAEAASIK'\n",
       "94. 'EAGAGGLAIAVEGPSK'\n",
       "95. 'EDAGEYECHASNSQGQASASAK'\n",
       "96. 'EEEEETNR'\n",
       "97. 'EEFPFALGVQTLPQTCDEPK'\n",
       "98. 'EGAVLAK'\n",
       "99. 'EGLDLQVLEDSGR'\n",
       "100. 'EGSIWNHQPCFLK'\n",
       "101. 'EIGELYLPKFSISR'\n",
       "102. 'EIIDLVLDR'\n",
       "103. 'EIIKPAEK'\n",
       "104. 'EITENLMATGDLDQDGR'\n",
       "105. 'EIVNSLKK'\n",
       "106. 'EKGEIQNILQK'\n",
       "107. 'EKLTALTK'\n",
       "108. 'EKLTALTKK'\n",
       "109. 'ELAAQTIKK'\n",
       "110. 'ELAEDGYSGVEVR'\n",
       "111. 'ELGCGGPQQPDPAAGR'\n",
       "112. 'ELISNASDALDK'\n",
       "113. 'ELLKDLSK'\n",
       "114. 'ELTPQVVSAAR'\n",
       "115. 'EMEMRQLQR'\n",
       "116. 'ENDPVHGADGK'\n",
       "117. 'ENFYQNWK'\n",
       "118. 'EQLTPLIKK'\n",
       "119. 'ERVGEYSLYIGR'\n",
       "120. 'ETAEAYLGK'\n",
       "121. 'ETDIEDSDDIPEDTTYKK'\n",
       "122. 'ETMVTSTTEPSR'\n",
       "123. 'ETTLSYYK'\n",
       "124. 'EVDECSRPNR'\n",
       "125. 'EVPCYVFDEELRK'\n",
       "126. 'EVPLLQSLWLAHNEIR'\n",
       "127. 'EVQVFEITENSAK'\n",
       "128. 'FAAGSVVSFK'\n",
       "129. 'FFVAPFPEVFGK'\n",
       "130. 'FIQSQDYQCSALMGGR'\n",
       "131. 'FLDMLIKK'\n",
       "132. 'FLDQNLQK'\n",
       "133. 'FLDTGVVQSDR'\n",
       "134. 'FQGEWGTICDDGWDSYDAAVACK'\n",
       "135. 'FTCACPDQFKGK'\n",
       "136. 'FVLVQENRPTLTDIVELR'\n",
       "137. 'GADLSLR'\n",
       "138. 'GADYSLR'\n",
       "139. 'GAQTQTEEEMTR'\n",
       "140. 'GDFSSANNRDNTYNR'\n",
       "141. 'GDVTAQIALQPALK'\n",
       "142. 'GEIFFFKDR'\n",
       "143. 'GENFEVGSK'\n",
       "144. 'GEPSIPSNR'\n",
       "145. 'GEWPWQVTLHTTSPTQR'\n",
       "146. 'GFFDPNTEENLTYLQLK'\n",
       "147. 'GFSANSAR'\n",
       "148. 'GGKIEVQLK'\n",
       "149. 'GGSGGGGGGSSGGRGSGGGSSGGSIGGR'\n",
       "150. 'GILAADESVGTMGNR'\n",
       "151. 'GIPLLVVK'\n",
       "152. 'GKITDLIK'\n",
       "153. 'GLAFTDVDVDSIK'\n",
       "154. 'GLDFEAK'\n",
       "155. 'GLFDEYGSK'\n",
       "156. 'GLQPTLTNPGECRPNFTCACR'\n",
       "157. 'GLSAEPGWQAK'\n",
       "158. 'GLVLSGVLHK'\n",
       "159. 'GPCGWTGGSCPQR'\n",
       "160. 'GPDTENMEEVGR'\n",
       "161. 'GQDHCGIESEVVAGIPR'\n",
       "162. 'GSACQECQDPNR'\n",
       "163. 'GSFDISCDKDNK'\n",
       "164. 'GSVTFNGK'\n",
       "165. 'GTQNPSQDQGNSPSGK'\n",
       "166. 'GVAEQQQQQGCGDPEVMQK'\n",
       "167. 'GVFVLNKK'\n",
       "168. 'GVQCTDSR'\n",
       "169. 'GVQPVSCPAN'\n",
       "170. 'GVVDSEDLPLNISR'\n",
       "171. 'GYVIIKPLVWV'\n",
       "172. 'HEVININLK'\n",
       "173. 'HGATVLTALGGILK'\n",
       "174. 'HGSGESSAPLR'\n",
       "175. 'HGSGSGQSSSYGPYR'\n",
       "176. 'HLLGPDYTETLYSPR'\n",
       "177. 'HMWPGDIK'\n",
       "178. 'HPEALPGPISK'\n",
       "179. 'HPTWPQK'\n",
       "180. 'HSASQEGQDTIR'\n",
       "181. 'HSIEVPIPR'\n",
       "182. 'HSYTASYDIYDLNK'\n",
       "183. 'HVFGQPAK'\n",
       "184. 'HVYGELDVQIQR'\n",
       "185. 'ICMDEDGNEK'\n",
       "186. 'IDGSGNFQVLLSDR'\n",
       "187. 'IESSSPTVVEGQTLDLNCVVAR'\n",
       "188. 'IGDLHPQIVNLLK'\n",
       "189. 'IGFGQCAGK'\n",
       "190. 'IGSYQDEEGQLECK'\n",
       "191. 'IHLISTQSAIPYALR'\n",
       "192. 'IHYLDTTTLIEPAPR'\n",
       "193. 'IKFEMEQNLR'\n",
       "194. 'IKGVISIPR'\n",
       "195. 'IKSSFVAPLEK'\n",
       "196. 'ILQQIPDHPK'\n",
       "197. 'INPLALKESVK'\n",
       "198. 'IQTQLQR'\n",
       "199. 'IQVKDSAQNSVIIVDK'\n",
       "200. 'IQVVVLSASDASPPPVK'\n",
       "201. ⋯\n",
       "202. 'LAGLEEALQK'\n",
       "203. 'LANDIEATAVR'\n",
       "204. 'LAPGGHVGR'\n",
       "205. 'LAYVWNNDIYVK'\n",
       "206. 'LCLHCSVDQEGK'\n",
       "207. 'LCQIPVHGASVPK'\n",
       "208. 'LEATINELV'\n",
       "209. 'LELHVDGPPPR'\n",
       "210. 'LENCNYAVELGK'\n",
       "211. 'LEVWHDQR'\n",
       "212. 'LFPLPGR'\n",
       "213. 'LFVGGAPPEFQPSPLR'\n",
       "214. 'LGDVYVNDAFGTAHR'\n",
       "215. 'LGESCINTVGSFR'\n",
       "216. 'LGHGVNNAAGQVGK'\n",
       "217. 'LGIKPSINYYQVADFK'\n",
       "218. 'LHGLSGR'\n",
       "219. 'LHIVQVVCK'\n",
       "220. 'LILQNHILK'\n",
       "221. 'LKELTLEDLK'\n",
       "222. 'LKGPLLNK'\n",
       "223. 'LKSELLK'\n",
       "224. 'LLAGDHPIDLLLR'\n",
       "225. 'LLDELAGK'\n",
       "226. 'LLISSLSESPASVSILSQADNTSK'\n",
       "227. 'LLLHLQGER'\n",
       "228. 'LLSDFPVVPTATR'\n",
       "229. 'LLVLITGGK'\n",
       "230. 'LNHQLEGLAFQMK'\n",
       "231. 'LNLEAINYMAADGDFK'\n",
       "232. 'LNLVATPLFLK'\n",
       "233. 'LPATEKPVLLSK'\n",
       "234. 'LPSGSDHVMLK'\n",
       "235. 'LPVAPLRK'\n",
       "236. 'LPYTIITTPPLK'\n",
       "237. 'LQATVQELQK'\n",
       "238. 'LQELHLSSNGLESLSPEFLR'\n",
       "239. 'LQFAYLENFK'\n",
       "240. 'LSVEALNSLTGEFK'\n",
       "241. 'LTALTKK'\n",
       "242. 'LTLDIQNKK'\n",
       "243. 'LTLTPWVGLRK'\n",
       "244. 'LTQVVEQER'\n",
       "245. 'LTVGLTRR'\n",
       "246. 'LVDKFLEDVK'\n",
       "247. 'LVGFIDDAVKK'\n",
       "248. 'LVQAFQFTDK'\n",
       "249. 'LVQLLVK'\n",
       "250. 'LYDIDVAK'\n",
       "251. 'LYGPDVGQPR'\n",
       "252. 'MDSNELTFIPR'\n",
       "253. 'MEGDSVLLEVDGEEVLR'\n",
       "254. 'MELQEIQLK'\n",
       "255. 'MNDTVTIR'\n",
       "256. 'MNLYGFHGGQR'\n",
       "257. 'MNSLSEANTK'\n",
       "258. 'MSAEINEIIR'\n",
       "259. 'MSGDLSSNVTVSVTSSTISSNVASK'\n",
       "260. 'MSGECAPNVSVSVSTSHTTISGGGSR'\n",
       "261. 'MSLPDVDLDLK'\n",
       "262. 'MVNDAEK'\n",
       "263. 'MYDAQQQQVGTNK'\n",
       "264. 'NLHSEISGK'\n",
       "265. 'NLQTVNVDEN'\n",
       "266. 'NLSDVATK'\n",
       "267. 'NPELNPCSVNAQCIEER'\n",
       "268. 'NSQWICSNEECPGECLVTGQSHFK'\n",
       "269. 'NVAFVIDISGSMAGRK'\n",
       "270. 'NVLSLTNK'\n",
       "271. 'NVPLPVIAELPPK'\n",
       "272. 'PEMFENPLYGSLSSFPK'\n",
       "273. 'PHADELK'\n",
       "274. 'PNLSYIIGK'\n",
       "275. 'PVPGHVTVSICR'\n",
       "276. 'QAAVCQVK'\n",
       "277. 'QAVQELVSLYYEEAR'\n",
       "278. 'QDDGGAPILEYIVK'\n",
       "279. 'QEMSKDLEEVK'\n",
       "280. 'QFVYLESDYSK'\n",
       "281. 'QGALELIKK'\n",
       "282. 'QLCLWDEDPYPG'\n",
       "283. 'QLFDQVVK'\n",
       "284. 'QLGCPTAVTAIGR'\n",
       "285. 'QLVLKAPDK'\n",
       "286. 'QNLEPLFEQYINNLR'\n",
       "287. 'QPGSTVHGR'\n",
       "288. 'QSGLYFIKPLK'\n",
       "289. 'QTVAVGVIK'\n",
       "290. 'QVHQQEEQPR'\n",
       "291. 'RALANSLACQGK'\n",
       "292. 'RASDNLVK'\n",
       "293. 'RCSCAPGYK'\n",
       "294. 'RDFTFDLYR'\n",
       "295. 'RLGVYELLLK'\n",
       "296. 'RNAVPITPTLNR'\n",
       "297. 'RQGALELIKK'\n",
       "298. 'RQLEEAEEEAQR'\n",
       "299. 'RYDLSALVR'\n",
       "300. 'SAEELDEEVEYDMDEEDYIWLDIMNERR'\n",
       "301. 'SCDSLNNRCEGSSVQTR'\n",
       "302. 'SCGPPPQLSNGEVK'\n",
       "303. 'SDDEVDDPAVELK'\n",
       "304. 'SDVPFWAIK'\n",
       "305. 'SEVSQVK'\n",
       "306. 'SFTIKPVGFK'\n",
       "307. 'SGAEAQTPEDSPNR'\n",
       "308. 'SGSAPQSPGASIR'\n",
       "309. 'SGVSLAALKK'\n",
       "310. 'SGYLLPDTK'\n",
       "311. 'SIDGAYTIRK'\n",
       "312. 'SIQFVDWCPTGFK'\n",
       "313. 'SKEQLTPLIK'\n",
       "314. 'SKTELTPILK'\n",
       "315. 'SLGKAVIEPGK'\n",
       "316. 'SLGPALLLLQK'\n",
       "317. 'SPWCDVFDIDDAK'\n",
       "318. 'SRPSQVLDSPFPTGSAFGFSLR'\n",
       "319. 'SSGFGQHESR'\n",
       "320. 'SSLIILK'\n",
       "321. 'SSLSVPYVIVPLK'\n",
       "322. 'SSSGILSMVFYTDSAIAK'\n",
       "323. 'SSSPELSEMLEYDR'\n",
       "324. 'STQDTVIALDALSAYWIASHTTEER'\n",
       "325. 'STTTGHLIYK'\n",
       "326. 'TATMLCAASGNPDPEITWFK'\n",
       "327. 'TCGLCGNYNGNQGDDFLTPSGLAEPR'\n",
       "328. 'TCNPVYEK'\n",
       "329. 'TDEDVPSGPPRK'\n",
       "330. 'TDEGTYR'\n",
       "331. 'TENELHGEK'\n",
       "332. 'TFVNITPAEVGVLVGKDR'\n",
       "333. 'TGLKEFLK'\n",
       "334. 'TIAPALVSK'\n",
       "335. 'TKEVIQEWNLTNIK'\n",
       "336. 'TKIPAVFK'\n",
       "337. 'TLIYSTNTR'\n",
       "338. 'TLLPVSKPEIR'\n",
       "339. 'TLLSNLEEAKK'\n",
       "340. 'TLNNQFASFIDK'\n",
       "341. 'TLQELKK'\n",
       "342. 'TPSGLYLGTCER'\n",
       "343. 'TSFPEDTVITYK'\n",
       "344. 'TSFTSVSR'\n",
       "345. 'TTEYYPNGGLTR'\n",
       "346. 'TWPHFTATVK'\n",
       "347. 'VAALIQK'\n",
       "348. 'VADEAEK'\n",
       "349. 'VALTEDRLPR'\n",
       "350. 'VAQDQLR'\n",
       "351. 'VCQCDSNGDCTDVDR'\n",
       "352. 'VEADIPGHGQEVLIR'\n",
       "353. 'VELACGK'\n",
       "354. 'VEWEERR'\n",
       "355. 'VFAILENKK'\n",
       "356. 'VFLQNLLSVSQAR'\n",
       "357. 'VGELCAGK'\n",
       "358. 'VGLEHLR'\n",
       "359. 'VLAKPTPK'\n",
       "360. 'VLEDRPLSDK'\n",
       "361. 'VLEKDSVTLK'\n",
       "362. 'VLNCQGK'\n",
       "363. 'VLNYVDWIKK'\n",
       "364. 'VLPTHDASK'\n",
       "365. 'VLSALQAVQGLLVAQGR'\n",
       "366. 'VLVLDTDYKK'\n",
       "367. 'VMPNIEK'\n",
       "368. 'VMSLEAERK'\n",
       "369. 'VNHFVPEAGSR'\n",
       "370. 'VNQIGSVTESLQACK'\n",
       "371. 'VNWIGCQGSEPHFR'\n",
       "372. 'VPVQEELCGLASK'\n",
       "373. 'VQVVAGKK'\n",
       "374. 'VTGCPPFDEHK'\n",
       "375. 'VTGDHVDLTTCPLAAGAQQEK'\n",
       "376. 'VTGVVLFR'\n",
       "377. 'VTSEDLK'\n",
       "378. 'VTSVVTGFNNLPDR'\n",
       "379. 'VTVLFAGQHIAK'\n",
       "380. 'VTVPGNYYQLMCGLCGNYNGDPK'\n",
       "381. 'VVAPTISSPVCQEQLVEAGR'\n",
       "382. 'VVFVFGPDKK'\n",
       "383. 'VVLGDQDLKK'\n",
       "384. 'VYDYYETDESVVAEYIAPCSTDTEHGNV'\n",
       "385. 'WENLECVQK'\n",
       "386. 'WIDNPTVDDR'\n",
       "387. 'WVSESQIMSVAFK'\n",
       "388. 'WVWAPSFPACK'\n",
       "389. 'YAISMAR'\n",
       "390. 'YAPISGGDHAEVDVPK'\n",
       "391. 'YCQLENAHLVVINSWEEQK'\n",
       "392. 'YECVATNSAGTR'\n",
       "393. 'YELNTETVK'\n",
       "394. 'YFWTGLSDIQTK'\n",
       "395. 'YHFPSLFFR'\n",
       "396. 'YKATLLDIYK'\n",
       "397. 'YKPTPIPIK'\n",
       "398. 'YLAEVAAGDDK'\n",
       "399. 'YLCSVCNAK'\n",
       "400. 'YTNWAADEPK'\n",
       "401. 'YVPQLLKEEK'\n",
       "\n",
       "\n"
      ],
      "text/plain": [
       "  [1] \"AAFNSGK\"                      \"AAMEPIVISAK\"                 \n",
       "  [3] \"AAQGLLACGVAQGALR\"             \"AAYCACR\"                     \n",
       "  [5] \"AEECYYDENVAR\"                 \"AEMLDHAVLLQVIK\"              \n",
       "  [7] \"AETGDTVLK\"                    \"AEVSELK\"                     \n",
       "  [9] \"AGLGEEFEK\"                    \"AGTPYTVTLHGEVR\"              \n",
       " [11] \"AHIPPLGLK\"                    \"AHSDGGDGVVSQVK\"              \n",
       " [13] \"AHTDVGPGPESSPVLVR\"            \"AICDHVR\"                     \n",
       " [15] \"AIFSVGPVSPSR\"                 \"AILQGAK\"                     \n",
       " [17] \"AINEKLGQYASPTAK\"              \"AIQDGTIVLMGTYDDGATK\"         \n",
       " [19] \"ALAPEYAK\"                     \"ALELEQERK\"                   \n",
       " [21] \"ALGLVPQAHPGFLTAWPADR\"         \"ALGQNPTNAEVLK\"               \n",
       " [23] \"ANHASSVPR\"                    \"APLPLGHIK\"                   \n",
       " [25] \"APLTKPLK\"                     \"APTAQVESFR\"                  \n",
       " [27] \"AQPENIPAK\"                    \"ARFEELNADLFR\"                \n",
       " [29] \"ARGPDSNVLLLR\"                 \"ASASDGSSFVVAR\"               \n",
       " [31] \"ASCCCSLGK\"                    \"ASCKVPVKK\"                   \n",
       " [33] \"ASFPIITVTAAHSGTYR\"            \"ASGPPVSELITK\"                \n",
       " [35] \"ASGSPEPAISWFR\"                \"ASIHEAWTDGK\"                 \n",
       " [37] \"ASLEGNLAETENR\"                \"ASLHGGEPTTIIR\"               \n",
       " [39] \"ASQSVSSSYLAWYQQK\"             \"ASQSVSSYLAWYQQK\"             \n",
       " [41] \"ASSVVVSGTPIR\"                 \"ASTSTTIRSHSSSR\"              \n",
       " [43] \"ASVDSGSSEEQGGSSR\"             \"ATEDEGSEQK\"                  \n",
       " [45] \"AVACTFAR\"                     \"AVASFLRR\"                    \n",
       " [47] \"AVPTGDASK\"                    \"AVTDEEPFLIFANR\"              \n",
       " [49] \"AVYEAVLR\"                     \"CAPGYTGDR\"                   \n",
       " [51] \"CCITAAPYR\"                    \"CDMEVSCPDGYTCCR\"             \n",
       " [53] \"CDSSPDSAEDVR\"                 \"CEFDINECK\"                   \n",
       " [55] \"CFQETIGSQCGK\"                 \"CPDEPAPR\"                    \n",
       " [57] \"CPTCPDACTFK\"                  \"CSCSSSSGLTCQAAGCPPGR\"        \n",
       " [59] \"CVPGEVEK\"                     \"CVPNSNER\"                    \n",
       " [61] \"CYDGYTLR\"                     \"DAFCVFEQNQGLPLR\"             \n",
       " [63] \"DANISQPETTKEGLR\"              \"DASIGTK\"                     \n",
       " [65] \"DATVACWELGCGK\"                \"DCGEEMQNGAGASR\"              \n",
       " [67] \"DCVGPEVEK\"                    \"DDQNPHSSNICNISCDK\"           \n",
       " [69] \"DFMIQGGDFTR\"                  \"DFVNASSK\"                    \n",
       " [71] \"DGIIVLK\"                      \"DGLAFNALIHR\"                 \n",
       " [73] \"DIEAQLQHAGLR\"                 \"DKVQYECATGYYTAGGK\"           \n",
       " [75] \"DLKPAIVK\"                     \"DLLQTVEDQYK\"                 \n",
       " [77] \"DLMVLNDVYR\"                   \"DMICAGEKEGGK\"                \n",
       " [79] \"DNVDDPTGNFR\"                  \"DPPEPGSPR\"                   \n",
       " [81] \"DPSLGAQFR\"                    \"DQCEDIDECQHR\"                \n",
       " [83] \"DQITCISK\"                     \"DQPGYSR\"                     \n",
       " [85] \"DRMYQMDIQQELQR\"               \"DSNRPSGIPER\"                 \n",
       " [87] \"DTIVFKCQK\"                    \"DVDNALR\"                     \n",
       " [89] \"DVGGQLQR\"                     \"DVHEGQPLLNVK\"                \n",
       " [91] \"DVLDGHLR\"                     \"EAAEGLR\"                     \n",
       " [93] \"EAEAASIK\"                     \"EAGAGGLAIAVEGPSK\"            \n",
       " [95] \"EDAGEYECHASNSQGQASASAK\"       \"EEEEETNR\"                    \n",
       " [97] \"EEFPFALGVQTLPQTCDEPK\"         \"EGAVLAK\"                     \n",
       " [99] \"EGLDLQVLEDSGR\"                \"EGSIWNHQPCFLK\"               \n",
       "[101] \"EIGELYLPKFSISR\"               \"EIIDLVLDR\"                   \n",
       "[103] \"EIIKPAEK\"                     \"EITENLMATGDLDQDGR\"           \n",
       "[105] \"EIVNSLKK\"                     \"EKGEIQNILQK\"                 \n",
       "[107] \"EKLTALTK\"                     \"EKLTALTKK\"                   \n",
       "[109] \"ELAAQTIKK\"                    \"ELAEDGYSGVEVR\"               \n",
       "[111] \"ELGCGGPQQPDPAAGR\"             \"ELISNASDALDK\"                \n",
       "[113] \"ELLKDLSK\"                     \"ELTPQVVSAAR\"                 \n",
       "[115] \"EMEMRQLQR\"                    \"ENDPVHGADGK\"                 \n",
       "[117] \"ENFYQNWK\"                     \"EQLTPLIKK\"                   \n",
       "[119] \"ERVGEYSLYIGR\"                 \"ETAEAYLGK\"                   \n",
       "[121] \"ETDIEDSDDIPEDTTYKK\"           \"ETMVTSTTEPSR\"                \n",
       "[123] \"ETTLSYYK\"                     \"EVDECSRPNR\"                  \n",
       "[125] \"EVPCYVFDEELRK\"                \"EVPLLQSLWLAHNEIR\"            \n",
       "[127] \"EVQVFEITENSAK\"                \"FAAGSVVSFK\"                  \n",
       "[129] \"FFVAPFPEVFGK\"                 \"FIQSQDYQCSALMGGR\"            \n",
       "[131] \"FLDMLIKK\"                     \"FLDQNLQK\"                    \n",
       "[133] \"FLDTGVVQSDR\"                  \"FQGEWGTICDDGWDSYDAAVACK\"     \n",
       "[135] \"FTCACPDQFKGK\"                 \"FVLVQENRPTLTDIVELR\"          \n",
       "[137] \"GADLSLR\"                      \"GADYSLR\"                     \n",
       "[139] \"GAQTQTEEEMTR\"                 \"GDFSSANNRDNTYNR\"             \n",
       "[141] \"GDVTAQIALQPALK\"               \"GEIFFFKDR\"                   \n",
       "[143] \"GENFEVGSK\"                    \"GEPSIPSNR\"                   \n",
       "[145] \"GEWPWQVTLHTTSPTQR\"            \"GFFDPNTEENLTYLQLK\"           \n",
       "[147] \"GFSANSAR\"                     \"GGKIEVQLK\"                   \n",
       "[149] \"GGSGGGGGGSSGGRGSGGGSSGGSIGGR\" \"GILAADESVGTMGNR\"             \n",
       "[151] \"GIPLLVVK\"                     \"GKITDLIK\"                    \n",
       "[153] \"GLAFTDVDVDSIK\"                \"GLDFEAK\"                     \n",
       "[155] \"GLFDEYGSK\"                    \"GLQPTLTNPGECRPNFTCACR\"       \n",
       "[157] \"GLSAEPGWQAK\"                  \"GLVLSGVLHK\"                  \n",
       "[159] \"GPCGWTGGSCPQR\"                \"GPDTENMEEVGR\"                \n",
       "[161] \"GQDHCGIESEVVAGIPR\"            \"GSACQECQDPNR\"                \n",
       "[163] \"GSFDISCDKDNK\"                 \"GSVTFNGK\"                    \n",
       "[165] \"GTQNPSQDQGNSPSGK\"             \"GVAEQQQQQGCGDPEVMQK\"         \n",
       "[167] \"GVFVLNKK\"                     \"GVQCTDSR\"                    \n",
       "[169] \"GVQPVSCPAN\"                   \"GVVDSEDLPLNISR\"              \n",
       "[171] \"GYVIIKPLVWV\"                  \"HEVININLK\"                   \n",
       "[173] \"HGATVLTALGGILK\"               \"HGSGESSAPLR\"                 \n",
       "[175] \"HGSGSGQSSSYGPYR\"              \"HLLGPDYTETLYSPR\"             \n",
       "[177] \"HMWPGDIK\"                     \"HPEALPGPISK\"                 \n",
       "[179] \"HPTWPQK\"                      \"HSASQEGQDTIR\"                \n",
       "[181] \"HSIEVPIPR\"                    \"HSYTASYDIYDLNK\"              \n",
       "[183] \"HVFGQPAK\"                     \"HVYGELDVQIQR\"                \n",
       "[185] \"ICMDEDGNEK\"                   \"IDGSGNFQVLLSDR\"              \n",
       "[187] \"IESSSPTVVEGQTLDLNCVVAR\"       \"IGDLHPQIVNLLK\"               \n",
       "[189] \"IGFGQCAGK\"                    \"IGSYQDEEGQLECK\"              \n",
       "[191] \"IHLISTQSAIPYALR\"              \"IHYLDTTTLIEPAPR\"             \n",
       "[193] \"IKFEMEQNLR\"                   \"IKGVISIPR\"                   \n",
       "[195] \"IKSSFVAPLEK\"                  \"ILQQIPDHPK\"                  \n",
       "[197] \"INPLALKESVK\"                  \"IQTQLQR\"                     \n",
       "[199] \"IQVKDSAQNSVIIVDK\"             \"IQVVVLSASDASPPPVK\"           \n",
       "[201] \"ITAIITQGCK\"                   \"ITEFCHR\"                     \n",
       "[203] \"ITGFLKPGK\"                    \"IVAEEFLK\"                    \n",
       "[205] \"IVDLVSELKK\"                   \"IVQIYKDLLR\"                  \n",
       "[207] \"IYLLVKEEK\"                    \"KAPPPSGASQTIK\"               \n",
       "[209] \"KAVELGVK\"                     \"KAVGGLGK\"                    \n",
       "[211] \"KCLVNLIEK\"                    \"KEPAVLELEGK\"                 \n",
       "[213] \"KETILCSSDK\"                   \"KETIVLK\"                     \n",
       "[215] \"KGPAAIQK\"                     \"KILIEDWK\"                    \n",
       "[217] \"KLAVEPK\"                      \"KLELHLPK\"                    \n",
       "[219] \"KLSSWVLLMK\"                   \"KLVLSSEK\"                    \n",
       "[221] \"KPFLLLAIK\"                    \"KPIIGILMQK\"                  \n",
       "[223] \"KQHLFVK\"                      \"KQLVEIEK\"                    \n",
       "[225] \"KQTALVELLK\"                   \"KQTALVELVK\"                  \n",
       "[227] \"KSQPPPPQPAR\"                  \"KTEAPAAPAAQETK\"              \n",
       "[229] \"KTQSLLDVLK\"                   \"KVEFVLK\"                     \n",
       "[231] \"KWLTFSLGK\"                    \"KYVLPNFEVK\"                  \n",
       "[233] \"LAEGFPLPLLKR\"                 \"LAGLEEALQK\"                  \n",
       "[235] \"LANDIEATAVR\"                  \"LAPGGHVGR\"                   \n",
       "[237] \"LAYVWNNDIYVK\"                 \"LCLHCSVDQEGK\"                \n",
       "[239] \"LCQIPVHGASVPK\"                \"LEATINELV\"                   \n",
       "[241] \"LELHVDGPPPR\"                  \"LENCNYAVELGK\"                \n",
       "[243] \"LEVWHDQR\"                     \"LFPLPGR\"                     \n",
       "[245] \"LFVGGAPPEFQPSPLR\"             \"LGDVYVNDAFGTAHR\"             \n",
       "[247] \"LGESCINTVGSFR\"                \"LGHGVNNAAGQVGK\"              \n",
       "[249] \"LGIKPSINYYQVADFK\"             \"LHGLSGR\"                     \n",
       "[251] \"LHIVQVVCK\"                    \"LILQNHILK\"                   \n",
       "[253] \"LKELTLEDLK\"                   \"LKGPLLNK\"                    \n",
       "[255] \"LKSELLK\"                      \"LLAGDHPIDLLLR\"               \n",
       "[257] \"LLDELAGK\"                     \"LLISSLSESPASVSILSQADNTSK\"    \n",
       "[259] \"LLLHLQGER\"                    \"LLSDFPVVPTATR\"               \n",
       "[261] \"LLVLITGGK\"                    \"LNHQLEGLAFQMK\"               \n",
       "[263] \"LNLEAINYMAADGDFK\"             \"LNLVATPLFLK\"                 \n",
       "[265] \"LPATEKPVLLSK\"                 \"LPSGSDHVMLK\"                 \n",
       "[267] \"LPVAPLRK\"                     \"LPYTIITTPPLK\"                \n",
       "[269] \"LQATVQELQK\"                   \"LQELHLSSNGLESLSPEFLR\"        \n",
       "[271] \"LQFAYLENFK\"                   \"LSVEALNSLTGEFK\"              \n",
       "[273] \"LTALTKK\"                      \"LTLDIQNKK\"                   \n",
       "[275] \"LTLTPWVGLRK\"                  \"LTQVVEQER\"                   \n",
       "[277] \"LTVGLTRR\"                     \"LVDKFLEDVK\"                  \n",
       "[279] \"LVGFIDDAVKK\"                  \"LVQAFQFTDK\"                  \n",
       "[281] \"LVQLLVK\"                      \"LYDIDVAK\"                    \n",
       "[283] \"LYGPDVGQPR\"                   \"MDSNELTFIPR\"                 \n",
       "[285] \"MEGDSVLLEVDGEEVLR\"            \"MELQEIQLK\"                   \n",
       "[287] \"MNDTVTIR\"                     \"MNLYGFHGGQR\"                 \n",
       "[289] \"MNSLSEANTK\"                   \"MSAEINEIIR\"                  \n",
       "[291] \"MSGDLSSNVTVSVTSSTISSNVASK\"    \"MSGECAPNVSVSVSTSHTTISGGGSR\"  \n",
       "[293] \"MSLPDVDLDLK\"                  \"MVNDAEK\"                     \n",
       "[295] \"MYDAQQQQVGTNK\"                \"NLHSEISGK\"                   \n",
       "[297] \"NLQTVNVDEN\"                   \"NLSDVATK\"                    \n",
       "[299] \"NPELNPCSVNAQCIEER\"            \"NSQWICSNEECPGECLVTGQSHFK\"    \n",
       "[301] \"NVAFVIDISGSMAGRK\"             \"NVLSLTNK\"                    \n",
       "[303] \"NVPLPVIAELPPK\"                \"PEMFENPLYGSLSSFPK\"           \n",
       "[305] \"PHADELK\"                      \"PNLSYIIGK\"                   \n",
       "[307] \"PVPGHVTVSICR\"                 \"QAAVCQVK\"                    \n",
       "[309] \"QAVQELVSLYYEEAR\"              \"QDDGGAPILEYIVK\"              \n",
       "[311] \"QEMSKDLEEVK\"                  \"QFVYLESDYSK\"                 \n",
       "[313] \"QGALELIKK\"                    \"QLCLWDEDPYPG\"                \n",
       "[315] \"QLFDQVVK\"                     \"QLGCPTAVTAIGR\"               \n",
       "[317] \"QLVLKAPDK\"                    \"QNLEPLFEQYINNLR\"             \n",
       "[319] \"QPGSTVHGR\"                    \"QSGLYFIKPLK\"                 \n",
       "[321] \"QTVAVGVIK\"                    \"QVHQQEEQPR\"                  \n",
       "[323] \"RALANSLACQGK\"                 \"RASDNLVK\"                    \n",
       "[325] \"RCSCAPGYK\"                    \"RDFTFDLYR\"                   \n",
       "[327] \"RLGVYELLLK\"                   \"RNAVPITPTLNR\"                \n",
       "[329] \"RQGALELIKK\"                   \"RQLEEAEEEAQR\"                \n",
       "[331] \"RYDLSALVR\"                    \"SAEELDEEVEYDMDEEDYIWLDIMNERR\"\n",
       "[333] \"SCDSLNNRCEGSSVQTR\"            \"SCGPPPQLSNGEVK\"              \n",
       "[335] \"SDDEVDDPAVELK\"                \"SDVPFWAIK\"                   \n",
       "[337] \"SEVSQVK\"                      \"SFTIKPVGFK\"                  \n",
       "[339] \"SGAEAQTPEDSPNR\"               \"SGSAPQSPGASIR\"               \n",
       "[341] \"SGVSLAALKK\"                   \"SGYLLPDTK\"                   \n",
       "[343] \"SIDGAYTIRK\"                   \"SIQFVDWCPTGFK\"               \n",
       "[345] \"SKEQLTPLIK\"                   \"SKTELTPILK\"                  \n",
       "[347] \"SLGKAVIEPGK\"                  \"SLGPALLLLQK\"                 \n",
       "[349] \"SPWCDVFDIDDAK\"                \"SRPSQVLDSPFPTGSAFGFSLR\"      \n",
       "[351] \"SSGFGQHESR\"                   \"SSLIILK\"                     \n",
       "[353] \"SSLSVPYVIVPLK\"                \"SSSGILSMVFYTDSAIAK\"          \n",
       "[355] \"SSSPELSEMLEYDR\"               \"STQDTVIALDALSAYWIASHTTEER\"   \n",
       "[357] \"STTTGHLIYK\"                   \"TATMLCAASGNPDPEITWFK\"        \n",
       "[359] \"TCGLCGNYNGNQGDDFLTPSGLAEPR\"   \"TCNPVYEK\"                    \n",
       "[361] \"TDEDVPSGPPRK\"                 \"TDEGTYR\"                     \n",
       "[363] \"TENELHGEK\"                    \"TFVNITPAEVGVLVGKDR\"          \n",
       "[365] \"TGLKEFLK\"                     \"TIAPALVSK\"                   \n",
       "[367] \"TKEVIQEWNLTNIK\"               \"TKIPAVFK\"                    \n",
       "[369] \"TLIYSTNTR\"                    \"TLLPVSKPEIR\"                 \n",
       "[371] \"TLLSNLEEAKK\"                  \"TLNNQFASFIDK\"                \n",
       "[373] \"TLQELKK\"                      \"TPSGLYLGTCER\"                \n",
       "[375] \"TSFPEDTVITYK\"                 \"TSFTSVSR\"                    \n",
       "[377] \"TTEYYPNGGLTR\"                 \"TWPHFTATVK\"                  \n",
       "[379] \"VAALIQK\"                      \"VADEAEK\"                     \n",
       "[381] \"VALTEDRLPR\"                   \"VAQDQLR\"                     \n",
       "[383] \"VCQCDSNGDCTDVDR\"              \"VEADIPGHGQEVLIR\"             \n",
       "[385] \"VELACGK\"                      \"VEWEERR\"                     \n",
       "[387] \"VFAILENKK\"                    \"VFLQNLLSVSQAR\"               \n",
       "[389] \"VGELCAGK\"                     \"VGLEHLR\"                     \n",
       "[391] \"VLAKPTPK\"                     \"VLEDRPLSDK\"                  \n",
       "[393] \"VLEKDSVTLK\"                   \"VLNCQGK\"                     \n",
       "[395] \"VLNYVDWIKK\"                   \"VLPTHDASK\"                   \n",
       "[397] \"VLSALQAVQGLLVAQGR\"            \"VLVLDTDYKK\"                  \n",
       "[399] \"VMPNIEK\"                      \"VMSLEAERK\"                   \n",
       "[401] \"VNHFVPEAGSR\"                  \"VNQIGSVTESLQACK\"             \n",
       "[403] \"VNWIGCQGSEPHFR\"               \"VPVQEELCGLASK\"               \n",
       "[405] \"VQVVAGKK\"                     \"VTGCPPFDEHK\"                 \n",
       "[407] \"VTGDHVDLTTCPLAAGAQQEK\"        \"VTGVVLFR\"                    \n",
       "[409] \"VTSEDLK\"                      \"VTSVVTGFNNLPDR\"              \n",
       "[411] \"VTVLFAGQHIAK\"                 \"VTVPGNYYQLMCGLCGNYNGDPK\"     \n",
       "[413] \"VVAPTISSPVCQEQLVEAGR\"         \"VVFVFGPDKK\"                  \n",
       "[415] \"VVLGDQDLKK\"                   \"VYDYYETDESVVAEYIAPCSTDTEHGNV\"\n",
       "[417] \"WENLECVQK\"                    \"WIDNPTVDDR\"                  \n",
       "[419] \"WVSESQIMSVAFK\"                \"WVWAPSFPACK\"                 \n",
       "[421] \"YAISMAR\"                      \"YAPISGGDHAEVDVPK\"            \n",
       "[423] \"YCQLENAHLVVINSWEEQK\"          \"YECVATNSAGTR\"                \n",
       "[425] \"YELNTETVK\"                    \"YFWTGLSDIQTK\"                \n",
       "[427] \"YHFPSLFFR\"                    \"YKATLLDIYK\"                  \n",
       "[429] \"YKPTPIPIK\"                    \"YLAEVAAGDDK\"                 \n",
       "[431] \"YLCSVCNAK\"                    \"YTNWAADEPK\"                  \n",
       "[433] \"YVPQLLKEEK\"                  "
      ]
     },
     "metadata": {},
     "output_type": "display_data"
    }
   ],
   "source": [
    "# print different peptides\n",
    "sort(setdiff(all_elements,all_elements_pep))"
   ]
  },
  {
   "cell_type": "code",
   "execution_count": null,
   "metadata": {
    "vscode": {
     "languageId": "r"
    }
   },
   "outputs": [],
   "source": []
  }
 ],
 "metadata": {
  "kernelspec": {
   "display_name": "R",
   "language": "R",
   "name": "ir"
  },
  "language_info": {
   "codemirror_mode": "r",
   "file_extension": ".r",
   "mimetype": "text/x-r-source",
   "name": "R",
   "pygments_lexer": "r",
   "version": "4.2.0"
  }
 },
 "nbformat": 4,
 "nbformat_minor": 2
}
