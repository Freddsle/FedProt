{
 "cells": [
  {
   "cell_type": "code",
   "execution_count": 2,
   "metadata": {
    "vscode": {
     "languageId": "r"
    }
   },
   "outputs": [],
   "source": [
    "library(tidyverse)\n",
    "library(cowplot)\n",
    "library(VennDiagram)\n",
    "library(gridExtra)"
   ]
  },
  {
   "cell_type": "markdown",
   "metadata": {},
   "source": [
    "# Read files"
   ]
  },
  {
   "cell_type": "code",
   "execution_count": 3,
   "metadata": {
    "vscode": {
     "languageId": "r"
    }
   },
   "outputs": [
    {
     "data": {
      "text/html": [
       "<table class=\"dataframe\">\n",
       "<caption>A data.frame: 3 × 6</caption>\n",
       "<thead>\n",
       "\t<tr><th></th><th scope=col>Quantitative.column.name</th><th scope=col>Pool</th><th scope=col>Reporter.ion</th><th scope=col>Patient</th><th scope=col>Group</th><th scope=col>Center</th></tr>\n",
       "\t<tr><th></th><th scope=col>&lt;chr&gt;</th><th scope=col>&lt;chr&gt;</th><th scope=col>&lt;chr&gt;</th><th scope=col>&lt;chr&gt;</th><th scope=col>&lt;chr&gt;</th><th scope=col>&lt;chr&gt;</th></tr>\n",
       "</thead>\n",
       "<tbody>\n",
       "\t<tr><th scope=row>Reporter.intensity.corrected.1.Pool1</th><td>P_1.RIC_1</td><td>Pool1</td><td>126 </td><td>Common Reference</td><td>Common Reference</td><td>Center1</td></tr>\n",
       "\t<tr><th scope=row>Reporter.intensity.corrected.2.Pool1</th><td>P_1.RIC_2</td><td>Pool1</td><td>127N</td><td>heathy1         </td><td>heathy          </td><td>Center1</td></tr>\n",
       "\t<tr><th scope=row>Reporter.intensity.corrected.3.Pool1</th><td>P_1.RIC_3</td><td>Pool1</td><td>127C</td><td>FSGS1           </td><td>FSGS            </td><td>Center1</td></tr>\n",
       "</tbody>\n",
       "</table>\n"
      ],
      "text/latex": [
       "A data.frame: 3 × 6\n",
       "\\begin{tabular}{r|llllll}\n",
       "  & Quantitative.column.name & Pool & Reporter.ion & Patient & Group & Center\\\\\n",
       "  & <chr> & <chr> & <chr> & <chr> & <chr> & <chr>\\\\\n",
       "\\hline\n",
       "\tReporter.intensity.corrected.1.Pool1 & P\\_1.RIC\\_1 & Pool1 & 126  & Common Reference & Common Reference & Center1\\\\\n",
       "\tReporter.intensity.corrected.2.Pool1 & P\\_1.RIC\\_2 & Pool1 & 127N & heathy1          & heathy           & Center1\\\\\n",
       "\tReporter.intensity.corrected.3.Pool1 & P\\_1.RIC\\_3 & Pool1 & 127C & FSGS1            & FSGS             & Center1\\\\\n",
       "\\end{tabular}\n"
      ],
      "text/markdown": [
       "\n",
       "A data.frame: 3 × 6\n",
       "\n",
       "| <!--/--> | Quantitative.column.name &lt;chr&gt; | Pool &lt;chr&gt; | Reporter.ion &lt;chr&gt; | Patient &lt;chr&gt; | Group &lt;chr&gt; | Center &lt;chr&gt; |\n",
       "|---|---|---|---|---|---|---|\n",
       "| Reporter.intensity.corrected.1.Pool1 | P_1.RIC_1 | Pool1 | 126  | Common Reference | Common Reference | Center1 |\n",
       "| Reporter.intensity.corrected.2.Pool1 | P_1.RIC_2 | Pool1 | 127N | heathy1          | heathy           | Center1 |\n",
       "| Reporter.intensity.corrected.3.Pool1 | P_1.RIC_3 | Pool1 | 127C | FSGS1            | FSGS             | Center1 |\n",
       "\n"
      ],
      "text/plain": [
       "                                     Quantitative.column.name Pool \n",
       "Reporter.intensity.corrected.1.Pool1 P_1.RIC_1                Pool1\n",
       "Reporter.intensity.corrected.2.Pool1 P_1.RIC_2                Pool1\n",
       "Reporter.intensity.corrected.3.Pool1 P_1.RIC_3                Pool1\n",
       "                                     Reporter.ion Patient         \n",
       "Reporter.intensity.corrected.1.Pool1 126          Common Reference\n",
       "Reporter.intensity.corrected.2.Pool1 127N         heathy1         \n",
       "Reporter.intensity.corrected.3.Pool1 127C         FSGS1           \n",
       "                                     Group            Center \n",
       "Reporter.intensity.corrected.1.Pool1 Common Reference Center1\n",
       "Reporter.intensity.corrected.2.Pool1 heathy           Center1\n",
       "Reporter.intensity.corrected.3.Pool1 FSGS             Center1"
      ]
     },
     "metadata": {},
     "output_type": "display_data"
    },
    {
     "data": {
      "text/html": [
       "<style>\n",
       ".list-inline {list-style: none; margin:0; padding: 0}\n",
       ".list-inline>li {display: inline-block}\n",
       ".list-inline>li:not(:last-child)::after {content: \"\\00b7\"; padding: 0 .5ex}\n",
       "</style>\n",
       "<ol class=list-inline><li>65</li><li>6</li></ol>\n"
      ],
      "text/latex": [
       "\\begin{enumerate*}\n",
       "\\item 65\n",
       "\\item 6\n",
       "\\end{enumerate*}\n"
      ],
      "text/markdown": [
       "1. 65\n",
       "2. 6\n",
       "\n",
       "\n"
      ],
      "text/plain": [
       "[1] 65  6"
      ]
     },
     "metadata": {},
     "output_type": "display_data"
    }
   ],
   "source": [
    "metadata <- read.table(\"/home/yuliya/repos/cosybio/FedProt/data/TMT_data/raw_MaxQuant_reports/Metadata_CosyBio.tsv\",\n",
    "                       header = TRUE, sep = \"\\t\", stringsAsFactors = FALSE)\n",
    "                       \n",
    "metadata <- metadata %>%\n",
    "            mutate(Quantitative.column.name = gsub(\" \", \".\", Quantitative.column.name))\n",
    "\n",
    "rownames(metadata) <- metadata$Quantitative.column.name\n",
    "metadata <- metadata %>%\n",
    "            mutate(Quantitative.column.name = gsub(\".Pool\", \".P_\", gsub(\"Reporter.intensity.corrected.\", \"RIC_\", Quantitative.column.name)))\n",
    "\n",
    "\n",
    "# remove the outlier\n",
    "metadata <- metadata %>%\n",
    "            filter(Quantitative.column.name != \"RIC_3.P_3\")\n",
    "\n",
    "\n",
    "# rename the columns - put the .P_[1-9]+ after dot before and the rest after (e.g. RIC_1.P_1 -> P_1.RIC_1)\n",
    "metadata <- metadata %>%\n",
    "            mutate(Quantitative.column.name = gsub(\"RIC_([0-9]+).P_([0-9]+)\", \"P_\\\\2.RIC_\\\\1\", Quantitative.column.name))\n",
    "\n",
    "\n",
    "head(metadata, 3)\n",
    "dim(metadata)"
   ]
  },
  {
   "cell_type": "code",
   "execution_count": 4,
   "metadata": {
    "vscode": {
     "languageId": "r"
    }
   },
   "outputs": [],
   "source": [
    "pgnames_mxout <- function(path, center_metadata){\n",
    "    PG_report <- read.table(\n",
    "        path,\n",
    "        header=T,\n",
    "        sep=\"\\t\",\n",
    "        stringsAsFactors = F)\n",
    "    \n",
    "    # remove decoy matches and matches to contaminant\n",
    "    PG_report <- PG_report[!PG_report$Reverse==\"+\",]\n",
    "    PG_report <- PG_report[!PG_report$Potential.contaminant==\"+\",]\n",
    "    # if the PG_report$Only.identified.by.site is not all NA and contains \"+\" values - remove this rows\n",
    "    if(!all(is.na(PG_report$Only.identified.by.site))) {\n",
    "        # # Only.identified.by.site - exclude proteins that were only identified by a modification site\n",
    "        PG_report <- PG_report[!PG_report$Only.identified.by.site==\"+\",]\n",
    "    }\n",
    "\n",
    "    # take only the columns that we need\n",
    "    pg_intensities <- PG_report %>%\n",
    "        select(c(\"Majority.protein.IDs\", \"Fasta.headers\", rownames(center_metadata))) %>%\n",
    "        mutate(Fasta.headers = ifelse(Fasta.headers == \"\", Majority.protein.IDs, Fasta.headers)) %>%\n",
    "        select(-Majority.protein.IDs)\n",
    "\n",
    "    pg_intensities <- pg_intensities[, c(\"Fasta.headers\", rownames(center_metadata))]\n",
    "    colnames(pg_intensities) <- c(\"Fasta.headers\", center_metadata$Quantitative.column.name)\n",
    "\n",
    "    # counts\n",
    "    pg_counts <- PG_report %>%\n",
    "        select(c(\"Majority.protein.IDs\", \"Fasta.headers\", \"Razor...unique.peptides\")) %>%\n",
    "        mutate(Fasta.headers = ifelse(Fasta.headers == \"\", Majority.protein.IDs, Fasta.headers)) %>%\n",
    "        select(-Majority.protein.IDs)\n",
    "\n",
    "    return(list(pg_intensities, pg_counts))    \n",
    "}"
   ]
  },
  {
   "cell_type": "code",
   "execution_count": 5,
   "metadata": {
    "vscode": {
     "languageId": "r"
    }
   },
   "outputs": [
    {
     "data": {
      "text/html": [
       "<style>\n",
       ".list-inline {list-style: none; margin:0; padding: 0}\n",
       ".list-inline>li {display: inline-block}\n",
       ".list-inline>li:not(:last-child)::after {content: \"\\00b7\"; padding: 0 .5ex}\n",
       "</style>\n",
       "<ol class=list-inline><li>'Fasta.headers'</li><li>'P_1.RIC_1'</li><li>'P_1.RIC_2'</li><li>'P_1.RIC_3'</li><li>'P_1.RIC_4'</li><li>'P_1.RIC_5'</li><li>'P_1.RIC_6'</li><li>'P_1.RIC_7'</li><li>'P_1.RIC_8'</li><li>'P_1.RIC_9'</li><li>'P_1.RIC_10'</li><li>'P_1.RIC_11'</li><li>'P_2.RIC_1'</li><li>'P_2.RIC_2'</li><li>'P_2.RIC_3'</li><li>'P_2.RIC_4'</li><li>'P_2.RIC_5'</li><li>'P_2.RIC_6'</li><li>'P_2.RIC_7'</li><li>'P_2.RIC_8'</li><li>'P_2.RIC_9'</li><li>'P_2.RIC_10'</li><li>'P_2.RIC_11'</li></ol>\n"
      ],
      "text/latex": [
       "\\begin{enumerate*}\n",
       "\\item 'Fasta.headers'\n",
       "\\item 'P\\_1.RIC\\_1'\n",
       "\\item 'P\\_1.RIC\\_2'\n",
       "\\item 'P\\_1.RIC\\_3'\n",
       "\\item 'P\\_1.RIC\\_4'\n",
       "\\item 'P\\_1.RIC\\_5'\n",
       "\\item 'P\\_1.RIC\\_6'\n",
       "\\item 'P\\_1.RIC\\_7'\n",
       "\\item 'P\\_1.RIC\\_8'\n",
       "\\item 'P\\_1.RIC\\_9'\n",
       "\\item 'P\\_1.RIC\\_10'\n",
       "\\item 'P\\_1.RIC\\_11'\n",
       "\\item 'P\\_2.RIC\\_1'\n",
       "\\item 'P\\_2.RIC\\_2'\n",
       "\\item 'P\\_2.RIC\\_3'\n",
       "\\item 'P\\_2.RIC\\_4'\n",
       "\\item 'P\\_2.RIC\\_5'\n",
       "\\item 'P\\_2.RIC\\_6'\n",
       "\\item 'P\\_2.RIC\\_7'\n",
       "\\item 'P\\_2.RIC\\_8'\n",
       "\\item 'P\\_2.RIC\\_9'\n",
       "\\item 'P\\_2.RIC\\_10'\n",
       "\\item 'P\\_2.RIC\\_11'\n",
       "\\end{enumerate*}\n"
      ],
      "text/markdown": [
       "1. 'Fasta.headers'\n",
       "2. 'P_1.RIC_1'\n",
       "3. 'P_1.RIC_2'\n",
       "4. 'P_1.RIC_3'\n",
       "5. 'P_1.RIC_4'\n",
       "6. 'P_1.RIC_5'\n",
       "7. 'P_1.RIC_6'\n",
       "8. 'P_1.RIC_7'\n",
       "9. 'P_1.RIC_8'\n",
       "10. 'P_1.RIC_9'\n",
       "11. 'P_1.RIC_10'\n",
       "12. 'P_1.RIC_11'\n",
       "13. 'P_2.RIC_1'\n",
       "14. 'P_2.RIC_2'\n",
       "15. 'P_2.RIC_3'\n",
       "16. 'P_2.RIC_4'\n",
       "17. 'P_2.RIC_5'\n",
       "18. 'P_2.RIC_6'\n",
       "19. 'P_2.RIC_7'\n",
       "20. 'P_2.RIC_8'\n",
       "21. 'P_2.RIC_9'\n",
       "22. 'P_2.RIC_10'\n",
       "23. 'P_2.RIC_11'\n",
       "\n",
       "\n"
      ],
      "text/plain": [
       " [1] \"Fasta.headers\" \"P_1.RIC_1\"     \"P_1.RIC_2\"     \"P_1.RIC_3\"    \n",
       " [5] \"P_1.RIC_4\"     \"P_1.RIC_5\"     \"P_1.RIC_6\"     \"P_1.RIC_7\"    \n",
       " [9] \"P_1.RIC_8\"     \"P_1.RIC_9\"     \"P_1.RIC_10\"    \"P_1.RIC_11\"   \n",
       "[13] \"P_2.RIC_1\"     \"P_2.RIC_2\"     \"P_2.RIC_3\"     \"P_2.RIC_4\"    \n",
       "[17] \"P_2.RIC_5\"     \"P_2.RIC_6\"     \"P_2.RIC_7\"     \"P_2.RIC_8\"    \n",
       "[21] \"P_2.RIC_9\"     \"P_2.RIC_10\"    \"P_2.RIC_11\"   "
      ]
     },
     "metadata": {},
     "output_type": "display_data"
    }
   ],
   "source": [
    "list_of_outputs <- list(\n",
    "    \"Center1\" = \"/home/yuliya/repos/cosybio/FedProt/data/TMT_data/raw_MaxQuant_reports/proteinGroups_center1.txt\",\n",
    "    \"Center2\" = \"/home/yuliya/repos/cosybio/FedProt/data/TMT_data/raw_MaxQuant_reports/proteinGroups_center2.txt\",\n",
    "    \"Center3\" = \"/home/yuliya/repos/cosybio/FedProt/data/TMT_data/raw_MaxQuant_reports/proteinGroups_center3.txt\"\n",
    ")\n",
    "\n",
    "combined_pg_intensities <- list()\n",
    "combined_counts_intensities <- list()\n",
    "\n",
    "for(center in names(list_of_outputs)) {\n",
    "\n",
    "    center_metadata <- metadata %>% filter(Center == center)\n",
    "\n",
    "    center_folder <- ifelse(center == \"Center1\", \"center_one\", ifelse(center == \"Center2\", \"center_two\", \"center_three\"))\n",
    "    results_list <- pgnames_mxout(list_of_outputs[[center]], center_metadata)\n",
    "\n",
    "    pg_intensities <- results_list[[1]]\n",
    "    counts_df <- results_list[[2]]\n",
    "\n",
    "    # add it to the list using the center name as the key\n",
    "    combined_pg_intensities <- c(combined_pg_intensities, list(pg_intensities))\n",
    "    combined_counts_intensities <- c(combined_counts_intensities, list(counts_df))\n",
    "    \n",
    "}\n",
    "# add names to the list\n",
    "names(combined_pg_intensities) <- names(list_of_outputs)\n",
    "names(combined_counts_intensities) <- names(list_of_outputs)\n",
    "# head(combined_pg_intensities)\n",
    "colnames(combined_pg_intensities[[1]])"
   ]
  },
  {
   "cell_type": "markdown",
   "metadata": {},
   "source": [
    "### summarize the rows in case of same names"
   ]
  },
  {
   "cell_type": "code",
   "execution_count": 6,
   "metadata": {
    "vscode": {
     "languageId": "r"
    }
   },
   "outputs": [],
   "source": [
    "combined_pg_intensities_filteres <- combined_pg_intensities\n",
    "\n",
    "for(center in names(list_of_outputs)) {\n",
    "\n",
    "    # transform Fasta.headers into unique collapsed list\n",
    "    pg <- combined_pg_intensities[[center]]\n",
    "    pg$Fasta.headers <-sapply(pg$Fasta.headers, function(x) unique(unlist(strsplit(x, \";\"))))\n",
    "    pg$Fasta.headers <- sapply(pg$Fasta.headers, function(x) x[x != \"\"])\n",
    "    pg$Fasta.headers <- pg$Fasta.headers %>%\n",
    "        sapply(function(x) paste(x, collapse = \";\")) %>% as.character()\n",
    "\n",
    "\n",
    "    # summ rows with the same Fasta.headers\n",
    "    pg <- pg %>%\n",
    "        group_by(Fasta.headers) %>%\n",
    "        summarise(across(everything(), sum), .groups = \"drop\")\n",
    "    \n",
    "    combined_pg_intensities_filteres[[center]] <- pg\n",
    "\n",
    "}\n",
    "\n",
    "\n",
    "# same for counts\n",
    "\n",
    "combined_counts_intensities_filteres <- combined_counts_intensities\n",
    "\n",
    "for(center in names(list_of_outputs)) {\n",
    "\n",
    "    # transform Fasta.headers into unique collapsed list\n",
    "    pg <- combined_counts_intensities[[center]]\n",
    "    pg$Fasta.headers <-sapply(pg$Fasta.headers, function(x) unique(unlist(strsplit(x, \";\"))))\n",
    "    pg$Fasta.headers <- sapply(pg$Fasta.headers, function(x) x[x != \"\"])\n",
    "    pg$Fasta.headers <- pg$Fasta.headers %>%\n",
    "        sapply(function(x) paste(x, collapse = \";\")) %>% as.character()\n",
    "\n",
    "    \n",
    "    # summ rows with the same Fasta.headers\n",
    "    pg <- pg %>%\n",
    "        group_by(Fasta.headers) %>%\n",
    "        summarise(across(everything(), sum), .groups = \"drop\")\n",
    "\n",
    "    combined_counts_intensities_filteres[[center]] <- pg\n",
    "\n",
    "}"
   ]
  },
  {
   "cell_type": "markdown",
   "metadata": {},
   "source": [
    "### filter out rows if a row contains 0 in any of \"Common reference\" columns"
   ]
  },
  {
   "cell_type": "code",
   "execution_count": 7,
   "metadata": {
    "vscode": {
     "languageId": "r"
    }
   },
   "outputs": [
    {
     "name": "stdout",
     "output_type": "stream",
     "text": [
      "[1] \"Center1\"\n",
      "[1] 472  23\n",
      "[1] 439  23\n",
      "[1] \"Center2\"\n",
      "[1] 500  22\n",
      "[1] 439  22\n",
      "[1] \"Center3\"\n",
      "[1] 431  23\n",
      "[1] 373  23\n"
     ]
    }
   ],
   "source": [
    "# filter out rows if the is 0 in any of \"Common reference\" columns\n",
    "# the colnames for Common reference are in metadata\n",
    "\n",
    "for(center in names(list_of_outputs)) {\n",
    "    print(center)\n",
    "    pg <- combined_pg_intensities_filteres[[center]]\n",
    "    print(dim(pg))\n",
    "    ref_colnames <- metadata %>% filter(Center == center & Patient == \"Common Reference\") %>% \n",
    "        select(Quantitative.column.name) %>% unlist()\n",
    "    pg <- pg %>% filter(!rowSums(.[, ref_colnames] == 0) > 0)\n",
    "    print(dim(pg))\n",
    "    combined_pg_intensities_filteres[[center]] <- pg\n",
    "}\n",
    "\n"
   ]
  },
  {
   "cell_type": "markdown",
   "metadata": {},
   "source": [
    "### join the reports"
   ]
  },
  {
   "cell_type": "code",
   "execution_count": 102,
   "metadata": {
    "vscode": {
     "languageId": "r"
    }
   },
   "outputs": [],
   "source": [
    "\n",
    "# all_pg_intensities <- data.frame()\n",
    "\n",
    "# for(center in names(list_of_outputs)) {\n",
    "#     pg_intensities <- combined_pg_intensities_filteres[[center]]\n",
    "#     if(!(nrow(all_pg_intensities) == 0)) {\n",
    "#         all_pg_intensities <- full_join(all_pg_intensities, pg_intensities, by = c(\"Fasta.headers\"))\n",
    "#     } else {\n",
    "#         all_pg_intensities <- pg_intensities\n",
    "#     }\n",
    "# }\n",
    "\n",
    "# dim(all_pg_intensities)"
   ]
  },
  {
   "cell_type": "code",
   "execution_count": 8,
   "metadata": {
    "vscode": {
     "languageId": "r"
    }
   },
   "outputs": [
    {
     "data": {
      "text/html": [
       "<style>\n",
       ".list-inline {list-style: none; margin:0; padding: 0}\n",
       ".list-inline>li {display: inline-block}\n",
       ".list-inline>li:not(:last-child)::after {content: \"\\00b7\"; padding: 0 .5ex}\n",
       "</style>\n",
       "<ol class=list-inline><li>323</li><li>66</li></ol>\n"
      ],
      "text/latex": [
       "\\begin{enumerate*}\n",
       "\\item 323\n",
       "\\item 66\n",
       "\\end{enumerate*}\n"
      ],
      "text/markdown": [
       "1. 323\n",
       "2. 66\n",
       "\n",
       "\n"
      ],
      "text/plain": [
       "[1] 323  66"
      ]
     },
     "metadata": {},
     "output_type": "display_data"
    }
   ],
   "source": [
    "\n",
    "all_pg_intensities <- data.frame()\n",
    "\n",
    "for(center in names(list_of_outputs)) {\n",
    "    pg_intensities <- combined_pg_intensities_filteres[[center]]\n",
    "    if(!(nrow(all_pg_intensities) == 0)) {\n",
    "        all_pg_intensities <- inner_join(all_pg_intensities, pg_intensities, by = c(\"Fasta.headers\"))\n",
    "    } else {\n",
    "        all_pg_intensities <- pg_intensities\n",
    "    }\n",
    "}\n",
    "\n",
    "dim(all_pg_intensities)"
   ]
  },
  {
   "cell_type": "code",
   "execution_count": 9,
   "metadata": {
    "vscode": {
     "languageId": "r"
    }
   },
   "outputs": [
    {
     "data": {
      "text/html": [
       "<style>\n",
       ".list-inline {list-style: none; margin:0; padding: 0}\n",
       ".list-inline>li {display: inline-block}\n",
       ".list-inline>li:not(:last-child)::after {content: \"\\00b7\"; padding: 0 .5ex}\n",
       "</style>\n",
       "<ol class=list-inline><li>357</li><li>2</li></ol>\n"
      ],
      "text/latex": [
       "\\begin{enumerate*}\n",
       "\\item 357\n",
       "\\item 2\n",
       "\\end{enumerate*}\n"
      ],
      "text/markdown": [
       "1. 357\n",
       "2. 2\n",
       "\n",
       "\n"
      ],
      "text/plain": [
       "[1] 357   2"
      ]
     },
     "metadata": {},
     "output_type": "display_data"
    }
   ],
   "source": [
    "\n",
    "all_pg_counts <- data.frame()\n",
    "\n",
    "for(center in names(list_of_outputs)) {\n",
    "    pg_counts <- combined_counts_intensities_filteres[[center]]\n",
    "    if(!(nrow(all_pg_counts) == 0)) {\n",
    "        all_pg_counts <- inner_join(all_pg_counts, pg_counts, by = c(\"Fasta.headers\"))\n",
    "    } else {\n",
    "        all_pg_counts <- pg_counts\n",
    "    }\n",
    "}\n",
    "\n",
    "# for each Fasta.headers take the min value of the counts for each row\n",
    "all_pg_counts <- all_pg_counts %>%\n",
    "  rowwise() %>%\n",
    "  mutate(min_count = min(c_across(starts_with(\"Razor\")), na.rm = TRUE)) %>%\n",
    "  ungroup() %>%\n",
    "  select(Fasta.headers, min_count)\n",
    "\n",
    "dim(all_pg_counts)"
   ]
  }
 ],
 "metadata": {
  "kernelspec": {
   "display_name": "R",
   "language": "R",
   "name": "ir"
  },
  "language_info": {
   "codemirror_mode": "r",
   "file_extension": ".r",
   "mimetype": "text/x-r-source",
   "name": "R",
   "pygments_lexer": "r",
   "version": "4.2.0"
  }
 },
 "nbformat": 4,
 "nbformat_minor": 2
}
