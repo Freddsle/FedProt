{
 "cells": [
  {
   "cell_type": "code",
   "execution_count": null,
   "metadata": {
    "vscode": {
     "languageId": "plaintext"
    }
   },
   "outputs": [],
   "source": [
    "medianNorm <- function(log_intensities){\n",
    "  dt <- data.table::as.data.table(log_intensities)\n",
    "  # find median of each sample\n",
    "  sample_med <- apply(dt, 2, stats::median, na.rm=TRUE) # columns\n",
    "  # find mean of medians\n",
    "  mean_med <- mean(sample_med, na.rm=TRUE)\n",
    "  # divide data by median\n",
    "  norm_dt <- t(t(dt)/sample_med)\n",
    "  # multiply data by mean of medians\n",
    "  norm_dt <- norm_dt * mean_med\n",
    "  norm_dt <- data.table::as.data.table(norm_dt)\n",
    "  colnames(norm_dt) <- colnames(dt)\n",
    "  rownames(norm_dt) <- rownames(dt)\n",
    "  return(as.data.frame(norm_dt))\n",
    "}"
   ]
  },
  {
   "cell_type": "code",
   "execution_count": null,
   "metadata": {
    "vscode": {
     "languageId": "plaintext"
    }
   },
   "outputs": [],
   "source": [
    "library(data.table) # For data manipulation\n",
    "library(dplyr) # For data manipulation\n",
    "\n",
    "irsNormDF <- function(df_data, df_metadata){\n",
    "  # Convert input data frames to data.tables for efficiency\n",
    "  dt <- data.table(df_data)\n",
    "  md <- data.table(df_metadata)\n",
    "  \n",
    "  # Extract unique pools (batches) and references\n",
    "  pools <- unique(md$Pool)\n",
    "  refs <- md[Group == \"Common Reference\", Quantitative.column.name]\n",
    "  \n",
    "  refs_md <- md[md$Quantitative.column.name %in% refs,]\n",
    "\n",
    "  # Prepare list to hold data separated by pool\n",
    "  dt_list <- lapply(pools, function(pool) {\n",
    "    pool_samples <- md[Pool == pool, Quantitative.column.name]\n",
    "    dt_chunk <- dt[, ..pool_samples]\n",
    "    return(dt_chunk)\n",
    "  })\n",
    "  names(dt_list) <- pools\n",
    "  \n",
    "  # Prepare IRS data\n",
    "  if (length(refs) == 0){\n",
    "    stop(\"No reference samples specified\")\n",
    "  } else {\n",
    "    irs <- dt[, ..refs]\n",
    "    # Update column names to match pool names based on reference samples\n",
    "    colnames(irs) <- md[Quantitative.column.name %in% refs, Pool]\n",
    "  }\n",
    "\n",
    "  irs <- tibble::as_tibble(irs)\n",
    "  # Compute geometric average intensity for each protein\n",
    "  irs$average <- apply(irs, 1, function(x) exp(mean(log(x), na.rm = TRUE)))\n",
    "  \n",
    "  # Normalize data by pool\n",
    "  dt_irs_list <- lapply(names(dt_list), function(pool) {\n",
    "    fac <- irs$average / irs[, pool]\n",
    "    dt_irs_chunk <- tibble::as_tibble(dt_list[[pool]]) * fac[,1]\n",
    "    return(dt_irs_chunk)\n",
    "  })\n",
    "  \n",
    "  # Reconstruct data after IRS normalization\n",
    "  dt_irs <- do.call(cbind, dt_irs_list)\n",
    "  colnames(dt_irs) <- unlist(lapply(dt_list, colnames))\n",
    "  \n",
    "  return(as.data.frame(dt_irs))\n",
    "}"
   ]
  },
  {
   "cell_type": "code",
   "execution_count": null,
   "metadata": {
    "vscode": {
     "languageId": "plaintext"
    }
   },
   "outputs": [],
   "source": []
  },
  {
   "cell_type": "code",
   "execution_count": null,
   "metadata": {
    "vscode": {
     "languageId": "plaintext"
    }
   },
   "outputs": [],
   "source": []
  }
 ],
 "metadata": {
  "language_info": {
   "name": "python"
  }
 },
 "nbformat": 4,
 "nbformat_minor": 2
}
