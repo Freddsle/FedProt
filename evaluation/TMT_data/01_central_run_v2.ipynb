{
 "cells": [
  {
   "cell_type": "code",
   "execution_count": 300,
   "metadata": {
    "vscode": {
     "languageId": "r"
    }
   },
   "outputs": [],
   "source": [
    "library(tidyverse)\n",
    "library(cowplot)"
   ]
  },
  {
   "cell_type": "markdown",
   "metadata": {},
   "source": [
    "# NORM methods contains bugs!"
   ]
  },
  {
   "cell_type": "markdown",
   "metadata": {},
   "source": [
    "# Load and Filter"
   ]
  },
  {
   "cell_type": "code",
   "execution_count": 301,
   "metadata": {
    "vscode": {
     "languageId": "r"
    }
   },
   "outputs": [
    {
     "data": {
      "text/html": [
       "<table class=\"dataframe\">\n",
       "<caption>A data.frame: 3 × 6</caption>\n",
       "<thead>\n",
       "\t<tr><th></th><th scope=col>Quantitative.column.name</th><th scope=col>Pool</th><th scope=col>Reporter.ion</th><th scope=col>Patient</th><th scope=col>Group</th><th scope=col>Center</th></tr>\n",
       "\t<tr><th></th><th scope=col>&lt;chr&gt;</th><th scope=col>&lt;chr&gt;</th><th scope=col>&lt;chr&gt;</th><th scope=col>&lt;chr&gt;</th><th scope=col>&lt;chr&gt;</th><th scope=col>&lt;chr&gt;</th></tr>\n",
       "</thead>\n",
       "<tbody>\n",
       "\t<tr><th scope=row>Reporter.intensity.corrected.1.Pool3</th><td>P_3.RIC_1</td><td>Pool3</td><td>126 </td><td>Common Reference</td><td>Common Reference</td><td>Center2</td></tr>\n",
       "\t<tr><th scope=row>Reporter.intensity.corrected.2.Pool3</th><td>P_3.RIC_2</td><td>Pool3</td><td>127N</td><td>heathy11        </td><td>heathy          </td><td>Center2</td></tr>\n",
       "\t<tr><th scope=row>Reporter.intensity.corrected.4.Pool3</th><td>P_3.RIC_4</td><td>Pool3</td><td>128N</td><td>heathy12        </td><td>heathy          </td><td>Center2</td></tr>\n",
       "</tbody>\n",
       "</table>\n"
      ],
      "text/latex": [
       "A data.frame: 3 × 6\n",
       "\\begin{tabular}{r|llllll}\n",
       "  & Quantitative.column.name & Pool & Reporter.ion & Patient & Group & Center\\\\\n",
       "  & <chr> & <chr> & <chr> & <chr> & <chr> & <chr>\\\\\n",
       "\\hline\n",
       "\tReporter.intensity.corrected.1.Pool3 & P\\_3.RIC\\_1 & Pool3 & 126  & Common Reference & Common Reference & Center2\\\\\n",
       "\tReporter.intensity.corrected.2.Pool3 & P\\_3.RIC\\_2 & Pool3 & 127N & heathy11         & heathy           & Center2\\\\\n",
       "\tReporter.intensity.corrected.4.Pool3 & P\\_3.RIC\\_4 & Pool3 & 128N & heathy12         & heathy           & Center2\\\\\n",
       "\\end{tabular}\n"
      ],
      "text/markdown": [
       "\n",
       "A data.frame: 3 × 6\n",
       "\n",
       "| <!--/--> | Quantitative.column.name &lt;chr&gt; | Pool &lt;chr&gt; | Reporter.ion &lt;chr&gt; | Patient &lt;chr&gt; | Group &lt;chr&gt; | Center &lt;chr&gt; |\n",
       "|---|---|---|---|---|---|---|\n",
       "| Reporter.intensity.corrected.1.Pool3 | P_3.RIC_1 | Pool3 | 126  | Common Reference | Common Reference | Center2 |\n",
       "| Reporter.intensity.corrected.2.Pool3 | P_3.RIC_2 | Pool3 | 127N | heathy11         | heathy           | Center2 |\n",
       "| Reporter.intensity.corrected.4.Pool3 | P_3.RIC_4 | Pool3 | 128N | heathy12         | heathy           | Center2 |\n",
       "\n"
      ],
      "text/plain": [
       "                                     Quantitative.column.name Pool \n",
       "Reporter.intensity.corrected.1.Pool3 P_3.RIC_1                Pool3\n",
       "Reporter.intensity.corrected.2.Pool3 P_3.RIC_2                Pool3\n",
       "Reporter.intensity.corrected.4.Pool3 P_3.RIC_4                Pool3\n",
       "                                     Reporter.ion Patient         \n",
       "Reporter.intensity.corrected.1.Pool3 126          Common Reference\n",
       "Reporter.intensity.corrected.2.Pool3 127N         heathy11        \n",
       "Reporter.intensity.corrected.4.Pool3 128N         heathy12        \n",
       "                                     Group            Center \n",
       "Reporter.intensity.corrected.1.Pool3 Common Reference Center2\n",
       "Reporter.intensity.corrected.2.Pool3 heathy           Center2\n",
       "Reporter.intensity.corrected.4.Pool3 heathy           Center2"
      ]
     },
     "metadata": {},
     "output_type": "display_data"
    },
    {
     "data": {
      "text/html": [
       "<style>\n",
       ".list-inline {list-style: none; margin:0; padding: 0}\n",
       ".list-inline>li {display: inline-block}\n",
       ".list-inline>li:not(:last-child)::after {content: \"\\00b7\"; padding: 0 .5ex}\n",
       "</style>\n",
       "<ol class=list-inline><li>21</li><li>6</li></ol>\n"
      ],
      "text/latex": [
       "\\begin{enumerate*}\n",
       "\\item 21\n",
       "\\item 6\n",
       "\\end{enumerate*}\n"
      ],
      "text/markdown": [
       "1. 21\n",
       "2. 6\n",
       "\n",
       "\n"
      ],
      "text/plain": [
       "[1] 21  6"
      ]
     },
     "metadata": {},
     "output_type": "display_data"
    }
   ],
   "source": [
    "metadata <- read.table(\"/home/yuliya/repos/cosybio/FedProt/data/TMT_data/raw_MaxQuant_reports/Metadata_CosyBio.tsv\",\n",
    "                       header = TRUE, sep = \"\\t\", stringsAsFactors = FALSE)\n",
    "                       \n",
    "metadata <- metadata %>%\n",
    "            mutate(Quantitative.column.name = gsub(\" \", \".\", Quantitative.column.name))\n",
    "\n",
    "rownames(metadata) <- metadata$Quantitative.column.name\n",
    "metadata <- metadata %>%\n",
    "            mutate(Quantitative.column.name = gsub(\".Pool\", \".P_\", gsub(\"Reporter.intensity.corrected.\", \"RIC_\", Quantitative.column.name)))\n",
    "\n",
    "\n",
    "# remove the outlier\n",
    "metadata <- metadata %>%\n",
    "            filter(Quantitative.column.name != \"RIC_3.P_3\")\n",
    "\n",
    "\n",
    "# rename the columns - put the .P_[1-9]+ after dot before and the rest after (e.g. RIC_1.P_1 -> P_1.RIC_1)\n",
    "metadata <- metadata %>%\n",
    "            mutate(Quantitative.column.name = gsub(\"RIC_([0-9]+).P_([0-9]+)\", \"P_\\\\2.RIC_\\\\1\", Quantitative.column.name))\n",
    "\n",
    "\n",
    "metadata <- metadata %>%\n",
    "    filter(Center == \"Center2\")\n",
    "\n",
    "\n",
    "head(metadata, 3)\n",
    "dim(metadata)"
   ]
  },
  {
   "cell_type": "code",
   "execution_count": 302,
   "metadata": {
    "vscode": {
     "languageId": "r"
    }
   },
   "outputs": [
    {
     "data": {
      "text/html": [
       "<style>\n",
       ".list-inline {list-style: none; margin:0; padding: 0}\n",
       ".list-inline>li {display: inline-block}\n",
       ".list-inline>li:not(:last-child)::after {content: \"\\00b7\"; padding: 0 .5ex}\n",
       "</style>\n",
       "<ol class=list-inline><li>583</li><li>124</li></ol>\n"
      ],
      "text/latex": [
       "\\begin{enumerate*}\n",
       "\\item 583\n",
       "\\item 124\n",
       "\\end{enumerate*}\n"
      ],
      "text/markdown": [
       "1. 583\n",
       "2. 124\n",
       "\n",
       "\n"
      ],
      "text/plain": [
       "[1] 583 124"
      ]
     },
     "metadata": {},
     "output_type": "display_data"
    }
   ],
   "source": [
    "PG_report <- read.table(\n",
    "    \"/home/yuliya/repos/cosybio/FedProt/data/TMT_data/raw_MaxQuant_reports/proteinGroups_center2.txt\",\n",
    "    header=T,\n",
    "    sep=\"\\t\",\n",
    "    stringsAsFactors = F)\n",
    "\n",
    "dim(PG_report)"
   ]
  },
  {
   "cell_type": "code",
   "execution_count": 303,
   "metadata": {
    "vscode": {
     "languageId": "r"
    }
   },
   "outputs": [
    {
     "data": {
      "text/html": [
       "<style>\n",
       ".list-inline {list-style: none; margin:0; padding: 0}\n",
       ".list-inline>li {display: inline-block}\n",
       ".list-inline>li:not(:last-child)::after {content: \"\\00b7\"; padding: 0 .5ex}\n",
       "</style>\n",
       "<ol class=list-inline><li>530</li><li>124</li></ol>\n"
      ],
      "text/latex": [
       "\\begin{enumerate*}\n",
       "\\item 530\n",
       "\\item 124\n",
       "\\end{enumerate*}\n"
      ],
      "text/markdown": [
       "1. 530\n",
       "2. 124\n",
       "\n",
       "\n"
      ],
      "text/plain": [
       "[1] 530 124"
      ]
     },
     "metadata": {},
     "output_type": "display_data"
    }
   ],
   "source": [
    "# remove decoy matches and matches to contaminant\n",
    "PG_report <- PG_report[!PG_report$Reverse==\"+\",]\n",
    "PG_report <- PG_report[!PG_report$Potential.contaminant==\"+\",]\n",
    "# # Only.identified.by.site - exclude proteins that were only identified by a modification site\n",
    "# PG_report <- PG_report[!PG_report$Only.identified.by.site==\"+\",]\n",
    "\n",
    "\n",
    "dim(PG_report)"
   ]
  },
  {
   "cell_type": "markdown",
   "metadata": {},
   "source": [
    "#### intensities"
   ]
  },
  {
   "cell_type": "code",
   "execution_count": 304,
   "metadata": {
    "vscode": {
     "languageId": "r"
    }
   },
   "outputs": [
    {
     "data": {
      "text/html": [
       "<style>\n",
       ".list-inline {list-style: none; margin:0; padding: 0}\n",
       ".list-inline>li {display: inline-block}\n",
       ".list-inline>li:not(:last-child)::after {content: \"\\00b7\"; padding: 0 .5ex}\n",
       "</style>\n",
       "<ol class=list-inline><li>530</li><li>21</li></ol>\n"
      ],
      "text/latex": [
       "\\begin{enumerate*}\n",
       "\\item 530\n",
       "\\item 21\n",
       "\\end{enumerate*}\n"
      ],
      "text/markdown": [
       "1. 530\n",
       "2. 21\n",
       "\n",
       "\n"
      ],
      "text/plain": [
       "[1] 530  21"
      ]
     },
     "metadata": {},
     "output_type": "display_data"
    },
    {
     "data": {
      "text/html": [
       "<style>\n",
       ".list-inline {list-style: none; margin:0; padding: 0}\n",
       ".list-inline>li {display: inline-block}\n",
       ".list-inline>li:not(:last-child)::after {content: \"\\00b7\"; padding: 0 .5ex}\n",
       "</style>\n",
       "<ol class=list-inline><li>520</li><li>21</li></ol>\n"
      ],
      "text/latex": [
       "\\begin{enumerate*}\n",
       "\\item 520\n",
       "\\item 21\n",
       "\\end{enumerate*}\n"
      ],
      "text/markdown": [
       "1. 520\n",
       "2. 21\n",
       "\n",
       "\n"
      ],
      "text/plain": [
       "[1] 520  21"
      ]
     },
     "metadata": {},
     "output_type": "display_data"
    },
    {
     "data": {
      "text/html": [
       "5.888"
      ],
      "text/latex": [
       "5.888"
      ],
      "text/markdown": [
       "5.888"
      ],
      "text/plain": [
       "[1] 5.888"
      ]
     },
     "metadata": {},
     "output_type": "display_data"
    }
   ],
   "source": [
    "# take only the columns that we need\n",
    "pg_intensities <- PG_report %>%\n",
    "    select(c(\"Protein.IDs\", rownames(metadata))) \n",
    "rownames(pg_intensities) <- pg_intensities$Protein.IDs\n",
    "pg_intensities$Protein.IDs <- NULL\n",
    "\n",
    "colnames(pg_intensities) <- metadata$Quantitative.column.name\n",
    "dim(pg_intensities)\n",
    "\n",
    "\n",
    "# remove rows with all values are zeros\n",
    "pg_intensities <- pg_intensities[!rowSums(pg_intensities) == 0,]\n",
    "dim(pg_intensities)\n",
    "\n",
    "pg_intensities[pg_intensities==0] <- NA\n",
    "# count the % of missing values\n",
    "round(sum(is.na(pg_intensities)) * 100 / (dim(pg_intensities)[1] * dim(pg_intensities)[2]), 3)\n"
   ]
  },
  {
   "cell_type": "code",
   "execution_count": 305,
   "metadata": {
    "vscode": {
     "languageId": "r"
    }
   },
   "outputs": [],
   "source": [
    "# pg_intensities %>% write.table(\"/home/yuliya/repos/cosybio/FedProt/data/TMT_data/balanced_data/pg_intensities_combined.tsv\",\n",
    "#                                sep = \"\\t\", quote = FALSE, row.names = TRUE)\n",
    "\n",
    "# rownames(metadata) <- metadata$Quantitative.column.name\n",
    "# metadata %>% write.table(\"/home/yuliya/repos/cosybio/FedProt/data/TMT_data/balanced_data/metadata_combined.tsv\",\n",
    "#                             sep = \"\\t\", quote = FALSE, row.names = FALSE)\n",
    "    "
   ]
  },
  {
   "cell_type": "code",
   "execution_count": 306,
   "metadata": {
    "vscode": {
     "languageId": "r"
    }
   },
   "outputs": [],
   "source": [
    "pg_intensities %>% write.table(\"/home/yuliya/repos/cosybio/FedProt/data/TMT_data/balanced_data/center_two/pg_intensities.tsv\",\n",
    "                               sep = \"\\t\", quote = FALSE, row.names = TRUE)\n",
    "\n",
    "rownames(metadata) <- metadata$Quantitative.column.name\n",
    "metadata %>% write.table(\"/home/yuliya/repos/cosybio/FedProt/data/TMT_data/balanced_data/center_two/metadata.tsv\",\n",
    "                            sep = \"\\t\", quote = FALSE, row.names = FALSE)\n",
    "    "
   ]
  },
  {
   "cell_type": "markdown",
   "metadata": {},
   "source": [
    "#### counts"
   ]
  },
  {
   "cell_type": "code",
   "execution_count": 307,
   "metadata": {
    "vscode": {
     "languageId": "r"
    }
   },
   "outputs": [
    {
     "data": {
      "text/html": [
       "<style>\n",
       ".list-inline {list-style: none; margin:0; padding: 0}\n",
       ".list-inline>li {display: inline-block}\n",
       ".list-inline>li:not(:last-child)::after {content: \"\\00b7\"; padding: 0 .5ex}\n",
       "</style>\n",
       "<ol class=list-inline><li>530</li><li>1</li></ol>\n"
      ],
      "text/latex": [
       "\\begin{enumerate*}\n",
       "\\item 530\n",
       "\\item 1\n",
       "\\end{enumerate*}\n"
      ],
      "text/markdown": [
       "1. 530\n",
       "2. 1\n",
       "\n",
       "\n"
      ],
      "text/plain": [
       "[1] 530   1"
      ]
     },
     "metadata": {},
     "output_type": "display_data"
    }
   ],
   "source": [
    "pg_counts <- PG_report %>%\n",
    "    select(c(\"Protein.IDs\", \"Razor...unique.peptides\")) \n",
    "rownames(pg_counts) <- pg_counts$Protein.IDs\n",
    "pg_counts$Protein.IDs <- NULL\n",
    "\n",
    "pg_counts <- pg_counts + 1\n",
    "\n",
    "dim(pg_counts)\n",
    "\n",
    "pg_counts %>% write.table(\"/home/yuliya/repos/cosybio/FedProt/data/TMT_data/balanced_data/center_two/pg_counts.tsv\",\n",
    "                               sep = \"\\t\", quote = FALSE, row.names = TRUE)"
   ]
  },
  {
   "cell_type": "markdown",
   "metadata": {},
   "source": [
    "# EDA combined data"
   ]
  },
  {
   "cell_type": "markdown",
   "metadata": {},
   "source": [
    "## plots"
   ]
  },
  {
   "cell_type": "code",
   "execution_count": 308,
   "metadata": {
    "vscode": {
     "languageId": "r"
    }
   },
   "outputs": [],
   "source": [
    "pca_plot <- function(df, batch_info, title, path) {\n",
    "  pca <- prcomp(t(na.omit(df)))\n",
    "  pca_df <- pca$x %>%\n",
    "    as.data.frame() %>%\n",
    "    rownames_to_column(\"Quantitative.column.name\") %>% \n",
    "    left_join(batch_info,  by = \"Quantitative.column.name\") \n",
    "  var_expl <- pca$sdev^2 / sum(pca$sdev^2)\n",
    "  names(var_expl) <- paste0(\"PC\", 1:length(var_expl))\n",
    "\n",
    "  pca_plot <- pca_df %>%\n",
    "    ggplot(aes(PC1, PC2)) +\n",
    "    geom_point(aes(col=Group, shape=Pool), size=3)  +\n",
    "    theme_classic() +\n",
    "    labs(title = title,\n",
    "         x = glue::glue(\"PC1 [{round(var_expl['PC1']*100, 2)}%]\"),\n",
    "         y = glue::glue(\"PC2 [{round(var_expl['PC2']*100, 2)}%]\"))\n",
    "\n",
    "   # Check if \"RIC_3.P_3\" exists in the pca_df dataframe\n",
    "  if(\"RIC_3.P_3\" %in% pca_df$Quantitative.column.name) {\n",
    "    pca_plot <- pca_plot +\n",
    "      geom_text(data = pca_df[pca_df$Quantitative.column.name == \"RIC_3.P_3\", ], aes(label = Quantitative.column.name), \n",
    "                vjust = 1, hjust = 0)\n",
    "  }\n",
    "  ggsave(path, pca_plot, width = 6, height = 6)\n",
    "  return(pca_plot)\n",
    "}\n",
    "\n",
    "\n",
    "# boxplot\n",
    "boxplot_pg <- function(protein_matrix, title, path) {\n",
    "  # Reshape data into long format\n",
    "  long_data <- tidyr::gather(protein_matrix, \n",
    "                             key = \"file\", value = \"Intensity\")\n",
    "  # Log tranformed scale\n",
    "  boxplot <- ggplot(long_data, aes(x = file, y = Intensity)) + \n",
    "    geom_boxplot() +\n",
    "    stat_summary(fun = mean, geom = \"point\", shape = 4, size = 3, color = \"red\") +\n",
    "    theme_bw() +\n",
    "    theme(axis.text.x = element_text(angle = 90, vjust = 0.5, hjust = 1)) +\n",
    "    # adjust fonsize for the x-axis\n",
    "    theme(axis.text.x = element_text(size = 8)) +\n",
    "    labs(title = title) \n",
    "\n",
    "  if(path == \"\") {\n",
    "    return(boxplot)\n",
    "  } else {\n",
    "      ggsave(path, boxplot)\n",
    "      return(boxplot)\n",
    "  }\n",
    "\n",
    "}\n",
    "\n",
    "\n",
    "heatmap_plot <- function(pg_matrix, batch_info, name, plot_name_prefix){\n",
    "    cor_matrix <- cor(na.omit(pg_matrix), use = \"pairwise.complete.obs\")\n",
    "    pheatmap::pheatmap(cor_matrix, \n",
    "                        annotation_col = select(batch_info, c(Group, Center)),\n",
    "                        treeheight_row = 0, treeheight_col = 0, \n",
    "                        main = paste0(name),\n",
    "                        fontsize = 8,\n",
    "                        width = 8, height = 7,\n",
    "                        filename = paste0(plot_name_prefix, \"_heatmap.png\"))\n",
    "}\n",
    "\n"
   ]
  },
  {
   "cell_type": "code",
   "execution_count": 309,
   "metadata": {
    "vscode": {
     "languageId": "r"
    }
   },
   "outputs": [],
   "source": [
    "plot_three_in_one <- function(pg_matrix, metadata, name, plot_name_prefix) {\n",
    "\n",
    "    pca <- pca_plot(pg_matrix, metadata, paste0(name, ' pca'), paste0(plot_name_prefix, '_pca.png'))\n",
    "    box <- boxplot_pg(pg_matrix, paste0(name, ' boxplot'), paste0(plot_name_prefix, '_boxplot.png'))\n",
    "    heatmap_plot(pg_matrix, metadata, name, plot_name_prefix)\n",
    "    \n",
    "    combined_plot <- plot_grid(pca, box, ncol = 1, align = \"v\")\n",
    "\n",
    "    # Save the combined plot\n",
    "    ggsave(paste0(plot_name_prefix, \"_combined_two.png\"), combined_plot, width = 8, height = 11)\n",
    "}"
   ]
  },
  {
   "cell_type": "markdown",
   "metadata": {},
   "source": [
    "## results"
   ]
  },
  {
   "cell_type": "code",
   "execution_count": 310,
   "metadata": {
    "vscode": {
     "languageId": "r"
    }
   },
   "outputs": [],
   "source": [
    "metadata <- metadata %>%\n",
    "    mutate(Group = as.factor(Group), Center = as.factor(Center), Reporter.ion = as.factor(Reporter.ion)) %>%\n",
    "    mutate(Quantitative.column.name = gsub(\" \", \".\", Quantitative.column.name))"
   ]
  },
  {
   "cell_type": "code",
   "execution_count": 311,
   "metadata": {
    "vscode": {
     "languageId": "r"
    }
   },
   "outputs": [
    {
     "name": "stderr",
     "output_type": "stream",
     "text": [
      "\u001b[1m\u001b[22mSaving 6.67 x 6.67 in image\n"
     ]
    },
    {
     "name": "stderr",
     "output_type": "stream",
     "text": [
      "Warning message:\n",
      "“\u001b[1m\u001b[22mRemoved 643 rows containing non-finite values (`stat_boxplot()`).”\n",
      "Warning message:\n",
      "“\u001b[1m\u001b[22mRemoved 643 rows containing non-finite values (`stat_summary()`).”\n",
      "Warning message:\n",
      "“\u001b[1m\u001b[22mRemoved 643 rows containing non-finite values (`stat_boxplot()`).”\n",
      "Warning message:\n",
      "“\u001b[1m\u001b[22mRemoved 643 rows containing non-finite values (`stat_summary()`).”\n",
      "Warning message:\n",
      "“Graphs cannot be vertically aligned unless the axis parameter is set. Placing graphs unaligned.”\n"
     ]
    }
   ],
   "source": [
    "plot_three_in_one(log2(pg_intensities + 1),\n",
    "                  metadata,\n",
    "                  \"TMT-data, C2, raw protein intensities, log2-transformed\",\n",
    "                  \"/home/yuliya/repos/cosybio/FedProt/data/TMT_data/balanced_data/center_two/plots/01_pg_intensities_raw_log\")\n",
    "                  "
   ]
  },
  {
   "cell_type": "code",
   "execution_count": 312,
   "metadata": {
    "vscode": {
     "languageId": "r"
    }
   },
   "outputs": [
    {
     "data": {
      "text/html": [
       "<table class=\"dataframe\">\n",
       "<caption>A data.frame: 6 × 6</caption>\n",
       "<thead>\n",
       "\t<tr><th></th><th scope=col>Quantitative.column.name</th><th scope=col>Pool</th><th scope=col>Reporter.ion</th><th scope=col>Patient</th><th scope=col>Group</th><th scope=col>Center</th></tr>\n",
       "\t<tr><th></th><th scope=col>&lt;chr&gt;</th><th scope=col>&lt;chr&gt;</th><th scope=col>&lt;fct&gt;</th><th scope=col>&lt;chr&gt;</th><th scope=col>&lt;fct&gt;</th><th scope=col>&lt;fct&gt;</th></tr>\n",
       "</thead>\n",
       "<tbody>\n",
       "\t<tr><th scope=row>P_3.RIC_1</th><td>P_3.RIC_1</td><td>Pool3</td><td>126 </td><td>Common Reference</td><td>Common Reference</td><td>Center2</td></tr>\n",
       "\t<tr><th scope=row>P_3.RIC_2</th><td>P_3.RIC_2</td><td>Pool3</td><td>127N</td><td>heathy11        </td><td>heathy          </td><td>Center2</td></tr>\n",
       "\t<tr><th scope=row>P_3.RIC_4</th><td>P_3.RIC_4</td><td>Pool3</td><td>128N</td><td>heathy12        </td><td>heathy          </td><td>Center2</td></tr>\n",
       "\t<tr><th scope=row>P_3.RIC_5</th><td>P_3.RIC_5</td><td>Pool3</td><td>128C</td><td>FSGS12          </td><td>FSGS            </td><td>Center2</td></tr>\n",
       "\t<tr><th scope=row>P_3.RIC_6</th><td>P_3.RIC_6</td><td>Pool3</td><td>129N</td><td>heathy13        </td><td>heathy          </td><td>Center2</td></tr>\n",
       "\t<tr><th scope=row>P_3.RIC_7</th><td>P_3.RIC_7</td><td>Pool3</td><td>129C</td><td>FSGS13          </td><td>FSGS            </td><td>Center2</td></tr>\n",
       "</tbody>\n",
       "</table>\n"
      ],
      "text/latex": [
       "A data.frame: 6 × 6\n",
       "\\begin{tabular}{r|llllll}\n",
       "  & Quantitative.column.name & Pool & Reporter.ion & Patient & Group & Center\\\\\n",
       "  & <chr> & <chr> & <fct> & <chr> & <fct> & <fct>\\\\\n",
       "\\hline\n",
       "\tP\\_3.RIC\\_1 & P\\_3.RIC\\_1 & Pool3 & 126  & Common Reference & Common Reference & Center2\\\\\n",
       "\tP\\_3.RIC\\_2 & P\\_3.RIC\\_2 & Pool3 & 127N & heathy11         & heathy           & Center2\\\\\n",
       "\tP\\_3.RIC\\_4 & P\\_3.RIC\\_4 & Pool3 & 128N & heathy12         & heathy           & Center2\\\\\n",
       "\tP\\_3.RIC\\_5 & P\\_3.RIC\\_5 & Pool3 & 128C & FSGS12           & FSGS             & Center2\\\\\n",
       "\tP\\_3.RIC\\_6 & P\\_3.RIC\\_6 & Pool3 & 129N & heathy13         & heathy           & Center2\\\\\n",
       "\tP\\_3.RIC\\_7 & P\\_3.RIC\\_7 & Pool3 & 129C & FSGS13           & FSGS             & Center2\\\\\n",
       "\\end{tabular}\n"
      ],
      "text/markdown": [
       "\n",
       "A data.frame: 6 × 6\n",
       "\n",
       "| <!--/--> | Quantitative.column.name &lt;chr&gt; | Pool &lt;chr&gt; | Reporter.ion &lt;fct&gt; | Patient &lt;chr&gt; | Group &lt;fct&gt; | Center &lt;fct&gt; |\n",
       "|---|---|---|---|---|---|---|\n",
       "| P_3.RIC_1 | P_3.RIC_1 | Pool3 | 126  | Common Reference | Common Reference | Center2 |\n",
       "| P_3.RIC_2 | P_3.RIC_2 | Pool3 | 127N | heathy11         | heathy           | Center2 |\n",
       "| P_3.RIC_4 | P_3.RIC_4 | Pool3 | 128N | heathy12         | heathy           | Center2 |\n",
       "| P_3.RIC_5 | P_3.RIC_5 | Pool3 | 128C | FSGS12           | FSGS             | Center2 |\n",
       "| P_3.RIC_6 | P_3.RIC_6 | Pool3 | 129N | heathy13         | heathy           | Center2 |\n",
       "| P_3.RIC_7 | P_3.RIC_7 | Pool3 | 129C | FSGS13           | FSGS             | Center2 |\n",
       "\n"
      ],
      "text/plain": [
       "          Quantitative.column.name Pool  Reporter.ion Patient         \n",
       "P_3.RIC_1 P_3.RIC_1                Pool3 126          Common Reference\n",
       "P_3.RIC_2 P_3.RIC_2                Pool3 127N         heathy11        \n",
       "P_3.RIC_4 P_3.RIC_4                Pool3 128N         heathy12        \n",
       "P_3.RIC_5 P_3.RIC_5                Pool3 128C         FSGS12          \n",
       "P_3.RIC_6 P_3.RIC_6                Pool3 129N         heathy13        \n",
       "P_3.RIC_7 P_3.RIC_7                Pool3 129C         FSGS13          \n",
       "          Group            Center \n",
       "P_3.RIC_1 Common Reference Center2\n",
       "P_3.RIC_2 heathy           Center2\n",
       "P_3.RIC_4 heathy           Center2\n",
       "P_3.RIC_5 FSGS             Center2\n",
       "P_3.RIC_6 heathy           Center2\n",
       "P_3.RIC_7 FSGS             Center2"
      ]
     },
     "metadata": {},
     "output_type": "display_data"
    }
   ],
   "source": [
    "head(metadata)"
   ]
  },
  {
   "cell_type": "code",
   "execution_count": 313,
   "metadata": {
    "vscode": {
     "languageId": "r"
    }
   },
   "outputs": [
    {
     "name": "stderr",
     "output_type": "stream",
     "text": [
      "\u001b[1m\u001b[22m`summarise()` has grouped output by 'Center', 'Pool'. You can override using\n",
      "the `.groups` argument.\n"
     ]
    },
    {
     "name": "stderr",
     "output_type": "stream",
     "text": [
      "\u001b[1m\u001b[22m`summarise()` has grouped output by 'Center'. You can override using the\n",
      "`.groups` argument.\n"
     ]
    },
    {
     "data": {
      "text/html": [
       "<table class=\"dataframe\">\n",
       "<caption>A grouped_df: 2 × 4</caption>\n",
       "<thead>\n",
       "\t<tr><th scope=col>Center</th><th scope=col>Pool</th><th scope=col>mean_sample_sum</th><th scope=col>mean_sample_mean</th></tr>\n",
       "\t<tr><th scope=col>&lt;fct&gt;</th><th scope=col>&lt;chr&gt;</th><th scope=col>&lt;dbl&gt;</th><th scope=col>&lt;dbl&gt;</th></tr>\n",
       "</thead>\n",
       "<tbody>\n",
       "\t<tr><td>Center2</td><td>Pool3</td><td>407628918</td><td>867295.6</td></tr>\n",
       "\t<tr><td>Center2</td><td>Pool5</td><td>384075724</td><td>757545.8</td></tr>\n",
       "</tbody>\n",
       "</table>\n"
      ],
      "text/latex": [
       "A grouped\\_df: 2 × 4\n",
       "\\begin{tabular}{llll}\n",
       " Center & Pool & mean\\_sample\\_sum & mean\\_sample\\_mean\\\\\n",
       " <fct> & <chr> & <dbl> & <dbl>\\\\\n",
       "\\hline\n",
       "\t Center2 & Pool3 & 407628918 & 867295.6\\\\\n",
       "\t Center2 & Pool5 & 384075724 & 757545.8\\\\\n",
       "\\end{tabular}\n"
      ],
      "text/markdown": [
       "\n",
       "A grouped_df: 2 × 4\n",
       "\n",
       "| Center &lt;fct&gt; | Pool &lt;chr&gt; | mean_sample_sum &lt;dbl&gt; | mean_sample_mean &lt;dbl&gt; |\n",
       "|---|---|---|---|\n",
       "| Center2 | Pool3 | 407628918 | 867295.6 |\n",
       "| Center2 | Pool5 | 384075724 | 757545.8 |\n",
       "\n"
      ],
      "text/plain": [
       "  Center  Pool  mean_sample_sum mean_sample_mean\n",
       "1 Center2 Pool3 407628918       867295.6        \n",
       "2 Center2 Pool5 384075724       757545.8        "
      ]
     },
     "metadata": {},
     "output_type": "display_data"
    }
   ],
   "source": [
    "# print(format(round(colSums(pg_intensities, na.rm = TRUE), digits = 0), big.mark = \",\"))\n",
    "\n",
    "# the same using tidyverse and summarize function\n",
    "pg_intensities %>%\n",
    "    # summarize(across(everything(), ~sum(., na.rm = TRUE))) %>%\n",
    "    pivot_longer(cols = everything(), \n",
    "                 names_to = \"Quantitative.column.name\", \n",
    "                 values_to = \"Value\") %>%\n",
    "    na.omit() %>%\n",
    "    left_join(select(metadata, c(Quantitative.column.name, Pool, Center)), by = 'Quantitative.column.name') %>%\n",
    "    group_by(Center, Pool, Quantitative.column.name) %>%\n",
    "    summarize(sum = sum(Value, na.rm = TRUE), mean = mean(Value, na.rm = TRUE)) %>%\n",
    "    group_by(Center, Pool) %>%\n",
    "    summarise(mean_sample_sum = mean(sum), mean_sample_mean = mean(mean))"
   ]
  },
  {
   "cell_type": "markdown",
   "metadata": {},
   "source": [
    "# Normalization\n",
    "### Methods"
   ]
  },
  {
   "cell_type": "code",
   "execution_count": 314,
   "metadata": {
    "vscode": {
     "languageId": "r"
    }
   },
   "outputs": [],
   "source": [
    "iRS_function <- function(df, metadata, sample_column = 'Quantitative.column.name',\n",
    "                         group_column = 'Group', reference_name = 'Common Reference',\n",
    "                         pool_column = 'Pool', batch_column = 'Center') {\n",
    "  \n",
    "  df <- df %>% rownames_to_column(\"Protein.IDs\")\n",
    "  \n",
    "  # Convert to long format while preserving the protein identifier\n",
    "  df_long <- pivot_longer(df, cols = -Protein.IDs, names_to = sample_column, values_to = \"Value\")\n",
    "  \n",
    "  # Merge long format data with metadata\n",
    "  df_long <- left_join(df_long, metadata, by = sample_column)\n",
    "  \n",
    "  # Isolate 'Common Reference' samples and ensure calculations are per protein within each center\n",
    "  common_refs <- df_long %>% \n",
    "    filter(!!sym(group_column) == reference_name) %>%\n",
    "    select(-!!sym(group_column), -!!sym(sample_column))\n",
    "  \n",
    "  # Compute the geometric mean of 'Common Reference' across all plexes for each protein within each center\n",
    "  common_geo_mean <- common_refs %>%\n",
    "    group_by(Protein.IDs, !!sym(batch_column)) %>%\n",
    "    # group_by(Protein.IDs) %>%\n",
    "    summarise(OverallGeoMean = exp(mean(log(Value), na.rm = TRUE)), .groups = 'drop')\n",
    "    # summarise(OverallGeoMean = exp(mean(log(Value))), .groups = 'drop')\n",
    "\n",
    "\n",
    "  # Calculate IRS factors for each 'Common Reference' in each plex, per protein, within each center\n",
    "  irs_factors <- common_refs %>%\n",
    "    left_join(common_geo_mean, by = c(\"Protein.IDs\", batch_column)) %>%\n",
    "    # left_join(common_geo_mean, by = c(\"Protein.IDs\")) %>%\n",
    "    group_by(!!sym(pool_column), Protein.IDs, !!sym(batch_column)) %>%\n",
    "    # group_by(!!sym(pool_column), Protein.IDs) %>%\n",
    "    summarise(IRSFactor = OverallGeoMean / mean(Value), .groups = 'drop')\n",
    "  \n",
    "  # Apply IRS scaling to all samples in each plex, per protein, within each center\n",
    "  df_scaled <- df_long %>%\n",
    "    left_join(irs_factors, by = c(pool_column, \"Protein.IDs\", batch_column)) %>%\n",
    "    # left_join(irs_factors, by = c(pool_column, \"Protein.IDs\")) %>%\n",
    "    mutate(ScaledValue = ifelse(is.na(IRSFactor), Value, Value * IRSFactor))\n",
    "  \n",
    "  # Pivot back to wide format if necessary, with proteins as rows and samples as columns\n",
    "  df_final <- pivot_wider(df_scaled, names_from = sample_column, values_from = ScaledValue, id_cols = \"Protein.IDs\") %>%\n",
    "    column_to_rownames(\"Protein.IDs\")\n",
    "  \n",
    "  return(df_final)\n",
    "}\n",
    "\n",
    "\n",
    "\n",
    "median_noramlization <- function(df, log_normalized = FALSE) {\n",
    "  if(!log_normalized) {\n",
    "    df <- log2(df + 1)\n",
    "  }\n",
    "  medians <- apply(df, 2, median, na.rm = TRUE)\n",
    "  normalized_df <- sweep(df, 2, medians, FUN=\"/\")\n",
    "  mean_of_medians <- mean(medians, na.rm=TRUE)\n",
    "  normalized_df <- as.data.frame(normalized_df * mean_of_medians)\n",
    "\n",
    "  return(normalized_df)\n",
    "}\n",
    "\n",
    "sample_load_norm <- function(data_raw, metadata){\n",
    "\n",
    "  # Ensure column names from data_raw match the Quantitative.column.name names in metadata\n",
    "  data_raw <- data_raw[, metadata$Quantitative.column.name]\n",
    "  \n",
    "  # Initialize an empty list to store split experiments\n",
    "  experiments_raw <- list()\n",
    "  \n",
    "  # Separate data_raw based on Pool information in metadata\n",
    "  unique_pools <- unique(metadata$Pool)\n",
    "  for (i in 1:length(unique_pools)) {\n",
    "    pool_samples <- metadata$Quantitative.column.name[metadata$Pool == unique_pools[i]]\n",
    "    experiments_raw[[i]] <- data_raw[, pool_samples, drop = FALSE]\n",
    "  }\n",
    "  \n",
    "  # Initialize an empty list for storing normalized data\n",
    "  experiments_sl <- list()\n",
    "  \n",
    "  # Calculate the target for normalization\n",
    "  target <- mean(unlist(sapply(experiments_raw, function(exp) colSums(exp, na.rm = TRUE))))\n",
    "  \n",
    "  # Normalize each experiment\n",
    "  for (i in 1:length(experiments_raw)) {\n",
    "    norm_facs <- target / colSums(experiments_raw[[i]], na.rm = TRUE)\n",
    "    experiments_sl[[i]] <- sweep(experiments_raw[[i]], 2, norm_facs, FUN = \"*\")\n",
    "  }\n",
    "  \n",
    "  # Combine normalized data from all experiments\n",
    "  data_sl <- do.call(cbind, experiments_sl)\n",
    "  \n",
    "  return(as.data.frame(data_sl))\n",
    "\n",
    "}"
   ]
  },
  {
   "cell_type": "markdown",
   "metadata": {},
   "source": [
    "### iRS --- > median"
   ]
  },
  {
   "cell_type": "code",
   "execution_count": 315,
   "metadata": {
    "vscode": {
     "languageId": "r"
    }
   },
   "outputs": [
    {
     "data": {
      "text/html": [
       "<style>\n",
       ".list-inline {list-style: none; margin:0; padding: 0}\n",
       ".list-inline>li {display: inline-block}\n",
       ".list-inline>li:not(:last-child)::after {content: \"\\00b7\"; padding: 0 .5ex}\n",
       "</style>\n",
       "<ol class=list-inline><li>520</li><li>21</li></ol>\n"
      ],
      "text/latex": [
       "\\begin{enumerate*}\n",
       "\\item 520\n",
       "\\item 21\n",
       "\\end{enumerate*}\n"
      ],
      "text/markdown": [
       "1. 520\n",
       "2. 21\n",
       "\n",
       "\n"
      ],
      "text/plain": [
       "[1] 520  21"
      ]
     },
     "metadata": {},
     "output_type": "display_data"
    },
    {
     "data": {
      "text/html": [
       "5.888"
      ],
      "text/latex": [
       "5.888"
      ],
      "text/markdown": [
       "5.888"
      ],
      "text/plain": [
       "[1] 5.888"
      ]
     },
     "metadata": {},
     "output_type": "display_data"
    },
    {
     "name": "stderr",
     "output_type": "stream",
     "text": [
      "\u001b[1m\u001b[22mSaving 6.67 x 6.67 in image\n",
      "Warning message:\n",
      "“\u001b[1m\u001b[22mRemoved 643 rows containing non-finite values (`stat_boxplot()`).”\n",
      "Warning message:\n",
      "“\u001b[1m\u001b[22mRemoved 643 rows containing non-finite values (`stat_summary()`).”\n",
      "Warning message:\n",
      "“\u001b[1m\u001b[22mRemoved 643 rows containing non-finite values (`stat_boxplot()`).”\n",
      "Warning message:\n",
      "“\u001b[1m\u001b[22mRemoved 643 rows containing non-finite values (`stat_summary()`).”\n",
      "Warning message:\n",
      "“Graphs cannot be vertically aligned unless the axis parameter is set. Placing graphs unaligned.”\n"
     ]
    }
   ],
   "source": [
    "intensities_scaled <- iRS_function(pg_intensities, metadata)\n",
    "\n",
    "dim(intensities_scaled)\n",
    "round(sum(is.na(intensities_scaled)) * 100 / (dim(intensities_scaled)[1] * dim(intensities_scaled)[2]), 3)\n",
    "\n",
    "plot_three_in_one(log2(intensities_scaled + 1),\n",
    "                  metadata,\n",
    "                  \"TMT, C2, iRS-scaled protein intensities, log2-transformed\",\n",
    "                  \"/home/yuliya/repos/cosybio/FedProt/data/TMT_data/balanced_data/center_two/plots/02_pg_intensities_scaled_log\")\n",
    "                  "
   ]
  },
  {
   "cell_type": "code",
   "execution_count": 316,
   "metadata": {
    "vscode": {
     "languageId": "r"
    }
   },
   "outputs": [
    {
     "name": "stderr",
     "output_type": "stream",
     "text": [
      "\u001b[1m\u001b[22m`summarise()` has grouped output by 'Center', 'Pool'. You can override using\n",
      "the `.groups` argument.\n"
     ]
    },
    {
     "name": "stderr",
     "output_type": "stream",
     "text": [
      "\u001b[1m\u001b[22m`summarise()` has grouped output by 'Center'. You can override using the\n",
      "`.groups` argument.\n"
     ]
    },
    {
     "data": {
      "text/html": [
       "<table class=\"dataframe\">\n",
       "<caption>A grouped_df: 2 × 4</caption>\n",
       "<thead>\n",
       "\t<tr><th scope=col>Center</th><th scope=col>Pool</th><th scope=col>mean_sample_sum</th><th scope=col>mean_sample_mean</th></tr>\n",
       "\t<tr><th scope=col>&lt;fct&gt;</th><th scope=col>&lt;chr&gt;</th><th scope=col>&lt;dbl&gt;</th><th scope=col>&lt;dbl&gt;</th></tr>\n",
       "</thead>\n",
       "<tbody>\n",
       "\t<tr><td>Center2</td><td>Pool3</td><td>398166621</td><td>847163.0</td></tr>\n",
       "\t<tr><td>Center2</td><td>Pool5</td><td>394001005</td><td>777122.3</td></tr>\n",
       "</tbody>\n",
       "</table>\n"
      ],
      "text/latex": [
       "A grouped\\_df: 2 × 4\n",
       "\\begin{tabular}{llll}\n",
       " Center & Pool & mean\\_sample\\_sum & mean\\_sample\\_mean\\\\\n",
       " <fct> & <chr> & <dbl> & <dbl>\\\\\n",
       "\\hline\n",
       "\t Center2 & Pool3 & 398166621 & 847163.0\\\\\n",
       "\t Center2 & Pool5 & 394001005 & 777122.3\\\\\n",
       "\\end{tabular}\n"
      ],
      "text/markdown": [
       "\n",
       "A grouped_df: 2 × 4\n",
       "\n",
       "| Center &lt;fct&gt; | Pool &lt;chr&gt; | mean_sample_sum &lt;dbl&gt; | mean_sample_mean &lt;dbl&gt; |\n",
       "|---|---|---|---|\n",
       "| Center2 | Pool3 | 398166621 | 847163.0 |\n",
       "| Center2 | Pool5 | 394001005 | 777122.3 |\n",
       "\n"
      ],
      "text/plain": [
       "  Center  Pool  mean_sample_sum mean_sample_mean\n",
       "1 Center2 Pool3 398166621       847163.0        \n",
       "2 Center2 Pool5 394001005       777122.3        "
      ]
     },
     "metadata": {},
     "output_type": "display_data"
    }
   ],
   "source": [
    "intensities_scaled %>%\n",
    "    # summarize(across(everything(), ~sum(., na.rm = TRUE))) %>%\n",
    "    pivot_longer(cols = everything(), \n",
    "                 names_to = \"Quantitative.column.name\", \n",
    "                 values_to = \"Value\") %>%\n",
    "    na.omit() %>%\n",
    "    left_join(select(metadata, c(Quantitative.column.name, Pool, Center)), by = 'Quantitative.column.name') %>%\n",
    "    group_by(Center, Pool, Quantitative.column.name) %>%\n",
    "    summarize(sum = sum(Value, na.rm = TRUE), mean = mean(Value, na.rm = TRUE)) %>%\n",
    "    group_by(Center, Pool) %>%\n",
    "    summarise(mean_sample_sum = mean(sum), mean_sample_mean = mean(mean))"
   ]
  },
  {
   "cell_type": "code",
   "execution_count": 317,
   "metadata": {
    "vscode": {
     "languageId": "r"
    }
   },
   "outputs": [
    {
     "data": {
      "text/html": [
       "<style>\n",
       ".list-inline {list-style: none; margin:0; padding: 0}\n",
       ".list-inline>li {display: inline-block}\n",
       ".list-inline>li:not(:last-child)::after {content: \"\\00b7\"; padding: 0 .5ex}\n",
       "</style>\n",
       "<ol class=list-inline><li>520</li><li>21</li></ol>\n"
      ],
      "text/latex": [
       "\\begin{enumerate*}\n",
       "\\item 520\n",
       "\\item 21\n",
       "\\end{enumerate*}\n"
      ],
      "text/markdown": [
       "1. 520\n",
       "2. 21\n",
       "\n",
       "\n"
      ],
      "text/plain": [
       "[1] 520  21"
      ]
     },
     "metadata": {},
     "output_type": "display_data"
    },
    {
     "data": {
      "text/html": [
       "5.888"
      ],
      "text/latex": [
       "5.888"
      ],
      "text/markdown": [
       "5.888"
      ],
      "text/plain": [
       "[1] 5.888"
      ]
     },
     "metadata": {},
     "output_type": "display_data"
    },
    {
     "name": "stderr",
     "output_type": "stream",
     "text": [
      "\u001b[1m\u001b[22mSaving 6.67 x 6.67 in image\n",
      "Warning message:\n",
      "“\u001b[1m\u001b[22mRemoved 643 rows containing non-finite values (`stat_boxplot()`).”\n",
      "Warning message:\n",
      "“\u001b[1m\u001b[22mRemoved 643 rows containing non-finite values (`stat_summary()`).”\n",
      "Warning message:\n",
      "“\u001b[1m\u001b[22mRemoved 643 rows containing non-finite values (`stat_boxplot()`).”\n",
      "Warning message:\n",
      "“\u001b[1m\u001b[22mRemoved 643 rows containing non-finite values (`stat_summary()`).”\n",
      "Warning message:\n",
      "“Graphs cannot be vertically aligned unless the axis parameter is set. Placing graphs unaligned.”\n"
     ]
    }
   ],
   "source": [
    "intensities_scaled_norm <- median_noramlization(intensities_scaled, log_normalized = FALSE)\n",
    "\n",
    "\n",
    "dim(intensities_scaled_norm)\n",
    "round(sum(is.na(intensities_scaled_norm)) * 100 / (dim(intensities_scaled_norm)[1] * dim(intensities_scaled_norm)[2]), 3)\n",
    "\n",
    "plot_three_in_one(intensities_scaled_norm,\n",
    "                  metadata,\n",
    "                  \"TMT, iRScaled, Median norm intensities, log2-transformed\",\n",
    "                  \"/home/yuliya/repos/cosybio/FedProt/data/TMT_data/balanced_data/center_two/plots/03_pg_intensities_scaled_norm_log\")"
   ]
  },
  {
   "cell_type": "code",
   "execution_count": 318,
   "metadata": {
    "vscode": {
     "languageId": "r"
    }
   },
   "outputs": [
    {
     "name": "stderr",
     "output_type": "stream",
     "text": [
      "\u001b[1m\u001b[22m`summarise()` has grouped output by 'Center', 'Pool'. You can override using\n",
      "the `.groups` argument.\n",
      "\u001b[1m\u001b[22m`summarise()` has grouped output by 'Center'. You can override using the\n",
      "`.groups` argument.\n"
     ]
    },
    {
     "data": {
      "text/html": [
       "<table class=\"dataframe\">\n",
       "<caption>A grouped_df: 2 × 4</caption>\n",
       "<thead>\n",
       "\t<tr><th scope=col>Center</th><th scope=col>Pool</th><th scope=col>mean_sample_sum</th><th scope=col>mean_sample_mean</th></tr>\n",
       "\t<tr><th scope=col>&lt;fct&gt;</th><th scope=col>&lt;chr&gt;</th><th scope=col>&lt;dbl&gt;</th><th scope=col>&lt;dbl&gt;</th></tr>\n",
       "</thead>\n",
       "<tbody>\n",
       "\t<tr><td>Center2</td><td>Pool3</td><td>7916.622</td><td>16.84388</td></tr>\n",
       "\t<tr><td>Center2</td><td>Pool5</td><td>8507.892</td><td>16.78085</td></tr>\n",
       "</tbody>\n",
       "</table>\n"
      ],
      "text/latex": [
       "A grouped\\_df: 2 × 4\n",
       "\\begin{tabular}{llll}\n",
       " Center & Pool & mean\\_sample\\_sum & mean\\_sample\\_mean\\\\\n",
       " <fct> & <chr> & <dbl> & <dbl>\\\\\n",
       "\\hline\n",
       "\t Center2 & Pool3 & 7916.622 & 16.84388\\\\\n",
       "\t Center2 & Pool5 & 8507.892 & 16.78085\\\\\n",
       "\\end{tabular}\n"
      ],
      "text/markdown": [
       "\n",
       "A grouped_df: 2 × 4\n",
       "\n",
       "| Center &lt;fct&gt; | Pool &lt;chr&gt; | mean_sample_sum &lt;dbl&gt; | mean_sample_mean &lt;dbl&gt; |\n",
       "|---|---|---|---|\n",
       "| Center2 | Pool3 | 7916.622 | 16.84388 |\n",
       "| Center2 | Pool5 | 8507.892 | 16.78085 |\n",
       "\n"
      ],
      "text/plain": [
       "  Center  Pool  mean_sample_sum mean_sample_mean\n",
       "1 Center2 Pool3 7916.622        16.84388        \n",
       "2 Center2 Pool5 8507.892        16.78085        "
      ]
     },
     "metadata": {},
     "output_type": "display_data"
    }
   ],
   "source": [
    "intensities_scaled_norm %>%\n",
    "    # summarize(across(everything(), ~sum(., na.rm = TRUE))) %>%\n",
    "    pivot_longer(cols = everything(), \n",
    "                 names_to = \"Quantitative.column.name\", \n",
    "                 values_to = \"Value\") %>%\n",
    "    na.omit() %>%\n",
    "    left_join(select(metadata, c(Quantitative.column.name, Pool, Center)), by = 'Quantitative.column.name') %>%\n",
    "    group_by(Center, Pool, Quantitative.column.name) %>%\n",
    "    summarize(sum = sum(Value, na.rm = TRUE), mean = mean(Value, na.rm = TRUE)) %>%\n",
    "    group_by(Center, Pool) %>%\n",
    "    summarise(mean_sample_sum = mean(sum), mean_sample_mean = mean(mean))"
   ]
  },
  {
   "cell_type": "code",
   "execution_count": 319,
   "metadata": {
    "vscode": {
     "languageId": "r"
    }
   },
   "outputs": [
    {
     "name": "stderr",
     "output_type": "stream",
     "text": [
      "Warning message:\n",
      "“Partial NA coefficients for 63 probe(s)”\n"
     ]
    },
    {
     "data": {
      "text/html": [
       "<style>\n",
       ".list-inline {list-style: none; margin:0; padding: 0}\n",
       ".list-inline>li {display: inline-block}\n",
       ".list-inline>li:not(:last-child)::after {content: \"\\00b7\"; padding: 0 .5ex}\n",
       "</style>\n",
       "<ol class=list-inline><li>520</li><li>21</li></ol>\n"
      ],
      "text/latex": [
       "\\begin{enumerate*}\n",
       "\\item 520\n",
       "\\item 21\n",
       "\\end{enumerate*}\n"
      ],
      "text/markdown": [
       "1. 520\n",
       "2. 21\n",
       "\n",
       "\n"
      ],
      "text/plain": [
       "[1] 520  21"
      ]
     },
     "metadata": {},
     "output_type": "display_data"
    },
    {
     "data": {
      "text/html": [
       "5.888"
      ],
      "text/latex": [
       "5.888"
      ],
      "text/markdown": [
       "5.888"
      ],
      "text/plain": [
       "[1] 5.888"
      ]
     },
     "metadata": {},
     "output_type": "display_data"
    },
    {
     "name": "stderr",
     "output_type": "stream",
     "text": [
      "\u001b[1m\u001b[22mSaving 6.67 x 6.67 in image\n",
      "Warning message:\n",
      "“\u001b[1m\u001b[22mRemoved 643 rows containing non-finite values (`stat_boxplot()`).”\n",
      "Warning message:\n",
      "“\u001b[1m\u001b[22mRemoved 643 rows containing non-finite values (`stat_summary()`).”\n",
      "Warning message:\n",
      "“\u001b[1m\u001b[22mRemoved 643 rows containing non-finite values (`stat_boxplot()`).”\n",
      "Warning message:\n",
      "“\u001b[1m\u001b[22mRemoved 643 rows containing non-finite values (`stat_summary()`).”\n",
      "Warning message:\n",
      "“Graphs cannot be vertically aligned unless the axis parameter is set. Placing graphs unaligned.”\n"
     ]
    }
   ],
   "source": [
    "# bacth effects correction\n",
    "\n",
    "design <- model.matrix(~0 + metadata$Group)\n",
    "corrected_sl_irs <- limma::removeBatchEffect(intensities_scaled_norm, batch = metadata$Pool, design = design)\n",
    "\n",
    "\n",
    "\n",
    "dim(corrected_sl_irs)\n",
    "round(sum(is.na(corrected_sl_irs)) * 100 / (dim(corrected_sl_irs)[1] * dim(corrected_sl_irs)[2]), 3)\n",
    "\n",
    "plot_three_in_one(as.data.frame(corrected_sl_irs),\n",
    "                  metadata,\n",
    "                  \"TMT, C2, iRScaled, Median norm, BEC intensities, log2-transformed\",\n",
    "                  \"/home/yuliya/repos/cosybio/FedProt/data/TMT_data/balanced_data/center_two/plots/04_pg_intensities_scaled_norm_log_BEC\")"
   ]
  },
  {
   "cell_type": "markdown",
   "metadata": {},
   "source": [
    "### SL ---> iRS"
   ]
  },
  {
   "cell_type": "code",
   "execution_count": 320,
   "metadata": {
    "vscode": {
     "languageId": "r"
    }
   },
   "outputs": [
    {
     "data": {
      "text/html": [
       "<style>\n",
       ".list-inline {list-style: none; margin:0; padding: 0}\n",
       ".list-inline>li {display: inline-block}\n",
       ".list-inline>li:not(:last-child)::after {content: \"\\00b7\"; padding: 0 .5ex}\n",
       "</style>\n",
       "<ol class=list-inline><li>520</li><li>21</li></ol>\n"
      ],
      "text/latex": [
       "\\begin{enumerate*}\n",
       "\\item 520\n",
       "\\item 21\n",
       "\\end{enumerate*}\n"
      ],
      "text/markdown": [
       "1. 520\n",
       "2. 21\n",
       "\n",
       "\n"
      ],
      "text/plain": [
       "[1] 520  21"
      ]
     },
     "metadata": {},
     "output_type": "display_data"
    },
    {
     "data": {
      "text/html": [
       "5.888"
      ],
      "text/latex": [
       "5.888"
      ],
      "text/markdown": [
       "5.888"
      ],
      "text/plain": [
       "[1] 5.888"
      ]
     },
     "metadata": {},
     "output_type": "display_data"
    },
    {
     "name": "stderr",
     "output_type": "stream",
     "text": [
      "\u001b[1m\u001b[22mSaving 6.67 x 6.67 in image\n",
      "Warning message:\n",
      "“\u001b[1m\u001b[22mRemoved 643 rows containing non-finite values (`stat_boxplot()`).”\n",
      "Warning message:\n",
      "“\u001b[1m\u001b[22mRemoved 643 rows containing non-finite values (`stat_summary()`).”\n",
      "Warning message:\n",
      "“\u001b[1m\u001b[22mRemoved 643 rows containing non-finite values (`stat_boxplot()`).”\n",
      "Warning message:\n",
      "“\u001b[1m\u001b[22mRemoved 643 rows containing non-finite values (`stat_summary()`).”\n",
      "Warning message:\n",
      "“Graphs cannot be vertically aligned unless the axis parameter is set. Placing graphs unaligned.”\n"
     ]
    }
   ],
   "source": [
    "sl_intesities <- sample_load_norm(pg_intensities, metadata)\n",
    "\n",
    "dim(sl_intesities)\n",
    "round(sum(is.na(sl_intesities)) * 100 / (dim(sl_intesities)[1] * dim(sl_intesities)[2]), 3)\n",
    "\n",
    "plot_three_in_one(log2(sl_intesities + 1),\n",
    "                  metadata,\n",
    "                  \"TMT, C2, SL-scaled protein intensities, log2-transformed\",\n",
    "                  \"/home/yuliya/repos/cosybio/FedProt/data/TMT_data/balanced_data/center_two/plots/02_pg_intensities_SL_log\")\n",
    "                  "
   ]
  },
  {
   "cell_type": "code",
   "execution_count": 321,
   "metadata": {
    "vscode": {
     "languageId": "r"
    }
   },
   "outputs": [
    {
     "name": "stderr",
     "output_type": "stream",
     "text": [
      "\u001b[1m\u001b[22m`summarise()` has grouped output by 'Center', 'Pool'. You can override using\n",
      "the `.groups` argument.\n",
      "\u001b[1m\u001b[22m`summarise()` has grouped output by 'Center'. You can override using the\n",
      "`.groups` argument.\n"
     ]
    },
    {
     "data": {
      "text/html": [
       "<table class=\"dataframe\">\n",
       "<caption>A grouped_df: 2 × 4</caption>\n",
       "<thead>\n",
       "\t<tr><th scope=col>Center</th><th scope=col>Pool</th><th scope=col>mean_sample_sum</th><th scope=col>mean_sample_mean</th></tr>\n",
       "\t<tr><th scope=col>&lt;fct&gt;</th><th scope=col>&lt;chr&gt;</th><th scope=col>&lt;dbl&gt;</th><th scope=col>&lt;dbl&gt;</th></tr>\n",
       "</thead>\n",
       "<tbody>\n",
       "\t<tr><td>Center2</td><td>Pool3</td><td>395291531</td><td>841045.8</td></tr>\n",
       "\t<tr><td>Center2</td><td>Pool5</td><td>395291531</td><td>779667.7</td></tr>\n",
       "</tbody>\n",
       "</table>\n"
      ],
      "text/latex": [
       "A grouped\\_df: 2 × 4\n",
       "\\begin{tabular}{llll}\n",
       " Center & Pool & mean\\_sample\\_sum & mean\\_sample\\_mean\\\\\n",
       " <fct> & <chr> & <dbl> & <dbl>\\\\\n",
       "\\hline\n",
       "\t Center2 & Pool3 & 395291531 & 841045.8\\\\\n",
       "\t Center2 & Pool5 & 395291531 & 779667.7\\\\\n",
       "\\end{tabular}\n"
      ],
      "text/markdown": [
       "\n",
       "A grouped_df: 2 × 4\n",
       "\n",
       "| Center &lt;fct&gt; | Pool &lt;chr&gt; | mean_sample_sum &lt;dbl&gt; | mean_sample_mean &lt;dbl&gt; |\n",
       "|---|---|---|---|\n",
       "| Center2 | Pool3 | 395291531 | 841045.8 |\n",
       "| Center2 | Pool5 | 395291531 | 779667.7 |\n",
       "\n"
      ],
      "text/plain": [
       "  Center  Pool  mean_sample_sum mean_sample_mean\n",
       "1 Center2 Pool3 395291531       841045.8        \n",
       "2 Center2 Pool5 395291531       779667.7        "
      ]
     },
     "metadata": {},
     "output_type": "display_data"
    }
   ],
   "source": [
    "sl_intesities %>%\n",
    "    # summarize(across(everything(), ~sum(., na.rm = TRUE))) %>%\n",
    "    pivot_longer(cols = everything(), \n",
    "                 names_to = \"Quantitative.column.name\", \n",
    "                 values_to = \"Value\") %>%\n",
    "    na.omit() %>%\n",
    "    left_join(select(metadata, c(Quantitative.column.name, Pool, Center)), by = 'Quantitative.column.name') %>%\n",
    "    group_by(Center, Pool, Quantitative.column.name) %>%\n",
    "    summarize(sum = sum(Value, na.rm = TRUE), mean = mean(Value, na.rm = TRUE)) %>%\n",
    "    group_by(Center, Pool) %>%\n",
    "    summarise(mean_sample_sum = mean(sum), mean_sample_mean = mean(mean))"
   ]
  },
  {
   "cell_type": "code",
   "execution_count": 322,
   "metadata": {
    "vscode": {
     "languageId": "r"
    }
   },
   "outputs": [
    {
     "data": {
      "text/html": [
       "<style>\n",
       ".list-inline {list-style: none; margin:0; padding: 0}\n",
       ".list-inline>li {display: inline-block}\n",
       ".list-inline>li:not(:last-child)::after {content: \"\\00b7\"; padding: 0 .5ex}\n",
       "</style>\n",
       "<ol class=list-inline><li>520</li><li>21</li></ol>\n"
      ],
      "text/latex": [
       "\\begin{enumerate*}\n",
       "\\item 520\n",
       "\\item 21\n",
       "\\end{enumerate*}\n"
      ],
      "text/markdown": [
       "1. 520\n",
       "2. 21\n",
       "\n",
       "\n"
      ],
      "text/plain": [
       "[1] 520  21"
      ]
     },
     "metadata": {},
     "output_type": "display_data"
    },
    {
     "data": {
      "text/html": [
       "5.888"
      ],
      "text/latex": [
       "5.888"
      ],
      "text/markdown": [
       "5.888"
      ],
      "text/plain": [
       "[1] 5.888"
      ]
     },
     "metadata": {},
     "output_type": "display_data"
    },
    {
     "name": "stderr",
     "output_type": "stream",
     "text": [
      "\u001b[1m\u001b[22mSaving 6.67 x 6.67 in image\n",
      "Warning message:\n",
      "“\u001b[1m\u001b[22mRemoved 643 rows containing non-finite values (`stat_boxplot()`).”\n",
      "Warning message:\n",
      "“\u001b[1m\u001b[22mRemoved 643 rows containing non-finite values (`stat_summary()`).”\n",
      "Warning message:\n",
      "“\u001b[1m\u001b[22mRemoved 643 rows containing non-finite values (`stat_boxplot()`).”\n",
      "Warning message:\n",
      "“\u001b[1m\u001b[22mRemoved 643 rows containing non-finite values (`stat_summary()`).”\n",
      "Warning message:\n",
      "“Graphs cannot be vertically aligned unless the axis parameter is set. Placing graphs unaligned.”\n"
     ]
    }
   ],
   "source": [
    "intensities_scaled <- iRS_function(sl_intesities, metadata)\n",
    "\n",
    "dim(intensities_scaled)\n",
    "round(sum(is.na(intensities_scaled)) * 100 / (dim(intensities_scaled)[1] * dim(intensities_scaled)[2]), 3)\n",
    "\n",
    "plot_three_in_one(log2(intensities_scaled + 1),\n",
    "                  metadata,\n",
    "                  \"TMT, C2, SL, iRS-scaled protein intensities, log2-transformed\",\n",
    "                  \"/home/yuliya/repos/cosybio/FedProt/data/TMT_data/balanced_data/center_two/plots/03_pg_intensities_SL_iRS_log\")\n",
    "                  "
   ]
  },
  {
   "cell_type": "code",
   "execution_count": 323,
   "metadata": {
    "vscode": {
     "languageId": "r"
    }
   },
   "outputs": [
    {
     "name": "stderr",
     "output_type": "stream",
     "text": [
      "\u001b[1m\u001b[22m`summarise()` has grouped output by 'Center', 'Pool'. You can override using\n",
      "the `.groups` argument.\n"
     ]
    },
    {
     "name": "stderr",
     "output_type": "stream",
     "text": [
      "\u001b[1m\u001b[22m`summarise()` has grouped output by 'Center'. You can override using the\n",
      "`.groups` argument.\n"
     ]
    },
    {
     "data": {
      "text/html": [
       "<table class=\"dataframe\">\n",
       "<caption>A grouped_df: 2 × 4</caption>\n",
       "<thead>\n",
       "\t<tr><th scope=col>Center</th><th scope=col>Pool</th><th scope=col>mean_sample_sum</th><th scope=col>mean_sample_mean</th></tr>\n",
       "\t<tr><th scope=col>&lt;fct&gt;</th><th scope=col>&lt;chr&gt;</th><th scope=col>&lt;dbl&gt;</th><th scope=col>&lt;dbl&gt;</th></tr>\n",
       "</thead>\n",
       "<tbody>\n",
       "\t<tr><td>Center2</td><td>Pool3</td><td>396310495</td><td>843213.8</td></tr>\n",
       "\t<tr><td>Center2</td><td>Pool5</td><td>395246120</td><td>779578.1</td></tr>\n",
       "</tbody>\n",
       "</table>\n"
      ],
      "text/latex": [
       "A grouped\\_df: 2 × 4\n",
       "\\begin{tabular}{llll}\n",
       " Center & Pool & mean\\_sample\\_sum & mean\\_sample\\_mean\\\\\n",
       " <fct> & <chr> & <dbl> & <dbl>\\\\\n",
       "\\hline\n",
       "\t Center2 & Pool3 & 396310495 & 843213.8\\\\\n",
       "\t Center2 & Pool5 & 395246120 & 779578.1\\\\\n",
       "\\end{tabular}\n"
      ],
      "text/markdown": [
       "\n",
       "A grouped_df: 2 × 4\n",
       "\n",
       "| Center &lt;fct&gt; | Pool &lt;chr&gt; | mean_sample_sum &lt;dbl&gt; | mean_sample_mean &lt;dbl&gt; |\n",
       "|---|---|---|---|\n",
       "| Center2 | Pool3 | 396310495 | 843213.8 |\n",
       "| Center2 | Pool5 | 395246120 | 779578.1 |\n",
       "\n"
      ],
      "text/plain": [
       "  Center  Pool  mean_sample_sum mean_sample_mean\n",
       "1 Center2 Pool3 396310495       843213.8        \n",
       "2 Center2 Pool5 395246120       779578.1        "
      ]
     },
     "metadata": {},
     "output_type": "display_data"
    }
   ],
   "source": [
    "intensities_scaled %>%\n",
    "    # summarize(across(everything(), ~sum(., na.rm = TRUE))) %>%\n",
    "    pivot_longer(cols = everything(), \n",
    "                 names_to = \"Quantitative.column.name\", \n",
    "                 values_to = \"Value\") %>%\n",
    "    na.omit() %>%\n",
    "    left_join(select(metadata, c(Quantitative.column.name, Pool, Center)), by = 'Quantitative.column.name') %>%\n",
    "    group_by(Center, Pool, Quantitative.column.name) %>%\n",
    "    summarize(sum = sum(Value, na.rm = TRUE), mean = mean(Value, na.rm = TRUE)) %>%\n",
    "    group_by(Center, Pool) %>%\n",
    "    summarise(mean_sample_sum = mean(sum), mean_sample_mean = mean(mean))"
   ]
  },
  {
   "cell_type": "code",
   "execution_count": 324,
   "metadata": {
    "vscode": {
     "languageId": "r"
    }
   },
   "outputs": [
    {
     "name": "stderr",
     "output_type": "stream",
     "text": [
      "Warning message:\n",
      "“Partial NA coefficients for 63 probe(s)”\n"
     ]
    },
    {
     "data": {
      "text/html": [
       "<style>\n",
       ".list-inline {list-style: none; margin:0; padding: 0}\n",
       ".list-inline>li {display: inline-block}\n",
       ".list-inline>li:not(:last-child)::after {content: \"\\00b7\"; padding: 0 .5ex}\n",
       "</style>\n",
       "<ol class=list-inline><li>520</li><li>21</li></ol>\n"
      ],
      "text/latex": [
       "\\begin{enumerate*}\n",
       "\\item 520\n",
       "\\item 21\n",
       "\\end{enumerate*}\n"
      ],
      "text/markdown": [
       "1. 520\n",
       "2. 21\n",
       "\n",
       "\n"
      ],
      "text/plain": [
       "[1] 520  21"
      ]
     },
     "metadata": {},
     "output_type": "display_data"
    },
    {
     "data": {
      "text/html": [
       "5.888"
      ],
      "text/latex": [
       "5.888"
      ],
      "text/markdown": [
       "5.888"
      ],
      "text/plain": [
       "[1] 5.888"
      ]
     },
     "metadata": {},
     "output_type": "display_data"
    },
    {
     "name": "stderr",
     "output_type": "stream",
     "text": [
      "\u001b[1m\u001b[22mSaving 6.67 x 6.67 in image\n",
      "Warning message:\n",
      "“\u001b[1m\u001b[22mRemoved 643 rows containing non-finite values (`stat_boxplot()`).”\n",
      "Warning message:\n",
      "“\u001b[1m\u001b[22mRemoved 643 rows containing non-finite values (`stat_summary()`).”\n",
      "Warning message:\n",
      "“\u001b[1m\u001b[22mRemoved 643 rows containing non-finite values (`stat_boxplot()`).”\n",
      "Warning message:\n",
      "“\u001b[1m\u001b[22mRemoved 643 rows containing non-finite values (`stat_summary()`).”\n",
      "Warning message:\n",
      "“Graphs cannot be vertically aligned unless the axis parameter is set. Placing graphs unaligned.”\n"
     ]
    }
   ],
   "source": [
    "# bacth effects correction\n",
    "\n",
    "design <- model.matrix(~0 + metadata$Group)\n",
    "corrected_sl_irs <- limma::removeBatchEffect(log2(intensities_scaled + 1), batch = metadata$Pool, design = design)\n",
    "\n",
    "\n",
    "\n",
    "dim(corrected_sl_irs)\n",
    "round(sum(is.na(corrected_sl_irs)) * 100 / (dim(corrected_sl_irs)[1] * dim(corrected_sl_irs)[2]), 3)\n",
    "\n",
    "plot_three_in_one(as.data.frame(corrected_sl_irs),\n",
    "                  metadata,\n",
    "                  \"TMT, C2, SL, iRS-scaled, BEC protein intensities, log2-transformed\",\n",
    "                  \"/home/yuliya/repos/cosybio/FedProt/data/TMT_data/balanced_data/center_two/plots/04_pg_intensities_SL_iRS_log_BEC\")"
   ]
  },
  {
   "cell_type": "code",
   "execution_count": 325,
   "metadata": {
    "vscode": {
     "languageId": "r"
    }
   },
   "outputs": [
    {
     "name": "stderr",
     "output_type": "stream",
     "text": [
      "\u001b[1m\u001b[22m`summarise()` has grouped output by 'Center', 'Pool'. You can override using\n",
      "the `.groups` argument.\n"
     ]
    },
    {
     "name": "stderr",
     "output_type": "stream",
     "text": [
      "\u001b[1m\u001b[22m`summarise()` has grouped output by 'Center'. You can override using the\n",
      "`.groups` argument.\n"
     ]
    },
    {
     "data": {
      "text/html": [
       "<table class=\"dataframe\">\n",
       "<caption>A grouped_df: 2 × 4</caption>\n",
       "<thead>\n",
       "\t<tr><th scope=col>Center</th><th scope=col>Pool</th><th scope=col>mean_sample_sum</th><th scope=col>mean_sample_mean</th></tr>\n",
       "\t<tr><th scope=col>&lt;fct&gt;</th><th scope=col>&lt;chr&gt;</th><th scope=col>&lt;dbl&gt;</th><th scope=col>&lt;dbl&gt;</th></tr>\n",
       "</thead>\n",
       "<tbody>\n",
       "\t<tr><td>Center2</td><td>Pool3</td><td>7957.495</td><td>16.93084</td></tr>\n",
       "\t<tr><td>Center2</td><td>Pool5</td><td>8470.847</td><td>16.70778</td></tr>\n",
       "</tbody>\n",
       "</table>\n"
      ],
      "text/latex": [
       "A grouped\\_df: 2 × 4\n",
       "\\begin{tabular}{llll}\n",
       " Center & Pool & mean\\_sample\\_sum & mean\\_sample\\_mean\\\\\n",
       " <fct> & <chr> & <dbl> & <dbl>\\\\\n",
       "\\hline\n",
       "\t Center2 & Pool3 & 7957.495 & 16.93084\\\\\n",
       "\t Center2 & Pool5 & 8470.847 & 16.70778\\\\\n",
       "\\end{tabular}\n"
      ],
      "text/markdown": [
       "\n",
       "A grouped_df: 2 × 4\n",
       "\n",
       "| Center &lt;fct&gt; | Pool &lt;chr&gt; | mean_sample_sum &lt;dbl&gt; | mean_sample_mean &lt;dbl&gt; |\n",
       "|---|---|---|---|\n",
       "| Center2 | Pool3 | 7957.495 | 16.93084 |\n",
       "| Center2 | Pool5 | 8470.847 | 16.70778 |\n",
       "\n"
      ],
      "text/plain": [
       "  Center  Pool  mean_sample_sum mean_sample_mean\n",
       "1 Center2 Pool3 7957.495        16.93084        \n",
       "2 Center2 Pool5 8470.847        16.70778        "
      ]
     },
     "metadata": {},
     "output_type": "display_data"
    }
   ],
   "source": [
    "corrected_sl_irs %>%\n",
    "    as.data.frame() %>%\n",
    "    # summarize(across(everything(), ~sum(., na.rm = TRUE))) %>%\n",
    "    pivot_longer(cols = everything(), \n",
    "                 names_to = \"Quantitative.column.name\", \n",
    "                 values_to = \"Value\") %>%\n",
    "    na.omit() %>%\n",
    "    left_join(select(metadata, c(Quantitative.column.name, Pool, Center)), by = 'Quantitative.column.name') %>%\n",
    "    group_by(Center, Pool, Quantitative.column.name) %>%\n",
    "    summarize(sum = sum(Value, na.rm = TRUE), mean = mean(Value, na.rm = TRUE)) %>%\n",
    "    group_by(Center, Pool) %>%\n",
    "    summarise(mean_sample_sum = mean(sum), mean_sample_mean = mean(mean))"
   ]
  },
  {
   "cell_type": "code",
   "execution_count": null,
   "metadata": {
    "vscode": {
     "languageId": "r"
    }
   },
   "outputs": [],
   "source": []
  },
  {
   "cell_type": "code",
   "execution_count": null,
   "metadata": {
    "vscode": {
     "languageId": "r"
    }
   },
   "outputs": [],
   "source": []
  },
  {
   "cell_type": "code",
   "execution_count": null,
   "metadata": {
    "vscode": {
     "languageId": "r"
    }
   },
   "outputs": [],
   "source": []
  },
  {
   "cell_type": "code",
   "execution_count": null,
   "metadata": {
    "vscode": {
     "languageId": "r"
    }
   },
   "outputs": [],
   "source": []
  }
 ],
 "metadata": {
  "kernelspec": {
   "display_name": "R",
   "language": "R",
   "name": "ir"
  },
  "language_info": {
   "codemirror_mode": "r",
   "file_extension": ".r",
   "mimetype": "text/x-r-source",
   "name": "R",
   "pygments_lexer": "r",
   "version": "4.2.0"
  }
 },
 "nbformat": 4,
 "nbformat_minor": 2
}
