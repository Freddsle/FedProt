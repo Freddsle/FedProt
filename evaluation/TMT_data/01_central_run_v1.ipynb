{
 "cells": [
  {
   "cell_type": "code",
   "execution_count": 22,
   "metadata": {
    "vscode": {
     "languageId": "r"
    }
   },
   "outputs": [],
   "source": [
    "library(tidyverse)\n",
    "library(cowplot)"
   ]
  },
  {
   "cell_type": "markdown",
   "metadata": {},
   "source": [
    "# NORM methods contains bugs!"
   ]
  },
  {
   "cell_type": "markdown",
   "metadata": {},
   "source": [
    "# Load and Filter"
   ]
  },
  {
   "cell_type": "code",
   "execution_count": 4,
   "metadata": {
    "vscode": {
     "languageId": "r"
    }
   },
   "outputs": [
    {
     "data": {
      "text/html": [
       "<table class=\"dataframe\">\n",
       "<caption>A data.frame: 3 × 6</caption>\n",
       "<thead>\n",
       "\t<tr><th></th><th scope=col>Quantitative.column.name</th><th scope=col>Pool</th><th scope=col>Reporter.ion</th><th scope=col>Patient</th><th scope=col>Group</th><th scope=col>Center</th></tr>\n",
       "\t<tr><th></th><th scope=col>&lt;chr&gt;</th><th scope=col>&lt;chr&gt;</th><th scope=col>&lt;chr&gt;</th><th scope=col>&lt;chr&gt;</th><th scope=col>&lt;chr&gt;</th><th scope=col>&lt;chr&gt;</th></tr>\n",
       "</thead>\n",
       "<tbody>\n",
       "\t<tr><th scope=row>Reporter.intensity.corrected.1.Pool1</th><td>P_1.RIC_1</td><td>Pool1</td><td>126 </td><td>Common Reference</td><td>Common Reference</td><td>Center1</td></tr>\n",
       "\t<tr><th scope=row>Reporter.intensity.corrected.2.Pool1</th><td>P_1.RIC_2</td><td>Pool1</td><td>127N</td><td>heathy1         </td><td>heathy          </td><td>Center1</td></tr>\n",
       "\t<tr><th scope=row>Reporter.intensity.corrected.3.Pool1</th><td>P_1.RIC_3</td><td>Pool1</td><td>127C</td><td>FSGS1           </td><td>FSGS            </td><td>Center1</td></tr>\n",
       "</tbody>\n",
       "</table>\n"
      ],
      "text/latex": [
       "A data.frame: 3 × 6\n",
       "\\begin{tabular}{r|llllll}\n",
       "  & Quantitative.column.name & Pool & Reporter.ion & Patient & Group & Center\\\\\n",
       "  & <chr> & <chr> & <chr> & <chr> & <chr> & <chr>\\\\\n",
       "\\hline\n",
       "\tReporter.intensity.corrected.1.Pool1 & P\\_1.RIC\\_1 & Pool1 & 126  & Common Reference & Common Reference & Center1\\\\\n",
       "\tReporter.intensity.corrected.2.Pool1 & P\\_1.RIC\\_2 & Pool1 & 127N & heathy1          & heathy           & Center1\\\\\n",
       "\tReporter.intensity.corrected.3.Pool1 & P\\_1.RIC\\_3 & Pool1 & 127C & FSGS1            & FSGS             & Center1\\\\\n",
       "\\end{tabular}\n"
      ],
      "text/markdown": [
       "\n",
       "A data.frame: 3 × 6\n",
       "\n",
       "| <!--/--> | Quantitative.column.name &lt;chr&gt; | Pool &lt;chr&gt; | Reporter.ion &lt;chr&gt; | Patient &lt;chr&gt; | Group &lt;chr&gt; | Center &lt;chr&gt; |\n",
       "|---|---|---|---|---|---|---|\n",
       "| Reporter.intensity.corrected.1.Pool1 | P_1.RIC_1 | Pool1 | 126  | Common Reference | Common Reference | Center1 |\n",
       "| Reporter.intensity.corrected.2.Pool1 | P_1.RIC_2 | Pool1 | 127N | heathy1          | heathy           | Center1 |\n",
       "| Reporter.intensity.corrected.3.Pool1 | P_1.RIC_3 | Pool1 | 127C | FSGS1            | FSGS             | Center1 |\n",
       "\n"
      ],
      "text/plain": [
       "                                     Quantitative.column.name Pool \n",
       "Reporter.intensity.corrected.1.Pool1 P_1.RIC_1                Pool1\n",
       "Reporter.intensity.corrected.2.Pool1 P_1.RIC_2                Pool1\n",
       "Reporter.intensity.corrected.3.Pool1 P_1.RIC_3                Pool1\n",
       "                                     Reporter.ion Patient         \n",
       "Reporter.intensity.corrected.1.Pool1 126          Common Reference\n",
       "Reporter.intensity.corrected.2.Pool1 127N         heathy1         \n",
       "Reporter.intensity.corrected.3.Pool1 127C         FSGS1           \n",
       "                                     Group            Center \n",
       "Reporter.intensity.corrected.1.Pool1 Common Reference Center1\n",
       "Reporter.intensity.corrected.2.Pool1 heathy           Center1\n",
       "Reporter.intensity.corrected.3.Pool1 FSGS             Center1"
      ]
     },
     "metadata": {},
     "output_type": "display_data"
    },
    {
     "data": {
      "text/html": [
       "<style>\n",
       ".list-inline {list-style: none; margin:0; padding: 0}\n",
       ".list-inline>li {display: inline-block}\n",
       ".list-inline>li:not(:last-child)::after {content: \"\\00b7\"; padding: 0 .5ex}\n",
       "</style>\n",
       "<ol class=list-inline><li>65</li><li>6</li></ol>\n"
      ],
      "text/latex": [
       "\\begin{enumerate*}\n",
       "\\item 65\n",
       "\\item 6\n",
       "\\end{enumerate*}\n"
      ],
      "text/markdown": [
       "1. 65\n",
       "2. 6\n",
       "\n",
       "\n"
      ],
      "text/plain": [
       "[1] 65  6"
      ]
     },
     "metadata": {},
     "output_type": "display_data"
    }
   ],
   "source": [
    "metadata <- read.table(\"/home/yuliya/repos/cosybio/FedProt/data/TMT_data/raw_MaxQuant_reports/Metadata_CosyBio.tsv\",\n",
    "                       header = TRUE, sep = \"\\t\", stringsAsFactors = FALSE)\n",
    "                       \n",
    "metadata <- metadata %>%\n",
    "            mutate(Quantitative.column.name = gsub(\" \", \".\", Quantitative.column.name))\n",
    "\n",
    "rownames(metadata) <- metadata$Quantitative.column.name\n",
    "metadata <- metadata %>%\n",
    "            mutate(Quantitative.column.name = gsub(\".Pool\", \".P_\", gsub(\"Reporter.intensity.corrected.\", \"RIC_\", Quantitative.column.name)))\n",
    "\n",
    "\n",
    "# remove the outlier\n",
    "metadata <- metadata %>%\n",
    "            filter(Quantitative.column.name != \"RIC_3.P_3\")\n",
    "\n",
    "\n",
    "# rename the columns - put the .P_[1-9]+ after dot before and the rest after (e.g. RIC_1.P_1 -> P_1.RIC_1)\n",
    "metadata <- metadata %>%\n",
    "            mutate(Quantitative.column.name = gsub(\"RIC_([0-9]+).P_([0-9]+)\", \"P_\\\\2.RIC_\\\\1\", Quantitative.column.name))\n",
    "\n",
    "\n",
    "\n",
    "head(metadata, 3)\n",
    "dim(metadata)"
   ]
  },
  {
   "cell_type": "code",
   "execution_count": 5,
   "metadata": {
    "vscode": {
     "languageId": "r"
    }
   },
   "outputs": [
    {
     "data": {
      "text/html": [
       "<style>\n",
       ".list-inline {list-style: none; margin:0; padding: 0}\n",
       ".list-inline>li {display: inline-block}\n",
       ".list-inline>li:not(:last-child)::after {content: \"\\00b7\"; padding: 0 .5ex}\n",
       "</style>\n",
       "<ol class=list-inline><li>768</li><li>288</li></ol>\n"
      ],
      "text/latex": [
       "\\begin{enumerate*}\n",
       "\\item 768\n",
       "\\item 288\n",
       "\\end{enumerate*}\n"
      ],
      "text/markdown": [
       "1. 768\n",
       "2. 288\n",
       "\n",
       "\n"
      ],
      "text/plain": [
       "[1] 768 288"
      ]
     },
     "metadata": {},
     "output_type": "display_data"
    }
   ],
   "source": [
    "PG_report <- read.table(\n",
    "    \"/home/yuliya/repos/cosybio/FedProt/data/TMT_data/raw_MaxQuant_reports/proteinGroups_combined.txt\",\n",
    "    header=T,\n",
    "    sep=\"\\t\",\n",
    "    stringsAsFactors = F)\n",
    "\n",
    "dim(PG_report)"
   ]
  },
  {
   "cell_type": "code",
   "execution_count": 6,
   "metadata": {
    "vscode": {
     "languageId": "r"
    }
   },
   "outputs": [
    {
     "data": {
      "text/html": [
       "<style>\n",
       ".list-inline {list-style: none; margin:0; padding: 0}\n",
       ".list-inline>li {display: inline-block}\n",
       ".list-inline>li:not(:last-child)::after {content: \"\\00b7\"; padding: 0 .5ex}\n",
       "</style>\n",
       "<ol class=list-inline><li>666</li><li>288</li></ol>\n"
      ],
      "text/latex": [
       "\\begin{enumerate*}\n",
       "\\item 666\n",
       "\\item 288\n",
       "\\end{enumerate*}\n"
      ],
      "text/markdown": [
       "1. 666\n",
       "2. 288\n",
       "\n",
       "\n"
      ],
      "text/plain": [
       "[1] 666 288"
      ]
     },
     "metadata": {},
     "output_type": "display_data"
    }
   ],
   "source": [
    "# remove decoy matches and matches to contaminant\n",
    "PG_report <- PG_report[!PG_report$Reverse==\"+\",]\n",
    "PG_report <- PG_report[!PG_report$Potential.contaminant==\"+\",]\n",
    "# # Only.identified.by.site - exclude proteins that were only identified by a modification site\n",
    "PG_report <- PG_report[!PG_report$Only.identified.by.site==\"+\",]\n",
    "\n",
    "\n",
    "dim(PG_report)"
   ]
  },
  {
   "cell_type": "markdown",
   "metadata": {},
   "source": [
    "#### intensities"
   ]
  },
  {
   "cell_type": "code",
   "execution_count": 7,
   "metadata": {
    "vscode": {
     "languageId": "r"
    }
   },
   "outputs": [
    {
     "data": {
      "text/html": [
       "<style>\n",
       ".list-inline {list-style: none; margin:0; padding: 0}\n",
       ".list-inline>li {display: inline-block}\n",
       ".list-inline>li:not(:last-child)::after {content: \"\\00b7\"; padding: 0 .5ex}\n",
       "</style>\n",
       "<ol class=list-inline><li>666</li><li>65</li></ol>\n"
      ],
      "text/latex": [
       "\\begin{enumerate*}\n",
       "\\item 666\n",
       "\\item 65\n",
       "\\end{enumerate*}\n"
      ],
      "text/markdown": [
       "1. 666\n",
       "2. 65\n",
       "\n",
       "\n"
      ],
      "text/plain": [
       "[1] 666  65"
      ]
     },
     "metadata": {},
     "output_type": "display_data"
    },
    {
     "data": {
      "text/html": [
       "<style>\n",
       ".list-inline {list-style: none; margin:0; padding: 0}\n",
       ".list-inline>li {display: inline-block}\n",
       ".list-inline>li:not(:last-child)::after {content: \"\\00b7\"; padding: 0 .5ex}\n",
       "</style>\n",
       "<ol class=list-inline><li>660</li><li>65</li></ol>\n"
      ],
      "text/latex": [
       "\\begin{enumerate*}\n",
       "\\item 660\n",
       "\\item 65\n",
       "\\end{enumerate*}\n"
      ],
      "text/markdown": [
       "1. 660\n",
       "2. 65\n",
       "\n",
       "\n"
      ],
      "text/plain": [
       "[1] 660  65"
      ]
     },
     "metadata": {},
     "output_type": "display_data"
    },
    {
     "data": {
      "text/html": [
       "22.245"
      ],
      "text/latex": [
       "22.245"
      ],
      "text/markdown": [
       "22.245"
      ],
      "text/plain": [
       "[1] 22.245"
      ]
     },
     "metadata": {},
     "output_type": "display_data"
    }
   ],
   "source": [
    "# take only the columns that we need\n",
    "pg_intensities <- PG_report %>%\n",
    "    select(c(\"Protein.IDs\", rownames(metadata))) \n",
    "rownames(pg_intensities) <- pg_intensities$Protein.IDs\n",
    "pg_intensities$Protein.IDs <- NULL\n",
    "\n",
    "colnames(pg_intensities) <- metadata$Quantitative.column.name\n",
    "dim(pg_intensities)\n",
    "\n",
    "\n",
    "# remove rows with all values are zeros\n",
    "pg_intensities <- pg_intensities[!rowSums(pg_intensities) == 0,]\n",
    "dim(pg_intensities)\n",
    "\n",
    "pg_intensities[pg_intensities==0] <- NA\n",
    "# count the % of missing values\n",
    "round(sum(is.na(pg_intensities)) * 100 / (dim(pg_intensities)[1] * dim(pg_intensities)[2]), 3)\n"
   ]
  },
  {
   "cell_type": "code",
   "execution_count": 8,
   "metadata": {
    "vscode": {
     "languageId": "r"
    }
   },
   "outputs": [],
   "source": [
    "pg_intensities %>% write.table(\"/home/yuliya/repos/cosybio/FedProt/data/TMT_data/balanced_data/pg_intensities_combined.tsv\",\n",
    "                               sep = \"\\t\", quote = FALSE, row.names = TRUE)\n",
    "\n",
    "rownames(metadata) <- metadata$Quantitative.column.name\n",
    "metadata %>% write.table(\"/home/yuliya/repos/cosybio/FedProt/data/TMT_data/balanced_data/metadata_combined.tsv\",\n",
    "                            sep = \"\\t\", quote = FALSE, row.names = FALSE)\n",
    "    "
   ]
  },
  {
   "cell_type": "markdown",
   "metadata": {},
   "source": [
    "#### counts"
   ]
  },
  {
   "cell_type": "code",
   "execution_count": 9,
   "metadata": {
    "vscode": {
     "languageId": "r"
    }
   },
   "outputs": [
    {
     "data": {
      "text/html": [
       "<style>\n",
       ".list-inline {list-style: none; margin:0; padding: 0}\n",
       ".list-inline>li {display: inline-block}\n",
       ".list-inline>li:not(:last-child)::after {content: \"\\00b7\"; padding: 0 .5ex}\n",
       "</style>\n",
       "<ol class=list-inline><li>666</li><li>1</li></ol>\n"
      ],
      "text/latex": [
       "\\begin{enumerate*}\n",
       "\\item 666\n",
       "\\item 1\n",
       "\\end{enumerate*}\n"
      ],
      "text/markdown": [
       "1. 666\n",
       "2. 1\n",
       "\n",
       "\n"
      ],
      "text/plain": [
       "[1] 666   1"
      ]
     },
     "metadata": {},
     "output_type": "display_data"
    }
   ],
   "source": [
    "pg_counts <- PG_report %>%\n",
    "    select(c(\"Protein.IDs\", \"Razor...unique.peptides\")) \n",
    "rownames(pg_counts) <- pg_counts$Protein.IDs\n",
    "pg_counts$Protein.IDs <- NULL\n",
    "\n",
    "pg_counts <- pg_counts + 1\n",
    "\n",
    "dim(pg_counts)\n",
    "\n",
    "pg_counts %>% write.table(\"/home/yuliya/repos/cosybio/FedProt/data/TMT_data/balanced_data/pg_counts_combined.tsv\",\n",
    "                               sep = \"\\t\", quote = FALSE, row.names = TRUE)"
   ]
  },
  {
   "cell_type": "markdown",
   "metadata": {},
   "source": [
    "# EDA combined data"
   ]
  },
  {
   "cell_type": "markdown",
   "metadata": {},
   "source": [
    "## plots"
   ]
  },
  {
   "cell_type": "code",
   "execution_count": 10,
   "metadata": {
    "vscode": {
     "languageId": "r"
    }
   },
   "outputs": [],
   "source": [
    "pca_plot <- function(df, batch_info, title, path) {\n",
    "  pca <- prcomp(t(na.omit(df)))\n",
    "  pca_df <- pca$x %>%\n",
    "    as.data.frame() %>%\n",
    "    rownames_to_column(\"Quantitative.column.name\") %>% \n",
    "    left_join(batch_info,  by = \"Quantitative.column.name\") \n",
    "  var_expl <- pca$sdev^2 / sum(pca$sdev^2)\n",
    "  names(var_expl) <- paste0(\"PC\", 1:length(var_expl))\n",
    "\n",
    "  pca_plot <- pca_df %>%\n",
    "    ggplot(aes(PC1, PC2)) +\n",
    "    geom_point(aes(col=Group, shape=Center), size=3)  +\n",
    "    theme_classic() +\n",
    "    labs(title = title,\n",
    "         x = glue::glue(\"PC1 [{round(var_expl['PC1']*100, 2)}%]\"),\n",
    "         y = glue::glue(\"PC2 [{round(var_expl['PC2']*100, 2)}%]\"))\n",
    "\n",
    "   # Check if \"RIC_3.P_3\" exists in the pca_df dataframe\n",
    "  if(\"RIC_3.P_3\" %in% pca_df$Quantitative.column.name) {\n",
    "    pca_plot <- pca_plot +\n",
    "      geom_text(data = pca_df[pca_df$Quantitative.column.name == \"RIC_3.P_3\", ], aes(label = Quantitative.column.name), \n",
    "                vjust = 1, hjust = 0)\n",
    "  }\n",
    "  ggsave(path, pca_plot, width = 5, height = 5)\n",
    "  return(pca_plot)\n",
    "}\n",
    "\n",
    "\n",
    "# boxplot\n",
    "boxplot_pg <- function(protein_matrix, title, path) {\n",
    "  # Reshape data into long format\n",
    "  long_data <- tidyr::gather(protein_matrix, \n",
    "                             key = \"file\", value = \"Intensity\")\n",
    "  # Log tranformed scale\n",
    "  boxplot <- ggplot(long_data, aes(x = file, y = Intensity)) + \n",
    "    geom_boxplot() +\n",
    "    stat_summary(fun = mean, geom = \"point\", shape = 4, size = 3, color = \"red\") +\n",
    "    theme_bw() +\n",
    "    theme(axis.text.x = element_text(angle = 90, vjust = 0.5, hjust = 1)) +\n",
    "    # adjust fonsize for the x-axis\n",
    "    theme(axis.text.x = element_text(size = 8)) +\n",
    "    labs(title = title) \n",
    "\n",
    "  if(path == \"\") {\n",
    "    return(boxplot)\n",
    "  } else {\n",
    "      ggsave(path, boxplot)\n",
    "      return(boxplot)\n",
    "  }\n",
    "\n",
    "}\n",
    "\n",
    "\n",
    "heatmap_plot <- function(pg_matrix, batch_info, name, plot_name_prefix){\n",
    "    cor_matrix <- cor(na.omit(pg_matrix), use = \"pairwise.complete.obs\")\n",
    "    pheatmap::pheatmap(cor_matrix, \n",
    "                        annotation_col = select(batch_info, c(Group, Center)),\n",
    "                        treeheight_row = 0, treeheight_col = 0, \n",
    "                        main = paste0(name),\n",
    "                        fontsize = 8,\n",
    "                        width = 8, height = 7,\n",
    "                        filename = paste0(plot_name_prefix, \"_heatmap.png\"))\n",
    "}\n",
    "\n"
   ]
  },
  {
   "cell_type": "code",
   "execution_count": 11,
   "metadata": {
    "vscode": {
     "languageId": "r"
    }
   },
   "outputs": [],
   "source": [
    "plot_three_in_one <- function(pg_matrix, metadata, name, plot_name_prefix) {\n",
    "\n",
    "    pca <- pca_plot(pg_matrix, metadata, paste0(name, ' pca'), paste0(plot_name_prefix, '_pca.png'))\n",
    "    box <- boxplot_pg(pg_matrix, paste0(name, ' boxplot'), paste0(plot_name_prefix, '_boxplot.png'))\n",
    "    heatmap_plot(pg_matrix, metadata, name, plot_name_prefix)\n",
    "    \n",
    "    combined_plot <- plot_grid(pca, box, ncol = 1, align = \"v\")\n",
    "\n",
    "    # Save the combined plot\n",
    "    ggsave(paste0(plot_name_prefix, \"_combined_two.png\"), combined_plot, width = 8, height = 11)\n",
    "}"
   ]
  },
  {
   "cell_type": "markdown",
   "metadata": {},
   "source": [
    "## results"
   ]
  },
  {
   "cell_type": "code",
   "execution_count": 12,
   "metadata": {
    "vscode": {
     "languageId": "r"
    }
   },
   "outputs": [],
   "source": [
    "metadata <- metadata %>%\n",
    "    mutate(Group = as.factor(Group), Center = as.factor(Center), Reporter.ion = as.factor(Reporter.ion)) %>%\n",
    "    mutate(Quantitative.column.name = gsub(\" \", \".\", Quantitative.column.name))"
   ]
  },
  {
   "cell_type": "code",
   "execution_count": 13,
   "metadata": {
    "vscode": {
     "languageId": "r"
    }
   },
   "outputs": [
    {
     "name": "stderr",
     "output_type": "stream",
     "text": [
      "\u001b[1m\u001b[22mSaving 6.67 x 6.67 in image\n",
      "Warning message:\n",
      "“\u001b[1m\u001b[22mRemoved 9543 rows containing non-finite values (`stat_boxplot()`).”\n",
      "Warning message:\n",
      "“\u001b[1m\u001b[22mRemoved 9543 rows containing non-finite values (`stat_summary()`).”\n",
      "Warning message:\n",
      "“\u001b[1m\u001b[22mRemoved 9543 rows containing non-finite values (`stat_boxplot()`).”\n",
      "Warning message:\n",
      "“\u001b[1m\u001b[22mRemoved 9543 rows containing non-finite values (`stat_summary()`).”\n",
      "Warning message:\n",
      "“Graphs cannot be vertically aligned unless the axis parameter is set. Placing graphs unaligned.”\n"
     ]
    }
   ],
   "source": [
    "plot_three_in_one(log2(pg_intensities + 1),\n",
    "                  metadata,\n",
    "                  \"TMT-data, raw protein intensities, log2-transformed\",\n",
    "                  \"/home/yuliya/repos/cosybio/FedProt/data/TMT_data/balanced_data/combined_plots/01_pg_intensities_raw_log\")\n",
    "                  "
   ]
  },
  {
   "cell_type": "code",
   "execution_count": 14,
   "metadata": {
    "vscode": {
     "languageId": "r"
    }
   },
   "outputs": [
    {
     "data": {
      "text/html": [
       "<table class=\"dataframe\">\n",
       "<caption>A data.frame: 6 × 6</caption>\n",
       "<thead>\n",
       "\t<tr><th></th><th scope=col>Quantitative.column.name</th><th scope=col>Pool</th><th scope=col>Reporter.ion</th><th scope=col>Patient</th><th scope=col>Group</th><th scope=col>Center</th></tr>\n",
       "\t<tr><th></th><th scope=col>&lt;chr&gt;</th><th scope=col>&lt;chr&gt;</th><th scope=col>&lt;fct&gt;</th><th scope=col>&lt;chr&gt;</th><th scope=col>&lt;fct&gt;</th><th scope=col>&lt;fct&gt;</th></tr>\n",
       "</thead>\n",
       "<tbody>\n",
       "\t<tr><th scope=row>P_1.RIC_1</th><td>P_1.RIC_1</td><td>Pool1</td><td>126 </td><td>Common Reference</td><td>Common Reference</td><td>Center1</td></tr>\n",
       "\t<tr><th scope=row>P_1.RIC_2</th><td>P_1.RIC_2</td><td>Pool1</td><td>127N</td><td>heathy1         </td><td>heathy          </td><td>Center1</td></tr>\n",
       "\t<tr><th scope=row>P_1.RIC_3</th><td>P_1.RIC_3</td><td>Pool1</td><td>127C</td><td>FSGS1           </td><td>FSGS            </td><td>Center1</td></tr>\n",
       "\t<tr><th scope=row>P_1.RIC_4</th><td>P_1.RIC_4</td><td>Pool1</td><td>128N</td><td>heathy2         </td><td>heathy          </td><td>Center1</td></tr>\n",
       "\t<tr><th scope=row>P_1.RIC_5</th><td>P_1.RIC_5</td><td>Pool1</td><td>128C</td><td>FSGS2           </td><td>FSGS            </td><td>Center1</td></tr>\n",
       "\t<tr><th scope=row>P_1.RIC_6</th><td>P_1.RIC_6</td><td>Pool1</td><td>129N</td><td>heathy3         </td><td>heathy          </td><td>Center1</td></tr>\n",
       "</tbody>\n",
       "</table>\n"
      ],
      "text/latex": [
       "A data.frame: 6 × 6\n",
       "\\begin{tabular}{r|llllll}\n",
       "  & Quantitative.column.name & Pool & Reporter.ion & Patient & Group & Center\\\\\n",
       "  & <chr> & <chr> & <fct> & <chr> & <fct> & <fct>\\\\\n",
       "\\hline\n",
       "\tP\\_1.RIC\\_1 & P\\_1.RIC\\_1 & Pool1 & 126  & Common Reference & Common Reference & Center1\\\\\n",
       "\tP\\_1.RIC\\_2 & P\\_1.RIC\\_2 & Pool1 & 127N & heathy1          & heathy           & Center1\\\\\n",
       "\tP\\_1.RIC\\_3 & P\\_1.RIC\\_3 & Pool1 & 127C & FSGS1            & FSGS             & Center1\\\\\n",
       "\tP\\_1.RIC\\_4 & P\\_1.RIC\\_4 & Pool1 & 128N & heathy2          & heathy           & Center1\\\\\n",
       "\tP\\_1.RIC\\_5 & P\\_1.RIC\\_5 & Pool1 & 128C & FSGS2            & FSGS             & Center1\\\\\n",
       "\tP\\_1.RIC\\_6 & P\\_1.RIC\\_6 & Pool1 & 129N & heathy3          & heathy           & Center1\\\\\n",
       "\\end{tabular}\n"
      ],
      "text/markdown": [
       "\n",
       "A data.frame: 6 × 6\n",
       "\n",
       "| <!--/--> | Quantitative.column.name &lt;chr&gt; | Pool &lt;chr&gt; | Reporter.ion &lt;fct&gt; | Patient &lt;chr&gt; | Group &lt;fct&gt; | Center &lt;fct&gt; |\n",
       "|---|---|---|---|---|---|---|\n",
       "| P_1.RIC_1 | P_1.RIC_1 | Pool1 | 126  | Common Reference | Common Reference | Center1 |\n",
       "| P_1.RIC_2 | P_1.RIC_2 | Pool1 | 127N | heathy1          | heathy           | Center1 |\n",
       "| P_1.RIC_3 | P_1.RIC_3 | Pool1 | 127C | FSGS1            | FSGS             | Center1 |\n",
       "| P_1.RIC_4 | P_1.RIC_4 | Pool1 | 128N | heathy2          | heathy           | Center1 |\n",
       "| P_1.RIC_5 | P_1.RIC_5 | Pool1 | 128C | FSGS2            | FSGS             | Center1 |\n",
       "| P_1.RIC_6 | P_1.RIC_6 | Pool1 | 129N | heathy3          | heathy           | Center1 |\n",
       "\n"
      ],
      "text/plain": [
       "          Quantitative.column.name Pool  Reporter.ion Patient         \n",
       "P_1.RIC_1 P_1.RIC_1                Pool1 126          Common Reference\n",
       "P_1.RIC_2 P_1.RIC_2                Pool1 127N         heathy1         \n",
       "P_1.RIC_3 P_1.RIC_3                Pool1 127C         FSGS1           \n",
       "P_1.RIC_4 P_1.RIC_4                Pool1 128N         heathy2         \n",
       "P_1.RIC_5 P_1.RIC_5                Pool1 128C         FSGS2           \n",
       "P_1.RIC_6 P_1.RIC_6                Pool1 129N         heathy3         \n",
       "          Group            Center \n",
       "P_1.RIC_1 Common Reference Center1\n",
       "P_1.RIC_2 heathy           Center1\n",
       "P_1.RIC_3 FSGS             Center1\n",
       "P_1.RIC_4 heathy           Center1\n",
       "P_1.RIC_5 FSGS             Center1\n",
       "P_1.RIC_6 heathy           Center1"
      ]
     },
     "metadata": {},
     "output_type": "display_data"
    }
   ],
   "source": [
    "head(metadata)"
   ]
  },
  {
   "cell_type": "code",
   "execution_count": 15,
   "metadata": {
    "vscode": {
     "languageId": "r"
    }
   },
   "outputs": [
    {
     "name": "stderr",
     "output_type": "stream",
     "text": [
      "\u001b[1m\u001b[22m`summarise()` has grouped output by 'Center', 'Pool'. You can override using\n",
      "the `.groups` argument.\n",
      "\u001b[1m\u001b[22m`summarise()` has grouped output by 'Center'. You can override using the\n",
      "`.groups` argument.\n"
     ]
    },
    {
     "data": {
      "text/html": [
       "<table class=\"dataframe\">\n",
       "<caption>A grouped_df: 6 × 4</caption>\n",
       "<thead>\n",
       "\t<tr><th scope=col>Center</th><th scope=col>Pool</th><th scope=col>mean_sample_sum</th><th scope=col>mean_sample_mean</th></tr>\n",
       "\t<tr><th scope=col>&lt;fct&gt;</th><th scope=col>&lt;chr&gt;</th><th scope=col>&lt;dbl&gt;</th><th scope=col>&lt;dbl&gt;</th></tr>\n",
       "</thead>\n",
       "<tbody>\n",
       "\t<tr><td>Center1</td><td>Pool1</td><td> 160719146</td><td> 293819.3</td></tr>\n",
       "\t<tr><td>Center1</td><td>Pool2</td><td> 147686435</td><td> 287327.7</td></tr>\n",
       "\t<tr><td>Center2</td><td>Pool3</td><td> 418114201</td><td> 802820.2</td></tr>\n",
       "\t<tr><td>Center2</td><td>Pool5</td><td> 388265344</td><td> 679974.3</td></tr>\n",
       "\t<tr><td>Center3</td><td>Pool4</td><td>2025653562</td><td>4598472.4</td></tr>\n",
       "\t<tr><td>Center3</td><td>Pool6</td><td>2605146812</td><td>5354713.1</td></tr>\n",
       "</tbody>\n",
       "</table>\n"
      ],
      "text/latex": [
       "A grouped\\_df: 6 × 4\n",
       "\\begin{tabular}{llll}\n",
       " Center & Pool & mean\\_sample\\_sum & mean\\_sample\\_mean\\\\\n",
       " <fct> & <chr> & <dbl> & <dbl>\\\\\n",
       "\\hline\n",
       "\t Center1 & Pool1 &  160719146 &  293819.3\\\\\n",
       "\t Center1 & Pool2 &  147686435 &  287327.7\\\\\n",
       "\t Center2 & Pool3 &  418114201 &  802820.2\\\\\n",
       "\t Center2 & Pool5 &  388265344 &  679974.3\\\\\n",
       "\t Center3 & Pool4 & 2025653562 & 4598472.4\\\\\n",
       "\t Center3 & Pool6 & 2605146812 & 5354713.1\\\\\n",
       "\\end{tabular}\n"
      ],
      "text/markdown": [
       "\n",
       "A grouped_df: 6 × 4\n",
       "\n",
       "| Center &lt;fct&gt; | Pool &lt;chr&gt; | mean_sample_sum &lt;dbl&gt; | mean_sample_mean &lt;dbl&gt; |\n",
       "|---|---|---|---|\n",
       "| Center1 | Pool1 |  160719146 |  293819.3 |\n",
       "| Center1 | Pool2 |  147686435 |  287327.7 |\n",
       "| Center2 | Pool3 |  418114201 |  802820.2 |\n",
       "| Center2 | Pool5 |  388265344 |  679974.3 |\n",
       "| Center3 | Pool4 | 2025653562 | 4598472.4 |\n",
       "| Center3 | Pool6 | 2605146812 | 5354713.1 |\n",
       "\n"
      ],
      "text/plain": [
       "  Center  Pool  mean_sample_sum mean_sample_mean\n",
       "1 Center1 Pool1  160719146       293819.3       \n",
       "2 Center1 Pool2  147686435       287327.7       \n",
       "3 Center2 Pool3  418114201       802820.2       \n",
       "4 Center2 Pool5  388265344       679974.3       \n",
       "5 Center3 Pool4 2025653562      4598472.4       \n",
       "6 Center3 Pool6 2605146812      5354713.1       "
      ]
     },
     "metadata": {},
     "output_type": "display_data"
    }
   ],
   "source": [
    "# print(format(round(colSums(pg_intensities, na.rm = TRUE), digits = 0), big.mark = \",\"))\n",
    "\n",
    "# the same using tidyverse and summarize function\n",
    "pg_intensities %>%\n",
    "    # summarize(across(everything(), ~sum(., na.rm = TRUE))) %>%\n",
    "    pivot_longer(cols = everything(), \n",
    "                 names_to = \"Quantitative.column.name\", \n",
    "                 values_to = \"Value\") %>%\n",
    "    na.omit() %>%\n",
    "    left_join(select(metadata, c(Quantitative.column.name, Pool, Center)), by = 'Quantitative.column.name') %>%\n",
    "    group_by(Center, Pool, Quantitative.column.name) %>%\n",
    "    summarize(sum = sum(Value, na.rm = TRUE), mean = mean(Value, na.rm = TRUE)) %>%\n",
    "    group_by(Center, Pool) %>%\n",
    "    summarise(mean_sample_sum = mean(sum), mean_sample_mean = mean(mean))"
   ]
  },
  {
   "cell_type": "markdown",
   "metadata": {},
   "source": [
    "# Normalization"
   ]
  },
  {
   "cell_type": "markdown",
   "metadata": {},
   "source": [
    "### Methods\n",
    "\n",
    "!!!!!!!!!!!!!!!!!!!!! Contains bugs!"
   ]
  },
  {
   "cell_type": "code",
   "execution_count": 16,
   "metadata": {
    "vscode": {
     "languageId": "r"
    }
   },
   "outputs": [],
   "source": [
    "iRS_function <- function(df, metadata, sample_column = 'Quantitative.column.name',\n",
    "                         group_column = 'Group', reference_name = 'Common Reference',\n",
    "                         pool_column = 'Pool', batch_column = 'Center') {\n",
    "  \n",
    "  df <- df %>% rownames_to_column(\"Protein.IDs\")\n",
    "  \n",
    "  # Convert to long format while preserving the protein identifier\n",
    "  df_long <- pivot_longer(df, cols = -Protein.IDs, names_to = sample_column, values_to = \"Value\")\n",
    "  \n",
    "  # Merge long format data with metadata\n",
    "  df_long <- left_join(df_long, metadata, by = sample_column)\n",
    "  \n",
    "  # Isolate 'Common Reference' samples and ensure calculations are per protein within each center\n",
    "  common_refs <- df_long %>% \n",
    "    filter(!!sym(group_column) == reference_name) %>%\n",
    "    select(-!!sym(group_column), -!!sym(sample_column))\n",
    "  \n",
    "  # Compute the geometric mean of 'Common Reference' across all plexes for each protein within each center\n",
    "  common_geo_mean <- common_refs %>%\n",
    "    group_by(Protein.IDs, !!sym(batch_column)) %>%\n",
    "    # group_by(Protein.IDs) %>%\n",
    "    summarise(OverallGeoMean = exp(mean(log(Value), na.rm = TRUE)), .groups = 'drop')\n",
    "    # summarise(OverallGeoMean = exp(mean(log(Value))), .groups = 'drop')\n",
    "\n",
    "\n",
    "  # Calculate IRS factors for each 'Common Reference' in each plex, per protein, within each center\n",
    "  irs_factors <- common_refs %>%\n",
    "    left_join(common_geo_mean, by = c(\"Protein.IDs\", batch_column)) %>%\n",
    "    # left_join(common_geo_mean, by = c(\"Protein.IDs\")) %>%\n",
    "    group_by(!!sym(pool_column), Protein.IDs, !!sym(batch_column)) %>%\n",
    "    # group_by(!!sym(pool_column), Protein.IDs) %>%\n",
    "    summarise(IRSFactor = OverallGeoMean / mean(Value), .groups = 'drop')\n",
    "  \n",
    "  # Apply IRS scaling to all samples in each plex, per protein, within each center\n",
    "  df_scaled <- df_long %>%\n",
    "    left_join(irs_factors, by = c(pool_column, \"Protein.IDs\", batch_column)) %>%\n",
    "    # left_join(irs_factors, by = c(pool_column, \"Protein.IDs\")) %>%\n",
    "    mutate(ScaledValue = ifelse(is.na(IRSFactor), Value, Value * IRSFactor))\n",
    "  \n",
    "  # Pivot back to wide format if necessary, with proteins as rows and samples as columns\n",
    "  df_final <- pivot_wider(df_scaled, names_from = sample_column, values_from = ScaledValue, id_cols = \"Protein.IDs\") %>%\n",
    "    column_to_rownames(\"Protein.IDs\")\n",
    "  \n",
    "  return(df_final)\n",
    "}\n",
    "\n",
    "\n",
    "\n",
    "median_noramlization <- function(df, log_normalized = FALSE) {\n",
    "  if(!log_normalized) {\n",
    "    df <- log2(df + 1)\n",
    "  }\n",
    "  medians <- apply(df, 2, median, na.rm = TRUE)\n",
    "  normalized_df <- sweep(df, 2, medians, FUN=\"/\")\n",
    "  mean_of_medians <- mean(medians, na.rm=TRUE)\n",
    "  normalized_df <- as.data.frame(normalized_df * mean_of_medians)\n",
    "\n",
    "  return(normalized_df)\n",
    "}\n",
    "\n",
    "sample_load_norm <- function(data_raw, metadata){\n",
    "\n",
    "  # Ensure column names from data_raw match the Quantitative.column.name names in metadata\n",
    "  data_raw <- data_raw[, metadata$Quantitative.column.name]\n",
    "  \n",
    "  # Initialize an empty list to store split experiments\n",
    "  experiments_raw <- list()\n",
    "  \n",
    "  # Separate data_raw based on Pool information in metadata\n",
    "  unique_pools <- unique(metadata$Pool)\n",
    "  for (i in 1:length(unique_pools)) {\n",
    "    pool_samples <- metadata$Quantitative.column.name[metadata$Pool == unique_pools[i]]\n",
    "    experiments_raw[[i]] <- data_raw[, pool_samples, drop = FALSE]\n",
    "  }\n",
    "  \n",
    "  # Initialize an empty list for storing normalized data\n",
    "  experiments_sl <- list()\n",
    "  \n",
    "  # Calculate the target for normalization\n",
    "  target <- mean(unlist(sapply(experiments_raw, function(exp) colSums(exp, na.rm = TRUE))))\n",
    "  \n",
    "  # Normalize each experiment\n",
    "  for (i in 1:length(experiments_raw)) {\n",
    "    norm_facs <- target / colSums(experiments_raw[[i]], na.rm = TRUE)\n",
    "    experiments_sl[[i]] <- sweep(experiments_raw[[i]], 2, norm_facs, FUN = \"*\")\n",
    "  }\n",
    "  \n",
    "  # Combine normalized data from all experiments\n",
    "  data_sl <- do.call(cbind, experiments_sl)\n",
    "  \n",
    "  return(as.data.frame(data_sl))\n",
    "\n",
    "}"
   ]
  },
  {
   "cell_type": "markdown",
   "metadata": {},
   "source": [
    "### iRS - Median - BEC"
   ]
  },
  {
   "cell_type": "code",
   "execution_count": 17,
   "metadata": {
    "vscode": {
     "languageId": "r"
    }
   },
   "outputs": [
    {
     "name": "stderr",
     "output_type": "stream",
     "text": [
      "Warning message:\n",
      "“\u001b[1m\u001b[22mUsing an external vector in selections was deprecated in tidyselect 1.1.0.\n",
      "\u001b[36mℹ\u001b[39m Please use `all_of()` or `any_of()` instead.\n",
      "  # Was:\n",
      "  data %>% select(sample_column)\n",
      "\n",
      "  # Now:\n",
      "  data %>% select(all_of(sample_column))\n",
      "\n",
      "See <https://tidyselect.r-lib.org/reference/faq-external-vector.html>.”\n"
     ]
    },
    {
     "data": {
      "text/html": [
       "<style>\n",
       ".list-inline {list-style: none; margin:0; padding: 0}\n",
       ".list-inline>li {display: inline-block}\n",
       ".list-inline>li:not(:last-child)::after {content: \"\\00b7\"; padding: 0 .5ex}\n",
       "</style>\n",
       "<ol class=list-inline><li>660</li><li>65</li></ol>\n"
      ],
      "text/latex": [
       "\\begin{enumerate*}\n",
       "\\item 660\n",
       "\\item 65\n",
       "\\end{enumerate*}\n"
      ],
      "text/markdown": [
       "1. 660\n",
       "2. 65\n",
       "\n",
       "\n"
      ],
      "text/plain": [
       "[1] 660  65"
      ]
     },
     "metadata": {},
     "output_type": "display_data"
    },
    {
     "data": {
      "text/html": [
       "22.245"
      ],
      "text/latex": [
       "22.245"
      ],
      "text/markdown": [
       "22.245"
      ],
      "text/plain": [
       "[1] 22.245"
      ]
     },
     "metadata": {},
     "output_type": "display_data"
    },
    {
     "name": "stderr",
     "output_type": "stream",
     "text": [
      "\u001b[1m\u001b[22mSaving 6.67 x 6.67 in image\n",
      "Warning message:\n",
      "“\u001b[1m\u001b[22mRemoved 9543 rows containing non-finite values (`stat_boxplot()`).”\n",
      "Warning message:\n",
      "“\u001b[1m\u001b[22mRemoved 9543 rows containing non-finite values (`stat_summary()`).”\n",
      "Warning message:\n",
      "“\u001b[1m\u001b[22mRemoved 9543 rows containing non-finite values (`stat_boxplot()`).”\n",
      "Warning message:\n",
      "“\u001b[1m\u001b[22mRemoved 9543 rows containing non-finite values (`stat_summary()`).”\n",
      "Warning message:\n",
      "“Graphs cannot be vertically aligned unless the axis parameter is set. Placing graphs unaligned.”\n"
     ]
    }
   ],
   "source": [
    "intensities_scaled <- iRS_function(pg_intensities, metadata)\n",
    "\n",
    "dim(intensities_scaled)\n",
    "round(sum(is.na(intensities_scaled)) * 100 / (dim(intensities_scaled)[1] * dim(intensities_scaled)[2]), 3)\n",
    "\n",
    "plot_three_in_one(log2(intensities_scaled + 1),\n",
    "                  metadata,\n",
    "                  \"TMT, iRS-scaled protein intensities, log2-transformed\",\n",
    "                  \"/home/yuliya/repos/cosybio/FedProt/data/TMT_data/balanced_data/combined_plots/02_pg_intensities_scaled_log\")\n",
    "                  "
   ]
  },
  {
   "cell_type": "code",
   "execution_count": 18,
   "metadata": {
    "vscode": {
     "languageId": "r"
    }
   },
   "outputs": [
    {
     "name": "stderr",
     "output_type": "stream",
     "text": [
      "\u001b[1m\u001b[22m`summarise()` has grouped output by 'Center', 'Pool'. You can override using\n",
      "the `.groups` argument.\n"
     ]
    },
    {
     "name": "stderr",
     "output_type": "stream",
     "text": [
      "\u001b[1m\u001b[22m`summarise()` has grouped output by 'Center'. You can override using the\n",
      "`.groups` argument.\n"
     ]
    },
    {
     "data": {
      "text/html": [
       "<table class=\"dataframe\">\n",
       "<caption>A grouped_df: 6 × 4</caption>\n",
       "<thead>\n",
       "\t<tr><th scope=col>Center</th><th scope=col>Pool</th><th scope=col>mean_sample_sum</th><th scope=col>mean_sample_mean</th></tr>\n",
       "\t<tr><th scope=col>&lt;fct&gt;</th><th scope=col>&lt;chr&gt;</th><th scope=col>&lt;dbl&gt;</th><th scope=col>&lt;dbl&gt;</th></tr>\n",
       "</thead>\n",
       "<tbody>\n",
       "\t<tr><td>Center1</td><td>Pool1</td><td> 154202412</td><td> 281905.7</td></tr>\n",
       "\t<tr><td>Center1</td><td>Pool2</td><td> 154436630</td><td> 300460.4</td></tr>\n",
       "\t<tr><td>Center2</td><td>Pool3</td><td> 405178100</td><td> 777981.3</td></tr>\n",
       "\t<tr><td>Center2</td><td>Pool5</td><td> 401299412</td><td> 702801.1</td></tr>\n",
       "\t<tr><td>Center3</td><td>Pool4</td><td>2244488256</td><td>5095113.2</td></tr>\n",
       "\t<tr><td>Center3</td><td>Pool6</td><td>2357666715</td><td>4846036.1</td></tr>\n",
       "</tbody>\n",
       "</table>\n"
      ],
      "text/latex": [
       "A grouped\\_df: 6 × 4\n",
       "\\begin{tabular}{llll}\n",
       " Center & Pool & mean\\_sample\\_sum & mean\\_sample\\_mean\\\\\n",
       " <fct> & <chr> & <dbl> & <dbl>\\\\\n",
       "\\hline\n",
       "\t Center1 & Pool1 &  154202412 &  281905.7\\\\\n",
       "\t Center1 & Pool2 &  154436630 &  300460.4\\\\\n",
       "\t Center2 & Pool3 &  405178100 &  777981.3\\\\\n",
       "\t Center2 & Pool5 &  401299412 &  702801.1\\\\\n",
       "\t Center3 & Pool4 & 2244488256 & 5095113.2\\\\\n",
       "\t Center3 & Pool6 & 2357666715 & 4846036.1\\\\\n",
       "\\end{tabular}\n"
      ],
      "text/markdown": [
       "\n",
       "A grouped_df: 6 × 4\n",
       "\n",
       "| Center &lt;fct&gt; | Pool &lt;chr&gt; | mean_sample_sum &lt;dbl&gt; | mean_sample_mean &lt;dbl&gt; |\n",
       "|---|---|---|---|\n",
       "| Center1 | Pool1 |  154202412 |  281905.7 |\n",
       "| Center1 | Pool2 |  154436630 |  300460.4 |\n",
       "| Center2 | Pool3 |  405178100 |  777981.3 |\n",
       "| Center2 | Pool5 |  401299412 |  702801.1 |\n",
       "| Center3 | Pool4 | 2244488256 | 5095113.2 |\n",
       "| Center3 | Pool6 | 2357666715 | 4846036.1 |\n",
       "\n"
      ],
      "text/plain": [
       "  Center  Pool  mean_sample_sum mean_sample_mean\n",
       "1 Center1 Pool1  154202412       281905.7       \n",
       "2 Center1 Pool2  154436630       300460.4       \n",
       "3 Center2 Pool3  405178100       777981.3       \n",
       "4 Center2 Pool5  401299412       702801.1       \n",
       "5 Center3 Pool4 2244488256      5095113.2       \n",
       "6 Center3 Pool6 2357666715      4846036.1       "
      ]
     },
     "metadata": {},
     "output_type": "display_data"
    }
   ],
   "source": [
    "intensities_scaled %>%\n",
    "    # summarize(across(everything(), ~sum(., na.rm = TRUE))) %>%\n",
    "    pivot_longer(cols = everything(), \n",
    "                 names_to = \"Quantitative.column.name\", \n",
    "                 values_to = \"Value\") %>%\n",
    "    na.omit() %>%\n",
    "    left_join(select(metadata, c(Quantitative.column.name, Pool, Center)), by = 'Quantitative.column.name') %>%\n",
    "    group_by(Center, Pool, Quantitative.column.name) %>%\n",
    "    summarize(sum = sum(Value, na.rm = TRUE), mean = mean(Value, na.rm = TRUE)) %>%\n",
    "    group_by(Center, Pool) %>%\n",
    "    summarise(mean_sample_sum = mean(sum), mean_sample_mean = mean(mean))"
   ]
  },
  {
   "cell_type": "code",
   "execution_count": 19,
   "metadata": {
    "vscode": {
     "languageId": "r"
    }
   },
   "outputs": [
    {
     "data": {
      "text/html": [
       "<style>\n",
       ".list-inline {list-style: none; margin:0; padding: 0}\n",
       ".list-inline>li {display: inline-block}\n",
       ".list-inline>li:not(:last-child)::after {content: \"\\00b7\"; padding: 0 .5ex}\n",
       "</style>\n",
       "<ol class=list-inline><li>660</li><li>65</li></ol>\n"
      ],
      "text/latex": [
       "\\begin{enumerate*}\n",
       "\\item 660\n",
       "\\item 65\n",
       "\\end{enumerate*}\n"
      ],
      "text/markdown": [
       "1. 660\n",
       "2. 65\n",
       "\n",
       "\n"
      ],
      "text/plain": [
       "[1] 660  65"
      ]
     },
     "metadata": {},
     "output_type": "display_data"
    },
    {
     "data": {
      "text/html": [
       "22.245"
      ],
      "text/latex": [
       "22.245"
      ],
      "text/markdown": [
       "22.245"
      ],
      "text/plain": [
       "[1] 22.245"
      ]
     },
     "metadata": {},
     "output_type": "display_data"
    },
    {
     "name": "stderr",
     "output_type": "stream",
     "text": [
      "\u001b[1m\u001b[22mSaving 6.67 x 6.67 in image\n",
      "Warning message:\n",
      "“\u001b[1m\u001b[22mRemoved 9543 rows containing non-finite values (`stat_boxplot()`).”\n",
      "Warning message:\n",
      "“\u001b[1m\u001b[22mRemoved 9543 rows containing non-finite values (`stat_summary()`).”\n",
      "Warning message:\n",
      "“\u001b[1m\u001b[22mRemoved 9543 rows containing non-finite values (`stat_boxplot()`).”\n",
      "Warning message:\n",
      "“\u001b[1m\u001b[22mRemoved 9543 rows containing non-finite values (`stat_summary()`).”\n",
      "Warning message:\n",
      "“Graphs cannot be vertically aligned unless the axis parameter is set. Placing graphs unaligned.”\n"
     ]
    }
   ],
   "source": [
    "intensities_scaled_norm <- median_noramlization(intensities_scaled, log_normalized = FALSE)\n",
    "\n",
    "dim(intensities_scaled_norm)\n",
    "round(sum(is.na(intensities_scaled_norm)) * 100 / (dim(intensities_scaled_norm)[1] * dim(intensities_scaled_norm)[2]), 3)\n",
    "\n",
    "plot_three_in_one(intensities_scaled_norm,\n",
    "                  metadata,\n",
    "                  \"TMT, iRScaled, Median norm intensities, log2-transformed\",\n",
    "                  \"/home/yuliya/repos/cosybio/FedProt/data/TMT_data/balanced_data/combined_plots/03_pg_intensities_scaled_norm_log\")"
   ]
  },
  {
   "cell_type": "code",
   "execution_count": 20,
   "metadata": {
    "vscode": {
     "languageId": "r"
    }
   },
   "outputs": [
    {
     "name": "stderr",
     "output_type": "stream",
     "text": [
      "\u001b[1m\u001b[22m`summarise()` has grouped output by 'Center', 'Pool'. You can override using\n",
      "the `.groups` argument.\n"
     ]
    },
    {
     "name": "stderr",
     "output_type": "stream",
     "text": [
      "\u001b[1m\u001b[22m`summarise()` has grouped output by 'Center'. You can override using the\n",
      "`.groups` argument.\n"
     ]
    },
    {
     "data": {
      "text/html": [
       "<table class=\"dataframe\">\n",
       "<caption>A grouped_df: 6 × 4</caption>\n",
       "<thead>\n",
       "\t<tr><th scope=col>Center</th><th scope=col>Pool</th><th scope=col>mean_sample_sum</th><th scope=col>mean_sample_mean</th></tr>\n",
       "\t<tr><th scope=col>&lt;fct&gt;</th><th scope=col>&lt;chr&gt;</th><th scope=col>&lt;dbl&gt;</th><th scope=col>&lt;dbl&gt;</th></tr>\n",
       "</thead>\n",
       "<tbody>\n",
       "\t<tr><td>Center1</td><td>Pool1</td><td>9137.713</td><td>16.70514</td></tr>\n",
       "\t<tr><td>Center1</td><td>Pool2</td><td>8538.524</td><td>16.61191</td></tr>\n",
       "\t<tr><td>Center2</td><td>Pool3</td><td>8649.508</td><td>16.60812</td></tr>\n",
       "\t<tr><td>Center2</td><td>Pool5</td><td>9474.561</td><td>16.59293</td></tr>\n",
       "\t<tr><td>Center3</td><td>Pool4</td><td>7394.563</td><td>16.78857</td></tr>\n",
       "\t<tr><td>Center3</td><td>Pool6</td><td>8222.081</td><td>16.89890</td></tr>\n",
       "</tbody>\n",
       "</table>\n"
      ],
      "text/latex": [
       "A grouped\\_df: 6 × 4\n",
       "\\begin{tabular}{llll}\n",
       " Center & Pool & mean\\_sample\\_sum & mean\\_sample\\_mean\\\\\n",
       " <fct> & <chr> & <dbl> & <dbl>\\\\\n",
       "\\hline\n",
       "\t Center1 & Pool1 & 9137.713 & 16.70514\\\\\n",
       "\t Center1 & Pool2 & 8538.524 & 16.61191\\\\\n",
       "\t Center2 & Pool3 & 8649.508 & 16.60812\\\\\n",
       "\t Center2 & Pool5 & 9474.561 & 16.59293\\\\\n",
       "\t Center3 & Pool4 & 7394.563 & 16.78857\\\\\n",
       "\t Center3 & Pool6 & 8222.081 & 16.89890\\\\\n",
       "\\end{tabular}\n"
      ],
      "text/markdown": [
       "\n",
       "A grouped_df: 6 × 4\n",
       "\n",
       "| Center &lt;fct&gt; | Pool &lt;chr&gt; | mean_sample_sum &lt;dbl&gt; | mean_sample_mean &lt;dbl&gt; |\n",
       "|---|---|---|---|\n",
       "| Center1 | Pool1 | 9137.713 | 16.70514 |\n",
       "| Center1 | Pool2 | 8538.524 | 16.61191 |\n",
       "| Center2 | Pool3 | 8649.508 | 16.60812 |\n",
       "| Center2 | Pool5 | 9474.561 | 16.59293 |\n",
       "| Center3 | Pool4 | 7394.563 | 16.78857 |\n",
       "| Center3 | Pool6 | 8222.081 | 16.89890 |\n",
       "\n"
      ],
      "text/plain": [
       "  Center  Pool  mean_sample_sum mean_sample_mean\n",
       "1 Center1 Pool1 9137.713        16.70514        \n",
       "2 Center1 Pool2 8538.524        16.61191        \n",
       "3 Center2 Pool3 8649.508        16.60812        \n",
       "4 Center2 Pool5 9474.561        16.59293        \n",
       "5 Center3 Pool4 7394.563        16.78857        \n",
       "6 Center3 Pool6 8222.081        16.89890        "
      ]
     },
     "metadata": {},
     "output_type": "display_data"
    }
   ],
   "source": [
    "intensities_scaled_norm %>%\n",
    "    # summarize(across(everything(), ~sum(., na.rm = TRUE))) %>%\n",
    "    pivot_longer(cols = everything(), \n",
    "                 names_to = \"Quantitative.column.name\", \n",
    "                 values_to = \"Value\") %>%\n",
    "    na.omit() %>%\n",
    "    left_join(select(metadata, c(Quantitative.column.name, Pool, Center)), by = 'Quantitative.column.name') %>%\n",
    "    group_by(Center, Pool, Quantitative.column.name) %>%\n",
    "    summarize(sum = sum(Value, na.rm = TRUE), mean = mean(Value, na.rm = TRUE)) %>%\n",
    "    group_by(Center, Pool) %>%\n",
    "    summarise(mean_sample_sum = mean(sum), mean_sample_mean = mean(mean))"
   ]
  },
  {
   "cell_type": "code",
   "execution_count": 21,
   "metadata": {
    "vscode": {
     "languageId": "r"
    }
   },
   "outputs": [
    {
     "name": "stderr",
     "output_type": "stream",
     "text": [
      "Warning message:\n",
      "“Partial NA coefficients for 296 probe(s)”\n"
     ]
    },
    {
     "data": {
      "text/html": [
       "<style>\n",
       ".list-inline {list-style: none; margin:0; padding: 0}\n",
       ".list-inline>li {display: inline-block}\n",
       ".list-inline>li:not(:last-child)::after {content: \"\\00b7\"; padding: 0 .5ex}\n",
       "</style>\n",
       "<ol class=list-inline><li>660</li><li>65</li></ol>\n"
      ],
      "text/latex": [
       "\\begin{enumerate*}\n",
       "\\item 660\n",
       "\\item 65\n",
       "\\end{enumerate*}\n"
      ],
      "text/markdown": [
       "1. 660\n",
       "2. 65\n",
       "\n",
       "\n"
      ],
      "text/plain": [
       "[1] 660  65"
      ]
     },
     "metadata": {},
     "output_type": "display_data"
    },
    {
     "data": {
      "text/html": [
       "22.245"
      ],
      "text/latex": [
       "22.245"
      ],
      "text/markdown": [
       "22.245"
      ],
      "text/plain": [
       "[1] 22.245"
      ]
     },
     "metadata": {},
     "output_type": "display_data"
    },
    {
     "name": "stderr",
     "output_type": "stream",
     "text": [
      "\u001b[1m\u001b[22mSaving 6.67 x 6.67 in image\n",
      "Warning message:\n",
      "“\u001b[1m\u001b[22mRemoved 9543 rows containing non-finite values (`stat_boxplot()`).”\n",
      "Warning message:\n",
      "“\u001b[1m\u001b[22mRemoved 9543 rows containing non-finite values (`stat_summary()`).”\n"
     ]
    }
   ],
   "source": [
    "# bacth effects correction\n",
    "\n",
    "design <- model.matrix(~0 + metadata$Group)\n",
    "corrected_sl_irs <- limma::removeBatchEffect(intensities_scaled_norm, \n",
    "    batch2 = metadata$Pool, \n",
    "    design = design)\n",
    "\n",
    "\n",
    "\n",
    "dim(corrected_sl_irs)\n",
    "round(sum(is.na(corrected_sl_irs)) * 100 / (dim(corrected_sl_irs)[1] * dim(corrected_sl_irs)[2]), 3)\n",
    "\n",
    "plot_three_in_one(as.data.frame(corrected_sl_irs),\n",
    "                  metadata,\n",
    "                  \"TMT, iRScaled, Median norm, BEC intensities, log2-transformed\",\n",
    "                  \"/home/yuliya/repos/cosybio/FedProt/data/TMT_data/balanced_data/combined_plots/04_pg_intensities_scaled_norm_log_BEC\")"
   ]
  },
  {
   "cell_type": "code",
   "execution_count": null,
   "metadata": {
    "vscode": {
     "languageId": "r"
    }
   },
   "outputs": [
    {
     "data": {
      "image/png": "[encoded data removed]",
      "text/plain": [
       "plot without title"
      ]
     },
     "metadata": {
      "image/png": {
       "height": 420,
       "width": 420
      }
     },
     "output_type": "display_data"
    }
   ],
   "source": [
    "\n",
    "  pca <- prcomp(t(na.omit(corrected_sl_irs)))\n",
    "  pca_df <- pca$x %>%\n",
    "    as.data.frame() %>%\n",
    "    rownames_to_column(\"Quantitative.column.name\") %>% \n",
    "    left_join(metadata,  by = \"Quantitative.column.name\") \n",
    "  var_expl <- pca$sdev^2 / sum(pca$sdev^2)\n",
    "  names(var_expl) <- paste0(\"PC\", 1:length(var_expl))\n",
    "\n",
    "  pca_df %>%\n",
    "    ggplot(aes(PC1, PC2)) +\n",
    "    geom_point(aes(col=Group, shape=Center), size=3)  +\n",
    "    theme_classic() +\n",
    "    labs(title = \"TMT, iRScaled, Median norm, BEC intensities, log2-transformed\")\n",
    "  "
   ]
  },
  {
   "cell_type": "markdown",
   "metadata": {},
   "source": [
    "### SL - iRS - BEC"
   ]
  },
  {
   "cell_type": "code",
   "execution_count": null,
   "metadata": {
    "vscode": {
     "languageId": "r"
    }
   },
   "outputs": [
    {
     "data": {
      "text/html": [
       "<style>\n",
       ".list-inline {list-style: none; margin:0; padding: 0}\n",
       ".list-inline>li {display: inline-block}\n",
       ".list-inline>li:not(:last-child)::after {content: \"\\00b7\"; padding: 0 .5ex}\n",
       "</style>\n",
       "<ol class=list-inline><li>660</li><li>65</li></ol>\n"
      ],
      "text/latex": [
       "\\begin{enumerate*}\n",
       "\\item 660\n",
       "\\item 65\n",
       "\\end{enumerate*}\n"
      ],
      "text/markdown": [
       "1. 660\n",
       "2. 65\n",
       "\n",
       "\n"
      ],
      "text/plain": [
       "[1] 660  65"
      ]
     },
     "metadata": {},
     "output_type": "display_data"
    },
    {
     "data": {
      "text/html": [
       "22.245"
      ],
      "text/latex": [
       "22.245"
      ],
      "text/markdown": [
       "22.245"
      ],
      "text/plain": [
       "[1] 22.245"
      ]
     },
     "metadata": {},
     "output_type": "display_data"
    },
    {
     "name": "stderr",
     "output_type": "stream",
     "text": [
      "\u001b[1m\u001b[22mSaving 6.67 x 6.67 in image\n",
      "Warning message:\n",
      "“\u001b[1m\u001b[22mRemoved 9543 rows containing non-finite values (`stat_boxplot()`).”\n",
      "Warning message:\n",
      "“\u001b[1m\u001b[22mRemoved 9543 rows containing non-finite values (`stat_summary()`).”\n",
      "Warning message:\n",
      "“\u001b[1m\u001b[22mRemoved 9543 rows containing non-finite values (`stat_boxplot()`).”\n",
      "Warning message:\n",
      "“\u001b[1m\u001b[22mRemoved 9543 rows containing non-finite values (`stat_summary()`).”\n",
      "Warning message:\n",
      "“Graphs cannot be vertically aligned unless the axis parameter is set. Placing graphs unaligned.”\n"
     ]
    }
   ],
   "source": [
    "intensities_sl <- sample_load_norm(pg_intensities, metadata)\n",
    "\n",
    "dim(intensities_sl)\n",
    "round(sum(is.na(intensities_sl)) * 100 / (dim(intensities_sl)[1] * dim(intensities_sl)[2]), 3)\n",
    "\n",
    "plot_three_in_one(log2(intensities_scaled + 1),\n",
    "                  metadata,\n",
    "                  \"TMT, SL-norm protein intensities, log2-transformed\",\n",
    "                  \"/home/yuliya/repos/cosybio/FedProt/data/TMT_data/balanced_data/combined_plots/02_pg_intensities_scaled_log\")\n",
    "                  "
   ]
  },
  {
   "cell_type": "code",
   "execution_count": null,
   "metadata": {
    "vscode": {
     "languageId": "r"
    }
   },
   "outputs": [
    {
     "name": "stderr",
     "output_type": "stream",
     "text": [
      "\u001b[1m\u001b[22m`summarise()` has grouped output by 'Center', 'Pool'. You can override using\n",
      "the `.groups` argument.\n",
      "\u001b[1m\u001b[22m`summarise()` has grouped output by 'Center'. You can override using the\n",
      "`.groups` argument.\n"
     ]
    },
    {
     "data": {
      "text/html": [
       "<table class=\"dataframe\">\n",
       "<caption>A grouped_df: 6 × 4</caption>\n",
       "<thead>\n",
       "\t<tr><th scope=col>Center</th><th scope=col>Pool</th><th scope=col>mean_sample_sum</th><th scope=col>mean_sample_mean</th></tr>\n",
       "\t<tr><th scope=col>&lt;fct&gt;</th><th scope=col>&lt;chr&gt;</th><th scope=col>&lt;dbl&gt;</th><th scope=col>&lt;dbl&gt;</th></tr>\n",
       "</thead>\n",
       "<tbody>\n",
       "\t<tr><td>Center1</td><td>Pool1</td><td>965897328</td><td>1765809</td></tr>\n",
       "\t<tr><td>Center1</td><td>Pool2</td><td>965897328</td><td>1879178</td></tr>\n",
       "\t<tr><td>Center2</td><td>Pool3</td><td>965897328</td><td>1854643</td></tr>\n",
       "\t<tr><td>Center2</td><td>Pool5</td><td>965897328</td><td>1691589</td></tr>\n",
       "\t<tr><td>Center3</td><td>Pool4</td><td>965897328</td><td>2192969</td></tr>\n",
       "\t<tr><td>Center3</td><td>Pool6</td><td>965897328</td><td>1985228</td></tr>\n",
       "</tbody>\n",
       "</table>\n"
      ],
      "text/latex": [
       "A grouped\\_df: 6 × 4\n",
       "\\begin{tabular}{llll}\n",
       " Center & Pool & mean\\_sample\\_sum & mean\\_sample\\_mean\\\\\n",
       " <fct> & <chr> & <dbl> & <dbl>\\\\\n",
       "\\hline\n",
       "\t Center1 & Pool1 & 965897328 & 1765809\\\\\n",
       "\t Center1 & Pool2 & 965897328 & 1879178\\\\\n",
       "\t Center2 & Pool3 & 965897328 & 1854643\\\\\n",
       "\t Center2 & Pool5 & 965897328 & 1691589\\\\\n",
       "\t Center3 & Pool4 & 965897328 & 2192969\\\\\n",
       "\t Center3 & Pool6 & 965897328 & 1985228\\\\\n",
       "\\end{tabular}\n"
      ],
      "text/markdown": [
       "\n",
       "A grouped_df: 6 × 4\n",
       "\n",
       "| Center &lt;fct&gt; | Pool &lt;chr&gt; | mean_sample_sum &lt;dbl&gt; | mean_sample_mean &lt;dbl&gt; |\n",
       "|---|---|---|---|\n",
       "| Center1 | Pool1 | 965897328 | 1765809 |\n",
       "| Center1 | Pool2 | 965897328 | 1879178 |\n",
       "| Center2 | Pool3 | 965897328 | 1854643 |\n",
       "| Center2 | Pool5 | 965897328 | 1691589 |\n",
       "| Center3 | Pool4 | 965897328 | 2192969 |\n",
       "| Center3 | Pool6 | 965897328 | 1985228 |\n",
       "\n"
      ],
      "text/plain": [
       "  Center  Pool  mean_sample_sum mean_sample_mean\n",
       "1 Center1 Pool1 965897328       1765809         \n",
       "2 Center1 Pool2 965897328       1879178         \n",
       "3 Center2 Pool3 965897328       1854643         \n",
       "4 Center2 Pool5 965897328       1691589         \n",
       "5 Center3 Pool4 965897328       2192969         \n",
       "6 Center3 Pool6 965897328       1985228         "
      ]
     },
     "metadata": {},
     "output_type": "display_data"
    }
   ],
   "source": [
    "intensities_sl %>%\n",
    "    # summarize(across(everything(), ~sum(., na.rm = TRUE))) %>%\n",
    "    pivot_longer(cols = everything(), \n",
    "                 names_to = \"Quantitative.column.name\", \n",
    "                 values_to = \"Value\") %>%\n",
    "    na.omit() %>%\n",
    "    left_join(select(metadata, c(Quantitative.column.name, Pool, Center)), by = 'Quantitative.column.name') %>%\n",
    "    group_by(Center, Pool, Quantitative.column.name) %>%\n",
    "    summarize(sum = sum(Value, na.rm = TRUE), mean = mean(Value, na.rm = TRUE)) %>%\n",
    "    group_by(Center, Pool) %>%\n",
    "    summarise(mean_sample_sum = mean(sum), mean_sample_mean = mean(mean))"
   ]
  },
  {
   "cell_type": "code",
   "execution_count": null,
   "metadata": {
    "vscode": {
     "languageId": "r"
    }
   },
   "outputs": [
    {
     "data": {
      "text/html": [
       "<style>\n",
       ".list-inline {list-style: none; margin:0; padding: 0}\n",
       ".list-inline>li {display: inline-block}\n",
       ".list-inline>li:not(:last-child)::after {content: \"\\00b7\"; padding: 0 .5ex}\n",
       "</style>\n",
       "<ol class=list-inline><li>660</li><li>65</li></ol>\n"
      ],
      "text/latex": [
       "\\begin{enumerate*}\n",
       "\\item 660\n",
       "\\item 65\n",
       "\\end{enumerate*}\n"
      ],
      "text/markdown": [
       "1. 660\n",
       "2. 65\n",
       "\n",
       "\n"
      ],
      "text/plain": [
       "[1] 660  65"
      ]
     },
     "metadata": {},
     "output_type": "display_data"
    },
    {
     "data": {
      "text/html": [
       "22.245"
      ],
      "text/latex": [
       "22.245"
      ],
      "text/markdown": [
       "22.245"
      ],
      "text/plain": [
       "[1] 22.245"
      ]
     },
     "metadata": {},
     "output_type": "display_data"
    },
    {
     "name": "stderr",
     "output_type": "stream",
     "text": [
      "\u001b[1m\u001b[22mSaving 6.67 x 6.67 in image\n",
      "Warning message:\n",
      "“\u001b[1m\u001b[22mRemoved 9543 rows containing non-finite values (`stat_boxplot()`).”\n",
      "Warning message:\n",
      "“\u001b[1m\u001b[22mRemoved 9543 rows containing non-finite values (`stat_summary()`).”\n",
      "Warning message:\n",
      "“\u001b[1m\u001b[22mRemoved 9543 rows containing non-finite values (`stat_boxplot()`).”\n",
      "Warning message:\n",
      "“\u001b[1m\u001b[22mRemoved 9543 rows containing non-finite values (`stat_summary()`).”\n",
      "Warning message:\n",
      "“Graphs cannot be vertically aligned unless the axis parameter is set. Placing graphs unaligned.”\n"
     ]
    }
   ],
   "source": [
    "intensities_scaled <- iRS_function(intensities_sl, metadata)\n",
    "\n",
    "dim(intensities_scaled)\n",
    "round(sum(is.na(intensities_scaled)) * 100 / (dim(intensities_scaled)[1] * dim(intensities_scaled)[2]), 3)\n",
    "\n",
    "plot_three_in_one(log2(intensities_scaled + 1),\n",
    "                  metadata,\n",
    "                  \"TMT, SL, iRS-scaled protein intensities, log2-transformed\",\n",
    "                  \"/home/yuliya/repos/cosybio/FedProt/data/TMT_data/balanced_data/combined_plots/03_pg_intensities_SL_scaled_log\")\n",
    "                  "
   ]
  },
  {
   "cell_type": "code",
   "execution_count": null,
   "metadata": {
    "vscode": {
     "languageId": "r"
    }
   },
   "outputs": [
    {
     "name": "stderr",
     "output_type": "stream",
     "text": [
      "\u001b[1m\u001b[22m`summarise()` has grouped output by 'Center', 'Pool'. You can override using\n",
      "the `.groups` argument.\n",
      "\u001b[1m\u001b[22m`summarise()` has grouped output by 'Center'. You can override using the\n",
      "`.groups` argument.\n"
     ]
    },
    {
     "data": {
      "text/html": [
       "<table class=\"dataframe\">\n",
       "<caption>A grouped_df: 6 × 4</caption>\n",
       "<thead>\n",
       "\t<tr><th scope=col>Center</th><th scope=col>Pool</th><th scope=col>mean_sample_sum</th><th scope=col>mean_sample_mean</th></tr>\n",
       "\t<tr><th scope=col>&lt;fct&gt;</th><th scope=col>&lt;chr&gt;</th><th scope=col>&lt;dbl&gt;</th><th scope=col>&lt;dbl&gt;</th></tr>\n",
       "</thead>\n",
       "<tbody>\n",
       "\t<tr><td>Center1</td><td>Pool1</td><td>967948245</td><td>1769558</td></tr>\n",
       "\t<tr><td>Center1</td><td>Pool2</td><td>966982277</td><td>1881288</td></tr>\n",
       "\t<tr><td>Center2</td><td>Pool3</td><td>968599906</td><td>1859831</td></tr>\n",
       "\t<tr><td>Center2</td><td>Pool5</td><td>965190890</td><td>1690352</td></tr>\n",
       "\t<tr><td>Center3</td><td>Pool4</td><td>963626122</td><td>2187756</td></tr>\n",
       "\t<tr><td>Center3</td><td>Pool6</td><td>969858563</td><td>1993371</td></tr>\n",
       "</tbody>\n",
       "</table>\n"
      ],
      "text/latex": [
       "A grouped\\_df: 6 × 4\n",
       "\\begin{tabular}{llll}\n",
       " Center & Pool & mean\\_sample\\_sum & mean\\_sample\\_mean\\\\\n",
       " <fct> & <chr> & <dbl> & <dbl>\\\\\n",
       "\\hline\n",
       "\t Center1 & Pool1 & 967948245 & 1769558\\\\\n",
       "\t Center1 & Pool2 & 966982277 & 1881288\\\\\n",
       "\t Center2 & Pool3 & 968599906 & 1859831\\\\\n",
       "\t Center2 & Pool5 & 965190890 & 1690352\\\\\n",
       "\t Center3 & Pool4 & 963626122 & 2187756\\\\\n",
       "\t Center3 & Pool6 & 969858563 & 1993371\\\\\n",
       "\\end{tabular}\n"
      ],
      "text/markdown": [
       "\n",
       "A grouped_df: 6 × 4\n",
       "\n",
       "| Center &lt;fct&gt; | Pool &lt;chr&gt; | mean_sample_sum &lt;dbl&gt; | mean_sample_mean &lt;dbl&gt; |\n",
       "|---|---|---|---|\n",
       "| Center1 | Pool1 | 967948245 | 1769558 |\n",
       "| Center1 | Pool2 | 966982277 | 1881288 |\n",
       "| Center2 | Pool3 | 968599906 | 1859831 |\n",
       "| Center2 | Pool5 | 965190890 | 1690352 |\n",
       "| Center3 | Pool4 | 963626122 | 2187756 |\n",
       "| Center3 | Pool6 | 969858563 | 1993371 |\n",
       "\n"
      ],
      "text/plain": [
       "  Center  Pool  mean_sample_sum mean_sample_mean\n",
       "1 Center1 Pool1 967948245       1769558         \n",
       "2 Center1 Pool2 966982277       1881288         \n",
       "3 Center2 Pool3 968599906       1859831         \n",
       "4 Center2 Pool5 965190890       1690352         \n",
       "5 Center3 Pool4 963626122       2187756         \n",
       "6 Center3 Pool6 969858563       1993371         "
      ]
     },
     "metadata": {},
     "output_type": "display_data"
    }
   ],
   "source": [
    "intensities_scaled %>%\n",
    "    # summarize(across(everything(), ~sum(., na.rm = TRUE))) %>%\n",
    "    pivot_longer(cols = everything(), \n",
    "                 names_to = \"Quantitative.column.name\", \n",
    "                 values_to = \"Value\") %>%\n",
    "    na.omit() %>%\n",
    "    left_join(select(metadata, c(Quantitative.column.name, Pool, Center)), by = 'Quantitative.column.name') %>%\n",
    "    group_by(Center, Pool, Quantitative.column.name) %>%\n",
    "    summarize(sum = sum(Value, na.rm = TRUE), mean = mean(Value, na.rm = TRUE)) %>%\n",
    "    group_by(Center, Pool) %>%\n",
    "    summarise(mean_sample_sum = mean(sum), mean_sample_mean = mean(mean))"
   ]
  },
  {
   "cell_type": "code",
   "execution_count": null,
   "metadata": {
    "vscode": {
     "languageId": "r"
    }
   },
   "outputs": [
    {
     "name": "stderr",
     "output_type": "stream",
     "text": [
      "Warning message:\n",
      "“Partial NA coefficients for 296 probe(s)”\n"
     ]
    },
    {
     "data": {
      "text/html": [
       "<style>\n",
       ".list-inline {list-style: none; margin:0; padding: 0}\n",
       ".list-inline>li {display: inline-block}\n",
       ".list-inline>li:not(:last-child)::after {content: \"\\00b7\"; padding: 0 .5ex}\n",
       "</style>\n",
       "<ol class=list-inline><li>660</li><li>65</li></ol>\n"
      ],
      "text/latex": [
       "\\begin{enumerate*}\n",
       "\\item 660\n",
       "\\item 65\n",
       "\\end{enumerate*}\n"
      ],
      "text/markdown": [
       "1. 660\n",
       "2. 65\n",
       "\n",
       "\n"
      ],
      "text/plain": [
       "[1] 660  65"
      ]
     },
     "metadata": {},
     "output_type": "display_data"
    },
    {
     "data": {
      "text/html": [
       "22.245"
      ],
      "text/latex": [
       "22.245"
      ],
      "text/markdown": [
       "22.245"
      ],
      "text/plain": [
       "[1] 22.245"
      ]
     },
     "metadata": {},
     "output_type": "display_data"
    },
    {
     "name": "stderr",
     "output_type": "stream",
     "text": [
      "\u001b[1m\u001b[22mSaving 6.67 x 6.67 in image\n",
      "Warning message:\n",
      "“\u001b[1m\u001b[22mRemoved 9543 rows containing non-finite values (`stat_boxplot()`).”\n",
      "Warning message:\n",
      "“\u001b[1m\u001b[22mRemoved 9543 rows containing non-finite values (`stat_summary()`).”\n",
      "Warning message:\n",
      "“\u001b[1m\u001b[22mRemoved 9543 rows containing non-finite values (`stat_boxplot()`).”\n",
      "Warning message:\n",
      "“\u001b[1m\u001b[22mRemoved 9543 rows containing non-finite values (`stat_summary()`).”\n",
      "Warning message:\n",
      "“Graphs cannot be vertically aligned unless the axis parameter is set. Placing graphs unaligned.”\n"
     ]
    }
   ],
   "source": [
    "# bacth effects correction\n",
    "\n",
    "design <- model.matrix(~0 + metadata$Group)\n",
    "corrected_sl_irs <- limma::removeBatchEffect(log2(intensities_scaled + 1), \n",
    "    batch2 = metadata$Pool, \n",
    "    design = design)\n",
    "\n",
    "\n",
    "\n",
    "dim(corrected_sl_irs)\n",
    "round(sum(is.na(corrected_sl_irs)) * 100 / (dim(corrected_sl_irs)[1] * dim(corrected_sl_irs)[2]), 3)\n",
    "\n",
    "plot_three_in_one(as.data.frame(corrected_sl_irs),\n",
    "                  metadata,\n",
    "                  \"TMT, SL, iRScaled, BEC intensities, log2-transformed\",\n",
    "                  \"/home/yuliya/repos/cosybio/FedProt/data/TMT_data/balanced_data/combined_plots/04_pg_intensities_SL_scaled_log_BEC\")"
   ]
  },
  {
   "cell_type": "code",
   "execution_count": null,
   "metadata": {
    "vscode": {
     "languageId": "r"
    }
   },
   "outputs": [
    {
     "data": {
      "image/png": "[encoded data removed]",
      "text/plain": [
       "plot without title"
      ]
     },
     "metadata": {
      "image/png": {
       "height": 420,
       "width": 420
      }
     },
     "output_type": "display_data"
    }
   ],
   "source": [
    "\n",
    "  pca <- prcomp(t(na.omit(corrected_sl_irs)))\n",
    "  pca_df <- pca$x %>%\n",
    "    as.data.frame() %>%\n",
    "    rownames_to_column(\"Quantitative.column.name\") %>% \n",
    "    left_join(metadata,  by = \"Quantitative.column.name\") \n",
    "  var_expl <- pca$sdev^2 / sum(pca$sdev^2)\n",
    "  names(var_expl) <- paste0(\"PC\", 1:length(var_expl))\n",
    "\n",
    "  pca_df %>%\n",
    "    ggplot(aes(PC1, PC2)) +\n",
    "    geom_point(aes(col=Group, shape=Center), size=3)  +\n",
    "    theme_classic() +\n",
    "    labs(title = \"TMT, SL, iRScaled, BEC intensities, log2-transformed\")\n",
    "  "
   ]
  },
  {
   "cell_type": "code",
   "execution_count": null,
   "metadata": {
    "vscode": {
     "languageId": "r"
    }
   },
   "outputs": [],
   "source": []
  },
  {
   "cell_type": "code",
   "execution_count": null,
   "metadata": {
    "vscode": {
     "languageId": "r"
    }
   },
   "outputs": [],
   "source": []
  },
  {
   "cell_type": "code",
   "execution_count": null,
   "metadata": {
    "vscode": {
     "languageId": "r"
    }
   },
   "outputs": [],
   "source": []
  },
  {
   "cell_type": "code",
   "execution_count": null,
   "metadata": {
    "vscode": {
     "languageId": "r"
    }
   },
   "outputs": [],
   "source": []
  },
  {
   "cell_type": "markdown",
   "metadata": {},
   "source": [
    "# Merge three separate MaxQuant runs"
   ]
  },
  {
   "cell_type": "code",
   "execution_count": 23,
   "metadata": {
    "vscode": {
     "languageId": "r"
    }
   },
   "outputs": [
    {
     "data": {
      "text/html": [
       "<table class=\"dataframe\">\n",
       "<caption>A data.frame: 3 × 6</caption>\n",
       "<thead>\n",
       "\t<tr><th></th><th scope=col>Quantitative.column.name</th><th scope=col>Pool</th><th scope=col>Reporter.ion</th><th scope=col>Patient</th><th scope=col>Group</th><th scope=col>Center</th></tr>\n",
       "\t<tr><th></th><th scope=col>&lt;chr&gt;</th><th scope=col>&lt;chr&gt;</th><th scope=col>&lt;chr&gt;</th><th scope=col>&lt;chr&gt;</th><th scope=col>&lt;chr&gt;</th><th scope=col>&lt;chr&gt;</th></tr>\n",
       "</thead>\n",
       "<tbody>\n",
       "\t<tr><th scope=row>Reporter.intensity.corrected.1.Pool1</th><td>P_1.RIC_1</td><td>Pool1</td><td>126 </td><td>Common Reference</td><td>Common Reference</td><td>Center1</td></tr>\n",
       "\t<tr><th scope=row>Reporter.intensity.corrected.2.Pool1</th><td>P_1.RIC_2</td><td>Pool1</td><td>127N</td><td>heathy1         </td><td>heathy          </td><td>Center1</td></tr>\n",
       "\t<tr><th scope=row>Reporter.intensity.corrected.3.Pool1</th><td>P_1.RIC_3</td><td>Pool1</td><td>127C</td><td>FSGS1           </td><td>FSGS            </td><td>Center1</td></tr>\n",
       "</tbody>\n",
       "</table>\n"
      ],
      "text/latex": [
       "A data.frame: 3 × 6\n",
       "\\begin{tabular}{r|llllll}\n",
       "  & Quantitative.column.name & Pool & Reporter.ion & Patient & Group & Center\\\\\n",
       "  & <chr> & <chr> & <chr> & <chr> & <chr> & <chr>\\\\\n",
       "\\hline\n",
       "\tReporter.intensity.corrected.1.Pool1 & P\\_1.RIC\\_1 & Pool1 & 126  & Common Reference & Common Reference & Center1\\\\\n",
       "\tReporter.intensity.corrected.2.Pool1 & P\\_1.RIC\\_2 & Pool1 & 127N & heathy1          & heathy           & Center1\\\\\n",
       "\tReporter.intensity.corrected.3.Pool1 & P\\_1.RIC\\_3 & Pool1 & 127C & FSGS1            & FSGS             & Center1\\\\\n",
       "\\end{tabular}\n"
      ],
      "text/markdown": [
       "\n",
       "A data.frame: 3 × 6\n",
       "\n",
       "| <!--/--> | Quantitative.column.name &lt;chr&gt; | Pool &lt;chr&gt; | Reporter.ion &lt;chr&gt; | Patient &lt;chr&gt; | Group &lt;chr&gt; | Center &lt;chr&gt; |\n",
       "|---|---|---|---|---|---|---|\n",
       "| Reporter.intensity.corrected.1.Pool1 | P_1.RIC_1 | Pool1 | 126  | Common Reference | Common Reference | Center1 |\n",
       "| Reporter.intensity.corrected.2.Pool1 | P_1.RIC_2 | Pool1 | 127N | heathy1          | heathy           | Center1 |\n",
       "| Reporter.intensity.corrected.3.Pool1 | P_1.RIC_3 | Pool1 | 127C | FSGS1            | FSGS             | Center1 |\n",
       "\n"
      ],
      "text/plain": [
       "                                     Quantitative.column.name Pool \n",
       "Reporter.intensity.corrected.1.Pool1 P_1.RIC_1                Pool1\n",
       "Reporter.intensity.corrected.2.Pool1 P_1.RIC_2                Pool1\n",
       "Reporter.intensity.corrected.3.Pool1 P_1.RIC_3                Pool1\n",
       "                                     Reporter.ion Patient         \n",
       "Reporter.intensity.corrected.1.Pool1 126          Common Reference\n",
       "Reporter.intensity.corrected.2.Pool1 127N         heathy1         \n",
       "Reporter.intensity.corrected.3.Pool1 127C         FSGS1           \n",
       "                                     Group            Center \n",
       "Reporter.intensity.corrected.1.Pool1 Common Reference Center1\n",
       "Reporter.intensity.corrected.2.Pool1 heathy           Center1\n",
       "Reporter.intensity.corrected.3.Pool1 FSGS             Center1"
      ]
     },
     "metadata": {},
     "output_type": "display_data"
    },
    {
     "data": {
      "text/html": [
       "<style>\n",
       ".list-inline {list-style: none; margin:0; padding: 0}\n",
       ".list-inline>li {display: inline-block}\n",
       ".list-inline>li:not(:last-child)::after {content: \"\\00b7\"; padding: 0 .5ex}\n",
       "</style>\n",
       "<ol class=list-inline><li>65</li><li>6</li></ol>\n"
      ],
      "text/latex": [
       "\\begin{enumerate*}\n",
       "\\item 65\n",
       "\\item 6\n",
       "\\end{enumerate*}\n"
      ],
      "text/markdown": [
       "1. 65\n",
       "2. 6\n",
       "\n",
       "\n"
      ],
      "text/plain": [
       "[1] 65  6"
      ]
     },
     "metadata": {},
     "output_type": "display_data"
    }
   ],
   "source": [
    "metadata <- read.table(\"/home/yuliya/repos/cosybio/FedProt/data/TMT_data/raw_MaxQuant_reports/Metadata_CosyBio.tsv\",\n",
    "                       header = TRUE, sep = \"\\t\", stringsAsFactors = FALSE)\n",
    "                       \n",
    "metadata <- metadata %>%\n",
    "            mutate(Quantitative.column.name = gsub(\" \", \".\", Quantitative.column.name))\n",
    "\n",
    "rownames(metadata) <- metadata$Quantitative.column.name\n",
    "metadata <- metadata %>%\n",
    "            mutate(Quantitative.column.name = gsub(\".Pool\", \".P_\", gsub(\"Reporter.intensity.corrected.\", \"RIC_\", Quantitative.column.name)))\n",
    "\n",
    "\n",
    "# remove the outlier\n",
    "metadata <- metadata %>%\n",
    "            filter(Quantitative.column.name != \"RIC_3.P_3\")\n",
    "\n",
    "\n",
    "# rename the columns - put the .P_[1-9]+ after dot before and the rest after (e.g. RIC_1.P_1 -> P_1.RIC_1)\n",
    "metadata <- metadata %>%\n",
    "            mutate(Quantitative.column.name = gsub(\"RIC_([0-9]+).P_([0-9]+)\", \"P_\\\\2.RIC_\\\\1\", Quantitative.column.name))\n",
    "\n",
    "\n",
    "head(metadata, 3)\n",
    "dim(metadata)"
   ]
  },
  {
   "cell_type": "code",
   "execution_count": 39,
   "metadata": {
    "vscode": {
     "languageId": "r"
    }
   },
   "outputs": [],
   "source": [
    "preprocess_mxout <- function(path, center_metadata, center){\n",
    "    PG_report <- read.table(\n",
    "        path,\n",
    "        header=T,\n",
    "        sep=\"\\t\",\n",
    "        stringsAsFactors = F)\n",
    "    \n",
    "    # remove decoy matches and matches to contaminant\n",
    "    PG_report <- PG_report[!PG_report$Reverse==\"+\",]\n",
    "    PG_report <- PG_report[!PG_report$Potential.contaminant==\"+\",]\n",
    "    # if the PG_report$Only.identified.by.site is not all NA and contains \"+\" values - remove this rows\n",
    "    if(!all(is.na(PG_report$Only.identified.by.site))) {\n",
    "        # # Only.identified.by.site - exclude proteins that were only identified by a modification site\n",
    "        PG_report <- PG_report[!PG_report$Only.identified.by.site==\"+\",]\n",
    "    }\n",
    "\n",
    "    print(center)\n",
    "    print(length(PG_report$Protein.IDs))\n",
    "    # take only the columns that we need\n",
    "    pg_intensities <- PG_report %>%\n",
    "        select(c(\"Protein.IDs\", \"Gene.names\", rownames(center_metadata))) %>%\n",
    "        rename(Protein.IDs = Protein.IDs)\n",
    "\n",
    "    print(length(pg_intensities$Protein.IDs))\n",
    "\n",
    "    # counts\n",
    "    pg_counts <- PG_report %>%\n",
    "        select(c(\"Protein.IDs\", \"Razor...unique.peptides\")) \n",
    "    rownames(pg_counts) <- pg_counts$Protein.IDs\n",
    "    pg_counts$Protein.IDs <- NULL\n",
    "    pg_counts <- pg_counts + 1\n",
    "\n",
    "    return(list(pg_intensities, pg_counts))    \n",
    "\n",
    "}"
   ]
  },
  {
   "cell_type": "code",
   "execution_count": 40,
   "metadata": {
    "vscode": {
     "languageId": "r"
    }
   },
   "outputs": [
    {
     "name": "stdout",
     "output_type": "stream",
     "text": [
      "[1] \"Center1\"\n",
      "[1] 500\n",
      "[1] 500\n",
      "[1] \"Center2\"\n",
      "[1] 530\n",
      "[1] 530\n",
      "[1] \"Center3\"\n",
      "[1] 456\n",
      "[1] 456\n"
     ]
    },
    {
     "data": {
      "text/html": [
       "<style>\n",
       ".list-inline {list-style: none; margin:0; padding: 0}\n",
       ".list-inline>li {display: inline-block}\n",
       ".list-inline>li:not(:last-child)::after {content: \"\\00b7\"; padding: 0 .5ex}\n",
       "</style>\n",
       "<ol class=list-inline><li>871</li><li>67</li></ol>\n"
      ],
      "text/latex": [
       "\\begin{enumerate*}\n",
       "\\item 871\n",
       "\\item 67\n",
       "\\end{enumerate*}\n"
      ],
      "text/markdown": [
       "1. 871\n",
       "2. 67\n",
       "\n",
       "\n"
      ],
      "text/plain": [
       "[1] 871  67"
      ]
     },
     "metadata": {},
     "output_type": "display_data"
    },
    {
     "data": {
      "text/html": [
       "<style>\n",
       ".list-inline {list-style: none; margin:0; padding: 0}\n",
       ".list-inline>li {display: inline-block}\n",
       ".list-inline>li:not(:last-child)::after {content: \"\\00b7\"; padding: 0 .5ex}\n",
       "</style>\n",
       "<ol class=list-inline><li>871</li><li>67</li></ol>\n"
      ],
      "text/latex": [
       "\\begin{enumerate*}\n",
       "\\item 871\n",
       "\\item 67\n",
       "\\end{enumerate*}\n"
      ],
      "text/markdown": [
       "1. 871\n",
       "2. 67\n",
       "\n",
       "\n"
      ],
      "text/plain": [
       "[1] 871  67"
      ]
     },
     "metadata": {},
     "output_type": "display_data"
    },
    {
     "data": {
      "text/html": [
       "<style>\n",
       ".list-inline {list-style: none; margin:0; padding: 0}\n",
       ".list-inline>li {display: inline-block}\n",
       ".list-inline>li:not(:last-child)::after {content: \"\\00b7\"; padding: 0 .5ex}\n",
       "</style>\n",
       "<ol class=list-inline><li>228</li><li>67</li></ol>\n"
      ],
      "text/latex": [
       "\\begin{enumerate*}\n",
       "\\item 228\n",
       "\\item 67\n",
       "\\end{enumerate*}\n"
      ],
      "text/markdown": [
       "1. 228\n",
       "2. 67\n",
       "\n",
       "\n"
      ],
      "text/plain": [
       "[1] 228  67"
      ]
     },
     "metadata": {},
     "output_type": "display_data"
    },
    {
     "data": {
      "text/html": [
       "<table class=\"dataframe\">\n",
       "<caption>A data.frame: 5 × 67</caption>\n",
       "<thead>\n",
       "\t<tr><th></th><th scope=col>Protein.IDs</th><th scope=col>Gene.names</th><th scope=col>P_1.RIC_1</th><th scope=col>P_1.RIC_2</th><th scope=col>P_1.RIC_3</th><th scope=col>P_1.RIC_4</th><th scope=col>P_1.RIC_5</th><th scope=col>P_1.RIC_6</th><th scope=col>P_1.RIC_7</th><th scope=col>P_1.RIC_8</th><th scope=col>⋯</th><th scope=col>P_6.RIC_2</th><th scope=col>P_6.RIC_3</th><th scope=col>P_6.RIC_4</th><th scope=col>P_6.RIC_5</th><th scope=col>P_6.RIC_6</th><th scope=col>P_6.RIC_7</th><th scope=col>P_6.RIC_8</th><th scope=col>P_6.RIC_9</th><th scope=col>P_6.RIC_10</th><th scope=col>P_6.RIC_11</th></tr>\n",
       "\t<tr><th></th><th scope=col>&lt;chr&gt;</th><th scope=col>&lt;chr&gt;</th><th scope=col>&lt;dbl&gt;</th><th scope=col>&lt;dbl&gt;</th><th scope=col>&lt;dbl&gt;</th><th scope=col>&lt;dbl&gt;</th><th scope=col>&lt;dbl&gt;</th><th scope=col>&lt;dbl&gt;</th><th scope=col>&lt;dbl&gt;</th><th scope=col>&lt;dbl&gt;</th><th scope=col>⋯</th><th scope=col>&lt;dbl&gt;</th><th scope=col>&lt;dbl&gt;</th><th scope=col>&lt;dbl&gt;</th><th scope=col>&lt;dbl&gt;</th><th scope=col>&lt;dbl&gt;</th><th scope=col>&lt;dbl&gt;</th><th scope=col>&lt;dbl&gt;</th><th scope=col>&lt;dbl&gt;</th><th scope=col>&lt;dbl&gt;</th><th scope=col>&lt;dbl&gt;</th></tr>\n",
       "</thead>\n",
       "<tbody>\n",
       "\t<tr><th scope=row>1</th><td>A0A024R6N5;A0A0G2JRN3;G3V2B9;G3V544;G3V5R8;G3V387;A0A0B4J278;P20848               </td><td>                                                         </td><td>1472900.0</td><td>1120700</td><td>1128900</td><td>866950.0</td><td>1190000.0</td><td>934530</td><td>1217200.0</td><td>999950</td><td>⋯</td><td> 82668</td><td> 75290</td><td> 77846</td><td>84484</td><td>91495</td><td>103070</td><td>176440</td><td>1544200</td><td> 92816</td><td> 87081</td></tr>\n",
       "\t<tr><th scope=row>2</th><td>A0A075B6I0                                                                        </td><td>IGLV8-61                                                 </td><td>   5056.4</td><td>  19023</td><td>  10474</td><td>  6561.4</td><td>   6814.2</td><td>  7566</td><td>   6963.3</td><td> 17172</td><td>⋯</td><td>    NA</td><td>    NA</td><td>    NA</td><td>   NA</td><td>   NA</td><td>    NA</td><td>    NA</td><td>     NA</td><td>    NA</td><td>    NA</td></tr>\n",
       "\t<tr><th scope=row>3</th><td>A0A075B6I9;P04211                                                                 </td><td>IGLV7-46                                                 </td><td>   7923.6</td><td>  22406</td><td>  14546</td><td> 18154.0</td><td>  10296.0</td><td> 14781</td><td>   9538.2</td><td> 24929</td><td>⋯</td><td> 83664</td><td>125190</td><td> 65350</td><td>80610</td><td>75906</td><td> 76086</td><td> 87507</td><td>  73270</td><td>109490</td><td> 80759</td></tr>\n",
       "\t<tr><th scope=row>4</th><td>A0A075B6K4;P01715                                                                 </td><td>IGLV3-10                                                 </td><td>   9883.0</td><td>  18581</td><td>  16772</td><td> 11245.0</td><td>  20072.0</td><td> 15921</td><td>  11321.0</td><td> 18452</td><td>⋯</td><td>103080</td><td>130410</td><td>122660</td><td>90457</td><td>76299</td><td> 91018</td><td>114080</td><td> 124650</td><td>197430</td><td>118260</td></tr>\n",
       "\t<tr><th scope=row>5</th><td>A0A075B6P5;A0A087WW87;P01615;P01614;A2NJV5;A0A0A0MRZ7;A0A075B6S6;A0A075B6S2;P06310</td><td>IGKV2D-28;IGKV2-40;IGKV A18;IGKV2D-26;IGKV2D-30;IGKV2D-29</td><td>  38038.0</td><td>  74443</td><td>  38679</td><td> 43767.0</td><td>  40436.0</td><td> 40480</td><td>  42700.0</td><td> 51910</td><td>⋯</td><td>    NA</td><td>    NA</td><td>    NA</td><td>   NA</td><td>   NA</td><td>    NA</td><td>    NA</td><td>     NA</td><td>    NA</td><td>    NA</td></tr>\n",
       "</tbody>\n",
       "</table>\n"
      ],
      "text/latex": [
       "A data.frame: 5 × 67\n",
       "\\begin{tabular}{r|lllllllllllllllllllll}\n",
       "  & Protein.IDs & Gene.names & P\\_1.RIC\\_1 & P\\_1.RIC\\_2 & P\\_1.RIC\\_3 & P\\_1.RIC\\_4 & P\\_1.RIC\\_5 & P\\_1.RIC\\_6 & P\\_1.RIC\\_7 & P\\_1.RIC\\_8 & ⋯ & P\\_6.RIC\\_2 & P\\_6.RIC\\_3 & P\\_6.RIC\\_4 & P\\_6.RIC\\_5 & P\\_6.RIC\\_6 & P\\_6.RIC\\_7 & P\\_6.RIC\\_8 & P\\_6.RIC\\_9 & P\\_6.RIC\\_10 & P\\_6.RIC\\_11\\\\\n",
       "  & <chr> & <chr> & <dbl> & <dbl> & <dbl> & <dbl> & <dbl> & <dbl> & <dbl> & <dbl> & ⋯ & <dbl> & <dbl> & <dbl> & <dbl> & <dbl> & <dbl> & <dbl> & <dbl> & <dbl> & <dbl>\\\\\n",
       "\\hline\n",
       "\t1 & A0A024R6N5;A0A0G2JRN3;G3V2B9;G3V544;G3V5R8;G3V387;A0A0B4J278;P20848                &                                                           & 1472900.0 & 1120700 & 1128900 & 866950.0 & 1190000.0 & 934530 & 1217200.0 & 999950 & ⋯ &  82668 &  75290 &  77846 & 84484 & 91495 & 103070 & 176440 & 1544200 &  92816 &  87081\\\\\n",
       "\t2 & A0A075B6I0                                                                         & IGLV8-61                                                  &    5056.4 &   19023 &   10474 &   6561.4 &    6814.2 &   7566 &    6963.3 &  17172 & ⋯ &     NA &     NA &     NA &    NA &    NA &     NA &     NA &      NA &     NA &     NA\\\\\n",
       "\t3 & A0A075B6I9;P04211                                                                  & IGLV7-46                                                  &    7923.6 &   22406 &   14546 &  18154.0 &   10296.0 &  14781 &    9538.2 &  24929 & ⋯ &  83664 & 125190 &  65350 & 80610 & 75906 &  76086 &  87507 &   73270 & 109490 &  80759\\\\\n",
       "\t4 & A0A075B6K4;P01715                                                                  & IGLV3-10                                                  &    9883.0 &   18581 &   16772 &  11245.0 &   20072.0 &  15921 &   11321.0 &  18452 & ⋯ & 103080 & 130410 & 122660 & 90457 & 76299 &  91018 & 114080 &  124650 & 197430 & 118260\\\\\n",
       "\t5 & A0A075B6P5;A0A087WW87;P01615;P01614;A2NJV5;A0A0A0MRZ7;A0A075B6S6;A0A075B6S2;P06310 & IGKV2D-28;IGKV2-40;IGKV A18;IGKV2D-26;IGKV2D-30;IGKV2D-29 &   38038.0 &   74443 &   38679 &  43767.0 &   40436.0 &  40480 &   42700.0 &  51910 & ⋯ &     NA &     NA &     NA &    NA &    NA &     NA &     NA &      NA &     NA &     NA\\\\\n",
       "\\end{tabular}\n"
      ],
      "text/markdown": [
       "\n",
       "A data.frame: 5 × 67\n",
       "\n",
       "| <!--/--> | Protein.IDs &lt;chr&gt; | Gene.names &lt;chr&gt; | P_1.RIC_1 &lt;dbl&gt; | P_1.RIC_2 &lt;dbl&gt; | P_1.RIC_3 &lt;dbl&gt; | P_1.RIC_4 &lt;dbl&gt; | P_1.RIC_5 &lt;dbl&gt; | P_1.RIC_6 &lt;dbl&gt; | P_1.RIC_7 &lt;dbl&gt; | P_1.RIC_8 &lt;dbl&gt; | ⋯ ⋯ | P_6.RIC_2 &lt;dbl&gt; | P_6.RIC_3 &lt;dbl&gt; | P_6.RIC_4 &lt;dbl&gt; | P_6.RIC_5 &lt;dbl&gt; | P_6.RIC_6 &lt;dbl&gt; | P_6.RIC_7 &lt;dbl&gt; | P_6.RIC_8 &lt;dbl&gt; | P_6.RIC_9 &lt;dbl&gt; | P_6.RIC_10 &lt;dbl&gt; | P_6.RIC_11 &lt;dbl&gt; |\n",
       "|---|---|---|---|---|---|---|---|---|---|---|---|---|---|---|---|---|---|---|---|---|---|\n",
       "| 1 | A0A024R6N5;A0A0G2JRN3;G3V2B9;G3V544;G3V5R8;G3V387;A0A0B4J278;P20848                | <!----> | 1472900.0 | 1120700 | 1128900 | 866950.0 | 1190000.0 | 934530 | 1217200.0 | 999950 | ⋯ |  82668 |  75290 |  77846 | 84484 | 91495 | 103070 | 176440 | 1544200 |  92816 |  87081 |\n",
       "| 2 | A0A075B6I0                                                                         | IGLV8-61                                                  |    5056.4 |   19023 |   10474 |   6561.4 |    6814.2 |   7566 |    6963.3 |  17172 | ⋯ |     NA |     NA |     NA |    NA |    NA |     NA |     NA |      NA |     NA |     NA |\n",
       "| 3 | A0A075B6I9;P04211                                                                  | IGLV7-46                                                  |    7923.6 |   22406 |   14546 |  18154.0 |   10296.0 |  14781 |    9538.2 |  24929 | ⋯ |  83664 | 125190 |  65350 | 80610 | 75906 |  76086 |  87507 |   73270 | 109490 |  80759 |\n",
       "| 4 | A0A075B6K4;P01715                                                                  | IGLV3-10                                                  |    9883.0 |   18581 |   16772 |  11245.0 |   20072.0 |  15921 |   11321.0 |  18452 | ⋯ | 103080 | 130410 | 122660 | 90457 | 76299 |  91018 | 114080 |  124650 | 197430 | 118260 |\n",
       "| 5 | A0A075B6P5;A0A087WW87;P01615;P01614;A2NJV5;A0A0A0MRZ7;A0A075B6S6;A0A075B6S2;P06310 | IGKV2D-28;IGKV2-40;IGKV A18;IGKV2D-26;IGKV2D-30;IGKV2D-29 |   38038.0 |   74443 |   38679 |  43767.0 |   40436.0 |  40480 |   42700.0 |  51910 | ⋯ |     NA |     NA |     NA |    NA |    NA |     NA |     NA |      NA |     NA |     NA |\n",
       "\n"
      ],
      "text/plain": [
       "  Protein.IDs                                                                       \n",
       "1 A0A024R6N5;A0A0G2JRN3;G3V2B9;G3V544;G3V5R8;G3V387;A0A0B4J278;P20848               \n",
       "2 A0A075B6I0                                                                        \n",
       "3 A0A075B6I9;P04211                                                                 \n",
       "4 A0A075B6K4;P01715                                                                 \n",
       "5 A0A075B6P5;A0A087WW87;P01615;P01614;A2NJV5;A0A0A0MRZ7;A0A075B6S6;A0A075B6S2;P06310\n",
       "  Gene.names                                                P_1.RIC_1 P_1.RIC_2\n",
       "1                                                           1472900.0 1120700  \n",
       "2 IGLV8-61                                                     5056.4   19023  \n",
       "3 IGLV7-46                                                     7923.6   22406  \n",
       "4 IGLV3-10                                                     9883.0   18581  \n",
       "5 IGKV2D-28;IGKV2-40;IGKV A18;IGKV2D-26;IGKV2D-30;IGKV2D-29   38038.0   74443  \n",
       "  P_1.RIC_3 P_1.RIC_4 P_1.RIC_5 P_1.RIC_6 P_1.RIC_7 P_1.RIC_8 ⋯ P_6.RIC_2\n",
       "1 1128900   866950.0  1190000.0 934530    1217200.0 999950    ⋯  82668   \n",
       "2   10474     6561.4     6814.2   7566       6963.3  17172    ⋯     NA   \n",
       "3   14546    18154.0    10296.0  14781       9538.2  24929    ⋯  83664   \n",
       "4   16772    11245.0    20072.0  15921      11321.0  18452    ⋯ 103080   \n",
       "5   38679    43767.0    40436.0  40480      42700.0  51910    ⋯     NA   \n",
       "  P_6.RIC_3 P_6.RIC_4 P_6.RIC_5 P_6.RIC_6 P_6.RIC_7 P_6.RIC_8 P_6.RIC_9\n",
       "1  75290     77846    84484     91495     103070    176440    1544200  \n",
       "2     NA        NA       NA        NA         NA        NA         NA  \n",
       "3 125190     65350    80610     75906      76086     87507      73270  \n",
       "4 130410    122660    90457     76299      91018    114080     124650  \n",
       "5     NA        NA       NA        NA         NA        NA         NA  \n",
       "  P_6.RIC_10 P_6.RIC_11\n",
       "1  92816      87081    \n",
       "2     NA         NA    \n",
       "3 109490      80759    \n",
       "4 197430     118260    \n",
       "5     NA         NA    "
      ]
     },
     "metadata": {},
     "output_type": "display_data"
    }
   ],
   "source": [
    "list_of_outputs <- list(\n",
    "    \"Center1\" = \"/home/yuliya/repos/cosybio/FedProt/data/TMT_data/raw_MaxQuant_reports/proteinGroups_center1.txt\",\n",
    "    \"Center2\" = \"/home/yuliya/repos/cosybio/FedProt/data/TMT_data/raw_MaxQuant_reports/proteinGroups_center2.txt\",\n",
    "    \"Center3\" = \"/home/yuliya/repos/cosybio/FedProt/data/TMT_data/raw_MaxQuant_reports/proteinGroups_center3.txt\"\n",
    ")\n",
    "\n",
    "combined_pg_intensities <- data.frame()\n",
    "\n",
    "for(center in names(list_of_outputs)) {\n",
    "\n",
    "    center_metadata <- metadata %>%\n",
    "        filter(Center == center)\n",
    "\n",
    "    center_folder <- ifelse(center == \"Center1\", \"center_one\", ifelse(center == \"Center2\", \"center_two\", \"center_three\"))\n",
    "    results_list <- preprocess_mxout(list_of_outputs[[center]], center_metadata, center)\n",
    "    pg_intensities <- results_list[[1]]\n",
    "    counts_df <- results_list[[2]]\n",
    "\n",
    "    pg_intensities <- pg_intensities[, c(\"Protein.IDs\", \"Gene.names\", rownames(center_metadata))]\n",
    "    colnames(pg_intensities) <- c(\"Protein.IDs\", \"Gene.names\", center_metadata$Quantitative.column.name)\n",
    "    pg_intensities %>% write.table(paste0(\"/home/yuliya/repos/cosybio/FedProt/data/TMT_data/balanced_data/\", center_folder, \"/pg_intensities.tsv\"),\n",
    "                                   sep = \"\\t\", quote = FALSE, row.names = FALSE)\n",
    "\n",
    "    counts_df %>% write.table(paste0(\"/home/yuliya/repos/cosybio/FedProt/data/TMT_data/balanced_data/\", center_folder, \"/pg_counts.tsv\"),\n",
    "                                      sep = \"\\t\", quote = FALSE, row.names = TRUE)\n",
    "\n",
    "\n",
    "    write.table(metadata[metadata$Center == center,], \n",
    "                paste0(\"/home/yuliya/repos/cosybio/FedProt/data/TMT_data/balanced_data/\", center_folder, \"/metadata.tsv\"),\n",
    "                sep = \"\\t\", quote = FALSE, row.names = FALSE)\n",
    "\n",
    "\n",
    "    if(!(nrow(combined_pg_intensities) == 0)) {\n",
    "        combined_pg_intensities <- full_join(combined_pg_intensities, pg_intensities, by = c(\"Protein.IDs\", \"Gene.names\"))\n",
    "    } else {\n",
    "        combined_pg_intensities <- pg_intensities\n",
    "    }\n",
    "}\n",
    "\n",
    "\n",
    "dim(combined_pg_intensities)\n",
    "\n",
    "# rownames(combined_pg_intensities) <- combined_pg_intensities$Protein.IDs\n",
    "# combined_pg_intensities$Protein.IDs <- NULL\n",
    "\n",
    "# order the columns\n",
    "combined_pg_intensities <- combined_pg_intensities[, c(\"Protein.IDs\", \"Gene.names\", metadata$Quantitative.column.name)]\n",
    "# combined_pg_intensities <- combined_pg_intensities[!rowSums(combined_pg_intensities, na.rm = TRUE) == 0,]\n",
    "# combined_pg_intensities[combined_pg_intensities==0] <- NA\n",
    "# remove rows with all values are NA\n",
    "# combined_pg_intensities <- combined_pg_intensities[!rowSums(!is.na(combined_pg_intensities)) == 0,]\n",
    "\n",
    "# write merged data\n",
    "combined_pg_intensities %>% write.table(\"/home/yuliya/repos/cosybio/FedProt/data/TMT_data/balanced_data/combined/combined_pg_intensities.tsv\",\n",
    "                               sep = \"\\t\", quote = FALSE, row.names = FALSE)\n",
    "\n",
    "dim(combined_pg_intensities)\n",
    "dim(na.omit(combined_pg_intensities))\n",
    "head(combined_pg_intensities, 5)\n",
    "\n",
    "\n"
   ]
  },
  {
   "cell_type": "code",
   "execution_count": 36,
   "metadata": {
    "vscode": {
     "languageId": "r"
    }
   },
   "outputs": [
    {
     "data": {
      "text/html": [
       "<table class=\"dataframe\">\n",
       "<caption>A data.frame: 3 × 67</caption>\n",
       "<thead>\n",
       "\t<tr><th scope=col>Protein.IDs</th><th scope=col>Gene.names</th><th scope=col>P_1.RIC_1</th><th scope=col>P_1.RIC_2</th><th scope=col>P_1.RIC_3</th><th scope=col>P_1.RIC_4</th><th scope=col>P_1.RIC_5</th><th scope=col>P_1.RIC_6</th><th scope=col>P_1.RIC_7</th><th scope=col>P_1.RIC_8</th><th scope=col>⋯</th><th scope=col>P_6.RIC_2</th><th scope=col>P_6.RIC_3</th><th scope=col>P_6.RIC_4</th><th scope=col>P_6.RIC_5</th><th scope=col>P_6.RIC_6</th><th scope=col>P_6.RIC_7</th><th scope=col>P_6.RIC_8</th><th scope=col>P_6.RIC_9</th><th scope=col>P_6.RIC_10</th><th scope=col>P_6.RIC_11</th></tr>\n",
       "\t<tr><th scope=col>&lt;chr&gt;</th><th scope=col>&lt;chr&gt;</th><th scope=col>&lt;dbl&gt;</th><th scope=col>&lt;dbl&gt;</th><th scope=col>&lt;dbl&gt;</th><th scope=col>&lt;dbl&gt;</th><th scope=col>&lt;dbl&gt;</th><th scope=col>&lt;dbl&gt;</th><th scope=col>&lt;dbl&gt;</th><th scope=col>&lt;dbl&gt;</th><th scope=col>⋯</th><th scope=col>&lt;dbl&gt;</th><th scope=col>&lt;dbl&gt;</th><th scope=col>&lt;dbl&gt;</th><th scope=col>&lt;dbl&gt;</th><th scope=col>&lt;dbl&gt;</th><th scope=col>&lt;dbl&gt;</th><th scope=col>&lt;dbl&gt;</th><th scope=col>&lt;dbl&gt;</th><th scope=col>&lt;dbl&gt;</th><th scope=col>&lt;dbl&gt;</th></tr>\n",
       "</thead>\n",
       "<tbody>\n",
       "\t<tr><td>Q92954              </td><td>PRG4</td><td>402200</td><td>269880</td><td>336590</td><td>289450</td><td>469030</td><td>284130</td><td>400010</td><td>207440</td><td>⋯</td><td>     NA</td><td>     NA</td><td>     NA</td><td>     NA</td><td>     NA</td><td>     NA</td><td>     NA</td><td>     NA</td><td>     NA</td><td>     NA</td></tr>\n",
       "\t<tr><td>Q92954;E9PLR3       </td><td>PRG4</td><td>    NA</td><td>    NA</td><td>    NA</td><td>    NA</td><td>    NA</td><td>    NA</td><td>    NA</td><td>    NA</td><td>⋯</td><td>     NA</td><td>     NA</td><td>     NA</td><td>     NA</td><td>     NA</td><td>     NA</td><td>     NA</td><td>     NA</td><td>     NA</td><td>     NA</td></tr>\n",
       "\t<tr><td>Q92954;J3KP74;E9PLR3</td><td>PRG4</td><td>    NA</td><td>    NA</td><td>    NA</td><td>    NA</td><td>    NA</td><td>    NA</td><td>    NA</td><td>    NA</td><td>⋯</td><td>3637100</td><td>2530500</td><td>4078300</td><td>4709300</td><td>3231900</td><td>3917500</td><td>3063200</td><td>3768100</td><td>3268600</td><td>2817200</td></tr>\n",
       "</tbody>\n",
       "</table>\n"
      ],
      "text/latex": [
       "A data.frame: 3 × 67\n",
       "\\begin{tabular}{lllllllllllllllllllll}\n",
       " Protein.IDs & Gene.names & P\\_1.RIC\\_1 & P\\_1.RIC\\_2 & P\\_1.RIC\\_3 & P\\_1.RIC\\_4 & P\\_1.RIC\\_5 & P\\_1.RIC\\_6 & P\\_1.RIC\\_7 & P\\_1.RIC\\_8 & ⋯ & P\\_6.RIC\\_2 & P\\_6.RIC\\_3 & P\\_6.RIC\\_4 & P\\_6.RIC\\_5 & P\\_6.RIC\\_6 & P\\_6.RIC\\_7 & P\\_6.RIC\\_8 & P\\_6.RIC\\_9 & P\\_6.RIC\\_10 & P\\_6.RIC\\_11\\\\\n",
       " <chr> & <chr> & <dbl> & <dbl> & <dbl> & <dbl> & <dbl> & <dbl> & <dbl> & <dbl> & ⋯ & <dbl> & <dbl> & <dbl> & <dbl> & <dbl> & <dbl> & <dbl> & <dbl> & <dbl> & <dbl>\\\\\n",
       "\\hline\n",
       "\t Q92954               & PRG4 & 402200 & 269880 & 336590 & 289450 & 469030 & 284130 & 400010 & 207440 & ⋯ &      NA &      NA &      NA &      NA &      NA &      NA &      NA &      NA &      NA &      NA\\\\\n",
       "\t Q92954;E9PLR3        & PRG4 &     NA &     NA &     NA &     NA &     NA &     NA &     NA &     NA & ⋯ &      NA &      NA &      NA &      NA &      NA &      NA &      NA &      NA &      NA &      NA\\\\\n",
       "\t Q92954;J3KP74;E9PLR3 & PRG4 &     NA &     NA &     NA &     NA &     NA &     NA &     NA &     NA & ⋯ & 3637100 & 2530500 & 4078300 & 4709300 & 3231900 & 3917500 & 3063200 & 3768100 & 3268600 & 2817200\\\\\n",
       "\\end{tabular}\n"
      ],
      "text/markdown": [
       "\n",
       "A data.frame: 3 × 67\n",
       "\n",
       "| Protein.IDs &lt;chr&gt; | Gene.names &lt;chr&gt; | P_1.RIC_1 &lt;dbl&gt; | P_1.RIC_2 &lt;dbl&gt; | P_1.RIC_3 &lt;dbl&gt; | P_1.RIC_4 &lt;dbl&gt; | P_1.RIC_5 &lt;dbl&gt; | P_1.RIC_6 &lt;dbl&gt; | P_1.RIC_7 &lt;dbl&gt; | P_1.RIC_8 &lt;dbl&gt; | ⋯ ⋯ | P_6.RIC_2 &lt;dbl&gt; | P_6.RIC_3 &lt;dbl&gt; | P_6.RIC_4 &lt;dbl&gt; | P_6.RIC_5 &lt;dbl&gt; | P_6.RIC_6 &lt;dbl&gt; | P_6.RIC_7 &lt;dbl&gt; | P_6.RIC_8 &lt;dbl&gt; | P_6.RIC_9 &lt;dbl&gt; | P_6.RIC_10 &lt;dbl&gt; | P_6.RIC_11 &lt;dbl&gt; |\n",
       "|---|---|---|---|---|---|---|---|---|---|---|---|---|---|---|---|---|---|---|---|---|\n",
       "| Q92954               | PRG4 | 402200 | 269880 | 336590 | 289450 | 469030 | 284130 | 400010 | 207440 | ⋯ |      NA |      NA |      NA |      NA |      NA |      NA |      NA |      NA |      NA |      NA |\n",
       "| Q92954;E9PLR3        | PRG4 |     NA |     NA |     NA |     NA |     NA |     NA |     NA |     NA | ⋯ |      NA |      NA |      NA |      NA |      NA |      NA |      NA |      NA |      NA |      NA |\n",
       "| Q92954;J3KP74;E9PLR3 | PRG4 |     NA |     NA |     NA |     NA |     NA |     NA |     NA |     NA | ⋯ | 3637100 | 2530500 | 4078300 | 4709300 | 3231900 | 3917500 | 3063200 | 3768100 | 3268600 | 2817200 |\n",
       "\n"
      ],
      "text/plain": [
       "  Protein.IDs          Gene.names P_1.RIC_1 P_1.RIC_2 P_1.RIC_3 P_1.RIC_4\n",
       "1 Q92954               PRG4       402200    269880    336590    289450   \n",
       "2 Q92954;E9PLR3        PRG4           NA        NA        NA        NA   \n",
       "3 Q92954;J3KP74;E9PLR3 PRG4           NA        NA        NA        NA   \n",
       "  P_1.RIC_5 P_1.RIC_6 P_1.RIC_7 P_1.RIC_8 ⋯ P_6.RIC_2 P_6.RIC_3 P_6.RIC_4\n",
       "1 469030    284130    400010    207440    ⋯      NA        NA        NA  \n",
       "2     NA        NA        NA        NA    ⋯      NA        NA        NA  \n",
       "3     NA        NA        NA        NA    ⋯ 3637100   2530500   4078300  \n",
       "  P_6.RIC_5 P_6.RIC_6 P_6.RIC_7 P_6.RIC_8 P_6.RIC_9 P_6.RIC_10 P_6.RIC_11\n",
       "1      NA        NA        NA        NA        NA        NA         NA   \n",
       "2      NA        NA        NA        NA        NA        NA         NA   \n",
       "3 4709300   3231900   3917500   3063200   3768100   3268600    2817200   "
      ]
     },
     "metadata": {},
     "output_type": "display_data"
    }
   ],
   "source": [
    "combined_pg_intensities %>%\n",
    "    filter(str_detect(Protein.IDs, \"Q92954\"))"
   ]
  },
  {
   "cell_type": "code",
   "execution_count": 78,
   "metadata": {
    "vscode": {
     "languageId": "r"
    }
   },
   "outputs": [],
   "source": [
    "rownames(metadata) <- metadata$Quantitative.column.name\n",
    "metadata <- metadata %>%\n",
    "    mutate(Group = as.factor(Group), Center = as.factor(Center), Reporter.ion = as.factor(Reporter.ion)) %>%\n",
    "    mutate(Quantitative.column.name = gsub(\" \", \".\", Quantitative.column.name))"
   ]
  },
  {
   "cell_type": "code",
   "execution_count": 79,
   "metadata": {
    "vscode": {
     "languageId": "r"
    }
   },
   "outputs": [
    {
     "name": "stderr",
     "output_type": "stream",
     "text": [
      "\u001b[1m\u001b[22mSaving 6.67 x 6.67 in image\n",
      "Warning message:\n",
      "“\u001b[1m\u001b[22mRemoved 25424 rows containing non-finite values (`stat_boxplot()`).”\n",
      "Warning message:\n",
      "“\u001b[1m\u001b[22mRemoved 25424 rows containing non-finite values (`stat_summary()`).”\n",
      "Warning message:\n",
      "“\u001b[1m\u001b[22mRemoved 25424 rows containing non-finite values (`stat_boxplot()`).”\n",
      "Warning message:\n",
      "“\u001b[1m\u001b[22mRemoved 25424 rows containing non-finite values (`stat_summary()`).”\n",
      "Warning message:\n",
      "“Graphs cannot be vertically aligned unless the axis parameter is set. Placing graphs unaligned.”\n"
     ]
    }
   ],
   "source": [
    "plot_three_in_one(log2(combined_pg_intensities + 1),\n",
    "                  metadata,\n",
    "                  \"TMT-data, Combined, raw protein intensities, log2-transformed\", # nolint: line_length_linter.\n",
    "                  \"/home/yuliya/repos/cosybio/FedProt/data/TMT_data/balanced_data/combined/plots/01_pg_intensities_raw_log\")\n",
    "                  "
   ]
  },
  {
   "cell_type": "code",
   "execution_count": 80,
   "metadata": {
    "vscode": {
     "languageId": "r"
    }
   },
   "outputs": [
    {
     "name": "stderr",
     "output_type": "stream",
     "text": [
      "\u001b[1m\u001b[22m`summarise()` has grouped output by 'Center', 'Pool'. You can override using\n",
      "the `.groups` argument.\n",
      "\u001b[1m\u001b[22m`summarise()` has grouped output by 'Center'. You can override using the\n",
      "`.groups` argument.\n"
     ]
    },
    {
     "data": {
      "text/html": [
       "<table class=\"dataframe\">\n",
       "<caption>A grouped_df: 6 × 4</caption>\n",
       "<thead>\n",
       "\t<tr><th scope=col>Center</th><th scope=col>Pool</th><th scope=col>mean_sample_sum</th><th scope=col>mean_sample_mean</th></tr>\n",
       "\t<tr><th scope=col>&lt;fct&gt;</th><th scope=col>&lt;chr&gt;</th><th scope=col>&lt;dbl&gt;</th><th scope=col>&lt;dbl&gt;</th></tr>\n",
       "</thead>\n",
       "<tbody>\n",
       "\t<tr><td>Center1</td><td>Pool1</td><td> 161241703</td><td> 332520.3</td></tr>\n",
       "\t<tr><td>Center1</td><td>Pool2</td><td> 149341133</td><td> 315065.7</td></tr>\n",
       "\t<tr><td>Center2</td><td>Pool3</td><td> 407628918</td><td> 867295.6</td></tr>\n",
       "\t<tr><td>Center2</td><td>Pool5</td><td> 384075724</td><td> 757545.8</td></tr>\n",
       "\t<tr><td>Center3</td><td>Pool4</td><td>2038351249</td><td>5077746.8</td></tr>\n",
       "\t<tr><td>Center3</td><td>Pool6</td><td>2619711157</td><td>6195940.8</td></tr>\n",
       "</tbody>\n",
       "</table>\n"
      ],
      "text/latex": [
       "A grouped\\_df: 6 × 4\n",
       "\\begin{tabular}{llll}\n",
       " Center & Pool & mean\\_sample\\_sum & mean\\_sample\\_mean\\\\\n",
       " <fct> & <chr> & <dbl> & <dbl>\\\\\n",
       "\\hline\n",
       "\t Center1 & Pool1 &  161241703 &  332520.3\\\\\n",
       "\t Center1 & Pool2 &  149341133 &  315065.7\\\\\n",
       "\t Center2 & Pool3 &  407628918 &  867295.6\\\\\n",
       "\t Center2 & Pool5 &  384075724 &  757545.8\\\\\n",
       "\t Center3 & Pool4 & 2038351249 & 5077746.8\\\\\n",
       "\t Center3 & Pool6 & 2619711157 & 6195940.8\\\\\n",
       "\\end{tabular}\n"
      ],
      "text/markdown": [
       "\n",
       "A grouped_df: 6 × 4\n",
       "\n",
       "| Center &lt;fct&gt; | Pool &lt;chr&gt; | mean_sample_sum &lt;dbl&gt; | mean_sample_mean &lt;dbl&gt; |\n",
       "|---|---|---|---|\n",
       "| Center1 | Pool1 |  161241703 |  332520.3 |\n",
       "| Center1 | Pool2 |  149341133 |  315065.7 |\n",
       "| Center2 | Pool3 |  407628918 |  867295.6 |\n",
       "| Center2 | Pool5 |  384075724 |  757545.8 |\n",
       "| Center3 | Pool4 | 2038351249 | 5077746.8 |\n",
       "| Center3 | Pool6 | 2619711157 | 6195940.8 |\n",
       "\n"
      ],
      "text/plain": [
       "  Center  Pool  mean_sample_sum mean_sample_mean\n",
       "1 Center1 Pool1  161241703       332520.3       \n",
       "2 Center1 Pool2  149341133       315065.7       \n",
       "3 Center2 Pool3  407628918       867295.6       \n",
       "4 Center2 Pool5  384075724       757545.8       \n",
       "5 Center3 Pool4 2038351249      5077746.8       \n",
       "6 Center3 Pool6 2619711157      6195940.8       "
      ]
     },
     "metadata": {},
     "output_type": "display_data"
    }
   ],
   "source": [
    "# print(format(round(colSums(pg_intensities, na.rm = TRUE), digits = 0), big.mark = \",\"))\n",
    "\n",
    "# the same using tidyverse and summarize function\n",
    "combined_pg_intensities %>%\n",
    "    # summarize(across(everything(), ~sum(., na.rm = TRUE))) %>%\n",
    "    pivot_longer(cols = everything(), \n",
    "                 names_to = \"Quantitative.column.name\", \n",
    "                 values_to = \"Value\") %>%\n",
    "    na.omit() %>%\n",
    "    left_join(select(metadata, c(Quantitative.column.name, Pool, Center)), by = 'Quantitative.column.name') %>%\n",
    "    group_by(Center, Pool, Quantitative.column.name) %>%\n",
    "    summarize(sum = sum(Value, na.rm = TRUE), mean = mean(Value, na.rm = TRUE)) %>%\n",
    "    group_by(Center, Pool) %>%\n",
    "    summarise(mean_sample_sum = mean(sum), mean_sample_mean = mean(mean))"
   ]
  },
  {
   "cell_type": "code",
   "execution_count": 81,
   "metadata": {
    "vscode": {
     "languageId": "r"
    }
   },
   "outputs": [
    {
     "data": {
      "text/html": [
       "<style>\n",
       ".list-inline {list-style: none; margin:0; padding: 0}\n",
       ".list-inline>li {display: inline-block}\n",
       ".list-inline>li:not(:last-child)::after {content: \"\\00b7\"; padding: 0 .5ex}\n",
       "</style>\n",
       "<ol class=list-inline><li>200</li><li>65</li></ol>\n"
      ],
      "text/latex": [
       "\\begin{enumerate*}\n",
       "\\item 200\n",
       "\\item 65\n",
       "\\end{enumerate*}\n"
      ],
      "text/markdown": [
       "1. 200\n",
       "2. 65\n",
       "\n",
       "\n"
      ],
      "text/plain": [
       "[1] 200  65"
      ]
     },
     "metadata": {},
     "output_type": "display_data"
    }
   ],
   "source": [
    "dim(na.omit(combined_pg_intensities))"
   ]
  },
  {
   "cell_type": "markdown",
   "metadata": {},
   "source": [
    "### iRS - median  - BEC"
   ]
  },
  {
   "cell_type": "code",
   "execution_count": 82,
   "metadata": {
    "vscode": {
     "languageId": "r"
    }
   },
   "outputs": [
    {
     "data": {
      "text/html": [
       "<style>\n",
       ".list-inline {list-style: none; margin:0; padding: 0}\n",
       ".list-inline>li {display: inline-block}\n",
       ".list-inline>li:not(:last-child)::after {content: \"\\00b7\"; padding: 0 .5ex}\n",
       "</style>\n",
       "<ol class=list-inline><li>851</li><li>65</li></ol>\n"
      ],
      "text/latex": [
       "\\begin{enumerate*}\n",
       "\\item 851\n",
       "\\item 65\n",
       "\\end{enumerate*}\n"
      ],
      "text/markdown": [
       "1. 851\n",
       "2. 65\n",
       "\n",
       "\n"
      ],
      "text/plain": [
       "[1] 851  65"
      ]
     },
     "metadata": {},
     "output_type": "display_data"
    },
    {
     "data": {
      "text/html": [
       "45.962"
      ],
      "text/latex": [
       "45.962"
      ],
      "text/markdown": [
       "45.962"
      ],
      "text/plain": [
       "[1] 45.962"
      ]
     },
     "metadata": {},
     "output_type": "display_data"
    },
    {
     "name": "stderr",
     "output_type": "stream",
     "text": [
      "\u001b[1m\u001b[22mSaving 6.67 x 6.67 in image\n",
      "Warning message:\n",
      "“\u001b[1m\u001b[22mRemoved 25424 rows containing non-finite values (`stat_boxplot()`).”\n",
      "Warning message:\n",
      "“\u001b[1m\u001b[22mRemoved 25424 rows containing non-finite values (`stat_summary()`).”\n",
      "Warning message:\n",
      "“\u001b[1m\u001b[22mRemoved 25424 rows containing non-finite values (`stat_boxplot()`).”\n",
      "Warning message:\n",
      "“\u001b[1m\u001b[22mRemoved 25424 rows containing non-finite values (`stat_summary()`).”\n",
      "Warning message:\n",
      "“Graphs cannot be vertically aligned unless the axis parameter is set. Placing graphs unaligned.”\n"
     ]
    }
   ],
   "source": [
    "intensities_scaled <- iRS_function(combined_pg_intensities, metadata)\n",
    "\n",
    "dim(intensities_scaled)\n",
    "round(sum(is.na(intensities_scaled)) * 100 / (dim(intensities_scaled)[1] * dim(intensities_scaled)[2]), 3)\n",
    "\n",
    "plot_three_in_one(log2(intensities_scaled + 1),\n",
    "                  metadata,\n",
    "                  \"TMT, Combined, iRS-scaled protein intensities, log2-transformed\",\n",
    "                  \"/home/yuliya/repos/cosybio/FedProt/data/TMT_data/balanced_data/combined/plots/02_pg_intensities_irs_log\")\n",
    "                  "
   ]
  },
  {
   "cell_type": "code",
   "execution_count": 83,
   "metadata": {
    "vscode": {
     "languageId": "r"
    }
   },
   "outputs": [
    {
     "data": {
      "text/html": [
       "<style>\n",
       ".list-inline {list-style: none; margin:0; padding: 0}\n",
       ".list-inline>li {display: inline-block}\n",
       ".list-inline>li:not(:last-child)::after {content: \"\\00b7\"; padding: 0 .5ex}\n",
       "</style>\n",
       "<ol class=list-inline><li>851</li><li>65</li></ol>\n"
      ],
      "text/latex": [
       "\\begin{enumerate*}\n",
       "\\item 851\n",
       "\\item 65\n",
       "\\end{enumerate*}\n"
      ],
      "text/markdown": [
       "1. 851\n",
       "2. 65\n",
       "\n",
       "\n"
      ],
      "text/plain": [
       "[1] 851  65"
      ]
     },
     "metadata": {},
     "output_type": "display_data"
    },
    {
     "data": {
      "text/html": [
       "45.962"
      ],
      "text/latex": [
       "45.962"
      ],
      "text/markdown": [
       "45.962"
      ],
      "text/plain": [
       "[1] 45.962"
      ]
     },
     "metadata": {},
     "output_type": "display_data"
    },
    {
     "name": "stderr",
     "output_type": "stream",
     "text": [
      "\u001b[1m\u001b[22mSaving 6.67 x 6.67 in image\n",
      "Warning message:\n",
      "“\u001b[1m\u001b[22mRemoved 25424 rows containing non-finite values (`stat_boxplot()`).”\n",
      "Warning message:\n",
      "“\u001b[1m\u001b[22mRemoved 25424 rows containing non-finite values (`stat_summary()`).”\n",
      "Warning message:\n",
      "“\u001b[1m\u001b[22mRemoved 25424 rows containing non-finite values (`stat_boxplot()`).”\n",
      "Warning message:\n",
      "“\u001b[1m\u001b[22mRemoved 25424 rows containing non-finite values (`stat_summary()`).”\n",
      "Warning message:\n",
      "“Graphs cannot be vertically aligned unless the axis parameter is set. Placing graphs unaligned.”\n"
     ]
    }
   ],
   "source": [
    "intensities_scaled_norm <- median_noramlization(intensities_scaled, log_normalized = FALSE)\n",
    "\n",
    "dim(intensities_scaled_norm)\n",
    "round(sum(is.na(intensities_scaled_norm)) * 100 / (dim(intensities_scaled_norm)[1] * dim(intensities_scaled_norm)[2]), 3)\n",
    "\n",
    "plot_three_in_one(intensities_scaled_norm,\n",
    "                  metadata,\n",
    "                  \"TMT, Combined, iRScaled, Median norm intensities, log2-transformed\",\n",
    "                  \"/home/yuliya/repos/cosybio/FedProt/data/TMT_data/balanced_data/combined/plots/03_pg_intensities_irs_median_log\")"
   ]
  },
  {
   "cell_type": "code",
   "execution_count": 84,
   "metadata": {
    "vscode": {
     "languageId": "r"
    }
   },
   "outputs": [
    {
     "name": "stderr",
     "output_type": "stream",
     "text": [
      "Warning message:\n",
      "“Partial NA coefficients for 647 probe(s)”\n"
     ]
    },
    {
     "data": {
      "text/html": [
       "<style>\n",
       ".list-inline {list-style: none; margin:0; padding: 0}\n",
       ".list-inline>li {display: inline-block}\n",
       ".list-inline>li:not(:last-child)::after {content: \"\\00b7\"; padding: 0 .5ex}\n",
       "</style>\n",
       "<ol class=list-inline><li>851</li><li>65</li></ol>\n"
      ],
      "text/latex": [
       "\\begin{enumerate*}\n",
       "\\item 851\n",
       "\\item 65\n",
       "\\end{enumerate*}\n"
      ],
      "text/markdown": [
       "1. 851\n",
       "2. 65\n",
       "\n",
       "\n"
      ],
      "text/plain": [
       "[1] 851  65"
      ]
     },
     "metadata": {},
     "output_type": "display_data"
    },
    {
     "data": {
      "text/html": [
       "45.962"
      ],
      "text/latex": [
       "45.962"
      ],
      "text/markdown": [
       "45.962"
      ],
      "text/plain": [
       "[1] 45.962"
      ]
     },
     "metadata": {},
     "output_type": "display_data"
    },
    {
     "name": "stderr",
     "output_type": "stream",
     "text": [
      "\u001b[1m\u001b[22mSaving 6.67 x 6.67 in image\n",
      "Warning message:\n",
      "“\u001b[1m\u001b[22mRemoved 25424 rows containing non-finite values (`stat_boxplot()`).”\n",
      "Warning message:\n",
      "“\u001b[1m\u001b[22mRemoved 25424 rows containing non-finite values (`stat_summary()`).”\n",
      "Warning message:\n",
      "“\u001b[1m\u001b[22mRemoved 25424 rows containing non-finite values (`stat_boxplot()`).”\n",
      "Warning message:\n",
      "“\u001b[1m\u001b[22mRemoved 25424 rows containing non-finite values (`stat_summary()`).”\n",
      "Warning message:\n",
      "“Graphs cannot be vertically aligned unless the axis parameter is set. Placing graphs unaligned.”\n"
     ]
    }
   ],
   "source": [
    "# bacth effects correction\n",
    "\n",
    "design <- model.matrix(~0 + metadata$Group)\n",
    "corrected_irs <- limma::removeBatchEffect(intensities_scaled_norm, \n",
    "    batch2 = metadata$Pool, \n",
    "    design = design)\n",
    "\n",
    "\n",
    "\n",
    "dim(corrected_irs)\n",
    "round(sum(is.na(corrected_irs)) * 100 / (dim(corrected_irs)[1] * dim(corrected_irs)[2]), 3)\n",
    "\n",
    "plot_three_in_one(as.data.frame(corrected_irs),\n",
    "                  metadata,\n",
    "                  \"TMT, Combined, iRScaled, Median norm, BEC intensities, log2-transformed\",\n",
    "                   \"/home/yuliya/repos/cosybio/FedProt/data/TMT_data/balanced_data/combined/plots/04_pg_intensities_irs_median_log_BEC\")"
   ]
  },
  {
   "cell_type": "code",
   "execution_count": null,
   "metadata": {
    "vscode": {
     "languageId": "r"
    }
   },
   "outputs": [],
   "source": []
  },
  {
   "cell_type": "code",
   "execution_count": null,
   "metadata": {
    "vscode": {
     "languageId": "r"
    }
   },
   "outputs": [],
   "source": []
  },
  {
   "cell_type": "code",
   "execution_count": null,
   "metadata": {
    "vscode": {
     "languageId": "r"
    }
   },
   "outputs": [],
   "source": []
  },
  {
   "cell_type": "code",
   "execution_count": null,
   "metadata": {
    "vscode": {
     "languageId": "r"
    }
   },
   "outputs": [],
   "source": []
  }
 ],
 "metadata": {
  "kernelspec": {
   "display_name": "R",
   "language": "R",
   "name": "ir"
  },
  "language_info": {
   "codemirror_mode": "r",
   "file_extension": ".r",
   "mimetype": "text/x-r-source",
   "name": "R",
   "pygments_lexer": "r",
   "version": "4.2.0"
  }
 },
 "nbformat": 4,
 "nbformat_minor": 2
}
