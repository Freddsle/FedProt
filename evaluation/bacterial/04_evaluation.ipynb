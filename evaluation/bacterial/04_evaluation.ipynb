{
 "cells": [
  {
   "cell_type": "code",
   "execution_count": 1,
   "metadata": {},
   "outputs": [],
   "source": [
    "import sys\n",
    "import pandas as pd\n",
    "import numpy as np\n",
    "\n",
    "sys.path.append('/home/yuliya/repos/cosybio/FedProt/evaluation_utils/')\n",
    "from evaluation import evaluation_func as fp_eval\n",
    "\n",
    "from collections import OrderedDict"
   ]
  },
  {
   "cell_type": "code",
   "execution_count": 2,
   "metadata": {},
   "outputs": [],
   "source": [
    "color_dict = OrderedDict()\n",
    "\n",
    "color_dict[\"Methods\"] = OrderedDict({\n",
    "    \"FedProt\":\"black\",\n",
    "    \"Fisher\":\"#E69F00\",\n",
    "    \"Stouffer\":\"#D44400\",\n",
    "    \"REM\":\"#009E73\",\n",
    "    \"RankProd\":\"#2E5EAA\"\n",
    "})"
   ]
  },
  {
   "cell_type": "markdown",
   "metadata": {},
   "source": [
    "# Read results"
   ]
  },
  {
   "cell_type": "code",
   "execution_count": 3,
   "metadata": {},
   "outputs": [
    {
     "name": "stderr",
     "output_type": "stream",
     "text": [
      "Results loaded from /home/yuliya/repos/cosybio/FedProt/evaluation/bacterial/balanced/results with 2242 genes. Adj.p-values were not log-transformed.\n",
      "Results loaded from /home/yuliya/repos/cosybio/FedProt/evaluation/bacterial/imbalanced/results with 2223 genes. Adj.p-values were not log-transformed.\n"
     ]
    },
    {
     "name": "stdout",
     "output_type": "stream",
     "text": [
      "(2223, 12)\n"
     ]
    },
    {
     "data": {
      "text/html": [
       "<div>\n",
       "<style scoped>\n",
       "    .dataframe tbody tr th:only-of-type {\n",
       "        vertical-align: middle;\n",
       "    }\n",
       "\n",
       "    .dataframe tbody tr th {\n",
       "        vertical-align: top;\n",
       "    }\n",
       "\n",
       "    .dataframe thead th {\n",
       "        text-align: right;\n",
       "    }\n",
       "</style>\n",
       "<table border=\"1\" class=\"dataframe\">\n",
       "  <thead>\n",
       "    <tr style=\"text-align: right;\">\n",
       "      <th></th>\n",
       "      <th>pv_DEqMS</th>\n",
       "      <th>lfc_DEqMS</th>\n",
       "      <th>pv_FedProt</th>\n",
       "      <th>lfc_FedProt</th>\n",
       "      <th>lfc_Fisher</th>\n",
       "      <th>pv_Fisher</th>\n",
       "      <th>lfc_REM</th>\n",
       "      <th>pv_REM</th>\n",
       "      <th>pv_Stouffer</th>\n",
       "      <th>lfc_Stouffer</th>\n",
       "      <th>pv_RankProd</th>\n",
       "      <th>lfc_RankProd</th>\n",
       "    </tr>\n",
       "  </thead>\n",
       "  <tbody>\n",
       "    <tr>\n",
       "      <th>P00350</th>\n",
       "      <td>1.452389e-10</td>\n",
       "      <td>0.189820</td>\n",
       "      <td>1.209438e-10</td>\n",
       "      <td>0.189820</td>\n",
       "      <td>0.167429</td>\n",
       "      <td>3.008376e-11</td>\n",
       "      <td>0.196547</td>\n",
       "      <td>3.626377e-22</td>\n",
       "      <td>1.969299e-08</td>\n",
       "      <td>0.167429</td>\n",
       "      <td>0.231855</td>\n",
       "      <td>0.167429</td>\n",
       "    </tr>\n",
       "    <tr>\n",
       "      <th>P00363</th>\n",
       "      <td>5.886478e-02</td>\n",
       "      <td>-0.121199</td>\n",
       "      <td>5.508612e-02</td>\n",
       "      <td>-0.121199</td>\n",
       "      <td>-0.099338</td>\n",
       "      <td>4.833140e-01</td>\n",
       "      <td>-0.067334</td>\n",
       "      <td>3.365202e-01</td>\n",
       "      <td>8.768886e-01</td>\n",
       "      <td>-0.099338</td>\n",
       "      <td>0.649956</td>\n",
       "      <td>-0.099338</td>\n",
       "    </tr>\n",
       "    <tr>\n",
       "      <th>P00370</th>\n",
       "      <td>2.272542e-14</td>\n",
       "      <td>0.482349</td>\n",
       "      <td>1.628821e-14</td>\n",
       "      <td>0.482349</td>\n",
       "      <td>0.468147</td>\n",
       "      <td>1.198634e-10</td>\n",
       "      <td>0.471281</td>\n",
       "      <td>2.863800e-12</td>\n",
       "      <td>8.617205e-11</td>\n",
       "      <td>0.468147</td>\n",
       "      <td>0.018845</td>\n",
       "      <td>0.468147</td>\n",
       "    </tr>\n",
       "    <tr>\n",
       "      <th>P00393</th>\n",
       "      <td>1.292024e-01</td>\n",
       "      <td>0.052034</td>\n",
       "      <td>1.233822e-01</td>\n",
       "      <td>0.052034</td>\n",
       "      <td>0.020220</td>\n",
       "      <td>5.957304e-01</td>\n",
       "      <td>0.027907</td>\n",
       "      <td>4.032698e-01</td>\n",
       "      <td>7.548646e-01</td>\n",
       "      <td>0.020220</td>\n",
       "      <td>0.531348</td>\n",
       "      <td>0.020220</td>\n",
       "    </tr>\n",
       "  </tbody>\n",
       "</table>\n",
       "</div>"
      ],
      "text/plain": [
       "            pv_DEqMS  lfc_DEqMS    pv_FedProt  lfc_FedProt  lfc_Fisher  \\\n",
       "P00350  1.452389e-10   0.189820  1.209438e-10     0.189820    0.167429   \n",
       "P00363  5.886478e-02  -0.121199  5.508612e-02    -0.121199   -0.099338   \n",
       "P00370  2.272542e-14   0.482349  1.628821e-14     0.482349    0.468147   \n",
       "P00393  1.292024e-01   0.052034  1.233822e-01     0.052034    0.020220   \n",
       "\n",
       "           pv_Fisher   lfc_REM        pv_REM   pv_Stouffer  lfc_Stouffer  \\\n",
       "P00350  3.008376e-11  0.196547  3.626377e-22  1.969299e-08      0.167429   \n",
       "P00363  4.833140e-01 -0.067334  3.365202e-01  8.768886e-01     -0.099338   \n",
       "P00370  1.198634e-10  0.471281  2.863800e-12  8.617205e-11      0.468147   \n",
       "P00393  5.957304e-01  0.027907  4.032698e-01  7.548646e-01      0.020220   \n",
       "\n",
       "        pv_RankProd  lfc_RankProd  \n",
       "P00350     0.231855      0.167429  \n",
       "P00363     0.649956     -0.099338  \n",
       "P00370     0.018845      0.468147  \n",
       "P00393     0.531348      0.020220  "
      ]
     },
     "execution_count": 3,
     "metadata": {},
     "output_type": "execute_result"
    }
   ],
   "source": [
    "root_dir = \"/home/yuliya/repos/cosybio/FedProt/evaluation/bacterial/\"\n",
    "\n",
    "dfs = {}\n",
    "\n",
    "workdir = root_dir + \"balanced/results\" \n",
    "df = fp_eval.read_results(workdir,\n",
    "                          deqms_name=\"/central_res.tsv\",\n",
    "                          fedprot_name=\"/DPE.csv\")\n",
    "dfs[\"Balanced\"] = df\n",
    "\n",
    "workdir = root_dir + \"imbalanced/results\"\n",
    "df = fp_eval.read_results(workdir,\n",
    "                          deqms_name=\"/central_res.tsv\",\n",
    "                          fedprot_name=\"/DPE.csv\")\n",
    "dfs[\"Imbalanced\"] = df\n",
    "\n",
    "\n",
    "print(dfs[\"Imbalanced\"].shape)\n",
    "dfs[\"Imbalanced\"].head(4)"
   ]
  },
  {
   "cell_type": "markdown",
   "metadata": {},
   "source": [
    "# Deviations in the results of decentralized methods\n",
    "\n",
    "First - for balanced.  \n",
    "adj. p-val:\n",
    "- min diff (supplementary)\n",
    "- mean diff,\n",
    "- max diff, \n",
    "- r, \n",
    "- rho\n",
    "\n",
    "log2FC - same, for supplementary.\n",
    "  \n",
    "\n",
    "\n"
   ]
  },
  {
   "cell_type": "markdown",
   "metadata": {},
   "source": [
    "## stats tables"
   ]
  },
  {
   "cell_type": "code",
   "execution_count": 4,
   "metadata": {},
   "outputs": [
    {
     "name": "stderr",
     "output_type": "stream",
     "text": [
      "Calculating corrs. Using p-vals - not log-transformed.\n",
      "Correlations computed for all genes from pv_ columns.\n",
      "Correlations computed for all genes from lfc_ columns.\n",
      "Calculating corrs. Using p-vals - not log-transformed.\n",
      "Correlations computed for all genes from pv_ columns.\n",
      "Correlations computed for all genes from lfc_ columns.\n"
     ]
    },
    {
     "name": "stdout",
     "output_type": "stream",
     "text": [
      "Dataset: balanced\n",
      "\tLogFC basic stats:\n",
      "               MinDiff      MeanDiff       MaxDiff         r         ρ\n",
      "FedProt   0.000000e+00  1.266807e-14  6.039613e-14  1.000000  1.000000\n",
      "Fisher    2.025490e-07  3.151856e-02  5.648453e-01  0.997119  0.995851\n",
      "Stouffer  2.025490e-07  3.151856e-02  5.648453e-01  0.997119  0.995851\n",
      "REM       1.485483e-05  3.477359e-02  5.514332e-01  0.996711  0.994698\n",
      "RankProd  2.025490e-07  3.151856e-02  5.648453e-01  0.997119  0.995851\n",
      "\tP-value basic stats:\n",
      "                MinDiff  MeanDiff   MaxDiff         r         ρ\n",
      "FedProt   6.733165e-108  0.000779  0.011238  0.999973  0.999995\n",
      "Fisher     7.520537e-96  0.060850  0.999992  0.367356  0.947161\n",
      "Stouffer   3.759399e-97  0.067970  0.999990  0.394224  0.954391\n",
      "REM       1.062029e-107  0.075422  0.950243  0.705698  0.879489\n",
      "RankProd   1.413735e-12  0.210913  0.774153  0.490878  0.868676\n",
      "Dataset: imbalanced\n",
      "\tLogFC basic stats:\n",
      "               MinDiff      MeanDiff       MaxDiff         r         ρ\n",
      "FedProt   0.000000e+00  2.111982e-14  6.739054e-14  1.000000  1.000000\n",
      "Fisher    8.777384e-07  3.872608e-02  5.013022e-01  0.996062  0.993495\n",
      "Stouffer  8.777384e-07  3.872608e-02  5.013022e-01  0.996062  0.993495\n",
      "REM       3.902185e-05  4.488773e-02  5.079163e-01  0.995223  0.990735\n",
      "RankProd  8.777384e-07  3.872608e-02  5.013022e-01  0.996062  0.993495\n",
      "\tP-value basic stats:\n",
      "               MinDiff  MeanDiff   MaxDiff         r         ρ\n",
      "FedProt   5.218557e-67  0.001613  0.016272  0.999922  0.999993\n",
      "Fisher    2.374169e-58  0.076973  0.998102  0.446004  0.934750\n",
      "Stouffer  8.609301e-60  0.090676  0.996373  0.449580  0.937567\n",
      "REM       9.293233e-67  0.083123  0.994738  0.655716  0.880823\n",
      "RankProd  1.462691e-12  0.199633  0.739607  0.517453  0.826066\n"
     ]
    }
   ],
   "source": [
    "for dataset in dfs:\n",
    "    pval_basic_stats = fp_eval.calc_stats(\n",
    "        dfs[dataset], \n",
    "        lfc_thr=0.58, adj_pval_thr=0.01,\n",
    "        stats=[\"MinDiff\", \"MeanDiff\", \"MaxDiff\", \"r\", \"ρ\"],\n",
    "        methods=[\"FedProt\", \"Fisher\", \"Stouffer\", \"REM\", \"RankProd\"],\n",
    "        column_name=\"pv_\",\n",
    "        top_genes=-1\n",
    "    )\n",
    "    logfc_basic_stats = fp_eval.calc_stats(\n",
    "        dfs[dataset],\n",
    "        lfc_thr=0.58, adj_pval_thr=0.01,\n",
    "        stats=[\"MinDiff\", \"MeanDiff\", \"MaxDiff\", \"r\", \"ρ\"],\n",
    "        methods=[\"FedProt\", \"Fisher\", \"Stouffer\", \"REM\", \"RankProd\"],\n",
    "        column_name=\"lfc_\",\n",
    "        top_genes=-1\n",
    "    )\n",
    "\n",
    "    # save to file, dataset to lower case\n",
    "    dataset = dataset.lower()\n",
    "    pval_basic_stats.to_csv(f'{root_dir}/{dataset}/results_tables/pval_basic_stats.csv')\n",
    "    logfc_basic_stats.to_csv(f'{root_dir}/{dataset}/results_tables/logfc_basic_stats.csv')\n",
    "\n",
    "    print(f'Dataset: {dataset}')\n",
    "    print(\"\\tLogFC basic stats:\")\n",
    "    print(logfc_basic_stats)\n",
    "    print(\"\\tP-value basic stats:\")\n",
    "    print(pval_basic_stats)        "
   ]
  },
  {
   "cell_type": "code",
   "execution_count": 5,
   "metadata": {},
   "outputs": [
    {
     "name": "stderr",
     "output_type": "stream",
     "text": [
      "Calculating corrs. Using p-vals - log-transformed.\n",
      "Correlations computed for all genes from pv_ columns.\n",
      "Calculating corrs. Using p-vals - log-transformed.\n",
      "Correlations computed for all genes from pv_ columns.\n"
     ]
    },
    {
     "name": "stdout",
     "output_type": "stream",
     "text": [
      "Dataset: balanced\n",
      "\tP-value basic stats:\n",
      "               MinDiff   MeanDiff     MaxDiff         r         ρ\n",
      "FedProt   1.808478e-09   0.106685    0.667432  0.999996  0.999995\n",
      "Fisher    2.521811e-04   3.677046   25.466432  0.974007  0.947636\n",
      "Stouffer  3.178318e-03   3.281332   26.379490  0.980632  0.954797\n",
      "REM       3.261655e-03  15.762635  258.189408  0.731352  0.879487\n",
      "RankProd  1.021528e-03  16.668084  101.154049  0.773729  0.869206\n",
      "Dataset: imbalanced\n",
      "\tP-value basic stats:\n",
      "           MinDiff   MeanDiff     MaxDiff         r         ρ\n",
      "FedProt   0.000002   0.097361    0.725899  0.999992  0.999993\n",
      "Fisher    0.002489   2.308141   17.004740  0.970069  0.935209\n",
      "Stouffer  0.001169   2.137610   17.942440  0.976551  0.937949\n",
      "REM       0.000402  12.943510  259.289782  0.754849  0.880833\n",
      "RankProd  0.001159   9.407645   59.997642  0.757345  0.826258\n"
     ]
    }
   ],
   "source": [
    "for dataset in dfs:\n",
    "    transfomed_dataset = dfs[dataset].copy()\n",
    "    \n",
    "    # transform p-values to -log10 pv_ + column[\"FedProt\", \"Fisher\", \"Stouffer\", \"REM\", \"RankProd\"]\n",
    "    # there is no function in the evaluation_utils for this, so we will do it manually\n",
    "    for method in [\"DEqMS\", \"FedProt\", \"Fisher\", \"Stouffer\", \"REM\", \"RankProd\"]:\n",
    "        # first replace zeros with smallest non-zero value (offset)\n",
    "        offset = transfomed_dataset[f\"pv_{method}\"].replace(0, np.nan).min()\n",
    "        transfomed_dataset[f\"pv_{method}\"] = transfomed_dataset[f\"pv_{method}\"].replace(0, offset)        \n",
    "        transfomed_dataset[f\"pv_{method}\"] = -np.log10(transfomed_dataset[f\"pv_{method}\"])\n",
    "\n",
    "    pval_basic_stats = fp_eval.calc_stats(\n",
    "        transfomed_dataset, \n",
    "        lfc_thr=0.58, adj_pval_thr=0.01,\n",
    "        stats=[\"MinDiff\", \"MeanDiff\", \"MaxDiff\", \"r\", \"ρ\"],\n",
    "        methods=[\"FedProt\", \"Fisher\", \"Stouffer\", \"REM\", \"RankProd\"],\n",
    "        column_name=\"pv_\",\n",
    "        top_genes=-1\n",
    "    )\n",
    "    # save to file, dataset to lower case\n",
    "    dataset = dataset.lower()\n",
    "    pval_basic_stats.to_csv(f'{root_dir}/{dataset}/results_tables/log10pval_basic_stats.csv')\n",
    "    \n",
    "    print(f'Dataset: {dataset}')\n",
    "    print(\"\\tP-value basic stats:\")\n",
    "    print(pval_basic_stats)        "
   ]
  },
  {
   "cell_type": "code",
   "execution_count": 6,
   "metadata": {},
   "outputs": [
    {
     "name": "stderr",
     "output_type": "stream",
     "text": [
      "Calculating RMSE. Using p-vals - not log-transformed.\n",
      "RMSE computed for all genes from pv_ columns.\n"
     ]
    },
    {
     "data": {
      "text/html": [
       "<div>\n",
       "<style scoped>\n",
       "    .dataframe tbody tr th:only-of-type {\n",
       "        vertical-align: middle;\n",
       "    }\n",
       "\n",
       "    .dataframe tbody tr th {\n",
       "        vertical-align: top;\n",
       "    }\n",
       "\n",
       "    .dataframe thead th {\n",
       "        text-align: right;\n",
       "    }\n",
       "</style>\n",
       "<table border=\"1\" class=\"dataframe\">\n",
       "  <thead>\n",
       "    <tr style=\"text-align: right;\">\n",
       "      <th></th>\n",
       "      <th>RMSE</th>\n",
       "    </tr>\n",
       "  </thead>\n",
       "  <tbody>\n",
       "    <tr>\n",
       "      <th>FedProt</th>\n",
       "      <td>0.001980</td>\n",
       "    </tr>\n",
       "    <tr>\n",
       "      <th>Fisher</th>\n",
       "      <td>0.180861</td>\n",
       "    </tr>\n",
       "    <tr>\n",
       "      <th>Stouffer</th>\n",
       "      <td>0.190047</td>\n",
       "    </tr>\n",
       "    <tr>\n",
       "      <th>REM</th>\n",
       "      <td>0.177863</td>\n",
       "    </tr>\n",
       "    <tr>\n",
       "      <th>RankProd</th>\n",
       "      <td>0.279386</td>\n",
       "    </tr>\n",
       "  </tbody>\n",
       "</table>\n",
       "</div>"
      ],
      "text/plain": [
       "              RMSE\n",
       "FedProt   0.001980\n",
       "Fisher    0.180861\n",
       "Stouffer  0.190047\n",
       "REM       0.177863\n",
       "RankProd  0.279386"
      ]
     },
     "execution_count": 6,
     "metadata": {},
     "output_type": "execute_result"
    }
   ],
   "source": [
    "# RMSE\n",
    "fp_eval.calc_stats(\n",
    "        dfs[\"Balanced\"], \n",
    "        lfc_thr=0.58, adj_pval_thr=0.01,\n",
    "        stats=[\"RMSE\"],\n",
    "        methods=[\"FedProt\", \"Fisher\", \"Stouffer\", \"REM\", \"RankProd\"],\n",
    "        column_name=\"pv_\",\n",
    "        top_genes=-1\n",
    "    )"
   ]
  },
  {
   "cell_type": "code",
   "execution_count": 7,
   "metadata": {},
   "outputs": [
    {
     "name": "stderr",
     "output_type": "stream",
     "text": [
      "Calculating RMSE. Using p-vals - not log-transformed.\n",
      "RMSE computed for all genes from pv_ columns.\n"
     ]
    },
    {
     "data": {
      "text/html": [
       "<div>\n",
       "<style scoped>\n",
       "    .dataframe tbody tr th:only-of-type {\n",
       "        vertical-align: middle;\n",
       "    }\n",
       "\n",
       "    .dataframe tbody tr th {\n",
       "        vertical-align: top;\n",
       "    }\n",
       "\n",
       "    .dataframe thead th {\n",
       "        text-align: right;\n",
       "    }\n",
       "</style>\n",
       "<table border=\"1\" class=\"dataframe\">\n",
       "  <thead>\n",
       "    <tr style=\"text-align: right;\">\n",
       "      <th></th>\n",
       "      <th>RMSE</th>\n",
       "    </tr>\n",
       "  </thead>\n",
       "  <tbody>\n",
       "    <tr>\n",
       "      <th>FedProt</th>\n",
       "      <td>0.003517</td>\n",
       "    </tr>\n",
       "    <tr>\n",
       "      <th>Fisher</th>\n",
       "      <td>0.193432</td>\n",
       "    </tr>\n",
       "    <tr>\n",
       "      <th>Stouffer</th>\n",
       "      <td>0.213640</td>\n",
       "    </tr>\n",
       "    <tr>\n",
       "      <th>REM</th>\n",
       "      <td>0.186199</td>\n",
       "    </tr>\n",
       "    <tr>\n",
       "      <th>RankProd</th>\n",
       "      <td>0.266898</td>\n",
       "    </tr>\n",
       "  </tbody>\n",
       "</table>\n",
       "</div>"
      ],
      "text/plain": [
       "              RMSE\n",
       "FedProt   0.003517\n",
       "Fisher    0.193432\n",
       "Stouffer  0.213640\n",
       "REM       0.186199\n",
       "RankProd  0.266898"
      ]
     },
     "execution_count": 7,
     "metadata": {},
     "output_type": "execute_result"
    }
   ],
   "source": [
    "# RMSE\n",
    "fp_eval.calc_stats(\n",
    "        dfs[\"Imbalanced\"], \n",
    "        lfc_thr=0.58, adj_pval_thr=0.01,\n",
    "        stats=[\"RMSE\"],\n",
    "        methods=[\"FedProt\", \"Fisher\", \"Stouffer\", \"REM\", \"RankProd\"],\n",
    "        column_name=\"pv_\",\n",
    "        top_genes=-1\n",
    "    )"
   ]
  },
  {
   "cell_type": "markdown",
   "metadata": {},
   "source": [
    "### correlation plots"
   ]
  },
  {
   "cell_type": "code",
   "execution_count": null,
   "metadata": {},
   "outputs": [],
   "source": [
    "# log transform p-values in dfs, but first replace 0 with tiny value\n",
    "log_dfs = {}\n",
    "for k in dfs:\n",
    "    df = dfs[k]\n",
    "    df = df.replace(0,1e-300)\n",
    "    df[\"pv_DEqMS\"] = -np.log10(df[\"pv_DEqMS\"])\n",
    "    for m in [\"Fisher\",\"Stouffer\",\"REM\",\"RankProd\"]:\n",
    "        df[\"pv_\"+m] = -np.log10(df[\"pv_\"+m])\n",
    "    log_dfs[k] = df\n",
    "\n",
    "\n",
    "\n",
    "corrs = plt_results(log_dfs, text = \"\", colors = color_dict,\n",
    "                    datasets=[\"pep_PG\", \"Genes\"], methods=[\"Fisher\",\"Stouffer\",\"REM\",\"RankProd\"])\n",
    "# plt.savefig(\"/home/yuliya/repos/cosybio/FedDEqMS/data/04_evaluation/plots/\" + \"Fig3B_prototype.png\", dpi=1200)\n",
    "corrs"
   ]
  },
  {
   "cell_type": "code",
   "execution_count": null,
   "metadata": {},
   "outputs": [],
   "source": []
  },
  {
   "cell_type": "code",
   "execution_count": null,
   "metadata": {},
   "outputs": [],
   "source": []
  },
  {
   "cell_type": "code",
   "execution_count": null,
   "metadata": {},
   "outputs": [],
   "source": []
  },
  {
   "cell_type": "code",
   "execution_count": null,
   "metadata": {},
   "outputs": [],
   "source": []
  },
  {
   "cell_type": "code",
   "execution_count": null,
   "metadata": {},
   "outputs": [],
   "source": []
  },
  {
   "cell_type": "code",
   "execution_count": null,
   "metadata": {},
   "outputs": [],
   "source": []
  },
  {
   "cell_type": "code",
   "execution_count": null,
   "metadata": {},
   "outputs": [],
   "source": []
  }
 ],
 "metadata": {
  "kernelspec": {
   "display_name": "fedprot",
   "language": "python",
   "name": "python3"
  },
  "language_info": {
   "codemirror_mode": {
    "name": "ipython",
    "version": 3
   },
   "file_extension": ".py",
   "mimetype": "text/x-python",
   "name": "python",
   "nbconvert_exporter": "python",
   "pygments_lexer": "ipython3",
   "version": "3.11.4"
  }
 },
 "nbformat": 4,
 "nbformat_minor": 2
}
