{
 "cells": [
  {
   "cell_type": "code",
   "execution_count": 1,
   "metadata": {
    "vscode": {
     "languageId": "r"
    }
   },
   "outputs": [
    {
     "name": "stderr",
     "output_type": "stream",
     "text": [
      "Loading required package: ggplot2\n",
      "\n"
     ]
    },
    {
     "name": "stderr",
     "output_type": "stream",
     "text": [
      "Warning message:\n",
      "“package ‘ggplot2’ was built under R version 4.2.3”\n",
      "Loading required package: matrixStats\n",
      "\n",
      "Warning message:\n",
      "“package ‘matrixStats’ was built under R version 4.2.3”\n",
      "Loading required package: limma\n",
      "\n",
      "Warning message:\n",
      "“package ‘tidyverse’ was built under R version 4.2.2”\n",
      "Warning message:\n",
      "“package ‘tibble’ was built under R version 4.2.3”\n",
      "Warning message:\n",
      "“package ‘tidyr’ was built under R version 4.2.2”\n",
      "Warning message:\n",
      "“package ‘readr’ was built under R version 4.2.2”\n",
      "Warning message:\n",
      "“package ‘purrr’ was built under R version 4.2.3”\n",
      "Warning message:\n",
      "“package ‘dplyr’ was built under R version 4.2.3”\n",
      "Warning message:\n",
      "“package ‘stringr’ was built under R version 4.2.3”\n",
      "Warning message:\n",
      "“package ‘forcats’ was built under R version 4.2.2”\n",
      "Warning message:\n",
      "“package ‘lubridate’ was built under R version 4.2.2”\n",
      "── \u001b[1mAttaching core tidyverse packages\u001b[22m ──────────────────────── tidyverse 2.0.0 ──\n",
      "\u001b[32m✔\u001b[39m \u001b[34mdplyr    \u001b[39m 1.1.2     \u001b[32m✔\u001b[39m \u001b[34mreadr    \u001b[39m 2.1.4\n",
      "\u001b[32m✔\u001b[39m \u001b[34mforcats  \u001b[39m 1.0.0     \u001b[32m✔\u001b[39m \u001b[34mstringr  \u001b[39m 1.5.0\n",
      "\u001b[32m✔\u001b[39m \u001b[34mlubridate\u001b[39m 1.9.2     \u001b[32m✔\u001b[39m \u001b[34mtibble   \u001b[39m 3.2.1\n",
      "\u001b[32m✔\u001b[39m \u001b[34mpurrr    \u001b[39m 1.0.1     \u001b[32m✔\u001b[39m \u001b[34mtidyr    \u001b[39m 1.3.0\n",
      "── \u001b[1mConflicts\u001b[22m ────────────────────────────────────────── tidyverse_conflicts() ──\n",
      "\u001b[31m✖\u001b[39m \u001b[34mdplyr\u001b[39m::\u001b[32mcount()\u001b[39m  masks \u001b[34mmatrixStats\u001b[39m::count()\n",
      "\u001b[31m✖\u001b[39m \u001b[34mdplyr\u001b[39m::\u001b[32mfilter()\u001b[39m masks \u001b[34mstats\u001b[39m::filter()\n",
      "\u001b[31m✖\u001b[39m \u001b[34mdplyr\u001b[39m::\u001b[32mlag()\u001b[39m    masks \u001b[34mstats\u001b[39m::lag()\n",
      "\u001b[36mℹ\u001b[39m Use the conflicted package (\u001b[3m\u001b[34m<http://conflicted.r-lib.org/>\u001b[39m\u001b[23m) to force all conflicts to become errors\n",
      "Warning message:\n",
      "“package ‘ggrepel’ was built under R version 4.2.2”\n",
      "Warning message:\n",
      "“package ‘data.table’ was built under R version 4.2.2”\n",
      "\n",
      "Attaching package: ‘data.table’\n",
      "\n",
      "\n",
      "The following objects are masked from ‘package:lubridate’:\n",
      "\n",
      "    hour, isoweek, mday, minute, month, quarter, second, wday, week,\n",
      "    yday, year\n",
      "\n",
      "\n",
      "The following objects are masked from ‘package:dplyr’:\n",
      "\n",
      "    between, first, last\n",
      "\n",
      "\n",
      "The following object is masked from ‘package:purrr’:\n",
      "\n",
      "    transpose\n",
      "\n",
      "\n",
      "\n",
      "Attaching package: ‘jsonlite’\n",
      "\n",
      "\n",
      "The following object is masked from ‘package:purrr’:\n",
      "\n",
      "    flatten\n",
      "\n",
      "\n"
     ]
    }
   ],
   "source": [
    "library(DEqMS)\n",
    "library(patchwork)\n",
    "library(tidyverse)\n",
    "\n",
    "source(\"../../evaluation_utils/evaluation/DE_analysis.R\")\n",
    "source(\"../../evaluation_utils/plots/DE_plots.R\")\n",
    "source(\"../../evaluation_utils/filtering/filtering_normalization.R\")\n",
    "\n",
    "library(jsonlite)"
   ]
  },
  {
   "cell_type": "markdown",
   "metadata": {},
   "source": [
    "# Separate run for meta"
   ]
  },
  {
   "cell_type": "code",
   "execution_count": 2,
   "metadata": {
    "vscode": {
     "languageId": "r"
    }
   },
   "outputs": [
    {
     "name": "stdout",
     "output_type": "stream",
     "text": [
      "\n",
      "\n",
      "Dataset:  balanced \n",
      "\n",
      "Lab:  lab_A \n",
      "Filtering by condition - two not-NA per condition\n",
      "\tBefore filtering: 2549 24 \n",
      "\tAfter filtering: 2525 24 \n",
      "\n",
      "Lab:  lab_B \n",
      "Filtering by condition - two not-NA per condition\n",
      "\tBefore filtering: 2846 23 \n",
      "\tAfter filtering: 2828 23 \n",
      "\n",
      "Lab:  lab_C \n",
      "Filtering by condition - two not-NA per condition\n",
      "\tBefore filtering: 2820 23 \n",
      "\tAfter filtering: 2775 23 \n",
      "\n",
      "Lab:  lab_D \n",
      "Filtering by condition - two not-NA per condition\n",
      "\tBefore filtering: 2813 24 \n",
      "\tAfter filtering: 2785 24 \n",
      "\n",
      "Lab:  lab_E \n",
      "Filtering by condition - two not-NA per condition\n",
      "\tBefore filtering: 2401 24 \n",
      "\tAfter filtering: 2363 24 \n",
      "\n",
      "\n",
      "Dataset:  imbalanced \n",
      "\n",
      "Lab:  lab_A \n",
      "Filtering by condition - two not-NA per condition\n",
      "\tBefore filtering: 2548 16 \n",
      "\tAfter filtering: 2510 16 \n",
      "\n",
      "Lab:  lab_B \n",
      "Filtering by condition - two not-NA per condition\n",
      "\tBefore filtering: 2845 13 \n",
      "\tAfter filtering: 2798 13 \n",
      "\n",
      "Lab:  lab_C \n",
      "Filtering by condition - two not-NA per condition\n",
      "\tBefore filtering: 2818 14 \n",
      "\tAfter filtering: 2712 14 \n",
      "\n",
      "Lab:  lab_D \n",
      "Filtering by condition - two not-NA per condition\n",
      "\tBefore filtering: 2813 15 \n",
      "\tAfter filtering: 2781 15 \n",
      "\n",
      "Lab:  lab_E \n",
      "Filtering by condition - two not-NA per condition\n",
      "\tBefore filtering: 2401 15 \n",
      "\tAfter filtering: 2348 15 \n"
     ]
    }
   ],
   "source": [
    "datasets_list = c('balanced', 'imbalanced')\n",
    "labs_list = c('lab_A', 'lab_B', 'lab_C', 'lab_D' , 'lab_E')\n",
    "\n",
    "filter_list_META = list(\"balanced\" = list(), \"imbalanced\" = list())\n",
    "\n",
    "# empty plot\n",
    "x <- ggplot() + theme_minimal()\n",
    "\n",
    "for(dataset in datasets_list){\n",
    "  plots_list = list()\n",
    "  cat('\\n\\nDataset: ', dataset, \"\\n\")\n",
    "\n",
    "  path_to_reports = paste0('/home/yuliya/repos/cosybio/FedProt/data/bacterial_data/', dataset, '/')\n",
    "  \n",
    "  for (name in labs_list) {\n",
    "    output_path = paste0('/home/yuliya/repos/cosybio/FedProt/evaluation/bacterial/Meta_DE/', dataset, '/')\n",
    "    cat('\\nLab: ', name, \"\\n\")\n",
    "\n",
    "    batch_info = read_tsv(paste0(path_to_reports, name, '/metadata.tsv'), show_col_types = FALSE)\n",
    "    intensities = read_tsv(paste0(path_to_reports, name, '/protein_groups_matrix.tsv'), show_col_types = FALSE)\n",
    "    counts = read_tsv(paste0(path_to_reports, name, '/protein_counts.tsv'), show_col_types = FALSE)\n",
    "\n",
    "    intensities <- intensities %>% column_to_rownames('rowname')\n",
    "    counts <- counts %>% column_to_rownames('rowname')\n",
    "    intensities <- intensities[, batch_info$file]\n",
    "    \n",
    "    intensities <- filter_by_condition(intensities, batch_info, \n",
    "        'file', c('Glu', 'Pyr'), 'condition')\n",
    "    intensities <- log2(intensities + 1)\n",
    "\n",
    "    # run DE\n",
    "    design <- make_design(batch_info, 'condition')\n",
    "    contrasts <- makeContrasts(Glu-Pyr, levels = colnames(design))\n",
    "    de_results <- run_DE(intensities, counts, design, contrasts)\n",
    "    de_results <- de_results %>% rownames_to_column('Protein')\n",
    "    write.table(de_results, file = paste0(output_path, name, '_res_FULL.tsv'), sep = \"\\t\", quote = FALSE, row.names = FALSE)\n",
    "\n",
    "    filter_list_META[[dataset]][[name]] <- de_results[['Protein']]\n",
    "\n",
    "    # plot volcano plots\n",
    "    if(name == 'lab_E'){\n",
    "        plot_separate <- volcano_plot(\n",
    "        de_results, paste(dataset, name, \", Glu/Pyr\"),\n",
    "        pval_threshold = 0.01, logfc_threshold = 0.58,\n",
    "        show_names = FALSE\n",
    "      )\n",
    "    } else {\n",
    "      plot_separate <- volcano_plot(\n",
    "        de_results, paste(dataset, name, \", Glu/Pyr\"),\n",
    "        pval_threshold = 0.01, logfc_threshold = 0.58,\n",
    "        show_names = FALSE, show_legend = FALSE\n",
    "      )\n",
    "    }\n",
    "    plots_list[[name]] = plot_separate\n",
    "  }\n",
    "\n",
    "  layout <- (plots_list[['lab_A']] | plots_list[['lab_B']] | plots_list[['lab_C']]) /\n",
    "            (plots_list[['lab_D']] | plots_list[['lab_E']] | x)\n",
    "  # save plot\n",
    "  ggsave(file = paste0(output_path, \"volcano_plots.svg\"), plot = layout, width = 15, height = 8)\n",
    "}\n",
    "\n",
    "\n",
    "write_json(filter_list_META, \"/home/yuliya/repos/cosybio/FedProt/evaluation/bacterial/Meta_DE/filter_list_META.json\")"
   ]
  },
  {
   "cell_type": "code",
   "execution_count": 3,
   "metadata": {
    "vscode": {
     "languageId": "r"
    }
   },
   "outputs": [
    {
     "name": "stdout",
     "output_type": "stream",
     "text": [
      "\n",
      "\n",
      "Dataset:  balanced\n",
      "\tIntersection length: 2242\n",
      "\n",
      "Dataset:  imbalanced\n",
      "\tIntersection length: 2223"
     ]
    }
   ],
   "source": [
    "# prepare filter for meta-analyses\n",
    "meta_filter <- list()\n",
    "\n",
    "for(dataset in datasets_list){\n",
    "  cat('\\n\\nDataset: ', dataset)\n",
    "  for (name in labs_list) {\n",
    "    if(is.null(meta_filter[[dataset]])){\n",
    "      meta_filter[[dataset]] <- filter_list_META[[dataset]][[name]]\n",
    "    } else {\n",
    "      meta_filter[[dataset]] <- intersect(meta_filter[[dataset]], filter_list_META[[dataset]][[name]])\n",
    "    }\n",
    "  }\n",
    "  cat(\"\\n\\tIntersection length:\",  length(meta_filter[[dataset]]))\n",
    "}"
   ]
  },
  {
   "cell_type": "code",
   "execution_count": 4,
   "metadata": {
    "vscode": {
     "languageId": "r"
    }
   },
   "outputs": [
    {
     "name": "stdout",
     "output_type": "stream",
     "text": [
      "\n",
      "Dataset:  balanced Lab:  lab_A Number of DE proteins:  2242\n",
      "Dataset:  balanced Lab:  lab_B Number of DE proteins:  2242\n",
      "Dataset:  balanced Lab:  lab_C Number of DE proteins:  2242\n",
      "Dataset:  balanced Lab:  lab_D Number of DE proteins:  2242\n",
      "Dataset:  balanced Lab:  lab_E Number of DE proteins:  2242\n",
      "Dataset:  imbalanced Lab:  lab_A Number of DE proteins:  2223\n",
      "Dataset:  imbalanced Lab:  lab_B Number of DE proteins:  2223\n",
      "Dataset:  imbalanced Lab:  lab_C Number of DE proteins:  2223\n",
      "Dataset:  imbalanced Lab:  lab_D Number of DE proteins:  2223\n",
      "Dataset:  imbalanced Lab:  lab_E Number of DE proteins:  2223"
     ]
    }
   ],
   "source": [
    "for(dataset in datasets_list){\n",
    "  for (name in labs_list) {\n",
    "    # reaed results\n",
    "    de_results <- read_tsv(paste0('/home/yuliya/repos/cosybio/FedProt/evaluation/bacterial/Meta_DE/', dataset, '/', name, '_res_FULL.tsv'), show_col_types = FALSE)\n",
    "    de_results <- de_results %>% filter(Protein %in% meta_filter[[dataset]]) %>%\n",
    "      arrange(desc(Protein))\n",
    "    cat('\\nDataset: ', dataset, 'Lab: ', name, 'Number of DE proteins: ', nrow(de_results))\n",
    "    write.table(de_results, file = paste0('/home/yuliya/repos/cosybio/FedProt/evaluation/bacterial/Meta_DE/', dataset, '/', name, '_res.tsv'), sep = \"\\t\", quote = FALSE, row.names = FALSE)\n",
    "    }\n",
    "}"
   ]
  },
  {
   "cell_type": "markdown",
   "metadata": {},
   "source": [
    "run metaanalyses"
   ]
  },
  {
   "cell_type": "code",
   "execution_count": null,
   "metadata": {
    "vscode": {
     "languageId": "r"
    }
   },
   "outputs": [],
   "source": [
    "# cd /home/yuliya/repos/cosybio/FedProt/evaluation/bacterial/Meta_DE/balanced/\n",
    "\n",
    "# Rscript /home/yuliya/repos/cosybio/FedProt/evaluation_utils/meta_code/run_MetaDE.R /home/yuliya/repos/cosybio/FedProt/evaluation/bacterial/Meta_DE/balanced/ lab_A lab_B lab_C lab_D\n",
    "# Rscript /home/yuliya/repos/cosybio/FedProt/evaluation_utils/meta_code/run_MetaVolcanoR.R /home/yuliya/repos/cosybio/FedProt/evaluation/bacterial/Meta_DE/balanced/ lab_A lab_B lab_C lab_D\n",
    "# Rscript /home/yuliya/repos/cosybio/FedProt/evaluation_utils/meta_code/run_RankProd.R /home/yuliya/repos/cosybio/FedProt/evaluation/bacterial/Meta_DE/balanced/ lab_A lab_B lab_C lab_D\n",
    "\n",
    "# cp /home/yuliya/repos/cosybio/FedProt/evaluation/bacterial/Meta_DE/balanced/MA_* /home/yuliya/repos/cosybio/FedProt/evaluation/bacterial/balanced/results/"
   ]
  },
  {
   "cell_type": "code",
   "execution_count": null,
   "metadata": {
    "vscode": {
     "languageId": "r"
    }
   },
   "outputs": [],
   "source": [
    "# cd /home/yuliya/repos/cosybio/FedProt/evaluation/bacterial/Meta_DE/imbalanced/\n",
    "\n",
    "# Rscript /home/yuliya/repos/cosybio/FedProt/evaluation_utils/meta_code/run_MetaDE.R /home/yuliya/repos/cosybio/FedProt/evaluation/bacterial/Meta_DE/imbalanced/ lab_A lab_B lab_C lab_D\n",
    "# Rscript /home/yuliya/repos/cosybio/FedProt/evaluation_utils/meta_code/run_MetaVolcanoR.R /home/yuliya/repos/cosybio/FedProt/evaluation/bacterial/Meta_DE/imbalanced/ lab_A lab_B lab_C lab_D\n",
    "# Rscript /home/yuliya/repos/cosybio/FedProt/evaluation_utils/meta_code/run_RankProd.R /home/yuliya/repos/cosybio/FedProt/evaluation/bacterial/Meta_DE/imbalanced/ lab_A lab_B lab_C lab_D\n",
    "\n",
    "# cp /home/yuliya/repos/cosybio/FedProt/evaluation/bacterial/Meta_DE/imbalanced/MA_* /home/yuliya/repos/cosybio/FedProt/evaluation/bacterial/imbalanced/results/"
   ]
  },
  {
   "cell_type": "markdown",
   "metadata": {},
   "source": [
    "# Centralized run"
   ]
  },
  {
   "cell_type": "code",
   "execution_count": 5,
   "metadata": {
    "vscode": {
     "languageId": "r"
    }
   },
   "outputs": [
    {
     "name": "stdout",
     "output_type": "stream",
     "text": [
      "\n",
      "\n",
      "Dataset:  balanced \n",
      "\tNumber of proteins:  3059 \n",
      "\tNumber of samples:  119 \n",
      "Filtering by condition - two not-NA per condition\n",
      "\tBefore filtering: 3059 118 \n",
      "\tAfter filtering: 3034 118 \n"
     ]
    },
    {
     "name": "stderr",
     "output_type": "stream",
     "text": [
      "Warning message:\n",
      "“Partial NA coefficients for 761 probe(s)”\n"
     ]
    },
    {
     "name": "stdout",
     "output_type": "stream",
     "text": [
      "\n",
      "\n",
      "Dataset:  imbalanced \n",
      "\tNumber of proteins:  3058 \n",
      "\tNumber of samples:  74 \n",
      "Filtering by condition - two not-NA per condition\n",
      "\tBefore filtering: 3058 73 \n",
      "\tAfter filtering: 3014 73 \n"
     ]
    },
    {
     "name": "stderr",
     "output_type": "stream",
     "text": [
      "Warning message:\n",
      "“Partial NA coefficients for 741 probe(s)”\n"
     ]
    }
   ],
   "source": [
    "datasets_list = c('balanced', 'imbalanced')\n",
    "labs_list = c('lab_A', 'lab_B', 'lab_C', 'lab_D' , 'lab_E')\n",
    "\n",
    "\n",
    "for(dataset in datasets_list){\n",
    "\n",
    "  path_to_reports = paste0('/home/yuliya/repos/cosybio/FedProt/data/bacterial_data/', dataset, '/')\n",
    "  \n",
    " \n",
    "  central_intensities = NULL\n",
    "  central_counts = NULL\n",
    "  central_batch_info = read_tsv(paste0(path_to_reports, 'bath_info_all.tsv'), show_col_types = FALSE)\n",
    "  central_batch_info <- central_batch_info %>%\n",
    "    mutate(lab = as.factor(lab), condition = as.factor(condition))\n",
    "\n",
    "  for (name in labs_list) {\n",
    "    \n",
    "    intensities = read_tsv(paste0(path_to_reports, name, '/protein_groups_matrix.tsv'), show_col_types = FALSE)\n",
    "    counts = read_tsv(paste0(path_to_reports, name, '/protein_counts.tsv'), show_col_types = FALSE)\n",
    "\n",
    "    if(is.null(central_intensities)){\n",
    "      central_intensities = intensities\n",
    "      central_counts = counts\n",
    "    } else {\n",
    "      central_intensities = full_join(central_intensities, intensities, by = 'rowname')\n",
    "      central_counts = full_join(central_counts, counts, by = 'rowname')\n",
    "    }\n",
    "  }\n",
    "\n",
    "  cat('\\n\\nDataset: ', dataset, \"\\n\")\n",
    "  cat('\\tNumber of proteins: ', nrow(central_intensities), '\\n')\n",
    "  cat('\\tNumber of samples: ', ncol(central_intensities), '\\n')\n",
    "\n",
    "  central_intensities <- central_intensities %>% column_to_rownames('rowname')\n",
    "  # save for RBE \n",
    "  # write.table(central_intensities, file = paste0('/home/yuliya/repos/other/removeBatch/evaluation_data/proteomics/before/', dataset, '_central_intensities.tsv'), sep = \"\\t\", quote = FALSE, row.names = TRUE)\n",
    "  # write.table(central_batch_info, file = paste0('/home/yuliya/repos/other/removeBatch/evaluation_data/proteomics/before/', dataset, '_central_batch_info.tsv'), sep = \"\\t\", quote = FALSE, row.names = FALSE) \n",
    "  central_counts <- central_counts %>% column_to_rownames('rowname')\n",
    "  central_intensities <- central_intensities[, central_batch_info$file]\n",
    "    \n",
    "  central_intensities <- filter_by_condition(central_intensities, central_batch_info, \n",
    "        'file', c('Glu', 'Pyr'), 'condition')\n",
    "  central_intensities <- log2(central_intensities + 1)\n",
    "\n",
    "  # select minimal count across column for each protein (with na.rm = TRUE)\n",
    "  central_counts$count <- apply(central_counts, 1, min, na.rm = TRUE)\n",
    "  central_counts <- central_counts %>% select(count)\n",
    "\n",
    "  # run DE analysis\n",
    "  design <- make_design(central_batch_info, 'condition', 'lab')\n",
    "  contrasts <- makeContrasts(Glu-Pyr, levels = colnames(design))\n",
    "  de_results <- run_DE(central_intensities, central_counts, design, contrasts)\n",
    "  de_results <- de_results %>% rownames_to_column('Protein')\n",
    "  write.table(de_results, file = paste0('/home/yuliya/repos/cosybio/FedProt/evaluation/bacterial/', dataset, '/results/central_res.tsv'), sep = \"\\t\", quote = FALSE, row.names = FALSE)\n",
    "\n",
    "  # plot volcano plot\n",
    "  plot_result <- volcano_plot(\n",
    "    de_results, paste(dataset, \"central\", \", Glu/Pyr\"),\n",
    "    pval_threshold = 0.01, logfc_threshold = 0.58,\n",
    "    show_names = FALSE\n",
    "  )\n",
    "  ggsave(file = paste0('/home/yuliya/repos/cosybio/FedProt/evaluation/bacterial/', dataset, '/central_volcano_plot.svg'), plot = plot_result, width = 8, height = 5)\n",
    "\n",
    "  filter_list_META[[dataset]][['Central']] <- de_results[['Protein']]\n",
    "}\n",
    "\n",
    "\n",
    "write_json(filter_list_META, \"/home/yuliya/repos/cosybio/FedProt/evaluation/bacterial/protein_lists.json\")"
   ]
  },
  {
   "cell_type": "code",
   "execution_count": null,
   "metadata": {
    "vscode": {
     "languageId": "r"
    }
   },
   "outputs": [],
   "source": []
  },
  {
   "cell_type": "code",
   "execution_count": null,
   "metadata": {
    "vscode": {
     "languageId": "r"
    }
   },
   "outputs": [],
   "source": []
  },
  {
   "cell_type": "code",
   "execution_count": null,
   "metadata": {
    "vscode": {
     "languageId": "r"
    }
   },
   "outputs": [],
   "source": []
  }
 ],
 "metadata": {
  "kernelspec": {
   "display_name": "R",
   "language": "R",
   "name": "ir"
  },
  "language_info": {
   "codemirror_mode": "r",
   "file_extension": ".r",
   "mimetype": "text/x-r-source",
   "name": "R",
   "pygments_lexer": "r",
   "version": "4.2.0"
  }
 },
 "nbformat": 4,
 "nbformat_minor": 2
}
