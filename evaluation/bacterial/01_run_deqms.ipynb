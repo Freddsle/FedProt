{
 "cells": [
  {
   "cell_type": "code",
   "execution_count": 28,
   "metadata": {
    "vscode": {
     "languageId": "r"
    }
   },
   "outputs": [],
   "source": [
    "library(DEqMS)\n",
    "library(patchwork)\n",
    "library(tidyverse)\n",
    "\n",
    "source(\"../../evaluation_utils/evaluation/DE_analysis.R\")\n",
    "source(\"../../evaluation_utils/plots/DE_plots.R\")\n",
    "source(\"../../evaluation_utils/filtering/filtering_normalization.R\")\n",
    "\n",
    "library(jsonlite)"
   ]
  },
  {
   "cell_type": "markdown",
   "metadata": {},
   "source": [
    "# Separate run for meta"
   ]
  },
  {
   "cell_type": "code",
   "execution_count": 29,
   "metadata": {
    "vscode": {
     "languageId": "r"
    }
   },
   "outputs": [],
   "source": [
    "filter_list_META = list(\"balanced\" = list(), \"imbalanced\" = list(), \"downsampled\" = list())\n",
    "\n",
    "analyzed_proteins <- list()"
   ]
  },
  {
   "cell_type": "code",
   "execution_count": 30,
   "metadata": {
    "vscode": {
     "languageId": "r"
    }
   },
   "outputs": [
    {
     "name": "stdout",
     "output_type": "stream",
     "text": [
      "\n",
      "\n",
      "Dataset:  balanced \n",
      "\n",
      "Lab:  lab_A \n",
      "Filtering by condition - two not-NA per condition\n",
      "\tBefore filtering: 2549 24 \n",
      "\tAfter filtering: 2511 24 \n",
      "Rows after all filters: 2511 \n",
      "\n",
      "Lab:  lab_B \n",
      "Filtering by condition - two not-NA per condition\n",
      "\tBefore filtering: 2846 23 \n",
      "\tAfter filtering: 2819 23 \n",
      "Rows after all filters: 2819 \n",
      "\n",
      "Lab:  lab_C \n",
      "Filtering by condition - two not-NA per condition\n",
      "\tBefore filtering: 2820 23 \n",
      "\tAfter filtering: 2755 23 \n",
      "Rows after all filters: 2755 \n",
      "\n",
      "Lab:  lab_D \n",
      "Filtering by condition - two not-NA per condition\n",
      "\tBefore filtering: 2813 24 \n",
      "\tAfter filtering: 2776 24 \n",
      "Rows after all filters: 2776 \n",
      "\n",
      "Lab:  lab_E \n",
      "Filtering by condition - two not-NA per condition\n",
      "\tBefore filtering: 2401 24 \n",
      "\tAfter filtering: 2354 24 \n",
      "Rows after all filters: 2354 \n",
      "\n",
      "\n",
      "Dataset:  imbalanced \n",
      "\n",
      "Lab:  lab_A \n",
      "Filtering by condition - two not-NA per condition\n",
      "\tBefore filtering: 2547 8 \n",
      "\tAfter filtering: 2512 8 \n",
      "Rows after all filters: 2512 \n",
      "\n",
      "Lab:  lab_B \n",
      "Filtering by condition - two not-NA per condition\n",
      "\tBefore filtering: 2845 14 \n",
      "\tAfter filtering: 2822 14 \n",
      "Rows after all filters: 2822 \n",
      "\n",
      "Lab:  lab_C \n",
      "Filtering by condition - two not-NA per condition\n",
      "\tBefore filtering: 2815 17 \n",
      "\tAfter filtering: 2742 17 \n",
      "Rows after all filters: 2742 \n",
      "\n",
      "Lab:  lab_D \n",
      "Filtering by condition - two not-NA per condition\n",
      "\tBefore filtering: 2813 7 \n",
      "\tAfter filtering: 2784 7 \n",
      "Rows after all filters: 2784 \n",
      "\n",
      "Lab:  lab_E \n",
      "Filtering by condition - two not-NA per condition\n",
      "\tBefore filtering: 2401 24 \n",
      "\tAfter filtering: 2354 24 \n",
      "Rows after all filters: 2354 \n",
      "\n",
      "\n",
      "Dataset:  downsampled \n",
      "\n",
      "Lab:  lab_A \n",
      "Filtering by condition - two not-NA per condition\n",
      "\tBefore filtering: 2548 14 \n",
      "\tAfter filtering: 2510 14 \n",
      "Rows after all filters: 2510 \n",
      "\n",
      "Lab:  lab_B \n",
      "Filtering by condition - two not-NA per condition\n",
      "\tBefore filtering: 2845 14 \n",
      "\tAfter filtering: 2819 14 \n",
      "Rows after all filters: 2819 \n",
      "\n",
      "Lab:  lab_C \n",
      "Filtering by condition - two not-NA per condition\n",
      "\tBefore filtering: 2820 14 \n",
      "\tAfter filtering: 2747 14 \n",
      "Rows after all filters: 2747 \n",
      "\n",
      "Lab:  lab_D \n",
      "Filtering by condition - two not-NA per condition\n",
      "\tBefore filtering: 2813 14 \n",
      "\tAfter filtering: 2776 14 \n",
      "Rows after all filters: 2776 \n",
      "\n",
      "Lab:  lab_E \n",
      "Filtering by condition - two not-NA per condition\n",
      "\tBefore filtering: 2400 14 \n",
      "\tAfter filtering: 2354 14 \n",
      "Rows after all filters: 2354 \n"
     ]
    }
   ],
   "source": [
    "options(warn=-1)\n",
    "datasets_list = c('balanced', 'imbalanced', \"downsampled\") \n",
    "labs_list = c('lab_A', 'lab_B', 'lab_C', 'lab_D' , 'lab_E')\n",
    "\n",
    "# empty plot\n",
    "x <- ggplot() + theme_minimal()\n",
    "\n",
    "for(dataset in datasets_list){\n",
    "  plots_list = list()\n",
    "  cat('\\n\\nDataset: ', dataset, \"\\n\")\n",
    "\n",
    "  path_to_reports = paste0('/home/yuliya/repos/cosybio/FedProt/data/bacterial_data/', dataset, '/')\n",
    "  \n",
    "  for (name in labs_list) {\n",
    "    output_path = paste0('/home/yuliya/repos/cosybio/FedProt/evaluation/bacterial/Meta_DE/', dataset, '/')\n",
    "    cat('\\nLab: ', name, \"\\n\")\n",
    "\n",
    "    batch_info = read_tsv(paste0(path_to_reports, name, '/metadata.tsv'), show_col_types = FALSE)\n",
    "    intensities = read_tsv(paste0(path_to_reports, name, '/protein_groups_matrix.tsv'), show_col_types = FALSE)\n",
    "    counts = read_tsv(paste0(path_to_reports, name, '/protein_counts.tsv'), show_col_types = FALSE)\n",
    "\n",
    "    intensities <- intensities %>% column_to_rownames('rowname')\n",
    "    counts <- counts %>% column_to_rownames('rowname')\n",
    "    intensities <- intensities[, batch_info$file]\n",
    "\n",
    "    intensities <- filter_by_condition(intensities, batch_info, \n",
    "        'file', c('Glu', 'Pyr'), 'condition')\n",
    "    \n",
    "    filter_list_META[[dataset]][[name]] <- rownames(intensities)\n",
    "\n",
    "    cat(\"Rows after all filters:\", nrow(intensities), \"\\n\")\n",
    "    intensities <- log2(intensities + 1)\n",
    "\n",
    "    # run DE\n",
    "    design <- make_design(batch_info, 'condition')\n",
    "    contrasts <- makeContrasts(Glu-Pyr, levels = colnames(design))\n",
    "    de_results <- run_DE(intensities, counts, design, contrasts)\n",
    "    de_results <- de_results %>% rownames_to_column('Protein')\n",
    "    write.table(de_results, file = paste0(output_path, name, '_res_FULL.tsv'), sep = \"\\t\", quote = FALSE, row.names = FALSE)\n",
    "\n",
    "\n",
    "    # plot volcano plots\n",
    "    if(name == 'lab_E'){\n",
    "        plot_separate <- volcano_plot(\n",
    "        de_results, paste(dataset, name, \", Glu/Pyr\"),\n",
    "        pval_threshold = 0.01, logfc_threshold = 0.58,\n",
    "        show_names = FALSE\n",
    "      )\n",
    "    } else {\n",
    "      plot_separate <- volcano_plot(\n",
    "        de_results, paste(dataset, name, \", Glu/Pyr\"),\n",
    "        pval_threshold = 0.01, logfc_threshold = 0.58,\n",
    "        show_names = FALSE, show_legend = FALSE\n",
    "      )\n",
    "    }\n",
    "    plots_list[[name]] = plot_separate\n",
    "  }\n",
    "\n",
    "  layout <- (plots_list[['lab_A']] | plots_list[['lab_B']] | plots_list[['lab_C']]) /\n",
    "            (plots_list[['lab_D']] | plots_list[['lab_E']] | x)\n",
    "  # save plot\n",
    "  ggsave(file = paste0(output_path, \"volcano_plots.svg\"), plot = layout, width = 15, height = 8)\n",
    "}\n",
    "\n",
    "\n",
    "write_json(filter_list_META, \"/home/yuliya/repos/cosybio/FedProt/evaluation/bacterial/Meta_DE/filter_list_META.json\")"
   ]
  },
  {
   "cell_type": "code",
   "execution_count": 31,
   "metadata": {
    "vscode": {
     "languageId": "r"
    }
   },
   "outputs": [
    {
     "name": "stdout",
     "output_type": "stream",
     "text": [
      "\n",
      "\n",
      "Dataset:  balanced\n",
      "\tIntersection length: 2232\n",
      "\n",
      "Dataset:  imbalanced\n",
      "\tIntersection length: 2234\n",
      "\n",
      "Dataset:  downsampled\n",
      "\tIntersection length: 2232"
     ]
    }
   ],
   "source": [
    "meta_filter <- list()\n",
    "\n",
    "# prepare filter for meta-analyses\n",
    "for(dataset in datasets_list){\n",
    "  cat('\\n\\nDataset: ', dataset)\n",
    "  for (name in labs_list) {\n",
    "    if(is.null(meta_filter[[dataset]])){\n",
    "      meta_filter[[dataset]] <- filter_list_META[[dataset]][[name]]\n",
    "    } else {\n",
    "      meta_filter[[dataset]] <- intersect(meta_filter[[dataset]], filter_list_META[[dataset]][[name]])\n",
    "    }\n",
    "  }\n",
    "  cat(\"\\n\\tIntersection length:\",  length(meta_filter[[dataset]]))\n",
    "  filter_list_META[[dataset]][['Meta']] <- meta_filter[[dataset]]\n",
    "}"
   ]
  },
  {
   "cell_type": "code",
   "execution_count": 32,
   "metadata": {
    "vscode": {
     "languageId": "r"
    }
   },
   "outputs": [
    {
     "name": "stdout",
     "output_type": "stream",
     "text": [
      "\n",
      "Dataset:  balanced Lab:  lab_A Number of DE proteins:  2232\n",
      "Dataset:  balanced Lab:  lab_B Number of DE proteins:  2232\n",
      "Dataset:  balanced Lab:  lab_C Number of DE proteins:  2232\n",
      "Dataset:  balanced Lab:  lab_D Number of DE proteins:  2232\n",
      "Dataset:  balanced Lab:  lab_E Number of DE proteins:  2232\n",
      "Dataset:  imbalanced Lab:  lab_A Number of DE proteins:  2234\n",
      "Dataset:  imbalanced Lab:  lab_B Number of DE proteins:  2234\n",
      "Dataset:  imbalanced Lab:  lab_C Number of DE proteins:  2234\n",
      "Dataset:  imbalanced Lab:  lab_D Number of DE proteins:  2234\n",
      "Dataset:  imbalanced Lab:  lab_E Number of DE proteins:  2234\n",
      "Dataset:  downsampled Lab:  lab_A Number of DE proteins:  2232\n",
      "Dataset:  downsampled Lab:  lab_B Number of DE proteins:  2232\n",
      "Dataset:  downsampled Lab:  lab_C Number of DE proteins:  2232\n",
      "Dataset:  downsampled Lab:  lab_D Number of DE proteins:  2232\n",
      "Dataset:  downsampled Lab:  lab_E Number of DE proteins:  2232"
     ]
    }
   ],
   "source": [
    "for(dataset in datasets_list){\n",
    "  for (name in labs_list) {\n",
    "    # reaed results\n",
    "    de_results <- read_tsv(paste0('/home/yuliya/repos/cosybio/FedProt/evaluation/bacterial/Meta_DE/', dataset, '/', name, '_res_FULL.tsv'), show_col_types = FALSE)\n",
    "    de_results <- de_results %>% filter(Protein %in% meta_filter[[dataset]]) %>%\n",
    "      arrange(desc(Protein))\n",
    "    cat('\\nDataset: ', dataset, 'Lab: ', name, 'Number of DE proteins: ', nrow(de_results))\n",
    "    write.table(de_results, file = paste0('/home/yuliya/repos/cosybio/FedProt/evaluation/bacterial/Meta_DE/', dataset, '/', name, '_res.tsv'), sep = \"\\t\", quote = FALSE, row.names = FALSE)\n",
    "    }\n",
    "}"
   ]
  },
  {
   "cell_type": "markdown",
   "metadata": {},
   "source": [
    "# Central run"
   ]
  },
  {
   "cell_type": "code",
   "execution_count": 33,
   "metadata": {
    "vscode": {
     "languageId": "r"
    }
   },
   "outputs": [
    {
     "name": "stdout",
     "output_type": "stream",
     "text": [
      "\n",
      "\n",
      "Dataset:  balanced \n",
      "\tNumber of proteins:  3059 \n",
      "\tNumber of samples:  118 \n",
      "Filtering by condition - two not-NA per condition\n",
      "\tBefore filtering: 3059 118 \n",
      "\tAfter filtering: 2862 118 \n",
      "Rows after all filters: 2232 \n",
      "\n",
      "\n",
      "Dataset:  imbalanced \n",
      "\tNumber of proteins:  3055 \n",
      "\tNumber of samples:  70 \n",
      "Filtering by condition - two not-NA per condition\n",
      "\tBefore filtering: 3055 70 \n",
      "\tAfter filtering: 2819 70 \n",
      "Rows after all filters: 2234 \n",
      "\n",
      "\n",
      "Dataset:  downsampled \n",
      "\tNumber of proteins:  3059 \n",
      "\tNumber of samples:  70 \n",
      "Filtering by condition - two not-NA per condition\n",
      "\tBefore filtering: 3059 70 \n",
      "\tAfter filtering: 2913 70 \n",
      "Rows after all filters: 2232 \n"
     ]
    }
   ],
   "source": [
    "datasets_list = c('balanced', 'imbalanced', \"downsampled\")\n",
    "labs_list = c('lab_A', 'lab_B', 'lab_C', 'lab_D' , 'lab_E')\n",
    "\n",
    "\n",
    "for(dataset in datasets_list){\n",
    "\n",
    "  path_to_reports = paste0('/home/yuliya/repos/cosybio/FedProt/data/bacterial_data/', dataset, '/')\n",
    "\n",
    "  central_intensities = NULL\n",
    "  central_counts = NULL\n",
    "  central_batch_info = read_tsv(paste0(path_to_reports, 'bath_info_all.tsv'), show_col_types = FALSE)\n",
    "  central_batch_info <- central_batch_info %>%\n",
    "    mutate(lab = as.factor(lab), condition = as.factor(condition))\n",
    "\n",
    "  for (name in labs_list) {\n",
    "    \n",
    "    intensities = read_tsv(paste0(path_to_reports, name, '/protein_groups_matrix.tsv'), show_col_types = FALSE)\n",
    "    counts = read_tsv(paste0(path_to_reports, name, '/protein_counts.tsv'), show_col_types = FALSE)\n",
    "\n",
    "    if(is.null(central_intensities)){\n",
    "      central_intensities = intensities\n",
    "      central_counts = counts\n",
    "    } else {\n",
    "      central_intensities = full_join(central_intensities, intensities, by = 'rowname')\n",
    "      central_counts = full_join(central_counts, counts, by = 'rowname')\n",
    "    }\n",
    "  }\n",
    "\n",
    "  cat('\\n\\nDataset: ', dataset, \"\\n\")\n",
    "  cat('\\tNumber of proteins: ', nrow(central_intensities), '\\n')\n",
    "  cat('\\tNumber of samples: ', ncol(central_intensities)-1, '\\n')\n",
    "\n",
    "  central_intensities <- central_intensities %>% column_to_rownames('rowname')\n",
    "  # save for RBE \n",
    "  # write.table(central_intensities, file = paste0('/home/yuliya/repos/other/removeBatch/evaluation_data/proteomics/before/', dataset, '_central_intensities.tsv'), sep = \"\\t\", quote = FALSE, row.names = TRUE)\n",
    "  # write.table(central_batch_info, file = paste0('/home/yuliya/repos/other/removeBatch/evaluation_data/proteomics/before/', dataset, '_central_batch_info.tsv'), sep = \"\\t\", quote = FALSE, row.names = FALSE) \n",
    "  \n",
    "  central_counts <- central_counts %>% column_to_rownames('rowname')\n",
    "  central_intensities <- central_intensities[, central_batch_info$file]\n",
    "    \n",
    "  central_intensities <- filter_by_condition(central_intensities, central_batch_info, \n",
    "        'file', c('Glu', 'Pyr'), 'condition')\n",
    "\n",
    "  filter_list_META[[dataset]][['Central']] <- rownames(central_intensities)\n",
    "\n",
    "  # central_intensities <- filter_per_center(central_intensities, central_batch_info, \"file\",\n",
    "  #   unique(central_batch_info$lab), 'lab')\n",
    "\n",
    "  # use the same proteins as in meta-analysis\n",
    "  central_intensities <- central_intensities[meta_filter[[dataset]],]\n",
    "  \n",
    "  cat(\"Rows after all filters:\", nrow(central_intensities), \"\\n\")\n",
    "  # analyzed_proteins[[dataset]] <- rownames(central_intensities)\n",
    "\n",
    "  central_intensities <- log2(central_intensities + 1)\n",
    "\n",
    "  # select minimal count across column for each protein (with na.rm = TRUE)\n",
    "  central_counts$count <- apply(central_counts, 1, min, na.rm = TRUE)\n",
    "  central_counts <- central_counts %>% select(count)\n",
    "\n",
    "  # run DE analysis\n",
    "  design <- make_design(central_batch_info, 'condition', 'lab')\n",
    "  contrasts <- makeContrasts(Glu-Pyr, levels = colnames(design))\n",
    "  de_results <- run_DE(central_intensities, central_counts, design, contrasts)\n",
    "  de_results <- de_results %>% rownames_to_column('Protein')\n",
    "  write.table(de_results, file = paste0('/home/yuliya/repos/cosybio/FedProt/evaluation/bacterial/', dataset, '/results/central_res.tsv'), sep = \"\\t\", quote = FALSE, row.names = FALSE)\n",
    "\n",
    "  # plot volcano plot\n",
    "  plot_result <- volcano_plot(\n",
    "    de_results, paste(dataset, \"central\", \", Glu/Pyr\"),\n",
    "    pval_threshold = 0.01, logfc_threshold = 0.58,\n",
    "    show_names = FALSE\n",
    "  )\n",
    "  ggsave(file = paste0('/home/yuliya/repos/cosybio/FedProt/evaluation/bacterial/', dataset, '/central_volcano_plot.svg'), plot = plot_result, width = 8, height = 5)\n",
    "}\n"
   ]
  },
  {
   "cell_type": "code",
   "execution_count": 34,
   "metadata": {
    "vscode": {
     "languageId": "r"
    }
   },
   "outputs": [],
   "source": [
    "analysed_proteins <- list()\n",
    "\n",
    "for(dataset in datasets_list){\n",
    "    analysed_proteins[[dataset]] <- list()\n",
    "    analysed_proteins[[dataset]]$central <- filter_list_META[[dataset]][['Central']]\n",
    "    analysed_proteins[[dataset]]$meta <- filter_list_META[[dataset]][['Meta']]\n",
    "}\n",
    "\n",
    "# write to json\n",
    "write_json(analysed_proteins, \"/home/yuliya/repos/cosybio/FedProt/evaluation/bacterial/analysed_proteins.json\")"
   ]
  },
  {
   "cell_type": "markdown",
   "metadata": {},
   "source": [
    "# Meta run"
   ]
  },
  {
   "cell_type": "markdown",
   "metadata": {},
   "source": [
    "run metaanalyses"
   ]
  },
  {
   "cell_type": "code",
   "execution_count": 25,
   "metadata": {
    "vscode": {
     "languageId": "r"
    }
   },
   "outputs": [],
   "source": [
    "# cd /home/yuliya/repos/cosybio/FedProt/evaluation/bacterial/Meta_DE/balanced/\n",
    "\n",
    "# Rscript /home/yuliya/repos/cosybio/FedProt/evaluation_utils/meta_code/run_MetaDE.R /home/yuliya/repos/cosybio/FedProt/evaluation/bacterial/Meta_DE/balanced/ lab_A lab_B lab_C lab_D lab_E\n",
    "# Rscript /home/yuliya/repos/cosybio/FedProt/evaluation_utils/meta_code/run_MetaVolcanoR.R /home/yuliya/repos/cosybio/FedProt/evaluation/bacterial/Meta_DE/balanced/ lab_A lab_B lab_C lab_D lab_E\n",
    "# Rscript /home/yuliya/repos/cosybio/FedProt/evaluation_utils/meta_code/run_RankProd.R /home/yuliya/repos/cosybio/FedProt/evaluation/bacterial/Meta_DE/balanced/ lab_A lab_B lab_C lab_D lab_E\n",
    "\n",
    "# cp /home/yuliya/repos/cosybio/FedProt/evaluation/bacterial/Meta_DE/balanced/MA_* /home/yuliya/repos/cosybio/FedProt/evaluation/bacterial/balanced/results/"
   ]
  },
  {
   "cell_type": "code",
   "execution_count": 26,
   "metadata": {
    "vscode": {
     "languageId": "r"
    }
   },
   "outputs": [],
   "source": [
    "# cd /home/yuliya/repos/cosybio/FedProt/evaluation/bacterial/Meta_DE/imbalanced/\n",
    "\n",
    "# Rscript /home/yuliya/repos/cosybio/FedProt/evaluation_utils/meta_code/run_MetaDE.R /home/yuliya/repos/cosybio/FedProt/evaluation/bacterial/Meta_DE/imbalanced/ lab_A lab_B lab_C lab_D lab_E\n",
    "# Rscript /home/yuliya/repos/cosybio/FedProt/evaluation_utils/meta_code/run_MetaVolcanoR.R /home/yuliya/repos/cosybio/FedProt/evaluation/bacterial/Meta_DE/imbalanced/ lab_A lab_B lab_C lab_D lab_E\n",
    "# Rscript /home/yuliya/repos/cosybio/FedProt/evaluation_utils/meta_code/run_RankProd.R /home/yuliya/repos/cosybio/FedProt/evaluation/bacterial/Meta_DE/imbalanced/ lab_A lab_B lab_C lab_D lab_E\n",
    "\n",
    "# cp /home/yuliya/repos/cosybio/FedProt/evaluation/bacterial/Meta_DE/imbalanced/MA_* /home/yuliya/repos/cosybio/FedProt/evaluation/bacterial/imbalanced/results/"
   ]
  },
  {
   "cell_type": "code",
   "execution_count": 27,
   "metadata": {
    "vscode": {
     "languageId": "r"
    }
   },
   "outputs": [],
   "source": [
    "# cd /home/yuliya/repos/cosybio/FedProt/evaluation/bacterial/Meta_DE/downsampled/\n",
    "\n",
    "# Rscript /home/yuliya/repos/cosybio/FedProt/evaluation_utils/meta_code/run_MetaDE.R /home/yuliya/repos/cosybio/FedProt/evaluation/bacterial/Meta_DE/downsampled/ lab_A lab_B lab_C lab_D lab_E\n",
    "# Rscript /home/yuliya/repos/cosybio/FedProt/evaluation_utils/meta_code/run_MetaVolcanoR.R /home/yuliya/repos/cosybio/FedProt/evaluation/bacterial/Meta_DE/downsampled/ lab_A lab_B lab_C lab_D lab_E\n",
    "# Rscript /home/yuliya/repos/cosybio/FedProt/evaluation_utils/meta_code/run_RankProd.R /home/yuliya/repos/cosybio/FedProt/evaluation/bacterial/Meta_DE/downsampled/ lab_A lab_B lab_C lab_D lab_E\n",
    "\n",
    "# cp /home/yuliya/repos/cosybio/FedProt/evaluation/bacterial/Meta_DE/downsampled/MA_* /home/yuliya/repos/cosybio/FedProt/evaluation/bacterial/downsampled/results/"
   ]
  },
  {
   "cell_type": "code",
   "execution_count": null,
   "metadata": {
    "vscode": {
     "languageId": "r"
    }
   },
   "outputs": [],
   "source": []
  },
  {
   "cell_type": "code",
   "execution_count": null,
   "metadata": {
    "vscode": {
     "languageId": "r"
    }
   },
   "outputs": [],
   "source": []
  }
 ],
 "metadata": {
  "kernelspec": {
   "display_name": "R",
   "language": "R",
   "name": "ir"
  },
  "language_info": {
   "codemirror_mode": "r",
   "file_extension": ".r",
   "mimetype": "text/x-r-source",
   "name": "R",
   "pygments_lexer": "r",
   "version": "4.2.0"
  }
 },
 "nbformat": 4,
 "nbformat_minor": 2
}
