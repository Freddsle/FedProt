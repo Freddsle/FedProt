{
 "cells": [
  {
   "cell_type": "code",
   "execution_count": null,
   "metadata": {},
   "outputs": [],
   "source": []
  },
  {
   "cell_type": "code",
   "execution_count": null,
   "metadata": {},
   "outputs": [],
   "source": []
  },
  {
   "cell_type": "code",
   "execution_count": null,
   "metadata": {},
   "outputs": [],
   "source": []
  },
  {
   "cell_type": "code",
   "execution_count": null,
   "metadata": {},
   "outputs": [],
   "source": [
    "\n",
    "mode = \"imbalanced/\"\n",
    "# mode = \"balanced/\"\n",
    "i = 1\n",
    "\n",
    "colors = [\"#000000\",\"#E69F00\", \"#CC79A7\", \"#009E73\",\"#56B4E9\"]\n",
    "\n",
    "root_dir = \"/home/yuliya/repos/cosybio/FedDEqMS/code/07_simulation_script_v2/data/\"\n",
    "\n",
    "dfs = {}\n",
    "workdir = root_dir + mode\n",
    "df = read_results(workdir, i)\n",
    "dfs[\"Balanced\"] = df\n",
    "\n",
    "stats = {}\n",
    "\n",
    "for m in [\"Number\", \"FP\", \"FN\", \"F1\", \"MCC\", \"RMSE\", \"ρ\",\"r\", \"MeanLFCdif\", \"MeanPValdif\"]:\n",
    "    for ds in [\"Balanced\"]:  # ,\"Mild Imbalance\",\"Strong Imbalance\"\n",
    "        df = dfs[ds].sort_values(by=\"pv_Rlimma\", ascending = False)\n",
    "        results = calc_stats(df, lfc_thr=1, adj_pval_thr = 0.05,\n",
    "                            methods=[\"FedProt\",\"Fisher\",\"Stouffer\",\"REM\",\"RankProd\"])\n",
    "        stats[(m,i)] = results[m]\n",
    "\n",
    "# save to file\n",
    "results_npf = pd.DataFrame.from_dict(stats).T\n",
    "print(results_npf)\n",
    "results_npf.to_csv(f\"{root_dir}/{mode}/stats_log.tsv\", sep=\"\\t\")\n",
    "\n",
    "# Calculate the statistics\n",
    "stats = calculate_stats_for_topN(dfs, datasets=[\"Balanced\"], \n",
    "                                 metrics=[\"F1\"], \n",
    "                                 methods=[\"FedProt\", \"Fisher\", \"Stouffer\", \"REM\", \"RankProd\"],\n",
    "                                 min_n_genes=3, max_n_genes=100, step=1\n",
    "                                 )\n",
    "stats[\"F1\"][\"Balanced\"].to_csv(f\"{root_dir}/{mode}/f_one_df.tsv\", sep=\"\\t\")\n",
    "\n",
    "print(stats[\"F1\"][\"Balanced\"])\n",
    "print('Evaluation done!')"
   ]
  },
  {
   "cell_type": "markdown",
   "metadata": {},
   "source": []
  },
  {
   "cell_type": "markdown",
   "metadata": {},
   "source": []
  },
  {
   "cell_type": "markdown",
   "metadata": {},
   "source": [
    "# intervals"
   ]
  },
  {
   "cell_type": "markdown",
   "metadata": {},
   "source": []
  },
  {
   "cell_type": "code",
   "execution_count": null,
   "metadata": {},
   "outputs": [],
   "source": [
    "mode = \"balanced/\"\n",
    "i = 1\n",
    "\n",
    "colors = [\"#000000\",\"#E69F00\", \"#CC79A7\", \"#009E73\",\"#56B4E9\"]\n",
    "\n",
    "root_dir = \"/home/yuliya/repos/cosybio/FedDEqMS/code/07_simulation_script_v2/data/\"\n",
    "\n",
    "dfs = {}\n",
    "workdir = root_dir + mode\n",
    "df = read_results(workdir, i)\n",
    "dfs[\"Balanced\"] = df\n"
   ]
  },
  {
   "cell_type": "code",
   "execution_count": null,
   "metadata": {},
   "outputs": [],
   "source": [
    "stats = {}\n",
    "\n",
    "for m in [\"Number\", \"FP\", \"FN\", \"F1\", \"MCC\", \"RMSE\", \"ρ\",\"r\"]:\n",
    "    for ds in [\"Balanced\"]:  # ,\"Mild Imbalance\",\"Strong Imbalance\"\n",
    "        df = dfs[ds].sort_values(by=\"pv_Rlimma\", ascending = False)\n",
    "        results = calc_stats(df, lfc_thr=1, adj_pval_thr = 0.05,\n",
    "                            methods=[\"FedProt\",\"Fisher\",\"Stouffer\",\"REM\",\"RankProd\"])\n",
    "        stats[(m,i)] = results[m]\n",
    "    #print(confusion_matrix)\n",
    "\n",
    "results_rpr_10 = pd.DataFrame.from_dict(stats)\n",
    "results_rpr_10 "
   ]
  }
 ],
 "metadata": {
  "kernelspec": {
   "display_name": "fedprot",
   "language": "python",
   "name": "python3"
  },
  "language_info": {
   "name": "python",
   "version": "3.11.4"
  }
 },
 "nbformat": 4,
 "nbformat_minor": 2
}
