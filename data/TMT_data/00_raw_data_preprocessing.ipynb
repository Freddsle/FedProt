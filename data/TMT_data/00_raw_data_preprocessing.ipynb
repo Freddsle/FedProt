{
 "cells": [
  {
   "cell_type": "code",
   "execution_count": 1,
   "metadata": {
    "vscode": {
     "languageId": "r"
    }
   },
   "outputs": [
    {
     "name": "stderr",
     "output_type": "stream",
     "text": [
      "Warning message:\n",
      "“package ‘tidyverse’ was built under R version 4.2.2”\n",
      "Warning message:\n",
      "“package ‘ggplot2’ was built under R version 4.2.3”\n",
      "Warning message:\n",
      "“package ‘tibble’ was built under R version 4.2.3”\n",
      "Warning message:\n",
      "“package ‘tidyr’ was built under R version 4.2.2”\n",
      "Warning message:\n",
      "“package ‘readr’ was built under R version 4.2.2”\n",
      "Warning message:\n",
      "“package ‘purrr’ was built under R version 4.2.3”\n",
      "Warning message:\n",
      "“package ‘dplyr’ was built under R version 4.2.3”\n",
      "Warning message:\n",
      "“package ‘stringr’ was built under R version 4.2.3”\n",
      "Warning message:\n",
      "“package ‘forcats’ was built under R version 4.2.2”\n",
      "Warning message:\n",
      "“package ‘lubridate’ was built under R version 4.2.2”\n",
      "── \u001b[1mAttaching core tidyverse packages\u001b[22m ──────────────────────── tidyverse 2.0.0 ──\n",
      "\u001b[32m✔\u001b[39m \u001b[34mdplyr    \u001b[39m 1.1.2     \u001b[32m✔\u001b[39m \u001b[34mreadr    \u001b[39m 2.1.4\n",
      "\u001b[32m✔\u001b[39m \u001b[34mforcats  \u001b[39m 1.0.0     \u001b[32m✔\u001b[39m \u001b[34mstringr  \u001b[39m 1.5.0\n",
      "\u001b[32m✔\u001b[39m \u001b[34mggplot2  \u001b[39m 3.4.2     \u001b[32m✔\u001b[39m \u001b[34mtibble   \u001b[39m 3.2.1\n",
      "\u001b[32m✔\u001b[39m \u001b[34mlubridate\u001b[39m 1.9.2     \u001b[32m✔\u001b[39m \u001b[34mtidyr    \u001b[39m 1.3.0\n",
      "\u001b[32m✔\u001b[39m \u001b[34mpurrr    \u001b[39m 1.0.1     \n",
      "── \u001b[1mConflicts\u001b[22m ────────────────────────────────────────── tidyverse_conflicts() ──\n",
      "\u001b[31m✖\u001b[39m \u001b[34mdplyr\u001b[39m::\u001b[32mfilter()\u001b[39m masks \u001b[34mstats\u001b[39m::filter()\n",
      "\u001b[31m✖\u001b[39m \u001b[34mdplyr\u001b[39m::\u001b[32mlag()\u001b[39m    masks \u001b[34mstats\u001b[39m::lag()\n",
      "\u001b[36mℹ\u001b[39m Use the conflicted package (\u001b[3m\u001b[34m<http://conflicted.r-lib.org/>\u001b[39m\u001b[23m) to force all conflicts to become errors\n"
     ]
    }
   ],
   "source": [
    "library(tidyverse)\n",
    "source(\"../../evaluation_utils/preprocessing_raw/preprocessing_report.R\")"
   ]
  },
  {
   "cell_type": "markdown",
   "metadata": {},
   "source": [
    "# Path and meta"
   ]
  },
  {
   "cell_type": "code",
   "execution_count": 2,
   "metadata": {
    "vscode": {
     "languageId": "r"
    }
   },
   "outputs": [],
   "source": [
    "# REVIEWED\n",
    "data_path = '/home/yuliya/repos/cosybio/FedProt/data/TMT_data/raw_reviewed_MQ_report/'\n",
    "\n",
    "# output\n",
    "pg_output_path <- \"/home/yuliya/repos/cosybio/FedProt/data/TMT_data/01_smaller_lib_balanced_PG_MajorPG/\""
   ]
  },
  {
   "cell_type": "code",
   "execution_count": 3,
   "metadata": {
    "vscode": {
     "languageId": "r"
    }
   },
   "outputs": [
    {
     "data": {
      "text/html": [
       "<table class=\"dataframe\">\n",
       "<caption>A data.frame: 3 × 6</caption>\n",
       "<thead>\n",
       "\t<tr><th></th><th scope=col>Quantitative.column.name</th><th scope=col>Pool</th><th scope=col>Reporter.ion</th><th scope=col>Patient</th><th scope=col>Group</th><th scope=col>Center</th></tr>\n",
       "\t<tr><th></th><th scope=col>&lt;chr&gt;</th><th scope=col>&lt;chr&gt;</th><th scope=col>&lt;chr&gt;</th><th scope=col>&lt;chr&gt;</th><th scope=col>&lt;chr&gt;</th><th scope=col>&lt;chr&gt;</th></tr>\n",
       "</thead>\n",
       "<tbody>\n",
       "\t<tr><th scope=row>Reporter.intensity.corrected.1.Pool1</th><td>P_1.RIC_1</td><td>Pool1</td><td>126 </td><td>Common Reference</td><td>Common Reference</td><td>Center1</td></tr>\n",
       "\t<tr><th scope=row>Reporter.intensity.corrected.2.Pool1</th><td>P_1.RIC_2</td><td>Pool1</td><td>127N</td><td>heathy1         </td><td>heathy          </td><td>Center1</td></tr>\n",
       "\t<tr><th scope=row>Reporter.intensity.corrected.3.Pool1</th><td>P_1.RIC_3</td><td>Pool1</td><td>127C</td><td>FSGS1           </td><td>FSGS            </td><td>Center1</td></tr>\n",
       "</tbody>\n",
       "</table>\n"
      ],
      "text/latex": [
       "A data.frame: 3 × 6\n",
       "\\begin{tabular}{r|llllll}\n",
       "  & Quantitative.column.name & Pool & Reporter.ion & Patient & Group & Center\\\\\n",
       "  & <chr> & <chr> & <chr> & <chr> & <chr> & <chr>\\\\\n",
       "\\hline\n",
       "\tReporter.intensity.corrected.1.Pool1 & P\\_1.RIC\\_1 & Pool1 & 126  & Common Reference & Common Reference & Center1\\\\\n",
       "\tReporter.intensity.corrected.2.Pool1 & P\\_1.RIC\\_2 & Pool1 & 127N & heathy1          & heathy           & Center1\\\\\n",
       "\tReporter.intensity.corrected.3.Pool1 & P\\_1.RIC\\_3 & Pool1 & 127C & FSGS1            & FSGS             & Center1\\\\\n",
       "\\end{tabular}\n"
      ],
      "text/markdown": [
       "\n",
       "A data.frame: 3 × 6\n",
       "\n",
       "| <!--/--> | Quantitative.column.name &lt;chr&gt; | Pool &lt;chr&gt; | Reporter.ion &lt;chr&gt; | Patient &lt;chr&gt; | Group &lt;chr&gt; | Center &lt;chr&gt; |\n",
       "|---|---|---|---|---|---|---|\n",
       "| Reporter.intensity.corrected.1.Pool1 | P_1.RIC_1 | Pool1 | 126  | Common Reference | Common Reference | Center1 |\n",
       "| Reporter.intensity.corrected.2.Pool1 | P_1.RIC_2 | Pool1 | 127N | heathy1          | heathy           | Center1 |\n",
       "| Reporter.intensity.corrected.3.Pool1 | P_1.RIC_3 | Pool1 | 127C | FSGS1            | FSGS             | Center1 |\n",
       "\n"
      ],
      "text/plain": [
       "                                     Quantitative.column.name Pool \n",
       "Reporter.intensity.corrected.1.Pool1 P_1.RIC_1                Pool1\n",
       "Reporter.intensity.corrected.2.Pool1 P_1.RIC_2                Pool1\n",
       "Reporter.intensity.corrected.3.Pool1 P_1.RIC_3                Pool1\n",
       "                                     Reporter.ion Patient         \n",
       "Reporter.intensity.corrected.1.Pool1 126          Common Reference\n",
       "Reporter.intensity.corrected.2.Pool1 127N         heathy1         \n",
       "Reporter.intensity.corrected.3.Pool1 127C         FSGS1           \n",
       "                                     Group            Center \n",
       "Reporter.intensity.corrected.1.Pool1 Common Reference Center1\n",
       "Reporter.intensity.corrected.2.Pool1 heathy           Center1\n",
       "Reporter.intensity.corrected.3.Pool1 FSGS             Center1"
      ]
     },
     "metadata": {},
     "output_type": "display_data"
    },
    {
     "data": {
      "text/html": [
       "<style>\n",
       ".list-inline {list-style: none; margin:0; padding: 0}\n",
       ".list-inline>li {display: inline-block}\n",
       ".list-inline>li:not(:last-child)::after {content: \"\\00b7\"; padding: 0 .5ex}\n",
       "</style>\n",
       "<ol class=list-inline><li>65</li><li>6</li></ol>\n"
      ],
      "text/latex": [
       "\\begin{enumerate*}\n",
       "\\item 65\n",
       "\\item 6\n",
       "\\end{enumerate*}\n"
      ],
      "text/markdown": [
       "1. 65\n",
       "2. 6\n",
       "\n",
       "\n"
      ],
      "text/plain": [
       "[1] 65  6"
      ]
     },
     "metadata": {},
     "output_type": "display_data"
    }
   ],
   "source": [
    "# Metadtata\n",
    "\n",
    "metadata <- read.table(\"/home/yuliya/repos/cosybio/FedProt/data/TMT_data/Metadata_CosyBio.tsv\",\n",
    "                       header = TRUE, sep = \"\\t\", stringsAsFactors = FALSE)\n",
    "                       \n",
    "metadata <- metadata %>%\n",
    "            mutate(Quantitative.column.name = gsub(\" \", \".\", Quantitative.column.name))\n",
    "\n",
    "rownames(metadata) <- metadata$Quantitative.column.name\n",
    "metadata <- metadata %>%\n",
    "            mutate(Quantitative.column.name = gsub(\".Pool\", \".P_\", gsub(\"Reporter.intensity.corrected.\", \"RIC_\", Quantitative.column.name)))\n",
    "\n",
    "\n",
    "# remove the outlier\n",
    "metadata <- metadata %>%\n",
    "            filter(Quantitative.column.name != \"RIC_3.P_3\")\n",
    "\n",
    "\n",
    "# rename the columns - put the .P_[1-9]+ after dot before and the rest after (e.g. RIC_1.P_1 -> P_1.RIC_1)\n",
    "metadata <- metadata %>%\n",
    "            mutate(Quantitative.column.name = gsub(\"RIC_([0-9]+).P_([0-9]+)\", \"P_\\\\2.RIC_\\\\1\", Quantitative.column.name))\n",
    "\n",
    "\n",
    "\n",
    "head(metadata, 3)\n",
    "dim(metadata)"
   ]
  },
  {
   "cell_type": "markdown",
   "metadata": {},
   "source": [
    "# Logic"
   ]
  },
  {
   "cell_type": "markdown",
   "metadata": {},
   "source": [
    "Type of data:\n",
    "-  Data summarized using Major.PG.IDs\n",
    "\n",
    "PG_group report is used.  \n",
    "Filtered, then features names and samples columns (+ razor+unique peptides are extracted) and stored into separated files."
   ]
  },
  {
   "cell_type": "markdown",
   "metadata": {},
   "source": [
    "# Extract data"
   ]
  },
  {
   "cell_type": "code",
   "execution_count": 4,
   "metadata": {
    "vscode": {
     "languageId": "r"
    }
   },
   "outputs": [
    {
     "name": "stdout",
     "output_type": "stream",
     "text": [
      "Filtering out decoy, contaminant, and modification site-only entries...\n",
      "Initial data count: 563 \n",
      "Filtered data count: 491 \n",
      "Processed data count: 491 \n",
      "Counts data count: 491 \n",
      "Filtering out decoy, contaminant, and modification site-only entries...\n",
      "Initial data count: 578 \n",
      "Filtered data count: 516 \n",
      "Processed data count: 516 \n",
      "Counts data count: 516 \n",
      "Filtering out decoy, contaminant, and modification site-only entries...\n",
      "Initial data count: 491 \n",
      "Filtered data count: 438 \n",
      "Processed data count: 438 \n",
      "Counts data count: 438 \n"
     ]
    }
   ],
   "source": [
    "# List of input files\n",
    "list_of_inputs <- list(\n",
    "    \"Center1\" = paste0(data_path, \"Center1/proteinGroups.txt\"),\n",
    "    \"Center2\" = paste0(data_path, \"Center2/proteinGroups.txt\"),\n",
    "    \"Center3\" = paste0(data_path, \"Center3/proteinGroups.txt\")\n",
    ")\n",
    "\n",
    "# Initialize empty lists to store combined data\n",
    "combined_pg_intensities <- list()\n",
    "combined_counts <- list()\n",
    "\n",
    "# Iterate over each center\n",
    "for(center in names(list_of_inputs)) {\n",
    "    # Determine the center folder based on the center name\n",
    "    center_folder <- ifelse(center == \"Center1\", \"center_one\", ifelse(center == \"Center2\", \"center_two\", \"center_three\"))\n",
    "\n",
    "    # Filter metadata for the current center\n",
    "    center_metadata <- metadata %>%\n",
    "        filter(Center == center)\n",
    "\n",
    "    # Preprocess the MaxQuant output file for the current center\n",
    "    results_list <- preprocess_data_mxout(list_of_inputs[[center]], center_metadata, data_type='protein')\n",
    "    pg_intensities <- results_list[[1]]\n",
    "    counts_df <- results_list[[2]]\n",
    "\n",
    "    # Add the processed data to the combined lists\n",
    "    combined_pg_intensities <- c(combined_pg_intensities, list(pg_intensities))\n",
    "    combined_counts <- c(combined_counts, list(counts_df))\n",
    "}\n",
    "\n",
    "# Add names to the combined lists\n",
    "names(combined_pg_intensities) <- names(list_of_inputs)\n",
    "names(combined_counts) <- names(list_of_inputs)"
   ]
  },
  {
   "cell_type": "code",
   "execution_count": 6,
   "metadata": {
    "vscode": {
     "languageId": "r"
    }
   },
   "outputs": [],
   "source": [
    "\n",
    "# This loop iterates over a list of centers and performs data preparation tasks for each center.\n",
    "for(center in list(\"Center1\", \"Center2\", \"Center3\")) {\n",
    "  # create sub dir for each center\n",
    "  sub_dir <- paste0(pg_output_path, center)\n",
    "  if(!dir.exists(sub_dir)) {\n",
    "    dir.create(sub_dir)\n",
    "  }\n",
    "\n",
    "  # Summarize names\n",
    "  intensities <- combined_pg_intensities[[center]] %>%\n",
    "    select(-Gene.names)\n",
    "  write.table(intensities, paste0(sub_dir, \"/for_sorting_check.tsv\"), sep = \"\\t\", quote = FALSE, row.names = FALSE)\n",
    "    \n",
    "  intensities <- intensities %>%\n",
    "    group_by(Majority.protein.IDs) %>%\n",
    "    rowwise() %>% # Apply the following operations to each row individually\n",
    "    # sort!\n",
    "    mutate(Majority.protein.IDs = map_chr(strsplit(Majority.protein.IDs, \";\"), ~paste(sort(.x), collapse = \";\")))\n",
    "\n",
    "  # replace 0 with NA\n",
    "  intensities <- intensities %>%\n",
    "    mutate_all(~replace(., . == 0, NA))\n",
    "\n",
    "  # Write  intensities to a file\n",
    "  write.table(intensities, paste0(sub_dir, \"/pg_intensities.tsv\"), sep = \"\\t\", quote = FALSE, row.names = FALSE)\n",
    "    \n",
    "  # Summarize counts\n",
    "  counts_df <- combined_counts[[center]] %>%\n",
    "    select(-c(Gene.names, Peptide.IDs, Peptide.is.razor)) %>%\n",
    "    rowwise() %>% # Apply the following operations to each row individually\n",
    "    mutate(Majority.protein.IDs = map_chr(strsplit(Majority.protein.IDs, \";\"), ~paste(sort(.x), collapse = \";\"))) %>%\n",
    "    rename(\"counts\" = \"Razor...unique.peptides\")\n",
    "\n",
    "  # Write counts to a file\n",
    "  write.table(counts_df, paste0(sub_dir, \"/pg_counts.tsv\"), sep = \"\\t\", quote = FALSE, row.names = FALSE)\n",
    "\n",
    "  # Write metadata to a file\n",
    "  metadata %>%\n",
    "    # rownames_to_column(\"filename\") %>%\n",
    "    filter(Center == center) %>%\n",
    "    write.table(paste0(sub_dir, \"/metadata.tsv\"), sep = \"\\t\", quote = FALSE, row.names = FALSE)\n",
    "\n",
    "\n",
    "  # write a design file\n",
    "  for_dummy <- metadata %>%\n",
    "    filter(Center == center) %>% \n",
    "    mutate(Group = ifelse(Group == \"Common Reference\", \"CommonReference\", Group))\n",
    "  rownames(for_dummy) <- for_dummy$Quantitative.column.name\n",
    "  dummy_df <- model.matrix(~0+Group, for_dummy)\n",
    "  colnames(dummy_df) <- gsub(\"Group\", \"\", colnames(dummy_df))\n",
    "\n",
    "  for_dummy <- for_dummy %>% \n",
    "      rownames_to_column(\"filename\") %>%\n",
    "      select(-c(Quantitative.column.name, Reporter.ion, Group, Patient)) %>% \n",
    "      cbind(dummy_df)\n",
    "  write.table(for_dummy, paste0(sub_dir, \"/design.tsv\"), sep = \"\\t\", quote = FALSE, row.names = FALSE)\n",
    "\n",
    "}\n",
    "\n",
    "# write metadata to a file\n",
    "metadata %>%\n",
    "  rownames_to_column(\"filename\") %>%\n",
    "  write.table(paste0(pg_output_path, \"metadata.tsv\"), sep = \"\\t\", quote = FALSE, row.names = FALSE)"
   ]
  },
  {
   "cell_type": "markdown",
   "metadata": {},
   "source": [
    "# Make data imbalanced\n",
    "\n",
    "-- references were removed"
   ]
  },
  {
   "cell_type": "code",
   "execution_count": 5,
   "metadata": {
    "vscode": {
     "languageId": "r"
    }
   },
   "outputs": [],
   "source": [
    "sample_based_on_rules <- function(center, pool, metadata) {\n",
    "  set.seed(42)  # Set seed for reproducibility\n",
    "  \n",
    "  if (center == \"Center1\") {\n",
    "    if (pool == \"Pool1\") {\n",
    "      heathy_samples <- rownames(metadata[metadata$Group == 'heathy' & metadata$Pool == pool, ][sample(1:nrow(metadata[metadata$Group == 'heathy' & metadata$Pool == pool, ]), 2), ])\n",
    "      FSGS_samples <- rownames(metadata[metadata$Group == 'FSGS' & metadata$Pool == pool, ][sample(1:nrow(metadata[metadata$Group == 'FSGS' & metadata$Pool == pool, ]), 2), ])\n",
    "    } else if (pool == \"Pool2\") {\n",
    "      heathy_samples <- rownames(metadata[metadata$Group == 'heathy' & metadata$Pool == pool, ][sample(1:nrow(metadata[metadata$Group == 'heathy' & metadata$Pool == pool, ]), 1), ])\n",
    "      FSGS_samples <- rownames(metadata[metadata$Group == 'FSGS' & metadata$Pool == pool, ][sample(1:nrow(metadata[metadata$Group == 'FSGS' & metadata$Pool == pool, ]), 2), ])\n",
    "    }\n",
    "  } else if (center == \"Center2\") {\n",
    "    if (pool == \"Pool3\") {\n",
    "      heathy_samples <- rownames(metadata[metadata$Group == 'heathy' & metadata$Pool == pool, ][sample(1:nrow(metadata[metadata$Group == 'heathy' & metadata$Pool == pool, ]), 4), ])\n",
    "      FSGS_samples <- rownames(metadata[metadata$Group == 'FSGS' & metadata$Pool == pool, ][sample(1:nrow(metadata[metadata$Group == 'FSGS' & metadata$Pool == pool, ]), 1), ])\n",
    "    } else if (pool == \"Pool5\") {\n",
    "      heathy_samples <- rownames(metadata[metadata$Group == 'heathy' & metadata$Pool == pool, ][sample(1:nrow(metadata[metadata$Group == 'heathy' & metadata$Pool == pool, ]), 3), ])\n",
    "      FSGS_samples <- rownames(metadata[metadata$Group == 'FSGS' & metadata$Pool == pool, ][sample(1:nrow(metadata[metadata$Group == 'FSGS' & metadata$Pool == pool, ]), 2), ])\n",
    "    }\n",
    "  } else if (center == \"Center3\") {\n",
    "    if (pool == \"Pool4\") {\n",
    "      heathy_samples <- rownames(metadata[metadata$Group == 'heathy' & metadata$Pool == pool, ][sample(1:nrow(metadata[metadata$Group == 'heathy' & metadata$Pool == pool, ]), 5), ])\n",
    "      FSGS_samples <- rownames(metadata[metadata$Group == 'FSGS' & metadata$Pool == pool, ][sample(1:nrow(metadata[metadata$Group == 'FSGS' & metadata$Pool == pool, ]), 5), ])\n",
    "    } else if (pool == \"Pool6\") {\n",
    "      heathy_samples <- rownames(metadata[metadata$Group == 'heathy' & metadata$Pool == pool, ][sample(1:nrow(metadata[metadata$Group == 'heathy' & metadata$Pool == pool, ]), 5), ])\n",
    "      FSGS_samples <- rownames(metadata[metadata$Group == 'FSGS' & metadata$Pool == pool, ][sample(1:nrow(metadata[metadata$Group == 'FSGS' & metadata$Pool == pool, ]), 4), ])\n",
    "    }\n",
    "  } else {\n",
    "    stop(\"Invalid center or pool\")\n",
    "  }\n",
    "  \n",
    "  return(c(heathy_samples, FSGS_samples))\n",
    "}"
   ]
  },
  {
   "cell_type": "code",
   "execution_count": 6,
   "metadata": {
    "vscode": {
     "languageId": "r"
    }
   },
   "outputs": [
    {
     "name": "stdout",
     "output_type": "stream",
     "text": [
      "Shape of imbalanced_meta:  36 7 \n"
     ]
    }
   ],
   "source": [
    "# output\n",
    "pg_output_path <- \"/home/yuliya/repos/cosybio/FedProt/data/TMT_data/01_smaller_lib_balanced_PG_MajorPG/\"\n",
    "output_path <- \"/home/yuliya/repos/cosybio/FedProt/data/TMT_data/01_smaller_lib_imbalanced_PG_MajorPG/\"\n",
    "\n",
    "imbalanced_meta <- NULL\n",
    "\n",
    "# This loop iterates over a list of centers and performs data preparation tasks for each center.\n",
    "for(center in list(\"Center1\", \"Center2\", \"Center3\")) {\n",
    "  # create sub dir for each center\n",
    "  sub_dir <- paste0(output_path, center)\n",
    "  if(!dir.exists(sub_dir)) {\n",
    "    dir.create(sub_dir, recursive = TRUE)\n",
    "  }\n",
    "\n",
    "  # read full metadata\n",
    "  metadata <- read.table(\"/home/yuliya/repos/cosybio/FedProt/data/TMT_data/01_smaller_lib_balanced_PG_MajorPG/metadata.tsv\",\n",
    "                         header = TRUE, sep = \"\\t\", stringsAsFactors = FALSE) %>%\n",
    "    filter(Center == center)\n",
    "  rownames(metadata) <- metadata$Quantitative.column.name\n",
    "\n",
    "  # select random samples according to the rule:\n",
    "  keep_samples <- c()\n",
    "\n",
    "  for(pool in unique(metadata$Pool)) {\n",
    "    selected_samples <- c(keep_samples, sample_based_on_rules(center, pool, metadata))\n",
    "    keep_samples <- c(keep_samples, selected_samples)\n",
    "  }\n",
    "  metadata <- metadata[metadata$Quantitative.column.name %in% keep_samples, ]\n",
    "\n",
    "  # read intensities from prev step for the center and filter them\n",
    "  intensities <- read.table(paste0(pg_output_path, center, \"/pg_intensities.tsv\"), header = TRUE, sep = \"\\t\", stringsAsFactors = FALSE)\n",
    "  rownames(intensities) <- intensities$Majority.protein.IDs\n",
    "  intensities <- intensities[,colnames(intensities) %in% keep_samples] %>%\n",
    "    rownames_to_column(\"Majority.protein.IDs\")\n",
    "\n",
    "  # read counts from prev step for the center and filter them\n",
    "  counts <- read.table(paste0(pg_output_path, center, \"/pg_counts.tsv\"), header = TRUE, sep = \"\\t\", stringsAsFactors = FALSE)\n",
    "  \n",
    "\n",
    "  # write intensities to a file\n",
    "  write.table(intensities, paste0(sub_dir, \"/pg_intensities.tsv\"), sep = \"\\t\", quote = FALSE, row.names = FALSE)\n",
    "  # write counts to a file\n",
    "  write.table(counts, paste0(sub_dir, \"/pg_counts.tsv\"), sep = \"\\t\", quote = FALSE, row.names = FALSE)\n",
    "  # write metadata to a file\n",
    "  write.table(metadata, paste0(sub_dir, \"/metadata.tsv\"), sep = \"\\t\", quote = FALSE, row.names = FALSE)\n",
    "\n",
    "\n",
    "  # create design df\n",
    "  for_dummy <- metadata\n",
    "  rownames(for_dummy) <- for_dummy$Quantitative.column.name\n",
    "  dummy_df <- model.matrix(~0+Group, for_dummy)\n",
    "  colnames(dummy_df) <- gsub(\"Group\", \"\", colnames(dummy_df))\n",
    "\n",
    "  # # write design to a file\n",
    "  for_dummy <- for_dummy %>% \n",
    "    select(-c(filename, Quantitative.column.name, Reporter.ion, Group, Patient)) %>% \n",
    "    rownames_to_column(\"filename\") %>%\n",
    "    cbind(dummy_df)\n",
    "  write.table(for_dummy, paste0(sub_dir, \"/design.tsv\"), sep = \"\\t\", quote = FALSE, row.names = FALSE)\n",
    "  \n",
    "\n",
    "  # add metadata to the imbalanced_meta\n",
    "  if(is.null(imbalanced_meta)) {\n",
    "    imbalanced_meta <- metadata\n",
    "  } else {\n",
    "    imbalanced_meta <- rbind(imbalanced_meta, metadata)\n",
    "  }\n",
    "}\n",
    "\n",
    "cat(\"Shape of imbalanced_meta: \", dim(imbalanced_meta), \"\\n\")\n",
    "#write in to a file\n",
    "write.table(imbalanced_meta, paste0(output_path, \"metadata.tsv\"), sep = \"\\t\", quote = FALSE, row.names = FALSE)"
   ]
  },
  {
   "cell_type": "markdown",
   "metadata": {},
   "source": [
    "# Downsampled"
   ]
  },
  {
   "cell_type": "code",
   "execution_count": 7,
   "metadata": {
    "vscode": {
     "languageId": "r"
    }
   },
   "outputs": [],
   "source": [
    "sample_based_on_rules <- function(center, pool, metadata) {\n",
    "  set.seed(42)  # Set seed for reproducibility\n",
    "  \n",
    "  if (center == \"Center1\") {\n",
    "    if (pool == \"Pool1\" || pool == \"Pool2\") {\n",
    "      heathy_samples <- rownames(metadata[metadata$Group == 'heathy' & metadata$Pool == pool, ][sample(1:nrow(metadata[metadata$Group == 'heathy' & metadata$Pool == pool, ]), 3), ])\n",
    "      FSGS_samples <- rownames(metadata[metadata$Group == 'FSGS' & metadata$Pool == pool, ][sample(1:nrow(metadata[metadata$Group == 'FSGS' & metadata$Pool == pool, ]), 3), ])\n",
    "    }\n",
    "  } else if (center == \"Center2\") {\n",
    "    if (pool == \"Pool3\") {\n",
    "      heathy_samples <- rownames(metadata[metadata$Group == 'heathy' & metadata$Pool == pool, ][sample(1:nrow(metadata[metadata$Group == 'heathy' & metadata$Pool == pool, ]), 3), ])\n",
    "      FSGS_samples <- rownames(metadata[metadata$Group == 'FSGS' & metadata$Pool == pool, ][sample(1:nrow(metadata[metadata$Group == 'FSGS' & metadata$Pool == pool, ]), 3), ])\n",
    "    } else if (pool == \"Pool5\") {\n",
    "      heathy_samples <- rownames(metadata[metadata$Group == 'heathy' & metadata$Pool == pool, ][sample(1:nrow(metadata[metadata$Group == 'heathy' & metadata$Pool == pool, ]), 3), ])\n",
    "      FSGS_samples <- rownames(metadata[metadata$Group == 'FSGS' & metadata$Pool == pool, ][sample(1:nrow(metadata[metadata$Group == 'FSGS' & metadata$Pool == pool, ]), 3), ])\n",
    "    }\n",
    "  } else if (center == \"Center3\") {\n",
    "    if (pool == \"Pool4\") {\n",
    "      heathy_samples <- rownames(metadata[metadata$Group == 'heathy' & metadata$Pool == pool, ][sample(1:nrow(metadata[metadata$Group == 'heathy' & metadata$Pool == pool, ]), 3), ])\n",
    "      FSGS_samples <- rownames(metadata[metadata$Group == 'FSGS' & metadata$Pool == pool, ][sample(1:nrow(metadata[metadata$Group == 'FSGS' & metadata$Pool == pool, ]), 3), ])\n",
    "    } else if (pool == \"Pool6\") {\n",
    "      heathy_samples <- rownames(metadata[metadata$Group == 'heathy' & metadata$Pool == pool, ][sample(1:nrow(metadata[metadata$Group == 'heathy' & metadata$Pool == pool, ]), 3), ])\n",
    "      FSGS_samples <- rownames(metadata[metadata$Group == 'FSGS' & metadata$Pool == pool, ][sample(1:nrow(metadata[metadata$Group == 'FSGS' & metadata$Pool == pool, ]), 3), ])\n",
    "    }\n",
    "  } else {\n",
    "    stop(\"Invalid center or pool\")\n",
    "  }\n",
    "  \n",
    "  return(c(heathy_samples, FSGS_samples))\n",
    "}"
   ]
  },
  {
   "cell_type": "code",
   "execution_count": 8,
   "metadata": {
    "vscode": {
     "languageId": "r"
    }
   },
   "outputs": [
    {
     "name": "stdout",
     "output_type": "stream",
     "text": [
      "Shape of imbalanced_meta:  36 7 \n"
     ]
    }
   ],
   "source": [
    "# output\n",
    "pg_output_path <- \"/home/yuliya/repos/cosybio/FedProt/data/TMT_data/01_smaller_lib_balanced_PG_MajorPG/\"\n",
    "output_path <- \"/home/yuliya/repos/cosybio/FedProt/data/TMT_data/01_smaller_lib_downsampled_PG_MajorPG/\"\n",
    "\n",
    "imbalanced_meta <- NULL\n",
    "\n",
    "# This loop iterates over a list of centers and performs data preparation tasks for each center.\n",
    "for(center in list(\"Center1\", \"Center2\", \"Center3\")) {\n",
    "  # create sub dir for each center\n",
    "  sub_dir <- paste0(output_path, center)\n",
    "  if(!dir.exists(sub_dir)) {\n",
    "    dir.create(sub_dir, recursive = TRUE)\n",
    "  }\n",
    "\n",
    "  # read full metadata\n",
    "  metadata <- read.table(\"/home/yuliya/repos/cosybio/FedProt/data/TMT_data/01_smaller_lib_balanced_PG_MajorPG/metadata.tsv\",\n",
    "                         header = TRUE, sep = \"\\t\", stringsAsFactors = FALSE) %>%\n",
    "    filter(Center == center)\n",
    "  rownames(metadata) <- metadata$Quantitative.column.name\n",
    "\n",
    "  # select random samples according to the rule:\n",
    "  keep_samples <- c()\n",
    "\n",
    "  for(pool in unique(metadata$Pool)) {\n",
    "    selected_samples <- c(keep_samples, sample_based_on_rules(center, pool, metadata))\n",
    "    keep_samples <- c(keep_samples, selected_samples)\n",
    "  }\n",
    "  metadata <- metadata[metadata$Quantitative.column.name %in% keep_samples, ]\n",
    "\n",
    "  # read intensities from prev step for the center and filter them\n",
    "  intensities <- read.table(paste0(pg_output_path, center, \"/pg_intensities.tsv\"), header = TRUE, sep = \"\\t\", stringsAsFactors = FALSE)\n",
    "  rownames(intensities) <- intensities$Majority.protein.IDs\n",
    "  intensities <- intensities[,colnames(intensities) %in% keep_samples] %>%\n",
    "    rownames_to_column(\"Majority.protein.IDs\")\n",
    "\n",
    "  # read counts from prev step for the center and filter them\n",
    "  counts <- read.table(paste0(pg_output_path, center, \"/pg_counts.tsv\"), header = TRUE, sep = \"\\t\", stringsAsFactors = FALSE)\n",
    "  \n",
    "\n",
    "  # write intensities to a file\n",
    "  write.table(intensities, paste0(sub_dir, \"/pg_intensities.tsv\"), sep = \"\\t\", quote = FALSE, row.names = FALSE)\n",
    "  # write counts to a file\n",
    "  write.table(counts, paste0(sub_dir, \"/pg_counts.tsv\"), sep = \"\\t\", quote = FALSE, row.names = FALSE)\n",
    "  # write metadata to a file\n",
    "  write.table(metadata, paste0(sub_dir, \"/metadata.tsv\"), sep = \"\\t\", quote = FALSE, row.names = FALSE)\n",
    "\n",
    "\n",
    "  # create design df\n",
    "  for_dummy <- metadata\n",
    "  rownames(for_dummy) <- for_dummy$Quantitative.column.name\n",
    "  dummy_df <- model.matrix(~0+Group, for_dummy)\n",
    "  colnames(dummy_df) <- gsub(\"Group\", \"\", colnames(dummy_df))\n",
    "\n",
    "  # # write design to a file\n",
    "  for_dummy <- for_dummy %>% \n",
    "    select(-c(filename, Quantitative.column.name, Reporter.ion, Group, Patient)) %>% \n",
    "    rownames_to_column(\"filename\") %>%\n",
    "    cbind(dummy_df)\n",
    "  write.table(for_dummy, paste0(sub_dir, \"/design.tsv\"), sep = \"\\t\", quote = FALSE, row.names = FALSE)\n",
    "  \n",
    "\n",
    "  # add metadata to the imbalanced_meta\n",
    "  if(is.null(imbalanced_meta)) {\n",
    "    imbalanced_meta <- metadata\n",
    "  } else {\n",
    "    imbalanced_meta <- rbind(imbalanced_meta, metadata)\n",
    "  }\n",
    "}\n",
    "\n",
    "cat(\"Shape of imbalanced_meta: \", dim(imbalanced_meta), \"\\n\")\n",
    "#write in to a file\n",
    "write.table(imbalanced_meta, paste0(output_path, \"metadata.tsv\"), sep = \"\\t\", quote = FALSE, row.names = FALSE)"
   ]
  },
  {
   "cell_type": "code",
   "execution_count": null,
   "metadata": {
    "vscode": {
     "languageId": "r"
    }
   },
   "outputs": [],
   "source": []
  }
 ],
 "metadata": {
  "kernelspec": {
   "display_name": "R",
   "language": "R",
   "name": "ir"
  },
  "language_info": {
   "codemirror_mode": "r",
   "file_extension": ".r",
   "mimetype": "text/x-r-source",
   "name": "R",
   "pygments_lexer": "r",
   "version": "4.2.0"
  }
 },
 "nbformat": 4,
 "nbformat_minor": 2
}
