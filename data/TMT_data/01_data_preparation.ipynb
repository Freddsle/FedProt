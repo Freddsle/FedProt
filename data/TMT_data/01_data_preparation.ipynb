{
 "cells": [
  {
   "cell_type": "code",
   "execution_count": 65,
   "metadata": {
    "vscode": {
     "languageId": "r"
    }
   },
   "outputs": [],
   "source": [
    "library(tidyverse)\n",
    "library(UpSetR)"
   ]
  },
  {
   "cell_type": "code",
   "execution_count": 66,
   "metadata": {
    "vscode": {
     "languageId": "r"
    }
   },
   "outputs": [
    {
     "data": {
      "text/html": [
       "<table class=\"dataframe\">\n",
       "<caption>A data.frame: 3 × 6</caption>\n",
       "<thead>\n",
       "\t<tr><th></th><th scope=col>Quantitative.column.name</th><th scope=col>Pool</th><th scope=col>Reporter.ion</th><th scope=col>Patient</th><th scope=col>Group</th><th scope=col>Center</th></tr>\n",
       "\t<tr><th></th><th scope=col>&lt;chr&gt;</th><th scope=col>&lt;chr&gt;</th><th scope=col>&lt;chr&gt;</th><th scope=col>&lt;chr&gt;</th><th scope=col>&lt;chr&gt;</th><th scope=col>&lt;chr&gt;</th></tr>\n",
       "</thead>\n",
       "<tbody>\n",
       "\t<tr><th scope=row>Reporter.intensity.corrected.1.Pool1</th><td>P_1.RIC_1</td><td>Pool1</td><td>126 </td><td>Common Reference</td><td>Common Reference</td><td>Center1</td></tr>\n",
       "\t<tr><th scope=row>Reporter.intensity.corrected.2.Pool1</th><td>P_1.RIC_2</td><td>Pool1</td><td>127N</td><td>heathy1         </td><td>heathy          </td><td>Center1</td></tr>\n",
       "\t<tr><th scope=row>Reporter.intensity.corrected.3.Pool1</th><td>P_1.RIC_3</td><td>Pool1</td><td>127C</td><td>FSGS1           </td><td>FSGS            </td><td>Center1</td></tr>\n",
       "</tbody>\n",
       "</table>\n"
      ],
      "text/latex": [
       "A data.frame: 3 × 6\n",
       "\\begin{tabular}{r|llllll}\n",
       "  & Quantitative.column.name & Pool & Reporter.ion & Patient & Group & Center\\\\\n",
       "  & <chr> & <chr> & <chr> & <chr> & <chr> & <chr>\\\\\n",
       "\\hline\n",
       "\tReporter.intensity.corrected.1.Pool1 & P\\_1.RIC\\_1 & Pool1 & 126  & Common Reference & Common Reference & Center1\\\\\n",
       "\tReporter.intensity.corrected.2.Pool1 & P\\_1.RIC\\_2 & Pool1 & 127N & heathy1          & heathy           & Center1\\\\\n",
       "\tReporter.intensity.corrected.3.Pool1 & P\\_1.RIC\\_3 & Pool1 & 127C & FSGS1            & FSGS             & Center1\\\\\n",
       "\\end{tabular}\n"
      ],
      "text/markdown": [
       "\n",
       "A data.frame: 3 × 6\n",
       "\n",
       "| <!--/--> | Quantitative.column.name &lt;chr&gt; | Pool &lt;chr&gt; | Reporter.ion &lt;chr&gt; | Patient &lt;chr&gt; | Group &lt;chr&gt; | Center &lt;chr&gt; |\n",
       "|---|---|---|---|---|---|---|\n",
       "| Reporter.intensity.corrected.1.Pool1 | P_1.RIC_1 | Pool1 | 126  | Common Reference | Common Reference | Center1 |\n",
       "| Reporter.intensity.corrected.2.Pool1 | P_1.RIC_2 | Pool1 | 127N | heathy1          | heathy           | Center1 |\n",
       "| Reporter.intensity.corrected.3.Pool1 | P_1.RIC_3 | Pool1 | 127C | FSGS1            | FSGS             | Center1 |\n",
       "\n"
      ],
      "text/plain": [
       "                                     Quantitative.column.name Pool \n",
       "Reporter.intensity.corrected.1.Pool1 P_1.RIC_1                Pool1\n",
       "Reporter.intensity.corrected.2.Pool1 P_1.RIC_2                Pool1\n",
       "Reporter.intensity.corrected.3.Pool1 P_1.RIC_3                Pool1\n",
       "                                     Reporter.ion Patient         \n",
       "Reporter.intensity.corrected.1.Pool1 126          Common Reference\n",
       "Reporter.intensity.corrected.2.Pool1 127N         heathy1         \n",
       "Reporter.intensity.corrected.3.Pool1 127C         FSGS1           \n",
       "                                     Group            Center \n",
       "Reporter.intensity.corrected.1.Pool1 Common Reference Center1\n",
       "Reporter.intensity.corrected.2.Pool1 heathy           Center1\n",
       "Reporter.intensity.corrected.3.Pool1 FSGS             Center1"
      ]
     },
     "metadata": {},
     "output_type": "display_data"
    },
    {
     "data": {
      "text/html": [
       "<style>\n",
       ".list-inline {list-style: none; margin:0; padding: 0}\n",
       ".list-inline>li {display: inline-block}\n",
       ".list-inline>li:not(:last-child)::after {content: \"\\00b7\"; padding: 0 .5ex}\n",
       "</style>\n",
       "<ol class=list-inline><li>65</li><li>6</li></ol>\n"
      ],
      "text/latex": [
       "\\begin{enumerate*}\n",
       "\\item 65\n",
       "\\item 6\n",
       "\\end{enumerate*}\n"
      ],
      "text/markdown": [
       "1. 65\n",
       "2. 6\n",
       "\n",
       "\n"
      ],
      "text/plain": [
       "[1] 65  6"
      ]
     },
     "metadata": {},
     "output_type": "display_data"
    }
   ],
   "source": [
    "# Metadtata\n",
    "\n",
    "metadata <- read.table(\"/home/yuliya/repos/cosybio/FedProt/data/TMT_data/raw_MaxQuant_reports/Metadata_CosyBio.tsv\",\n",
    "                       header = TRUE, sep = \"\\t\", stringsAsFactors = FALSE)\n",
    "                       \n",
    "metadata <- metadata %>%\n",
    "            mutate(Quantitative.column.name = gsub(\" \", \".\", Quantitative.column.name))\n",
    "\n",
    "rownames(metadata) <- metadata$Quantitative.column.name\n",
    "metadata <- metadata %>%\n",
    "            mutate(Quantitative.column.name = gsub(\".Pool\", \".P_\", gsub(\"Reporter.intensity.corrected.\", \"RIC_\", Quantitative.column.name)))\n",
    "\n",
    "\n",
    "# remove the outlier\n",
    "metadata <- metadata %>%\n",
    "            filter(Quantitative.column.name != \"RIC_3.P_3\")\n",
    "\n",
    "\n",
    "# rename the columns - put the .P_[1-9]+ after dot before and the rest after (e.g. RIC_1.P_1 -> P_1.RIC_1)\n",
    "metadata <- metadata %>%\n",
    "            mutate(Quantitative.column.name = gsub(\"RIC_([0-9]+).P_([0-9]+)\", \"P_\\\\2.RIC_\\\\1\", Quantitative.column.name))\n",
    "\n",
    "\n",
    "\n",
    "head(metadata, 3)\n",
    "dim(metadata)"
   ]
  },
  {
   "cell_type": "markdown",
   "metadata": {},
   "source": [
    "# Logic"
   ]
  },
  {
   "cell_type": "markdown",
   "metadata": {},
   "source": [
    "Three types of data:\n",
    "- (1) Data summarized using Gene names\n",
    "- (2) Data summarized using Major.PG.IDs\n",
    "- (3) Data summarized to PG from peptides level.\n",
    "- (4) Data summarized to Gene.names from peptides level.\n",
    "\n",
    "\n",
    "For (1) and (2) PG_group report is used.  \n",
    "Filtered, then features names and samples columns (+ razor+unique peptides are extracted) and stored into separated files.\n",
    "\n",
    "For (3) and (4) approach from MaxQuant for data aggregation is used. Filtered on peptides level, then summarized into PG group using MaxQuant logic. "
   ]
  },
  {
   "cell_type": "markdown",
   "metadata": {},
   "source": [
    "# Extract data for (1) and (2)"
   ]
  },
  {
   "cell_type": "code",
   "execution_count": 67,
   "metadata": {
    "vscode": {
     "languageId": "r"
    }
   },
   "outputs": [],
   "source": [
    "# Function to preprocess the data from a given path and metadata\n",
    "# Args:\n",
    "#   path: The file path of the data to be preprocessed\n",
    "#   meta_data: The metadata associated with the data\n",
    "# Returns:\n",
    "#   A list containing the preprocessed protein intensities and counts\n",
    "preprocess_mxout <- function(path, meta_data){\n",
    "    PG_report <- read.table(\n",
    "        path,\n",
    "        header=T,\n",
    "        sep=\"\\t\",\n",
    "        stringsAsFactors = F)\n",
    "    \n",
    "    # remove decoy matches and matches to contaminant\n",
    "    PG_report <- PG_report[!PG_report$Reverse==\"+\",]\n",
    "    PG_report <- PG_report[!PG_report$Potential.contaminant==\"+\",]\n",
    "    # if the PG_report$Only.identified.by.site is not all NA and contains \"+\" values - remove this rows\n",
    "    if(!all(is.na(PG_report$Only.identified.by.site))) {\n",
    "        # # Only.identified.by.site - exclude proteins that were only identified by a modification site\n",
    "        PG_report <- PG_report[!PG_report$Only.identified.by.site==\"+\",]\n",
    "    }\n",
    "\n",
    "    # PG_report <- PG_report[PG_report$Gene.names != '',]\n",
    "\n",
    "\n",
    "    pg_intensities <- PG_report %>%\n",
    "        select(c(Majority.protein.IDs, Gene.names, rownames(meta_data)))\n",
    "    colnames(pg_intensities) <- c(\"Majority.protein.IDs\", \"Gene.names\", meta_data$Quantitative.column.name)\n",
    "    print(length(pg_intensities$Majority.protein.IDs))\n",
    "\n",
    "    # counts\n",
    "    pg_counts <- PG_report %>%\n",
    "        select(c(\"Majority.protein.IDs\", \"Gene.names\", \"Peptide.IDs\", \"Razor...unique.peptides\", \"Peptide.is.razor\"))\n",
    "\n",
    "    return(list(pg_intensities, pg_counts)) \n",
    "}"
   ]
  },
  {
   "cell_type": "code",
   "execution_count": 68,
   "metadata": {
    "vscode": {
     "languageId": "r"
    }
   },
   "outputs": [
    {
     "name": "stdout",
     "output_type": "stream",
     "text": [
      "[1] 500\n",
      "[1] 530\n",
      "[1] 456\n"
     ]
    }
   ],
   "source": [
    "# List of input files\n",
    "list_of_inputs <- list(\n",
    "    \"Center1\" = \"/home/yuliya/repos/cosybio/FedProt/data/TMT_data/raw_MaxQuant_reports/proteinGroups_center1.txt\",\n",
    "    \"Center2\" = \"/home/yuliya/repos/cosybio/FedProt/data/TMT_data/raw_MaxQuant_reports/proteinGroups_center2.txt\",\n",
    "    \"Center3\" = \"/home/yuliya/repos/cosybio/FedProt/data/TMT_data/raw_MaxQuant_reports/proteinGroups_center3.txt\"\n",
    ")\n",
    "\n",
    "# Initialize empty lists to store combined data\n",
    "combined_pg_intensities <- list()\n",
    "combined_counts <- list()\n",
    "\n",
    "# Iterate over each center\n",
    "for(center in names(list_of_inputs)) {\n",
    "    # Determine the center folder based on the center name\n",
    "    center_folder <- ifelse(center == \"Center1\", \"center_one\", ifelse(center == \"Center2\", \"center_two\", \"center_three\"))\n",
    "\n",
    "    # Filter metadata for the current center\n",
    "    center_metadata <- metadata %>%\n",
    "        filter(Center == center)\n",
    "\n",
    "    # Preprocess the MaxQuant output file for the current center\n",
    "    results_list <- preprocess_mxout(list_of_inputs[[center]], center_metadata)\n",
    "    pg_intensities <- results_list[[1]]\n",
    "    counts_df <- results_list[[2]]\n",
    "\n",
    "    # Add the processed data to the combined lists\n",
    "    combined_pg_intensities <- c(combined_pg_intensities, list(pg_intensities))\n",
    "    combined_counts <- c(combined_counts, list(counts_df))\n",
    "}\n",
    "\n",
    "# Add names to the combined lists\n",
    "names(combined_pg_intensities) <- names(list_of_inputs)\n",
    "names(combined_counts) <- names(list_of_inputs)"
   ]
  },
  {
   "cell_type": "markdown",
   "metadata": {},
   "source": [
    "### (1)"
   ]
  },
  {
   "cell_type": "code",
   "execution_count": 69,
   "metadata": {
    "vscode": {
     "languageId": "r"
    }
   },
   "outputs": [],
   "source": [
    "# Set the output path for the gene intensities and counts\n",
    "genes_output_path <- \"/home/yuliya/repos/cosybio/FedProt/data/TMT_data/balanced_data/01_PG_Genes/\"\n",
    "\n",
    "# Iterate over each center\n",
    "for(center in list(\"Center1\", \"Center2\", \"Center3\")) {\n",
    "  \n",
    "  # Summarize gene intensities\n",
    "  # Calculate the sum of intensities for each gene and concatenate multiple gene names\n",
    "  # separated by semicolons into a single string\n",
    "  genes_intensities <- combined_pg_intensities[[center]] %>%\n",
    "    select(-Majority.protein.IDs) %>%\n",
    "    group_by(Gene.names) %>%\n",
    "    summarize_all(sum) %>%\n",
    "    ungroup() %>%\n",
    "    filter(Gene.names != \"\") %>%\n",
    "    rowwise() %>% # Apply the following operations to each row individually\n",
    "    mutate(Gene.names = map_chr(strsplit(Gene.names, \";\"), ~paste(sort(.x), collapse = \";\")))\n",
    "\n",
    "  # Write the gene intensities to a file\n",
    "  write.table(genes_intensities, paste0(genes_output_path, center, \"/genes_intensities.tsv\"), sep = \"\\t\", quote = FALSE, row.names = FALSE)\n",
    "    \n",
    "  # Summarize gene counts\n",
    "  # Filter, select, and manipulate the counts dataframe\n",
    "  \"Peptide.is.razor\"\n",
    "  # counts_df <- combined_counts[[center]] %>%\n",
    "  #   filter(Gene.names != \"\") %>%\n",
    "  #   select(-c(Majority.protein.IDs, Razor...unique.peptides)) %>%\n",
    "  #   mutate(Peptide.IDs = strsplit(Peptide.IDs, \";\")) %>%\n",
    "  #   unnest(Peptide.IDs) %>%  unique() %>%\n",
    "  #   group_by(Gene.names) %>%  summarize(Unique.peptides = n()) %>%\n",
    "  #   rowwise() %>% # Apply the following operations to each row individually\n",
    "  #   mutate(Gene.names = map_chr(strsplit(Gene.names, \";\"), ~paste(sort(.x), collapse = \";\")))\n",
    "  counts_df <- combined_counts[[center]] %>%\n",
    "    filter(Gene.names != \"\") %>%\n",
    "    select(-c(Majority.protein.IDs, Razor...unique.peptides)) %>%\n",
    "    mutate(Peptide.IDs = strsplit(Peptide.is.razor, \";\")) %>%\n",
    "    unnest(Peptide.IDs) %>%  \n",
    "    filter(Peptide.IDs == \"True\") %>%\n",
    "    group_by(Gene.names) %>%  summarize(Unique.peptides = n()) %>%\n",
    "    rowwise() %>% # Apply the following operations to each row individually\n",
    "    mutate(Gene.names = map_chr(strsplit(Gene.names, \";\"), ~paste(sort(.x), collapse = \";\")))\n",
    "\n",
    "  # This code performs data preparation steps on the counts dataframe. \n",
    "  #It filters out rows where the Gene.names column is empty, removes unnecessary columns, \n",
    "  # splits the Peptide.IDs column into separate values, removes duplicate rows, \n",
    "  # groups the data by Gene.names, calculates the count of unique peptides for each gene, \n",
    "  # and finally sorts and collapses the Gene.names values. \n",
    "  #The resulting dataframe is stored in the counts_df variable.\n",
    "\n",
    "  # Write the gene counts to a file\n",
    "  write.table(counts_df, paste0(genes_output_path, center, \"/genes_counts_v2.tsv\"), sep = \"\\t\", quote = FALSE, row.names = FALSE)\n",
    "\n",
    "  # Write the metadata to a file\n",
    "  metadata %>%\n",
    "    filter(Center == center) %>%\n",
    "    write.table(paste0(genes_output_path, center, \"/metadata.tsv\"), sep = \"\\t\", quote = FALSE, row.names = FALSE)\n",
    "}"
   ]
  },
  {
   "cell_type": "markdown",
   "metadata": {},
   "source": [
    "### (2)"
   ]
  },
  {
   "cell_type": "code",
   "execution_count": 70,
   "metadata": {
    "vscode": {
     "languageId": "r"
    }
   },
   "outputs": [],
   "source": [
    "pg_output_path <- \"/home/yuliya/repos/cosybio/FedProt/data/TMT_data/balanced_data/02_PG_MajorPG/\"\n",
    "\n",
    "# This loop iterates over a list of centers and performs data preparation tasks for each center.\n",
    "for(center in list(\"Center1\", \"Center2\", \"Center3\")) {\n",
    "  \n",
    "  # Summarize gene names\n",
    "  genes_intensities <- combined_pg_intensities[[center]] %>%\n",
    "    select(-Gene.names) %>%\n",
    "    group_by(Majority.protein.IDs) %>%\n",
    "    rowwise() %>% # Apply the following operations to each row individually\n",
    "    mutate(Majority.protein.IDs = map_chr(strsplit(Majority.protein.IDs, \";\"), ~paste(sort(.x), collapse = \";\")))\n",
    "\n",
    "  # Write gene intensities to a file\n",
    "  write.table(genes_intensities, paste0(pg_output_path, center, \"/pg_intensities.tsv\"), sep = \"\\t\", quote = FALSE, row.names = FALSE)\n",
    "    \n",
    "  # Summarize counts\n",
    "  counts_df <- combined_counts[[center]] %>%\n",
    "    select(-c(Gene.names, Peptide.IDs, Peptide.is.razor)) %>%\n",
    "    rowwise() %>% # Apply the following operations to each row individually\n",
    "    mutate(Majority.protein.IDs = map_chr(strsplit(Majority.protein.IDs, \";\"), ~paste(sort(.x), collapse = \";\")))\n",
    "\n",
    "  # Write counts to a file\n",
    "  write.table(counts_df, paste0(pg_output_path, center, \"/pg_counts.tsv\"), sep = \"\\t\", quote = FALSE, row.names = FALSE)\n",
    "\n",
    "  # Write metadata to a file\n",
    "  metadata %>%\n",
    "    filter(Center == center) %>%\n",
    "    write.table(paste0(pg_output_path, center, \"/metadata.tsv\"), sep = \"\\t\", quote = FALSE, row.names = FALSE)\n",
    "}"
   ]
  },
  {
   "cell_type": "markdown",
   "metadata": {},
   "source": [
    "# Extract data for (3) and (4)"
   ]
  },
  {
   "cell_type": "code",
   "execution_count": 74,
   "metadata": {
    "vscode": {
     "languageId": "r"
    }
   },
   "outputs": [],
   "source": [
    "preprocess_mxout <- function(path, center_metadata, center){\n",
    "    peptides_report <- read.table(\n",
    "        path,\n",
    "        header=T,\n",
    "        sep=\"\\t\",\n",
    "        stringsAsFactors = F)\n",
    "    \n",
    "    # remove decoy matches and matches to contaminant\n",
    "    peptides_report <- peptides_report[!peptides_report$Reverse==\"+\",]\n",
    "    peptides_report <- peptides_report[!peptides_report$Potential.contaminant==\"+\",]\n",
    "    # if the peptides_report$Only.identified.by.site is not all NA and contains \"+\" values - remove this rows\n",
    "    if(!all(is.na(peptides_report$Only.identified.by.site))) {\n",
    "        # # Only.identified.by.site - exclude proteins that were only identified by a modification site\n",
    "        peptides_report <- peptides_report[!peptides_report$Only.identified.by.site==\"+\",]\n",
    "    }\n",
    "\n",
    "    print(center)\n",
    "    # take only the columns that we need\n",
    "    pg_intensities <- peptides_report %>%\n",
    "        select(c(\"Sequence\", \"Proteins\", \"Gene.names\", rownames(center_metadata)))\n",
    "\n",
    "    print(length(pg_intensities$Sequence))\n",
    "\n",
    "    return(pg_intensities)\n",
    "}"
   ]
  },
  {
   "cell_type": "markdown",
   "metadata": {},
   "source": [
    "## (3) and (4) --- aggragated report"
   ]
  },
  {
   "cell_type": "code",
   "execution_count": 78,
   "metadata": {
    "vscode": {
     "languageId": "r"
    }
   },
   "outputs": [
    {
     "name": "stdout",
     "output_type": "stream",
     "text": [
      "[1] \"Center3\"\n",
      "[1] 4978\n"
     ]
    }
   ],
   "source": [
    "genes_output_path <- \"/home/yuliya/repos/cosybio/FedProt/data/TMT_data/balanced_data/03_Peptides_Genes/\"\n",
    "pg_output_path <- \"/home/yuliya/repos/cosybio/FedProt/data/TMT_data/balanced_data/04_Peptides_PG/\"\n",
    "\n",
    "\n",
    "list_of_outputs <- list(\n",
    "    \"Center1\" = \"/home/yuliya/repos/cosybio/FedProt/data/TMT_data/raw_MaxQuant_reports/Center1/peptides.txt\",\n",
    "    \"Center2\" = \"/home/yuliya/repos/cosybio/FedProt/data/TMT_data/raw_MaxQuant_reports/Center2/peptides.txt\",\n",
    "    \"Center3\" = \"/home/yuliya/repos/cosybio/FedProt/data/TMT_data/raw_MaxQuant_reports/Center3/peptides.txt\"\n",
    ")\n",
    "\n",
    "combined_pg_intensities <- list()\n",
    "\n",
    "for(center in names(list_of_outputs)) {\n",
    "\n",
    "    center_metadata <- metadata %>%\n",
    "        filter(Center == center)\n",
    "\n",
    "    results_list <- preprocess_mxout(list_of_outputs[[center]], center_metadata, center)\n",
    "    pg_intensities <- results_list\n",
    "\n",
    "    write.table(pg_intensities, paste0(genes_output_path, center, \"/aggregated.tsv\"), sep = \"\\t\", quote = FALSE, row.names = FALSE)\n",
    "    write.table(pg_intensities, paste0(pg_output_path, center, \"/aggregated.tsv\"), sep = \"\\t\", quote = FALSE, row.names = FALSE)\n",
    "}\n"
   ]
  },
  {
   "cell_type": "markdown",
   "metadata": {},
   "source": []
  },
  {
   "cell_type": "code",
   "execution_count": 83,
   "metadata": {
    "vscode": {
     "languageId": "r"
    }
   },
   "outputs": [
    {
     "data": {
      "text/html": [
       "<table class=\"dataframe\">\n",
       "<caption>A data.frame: 4616 × 2</caption>\n",
       "<thead>\n",
       "\t<tr><th scope=col>Sequence</th><th scope=col>Gene.names</th></tr>\n",
       "\t<tr><th scope=col>&lt;chr&gt;</th><th scope=col>&lt;chr&gt;</th></tr>\n",
       "</thead>\n",
       "<tbody>\n",
       "\t<tr><td>AAAEVAGQFVIK                       </td><td>TFRC    </td></tr>\n",
       "\t<tr><td>AAAPNTPK                           </td><td>PRG4    </td></tr>\n",
       "\t<tr><td>AAATGPSFWLGNETLK                   </td><td>PEPD    </td></tr>\n",
       "\t<tr><td>AAATLMSER                          </td><td>SLC4A1  </td></tr>\n",
       "\t<tr><td>AACLPLPGYR                         </td><td>LCP1    </td></tr>\n",
       "\t<tr><td>AADDTWEPFASGK                      </td><td>TTR     </td></tr>\n",
       "\t<tr><td>AAFCYQIR                           </td><td>MST1    </td></tr>\n",
       "\t<tr><td>AAFGQGSGPIMLDEVQCTGTEASLADCK       </td><td>LGALS3BP</td></tr>\n",
       "\t<tr><td>AAFNSGK                            </td><td>GAPDH   </td></tr>\n",
       "\t<tr><td>AAGNECPELQPPVHGK                   </td><td>MASP1   </td></tr>\n",
       "\t<tr><td>AAIDSYR                            </td><td>TNC     </td></tr>\n",
       "\t<tr><td>AAIQALRK                           </td><td>APOB    </td></tr>\n",
       "\t<tr><td>AAISGENAGLVR                       </td><td>ITIH1   </td></tr>\n",
       "\t<tr><td>AALGKLPQQANDYLNSFNWER              </td><td>APOB    </td></tr>\n",
       "\t<tr><td>AALGYNILTQEDAQSVYDASYYGGQCETVYNGEWR</td><td>C8A     </td></tr>\n",
       "\t<tr><td>AALPAQELEEYNK                      </td><td>ACE     </td></tr>\n",
       "\t<tr><td>AALSGANVLTLIEK                     </td><td>LRP1    </td></tr>\n",
       "\t<tr><td>AALSMCK                            </td><td>PTGDS   </td></tr>\n",
       "\t<tr><td>AALTELSLGSAYQAMILGVDSK             </td><td>APOB    </td></tr>\n",
       "\t<tr><td>AAMVGMLANFLGFR                     </td><td>AGT     </td></tr>\n",
       "\t<tr><td>AANSLEAFIFETQDK                    </td><td>HYOU1   </td></tr>\n",
       "\t<tr><td>AAPGQEPPEHMAELQR                   </td><td>QSOX1   </td></tr>\n",
       "\t<tr><td>AAPLQGMLPGLLAPLR                   </td><td>COL6A3  </td></tr>\n",
       "\t<tr><td>AAPSVTLFPPSSEELQANK                </td><td>IGLC6   </td></tr>\n",
       "\t<tr><td>AAQAAVASYNMGSNSIYYFR               </td><td>CST6    </td></tr>\n",
       "\t<tr><td>AAQEEYVK                           </td><td>ALDOA   </td></tr>\n",
       "\t<tr><td>AAQVTIQSSGTFSSK                    </td><td>A2M     </td></tr>\n",
       "\t<tr><td>AASGTQNNVLR                        </td><td>C7      </td></tr>\n",
       "\t<tr><td>AASGTTGTYQEWK                      </td><td>APOB    </td></tr>\n",
       "\t<tr><td>AASGTTGTYQEWKDK                    </td><td>APOB    </td></tr>\n",
       "\t<tr><td>⋮</td><td>⋮</td></tr>\n",
       "\t<tr><td>YVCEADGFWTSSK           </td><td>MASP2   </td></tr>\n",
       "\t<tr><td>YVGGQEHFAHLLILR         </td><td>ORM1    </td></tr>\n",
       "\t<tr><td>YVGNMHGNEALGR           </td><td>CPN1    </td></tr>\n",
       "\t<tr><td>YVLSPYK                 </td><td>C5      </td></tr>\n",
       "\t<tr><td>YVMLPVADQDQCIR          </td><td>HP      </td></tr>\n",
       "\t<tr><td>YVNKEIQNAVNGVK          </td><td>CLU     </td></tr>\n",
       "\t<tr><td>YVQGLKK                 </td><td>VWF     </td></tr>\n",
       "\t<tr><td>YVQHTYR                 </td><td>ARHGDIB </td></tr>\n",
       "\t<tr><td>YVRPGGGFVPNFQLFEK       </td><td>GPX3    </td></tr>\n",
       "\t<tr><td>YVTCSNGDWSEPPR          </td><td>CFHR4   </td></tr>\n",
       "\t<tr><td>YVTSAPMPEPQAPGR         </td><td>IGHM    </td></tr>\n",
       "\t<tr><td>YVVISQGLDKPR            </td><td>LRP1    </td></tr>\n",
       "\t<tr><td>YVYIAELLAHK             </td><td>PON1    </td></tr>\n",
       "\t<tr><td>YVYVADVAAK              </td><td>PON3    </td></tr>\n",
       "\t<tr><td>YWCNDGK                 </td><td>LYZ     </td></tr>\n",
       "\t<tr><td>YWGVASFLQK              </td><td>RBP4    </td></tr>\n",
       "\t<tr><td>YWNDCEPPDSR             </td><td>HRG     </td></tr>\n",
       "\t<tr><td>YYAGGCSPHYILNTR         </td><td>C8B     </td></tr>\n",
       "\t<tr><td>YYCFQGNQFLR             </td><td>HPX     </td></tr>\n",
       "\t<tr><td>YYELEEK                 </td><td>APOB    </td></tr>\n",
       "\t<tr><td>YYGGGYGSTQATFMVFQALAQYQK</td><td>C3      </td></tr>\n",
       "\t<tr><td>YYIAASYVK               </td><td>GGH     </td></tr>\n",
       "\t<tr><td>YYLQGAK                 </td><td>ITIH4   </td></tr>\n",
       "\t<tr><td>YYLVGVQEQQCVDGEWSSALPVCK</td><td>C4BPB   </td></tr>\n",
       "\t<tr><td>YYPLGQTFYPGPGCDSLCR     </td><td>FCGBP   </td></tr>\n",
       "\t<tr><td>YYPYQSFQTPQHPSFLFQDK    </td><td>LGALS3BP</td></tr>\n",
       "\t<tr><td>YYQENFCEQICSK           </td><td>C6      </td></tr>\n",
       "\t<tr><td>YYTYLIMNK               </td><td>C3      </td></tr>\n",
       "\t<tr><td>YYYDGKDYIEFNK           </td><td>AZGP1   </td></tr>\n",
       "\t<tr><td>YYYVCQYCPAGNWANR        </td><td>CRISP3  </td></tr>\n",
       "</tbody>\n",
       "</table>\n"
      ],
      "text/latex": [
       "A data.frame: 4616 × 2\n",
       "\\begin{tabular}{ll}\n",
       " Sequence & Gene.names\\\\\n",
       " <chr> & <chr>\\\\\n",
       "\\hline\n",
       "\t AAAEVAGQFVIK                        & TFRC    \\\\\n",
       "\t AAAPNTPK                            & PRG4    \\\\\n",
       "\t AAATGPSFWLGNETLK                    & PEPD    \\\\\n",
       "\t AAATLMSER                           & SLC4A1  \\\\\n",
       "\t AACLPLPGYR                          & LCP1    \\\\\n",
       "\t AADDTWEPFASGK                       & TTR     \\\\\n",
       "\t AAFCYQIR                            & MST1    \\\\\n",
       "\t AAFGQGSGPIMLDEVQCTGTEASLADCK        & LGALS3BP\\\\\n",
       "\t AAFNSGK                             & GAPDH   \\\\\n",
       "\t AAGNECPELQPPVHGK                    & MASP1   \\\\\n",
       "\t AAIDSYR                             & TNC     \\\\\n",
       "\t AAIQALRK                            & APOB    \\\\\n",
       "\t AAISGENAGLVR                        & ITIH1   \\\\\n",
       "\t AALGKLPQQANDYLNSFNWER               & APOB    \\\\\n",
       "\t AALGYNILTQEDAQSVYDASYYGGQCETVYNGEWR & C8A     \\\\\n",
       "\t AALPAQELEEYNK                       & ACE     \\\\\n",
       "\t AALSGANVLTLIEK                      & LRP1    \\\\\n",
       "\t AALSMCK                             & PTGDS   \\\\\n",
       "\t AALTELSLGSAYQAMILGVDSK              & APOB    \\\\\n",
       "\t AAMVGMLANFLGFR                      & AGT     \\\\\n",
       "\t AANSLEAFIFETQDK                     & HYOU1   \\\\\n",
       "\t AAPGQEPPEHMAELQR                    & QSOX1   \\\\\n",
       "\t AAPLQGMLPGLLAPLR                    & COL6A3  \\\\\n",
       "\t AAPSVTLFPPSSEELQANK                 & IGLC6   \\\\\n",
       "\t AAQAAVASYNMGSNSIYYFR                & CST6    \\\\\n",
       "\t AAQEEYVK                            & ALDOA   \\\\\n",
       "\t AAQVTIQSSGTFSSK                     & A2M     \\\\\n",
       "\t AASGTQNNVLR                         & C7      \\\\\n",
       "\t AASGTTGTYQEWK                       & APOB    \\\\\n",
       "\t AASGTTGTYQEWKDK                     & APOB    \\\\\n",
       "\t ⋮ & ⋮\\\\\n",
       "\t YVCEADGFWTSSK            & MASP2   \\\\\n",
       "\t YVGGQEHFAHLLILR          & ORM1    \\\\\n",
       "\t YVGNMHGNEALGR            & CPN1    \\\\\n",
       "\t YVLSPYK                  & C5      \\\\\n",
       "\t YVMLPVADQDQCIR           & HP      \\\\\n",
       "\t YVNKEIQNAVNGVK           & CLU     \\\\\n",
       "\t YVQGLKK                  & VWF     \\\\\n",
       "\t YVQHTYR                  & ARHGDIB \\\\\n",
       "\t YVRPGGGFVPNFQLFEK        & GPX3    \\\\\n",
       "\t YVTCSNGDWSEPPR           & CFHR4   \\\\\n",
       "\t YVTSAPMPEPQAPGR          & IGHM    \\\\\n",
       "\t YVVISQGLDKPR             & LRP1    \\\\\n",
       "\t YVYIAELLAHK              & PON1    \\\\\n",
       "\t YVYVADVAAK               & PON3    \\\\\n",
       "\t YWCNDGK                  & LYZ     \\\\\n",
       "\t YWGVASFLQK               & RBP4    \\\\\n",
       "\t YWNDCEPPDSR              & HRG     \\\\\n",
       "\t YYAGGCSPHYILNTR          & C8B     \\\\\n",
       "\t YYCFQGNQFLR              & HPX     \\\\\n",
       "\t YYELEEK                  & APOB    \\\\\n",
       "\t YYGGGYGSTQATFMVFQALAQYQK & C3      \\\\\n",
       "\t YYIAASYVK                & GGH     \\\\\n",
       "\t YYLQGAK                  & ITIH4   \\\\\n",
       "\t YYLVGVQEQQCVDGEWSSALPVCK & C4BPB   \\\\\n",
       "\t YYPLGQTFYPGPGCDSLCR      & FCGBP   \\\\\n",
       "\t YYPYQSFQTPQHPSFLFQDK     & LGALS3BP\\\\\n",
       "\t YYQENFCEQICSK            & C6      \\\\\n",
       "\t YYTYLIMNK                & C3      \\\\\n",
       "\t YYYDGKDYIEFNK            & AZGP1   \\\\\n",
       "\t YYYVCQYCPAGNWANR         & CRISP3  \\\\\n",
       "\\end{tabular}\n"
      ],
      "text/markdown": [
       "\n",
       "A data.frame: 4616 × 2\n",
       "\n",
       "| Sequence &lt;chr&gt; | Gene.names &lt;chr&gt; |\n",
       "|---|---|\n",
       "| AAAEVAGQFVIK                        | TFRC     |\n",
       "| AAAPNTPK                            | PRG4     |\n",
       "| AAATGPSFWLGNETLK                    | PEPD     |\n",
       "| AAATLMSER                           | SLC4A1   |\n",
       "| AACLPLPGYR                          | LCP1     |\n",
       "| AADDTWEPFASGK                       | TTR      |\n",
       "| AAFCYQIR                            | MST1     |\n",
       "| AAFGQGSGPIMLDEVQCTGTEASLADCK        | LGALS3BP |\n",
       "| AAFNSGK                             | GAPDH    |\n",
       "| AAGNECPELQPPVHGK                    | MASP1    |\n",
       "| AAIDSYR                             | TNC      |\n",
       "| AAIQALRK                            | APOB     |\n",
       "| AAISGENAGLVR                        | ITIH1    |\n",
       "| AALGKLPQQANDYLNSFNWER               | APOB     |\n",
       "| AALGYNILTQEDAQSVYDASYYGGQCETVYNGEWR | C8A      |\n",
       "| AALPAQELEEYNK                       | ACE      |\n",
       "| AALSGANVLTLIEK                      | LRP1     |\n",
       "| AALSMCK                             | PTGDS    |\n",
       "| AALTELSLGSAYQAMILGVDSK              | APOB     |\n",
       "| AAMVGMLANFLGFR                      | AGT      |\n",
       "| AANSLEAFIFETQDK                     | HYOU1    |\n",
       "| AAPGQEPPEHMAELQR                    | QSOX1    |\n",
       "| AAPLQGMLPGLLAPLR                    | COL6A3   |\n",
       "| AAPSVTLFPPSSEELQANK                 | IGLC6    |\n",
       "| AAQAAVASYNMGSNSIYYFR                | CST6     |\n",
       "| AAQEEYVK                            | ALDOA    |\n",
       "| AAQVTIQSSGTFSSK                     | A2M      |\n",
       "| AASGTQNNVLR                         | C7       |\n",
       "| AASGTTGTYQEWK                       | APOB     |\n",
       "| AASGTTGTYQEWKDK                     | APOB     |\n",
       "| ⋮ | ⋮ |\n",
       "| YVCEADGFWTSSK            | MASP2    |\n",
       "| YVGGQEHFAHLLILR          | ORM1     |\n",
       "| YVGNMHGNEALGR            | CPN1     |\n",
       "| YVLSPYK                  | C5       |\n",
       "| YVMLPVADQDQCIR           | HP       |\n",
       "| YVNKEIQNAVNGVK           | CLU      |\n",
       "| YVQGLKK                  | VWF      |\n",
       "| YVQHTYR                  | ARHGDIB  |\n",
       "| YVRPGGGFVPNFQLFEK        | GPX3     |\n",
       "| YVTCSNGDWSEPPR           | CFHR4    |\n",
       "| YVTSAPMPEPQAPGR          | IGHM     |\n",
       "| YVVISQGLDKPR             | LRP1     |\n",
       "| YVYIAELLAHK              | PON1     |\n",
       "| YVYVADVAAK               | PON3     |\n",
       "| YWCNDGK                  | LYZ      |\n",
       "| YWGVASFLQK               | RBP4     |\n",
       "| YWNDCEPPDSR              | HRG      |\n",
       "| YYAGGCSPHYILNTR          | C8B      |\n",
       "| YYCFQGNQFLR              | HPX      |\n",
       "| YYELEEK                  | APOB     |\n",
       "| YYGGGYGSTQATFMVFQALAQYQK | C3       |\n",
       "| YYIAASYVK                | GGH      |\n",
       "| YYLQGAK                  | ITIH4    |\n",
       "| YYLVGVQEQQCVDGEWSSALPVCK | C4BPB    |\n",
       "| YYPLGQTFYPGPGCDSLCR      | FCGBP    |\n",
       "| YYPYQSFQTPQHPSFLFQDK     | LGALS3BP |\n",
       "| YYQENFCEQICSK            | C6       |\n",
       "| YYTYLIMNK                | C3       |\n",
       "| YYYDGKDYIEFNK            | AZGP1    |\n",
       "| YYYVCQYCPAGNWANR         | CRISP3   |\n",
       "\n"
      ],
      "text/plain": [
       "     Sequence                            Gene.names\n",
       "1    AAAEVAGQFVIK                        TFRC      \n",
       "2    AAAPNTPK                            PRG4      \n",
       "3    AAATGPSFWLGNETLK                    PEPD      \n",
       "4    AAATLMSER                           SLC4A1    \n",
       "5    AACLPLPGYR                          LCP1      \n",
       "6    AADDTWEPFASGK                       TTR       \n",
       "7    AAFCYQIR                            MST1      \n",
       "8    AAFGQGSGPIMLDEVQCTGTEASLADCK        LGALS3BP  \n",
       "9    AAFNSGK                             GAPDH     \n",
       "10   AAGNECPELQPPVHGK                    MASP1     \n",
       "11   AAIDSYR                             TNC       \n",
       "12   AAIQALRK                            APOB      \n",
       "13   AAISGENAGLVR                        ITIH1     \n",
       "14   AALGKLPQQANDYLNSFNWER               APOB      \n",
       "15   AALGYNILTQEDAQSVYDASYYGGQCETVYNGEWR C8A       \n",
       "16   AALPAQELEEYNK                       ACE       \n",
       "17   AALSGANVLTLIEK                      LRP1      \n",
       "18   AALSMCK                             PTGDS     \n",
       "19   AALTELSLGSAYQAMILGVDSK              APOB      \n",
       "20   AAMVGMLANFLGFR                      AGT       \n",
       "21   AANSLEAFIFETQDK                     HYOU1     \n",
       "22   AAPGQEPPEHMAELQR                    QSOX1     \n",
       "23   AAPLQGMLPGLLAPLR                    COL6A3    \n",
       "24   AAPSVTLFPPSSEELQANK                 IGLC6     \n",
       "25   AAQAAVASYNMGSNSIYYFR                CST6      \n",
       "26   AAQEEYVK                            ALDOA     \n",
       "27   AAQVTIQSSGTFSSK                     A2M       \n",
       "28   AASGTQNNVLR                         C7        \n",
       "29   AASGTTGTYQEWK                       APOB      \n",
       "30   AASGTTGTYQEWKDK                     APOB      \n",
       "⋮    ⋮                                   ⋮         \n",
       "4587 YVCEADGFWTSSK                       MASP2     \n",
       "4588 YVGGQEHFAHLLILR                     ORM1      \n",
       "4589 YVGNMHGNEALGR                       CPN1      \n",
       "4590 YVLSPYK                             C5        \n",
       "4591 YVMLPVADQDQCIR                      HP        \n",
       "4592 YVNKEIQNAVNGVK                      CLU       \n",
       "4593 YVQGLKK                             VWF       \n",
       "4594 YVQHTYR                             ARHGDIB   \n",
       "4595 YVRPGGGFVPNFQLFEK                   GPX3      \n",
       "4596 YVTCSNGDWSEPPR                      CFHR4     \n",
       "4597 YVTSAPMPEPQAPGR                     IGHM      \n",
       "4598 YVVISQGLDKPR                        LRP1      \n",
       "4599 YVYIAELLAHK                         PON1      \n",
       "4600 YVYVADVAAK                          PON3      \n",
       "4601 YWCNDGK                             LYZ       \n",
       "4602 YWGVASFLQK                          RBP4      \n",
       "4603 YWNDCEPPDSR                         HRG       \n",
       "4604 YYAGGCSPHYILNTR                     C8B       \n",
       "4605 YYCFQGNQFLR                         HPX       \n",
       "4606 YYELEEK                             APOB      \n",
       "4607 YYGGGYGSTQATFMVFQALAQYQK            C3        \n",
       "4608 YYIAASYVK                           GGH       \n",
       "4609 YYLQGAK                             ITIH4     \n",
       "4610 YYLVGVQEQQCVDGEWSSALPVCK            C4BPB     \n",
       "4611 YYPLGQTFYPGPGCDSLCR                 FCGBP     \n",
       "4612 YYPYQSFQTPQHPSFLFQDK                LGALS3BP  \n",
       "4613 YYQENFCEQICSK                       C6        \n",
       "4614 YYTYLIMNK                           C3        \n",
       "4615 YYYDGKDYIEFNK                       AZGP1     \n",
       "4616 YYYVCQYCPAGNWANR                    CRISP3    "
      ]
     },
     "metadata": {},
     "output_type": "display_data"
    }
   ],
   "source": [
    "pg_intensities %>%\n",
    "  select(-c(Proteins, rownames(center_metadata))) %>%\n",
    "  filter(Gene.names != \"\") %>%\n",
    "  #select rows where Gene.names doesn't contain \";\"\n",
    "  filter(!grepl(\";\", Gene.names)) "
   ]
  },
  {
   "cell_type": "code",
   "execution_count": null,
   "metadata": {
    "vscode": {
     "languageId": "r"
    }
   },
   "outputs": [],
   "source": []
  },
  {
   "cell_type": "code",
   "execution_count": null,
   "metadata": {
    "vscode": {
     "languageId": "r"
    }
   },
   "outputs": [],
   "source": []
  },
  {
   "cell_type": "code",
   "execution_count": null,
   "metadata": {
    "vscode": {
     "languageId": "r"
    }
   },
   "outputs": [],
   "source": []
  }
 ],
 "metadata": {
  "kernelspec": {
   "display_name": "R",
   "language": "R",
   "name": "ir"
  },
  "language_info": {
   "codemirror_mode": "r",
   "file_extension": ".r",
   "mimetype": "text/x-r-source",
   "name": "R",
   "pygments_lexer": "r",
   "version": "4.2.0"
  }
 },
 "nbformat": 4,
 "nbformat_minor": 2
}
