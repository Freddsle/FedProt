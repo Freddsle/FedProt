{
 "cells": [
  {
   "cell_type": "code",
   "execution_count": 9,
   "metadata": {
    "vscode": {
     "languageId": "r"
    }
   },
   "outputs": [],
   "source": [
    "library(tidyverse)\n",
    "library(UpSetR)"
   ]
  },
  {
   "cell_type": "code",
   "execution_count": 10,
   "metadata": {
    "vscode": {
     "languageId": "r"
    }
   },
   "outputs": [
    {
     "data": {
      "text/html": [
       "<table class=\"dataframe\">\n",
       "<caption>A data.frame: 3 × 6</caption>\n",
       "<thead>\n",
       "\t<tr><th></th><th scope=col>Quantitative.column.name</th><th scope=col>Pool</th><th scope=col>Reporter.ion</th><th scope=col>Patient</th><th scope=col>Group</th><th scope=col>Center</th></tr>\n",
       "\t<tr><th></th><th scope=col>&lt;chr&gt;</th><th scope=col>&lt;chr&gt;</th><th scope=col>&lt;chr&gt;</th><th scope=col>&lt;chr&gt;</th><th scope=col>&lt;chr&gt;</th><th scope=col>&lt;chr&gt;</th></tr>\n",
       "</thead>\n",
       "<tbody>\n",
       "\t<tr><th scope=row>Reporter.intensity.corrected.1.Pool1</th><td>P_1.RIC_1</td><td>Pool1</td><td>126 </td><td>Common Reference</td><td>Common Reference</td><td>Center1</td></tr>\n",
       "\t<tr><th scope=row>Reporter.intensity.corrected.2.Pool1</th><td>P_1.RIC_2</td><td>Pool1</td><td>127N</td><td>heathy1         </td><td>heathy          </td><td>Center1</td></tr>\n",
       "\t<tr><th scope=row>Reporter.intensity.corrected.3.Pool1</th><td>P_1.RIC_3</td><td>Pool1</td><td>127C</td><td>FSGS1           </td><td>FSGS            </td><td>Center1</td></tr>\n",
       "</tbody>\n",
       "</table>\n"
      ],
      "text/latex": [
       "A data.frame: 3 × 6\n",
       "\\begin{tabular}{r|llllll}\n",
       "  & Quantitative.column.name & Pool & Reporter.ion & Patient & Group & Center\\\\\n",
       "  & <chr> & <chr> & <chr> & <chr> & <chr> & <chr>\\\\\n",
       "\\hline\n",
       "\tReporter.intensity.corrected.1.Pool1 & P\\_1.RIC\\_1 & Pool1 & 126  & Common Reference & Common Reference & Center1\\\\\n",
       "\tReporter.intensity.corrected.2.Pool1 & P\\_1.RIC\\_2 & Pool1 & 127N & heathy1          & heathy           & Center1\\\\\n",
       "\tReporter.intensity.corrected.3.Pool1 & P\\_1.RIC\\_3 & Pool1 & 127C & FSGS1            & FSGS             & Center1\\\\\n",
       "\\end{tabular}\n"
      ],
      "text/markdown": [
       "\n",
       "A data.frame: 3 × 6\n",
       "\n",
       "| <!--/--> | Quantitative.column.name &lt;chr&gt; | Pool &lt;chr&gt; | Reporter.ion &lt;chr&gt; | Patient &lt;chr&gt; | Group &lt;chr&gt; | Center &lt;chr&gt; |\n",
       "|---|---|---|---|---|---|---|\n",
       "| Reporter.intensity.corrected.1.Pool1 | P_1.RIC_1 | Pool1 | 126  | Common Reference | Common Reference | Center1 |\n",
       "| Reporter.intensity.corrected.2.Pool1 | P_1.RIC_2 | Pool1 | 127N | heathy1          | heathy           | Center1 |\n",
       "| Reporter.intensity.corrected.3.Pool1 | P_1.RIC_3 | Pool1 | 127C | FSGS1            | FSGS             | Center1 |\n",
       "\n"
      ],
      "text/plain": [
       "                                     Quantitative.column.name Pool \n",
       "Reporter.intensity.corrected.1.Pool1 P_1.RIC_1                Pool1\n",
       "Reporter.intensity.corrected.2.Pool1 P_1.RIC_2                Pool1\n",
       "Reporter.intensity.corrected.3.Pool1 P_1.RIC_3                Pool1\n",
       "                                     Reporter.ion Patient         \n",
       "Reporter.intensity.corrected.1.Pool1 126          Common Reference\n",
       "Reporter.intensity.corrected.2.Pool1 127N         heathy1         \n",
       "Reporter.intensity.corrected.3.Pool1 127C         FSGS1           \n",
       "                                     Group            Center \n",
       "Reporter.intensity.corrected.1.Pool1 Common Reference Center1\n",
       "Reporter.intensity.corrected.2.Pool1 heathy           Center1\n",
       "Reporter.intensity.corrected.3.Pool1 FSGS             Center1"
      ]
     },
     "metadata": {},
     "output_type": "display_data"
    },
    {
     "data": {
      "text/html": [
       "<style>\n",
       ".list-inline {list-style: none; margin:0; padding: 0}\n",
       ".list-inline>li {display: inline-block}\n",
       ".list-inline>li:not(:last-child)::after {content: \"\\00b7\"; padding: 0 .5ex}\n",
       "</style>\n",
       "<ol class=list-inline><li>65</li><li>6</li></ol>\n"
      ],
      "text/latex": [
       "\\begin{enumerate*}\n",
       "\\item 65\n",
       "\\item 6\n",
       "\\end{enumerate*}\n"
      ],
      "text/markdown": [
       "1. 65\n",
       "2. 6\n",
       "\n",
       "\n"
      ],
      "text/plain": [
       "[1] 65  6"
      ]
     },
     "metadata": {},
     "output_type": "display_data"
    }
   ],
   "source": [
    "# Metadtata\n",
    "\n",
    "metadata <- read.table(\"/home/yuliya/repos/cosybio/FedProt/data/TMT_data/raw_MaxQuant_reports/Metadata_CosyBio.tsv\",\n",
    "                       header = TRUE, sep = \"\\t\", stringsAsFactors = FALSE)\n",
    "                       \n",
    "metadata <- metadata %>%\n",
    "            mutate(Quantitative.column.name = gsub(\" \", \".\", Quantitative.column.name))\n",
    "\n",
    "rownames(metadata) <- metadata$Quantitative.column.name\n",
    "metadata <- metadata %>%\n",
    "            mutate(Quantitative.column.name = gsub(\".Pool\", \".P_\", gsub(\"Reporter.intensity.corrected.\", \"RIC_\", Quantitative.column.name)))\n",
    "\n",
    "\n",
    "# remove the outlier\n",
    "metadata <- metadata %>%\n",
    "            filter(Quantitative.column.name != \"RIC_3.P_3\")\n",
    "\n",
    "\n",
    "# rename the columns - put the .P_[1-9]+ after dot before and the rest after (e.g. RIC_1.P_1 -> P_1.RIC_1)\n",
    "metadata <- metadata %>%\n",
    "            mutate(Quantitative.column.name = gsub(\"RIC_([0-9]+).P_([0-9]+)\", \"P_\\\\2.RIC_\\\\1\", Quantitative.column.name))\n",
    "\n",
    "\n",
    "\n",
    "head(metadata, 3)\n",
    "dim(metadata)"
   ]
  },
  {
   "cell_type": "markdown",
   "metadata": {},
   "source": [
    "# Logic"
   ]
  },
  {
   "cell_type": "markdown",
   "metadata": {},
   "source": [
    "Three types of data:\n",
    "- (1) Data summarized using Gene names\n",
    "- (2) Data summarized using Major.PG.IDs\n",
    "- (3) Data summarized to PG from peptides level.\n",
    "- (4) Data summarized to Gene.names from peptides level.\n",
    "\n",
    "\n",
    "For (1) and (2) PG_group report is used.  \n",
    "Filtered, then features names and samples columns (+ razor+unique peptides are extracted) and stored into separated files.\n",
    "\n",
    "For (3) and (4) approach from MaxQuant for data aggregation is used. Filtered on peptides level, then summarized into PG group using MaxQuant logic. "
   ]
  },
  {
   "cell_type": "markdown",
   "metadata": {},
   "source": [
    "# Extract data for (1) and (2)"
   ]
  },
  {
   "cell_type": "code",
   "execution_count": 11,
   "metadata": {
    "vscode": {
     "languageId": "r"
    }
   },
   "outputs": [],
   "source": [
    "# Function to preprocess the data from a given path and metadata\n",
    "# Args:\n",
    "#   path: The file path of the data to be preprocessed\n",
    "#   meta_data: The metadata associated with the data\n",
    "# Returns:\n",
    "#   A list containing the preprocessed protein intensities and counts\n",
    "preprocess_mxout <- function(path, meta_data){\n",
    "    PG_report <- read.table(\n",
    "        path,\n",
    "        header=T,\n",
    "        sep=\"\\t\",\n",
    "        stringsAsFactors = F)\n",
    "    \n",
    "    # remove decoy matches and matches to contaminant\n",
    "    PG_report <- PG_report[!PG_report$Reverse==\"+\",]\n",
    "    PG_report <- PG_report[!PG_report$Potential.contaminant==\"+\",]\n",
    "    # if the PG_report$Only.identified.by.site is not all NA and contains \"+\" values - remove this rows\n",
    "    if(!all(is.na(PG_report$Only.identified.by.site))) {\n",
    "        # # Only.identified.by.site - exclude proteins that were only identified by a modification site\n",
    "        PG_report <- PG_report[!PG_report$Only.identified.by.site==\"+\",]\n",
    "    }\n",
    "\n",
    "    # PG_report <- PG_report[PG_report$Gene.names != '',]\n",
    "\n",
    "\n",
    "    pg_intensities <- PG_report %>%\n",
    "        select(c(Majority.protein.IDs, Gene.names, rownames(meta_data)))\n",
    "    colnames(pg_intensities) <- c(\"Majority.protein.IDs\", \"Gene.names\", meta_data$Quantitative.column.name)\n",
    "    print(length(pg_intensities$Majority.protein.IDs))\n",
    "\n",
    "    # counts\n",
    "    pg_counts <- PG_report %>%\n",
    "        select(c(\"Majority.protein.IDs\", \"Gene.names\", \"Peptide.IDs\", \"Razor...unique.peptides\", \"Peptide.is.razor\"))\n",
    "\n",
    "    return(list(pg_intensities, pg_counts)) \n",
    "}"
   ]
  },
  {
   "cell_type": "code",
   "execution_count": 12,
   "metadata": {
    "vscode": {
     "languageId": "r"
    }
   },
   "outputs": [
    {
     "name": "stdout",
     "output_type": "stream",
     "text": [
      "[1] 500\n",
      "[1] 530\n",
      "[1] 456\n"
     ]
    }
   ],
   "source": [
    "# List of input files\n",
    "list_of_inputs <- list(\n",
    "    \"Center1\" = \"/home/yuliya/repos/cosybio/FedProt/data/TMT_data/raw_MaxQuant_reports/proteinGroups_center1.txt\",\n",
    "    \"Center2\" = \"/home/yuliya/repos/cosybio/FedProt/data/TMT_data/raw_MaxQuant_reports/proteinGroups_center2.txt\",\n",
    "    \"Center3\" = \"/home/yuliya/repos/cosybio/FedProt/data/TMT_data/raw_MaxQuant_reports/proteinGroups_center3.txt\"\n",
    ")\n",
    "\n",
    "# Initialize empty lists to store combined data\n",
    "combined_pg_intensities <- list()\n",
    "combined_counts <- list()\n",
    "\n",
    "# Iterate over each center\n",
    "for(center in names(list_of_inputs)) {\n",
    "    # Determine the center folder based on the center name\n",
    "    center_folder <- ifelse(center == \"Center1\", \"center_one\", ifelse(center == \"Center2\", \"center_two\", \"center_three\"))\n",
    "\n",
    "    # Filter metadata for the current center\n",
    "    center_metadata <- metadata %>%\n",
    "        filter(Center == center)\n",
    "\n",
    "    # Preprocess the MaxQuant output file for the current center\n",
    "    results_list <- preprocess_mxout(list_of_inputs[[center]], center_metadata)\n",
    "    pg_intensities <- results_list[[1]]\n",
    "    counts_df <- results_list[[2]]\n",
    "\n",
    "    # Add the processed data to the combined lists\n",
    "    combined_pg_intensities <- c(combined_pg_intensities, list(pg_intensities))\n",
    "    combined_counts <- c(combined_counts, list(counts_df))\n",
    "}\n",
    "\n",
    "# Add names to the combined lists\n",
    "names(combined_pg_intensities) <- names(list_of_inputs)\n",
    "names(combined_counts) <- names(list_of_inputs)"
   ]
  },
  {
   "cell_type": "markdown",
   "metadata": {},
   "source": [
    "### (1)"
   ]
  },
  {
   "cell_type": "code",
   "execution_count": 13,
   "metadata": {
    "vscode": {
     "languageId": "r"
    }
   },
   "outputs": [],
   "source": [
    "# Set the output path for the gene intensities and counts\n",
    "genes_output_path <- \"/home/yuliya/repos/cosybio/FedProt/data/TMT_data/balanced_data/01_PG_Genes/\"\n",
    "\n",
    "# Iterate over each center\n",
    "for(center in list(\"Center1\", \"Center2\", \"Center3\")) {\n",
    "  \n",
    "  # Summarize gene intensities\n",
    "  # Calculate the sum of intensities for each gene and concatenate multiple gene names\n",
    "  # separated by semicolons into a single string\n",
    "  genes_intensities <- combined_pg_intensities[[center]] %>%\n",
    "    select(-Majority.protein.IDs) %>%\n",
    "    group_by(Gene.names) %>%\n",
    "    summarize_all(sum) %>%\n",
    "    ungroup() %>%\n",
    "    filter(Gene.names != \"\") %>%\n",
    "    rowwise() %>% # Apply the following operations to each row individually\n",
    "    mutate(Gene.names = map_chr(strsplit(Gene.names, \";\"), ~paste(sort(.x), collapse = \";\")))\n",
    "\n",
    "  # Write the gene intensities to a file\n",
    "  write.table(genes_intensities, paste0(genes_output_path, center, \"/genes_intensities.tsv\"), sep = \"\\t\", quote = FALSE, row.names = FALSE)\n",
    "    \n",
    "  # Summarize gene counts\n",
    "  # Filter, select, and manipulate the counts dataframe\n",
    "  #\"Peptide.is.razor\"\n",
    "  # counts_df <- combined_counts[[center]] %>%\n",
    "  #   filter(Gene.names != \"\") %>%\n",
    "  #   select(-c(Majority.protein.IDs, Razor...unique.peptides)) %>%\n",
    "  #   mutate(Peptide.IDs = strsplit(Peptide.IDs, \";\")) %>%\n",
    "  #   unnest(Peptide.IDs) %>%  unique() %>%\n",
    "  #   group_by(Gene.names) %>%  summarize(Unique.peptides = n()) %>%\n",
    "  #   rowwise() %>% # Apply the following operations to each row individually\n",
    "  #   mutate(Gene.names = map_chr(strsplit(Gene.names, \";\"), ~paste(sort(.x), collapse = \";\")))\n",
    "  counts_df <- combined_counts[[center]] %>%\n",
    "    filter(Gene.names != \"\") %>%\n",
    "    select(-c(Majority.protein.IDs, Razor...unique.peptides)) %>%\n",
    "    mutate(Peptide.IDs = strsplit(Peptide.is.razor, \";\")) %>%\n",
    "    unnest(Peptide.IDs) %>%  \n",
    "    filter(Peptide.IDs == \"True\") %>%\n",
    "    group_by(Gene.names) %>%  summarize(Unique.peptides = n()) %>%\n",
    "    rowwise() %>% # Apply the following operations to each row individually\n",
    "    mutate(Gene.names = map_chr(strsplit(Gene.names, \";\"), ~paste(sort(.x), collapse = \";\")))\n",
    "\n",
    "  # This code performs data preparation steps on the counts dataframe. \n",
    "  #It filters out rows where the Gene.names column is empty, removes unnecessary columns, \n",
    "  # splits the Peptide.IDs column into separate values, removes duplicate rows, \n",
    "  # groups the data by Gene.names, calculates the count of unique peptides for each gene, \n",
    "  # and finally sorts and collapses the Gene.names values. \n",
    "  #The resulting dataframe is stored in the counts_df variable.\n",
    "\n",
    "  # Write the gene counts to a file\n",
    "  write.table(counts_df, paste0(genes_output_path, center, \"/genes_counts_v2.tsv\"), sep = \"\\t\", quote = FALSE, row.names = FALSE)\n",
    "\n",
    "  # Write the metadata to a file\n",
    "  metadata %>%\n",
    "    filter(Center == center) %>%\n",
    "    write.table(paste0(genes_output_path, center, \"/metadata.tsv\"), sep = \"\\t\", quote = FALSE, row.names = TRUE)\n",
    "\n",
    "  if(center == 'Center2'){\n",
    "    write.table(genes_intensities, \"/home/yuliya/repos/cosybio/FedProt/data/TMT_data/balanced_data/Check_center_2/intensities_Gene.tsv\", sep = \"\\t\", quote = FALSE, row.names = FALSE)\n",
    "    write.table(counts_df, \"/home/yuliya/repos/cosybio/FedProt/data/TMT_data/balanced_data/Check_center_2/counts_Gene.tsv\", sep = \"\\t\", quote = FALSE, row.names = FALSE)\n",
    "  }\n",
    "}"
   ]
  },
  {
   "cell_type": "markdown",
   "metadata": {},
   "source": [
    "### (2)"
   ]
  },
  {
   "cell_type": "code",
   "execution_count": 14,
   "metadata": {
    "vscode": {
     "languageId": "r"
    }
   },
   "outputs": [],
   "source": [
    "pg_output_path <- \"/home/yuliya/repos/cosybio/FedProt/data/TMT_data/balanced_data/02_PG_MajorPG/\"\n",
    "\n",
    "# This loop iterates over a list of centers and performs data preparation tasks for each center.\n",
    "for(center in list(\"Center1\", \"Center2\", \"Center3\")) {\n",
    "  # Summarize gene names\n",
    "  genes_intensities <- combined_pg_intensities[[center]] %>%\n",
    "    select(-Gene.names) %>%\n",
    "    group_by(Majority.protein.IDs) %>%\n",
    "    rowwise() %>% # Apply the following operations to each row individually\n",
    "    mutate(Majority.protein.IDs = map_chr(strsplit(Majority.protein.IDs, \";\"), ~paste(sort(.x), collapse = \";\")))\n",
    "\n",
    "  # Write gene intensities to a file\n",
    "  write.table(genes_intensities, paste0(pg_output_path, center, \"/pg_intensities.tsv\"), sep = \"\\t\", quote = FALSE, row.names = FALSE)\n",
    "    \n",
    "  # Summarize counts\n",
    "  counts_df <- combined_counts[[center]] %>%\n",
    "    select(-c(Gene.names, Peptide.IDs, Peptide.is.razor)) %>%\n",
    "    rowwise() %>% # Apply the following operations to each row individually\n",
    "    mutate(Majority.protein.IDs = map_chr(strsplit(Majority.protein.IDs, \";\"), ~paste(sort(.x), collapse = \";\")))\n",
    "\n",
    "  # Write counts to a file\n",
    "  write.table(counts_df, paste0(pg_output_path, center, \"/pg_counts.tsv\"), sep = \"\\t\", quote = FALSE, row.names = FALSE)\n",
    "\n",
    "  # Write metadata to a file\n",
    "  metadata %>%\n",
    "    filter(Center == center) %>%\n",
    "    write.table(paste0(pg_output_path, center, \"/metadata.tsv\"), sep = \"\\t\", quote = FALSE, row.names = TRUE)\n",
    "\n",
    "  if(center == 'Center2'){\n",
    "    write.table(genes_intensities, \"/home/yuliya/repos/cosybio/FedProt/data/TMT_data/balanced_data/Check_center_2/intensities_PG.tsv\", sep = \"\\t\", quote = FALSE, row.names = FALSE)\n",
    "    write.table(counts_df, \"/home/yuliya/repos/cosybio/FedProt/data/TMT_data/balanced_data/Check_center_2/counts_PG.tsv\", sep = \"\\t\", quote = FALSE, row.names = FALSE)\n",
    "    metadata %>%\n",
    "      filter(Center == center) %>%\n",
    "      write.table(\"/home/yuliya/repos/cosybio/FedProt/data/TMT_data/balanced_data/Check_center_2/metadata.tsv\", sep = \"\\t\", quote = FALSE, row.names = TRUE)\n",
    "  }\n",
    "}"
   ]
  },
  {
   "cell_type": "markdown",
   "metadata": {},
   "source": [
    "# Extract data for (3) and (4)"
   ]
  },
  {
   "cell_type": "code",
   "execution_count": 7,
   "metadata": {
    "vscode": {
     "languageId": "r"
    }
   },
   "outputs": [],
   "source": [
    "preprocess_mxout <- function(path, center_metadata, center){\n",
    "    peptides_report <- read.table(\n",
    "        path,\n",
    "        header=T,\n",
    "        sep=\"\\t\",\n",
    "        stringsAsFactors = F)\n",
    "    \n",
    "\n",
    "    # if Proteins is empty - take the value from Leading.razor.protein\n",
    "    peptides_report$Proteins[peptides_report$Proteins == ''] <- peptides_report$Leading.razor.protein[peptides_report$Proteins == '']\n",
    "\n",
    "    pg_intensities_all <- peptides_report %>%\n",
    "        select(c(\"Sequence\", \"Proteins\", \"Gene.names\", rownames(center_metadata)), 'Reverse', 'Potential.contaminant')\n",
    "        \n",
    "    # remove decoy matches and matches to contaminant\n",
    "    peptides_report <- peptides_report[!peptides_report$Reverse==\"+\",]\n",
    "    peptides_report <- peptides_report[!peptides_report$Potential.contaminant==\"+\",]\n",
    "    # if the peptides_report$Only.identified.by.site is not all NA and contains \"+\" values - remove this rows\n",
    "    if(!all(is.na(peptides_report$Only.identified.by.site))) {\n",
    "        # # Only.identified.by.site - exclude proteins that were only identified by a modification site\n",
    "        peptides_report <- peptides_report[!peptides_report$Only.identified.by.site==\"+\",]\n",
    "    }\n",
    "\n",
    "    # take only the columns that we need\n",
    "    pg_intensities <- peptides_report %>%\n",
    "        select(c(\"Sequence\", \"Proteins\", \"Gene.names\", rownames(center_metadata)))\n",
    "\n",
    "    print(center)\n",
    "    print(paste0('All peptides: ', length(pg_intensities_all$Sequence)))\n",
    "    print(paste0('Filtered peptides: ', length(pg_intensities$Sequence)))\n",
    "\n",
    "    return(list(pg_intensities_all, pg_intensities))\n",
    "}"
   ]
  },
  {
   "cell_type": "markdown",
   "metadata": {},
   "source": [
    "## (3) and (4) --- aggragated report"
   ]
  },
  {
   "cell_type": "code",
   "execution_count": 8,
   "metadata": {
    "vscode": {
     "languageId": "r"
    }
   },
   "outputs": [
    {
     "name": "stdout",
     "output_type": "stream",
     "text": [
      "[1] \"Center1\"\n",
      "[1] \"All peptides: 5958\"\n",
      "[1] \"Filtered peptides: 5281\"\n",
      "[1] \"Center2\"\n",
      "[1] \"All peptides: 6303\"\n",
      "[1] \"Filtered peptides: 5700\"\n",
      "[1] \"Center3\"\n",
      "[1] \"All peptides: 5528\"\n",
      "[1] \"Filtered peptides: 4978\"\n"
     ]
    }
   ],
   "source": [
    "genes_output_path <- \"/home/yuliya/repos/cosybio/FedProt/data/TMT_data/balanced_data/03_Peptides_Genes/\"\n",
    "pg_output_path <- \"/home/yuliya/repos/cosybio/FedProt/data/TMT_data/balanced_data/04_Peptides_PG/\"\n",
    "\n",
    "\n",
    "list_of_outputs <- list(\n",
    "    \"Center1\" = \"/home/yuliya/repos/cosybio/FedProt/data/TMT_data/raw_MaxQuant_reports/Center1/peptides.txt\",\n",
    "    \"Center2\" = \"/home/yuliya/repos/cosybio/FedProt/data/TMT_data/raw_MaxQuant_reports/Center2/peptides.txt\",\n",
    "    \"Center3\" = \"/home/yuliya/repos/cosybio/FedProt/data/TMT_data/raw_MaxQuant_reports/Center3/peptides.txt\"\n",
    ")\n",
    "\n",
    "combined_pg_intensities <- list()\n",
    "\n",
    "for(center in names(list_of_outputs)) {\n",
    "\n",
    "    center_metadata <- metadata %>%\n",
    "        filter(Center == center)\n",
    "\n",
    "    results_both <- preprocess_mxout(list_of_outputs[[center]], center_metadata, center)\n",
    "    not_filtered <- results_both[[1]]\n",
    "    results_list <- results_both[[2]]\n",
    "\n",
    "    pg_intensities <- results_list %>%\n",
    "        rowwise() %>% # Apply the following operations to each row individually\n",
    "        mutate(Gene.names = map_chr(strsplit(Gene.names, \";\"), ~paste(sort(.x), collapse = \";\"))) %>%\n",
    "        mutate(Proteins = map_chr(strsplit(Proteins, \";\"), ~paste(sort(.x), collapse = \";\")))\n",
    "    pg_intensities <- pg_intensities[, c(\"Sequence\", \"Proteins\", \"Gene.names\", rownames(center_metadata))]\n",
    "    colnames(pg_intensities) <- c(\"Sequence\", \"Proteins\", \"Gene.names\", center_metadata$Quantitative.column.name)\n",
    "\n",
    "    write.table(pg_intensities, paste0(genes_output_path, center, \"/aggregated.tsv\"), sep = \"\\t\", quote = FALSE, row.names = FALSE)\n",
    "    write.table(pg_intensities, paste0(pg_output_path, center, \"/aggregated.tsv\"), sep = \"\\t\", quote = FALSE, row.names = FALSE)\n",
    "\n",
    "    pg_intensities_NF <- not_filtered %>%\n",
    "        rowwise() %>% # Apply the following operations to each row individually\n",
    "        mutate(Gene.names = map_chr(strsplit(Gene.names, \";\"), ~paste(sort(.x), collapse = \";\"))) %>%\n",
    "        mutate(Proteins = map_chr(strsplit(Proteins, \";\"), ~paste(sort(.x), collapse = \";\")))\n",
    "    pg_intensities_NF <- pg_intensities_NF[, c(\"Sequence\", \"Proteins\", \"Gene.names\", 'Reverse', 'Potential.contaminant', rownames(center_metadata))]\n",
    "    colnames(pg_intensities_NF) <- c(\"Sequence\", \"Proteins\", \"Gene.names\", 'Reverse', 'Potential.contaminant', center_metadata$Quantitative.column.name)\n",
    "\n",
    "    write.table(pg_intensities_NF, paste0(genes_output_path, center, \"/aggregated_NF.tsv\"), sep = \"\\t\", quote = FALSE, row.names = FALSE)\n",
    "    write.table(pg_intensities_NF, paste0(pg_output_path, center, \"/aggregated_NF.tsv\"), sep = \"\\t\", quote = FALSE, row.names = FALSE)\n",
    "\n",
    "    # write metadata\n",
    "    metadata %>%\n",
    "        filter(Center == center) %>%\n",
    "        write.table(paste0(genes_output_path, center, \"/metadata.tsv\"), sep = \"\\t\", quote = FALSE, row.names = TRUE)\n",
    "    metadata %>%\n",
    "        filter(Center == center) %>%\n",
    "        write.table(paste0(pg_output_path, center, \"/metadata.tsv\"), sep = \"\\t\", quote = FALSE, row.names = TRUE)\n",
    "}\n"
   ]
  },
  {
   "cell_type": "code",
   "execution_count": null,
   "metadata": {
    "vscode": {
     "languageId": "r"
    }
   },
   "outputs": [],
   "source": []
  }
 ],
 "metadata": {
  "kernelspec": {
   "display_name": "R",
   "language": "R",
   "name": "ir"
  },
  "language_info": {
   "codemirror_mode": "r",
   "file_extension": ".r",
   "mimetype": "text/x-r-source",
   "name": "R",
   "pygments_lexer": "r",
   "version": "4.2.0"
  }
 },
 "nbformat": 4,
 "nbformat_minor": 2
}
