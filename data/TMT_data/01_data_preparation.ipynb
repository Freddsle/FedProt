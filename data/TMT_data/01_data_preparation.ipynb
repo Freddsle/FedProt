{
 "cells": [
  {
   "cell_type": "code",
   "execution_count": 6,
   "metadata": {
    "vscode": {
     "languageId": "r"
    }
   },
   "outputs": [],
   "source": [
    "library(tidyverse)\n",
    "source(\"../../evaluation_utils/preprocessing_MQ/preprocessing_report.R\")"
   ]
  },
  {
   "cell_type": "markdown",
   "metadata": {},
   "source": [
    "# Path and meta"
   ]
  },
  {
   "cell_type": "code",
   "execution_count": 7,
   "metadata": {
    "vscode": {
     "languageId": "r"
    }
   },
   "outputs": [],
   "source": [
    "# REVIEWED\n",
    "data_path = '/home/yuliya/repos/cosybio/FedProt/data/TMT_data/raw_reviewed_MQ_report/'\n",
    "\n",
    "# NOT REVIEWED\n",
    "# data_path = '/home/yuliya/repos/cosybio/FedProt/data/TMT_data/raw_MaxQuant_reports/'"
   ]
  },
  {
   "cell_type": "code",
   "execution_count": 8,
   "metadata": {
    "vscode": {
     "languageId": "r"
    }
   },
   "outputs": [
    {
     "data": {
      "text/html": [
       "<table class=\"dataframe\">\n",
       "<caption>A data.frame: 3 × 6</caption>\n",
       "<thead>\n",
       "\t<tr><th></th><th scope=col>Quantitative.column.name</th><th scope=col>Pool</th><th scope=col>Reporter.ion</th><th scope=col>Patient</th><th scope=col>Group</th><th scope=col>Center</th></tr>\n",
       "\t<tr><th></th><th scope=col>&lt;chr&gt;</th><th scope=col>&lt;chr&gt;</th><th scope=col>&lt;chr&gt;</th><th scope=col>&lt;chr&gt;</th><th scope=col>&lt;chr&gt;</th><th scope=col>&lt;chr&gt;</th></tr>\n",
       "</thead>\n",
       "<tbody>\n",
       "\t<tr><th scope=row>Reporter.intensity.corrected.1.Pool1</th><td>P_1.RIC_1</td><td>Pool1</td><td>126 </td><td>Common Reference</td><td>Common Reference</td><td>Center1</td></tr>\n",
       "\t<tr><th scope=row>Reporter.intensity.corrected.2.Pool1</th><td>P_1.RIC_2</td><td>Pool1</td><td>127N</td><td>heathy1         </td><td>heathy          </td><td>Center1</td></tr>\n",
       "\t<tr><th scope=row>Reporter.intensity.corrected.3.Pool1</th><td>P_1.RIC_3</td><td>Pool1</td><td>127C</td><td>FSGS1           </td><td>FSGS            </td><td>Center1</td></tr>\n",
       "</tbody>\n",
       "</table>\n"
      ],
      "text/latex": [
       "A data.frame: 3 × 6\n",
       "\\begin{tabular}{r|llllll}\n",
       "  & Quantitative.column.name & Pool & Reporter.ion & Patient & Group & Center\\\\\n",
       "  & <chr> & <chr> & <chr> & <chr> & <chr> & <chr>\\\\\n",
       "\\hline\n",
       "\tReporter.intensity.corrected.1.Pool1 & P\\_1.RIC\\_1 & Pool1 & 126  & Common Reference & Common Reference & Center1\\\\\n",
       "\tReporter.intensity.corrected.2.Pool1 & P\\_1.RIC\\_2 & Pool1 & 127N & heathy1          & heathy           & Center1\\\\\n",
       "\tReporter.intensity.corrected.3.Pool1 & P\\_1.RIC\\_3 & Pool1 & 127C & FSGS1            & FSGS             & Center1\\\\\n",
       "\\end{tabular}\n"
      ],
      "text/markdown": [
       "\n",
       "A data.frame: 3 × 6\n",
       "\n",
       "| <!--/--> | Quantitative.column.name &lt;chr&gt; | Pool &lt;chr&gt; | Reporter.ion &lt;chr&gt; | Patient &lt;chr&gt; | Group &lt;chr&gt; | Center &lt;chr&gt; |\n",
       "|---|---|---|---|---|---|---|\n",
       "| Reporter.intensity.corrected.1.Pool1 | P_1.RIC_1 | Pool1 | 126  | Common Reference | Common Reference | Center1 |\n",
       "| Reporter.intensity.corrected.2.Pool1 | P_1.RIC_2 | Pool1 | 127N | heathy1          | heathy           | Center1 |\n",
       "| Reporter.intensity.corrected.3.Pool1 | P_1.RIC_3 | Pool1 | 127C | FSGS1            | FSGS             | Center1 |\n",
       "\n"
      ],
      "text/plain": [
       "                                     Quantitative.column.name Pool \n",
       "Reporter.intensity.corrected.1.Pool1 P_1.RIC_1                Pool1\n",
       "Reporter.intensity.corrected.2.Pool1 P_1.RIC_2                Pool1\n",
       "Reporter.intensity.corrected.3.Pool1 P_1.RIC_3                Pool1\n",
       "                                     Reporter.ion Patient         \n",
       "Reporter.intensity.corrected.1.Pool1 126          Common Reference\n",
       "Reporter.intensity.corrected.2.Pool1 127N         heathy1         \n",
       "Reporter.intensity.corrected.3.Pool1 127C         FSGS1           \n",
       "                                     Group            Center \n",
       "Reporter.intensity.corrected.1.Pool1 Common Reference Center1\n",
       "Reporter.intensity.corrected.2.Pool1 heathy           Center1\n",
       "Reporter.intensity.corrected.3.Pool1 FSGS             Center1"
      ]
     },
     "metadata": {},
     "output_type": "display_data"
    },
    {
     "data": {
      "text/html": [
       "<style>\n",
       ".list-inline {list-style: none; margin:0; padding: 0}\n",
       ".list-inline>li {display: inline-block}\n",
       ".list-inline>li:not(:last-child)::after {content: \"\\00b7\"; padding: 0 .5ex}\n",
       "</style>\n",
       "<ol class=list-inline><li>65</li><li>6</li></ol>\n"
      ],
      "text/latex": [
       "\\begin{enumerate*}\n",
       "\\item 65\n",
       "\\item 6\n",
       "\\end{enumerate*}\n"
      ],
      "text/markdown": [
       "1. 65\n",
       "2. 6\n",
       "\n",
       "\n"
      ],
      "text/plain": [
       "[1] 65  6"
      ]
     },
     "metadata": {},
     "output_type": "display_data"
    }
   ],
   "source": [
    "# Metadtata\n",
    "\n",
    "metadata <- read.table(\"/home/yuliya/repos/cosybio/FedProt/data/TMT_data/raw_MaxQuant_reports/Metadata_CosyBio.tsv\",\n",
    "                       header = TRUE, sep = \"\\t\", stringsAsFactors = FALSE)\n",
    "                       \n",
    "metadata <- metadata %>%\n",
    "            mutate(Quantitative.column.name = gsub(\" \", \".\", Quantitative.column.name))\n",
    "\n",
    "rownames(metadata) <- metadata$Quantitative.column.name\n",
    "metadata <- metadata %>%\n",
    "            mutate(Quantitative.column.name = gsub(\".Pool\", \".P_\", gsub(\"Reporter.intensity.corrected.\", \"RIC_\", Quantitative.column.name)))\n",
    "\n",
    "\n",
    "# remove the outlier\n",
    "metadata <- metadata %>%\n",
    "            filter(Quantitative.column.name != \"RIC_3.P_3\")\n",
    "\n",
    "\n",
    "# rename the columns - put the .P_[1-9]+ after dot before and the rest after (e.g. RIC_1.P_1 -> P_1.RIC_1)\n",
    "metadata <- metadata %>%\n",
    "            mutate(Quantitative.column.name = gsub(\"RIC_([0-9]+).P_([0-9]+)\", \"P_\\\\2.RIC_\\\\1\", Quantitative.column.name))\n",
    "\n",
    "\n",
    "\n",
    "head(metadata, 3)\n",
    "dim(metadata)"
   ]
  },
  {
   "cell_type": "markdown",
   "metadata": {},
   "source": [
    "# Logic"
   ]
  },
  {
   "cell_type": "markdown",
   "metadata": {},
   "source": [
    "Three types of data:\n",
    "- (1) Data summarized using Gene names\n",
    "- (2) Data summarized using Major.PG.IDs\n",
    "- (3) Data summarized to PG from peptides level.\n",
    "- (4) Data summarized to Gene.names from peptides level.\n",
    "\n",
    "\n",
    "For (1) and (2) PG_group report is used.  \n",
    "Filtered, then features names and samples columns (+ razor+unique peptides are extracted) and stored into separated files.\n",
    "\n",
    "For (3) and (4) approach from MaxQuant for data aggregation is used. Filtered on peptides level, then summarized into PG group using MaxQuant logic. "
   ]
  },
  {
   "cell_type": "markdown",
   "metadata": {},
   "source": [
    "# Extract data for (1) and (2)"
   ]
  },
  {
   "cell_type": "code",
   "execution_count": 21,
   "metadata": {
    "vscode": {
     "languageId": "r"
    }
   },
   "outputs": [
    {
     "name": "stdout",
     "output_type": "stream",
     "text": [
      "Processed data count: 491 \n",
      "Counts data count: 491 \n",
      "Processed data count: 516 \n",
      "Counts data count: 516 \n",
      "Processed data count: 438 \n",
      "Counts data count: 438 \n"
     ]
    }
   ],
   "source": [
    "# List of input files\n",
    "list_of_inputs <- list(\n",
    "    \"Center1\" = paste0(data_path, \"Center1/proteinGroups.txt\"),\n",
    "    \"Center2\" = paste0(data_path, \"Center2/proteinGroups.txt\"),\n",
    "    \"Center3\" = paste0(data_path, \"Center3/proteinGroups.txt\")\n",
    ")\n",
    "\n",
    "# Initialize empty lists to store combined data\n",
    "combined_pg_intensities <- list()\n",
    "combined_counts <- list()\n",
    "\n",
    "# Iterate over each center\n",
    "for(center in names(list_of_inputs)) {\n",
    "    # Determine the center folder based on the center name\n",
    "    center_folder <- ifelse(center == \"Center1\", \"center_one\", ifelse(center == \"Center2\", \"center_two\", \"center_three\"))\n",
    "\n",
    "    # Filter metadata for the current center\n",
    "    center_metadata <- metadata %>%\n",
    "        filter(Center == center)\n",
    "\n",
    "    # Preprocess the MaxQuant output file for the current center\n",
    "    results_list <- preprocess_data_mxout(list_of_inputs[[center]], center_metadata, data_type='protein')\n",
    "    pg_intensities <- results_list[[1]]\n",
    "    counts_df <- results_list[[2]]\n",
    "\n",
    "    # Add the processed data to the combined lists\n",
    "    combined_pg_intensities <- c(combined_pg_intensities, list(pg_intensities))\n",
    "    combined_counts <- c(combined_counts, list(counts_df))\n",
    "}\n",
    "\n",
    "# Add names to the combined lists\n",
    "names(combined_pg_intensities) <- names(list_of_inputs)\n",
    "names(combined_counts) <- names(list_of_inputs)"
   ]
  },
  {
   "cell_type": "markdown",
   "metadata": {},
   "source": [
    "### (1)"
   ]
  },
  {
   "cell_type": "code",
   "execution_count": 22,
   "metadata": {
    "vscode": {
     "languageId": "r"
    }
   },
   "outputs": [],
   "source": [
    "# Set the output path for the gene intensities and counts\n",
    "genes_output_path <- \"/home/yuliya/repos/cosybio/FedProt/data/TMT_data/balanced_data/01_PG_Genes/\"\n",
    "\n",
    "# Iterate over each center\n",
    "for(center in list(\"Center1\", \"Center2\", \"Center3\")) {\n",
    "  \n",
    "  # Summarize gene intensities\n",
    "  # Calculate the sum of intensities for each gene and concatenate multiple gene names\n",
    "  # separated by semicolons into a single string\n",
    "  genes_intensities <- combined_pg_intensities[[center]] %>%\n",
    "    select(-Majority.protein.IDs) %>%\n",
    "    group_by(Gene.names) %>%\n",
    "    summarize_all(sum) %>%\n",
    "    ungroup() %>%\n",
    "    filter(Gene.names != \"\") %>%\n",
    "    rowwise() %>% # Apply the following operations to each row individually\n",
    "    mutate(Gene.names = map_chr(strsplit(Gene.names, \";\"), ~paste(sort(.x), collapse = \";\")))\n",
    "\n",
    "  # Write the gene intensities to a file\n",
    "  write.table(genes_intensities, paste0(genes_output_path, center, \"/genes_intensities.tsv\"), sep = \"\\t\", quote = FALSE, row.names = FALSE)\n",
    "    \n",
    "  # Summarize gene counts\n",
    "  # Filter, select, and manipulate the counts dataframe\n",
    "  #\"Peptide.is.razor\"\n",
    "  # counts_df <- combined_counts[[center]] %>%\n",
    "  #   filter(Gene.names != \"\") %>%\n",
    "  #   select(-c(Majority.protein.IDs, Razor...unique.peptides)) %>%\n",
    "  #   mutate(Peptide.IDs = strsplit(Peptide.IDs, \";\")) %>%\n",
    "  #   unnest(Peptide.IDs) %>%  unique() %>%\n",
    "  #   group_by(Gene.names) %>%  summarize(Unique.peptides = n()) %>%\n",
    "  #   rowwise() %>% # Apply the following operations to each row individually\n",
    "  #   mutate(Gene.names = map_chr(strsplit(Gene.names, \";\"), ~paste(sort(.x), collapse = \";\")))\n",
    "  counts_df <- combined_counts[[center]] %>%\n",
    "    filter(Gene.names != \"\") %>%\n",
    "    select(-c(Majority.protein.IDs, Razor...unique.peptides)) %>%\n",
    "    mutate(Peptide.IDs = strsplit(Peptide.is.razor, \";\")) %>%\n",
    "    unnest(Peptide.IDs) %>%  \n",
    "    filter(Peptide.IDs == \"True\") %>%\n",
    "    group_by(Gene.names) %>%  summarize(Unique.peptides = n()) %>%\n",
    "    rowwise() %>% # Apply the following operations to each row individually\n",
    "    mutate(Gene.names = map_chr(strsplit(Gene.names, \";\"), ~paste(sort(.x), collapse = \";\")))\n",
    "\n",
    "  # This code performs data preparation steps on the counts dataframe. \n",
    "  #It filters out rows where the Gene.names column is empty, removes unnecessary columns, \n",
    "  # splits the Peptide.IDs column into separate values, removes duplicate rows, \n",
    "  # groups the data by Gene.names, calculates the count of unique peptides for each gene, \n",
    "  # and finally sorts and collapses the Gene.names values. \n",
    "  #The resulting dataframe is stored in the counts_df variable.\n",
    "\n",
    "  # Write the gene counts to a file\n",
    "  write.table(counts_df, paste0(genes_output_path, center, \"/genes_counts_v2.tsv\"), sep = \"\\t\", quote = FALSE, row.names = FALSE)\n",
    "\n",
    "  # Write the metadata to a file\n",
    "  metadata %>%\n",
    "    filter(Center == center) %>%\n",
    "    write.table(paste0(genes_output_path, center, \"/metadata.tsv\"), sep = \"\\t\", quote = FALSE, row.names = TRUE)\n",
    "\n",
    "  # if(center == 'Center2'){\n",
    "  #   write.table(genes_intensities, \"/home/yuliya/repos/cosybio/FedProt/data/TMT_data/balanced_data/Check_center_2/intensities_Gene.tsv\", sep = \"\\t\", quote = FALSE, row.names = FALSE)\n",
    "  #   write.table(counts_df, \"/home/yuliya/repos/cosybio/FedProt/data/TMT_data/balanced_data/Check_center_2/counts_Gene.tsv\", sep = \"\\t\", quote = FALSE, row.names = FALSE)\n",
    "  # }\n",
    "}"
   ]
  },
  {
   "cell_type": "markdown",
   "metadata": {},
   "source": [
    "### (2)"
   ]
  },
  {
   "cell_type": "code",
   "execution_count": 23,
   "metadata": {
    "vscode": {
     "languageId": "r"
    }
   },
   "outputs": [],
   "source": [
    "pg_output_path <- \"/home/yuliya/repos/cosybio/FedProt/data/TMT_data/balanced_data/02_PG_MajorPG/\"\n",
    "\n",
    "# This loop iterates over a list of centers and performs data preparation tasks for each center.\n",
    "for(center in list(\"Center1\", \"Center2\", \"Center3\")) {\n",
    "  # Summarize gene names\n",
    "  genes_intensities <- combined_pg_intensities[[center]] %>%\n",
    "    select(-Gene.names) %>%\n",
    "    group_by(Majority.protein.IDs) %>%\n",
    "    rowwise() %>% # Apply the following operations to each row individually\n",
    "    mutate(Majority.protein.IDs = map_chr(strsplit(Majority.protein.IDs, \";\"), ~paste(sort(.x), collapse = \";\")))\n",
    "\n",
    "  # Write gene intensities to a file\n",
    "  write.table(genes_intensities, paste0(pg_output_path, center, \"/pg_intensities.tsv\"), sep = \"\\t\", quote = FALSE, row.names = FALSE)\n",
    "    \n",
    "  # Summarize counts\n",
    "  counts_df <- combined_counts[[center]] %>%\n",
    "    select(-c(Gene.names, Peptide.IDs, Peptide.is.razor)) %>%\n",
    "    rowwise() %>% # Apply the following operations to each row individually\n",
    "    mutate(Majority.protein.IDs = map_chr(strsplit(Majority.protein.IDs, \";\"), ~paste(sort(.x), collapse = \";\")))\n",
    "\n",
    "  # Write counts to a file\n",
    "  write.table(counts_df, paste0(pg_output_path, center, \"/pg_counts.tsv\"), sep = \"\\t\", quote = FALSE, row.names = FALSE)\n",
    "\n",
    "  # Write metadata to a file\n",
    "  metadata %>%\n",
    "    filter(Center == center) %>%\n",
    "    write.table(paste0(pg_output_path, center, \"/metadata.tsv\"), sep = \"\\t\", quote = FALSE, row.names = TRUE)\n",
    "\n",
    "  # if(center == 'Center2'){\n",
    "  #   write.table(genes_intensities, \"/home/yuliya/repos/cosybio/FedProt/data/TMT_data/balanced_data/Check_center_2/intensities_PG.tsv\", sep = \"\\t\", quote = FALSE, row.names = FALSE)\n",
    "  #   write.table(counts_df, \"/home/yuliya/repos/cosybio/FedProt/data/TMT_data/balanced_data/Check_center_2/counts_PG.tsv\", sep = \"\\t\", quote = FALSE, row.names = FALSE)\n",
    "  #   metadata %>%\n",
    "  #     filter(Center == center) %>%\n",
    "  #     write.table(\"/home/yuliya/repos/cosybio/FedProt/data/TMT_data/balanced_data/Check_center_2/metadata.tsv\", sep = \"\\t\", quote = FALSE, row.names = TRUE)\n",
    "  # }\n",
    "}"
   ]
  },
  {
   "cell_type": "markdown",
   "metadata": {},
   "source": [
    "# Extract data for (3) and (4)"
   ]
  },
  {
   "cell_type": "markdown",
   "metadata": {},
   "source": [
    "## (3) and (4) --- aggragated report"
   ]
  },
  {
   "cell_type": "code",
   "execution_count": 9,
   "metadata": {
    "vscode": {
     "languageId": "r"
    }
   },
   "outputs": [
    {
     "name": "stdout",
     "output_type": "stream",
     "text": [
      "Processed data count: 5987 \n",
      "Processed data count: 6360 \n",
      "Processed data count: 5517 \n"
     ]
    }
   ],
   "source": [
    "genes_output_path <- \"/home/yuliya/repos/cosybio/FedProt/data/TMT_data/balanced_data/03_Peptides_Genes/\"\n",
    "pg_output_path <- \"/home/yuliya/repos/cosybio/FedProt/data/TMT_data/balanced_data/04_Peptides_PG/\"\n",
    "\n",
    "\n",
    "list_of_outputs <- list(\n",
    "    \"Center1\" = paste0(data_path, \"Center1/peptides.txt\"),\n",
    "    \"Center2\" = paste0(data_path, \"Center2/peptides.txt\"),\n",
    "    \"Center3\" = paste0(data_path, \"Center3/peptides.txt\")\n",
    ")\n",
    "\n",
    "combined_pg_intensities <- list()\n",
    "\n",
    "for(center in names(list_of_outputs)) {\n",
    "\n",
    "    center_metadata <- metadata %>%\n",
    "        filter(Center == center)\n",
    "\n",
    "    not_filtered <- preprocess_data_mxout(list_of_outputs[[center]], center_metadata, data_type = 'peptide', do_filter = FALSE)\n",
    "    # results_list <- preprocess_data_mxout(list_of_outputs[[center]], center_metadata, data_type = 'peptide', do_filter = TRUE)\n",
    "\n",
    "    # pg_intensities <- results_list %>%\n",
    "    #     rowwise() %>% # Apply the following operations to each row individually\n",
    "    #     mutate(Gene.names = map_chr(strsplit(Gene.names, \";\"), ~paste(sort(.x), collapse = \";\"))) %>%\n",
    "    #     mutate(Proteins = map_chr(strsplit(Proteins, \";\"), ~paste(sort(.x), collapse = \";\")))\n",
    "    # pg_intensities <- pg_intensities[, c(\"Sequence\", \"Proteins\", \"Gene.names\", rownames(center_metadata))]\n",
    "    # colnames(pg_intensities) <- c(\"Sequence\", \"Proteins\", \"Gene.names\", center_metadata$Quantitative.column.name)\n",
    "\n",
    "    # write.table(pg_intensities, paste0(genes_output_path, center, \"/aggregated.tsv\"), sep = \"\\t\", quote = FALSE, row.names = FALSE)\n",
    "    # write.table(pg_intensities, paste0(pg_output_path, center, \"/aggregated.tsv\"), sep = \"\\t\", quote = FALSE, row.names = FALSE)\n",
    "\n",
    "    pg_intensities_NF <- not_filtered %>%\n",
    "        rowwise() %>% # Apply the following operations to each row individually\n",
    "        mutate(Gene.names = map_chr(strsplit(Gene.names, \";\"), ~paste(sort(.x), collapse = \";\"))) %>%\n",
    "        mutate(Proteins = map_chr(strsplit(Proteins, \";\"), ~paste(sort(.x), collapse = \";\")))\n",
    "    pg_intensities_NF <- pg_intensities_NF[, c(\"Sequence\", \"Proteins\", \"Gene.names\", 'Reverse', 'Potential.contaminant', rownames(center_metadata))]\n",
    "    colnames(pg_intensities_NF) <- c(\"Sequence\", \"Proteins\", \"Gene.names\", 'Reverse', 'Potential.contaminant', center_metadata$Quantitative.column.name)\n",
    "\n",
    "    write.table(pg_intensities_NF, paste0(genes_output_path, center, \"/aggregated_NF.tsv\"), sep = \"\\t\", quote = FALSE, row.names = FALSE)\n",
    "    write.table(pg_intensities_NF, paste0(pg_output_path, center, \"/aggregated_NF.tsv\"), sep = \"\\t\", quote = FALSE, row.names = FALSE)\n",
    "\n",
    "    # write.table(not_filtered, paste0(\"/home/yuliya/repos/cosybio/FedProt/data/TMT_data/mapping_filtering_check/custom_NR/\", center, \"_aggregated_NF.tsv\"), sep = \"\\t\", quote = FALSE, row.names = FALSE)\n",
    "\n",
    "    # write metadata\n",
    "    metadata %>%\n",
    "        filter(Center == center) %>%\n",
    "        write.table(paste0(genes_output_path, center, \"/metadata.tsv\"), sep = \"\\t\", quote = FALSE, row.names = TRUE)\n",
    "    metadata %>%\n",
    "        filter(Center == center) %>%\n",
    "        write.table(paste0(pg_output_path, center, \"/metadata.tsv\"), sep = \"\\t\", quote = FALSE, row.names = TRUE)\n",
    "}\n"
   ]
  },
  {
   "cell_type": "code",
   "execution_count": null,
   "metadata": {
    "vscode": {
     "languageId": "r"
    }
   },
   "outputs": [],
   "source": []
  }
 ],
 "metadata": {
  "kernelspec": {
   "display_name": "R",
   "language": "R",
   "name": "ir"
  },
  "language_info": {
   "codemirror_mode": "r",
   "file_extension": ".r",
   "mimetype": "text/x-r-source",
   "name": "R",
   "pygments_lexer": "r",
   "version": "4.2.0"
  }
 },
 "nbformat": 4,
 "nbformat_minor": 2
}
