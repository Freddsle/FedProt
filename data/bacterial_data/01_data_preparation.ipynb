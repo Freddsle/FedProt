{
 "cells": [
  {
   "cell_type": "code",
   "execution_count": 1,
   "id": "73f5683a-48cf-4364-a1b6-032cef33608d",
   "metadata": {
    "vscode": {
     "languageId": "r"
    }
   },
   "outputs": [
    {
     "name": "stderr",
     "output_type": "stream",
     "text": [
      "Warning message:\n",
      "“package ‘tidyverse’ was built under R version 4.2.2”\n",
      "Warning message:\n",
      "“package ‘ggplot2’ was built under R version 4.2.3”\n",
      "Warning message:\n",
      "“package ‘tibble’ was built under R version 4.2.3”\n",
      "Warning message:\n",
      "“package ‘tidyr’ was built under R version 4.2.2”\n",
      "Warning message:\n",
      "“package ‘readr’ was built under R version 4.2.2”\n",
      "Warning message:\n",
      "“package ‘purrr’ was built under R version 4.2.3”\n",
      "Warning message:\n",
      "“package ‘dplyr’ was built under R version 4.2.3”\n",
      "Warning message:\n",
      "“package ‘stringr’ was built under R version 4.2.3”\n",
      "Warning message:\n",
      "“package ‘forcats’ was built under R version 4.2.2”\n",
      "Warning message:\n",
      "“package ‘lubridate’ was built under R version 4.2.2”\n",
      "── \u001b[1mAttaching core tidyverse packages\u001b[22m ──────────────────────── tidyverse 2.0.0 ──\n",
      "\u001b[32m✔\u001b[39m \u001b[34mdplyr    \u001b[39m 1.1.2     \u001b[32m✔\u001b[39m \u001b[34mreadr    \u001b[39m 2.1.4\n",
      "\u001b[32m✔\u001b[39m \u001b[34mforcats  \u001b[39m 1.0.0     \u001b[32m✔\u001b[39m \u001b[34mstringr  \u001b[39m 1.5.0\n",
      "\u001b[32m✔\u001b[39m \u001b[34mggplot2  \u001b[39m 3.4.2     \u001b[32m✔\u001b[39m \u001b[34mtibble   \u001b[39m 3.2.1\n",
      "\u001b[32m✔\u001b[39m \u001b[34mlubridate\u001b[39m 1.9.2     \u001b[32m✔\u001b[39m \u001b[34mtidyr    \u001b[39m 1.3.0\n",
      "\u001b[32m✔\u001b[39m \u001b[34mpurrr    \u001b[39m 1.0.1     \n",
      "── \u001b[1mConflicts\u001b[22m ────────────────────────────────────────── tidyverse_conflicts() ──\n",
      "\u001b[31m✖\u001b[39m \u001b[34mdplyr\u001b[39m::\u001b[32mfilter()\u001b[39m masks \u001b[34mstats\u001b[39m::filter()\n",
      "\u001b[31m✖\u001b[39m \u001b[34mdplyr\u001b[39m::\u001b[32mlag()\u001b[39m    masks \u001b[34mstats\u001b[39m::lag()\n",
      "\u001b[36mℹ\u001b[39m Use the conflicted package (\u001b[3m\u001b[34m<http://conflicted.r-lib.org/>\u001b[39m\u001b[23m) to force all conflicts to become errors\n",
      "Warning message:\n",
      "“package ‘gtools’ was built under R version 4.2.2”\n",
      "Warning message:\n",
      "“package ‘cowplot’ was built under R version 4.2.3”\n",
      "\n",
      "Attaching package: ‘cowplot’\n",
      "\n",
      "\n",
      "The following object is masked from ‘package:lubridate’:\n",
      "\n",
      "    stamp\n",
      "\n",
      "\n"
     ]
    }
   ],
   "source": [
    "library(diann)\n",
    "library(tidyverse)\n",
    "library(gtools)\n",
    "library(grid)\n",
    "library(cowplot)"
   ]
  },
  {
   "attachments": {},
   "cell_type": "markdown",
   "id": "3d599749",
   "metadata": {},
   "source": [
    "# Paths to report files"
   ]
  },
  {
   "cell_type": "code",
   "execution_count": 2,
   "id": "fd5a7a0b",
   "metadata": {
    "vscode": {
     "languageId": "r"
    }
   },
   "outputs": [],
   "source": [
    "lab_A_path = '/home/yuliya/repos/cosybio/Proteomics/Data/lab_A/server_run/2023-04-23_21-10-50_diann_run/report.tsv'\n",
    "lab_B_path = '/home/yuliya/repos/cosybio/Proteomics/Data/lab_B/DIA-NN/Clinspect_FedProt_E_coli_trial_LabB_report.tsv'\n",
    "lab_C_path = '/home/yuliya/repos/cosybio/Proteomics/Data/lab_C/server_run/2023-04-18_14-59-30_diann_run/report.tsv'\n",
    "lab_D_path = '/home/yuliya/repos/cosybio/Proteomics/Data/lab_D/2023-06-16_12-05-48_diann_run/report.tsv'\n",
    "lab_E_path = '/home/yuliya/repos/cosybio/Proteomics/Data/lab_E/2023-05-05_18-41-36_diann_run/report.tsv'\n",
    "\n",
    "\n",
    "labs_list = list(lab_A = lab_A_path, lab_B = lab_B_path, lab_C = lab_C_path, lab_D = lab_D_path, lab_E = lab_E_path)"
   ]
  },
  {
   "attachments": {},
   "cell_type": "markdown",
   "id": "5c331a9a-516d-4a4d-8fcb-4811a71e3893",
   "metadata": {},
   "source": [
    "# Functions to plot"
   ]
  },
  {
   "cell_type": "code",
   "execution_count": 3,
   "id": "5a226e66-56ba-49c9-8be0-3129f1b723b2",
   "metadata": {
    "vscode": {
     "languageId": "r"
    }
   },
   "outputs": [],
   "source": [
    "pca_plot <- function(df, batch_info, title, path) {\n",
    "  pca <- prcomp(t(na.omit(df)))\n",
    "  pca_df <- pca$x %>%\n",
    "    as.data.frame() %>%\n",
    "    rownames_to_column(\"file\") %>% \n",
    "    left_join(batch_info,  by = \"file\") \n",
    "  var_expl <- pca$sdev^2 / sum(pca$sdev^2)\n",
    "  names(var_expl) <- paste0(\"PC\", 1:length(var_expl))\n",
    "\n",
    "  pca_plot <- pca_df %>%\n",
    "    ggplot(aes(PC1, PC2)) +\n",
    "    geom_point(aes(col=condition, shape=lab), size=3)  +\n",
    "    theme_classic() +\n",
    "    labs(title = title,\n",
    "         x = glue::glue(\"PC1 [{round(var_expl['PC1']*100, 2)}%]\"),\n",
    "         y = glue::glue(\"PC2 [{round(var_expl['PC2']*100, 2)}%]\"))\n",
    "  \n",
    "  # Check if \"S37\" exists in the pca_df dataframe\n",
    "  if(\"S37\" %in% pca_df$file) {\n",
    "    pca_plot <- pca_plot +\n",
    "      geom_text(data = pca_df[pca_df$file == \"S37\", ], aes(label = file), vjust = -1)\n",
    "  }\n",
    "  \n",
    "  ggsave(path, pca_plot, width = 5, height = 5)\n",
    "  return(pca_plot)\n",
    "}\n"
   ]
  },
  {
   "cell_type": "code",
   "execution_count": 4,
   "id": "87934cfe-075b-438b-a7e4-d628ff228e6e",
   "metadata": {
    "vscode": {
     "languageId": "r"
    }
   },
   "outputs": [],
   "source": [
    "# boxplot\n",
    "boxplot_pg <- function(protein_matrix, title, path) {\n",
    "  # Reshape data into long format\n",
    "  long_data <- tidyr::gather(protein_matrix, \n",
    "                             key = \"file\", value = \"Intensity\")\n",
    "  # Log tranformed scale\n",
    "  boxplot <- ggplot(long_data, aes(x = file, y = Intensity)) + \n",
    "    geom_boxplot() +\n",
    "    stat_summary(fun = mean, geom = \"point\", shape = 4, size = 3, color = \"red\") +\n",
    "    theme_bw() +\n",
    "    theme(axis.text.x = element_text(angle = 90, vjust = 0.5, hjust = 1)) +\n",
    "    labs(title = title) \n",
    "\n",
    "  ggsave(path, boxplot)\n",
    "  return(boxplot)\n",
    "}"
   ]
  },
  {
   "cell_type": "code",
   "execution_count": 5,
   "id": "eb6dc8f3",
   "metadata": {
    "vscode": {
     "languageId": "r"
    }
   },
   "outputs": [],
   "source": [
    "heatmap_plot <- function(pg_matrix, batch_info, name, plot_name_prefix){\n",
    "    cor_matrix <- cor(na.omit(pg_matrix), use = \"pairwise.complete.obs\")\n",
    "    pheatmap::pheatmap(cor_matrix, \n",
    "                        annotation_col = select(batch_info, c(condition, lab)),\n",
    "                        treeheight_row = 0, treeheight_col = 0, \n",
    "                        main = paste0(name, ' heatmap'),\n",
    "                        filename = paste0(plot_name_prefix, \"_heatmap.png\"))\n",
    "}\n"
   ]
  },
  {
   "cell_type": "code",
   "execution_count": 6,
   "id": "a8f090f8",
   "metadata": {
    "vscode": {
     "languageId": "r"
    }
   },
   "outputs": [],
   "source": [
    "plot_three_in_one <- function(pg_matrix, metadata_with_ref_samples, name, plot_name_prefix) {\n",
    "\n",
    "    pca <- pca_plot(pg_matrix, metadata_with_ref_samples, paste0(name, ' pca'), paste0(plot_name_prefix, '_pca.png'))\n",
    "    box <- boxplot_pg(pg_matrix, paste0(name, ' boxplot'), paste0(plot_name_prefix, '_boxplot.png'))\n",
    "    \n",
    "    combined_plot <- plot_grid(pca, box, ncol = 1, align = \"v\")\n",
    "\n",
    "    # Save the combined plot\n",
    "    ggsave(paste0(plot_name_prefix, \"_combined_two.png\"), combined_plot, width = 7, height = 10)\n",
    "}"
   ]
  },
  {
   "attachments": {},
   "cell_type": "markdown",
   "id": "94831d6c-c9f2-4530-b912-8171229dea2c",
   "metadata": {},
   "source": [
    "# Preprocessing - Client side \n",
    "Load data and prepare for the analysis \n",
    "    - QC plots\n",
    "    - remove low-quality samples\n",
    "    - save  to a new files with new names\n",
    "\n",
    "Clients:\n",
    "- use filter - Lib.Q.Value <= 0.01 & Lib.PG.Q.Value <= 0.01\n",
    "- use column - PG.MaxLFQ\n",
    "- check PCA\n",
    "- plot boxplot\n",
    "- plot hetmap\n",
    "\n",
    "And also save user-specific metadata files to the new folder and peptide-counts."
   ]
  },
  {
   "attachments": {},
   "cell_type": "markdown",
   "id": "f5630ba4",
   "metadata": {},
   "source": [
    "## Metadata"
   ]
  },
  {
   "cell_type": "code",
   "execution_count": 7,
   "id": "da000bc5",
   "metadata": {
    "vscode": {
     "languageId": "r"
    }
   },
   "outputs": [],
   "source": [
    "create_metadata <- function(data, name) {\n",
    "    # if(name == 'lab_A') {\n",
    "    #   condition = c(rep(\"A\", 4), rep(\"B\", 4), rep(\"A\", 9), rep(\"B\", 10))\n",
    "    # test like we didnt see S37 sample\n",
    "    if(name == 'lab_A') {\n",
    "      condition = c(rep(\"Pyr\", 2), rep(\"Glu\", 2), rep(\"Pyr\", 10), rep(\"Glu\", 10))\n",
    "    } else if (name == 'lab_B') {\n",
    "      condition = c(rep(\"Pyr\", 12), rep(\"Glu\", 11))\n",
    "    } else if (name == 'lab_C') {\n",
    "      condition = c(rep(\"Pyr\", 11), rep(\"Glu\", 12))\n",
    "    } else if (name == 'lab_D') {\n",
    "      condition = c(rep(\"Pyr\", 10), rep(\"Glu\", 10), rep(\"Pyr\", 2), rep(\"Glu\", 2))\n",
    "    } else if (name == 'lab_E') {\n",
    "      condition = c(rep(\"Glu\", 1), rep(\"Pyr\", 2), rep(\"Glu\", 1), rep(\"Pyr\", 10), rep(\"Glu\", 10))\n",
    "    } else {\n",
    "      stop('Wrong lab name')\n",
    "    }\n",
    "    batch_info <- data.frame(\n",
    "        file = c(gtools::mixedsort(unique(data$File.Name))),\n",
    "        lab = as.factor(c(rep(name, length(unique(data$File.Name))))),\n",
    "        condition = as.factor(condition)\n",
    "    )\n",
    "    rownames(batch_info) <- batch_info$file\n",
    "    return(batch_info)\n",
    "}"
   ]
  },
  {
   "attachments": {},
   "cell_type": "markdown",
   "id": "19d993ee",
   "metadata": {},
   "source": [
    "## Functions"
   ]
  },
  {
   "cell_type": "code",
   "execution_count": 12,
   "id": "0cf7b908",
   "metadata": {
    "tags": [
     "parameters"
    ],
    "vscode": {
     "languageId": "r"
    }
   },
   "outputs": [],
   "source": [
    "read_and_preprocc <- function(path, name) {\n",
    "    # read data\n",
    "    data <- diann::diann_load(path)\n",
    "    data$File.Name <- data$Run\n",
    "    \n",
    "    # outlier samples based on name\n",
    "    filter_sample_out <- switch(name,\n",
    "                                'lab_C' = c(\"BBM_673_P283_01_VEB_008_R2\"),\n",
    "                                'lab_A' = c(\"Ref8537_QC1_20230414_2\", 'Ref8537_QC2_20230414_2', 'Ref8537_QC3_20230414_2', 'Ref8537_QC4_20230414_2'),\n",
    "                                'lab_B' = c('Clinspect_E_coli_A_S29_Slot1-19_1_8668'),\n",
    "                                NULL)\n",
    "    \n",
    "    # filter data if filter_sample_out is not NULL\n",
    "    if (!is.null(filter_sample_out)) {\n",
    "        data <- data[!data$File.Name %in% filter_sample_out, ]\n",
    "    }\n",
    "\n",
    "    # further filter data\n",
    "    data <- data %>% filter(Lib.Q.Value <= 0.01 & Lib.PG.Q.Value <= 0.01)\n",
    "\n",
    "\n",
    "    if(name == 'lab_B'){\n",
    "        data <- data %>% mutate(File.Name = ifelse(File.Name == 'Clinspect_E_coli_B_66_Slot1-13_1_8647', 'Clinspect_E_coli_B_S66_Slot1-13_1_8647', File.Name)) %>%\n",
    "            mutate(Run = ifelse(Run == 'Clinspect_E_coli_B_66_Slot1-13_1_8647', 'Clinspect_E_coli_B_S66_Slot1-13_1_8647',Run))\n",
    "    }\n",
    "    \n",
    "    return(data)\n",
    "}"
   ]
  },
  {
   "cell_type": "code",
   "execution_count": 13,
   "id": "749bea74",
   "metadata": {
    "vscode": {
     "languageId": "r"
    }
   },
   "outputs": [],
   "source": [
    "# function to create expression matrix\n",
    "extract_pg_matrix <- function(data) {\n",
    "  # extract protein group matrix\n",
    "  pg_matrix <- data %>% \n",
    "    select(Protein.Group, Run, PG.MaxLFQ) %>% \n",
    "    unique() %>% \n",
    "    pivot_wider(names_from = Run, values_from = PG.MaxLFQ) %>% \n",
    "    column_to_rownames(\"Protein.Group\")\n",
    "  return(pg_matrix)\n",
    "}"
   ]
  },
  {
   "cell_type": "code",
   "execution_count": 14,
   "id": "1238ddcb",
   "metadata": {
    "vscode": {
     "languageId": "r"
    }
   },
   "outputs": [],
   "source": [
    "get_pep_counts_table <- function(data, sample_names=NULL) {\n",
    "    if (is.null(sample_names)) {\n",
    "        pre_prec.count.table <- data %>%\n",
    "        filter(Lib.Q.Value <= 0.01 & Lib.PG.Q.Value <= 0.01) %>%\n",
    "        select(c(Protein.Group, Precursor.Id, Run)) %>%\n",
    "        unique() \n",
    "    } else {\n",
    "       pre_prec.count.table <- data %>%\n",
    "        filter(Lib.Q.Value <= 0.01 & Lib.PG.Q.Value <= 0.01) %>%\n",
    "        filter(Run %in% sample_names) %>%\n",
    "        select(c(Protein.Group, Precursor.Id, Run)) %>%\n",
    "        unique()\n",
    "    }\n",
    "    \n",
    "    prec.count.table <- pre_prec.count.table %>%\n",
    "        select(c(Protein.Group, Precursor.Id)) %>%\n",
    "        unique()\n",
    "        \n",
    "    summ.prec.count.table <- pre_prec.count.table %>%\n",
    "        group_by(Run, Protein.Group) %>% \n",
    "        summarise(count = n_distinct(Precursor.Id)) %>% \n",
    "        pivot_wider(names_from = Run, values_from = count) %>%\n",
    "        # add new column with the minimum number per row, with rm.na = TRUE\n",
    "        mutate(count = pmin(!!!.[-1], na.rm = TRUE)) %>%\n",
    "        select(Protein.Group, count) %>%\n",
    "        as.data.frame(.) \n",
    "\n",
    "    rownames(summ.prec.count.table) <- summ.prec.count.table$Protein.Group\n",
    "    summ.prec.count.table$Protein.Group <- NULL\n",
    "\n",
    "    return(list(summ.prec.count.table, prec.count.table))\n",
    "}"
   ]
  },
  {
   "attachments": {},
   "cell_type": "markdown",
   "id": "ffa3d2a5",
   "metadata": {},
   "source": [
    "## Preprocessing"
   ]
  },
  {
   "cell_type": "code",
   "execution_count": 16,
   "id": "49fb8ff1",
   "metadata": {
    "vscode": {
     "languageId": "r"
    }
   },
   "outputs": [
    {
     "data": {
      "text/html": [
       "TRUE"
      ],
      "text/latex": [
       "TRUE"
      ],
      "text/markdown": [
       "TRUE"
      ],
      "text/plain": [
       "[1] TRUE"
      ]
     },
     "metadata": {},
     "output_type": "display_data"
    },
    {
     "data": {
      "text/html": [
       "TRUE"
      ],
      "text/latex": [
       "TRUE"
      ],
      "text/markdown": [
       "TRUE"
      ],
      "text/plain": [
       "[1] TRUE"
      ]
     },
     "metadata": {},
     "output_type": "display_data"
    },
    {
     "name": "stderr",
     "output_type": "stream",
     "text": [
      "\u001b[1m\u001b[22m`summarise()` has grouped output by 'Run'. You can override using the `.groups`\n",
      "argument.\n",
      "\u001b[1m\u001b[22mSaving 7 x 7 in image\n",
      "Warning message:\n",
      "“\u001b[1m\u001b[22mRemoved 1516 rows containing non-finite values (`stat_boxplot()`).”\n",
      "Warning message:\n",
      "“\u001b[1m\u001b[22mRemoved 1516 rows containing non-finite values (`stat_summary()`).”\n",
      "Warning message:\n",
      "“\u001b[1m\u001b[22mRemoved 1516 rows containing non-finite values (`stat_boxplot()`).”\n",
      "Warning message:\n",
      "“\u001b[1m\u001b[22mRemoved 1516 rows containing non-finite values (`stat_summary()`).”\n",
      "Warning message:\n",
      "“Graphs cannot be vertically aligned unless the axis parameter is set. Placing graphs unaligned.”\n",
      "\u001b[1m\u001b[22m`summarise()` has grouped output by 'Run'. You can override using the `.groups`\n",
      "argument.\n",
      "\u001b[1m\u001b[22mSaving 7 x 7 in image\n",
      "Warning message:\n",
      "“\u001b[1m\u001b[22mRemoved 1540 rows containing non-finite values (`stat_boxplot()`).”\n",
      "Warning message:\n",
      "“\u001b[1m\u001b[22mRemoved 1540 rows containing non-finite values (`stat_summary()`).”\n",
      "Warning message:\n",
      "“\u001b[1m\u001b[22mRemoved 1540 rows containing non-finite values (`stat_boxplot()`).”\n",
      "Warning message:\n",
      "“\u001b[1m\u001b[22mRemoved 1540 rows containing non-finite values (`stat_summary()`).”\n",
      "Warning message:\n",
      "“Graphs cannot be vertically aligned unless the axis parameter is set. Placing graphs unaligned.”\n",
      "\u001b[1m\u001b[22m`summarise()` has grouped output by 'Run'. You can override using the `.groups`\n",
      "argument.\n",
      "\u001b[1m\u001b[22mSaving 7 x 7 in image\n",
      "Warning message:\n",
      "“\u001b[1m\u001b[22mRemoved 2095 rows containing non-finite values (`stat_boxplot()`).”\n",
      "Warning message:\n",
      "“\u001b[1m\u001b[22mRemoved 2095 rows containing non-finite values (`stat_summary()`).”\n",
      "Warning message:\n",
      "“\u001b[1m\u001b[22mRemoved 2095 rows containing non-finite values (`stat_boxplot()`).”\n",
      "Warning message:\n",
      "“\u001b[1m\u001b[22mRemoved 2095 rows containing non-finite values (`stat_summary()`).”\n",
      "Warning message:\n",
      "“Graphs cannot be vertically aligned unless the axis parameter is set. Placing graphs unaligned.”\n",
      "\u001b[1m\u001b[22m`summarise()` has grouped output by 'Run'. You can override using the `.groups`\n",
      "argument.\n",
      "\u001b[1m\u001b[22mSaving 7 x 7 in image\n",
      "Warning message:\n",
      "“\u001b[1m\u001b[22mRemoved 965 rows containing non-finite values (`stat_boxplot()`).”\n",
      "Warning message:\n",
      "“\u001b[1m\u001b[22mRemoved 965 rows containing non-finite values (`stat_summary()`).”\n",
      "Warning message:\n",
      "“\u001b[1m\u001b[22mRemoved 965 rows containing non-finite values (`stat_boxplot()`).”\n",
      "Warning message:\n",
      "“\u001b[1m\u001b[22mRemoved 965 rows containing non-finite values (`stat_summary()`).”\n",
      "Warning message:\n",
      "“Graphs cannot be vertically aligned unless the axis parameter is set. Placing graphs unaligned.”\n",
      "\u001b[1m\u001b[22m`summarise()` has grouped output by 'Run'. You can override using the `.groups`\n",
      "argument.\n",
      "\u001b[1m\u001b[22mSaving 7 x 7 in image\n",
      "Warning message:\n",
      "“\u001b[1m\u001b[22mRemoved 1240 rows containing non-finite values (`stat_boxplot()`).”\n",
      "Warning message:\n",
      "“\u001b[1m\u001b[22mRemoved 1240 rows containing non-finite values (`stat_summary()`).”\n",
      "Warning message:\n",
      "“\u001b[1m\u001b[22mRemoved 1240 rows containing non-finite values (`stat_boxplot()`).”\n",
      "Warning message:\n",
      "“\u001b[1m\u001b[22mRemoved 1240 rows containing non-finite values (`stat_summary()`).”\n",
      "Warning message:\n",
      "“Graphs cannot be vertically aligned unless the axis parameter is set. Placing graphs unaligned.”\n"
     ]
    }
   ],
   "source": [
    "# start redirection\n",
    "#sink(\"/home/yuliya/repos/cosybio/FedDEqMS/data/00_prot_matrices/log.txt\")\n",
    "\n",
    "log_file_path <- \"/home/yuliya/repos/cosybio/FedProt/bacterial_data/balanced/log.txt\"\n",
    "\n",
    "# Remove the file if it exists\n",
    "if (file.exists(log_file_path)) {\n",
    "  file.remove(log_file_path)\n",
    "}\n",
    "# Create a new, empty file\n",
    "file.create(log_file_path)\n",
    "\n",
    "bath_info_all <- NULL\n",
    "\n",
    "for (name in names(labs_list)) {\n",
    "    lab_path <- labs_list[[name]]\n",
    "    # check if we have lab results\n",
    "    if (is.null(lab_path)) {next}\n",
    "    # create plots file prefix\n",
    "    plot_name_prefix <- paste0('/home/yuliya/repos/cosybio/FedProt/bacterial_data/balanced/', name, '/plots/', name)\n",
    "    file_name_prefix <- paste0('/home/yuliya/repos/cosybio/FedProt/bacterial_data/balanced/', name, \"/\")\n",
    "\n",
    "    # read data\n",
    "    data <- read_and_preprocc(lab_path, name)\n",
    "    \n",
    "    # create metadata file\n",
    "    batch_info <- create_metadata(data, name)\n",
    "    # add  into metadata for centralized run\n",
    "    if(is.null(bath_info_all)){\n",
    "      bath_info_all <- batch_info\n",
    "    } else {\n",
    "       bath_info_all <- rbind(bath_info_all, batch_info)\n",
    "    }\n",
    "    # create design matrix for fedDEqMS\n",
    "    dummy_df <- model.matrix(~condition - 1, batch_info)\n",
    "    colnames(dummy_df) <- gsub(\"condition\", \"\", colnames(dummy_df))\n",
    "    batch_info <- batch_info %>% select(-condition) %>% cbind(dummy_df)\n",
    "    write_tsv(batch_info %>% rownames_to_column(), \n",
    "              paste0(file_name_prefix, \"design.tsv\"))\n",
    "    \n",
    "    # create protein groups matrix\n",
    "    pg_matrix <- extract_pg_matrix(data)[, batch_info$file]\n",
    "    # pg_matrix <- pg_matrix[apply(pg_matrix, 1, function(x) any(!is.na(x))), ]\n",
    "    write_tsv(pg_matrix %>% rownames_to_column(), \n",
    "              paste0(file_name_prefix, \"protein_groups_matrix.tsv\"))\n",
    "    # create precursor counts table\n",
    "    both_counts_table  <- get_pep_counts_table(data)\n",
    "    summ_prec_counts_table <- both_counts_table[[1]]\n",
    "    prec_counts_table <- both_counts_table[[2]]\n",
    "    write_tsv(summ_prec_counts_table %>% rownames_to_column(),\n",
    "              paste0(file_name_prefix, \"protein_counts.tsv\"))\n",
    "\n",
    "    # log2 transform for plots\n",
    "    pg_matrix <- pg_matrix %>% \n",
    "      mutate(across(everything(), \n",
    "                      ~ {.x <- log2(.)\n",
    "                      replace(.x, .x < 0 | is.infinite(.x), NA)\n",
    "                      }))\n",
    "    \n",
    "    metadata_with_ref_samples <-create_metadata_with_ref(data, name)\n",
    "    # rename\n",
    "    if (name == 'lab_A' | name == 'lab_E'){\n",
    "      metadata_with_ref_samples$file <- sapply(strsplit(as.character(metadata_with_ref_samples$file), \"_\"), function(x) {\n",
    "          if (length(x) == 4) {  # if there are four parts\n",
    "            paste(x[2], x[4], sep = \"_\")\n",
    "          } else {  # otherwise, there are three parts\n",
    "            x[2]\n",
    "          }\n",
    "        })\n",
    "      rownames(metadata_with_ref_samples) <- metadata_with_ref_samples$file\n",
    "      colnames(pg_matrix) <- metadata_with_ref_samples$file\n",
    "    }\n",
    "    else if (name == 'lab_C') {\n",
    "      metadata_with_ref_samples$file <- sapply(strsplit(as.character(metadata_with_ref_samples$file), \"_\"), function(x) {\n",
    "          paste(x[5], x[6], sep = \"_\")\n",
    "        })\n",
    "      rownames(metadata_with_ref_samples) <- metadata_with_ref_samples$file\n",
    "      colnames(pg_matrix) <- metadata_with_ref_samples$file\n",
    "    \n",
    "    } else if (name == 'lab_B') {\n",
    "        metadata_with_ref_samples$file <- sapply(strsplit(as.character(metadata_with_ref_samples$file), \"_\"), function(x) {\n",
    "          x[5]\n",
    "        })\n",
    "      rownames(metadata_with_ref_samples) <- metadata_with_ref_samples$file\n",
    "      colnames(pg_matrix) <- metadata_with_ref_samples$file\n",
    "    \n",
    "    } else if (name == 'lab_D') {\n",
    "      metadata_with_ref_samples$file <- sapply(strsplit(as.character(metadata_with_ref_samples$file), \"_\"), function(x) {\n",
    "          x[8]\n",
    "        })\n",
    "      rownames(metadata_with_ref_samples) <- metadata_with_ref_samples$file\n",
    "      colnames(pg_matrix) <- metadata_with_ref_samples$file\n",
    "    }\n",
    "\n",
    "    # plots\n",
    "    #boxplot_pg(pg_matrix, paste0(name, ' boxplot'), paste0(plot_name_prefix, '_boxplot.png'))\n",
    "    #pca_plot(pg_matrix, metadata_with_ref_samples, paste0(name, ' pca'), paste0(plot_name_prefix, '_pca.png'))\n",
    "    heatmap_plot(pg_matrix, metadata_with_ref_samples, name, paste0(plot_name_prefix, \"\"))\n",
    "    plot_three_in_one(pg_matrix, metadata_with_ref_samples, name, plot_name_prefix)\n",
    "    # print info\n",
    "    print_info <- capture.output({\n",
    "        print(paste0(name, \" processed. Info:  Number of proteins: \", dim(pg_matrix)[1], \"   Numer of samples: \", dim(pg_matrix)[2]))\n",
    "    })\n",
    "    write(print_info, file = log_file_path, append = TRUE)\n",
    "\n",
    "}\n",
    "\n",
    "write_tsv(bath_info_all %>% rownames_to_column(), \n",
    "          '/home/yuliya/repos/cosybio/FedProt/bacterial_data/balanced/bath_info_all.tsv')\n",
    "\n",
    "\n",
    "#sink()"
   ]
  },
  {
   "attachments": {},
   "cell_type": "markdown",
   "id": "3a36fc94",
   "metadata": {},
   "source": [
    "```\n",
    "[1] \"lab_A processed. Info:  Number of proteins: 2571   Numer of samples: 24\"\n",
    "[1] \"lab_B processed. Info:  Number of proteins: 2806   Numer of samples: 23\"\n",
    "[1] \"lab_C processed. Info:  Number of proteins: 2803   Numer of samples: 23\"\n",
    "[1] \"lab_D processed. Info:  Number of proteins: 2824   Numer of samples: 24\"\n",
    "[1] \"lab_E processed. Info:  Number of proteins: 2425   Numer of samples: 24\"\n",
    "\n",
    "```"
   ]
  },
  {
   "cell_type": "markdown",
   "id": "962bf7b1",
   "metadata": {},
   "source": [
    "# Create imbalanced datasets"
   ]
  },
  {
   "cell_type": "code",
   "execution_count": 17,
   "id": "b4a1c073",
   "metadata": {
    "vscode": {
     "languageId": "r"
    }
   },
   "outputs": [
    {
     "data": {
      "text/html": [
       "TRUE"
      ],
      "text/latex": [
       "TRUE"
      ],
      "text/markdown": [
       "TRUE"
      ],
      "text/plain": [
       "[1] TRUE"
      ]
     },
     "metadata": {},
     "output_type": "display_data"
    },
    {
     "name": "stderr",
     "output_type": "stream",
     "text": [
      "\u001b[1m\u001b[22m`summarise()` has grouped output by 'Run'. You can override using the `.groups`\n",
      "argument.\n",
      "\u001b[1m\u001b[22mSaving 7 x 7 in image\n",
      "Warning message:\n",
      "“\u001b[1m\u001b[22mRemoved 1055 rows containing non-finite values (`stat_boxplot()`).”\n",
      "Warning message:\n",
      "“\u001b[1m\u001b[22mRemoved 1055 rows containing non-finite values (`stat_summary()`).”\n",
      "Warning message:\n",
      "“\u001b[1m\u001b[22mRemoved 1055 rows containing non-finite values (`stat_boxplot()`).”\n",
      "Warning message:\n",
      "“\u001b[1m\u001b[22mRemoved 1055 rows containing non-finite values (`stat_summary()`).”\n",
      "Warning message:\n",
      "“Graphs cannot be vertically aligned unless the axis parameter is set. Placing graphs unaligned.”\n",
      "\u001b[1m\u001b[22m`summarise()` has grouped output by 'Run'. You can override using the `.groups`\n",
      "argument.\n",
      "\u001b[1m\u001b[22mSaving 7 x 7 in image\n",
      "Warning message:\n",
      "“\u001b[1m\u001b[22mRemoved 705 rows containing non-finite values (`stat_boxplot()`).”\n",
      "Warning message:\n",
      "“\u001b[1m\u001b[22mRemoved 705 rows containing non-finite values (`stat_summary()`).”\n",
      "Warning message:\n",
      "“\u001b[1m\u001b[22mRemoved 705 rows containing non-finite values (`stat_boxplot()`).”\n",
      "Warning message:\n",
      "“\u001b[1m\u001b[22mRemoved 705 rows containing non-finite values (`stat_summary()`).”\n",
      "Warning message:\n",
      "“Graphs cannot be vertically aligned unless the axis parameter is set. Placing graphs unaligned.”\n",
      "\u001b[1m\u001b[22m`summarise()` has grouped output by 'Run'. You can override using the `.groups`\n",
      "argument.\n",
      "\u001b[1m\u001b[22mSaving 7 x 7 in image\n",
      "Warning message:\n",
      "“\u001b[1m\u001b[22mRemoved 999 rows containing non-finite values (`stat_boxplot()`).”\n",
      "Warning message:\n",
      "“\u001b[1m\u001b[22mRemoved 999 rows containing non-finite values (`stat_summary()`).”\n",
      "Warning message:\n",
      "“\u001b[1m\u001b[22mRemoved 999 rows containing non-finite values (`stat_boxplot()`).”\n",
      "Warning message:\n",
      "“\u001b[1m\u001b[22mRemoved 999 rows containing non-finite values (`stat_summary()`).”\n",
      "Warning message:\n",
      "“Graphs cannot be vertically aligned unless the axis parameter is set. Placing graphs unaligned.”\n",
      "\u001b[1m\u001b[22m`summarise()` has grouped output by 'Run'. You can override using the `.groups`\n",
      "argument.\n",
      "\u001b[1m\u001b[22mSaving 7 x 7 in image\n",
      "Warning message:\n",
      "“\u001b[1m\u001b[22mRemoved 686 rows containing non-finite values (`stat_boxplot()`).”\n",
      "Warning message:\n",
      "“\u001b[1m\u001b[22mRemoved 686 rows containing non-finite values (`stat_summary()`).”\n",
      "Warning message:\n",
      "“\u001b[1m\u001b[22mRemoved 686 rows containing non-finite values (`stat_boxplot()`).”\n",
      "Warning message:\n",
      "“\u001b[1m\u001b[22mRemoved 686 rows containing non-finite values (`stat_summary()`).”\n",
      "Warning message:\n",
      "“Graphs cannot be vertically aligned unless the axis parameter is set. Placing graphs unaligned.”\n",
      "\u001b[1m\u001b[22m`summarise()` has grouped output by 'Run'. You can override using the `.groups`\n",
      "argument.\n",
      "\u001b[1m\u001b[22mSaving 7 x 7 in image\n",
      "Warning message:\n",
      "“\u001b[1m\u001b[22mRemoved 658 rows containing non-finite values (`stat_boxplot()`).”\n",
      "Warning message:\n",
      "“\u001b[1m\u001b[22mRemoved 658 rows containing non-finite values (`stat_summary()`).”\n",
      "Warning message:\n",
      "“\u001b[1m\u001b[22mRemoved 658 rows containing non-finite values (`stat_boxplot()`).”\n",
      "Warning message:\n",
      "“\u001b[1m\u001b[22mRemoved 658 rows containing non-finite values (`stat_summary()`).”\n",
      "Warning message:\n",
      "“Graphs cannot be vertically aligned unless the axis parameter is set. Placing graphs unaligned.”\n"
     ]
    }
   ],
   "source": [
    "# start redirection\n",
    "\n",
    "log_file_path <- \"/home/yuliya/repos/cosybio/FedProt/bacterial_data/imbalanced/log.txt\"\n",
    "\n",
    "# Remove the file if it exists\n",
    "if (file.exists(log_file_path)) {\n",
    "  file.remove(log_file_path)\n",
    "}\n",
    "# Create a new, empty file\n",
    "file.create(log_file_path)\n",
    "\n",
    "bath_info_all <- NULL\n",
    "\n",
    "for (name in names(labs_list)) {\n",
    "    lab_path <- labs_list[[name]]\n",
    "    # check if we have lab results\n",
    "    if (is.null(lab_path)) {next}\n",
    "    # create plots file prefix\n",
    "    plot_name_prefix <- paste0('/home/yuliya/repos/cosybio/FedProt/bacterial_data/imbalanced/', name, '/plots/', name)\n",
    "    file_name_prefix <- paste0('/home/yuliya/repos/cosybio/FedProt/bacterial_data/imbalanced/', name, '/')\n",
    "\n",
    "    # read data\n",
    "    data <- read_and_preprocc(lab_path, name)\n",
    "    \n",
    "    # create metadata file\n",
    "    batch_info <- create_metadata(data, name)\n",
    "    # select only some samples\n",
    "    # set.seed(1)\n",
    "    if (name == \"lab_A\") {\n",
    "      sample_names <- c(rownames(batch_info[batch_info$condition == 'Pyr', ][sample(1:nrow(batch_info[batch_info$condition == 'Pyr', ]), 4), ]), \n",
    "                        rownames(batch_info[batch_info$condition == 'Glu', ][sample(1:nrow(batch_info[batch_info$condition == 'Glu', ]), 12), ]))\n",
    "      \n",
    "    } else if (name == \"lab_B\") {\n",
    "       sample_names <- c(rownames(batch_info[batch_info$condition == 'Pyr', ][sample(1:nrow(batch_info[batch_info$condition == 'Pyr', ]),9), ]), \n",
    "                         rownames(batch_info[batch_info$condition == 'Glu', ][sample(1:nrow(batch_info[batch_info$condition == 'Glu', ]), 4), ]))\n",
    "\n",
    "    } else if (name == \"lab_C\") {\n",
    "      sample_names <- c(rownames(batch_info[batch_info$condition == 'Pyr', ]), \n",
    "                        rownames(batch_info[batch_info$condition == 'Glu', ][sample(1:nrow(batch_info[batch_info$condition == 'Glu', ]), 3), ]))\n",
    "      \n",
    "    } else if (name == \"lab_D\") {\n",
    "      sample_names <- c(rownames(batch_info[batch_info$condition == 'Pyr', ][sample(1:nrow(batch_info[batch_info$condition == 'Pyr', ]), 5), ]), \n",
    "                        rownames(batch_info[batch_info$condition == 'Glu', ][sample(1:nrow(batch_info[batch_info$condition == 'Glu', ]), 10), ]))\n",
    "      \n",
    "    } else if (name == \"lab_E\") {\n",
    "      sample_names <- c(rownames(batch_info[batch_info$condition == 'Pyr', ][sample(1:nrow(batch_info[batch_info$condition == 'Pyr', ]), 10), ]), #10\n",
    "                        rownames(batch_info[batch_info$condition == 'Glu', ][sample(1:nrow(batch_info[batch_info$condition == 'Glu', ]), 5), ])) # 5\n",
    "    }\n",
    "    batch_info <- batch_info[batch_info$file %in% sample_names, ]\n",
    "    # add  into metadata for centralized run\n",
    "    if(is.null(bath_info_all)){\n",
    "      bath_info_all <- batch_info\n",
    "    } else {\n",
    "       bath_info_all <- rbind(bath_info_all, batch_info)\n",
    "    }\n",
    "    metadata <- batch_info\n",
    "    # create design matrix for fedDEqMS\n",
    "    dummy_df <- model.matrix(~condition - 1, batch_info)\n",
    "    colnames(dummy_df) <- gsub(\"condition\", \"\", colnames(dummy_df))\n",
    "    batch_info <- batch_info %>% select(-condition) %>% cbind(dummy_df)\n",
    "    write_tsv(batch_info %>% rownames_to_column(), \n",
    "              paste0(file_name_prefix, \"design.tsv\"))\n",
    "    \n",
    "    # create protein groups matrix\n",
    "    pg_matrix <- extract_pg_matrix(data)[, batch_info$file]\n",
    "    pg_matrix <- pg_matrix[apply(pg_matrix, 1, function(x) any(!is.na(x))), ]\n",
    "    write_tsv(pg_matrix %>% rownames_to_column(), \n",
    "              paste0(file_name_prefix, \"protein_groups_matrix.tsv\"))\n",
    "    # create precursor counts table\n",
    "    both_counts_table  <- get_pep_counts_table(data, sample_names)\n",
    "    summ_prec_counts_table <- both_counts_table[[1]]\n",
    "    prec_counts_table <- both_counts_table[[2]]\n",
    "    write_tsv(summ_prec_counts_table %>% rownames_to_column(),\n",
    "              paste0(file_name_prefix, \"protein_counts.tsv\"))\n",
    "\n",
    "    # log2 transform for plots\n",
    "    pg_matrix <- pg_matrix %>% \n",
    "      mutate(across(everything(), \n",
    "                      ~ {.x <- log2(.)\n",
    "                      replace(.x, .x < 0 | is.infinite(.x), NA)\n",
    "                      }))\n",
    "    pg_matrix <- pg_matrix[, metadata$file]\n",
    "   \n",
    "    if (name == 'lab_A' | name == 'lab_E'){\n",
    "      metadata$file <- sapply(strsplit(as.character(metadata$file), \"_\"), function(x) {\n",
    "          if (length(x) == 4) {  # if there are four parts\n",
    "            paste(x[2], x[4], sep = \"_\")\n",
    "          } else {  # otherwise, there are three parts\n",
    "            x[2]\n",
    "          }\n",
    "        })\n",
    "      rownames(metadata) <- metadata$file\n",
    "\n",
    "      colnames(pg_matrix) <- metadata$file\n",
    "    \n",
    "    } else if (name == 'lab_B') {\n",
    "      metadata$file <- sapply(strsplit(as.character( metadata$file), \"_\"), function(x) {\n",
    "          x[5]\n",
    "        })\n",
    "      rownames(metadata) <- metadata$file\n",
    "      colnames(pg_matrix) <- metadata$file\n",
    "    \n",
    "    } else if (name == 'lab_C') {\n",
    "      metadata$file <- sapply(strsplit(as.character(metadata$file), \"_\"), function(x) {\n",
    "          paste(x[5], x[6], sep = \"_\")\n",
    "        })\n",
    "      rownames(metadata) <- metadata$file\n",
    "      colnames(pg_matrix) <- metadata$file\n",
    "    }\n",
    "    else if (name == 'lab_D') {\n",
    "      metadata$file <- sapply(strsplit(as.character(metadata$file), \"_\"), function(x) {\n",
    "          x[8]\n",
    "        })\n",
    "      rownames(metadata) <- metadata$file\n",
    "      colnames(pg_matrix) <- metadata$file\n",
    "    }\n",
    "\n",
    "    # plots\n",
    "    #boxplot_pg(pg_matrix, paste0(name, ' boxplot'), paste0(plot_name_prefix, '_boxplot.png'))\n",
    "    #pca_plot(pg_matrix, metadata_with_ref_samples, paste0(name, ' pca'), paste0(plot_name_prefix, '_pca.png'))\n",
    "    heatmap_plot(pg_matrix, metadata, name, paste0(plot_name_prefix, \"\"))\n",
    "    plot_three_in_one(pg_matrix, metadata, name, plot_name_prefix)\n",
    "    # print info\n",
    "    print_info <- capture.output({\n",
    "        print(paste0(name, \" processed. Info:  Number of proteins: \", dim(pg_matrix)[1], \"   Numer of samples: \", dim(pg_matrix)[2]))\n",
    "    })\n",
    "    write(print_info, file = log_file_path, append = TRUE)\n",
    "\n",
    "}\n",
    "\n",
    "write_tsv(bath_info_all %>% rownames_to_column(), \n",
    "          '/home/yuliya/repos/cosybio/FedProt/bacterial_data/imbalanced/bath_info_all.tsv')\n",
    "#sink()"
   ]
  },
  {
   "cell_type": "markdown",
   "id": "09765856",
   "metadata": {},
   "source": [
    "```\n",
    "\n",
    "[1] \"lab_A processed. Info:  Number of proteins: 2569   Numer of samples: 16\"\n",
    "[1] \"lab_B processed. Info:  Number of proteins: 2806   Numer of samples: 13\"\n",
    "[1] \"lab_C processed. Info:  Number of proteins: 2796   Numer of samples: 14\"\n",
    "[1] \"lab_D processed. Info:  Number of proteins: 2824   Numer of samples: 15\"\n",
    "[1] \"lab_E processed. Info:  Number of proteins: 2423   Numer of samples: 15\"\n",
    "\n",
    "\n",
    "```"
   ]
  },
  {
   "cell_type": "markdown",
   "id": "e31a9cbd",
   "metadata": {},
   "source": []
  }
 ],
 "metadata": {
  "kernelspec": {
   "display_name": "R",
   "language": "R",
   "name": "ir"
  },
  "language_info": {
   "codemirror_mode": "r",
   "file_extension": ".r",
   "mimetype": "text/x-r-source",
   "name": "R",
   "pygments_lexer": "r",
   "version": "4.2.0"
  }
 },
 "nbformat": 4,
 "nbformat_minor": 5
}
