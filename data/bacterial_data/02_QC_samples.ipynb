{
 "cells": [
  {
   "cell_type": "code",
   "execution_count": 1,
   "metadata": {
    "vscode": {
     "languageId": "r"
    }
   },
   "outputs": [
    {
     "name": "stderr",
     "output_type": "stream",
     "text": [
      "Warning message:\n",
      "“package ‘tidyverse’ was built under R version 4.2.2”\n",
      "Warning message:\n",
      "“package ‘ggplot2’ was built under R version 4.2.3”\n",
      "Warning message:\n",
      "“package ‘tibble’ was built under R version 4.2.3”\n",
      "Warning message:\n",
      "“package ‘tidyr’ was built under R version 4.2.2”\n",
      "Warning message:\n",
      "“package ‘readr’ was built under R version 4.2.2”\n",
      "Warning message:\n",
      "“package ‘purrr’ was built under R version 4.2.3”\n",
      "Warning message:\n",
      "“package ‘dplyr’ was built under R version 4.2.3”\n",
      "Warning message:\n",
      "“package ‘stringr’ was built under R version 4.2.3”\n",
      "Warning message:\n",
      "“package ‘forcats’ was built under R version 4.2.2”\n",
      "Warning message:\n",
      "“package ‘lubridate’ was built under R version 4.2.2”\n",
      "── \u001b[1mAttaching core tidyverse packages\u001b[22m ──────────────────────── tidyverse 2.0.0 ──\n",
      "\u001b[32m✔\u001b[39m \u001b[34mdplyr    \u001b[39m 1.1.2     \u001b[32m✔\u001b[39m \u001b[34mreadr    \u001b[39m 2.1.4\n",
      "\u001b[32m✔\u001b[39m \u001b[34mforcats  \u001b[39m 1.0.0     \u001b[32m✔\u001b[39m \u001b[34mstringr  \u001b[39m 1.5.0\n",
      "\u001b[32m✔\u001b[39m \u001b[34mggplot2  \u001b[39m 3.4.2     \u001b[32m✔\u001b[39m \u001b[34mtibble   \u001b[39m 3.2.1\n",
      "\u001b[32m✔\u001b[39m \u001b[34mlubridate\u001b[39m 1.9.2     \u001b[32m✔\u001b[39m \u001b[34mtidyr    \u001b[39m 1.3.0\n",
      "\u001b[32m✔\u001b[39m \u001b[34mpurrr    \u001b[39m 1.0.1     \n",
      "── \u001b[1mConflicts\u001b[22m ────────────────────────────────────────── tidyverse_conflicts() ──\n",
      "\u001b[31m✖\u001b[39m \u001b[34mdplyr\u001b[39m::\u001b[32mfilter()\u001b[39m masks \u001b[34mstats\u001b[39m::filter()\n",
      "\u001b[31m✖\u001b[39m \u001b[34mdplyr\u001b[39m::\u001b[32mlag()\u001b[39m    masks \u001b[34mstats\u001b[39m::lag()\n",
      "\u001b[36mℹ\u001b[39m Use the conflicted package (\u001b[3m\u001b[34m<http://conflicted.r-lib.org/>\u001b[39m\u001b[23m) to force all conflicts to become errors\n",
      "Warning message:\n",
      "“package ‘gridExtra’ was built under R version 4.2.3”\n",
      "\n",
      "Attaching package: ‘gridExtra’\n",
      "\n",
      "\n",
      "The following object is masked from ‘package:dplyr’:\n",
      "\n",
      "    combine\n",
      "\n",
      "\n",
      "Warning message:\n",
      "“package ‘data.table’ was built under R version 4.2.2”\n",
      "\n",
      "Attaching package: ‘data.table’\n",
      "\n",
      "\n",
      "The following objects are masked from ‘package:lubridate’:\n",
      "\n",
      "    hour, isoweek, mday, minute, month, quarter, second, wday, week,\n",
      "    yday, year\n",
      "\n",
      "\n",
      "The following objects are masked from ‘package:dplyr’:\n",
      "\n",
      "    between, first, last\n",
      "\n",
      "\n",
      "The following object is masked from ‘package:purrr’:\n",
      "\n",
      "    transpose\n",
      "\n",
      "\n",
      "Warning message:\n",
      "“package ‘foreach’ was built under R version 4.2.3”\n",
      "\n",
      "Attaching package: ‘foreach’\n",
      "\n",
      "\n",
      "The following objects are masked from ‘package:purrr’:\n",
      "\n",
      "    accumulate, when\n",
      "\n",
      "\n"
     ]
    }
   ],
   "source": [
    "library(tidyverse)\n",
    "library(limma)\n",
    "\n",
    "# import plot functions\n",
    "source(\"../../evaluation_utils/plots/eda_plots.R\")\n",
    "source(\"../../evaluation_utils/filtering/filtering_normalization.R\")"
   ]
  },
  {
   "cell_type": "markdown",
   "metadata": {},
   "source": [
    "# Merge data"
   ]
  },
  {
   "cell_type": "code",
   "execution_count": 2,
   "metadata": {
    "vscode": {
     "languageId": "r"
    }
   },
   "outputs": [
    {
     "name": "stdout",
     "output_type": "stream",
     "text": [
      "\n",
      "\n",
      "Dataset:  balanced \n",
      "\tNumber of proteins:  3059 \n",
      "\tNumber of samples:  118 \n",
      "Filtering by condition - two not-NA per condition\n",
      "\tBefore filtering: 3059 118 \n",
      "\tAfter filtering: 2862 118 \n",
      "Filtering out features that have NAs in all columns\n",
      "\tBefore filtering: 2862 118 \n",
      "\tAfter filtering: 2862 118 \n"
     ]
    }
   ],
   "source": [
    "dataset = 'balanced'\n",
    "labs_list = c('lab_A', 'lab_B', 'lab_C', 'lab_D' , 'lab_E')  #\n",
    "\n",
    "path_to_reports = paste0('/home/yuliya/repos/cosybio/FedProt/data/bacterial_data/', dataset, '/')\n",
    "\n",
    "central_intensities = NULL\n",
    "central_counts = NULL\n",
    "central_batch_info = NULL\n",
    "\n",
    "for (name in labs_list) {\n",
    "batch_info = read_tsv(paste0(path_to_reports, name, '/metadata.tsv'), show_col_types = FALSE)\n",
    "intensities = read_tsv(paste0(path_to_reports, name, '/protein_groups_matrix.tsv'), show_col_types = FALSE)\n",
    "counts = read_tsv(paste0(path_to_reports, name, '/protein_counts.tsv'), show_col_types = FALSE)\n",
    "\n",
    "if(is.null(central_intensities)){\n",
    "    central_intensities = intensities\n",
    "    central_counts = counts\n",
    "    central_batch_info = batch_info\n",
    "} else {\n",
    "    central_intensities = full_join(central_intensities, intensities, by = 'rowname')\n",
    "    central_counts = full_join(central_counts, counts, by = 'rowname')\n",
    "    central_batch_info = rbind(central_batch_info, batch_info)\n",
    "}\n",
    "}\n",
    "\n",
    "cat('\\n\\nDataset: ', dataset, \"\\n\")\n",
    "cat('\\tNumber of proteins: ', nrow(central_intensities), '\\n')\n",
    "cat('\\tNumber of samples: ', ncol(central_intensities)-1, '\\n')\n",
    "\n",
    "central_intensities <- central_intensities %>% column_to_rownames('rowname')\n",
    "central_counts <- central_counts %>% column_to_rownames('rowname')\n",
    "central_intensities <- central_intensities[, central_batch_info$file]\n",
    "\n",
    "central_intensities <- filter_by_condition(central_intensities, central_batch_info, \n",
    "    'file', c('Glu', 'Pyr'), 'condition')\n",
    "central_intensities <- filter_na_proteins(central_intensities, central_batch_info, \"file\")\n",
    "\n",
    "# select minimal count across column for each protein (with na.rm = TRUE)\n",
    "central_counts$count <- apply(central_counts, 1, min, na.rm = TRUE)\n",
    "central_counts <- central_counts %>% select(count) %>% as.data.frame()\n",
    "\n",
    "# median norm\n",
    "# central_intensities <- medianNorm(central_intensities) %>% as.data.frame()\n",
    "\n",
    "central_intensities <- log2(central_intensities + 1)"
   ]
  },
  {
   "cell_type": "code",
   "execution_count": 3,
   "metadata": {
    "vscode": {
     "languageId": "r"
    }
   },
   "outputs": [],
   "source": [
    "# print all rows with QC in file\n",
    "central_batch_info <- central_batch_info %>% \n",
    "    #filter(grepl('QC', file)) \n",
    "    mutate(QC_condition =   \n",
    "        ifelse(file %in% c(\"CVT09_QC1_LabE_X023\"), 'QC4', \n",
    "        ifelse(file %in% c(\"CVT09_QC4_LabE_X026\"), 'QC3', \n",
    "        ifelse(file %in% c(\"CVT09_QC3_LabE_X025\"), 'QC1', \n",
    "            ifelse(grepl('QC1', file), 'QC1', \n",
    "            ifelse(grepl('QC2', file), 'QC2', \n",
    "            ifelse(grepl('QC3', file), 'QC3', \n",
    "            ifelse(grepl('QC4', file), 'QC4', \n",
    "                ifelse(file %in% c(\"BBM_673_P283_01_VEB_011\"), 'QC1', \n",
    "                ifelse(file %in% c(\"BBM_673_P283_01_VEB_012\"), 'QC2', \n",
    "                ifelse(file %in% c(\"BBM_673_P283_01_VEB_023\"), 'QC3', \n",
    "                ifelse(file %in% c(\"BBM_673_P283_01_VEB_024\"), 'QC4', condition))))))))))))\n",
    "\n",
    "\n",
    "central_batch_info <- central_batch_info %>%\n",
    "    mutate(lab = as.factor(lab), QC_condition = as.factor(QC_condition))"
   ]
  },
  {
   "cell_type": "code",
   "execution_count": 4,
   "metadata": {
    "vscode": {
     "languageId": "r"
    }
   },
   "outputs": [],
   "source": [
    "# write central_batch_info to file\n",
    "central_batch_info %>%\n",
    "    filter(!grepl('QC', QC_condition)) %>%\n",
    "    write_tsv(paste0(path_to_reports, 'metadata_short.tsv'))\n",
    "\n",
    "# same for each lab \n",
    "for(lab_ in labs_list){\n",
    "    lab_batch_info <- central_batch_info %>% filter(lab == lab_)\n",
    "    lab_batch_info %>%\n",
    "        filter(!grepl('QC', QC_condition)) %>%\n",
    "        write_tsv(paste0(path_to_reports, lab_, '/metadata_short.tsv'))\n",
    "}"
   ]
  },
  {
   "cell_type": "code",
   "execution_count": 5,
   "metadata": {
    "vscode": {
     "languageId": "r"
    }
   },
   "outputs": [
    {
     "name": "stderr",
     "output_type": "stream",
     "text": [
      "Warning message:\n",
      "“Partial NA coefficients for 590 probe(s)”\n"
     ]
    }
   ],
   "source": [
    "design <- model.matrix(~ condition, data = central_batch_info)\n",
    "pg_corrected <- removeBatchEffect(central_intensities, batch=central_batch_info$lab, design=design)\n"
   ]
  },
  {
   "cell_type": "code",
   "execution_count": 6,
   "metadata": {
    "vscode": {
     "languageId": "r"
    }
   },
   "outputs": [
    {
     "name": "stderr",
     "output_type": "stream",
     "text": [
      "Warning message:\n",
      "“\u001b[1m\u001b[22m`aes_string()` was deprecated in ggplot2 3.0.0.\n",
      "\u001b[36mℹ\u001b[39m Please use tidy evaluation idioms with `aes()`.\n",
      "\u001b[36mℹ\u001b[39m See also `vignette(\"ggplot2-in-packages\")` for more information.”\n"
     ]
    },
    {
     "data": {
      "image/png": "[encoded data removed]",
      "text/plain": [
       "plot without title"
      ]
     },
     "metadata": {
      "image/png": {
       "height": 300,
       "width": 360
      }
     },
     "output_type": "display_data"
    }
   ],
   "source": [
    "plot_pca <- pca_plot(pg_corrected, central_batch_info, \n",
    "    title=\"Bacterial dataset with QC samples\", quantitative_col_name='file', \n",
    "    col_col='QC_condition', shape_col='lab')\n",
    "\n",
    "options(repr.plot.width=6, repr.plot.height=5)\n",
    "plot_pca +\n",
    "    # change color of points to more color-blind friendly\n",
    "    scale_color_manual(values=c(\"#f8c9c9\", \"#c5c5c5\", \"#0068a5\",  \"#F0E442\", \"#009E73\", \"#ff9914\")) "
   ]
  },
  {
   "cell_type": "code",
   "execution_count": null,
   "metadata": {
    "vscode": {
     "languageId": "r"
    }
   },
   "outputs": [],
   "source": []
  }
 ],
 "metadata": {
  "kernelspec": {
   "display_name": "R",
   "language": "R",
   "name": "ir"
  },
  "language_info": {
   "codemirror_mode": "r",
   "file_extension": ".r",
   "mimetype": "text/x-r-source",
   "name": "R",
   "pygments_lexer": "r",
   "version": "4.2.0"
  }
 },
 "nbformat": 4,
 "nbformat_minor": 2
}
